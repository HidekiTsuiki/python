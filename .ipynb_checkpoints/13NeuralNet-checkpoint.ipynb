{
 "cells": [
  {
   "cell_type": "markdown",
   "id": "bc0beba9",
   "metadata": {},
   "source": [
    "# ニューラルネット\n",
    "\n",
    "Python は，豊富なライブラリを備えています。特に，ニューラルネットワークなどの機械学習のライブラリが充実しています。機械学習の仕組みの詳細を知らなくても，データを揃えてライブラリを呼び出せば，ある程度のことができる状態になっています。文字認識のニューラルネットを題材に，その使い方を説明します。"
   ]
  },
  {
   "cell_type": "markdown",
   "id": "e1f401f4",
   "metadata": {},
   "source": [
    "ニューラルネットのライブラリとしては，オープンソースのPyTorch が広く使われています。\n",
    "その前には、Google が開発したオープンソースのシステムである TensorFlow が有名でした。さらに，Tensorflow のニューラルネットワークを組むための高レベルのライブラリである Keras を用いると，見よう見まねで，ある程度の機械学習を行えます。"
   ]
  },
  {
   "cell_type": "markdown",
   "id": "7a13a41e",
   "metadata": {},
   "source": [
    "ここでは、Tensorflow と Keras を用いて説明をしますが、これから学習する人は、PyTorch を用いることをお勧めします。Tenforflow, Keras, それに、PyTorch も、\n",
    "標準でインストールされていません。pip を用いてインストールします。\n",
    "また、Tensorflow と Keras は、python のバージョンを 3.8 下げないとサポートされていない可能性があります。また、MacOS で動かすのに、幾つかエラーに対処する必要がありました。\n",
    "\n",
    "\n",
    "このソースは，以下のページからとってきたものを，説明用に加工したものです。\n",
    "このページの解説は十分によく書けているので，これを見て勉強してください。\n",
    "\n",
    "https://weblabo.oscasierra.net/python/keras-mnist-sample.html\n"
   ]
  },
  {
   "cell_type": "markdown",
   "id": "8135a979",
   "metadata": {},
   "source": [
    "ただし，場合によっては，python のバージョンを下げることが要求されます。\n",
    "それは，anaconda の画面からはできなそうで，conda コマンドで行います。\n",
    "```\n",
    "conda info -e       environment を見ます。\n",
    "conda activate mnist    mnist にデフォルトの environment を変えます。\n",
    "conda install python=3.7   python のバージョンを 3.7 に下げます。\n",
    "conda install tensorflow   tenforflow のインストール\n",
    "```"
   ]
  },
  {
   "cell_type": "code",
   "execution_count": null,
   "id": "f175872e",
   "metadata": {},
   "outputs": [],
   "source": [
    "import keras\n",
    "from keras.datasets import mnist\n",
    "from keras.models import Sequential\n",
    "from keras.layers import Dense, Dropout, InputLayer\n",
    "from keras.optimizers import RMSprop"
   ]
  },
  {
   "cell_type": "code",
   "execution_count": 2,
   "id": "d8864bbf",
   "metadata": {},
   "outputs": [],
   "source": [
    "# MNISTデータを読込む\n",
    "(raw_x_train, raw_y_train), (raw_x_test, raw_y_test) = mnist.load_data()"
   ]
  },
  {
   "cell_type": "markdown",
   "id": "2485fecc",
   "metadata": {},
   "source": [
    "mnist は，手書きの数字のテストデータとして広く使われているデータです。mnist モジュールのload_data() の呼び出しで，ネットからダウンロードされ，トレーニング用，テスト用のデータに分けられます。"
   ]
  },
  {
   "cell_type": "code",
   "execution_count": 3,
   "id": "c9b13028",
   "metadata": {},
   "outputs": [
    {
     "name": "stdout",
     "output_type": "stream",
     "text": [
      "<class 'numpy.ndarray'> (60000, 28, 28) uint8\n",
      "<class 'numpy.ndarray'> (60000,) uint8\n",
      "<class 'numpy.ndarray'> (10000, 28, 28) uint8\n",
      "<class 'numpy.ndarray'> (10000,) uint8\n"
     ]
    }
   ],
   "source": [
    "print(type(raw_x_train), raw_x_train.shape, raw_x_train.dtype)\n",
    "print(type(raw_y_train), raw_y_train.shape, raw_y_train.dtype)\n",
    "print(type(raw_x_test), raw_x_test.shape, raw_x_test.dtype)\n",
    "print(type(raw_y_test), raw_y_test.shape, raw_y_test.dtype)"
   ]
  },
  {
   "cell_type": "markdown",
   "id": "ced4cd65",
   "metadata": {},
   "source": [
    "このように，raw_x_train, raw_x_test には，28x28 の unit 8 の配列がそれぞれ 60000, 10000 枚はいっています。これらが手書きの画像です。unit 8 は，符号なしビットビット整数(0 から 255 まで) です。\n",
    "\n",
    "raw_y_train, raw_y_test には，unit8 の数が入っています。これは，0 から 9 までのどの文字かを表しています。\n",
    "\n",
    "次のようにして Pillow で表示できます。\n",
    "（pillow はインストールされていないなら，インストールしましょう。）"
   ]
  },
  {
   "cell_type": "code",
   "execution_count": 27,
   "id": "9a01ce89",
   "metadata": {},
   "outputs": [
    {
     "name": "stdout",
     "output_type": "stream",
     "text": [
      "1\n"
     ]
    }
   ],
   "source": [
    "import numpy as np\n",
    "import PIL.Image as Image\n",
    "\n",
    "# 文字表示\n",
    "def show(img):\n",
    "    img = Image.fromarray(np.uint8(img))\n",
    "    img.show()\n",
    "    \n",
    "show(raw_x_train[104]) \n",
    "print(raw_y_train[104])"
   ]
  },
  {
   "cell_type": "markdown",
   "id": "ca348a72",
   "metadata": {},
   "source": [
    "この形では，ニューラルネットは扱えないので，次のように加工します。\n",
    "画像は，0 から 1 の実数を 784 (28x28) 個並べた形にします。\n",
    "正解データは，その部分だけが 1 の実数データにします（one-hot 表現）。"
   ]
  },
  {
   "cell_type": "code",
   "execution_count": 32,
   "id": "16d0123d",
   "metadata": {},
   "outputs": [],
   "source": [
    "x_train  = raw_x_train.reshape(60000, 784)\n",
    "x_test   = raw_x_test.reshape(10000, 784)\n",
    "x_train  = x_train.astype('float32')\n",
    "x_test   = x_test.astype('float32')\n",
    "x_train /= 255\n",
    "x_test  /= 255\n",
    "y_train  = keras.utils.to_categorical(raw_y_train, 10)\n",
    "y_test   = keras.utils.to_categorical(raw_y_test, 10)"
   ]
  },
  {
   "cell_type": "code",
   "execution_count": 33,
   "id": "74490b05",
   "metadata": {},
   "outputs": [
    {
     "name": "stdout",
     "output_type": "stream",
     "text": [
      "<class 'numpy.ndarray'> (60000, 784) float32\n",
      "<class 'numpy.ndarray'> (60000, 10) float32\n"
     ]
    }
   ],
   "source": [
    "print(type(x_train), x_train.shape, x_train.dtype)\n",
    "print(type(y_train), y_train.shape, y_train.dtype)"
   ]
  },
  {
   "cell_type": "code",
   "execution_count": 34,
   "id": "dc7fdea4",
   "metadata": {
    "scrolled": true
   },
   "outputs": [
    {
     "name": "stdout",
     "output_type": "stream",
     "text": [
      "[0.         0.         0.         0.         0.         0.\n",
      " 0.         0.         0.         0.         0.         0.\n",
      " 0.         0.         0.         0.         0.         0.\n",
      " 0.         0.         0.         0.         0.         0.\n",
      " 0.         0.         0.         0.         0.         0.\n",
      " 0.         0.         0.         0.         0.         0.\n",
      " 0.         0.         0.         0.         0.         0.\n",
      " 0.         0.         0.         0.         0.         0.\n",
      " 0.         0.         0.         0.         0.01176471 0.07058824\n",
      " 0.07058824 0.07058824 0.49411765 0.53333336 0.6862745  0.10196079\n",
      " 0.6509804  1.         0.96862745 0.49803922 0.         0.\n",
      " 0.         0.         0.         0.         0.         0.\n",
      " 0.         0.         0.         0.         0.11764706 0.14117648\n",
      " 0.36862746 0.6039216  0.6666667  0.99215686 0.99215686 0.99215686\n",
      " 0.99215686 0.99215686 0.88235295 0.6745098  0.99215686 0.9490196\n",
      " 0.7647059  0.2509804  0.         0.         0.         0.\n",
      " 0.         0.         0.         0.        ]\n"
     ]
    }
   ],
   "source": [
    "print(x_train[0][100:200])"
   ]
  },
  {
   "cell_type": "code",
   "execution_count": 35,
   "id": "5999f1bd",
   "metadata": {},
   "outputs": [
    {
     "name": "stdout",
     "output_type": "stream",
     "text": [
      "[0. 0. 0. 0. 0. 1. 0. 0. 0. 0.]\n"
     ]
    }
   ],
   "source": [
    "print(y_train[0])"
   ]
  },
  {
   "cell_type": "markdown",
   "id": "e38df9c7",
   "metadata": {},
   "source": [
    "ニューラルネットをモデルとして組みます。\n",
    "最初は，入力層と出力層だけがあり，それが，全結合でつながったもので試しましょう。"
   ]
  },
  {
   "cell_type": "code",
   "execution_count": 36,
   "id": "431eb880",
   "metadata": {},
   "outputs": [],
   "source": [
    "# モデルの構築\n",
    "model = Sequential()\n",
    "model.add(InputLayer(input_shape=(784,)))\n",
    "#model.add(Dense(128, activation='relu'))\n",
    "model.add(Dense(10, activation='softmax'))\n",
    "model.compile(loss='categorical_crossentropy', optimizer='rmsprop', metrics=['accuracy'])\n"
   ]
  },
  {
   "cell_type": "markdown",
   "id": "2b8b1b54",
   "metadata": {},
   "source": [
    "model.fit により，学習を行いましょう。データを batch_size で指定された長さのバッチに分けて，バッチごとに学習します。学習は行列計算で実現されるので，ある程度の量のデータを一度に処理した方が効率が出ます。\n",
    "\n",
    "全データに対する学習を，epochs で指定された回数繰り返します。\n",
    "繰り返すごとに，性能があがっていきます。loss の値が下がり，accuracy の値が上がっていきます。"
   ]
  },
  {
   "cell_type": "code",
   "execution_count": 37,
   "id": "fa03a1ce",
   "metadata": {},
   "outputs": [
    {
     "name": "stdout",
     "output_type": "stream",
     "text": [
      "Epoch 1/20\n",
      "469/469 [==============================] - 2s 2ms/step - loss: 0.6056 - accuracy: 0.8483 - val_loss: 0.3428 - val_accuracy: 0.9081\n",
      "Epoch 2/20\n",
      "469/469 [==============================] - 1s 1ms/step - loss: 0.3317 - accuracy: 0.9076 - val_loss: 0.3011 - val_accuracy: 0.9163\n",
      "Epoch 3/20\n",
      "469/469 [==============================] - 1s 2ms/step - loss: 0.3034 - accuracy: 0.9163 - val_loss: 0.2875 - val_accuracy: 0.9200\n",
      "Epoch 4/20\n",
      "469/469 [==============================] - 1s 2ms/step - loss: 0.2905 - accuracy: 0.9196 - val_loss: 0.2802 - val_accuracy: 0.9223\n",
      "Epoch 5/20\n",
      "469/469 [==============================] - 1s 1ms/step - loss: 0.2824 - accuracy: 0.9216 - val_loss: 0.2759 - val_accuracy: 0.9236\n",
      "Epoch 6/20\n",
      "469/469 [==============================] - 1s 1ms/step - loss: 0.2769 - accuracy: 0.9229 - val_loss: 0.2735 - val_accuracy: 0.9249\n",
      "Epoch 7/20\n",
      "469/469 [==============================] - 1s 1ms/step - loss: 0.2730 - accuracy: 0.9246 - val_loss: 0.2693 - val_accuracy: 0.9259\n",
      "Epoch 8/20\n",
      "469/469 [==============================] - 1s 1ms/step - loss: 0.2697 - accuracy: 0.9252 - val_loss: 0.2692 - val_accuracy: 0.9253\n",
      "Epoch 9/20\n",
      "469/469 [==============================] - 1s 1ms/step - loss: 0.2672 - accuracy: 0.9263 - val_loss: 0.2683 - val_accuracy: 0.9257\n",
      "Epoch 10/20\n",
      "469/469 [==============================] - 1s 1ms/step - loss: 0.2648 - accuracy: 0.9276 - val_loss: 0.2654 - val_accuracy: 0.9271\n",
      "Epoch 11/20\n",
      "469/469 [==============================] - 1s 2ms/step - loss: 0.2628 - accuracy: 0.9279 - val_loss: 0.2677 - val_accuracy: 0.9257\n",
      "Epoch 12/20\n",
      "469/469 [==============================] - 1s 2ms/step - loss: 0.2611 - accuracy: 0.9285 - val_loss: 0.2665 - val_accuracy: 0.9269\n",
      "Epoch 13/20\n",
      "469/469 [==============================] - 1s 1ms/step - loss: 0.2595 - accuracy: 0.9289 - val_loss: 0.2659 - val_accuracy: 0.9269\n",
      "Epoch 14/20\n",
      "469/469 [==============================] - 1s 2ms/step - loss: 0.2582 - accuracy: 0.9296 - val_loss: 0.2664 - val_accuracy: 0.9264\n",
      "Epoch 15/20\n",
      "469/469 [==============================] - 1s 1ms/step - loss: 0.2573 - accuracy: 0.9299 - val_loss: 0.2642 - val_accuracy: 0.9280\n",
      "Epoch 16/20\n",
      "469/469 [==============================] - 1s 1ms/step - loss: 0.2560 - accuracy: 0.9300 - val_loss: 0.2660 - val_accuracy: 0.9268\n",
      "Epoch 17/20\n",
      "469/469 [==============================] - 1s 1ms/step - loss: 0.2550 - accuracy: 0.9307 - val_loss: 0.2641 - val_accuracy: 0.9268\n",
      "Epoch 18/20\n",
      "469/469 [==============================] - 1s 1ms/step - loss: 0.2542 - accuracy: 0.9310 - val_loss: 0.2650 - val_accuracy: 0.9277\n",
      "Epoch 19/20\n",
      "469/469 [==============================] - 1s 2ms/step - loss: 0.2532 - accuracy: 0.9314 - val_loss: 0.2647 - val_accuracy: 0.9284\n",
      "Epoch 20/20\n",
      "469/469 [==============================] - 1s 2ms/step - loss: 0.2524 - accuracy: 0.9314 - val_loss: 0.2644 - val_accuracy: 0.9274\n"
     ]
    }
   ],
   "source": [
    "# 学習\n",
    "epochs = 20\n",
    "batch_size = 128\n",
    "history = model.fit(x_train, y_train, batch_size=batch_size, epochs=epochs, verbose=1, validation_data=(x_test, y_test))\n"
   ]
  },
  {
   "cell_type": "markdown",
   "id": "ed704953",
   "metadata": {},
   "source": [
    "テストデータで検証します。"
   ]
  },
  {
   "cell_type": "code",
   "execution_count": 38,
   "id": "417316f0",
   "metadata": {},
   "outputs": [
    {
     "name": "stdout",
     "output_type": "stream",
     "text": [
      "313/313 [==============================] - 0s 1ms/step - loss: 0.2644 - accuracy: 0.9274\n",
      "\n",
      "Test loss: 0.26435422897338867\n",
      "Test accuracy: 0.9273999929428101\n"
     ]
    }
   ],
   "source": [
    "\n",
    "# 検証\n",
    "score = model.evaluate(x_test, y_test, verbose=1)\n",
    "print()\n",
    "print('Test loss:', score[0])\n",
    "print('Test accuracy:', score[1])\n"
   ]
  },
  {
   "cell_type": "code",
   "execution_count": 39,
   "id": "ab571fd5",
   "metadata": {},
   "outputs": [],
   "source": [
    "show(raw_x_test[0]) \n"
   ]
  },
  {
   "cell_type": "code",
   "execution_count": 45,
   "id": "d9d139bc",
   "metadata": {},
   "outputs": [
    {
     "data": {
      "text/plain": [
       "array([7, 2, 1, ..., 4, 5, 6])"
      ]
     },
     "execution_count": 45,
     "metadata": {},
     "output_type": "execute_result"
    }
   ],
   "source": [
    "np.argmax(p, axis=1)"
   ]
  },
  {
   "cell_type": "code",
   "execution_count": 47,
   "id": "ebf06247",
   "metadata": {
    "scrolled": true
   },
   "outputs": [
    {
     "name": "stdout",
     "output_type": "stream",
     "text": [
      "313/313 [==============================] - 0s 988us/step\n",
      "[7 2 1 0 4 1 4 9 6 9 0 6 9 0 1 5 9 7 3 4 9 6 6 5 4 0 7 4 0 1 3 1 3 6 7 2 7\n",
      " 1 2 1 1 7 4 2 3 5 1 2 4 4 6 3 5 5 6 0 4 1 9 5 7 8 9 2 7 4 2 4 3 0 7 0 2 9\n",
      " 1 7 3 2 9 7 7 6 2 7 8 4 7 3 6 1 3 6 9 3 1 4 1 7 6 9]\n",
      "[7 2 1 0 4 1 4 9 5 9 0 6 9 0 1 5 9 7 3 4 9 6 6 5 4 0 7 4 0 1 3 1 3 4 7 2 7\n",
      " 1 2 1 1 7 4 2 3 5 1 2 4 4 6 3 5 5 6 0 4 1 9 5 7 8 9 3 7 4 6 4 3 0 7 0 2 9\n",
      " 1 7 3 2 9 7 7 6 2 7 8 4 7 3 6 1 3 6 9 3 1 4 1 7 6 9]\n"
     ]
    },
    {
     "data": {
      "text/plain": [
       "[8, 33, 63, 66]"
      ]
     },
     "execution_count": 47,
     "metadata": {},
     "output_type": "execute_result"
    }
   ],
   "source": [
    "p = model.predict(x_test)\n",
    "ans = np.argmax(p, axis=1)\n",
    "print(ans[0:100])   # AI の答え\n",
    "\n",
    "print(raw_y_test[0:100]) # 正解\n",
    "[i for i in range(100) if (ans[i] != raw_y_test[i])]\n"
   ]
  },
  {
   "cell_type": "code",
   "execution_count": 53,
   "id": "ae17aa65",
   "metadata": {},
   "outputs": [
    {
     "name": "stdout",
     "output_type": "stream",
     "text": [
      "正解=5, AIの答え=6\n"
     ]
    }
   ],
   "source": [
    "a = 8\n",
    "show(raw_x_test[a])\n",
    "print(f\"正解={raw_y_test[a]}, AIの答え={ans[a]}\")"
   ]
  },
  {
   "cell_type": "markdown",
   "id": "20222b94",
   "metadata": {},
   "source": [
    "ネットワークを組み替えて，より高機能にしましょう。具体的には，モデルに中間層として，全結合で，relu という活性化関数をもったものを追加します。層のセルの数は 128 にしましたが，これが最適かどうかは分かりません。いろんなパラメータ（ハイパーパラメータといいます）を経験に基づいて設定していく必要があります。"
   ]
  },
  {
   "cell_type": "code",
   "execution_count": 55,
   "id": "67e7ab91",
   "metadata": {},
   "outputs": [
    {
     "name": "stdout",
     "output_type": "stream",
     "text": [
      "Epoch 1/20\n",
      "469/469 [==============================] - 2s 2ms/step - loss: 0.3361 - accuracy: 0.9082 - val_loss: 0.1944 - val_accuracy: 0.9424\n",
      "Epoch 2/20\n",
      "469/469 [==============================] - 1s 2ms/step - loss: 0.1613 - accuracy: 0.9539 - val_loss: 0.1360 - val_accuracy: 0.9596\n",
      "Epoch 3/20\n",
      "469/469 [==============================] - 1s 2ms/step - loss: 0.1132 - accuracy: 0.9669 - val_loss: 0.1085 - val_accuracy: 0.9680\n",
      "Epoch 4/20\n",
      "469/469 [==============================] - 1s 2ms/step - loss: 0.0885 - accuracy: 0.9746 - val_loss: 0.0952 - val_accuracy: 0.9725\n",
      "Epoch 5/20\n",
      "469/469 [==============================] - 1s 2ms/step - loss: 0.0706 - accuracy: 0.9793 - val_loss: 0.0826 - val_accuracy: 0.9751\n",
      "Epoch 6/20\n",
      "469/469 [==============================] - 1s 2ms/step - loss: 0.0596 - accuracy: 0.9825 - val_loss: 0.0943 - val_accuracy: 0.9725\n",
      "Epoch 7/20\n",
      "469/469 [==============================] - 1s 2ms/step - loss: 0.0503 - accuracy: 0.9855 - val_loss: 0.0808 - val_accuracy: 0.9767\n",
      "Epoch 8/20\n",
      "469/469 [==============================] - 1s 2ms/step - loss: 0.0429 - accuracy: 0.9876 - val_loss: 0.0739 - val_accuracy: 0.9785\n",
      "Epoch 9/20\n",
      "469/469 [==============================] - 1s 2ms/step - loss: 0.0371 - accuracy: 0.9889 - val_loss: 0.0718 - val_accuracy: 0.9789\n",
      "Epoch 10/20\n",
      "469/469 [==============================] - 1s 2ms/step - loss: 0.0316 - accuracy: 0.9910 - val_loss: 0.0748 - val_accuracy: 0.9780\n",
      "Epoch 11/20\n",
      "469/469 [==============================] - 1s 2ms/step - loss: 0.0272 - accuracy: 0.9926 - val_loss: 0.0721 - val_accuracy: 0.9798\n",
      "Epoch 12/20\n",
      "469/469 [==============================] - 1s 2ms/step - loss: 0.0238 - accuracy: 0.9937 - val_loss: 0.0700 - val_accuracy: 0.9780\n",
      "Epoch 13/20\n",
      "469/469 [==============================] - 1s 2ms/step - loss: 0.0204 - accuracy: 0.9947 - val_loss: 0.0733 - val_accuracy: 0.9789\n",
      "Epoch 14/20\n",
      "469/469 [==============================] - 1s 2ms/step - loss: 0.0177 - accuracy: 0.9955 - val_loss: 0.0763 - val_accuracy: 0.9773\n",
      "Epoch 15/20\n",
      "469/469 [==============================] - 1s 2ms/step - loss: 0.0151 - accuracy: 0.9965 - val_loss: 0.0750 - val_accuracy: 0.9784\n",
      "Epoch 16/20\n",
      "469/469 [==============================] - 1s 2ms/step - loss: 0.0126 - accuracy: 0.9969 - val_loss: 0.0765 - val_accuracy: 0.9798\n",
      "Epoch 17/20\n",
      "469/469 [==============================] - 1s 2ms/step - loss: 0.0110 - accuracy: 0.9977 - val_loss: 0.0714 - val_accuracy: 0.9805\n",
      "Epoch 18/20\n",
      "469/469 [==============================] - 1s 2ms/step - loss: 0.0093 - accuracy: 0.9980 - val_loss: 0.0768 - val_accuracy: 0.9799\n",
      "Epoch 19/20\n",
      "469/469 [==============================] - 1s 2ms/step - loss: 0.0080 - accuracy: 0.9984 - val_loss: 0.0804 - val_accuracy: 0.9801\n",
      "Epoch 20/20\n",
      "469/469 [==============================] - 1s 2ms/step - loss: 0.0069 - accuracy: 0.9987 - val_loss: 0.0782 - val_accuracy: 0.9794\n",
      "313/313 [==============================] - 0s 1ms/step - loss: 0.0782 - accuracy: 0.9794\n",
      "\n",
      "Test loss: 0.07815398275852203\n",
      "Test accuracy: 0.9793999791145325\n"
     ]
    }
   ],
   "source": [
    "# モデルの構築\n",
    "model2 = Sequential()\n",
    "model2.add(InputLayer(input_shape=(784,)))\n",
    "model2.add(Dense(128, activation='relu'))   # この行!!\n",
    "model2.add(Dense(10, activation='softmax'))\n",
    "model2.compile(loss='categorical_crossentropy', optimizer='rmsprop', metrics=['accuracy'])\n",
    "\n",
    "# 学習\n",
    "epochs = 20\n",
    "batch_size = 128\n",
    "history2 = model2.fit(x_train, y_train, batch_size=batch_size, epochs=epochs, verbose=1, validation_data=(x_test, y_test))\n",
    "\n",
    "\n",
    "# 検証\n",
    "score = model2.evaluate(x_test, y_test, verbose=1)\n",
    "print()\n",
    "print('Test loss:', score[0])\n",
    "print('Test accuracy:', score[1])\n"
   ]
  },
  {
   "cell_type": "markdown",
   "id": "13f4f191",
   "metadata": {},
   "source": [
    "先程より，さらに結果がよくなりました。\n",
    "\n",
    "学習の過程は，model.fit の返り値(history および history2) に格納されています。\n",
    "学習過程において，loss (損失値，この値が低いほどよい) と val_loss (テストデータに対する損失値)の値がどう変化したかをグラフ化します。\n",
    "このコードは，次のページからとってきました。\n",
    "\n",
    "https://weblabo.oscasierra.net/python/keras-mnist-sample.html"
   ]
  },
  {
   "cell_type": "code",
   "execution_count": 56,
   "id": "ab845adc",
   "metadata": {},
   "outputs": [
    {
     "data": {
      "image/png": "[encoded data removed]",
      "text/plain": [
       "<Figure size 640x480 with 1 Axes>"
      ]
     },
     "metadata": {},
     "output_type": "display_data"
    }
   ],
   "source": [
    "import matplotlib.pyplot as plt\n",
    "\n",
    "loss     = history.history['loss']\n",
    "val_loss = history.history['val_loss']\n",
    "\n",
    "nb_epoch = len(loss)\n",
    "plt.plot(range(nb_epoch), loss,     marker='.', label='loss')\n",
    "plt.plot(range(nb_epoch), val_loss, marker='.', label='val_loss')\n",
    "plt.legend(loc='best', fontsize=10)\n",
    "plt.grid()\n",
    "plt.xlabel('epoch')\n",
    "plt.ylabel('loss')\n",
    "plt.show()"
   ]
  },
  {
   "cell_type": "markdown",
   "id": "8ccb7957",
   "metadata": {},
   "source": [
    "val_loss の値は，一度下がってからまた少し上がっているようです。これは，過学習している（すなわち，訓練データに合わせすぎて汎用性がなくなってきている）と思われます。\n",
    "\n",
    "history2 も重ねてみましょう。"
   ]
  },
  {
   "cell_type": "code",
   "execution_count": 57,
   "id": "8cf2c992",
   "metadata": {},
   "outputs": [
    {
     "data": {
      "image/png": "[encoded data removed]",
      "text/plain": [
       "<Figure size 640x480 with 1 Axes>"
      ]
     },
     "metadata": {},
     "output_type": "display_data"
    }
   ],
   "source": [
    "import matplotlib.pyplot as plt\n",
    "\n",
    "loss     = history.history['loss']\n",
    "val_loss = history.history['val_loss']\n",
    "loss2     = history2.history['loss']\n",
    "val_loss2 = history2.history['val_loss']\n",
    "\n",
    "nb_epoch = len(loss)\n",
    "plt.plot(range(nb_epoch), loss,     marker='.', label='loss')\n",
    "plt.plot(range(nb_epoch), val_loss, marker='.', label='val_loss')\n",
    "plt.plot(range(nb_epoch), loss2,     marker='.', label='loss2')\n",
    "plt.plot(range(nb_epoch), val_loss2, marker='.', label='val_loss2')\n",
    "plt.legend(loc='best', fontsize=10)\n",
    "plt.grid()\n",
    "plt.xlabel('epoch')\n",
    "plt.ylabel('loss')\n",
    "plt.show()"
   ]
  },
  {
   "cell_type": "markdown",
   "id": "293cf30b",
   "metadata": {},
   "source": [
    "訓練データに対しては値がどんどんよくなっているのに，テストデータに対しては悪くなってきているのは，過学習の特徴です。"
   ]
  },
  {
   "cell_type": "code",
   "execution_count": 61,
   "id": "e838f2f0",
   "metadata": {},
   "outputs": [
    {
     "name": "stdout",
     "output_type": "stream",
     "text": [
      "313/313 [==============================] - 0s 922us/step\n",
      "726\n",
      "10000\n",
      "313/313 [==============================] - 0s 980us/step\n",
      "206\n",
      "10000\n"
     ]
    }
   ],
   "source": [
    "p = np.argmax(model.predict(x_test), axis=1)\n",
    "print(len(list (filter (lambda x: x[0]!=x[1], (zip(p, raw_y_test))))))\n",
    "print(len(p))\n",
    "p2 = np.argmax(model2.predict(x_test), axis=1)\n",
    "print(len(list (filter (lambda x: x[0]!=x[1], (zip(p2, raw_y_test))))))\n",
    "print(len(p2))"
   ]
  },
  {
   "cell_type": "code",
   "execution_count": null,
   "id": "d3f13a0b",
   "metadata": {},
   "outputs": [],
   "source": []
  }
 ],
 "metadata": {
  "kernelspec": {
   "display_name": "Python 3 (ipykernel)",
   "language": "python",
   "name": "python3"
  },
  "language_info": {
   "codemirror_mode": {
    "name": "ipython",
    "version": 3
   },
   "file_extension": ".py",
   "mimetype": "text/x-python",
   "name": "python",
   "nbconvert_exporter": "python",
   "pygments_lexer": "ipython3",
   "version": "3.10.8"
  }
 },
 "nbformat": 4,
 "nbformat_minor": 5
}
