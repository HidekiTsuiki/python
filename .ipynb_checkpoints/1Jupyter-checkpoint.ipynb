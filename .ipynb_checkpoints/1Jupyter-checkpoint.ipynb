{
 "cells": [
  {
   "cell_type": "markdown",
   "metadata": {},
   "source": [
    "# 第1回 jupyter notebook の使い方\n"
   ]
  },
  {
   "cell_type": "markdown",
   "metadata": {},
   "source": [
    "\n",
    "# jupyter notebook に慣れる\n",
    "\n",
    "jupyter lab (あるいは，Jupyter notebook)は，python などのプログラムを埋め込まれたテキストを作るための環境です。\n",
    "その中でプログラムを編集し，実行することもできます。ですから，プログラムを作成し，実行しながら，その履歴をテキストとして残すことができます。\n",
    "\n",
    "Markdown という簡単なマークアップ言語の機能があるので，簡単に見栄えのある文章を作ることができます。\n",
    "このドキュメントもjupyter labや jupyter notebook でプログラムを実行しながら学べるように作られています。\n",
    "\n"
   ]
  },
  {
   "cell_type": "markdown",
   "metadata": {},
   "source": [
    "## プログラムの実行。\n",
    "\n",
    "jupyter lab では，対話的環境の中で Python プログラムを動かすことができます。\n",
    "計算させたい式をCode 用のセル（[1] といった番号が左についています）に書き，Shift + Return を押すと，そのセルが実行されて，結果得られた値が次の行に表示されます。"
   ]
  },
  {
   "cell_type": "code",
   "execution_count": 1,
   "metadata": {},
   "outputs": [
    {
     "data": {
      "text/plain": [
       "9"
      ]
     },
     "execution_count": 1,
     "metadata": {},
     "output_type": "execute_result"
    }
   ],
   "source": [
    "2+3+4"
   ]
  },
  {
   "cell_type": "markdown",
   "metadata": {},
   "source": [
    "**練習問題** 上のセルの `2*3` の所を，いろんな式に変えて実行してみよう。\n",
    "\n",
    "「練習問題」と書いていなくても，本文中に説明されたことを確認するように，自由にこのファイルの内容を書き換えながら，自分の理解を深めてください。"
   ]
  },
  {
   "cell_type": "markdown",
   "metadata": {},
   "source": [
    "Shift + Return の代わりに， 左にある右三角ボタンを押しても実行できます。\n",
    "\n",
    "`+, *, -, /` の四則演算の他に`**` によるべき乗も計算できます。\n",
    "割り算に関しては，整数の範囲での切り捨ての割り算 `//` と，結果を実数として返す割り算 `/` があります。また，% は，割り算の余りを計算する演算子です。\n"
   ]
  },
  {
   "cell_type": "markdown",
   "metadata": {},
   "source": [
    "一つのセルに複数の式を書くと、順に実行されて、最後の実行の結果だけが表示されます。各行には、`2*3` のような値を求めたい「式」だけでなく、コンピュータに対する命令に相当する「文」も書けます。例えば、print(式) という文で、式の値を表示させることができます。"
   ]
  },
  {
   "cell_type": "code",
   "execution_count": 5,
   "metadata": {},
   "outputs": [
    {
     "name": "stdout",
     "output_type": "stream",
     "text": [
      "5\n"
     ]
    }
   ],
   "source": [
    "print(2+3)"
   ]
  },
  {
   "cell_type": "code",
   "execution_count": 7,
   "metadata": {},
   "outputs": [
    {
     "name": "stdout",
     "output_type": "stream",
     "text": [
      "5\n",
      "6\n",
      "0.6666666666666666\n",
      "0\n"
     ]
    },
    {
     "data": {
      "text/plain": [
       "14"
      ]
     },
     "execution_count": 7,
     "metadata": {},
     "output_type": "execute_result"
    }
   ],
   "source": [
    "print(2+3)\n",
    "print(2*3)\n",
    "print(2/3)\n",
    "print(2//3)\n",
    "2*(3+4)"
   ]
  },
  {
   "cell_type": "markdown",
   "metadata": {},
   "source": [
    "自分で新しいセルを作るには，+ マークのボタンを押します。セルの左端のゴミ箱で不要なセルは削除します。\n",
    "\n",
    "`+, *` などの演算を示す記号のことを演算子といいます。演算子には結合力の強さ関係があって，結合力の強いものから先に計算します。`+` より `*` の方が結合力が強いので，`2+3*4` は `2+(3*4)` を意味し，`(2+3)*4` を意味させるには括弧を使います。\n",
    "\n",
    "\n",
    "**練習問題** 新しいセルを作り，そこで　2 の 2 乗を計算してみよう。さらにそれを2乗，さらにそれを2乗 した数を求めよう。`((((2**2)**2)**2)...` というのをどんどん続けて，だいたいの桁数の増え方の法則を考えよう。１画面分に相当する\n",
    "数字の列になるのは，何回繰り返したあたりか。\n"
   ]
  },
  {
   "cell_type": "markdown",
   "metadata": {},
   "source": [
    "`#` で始まる行はコメントです。\n",
    "下のセルで，`#` を一つづつ消して，コメントをはずして実行してみてください。"
   ]
  },
  {
   "cell_type": "code",
   "execution_count": 36,
   "metadata": {},
   "outputs": [],
   "source": [
    "#2**2\n",
    "#2**(2**2)\n",
    "#2**(2**(2**2))\n",
    "#2**(2**(2**(2**2)))\n",
    "#2**(2**(2**(2**(2**2))))\n",
    "\n",
    "\n"
   ]
  },
  {
   "cell_type": "markdown",
   "metadata": {},
   "source": [
    "4 行目は，int の値を 10 進数の文字列にして画面表示するところで，あまりに文字数が多すぎて，エラーが起きたと思います。\n",
    "5 行目の計算は，あまりに数が大きすぎて，計算がとまらないと思います。\n",
    "□が表示されているのは、計算が止まっていない印です。□をクリックしたら実行を止めることができます。\n",
    "\n",
    "**練習問題** 今度は，`(2**(2**2)), (2**(2**(2**2))), (2**(2**(2**...2)))` というのをどんどん計算していくと、どれくらいのスピードで数が大きくなっていくか考えよう。$2^{10}$ は 1024 で，約 1000，すなわち $10^3$ である。それから，`(2**(2**(2**(2**2))))` は約何桁と考えられるか？\n",
    "\n"
   ]
  },
  {
   "cell_type": "markdown",
   "metadata": {},
   "source": [
    "## 変数\n",
    "\n",
    "**変数**とは，値を記憶する場所です。変数には，変数名という名前をつけます。\n",
    "日本語文字も大丈夫です。\n",
    "変数に値を記憶することを，**代入**といいます。代入は，\n",
    "\n",
    "```変数名 = 値```\n",
    "\n",
    "と，= を用いて行います。\n",
    "代入文は値を持たないので， 実行しても，値は表示されません。\n",
    "\n",
    "変数名がプログラム中で現れると，それは，その変数に記憶された値を意味します。\n",
    "まだ代入が行われていない名前を使おうとすると，エラーが起こります。"
   ]
  },
  {
   "cell_type": "code",
   "execution_count": 38,
   "metadata": {},
   "outputs": [],
   "source": [
    "x = 7\n",
    "あ=2+3\n"
   ]
  },
  {
   "cell_type": "code",
   "execution_count": 39,
   "metadata": {},
   "outputs": [
    {
     "data": {
      "text/plain": [
       "7"
      ]
     },
     "execution_count": 39,
     "metadata": {},
     "output_type": "execute_result"
    }
   ],
   "source": [
    "x"
   ]
  },
  {
   "cell_type": "code",
   "execution_count": 40,
   "metadata": {},
   "outputs": [],
   "source": [
    "total = x+あ"
   ]
  },
  {
   "cell_type": "code",
   "execution_count": 42,
   "metadata": {},
   "outputs": [
    {
     "name": "stdout",
     "output_type": "stream",
     "text": [
      "5\n"
     ]
    },
    {
     "data": {
      "text/plain": [
       "12"
      ]
     },
     "execution_count": 42,
     "metadata": {},
     "output_type": "execute_result"
    }
   ],
   "source": [
    "print(あ)\n",
    "total\n"
   ]
  },
  {
   "cell_type": "markdown",
   "metadata": {},
   "source": [
    " 2**(2**(2**(2**2))) は，値が大きすぎて画面に文字列として表示できないだけで，python はこの計算を行っています。\n",
    " "
   ]
  },
  {
   "cell_type": "code",
   "execution_count": 48,
   "metadata": {},
   "outputs": [
    {
     "name": "stdout",
     "output_type": "stream",
     "text": [
      "1\n"
     ]
    }
   ],
   "source": [
    "x = 2**(2**(2**(2**2)))\n",
    "print(x // x)"
   ]
  },
  {
   "cell_type": "code",
   "execution_count": 43,
   "metadata": {},
   "outputs": [
    {
     "ename": "NameError",
     "evalue": "name 'notyet' is not defined",
     "output_type": "error",
     "traceback": [
      "\u001b[0;31m---------------------------------------------------------------------------\u001b[0m",
      "\u001b[0;31mNameError\u001b[0m                                 Traceback (most recent call last)",
      "Cell \u001b[0;32mIn [43], line 1\u001b[0m\n\u001b[0;32m----> 1\u001b[0m \u001b[38;5;28mprint\u001b[39m(notyet)\n",
      "\u001b[0;31mNameError\u001b[0m: name 'notyet' is not defined"
     ]
    }
   ],
   "source": [
    "print(notyet)"
   ]
  },
  {
   "cell_type": "markdown",
   "metadata": {},
   "source": [
    "このエラーは，notyet という名前が未知のものであることを言っています。変数名には，数字も含めることができますが，数字から始まる名前はつけられません。また，予約語(for などのプログラムで意味のある名前)をつけることもできません。大文字，小文字は区別されます。"
   ]
  },
  {
   "cell_type": "markdown",
   "metadata": {
    "tags": []
   },
   "source": [
    "**練習問題1** 変数 $n$ の値を適当に設定して、$(1+1/n)^n$ の値を求めよう。\n",
    "$n$ を大きくしていった時に、この値は何に近づくだろうか。\n",
    " "
   ]
  },
  {
   "cell_type": "markdown",
   "metadata": {},
   "source": [
    "プログラムでは，数だけではなく文字列も扱うことができます。文字列は，\n",
    "文字列は、\" と \" で囲んで書きます。"
   ]
  },
  {
   "cell_type": "code",
   "execution_count": 1,
   "metadata": {},
   "outputs": [
    {
     "name": "stdout",
     "output_type": "stream",
     "text": [
      "Hello\n",
      "Python\n",
      "Python\n",
      "Python\n"
     ]
    }
   ],
   "source": [
    "print(\"Hello\")\n",
    "h = \"Python\"\n",
    "print(h)\n",
    "print(h)\n",
    "print(h)"
   ]
  },
  {
   "cell_type": "markdown",
   "metadata": {},
   "source": [
    "print 関数は，引数をたくさんとることができます。"
   ]
  },
  {
   "cell_type": "code",
   "execution_count": 253,
   "metadata": {},
   "outputs": [
    {
     "name": "stdout",
     "output_type": "stream",
     "text": [
      "10 20\n",
      "x= 10 , y= 20\n"
     ]
    }
   ],
   "source": [
    "x = 10\n",
    "y = 20\n",
    "print(x, y)\n",
    "print(\"x=\", x, \", y=\", y)"
   ]
  },
  {
   "cell_type": "markdown",
   "metadata": {},
   "source": [
    "すでに値を代入してある変数に新たな値を代入すると，記憶されている値がその値に置き換わります。\n"
   ]
  },
  {
   "cell_type": "code",
   "execution_count": 7,
   "metadata": {},
   "outputs": [
    {
     "name": "stdout",
     "output_type": "stream",
     "text": [
      "3\n",
      "5\n"
     ]
    }
   ],
   "source": [
    "x = 3\n",
    "print(x)\n",
    "x = x + 2\n",
    "print(x)"
   ]
  },
  {
   "cell_type": "markdown",
   "metadata": {},
   "source": [
    "= の左の x は今までの x の値で、それを用いて計算した値に x を更新していることに注意してください。\n",
    "このように、変数の値はプログラムの実行によって変化します。プログラミングでは，どのように変化するかを頭の中で追うことが必要です。"
   ]
  },
  {
   "cell_type": "markdown",
   "metadata": {},
   "source": [
    "Shift + return でなく、Ctrl + return を押すと、そのセルを実行後に次のセルに移りません。同じセルを繰り返し実行するのに便利です。\n",
    "次の2つ目のセルを繰り返し実行してみましょう。\n",
    "\n"
   ]
  },
  {
   "cell_type": "code",
   "execution_count": 1,
   "metadata": {},
   "outputs": [],
   "source": [
    "x = 1"
   ]
  },
  {
   "cell_type": "code",
   "execution_count": 2,
   "metadata": {
    "tags": []
   },
   "outputs": [
    {
     "name": "stdout",
     "output_type": "stream",
     "text": [
      "2\n"
     ]
    }
   ],
   "source": [
    "x = x + 1\n",
    "print(x)"
   ]
  },
  {
   "cell_type": "markdown",
   "metadata": {},
   "source": [
    "このような繰り返しは，キーボードを押しながら行うのではなく，プログラムの中で，「何回繰り返す」ということが書けたら便利ですね。\n",
    "そのような記法( for 文，while 文　) については，来週勉強します。"
   ]
  },
  {
   "cell_type": "markdown",
   "metadata": {},
   "source": [
    "**練習問題2** \n",
    "1. 0.01 を y という変数に代入しよう。\n",
    "2. y に 2.5y(1-y) の値を計算して代入し，y の値を表示しよう。これを一つのセルにして，繰り返し実行しよう。\n",
    "\n",
    "何回も繰り返すと，どういう値に近づいていくか，その値は，2.5とどういう関係にあるか，考えましょう。"
   ]
  },
  {
   "cell_type": "markdown",
   "metadata": {},
   "source": [
    "これを何回も繰り返した時の挙動は，2.5 の時と 3.5 の時とは違っていそうですよね。\n",
    "手作業で実行するのは大変なので，100 回繰り返すということを指定したり，その間の y の値の変化をグラフ化したりといったことは，コンピュータに自動的にさせるべきことです。そのようなプログラムの書き方について，これから学んでいきましょう。\n",
    "\n",
    "コンピュータにいくら計算させ，可視化してみても，この繰り返しでどういう挙動になっていくかは分かりません。それを知るには，「数学」が必要です。しかし，コンピュータで計算をして可視化すると，どうなっていそうか，予想をたてることはできます。"
   ]
  },
  {
   "cell_type": "markdown",
   "metadata": {},
   "source": [
    "**練習問題3**\n",
    "$n$ を1,2,3 と変化させていった時に，\n",
    " $e = (1 + \\frac{1}{n})^n$ の値がどう変化するかを，次のような形の表示で，Ctrl-return を押すと次々と表示されるようにしよう。\n",
    "\n",
    "`n= 1 , e= 2`\n",
    "\n",
    "`n= 2 , e= 2.25`"
   ]
  },
  {
   "cell_type": "code",
   "execution_count": 3,
   "metadata": {},
   "outputs": [],
   "source": [
    "n = 1"
   ]
  },
  {
   "cell_type": "markdown",
   "metadata": {},
   "source": [
    "次のようにすれば，1 から n までの和の値を，次々と求めることができます。"
   ]
  },
  {
   "cell_type": "code",
   "execution_count": 4,
   "metadata": {
    "tags": []
   },
   "outputs": [],
   "source": [
    "n = 0\n",
    "sum = 0"
   ]
  },
  {
   "cell_type": "code",
   "execution_count": 21,
   "metadata": {},
   "outputs": [
    {
     "name": "stdout",
     "output_type": "stream",
     "text": [
      "n= 9 , sum= 45\n"
     ]
    }
   ],
   "source": [
    "n = n + 1\n",
    "sum = sum + n\n",
    "print(\"n=\", n, \", sum=\", sum)"
   ]
  },
  {
   "cell_type": "markdown",
   "metadata": {},
   "source": [
    "**練習問題4** 2n+1 までの奇数の和を，n = 0,1,2,3,4,5,... に対して表示しよう。それから，奇数の和に関してどのようなことが推測できるか？"
   ]
  },
  {
   "cell_type": "markdown",
   "metadata": {},
   "source": [
    "**練習問題5** 下の，テキストの作成のところまで勉強した後に，その推測の証明を，このセルの中の...に数式をうめて完成させよう。\n",
    "\n",
    "$$\\sum_{i=0}^{n}{i}= \\frac{n(n+1)}{2}$$\n",
    "である。よって，\n",
    "$$\\sum_{i=0}^{n}{(2i+1)}= ...$$"
   ]
  },
  {
   "cell_type": "markdown",
   "metadata": {},
   "source": [
    "**練習問題6** 次の公式は、ライプニッツの公式として知られている。\n",
    "$$\n",
    "\\frac{\\pi}{4} = 1 - \\frac{1}{3} + \\frac{1}{5} - \\frac{1}{7} ...\n",
    "$$\n",
    "これを用いて，$\\pi$ の値を求めたい。\n",
    "同様にしてできるだろうか？"
   ]
  },
  {
   "cell_type": "markdown",
   "metadata": {
    "tags": []
   },
   "source": [
    "## グラフの描画\n",
    "\n",
    "このように、Jupyter Notebook の中で簡単な Python プログラムを書くことにより、数学のツールとして使えます。\n",
    "今度は関数のグラフを書いてみましょう。y= x^2 および、y=4x(1-x) のグラフを、[0,1] の区間を100 個に細分した点を選び、それぞれの x に対する値を計算して、それを結んで書いたものです。5、6 行目の x*x, 4*x*(1-x) と 4 行目の 0, 1, 100 でこれらを指定しています。\n"
   ]
  },
  {
   "cell_type": "code",
   "execution_count": 2,
   "metadata": {},
   "outputs": [
    {
     "data": {
      "image/png": "[encoded data removed]",
      "text/plain": [
       "<Figure size 640x480 with 1 Axes>"
      ]
     },
     "metadata": {},
     "output_type": "display_data"
    }
   ],
   "source": [
    "%matplotlib inline\n",
    "import numpy as np\n",
    "import matplotlib.pyplot as plt\n",
    "x = np.linspace(0, 2*np.pi, 100)\n",
    "plt.plot(x, np.sin(x))\n",
    "\n",
    "#plt.plot(x, 4*x*(1-x))\n",
    "plt.show()\n"
   ]
  },
  {
   "cell_type": "markdown",
   "metadata": {
    "slideshow": {
     "slide_type": "-"
    }
   },
   "source": [
    "まだ、このプログラムの解説は行いません。仕組みは分からなくても、見よう見真似でいろんなグラフが書けるでしょう。\n",
    "\n",
    "**練習問題7**　実際に、0, 1, 100を変えて、グラフがどう変化するか見てみましょう。\n",
    "\n",
    "`x*x`は、表示する関数の式です。ここを `np.sin(x)` にすると、sin 関数のグラフが書けます。np.sin は、python の numpyライブラリでの sin 関数の呼び名です。しかし、一部しか表示されていません。円周率は`np.pi` で表せるので、４行目の 1 のところを 2*np.pi に置き換えると。1 周期分の sin 関数のグラフを表示できます。\n",
    "\n",
    "**練習問題8** sin 関数を1周期表示させよう。また、10 周期表示させよう。グラフがギザギザになったと思う。これは、この間に100 回しかサンプリング（値をとってくること）をしていないからです。サンプリングの回数を多くして、なめらかにしよう。\n",
    "\n",
    "なぜ、このプログラムでグラフが書けるのかという仕組みは十分に複雑です。Python についての説明をもっと進めないと、理解できません。理解しないで真似で書いていたのでは、複雑なものは書けません。これ以上のグラフ描画は、授業が進んでからの楽しみにしましょう。"
   ]
  },
  {
   "cell_type": "markdown",
   "metadata": {},
   "source": []
  },
  {
   "cell_type": "markdown",
   "metadata": {},
   "source": [
    "---\n",
    "# データ型\n",
    "\n",
    "プログラムで扱う値には，型があります。数の型には，**整数(int)** と**浮動小数点(float)** ，それに**複素数(complex)** (後述)があります。浮動小数点数は実数の近似値です。C や Java 言語のように，int で表現できる値の範囲の制限について意識する必要はありません。浮動小数点数は，その数ぴったりではないので，誤差を伴います。\n",
    "\n",
    "4//2 は 2, 4/2 は 2.0 と表示されます。これは，同じ 2 という値を示してますが，前者は int, 後者は float です。同じ割り算でも、// は切り捨てを行い整数を返す演算、/ は浮動小数点数を返す演算です。complex については，後に説明します。式の型は，type 関数で調べることができます。"
   ]
  },
  {
   "cell_type": "code",
   "execution_count": null,
   "metadata": {},
   "outputs": [
    {
     "data": {
      "text/plain": [
       "3"
      ]
     },
     "metadata": {},
     "output_type": "display_data"
    }
   ],
   "source": [
    "6//2"
   ]
  },
  {
   "cell_type": "code",
   "execution_count": null,
   "metadata": {},
   "outputs": [
    {
     "data": {
      "text/plain": [
       "2.0"
      ]
     },
     "metadata": {},
     "output_type": "display_data"
    }
   ],
   "source": [
    "4/2\n"
   ]
  },
  {
   "cell_type": "code",
   "execution_count": null,
   "metadata": {},
   "outputs": [
    {
     "data": {
      "text/plain": [
       "float"
      ]
     },
     "metadata": {},
     "output_type": "display_data"
    }
   ],
   "source": [
    "type(4/2)"
   ]
  },
  {
   "cell_type": "code",
   "execution_count": null,
   "metadata": {},
   "outputs": [
    {
     "name": "stdout",
     "output_type": "stream",
     "text": [
      "7.299999999999999e-11\n",
      "7.3e+16\n",
      "7.299999999999999\n"
     ]
    }
   ],
   "source": [
    "x = 7.3/(100000000000)\n",
    "print (x)\n",
    "y = 7.3 * 10000000000000000\n",
    "print(y)\n",
    "print(x * 100000000000)"
   ]
  },
  {
   "cell_type": "markdown",
   "metadata": {},
   "source": [
    "float の値の表記で $x\\mathrm{e}y$ というのは、$x \\times 10^y$ のことです。小さい数や大きい数はこの表記になります。このように、実数計算では誤差はつきものです。コンピュータの中では2 進で計算しているので，10 進ではきれいな誤差のない数に見えても，コンピュータ内では近似値になっていることがあります。"
   ]
  },
  {
   "cell_type": "markdown",
   "metadata": {},
   "source": [
    "実数の計算は近似値なので，誤差を含みます。十分注意してください"
   ]
  },
  {
   "cell_type": "code",
   "execution_count": null,
   "metadata": {},
   "outputs": [
    {
     "name": "stdout",
     "output_type": "stream",
     "text": [
      "0.1\n",
      "0.2\n",
      "0.30000000000000004\n"
     ]
    }
   ],
   "source": [
    "x = 0.1\n",
    "print(x)\n",
    "print(x + x)\n",
    "print(x + x + x)"
   ]
  },
  {
   "cell_type": "markdown",
   "metadata": {},
   "source": [
    "## 文字列\n",
    "\n",
    "プログラムの中で、数だけでなく文字列も扱うことができます。文字列の型は，str です。文字列は，\"　\" または '　' で囲って作ります。"
   ]
  },
  {
   "cell_type": "code",
   "execution_count": null,
   "metadata": {},
   "outputs": [
    {
     "data": {
      "text/plain": [
       "'Python はいい言語'"
      ]
     },
     "metadata": {},
     "output_type": "display_data"
    }
   ],
   "source": [
    "u = \"Python はいい言語\"\n",
    "u"
   ]
  },
  {
   "cell_type": "markdown",
   "metadata": {},
   "source": [
    "\"he'llo\" や 'he\"llo' とすると，' や \"を含む文字列も作れます。\n",
    "'10' と 10 のように，文字列と数を混同しないようにしてください。 int 関数で文字列からそれの表す整数値を作れます。また，浮動小数点数は float 関数で作れます。このように，型の名前は，他の型のデータをその型に強制的に変換したデータを返す関数になります。"
   ]
  },
  {
   "cell_type": "code",
   "execution_count": null,
   "metadata": {},
   "outputs": [],
   "source": [
    "name = \"123\""
   ]
  },
  {
   "cell_type": "code",
   "execution_count": null,
   "metadata": {},
   "outputs": [
    {
     "data": {
      "text/plain": [
       "str"
      ]
     },
     "metadata": {},
     "output_type": "display_data"
    }
   ],
   "source": [
    "type(name)"
   ]
  },
  {
   "cell_type": "code",
   "execution_count": null,
   "metadata": {},
   "outputs": [
    {
     "name": "stdout",
     "output_type": "stream",
     "text": [
      "123\n"
     ]
    },
    {
     "data": {
      "text/plain": [
       "int"
      ]
     },
     "metadata": {},
     "output_type": "display_data"
    }
   ],
   "source": [
    "x = int(name)\n",
    "print(x)\n",
    "type(x)"
   ]
  },
  {
   "cell_type": "code",
   "execution_count": null,
   "metadata": {},
   "outputs": [
    {
     "data": {
      "text/plain": [
       "123.0"
      ]
     },
     "metadata": {},
     "output_type": "display_data"
    }
   ],
   "source": [
    "float(name)"
   ]
  },
  {
   "cell_type": "code",
   "execution_count": null,
   "metadata": {},
   "outputs": [
    {
     "data": {
      "text/plain": [
       "12"
      ]
     },
     "metadata": {},
     "output_type": "display_data"
    }
   ],
   "source": [
    "x = int(12.5)\n",
    "x"
   ]
  },
  {
   "cell_type": "code",
   "execution_count": null,
   "metadata": {},
   "outputs": [
    {
     "data": {
      "text/plain": [
       "'12'"
      ]
     },
     "metadata": {},
     "output_type": "display_data"
    }
   ],
   "source": [
    "str(x)"
   ]
  },
  {
   "cell_type": "code",
   "execution_count": null,
   "metadata": {},
   "outputs": [],
   "source": [
    "# int(\"hello\") #1行目文頭の # を削除して実行してください。\n",
    "# hello は数を意味する文字列ではないというエラーが出ます。"
   ]
  },
  {
   "cell_type": "markdown",
   "metadata": {},
   "source": [
    "文字列は、''' と ''' で囲んだり、\"\"\" と \"\"\" で囲んでもできます。その場合には、改行を含んだ文字列も作れます。"
   ]
  },
  {
   "cell_type": "code",
   "execution_count": null,
   "metadata": {},
   "outputs": [],
   "source": []
  },
  {
   "cell_type": "code",
   "execution_count": null,
   "metadata": {},
   "outputs": [
    {
     "name": "stdout",
     "output_type": "stream",
     "text": [
      "これは、\n",
      "改行を含んだ\n",
      "　　　長い\n",
      "　　　長い\n",
      "文字列です。\n",
      "\n"
     ]
    }
   ],
   "source": [
    "long='''これは、\n",
    "改行を含んだ\n",
    "　　　長い\n",
    "　　　長い\n",
    "文字列です。\n",
    "'''\n",
    "print(long)"
   ]
  },
  {
   "cell_type": "markdown",
   "metadata": {},
   "source": [
    "文字列と数を掛け算をすることにより，その文字列を繰り返してできる文字列を作れます。"
   ]
  },
  {
   "cell_type": "code",
   "execution_count": 38,
   "metadata": {},
   "outputs": [
    {
     "data": {
      "text/plain": [
       "'Python Python Python Python Python Python Python Python Python Python '"
      ]
     },
     "execution_count": 38,
     "metadata": {},
     "output_type": "execute_result"
    }
   ],
   "source": [
    "n = 10\n",
    "n * \"Python \""
   ]
  },
  {
   "cell_type": "markdown",
   "metadata": {},
   "source": [
    "\n",
    "## 関数の呼び出し\n",
    "\n",
    "print,type,intなど、値を渡されると、その値を用いて画面表示などの手続きを行ったり、新たな値を計算してその値を返したりするものを関数といいます。関数に渡される値のことを引数といいます。関数の後ろに括弧をつけてその中に引数を書くことで、引数が関数に渡されます。\n",
    "関数が複数の引数をとる場合には、引数を , で区切って指定します。print 関数は，複数の引数が与えられれば，それらを全て表示します。"
   ]
  },
  {
   "cell_type": "code",
   "execution_count": 132,
   "metadata": {},
   "outputs": [
    {
     "name": "stdout",
     "output_type": "stream",
     "text": [
      "x =  10\n",
      "x =  11\n"
     ]
    }
   ],
   "source": [
    "x = 10\n",
    "print(\"x = \", x)\n",
    "x = x + 1\n",
    "print(\"x = \", x)"
   ]
  },
  {
   "cell_type": "markdown",
   "metadata": {},
   "source": [
    "# print と format 文\n",
    "\n",
    "print 文で、print した後に改行したくなければ、 print(a, end=',') という形で、終了文字を end= で指定します。"
   ]
  },
  {
   "cell_type": "code",
   "execution_count": null,
   "metadata": {},
   "outputs": [
    {
     "name": "stdout",
     "output_type": "stream",
     "text": [
      "Hello python!!!"
     ]
    }
   ],
   "source": [
    "print(\"Hello p\", end='')\n",
    "print(\"ython\", end='!!!')"
   ]
  },
  {
   "cell_type": "markdown",
   "metadata": {},
   "source": [
    "f文字列(format 文字列)という機能があり，それを用いると，変数などの値を埋め込んだ文字列を作ることができます。f文字列は，f を文字列のまえにつけ，その文字列には，値を埋め込みたい場所に{}で囲んで値を埋め込む式を書きます。例で説明します。"
   ]
  },
  {
   "cell_type": "code",
   "execution_count": null,
   "metadata": {},
   "outputs": [
    {
     "name": "stdout",
     "output_type": "stream",
     "text": [
      "x の値は 3.3333333333333335 です。\n"
     ]
    }
   ],
   "source": [
    "x = 10/3\n",
    "print(f\"x の値は {x} です。\")"
   ]
  },
  {
   "cell_type": "markdown",
   "metadata": {},
   "source": [
    "{} の中には，式だけでなく，\":書式\"をつけることにより，きれいに整形することができます。書式は，桁数を書いたり，浮動小数点数なら，6.3f　で，全体は6 桁，小数点以下は 3 桁という具合の指定ができます。"
   ]
  },
  {
   "cell_type": "code",
   "execution_count": null,
   "metadata": {},
   "outputs": [
    {
     "name": "stdout",
     "output_type": "stream",
     "text": [
      "計算結果: i = 1024, x = 3.3333333333333335.\n",
      "計算結果: i =   1024, x =  3.333.\n",
      "計算結果: i =     32, x = 41.200.\n"
     ]
    }
   ],
   "source": [
    "i= 2**10\n",
    "x = 10/3\n",
    "print(f\"計算結果: i = {i}, x = {x}.\")\n",
    "print(f\"計算結果: i = {i:6}, x = {x:6.3f}.\")\n",
    "i= 2**5\n",
    "x = 41.2\n",
    "print(f\"計算結果: i = {i:6}, x = {x:6.3f}.\")"
   ]
  },
  {
   "cell_type": "code",
   "execution_count": null,
   "metadata": {},
   "outputs": [
    {
     "name": "stdout",
     "output_type": "stream",
     "text": [
      "りんご ばなな 10 100\n",
      "x は 10 です\n",
      "\n",
      "終わり\n"
     ]
    }
   ],
   "source": [
    "x = 10\n",
    "print(\"りんご\",\"ばなな\", x, x*x)\n",
    "print(\"x は\", x, \"です\")\n",
    "print()   # 引数が何もなければ改行だけ\n",
    "print(\"終わり\")"
   ]
  },
  {
   "cell_type": "code",
   "execution_count": null,
   "metadata": {},
   "outputs": [
    {
     "name": "stdout",
     "output_type": "stream",
     "text": [
      "計算結果: i = 1024, x = 3.3333333333333335.\n",
      "計算結果: i =   1024, x =  3.333.\n",
      "計算結果: i =     32, x = 41.200.\n"
     ]
    }
   ],
   "source": [
    "i= 2**10\n",
    "x = 10/3\n",
    "print(f\"計算結果: i = {i}, x = {x}.\")\n",
    "print(f\"計算結果: i = {i:6}, x = {x:6.3f}.\")\n",
    "i= 2**5\n",
    "x = 41.2\n",
    "print(f\"計算結果: i = {i:6}, x = {x:6.3f}.\")"
   ]
  },
  {
   "cell_type": "markdown",
   "metadata": {},
   "source": [
    "**練習問題9**\n",
    "練習問題 3 を，n は 3 桁，e は整数部分 3 桁，小数部分7 桁で表示されるようにしよう。\n",
    "\n",
    "> 練習問題3 : $n$ を1,2,3 と変化させていった時に，\n",
    " $e = (1 + \\frac{1}{n})^n$ の値がどう変化するかを，次のような形の表示で，Ctrl-return を押すと次々と表示されるようにしよう。<br>\n",
    "`n= 1 , e= 2`<br>\n",
    "`n= 2 , e= 2.25`\n",
    "</quote>"
   ]
  },
  {
   "cell_type": "markdown",
   "metadata": {},
   "source": [
    "---\n",
    "# マークダウンとテキストの作成\n"
   ]
  },
  {
   "cell_type": "markdown",
   "metadata": {},
   "source": [
    "## テキストの作成\n",
    "\n",
    "プログラム作成モードのセルを選んだ状態では，上部のメニューは Code になっています。\n",
    "このメニューから，Markdown を選ぶと，Markdown によるテキストの入力モードに切り替わります。このモードで文章を入力して実行（Shift-return）を行うと，文章を作成することができます。\n",
    "GFM というMarkdown言語なので，通常のテキストよりも見栄えのよいページが作れます。\n",
    "\n",
    "Markdown のセルでダブルクリックをすると、入力モードに戻すことができます。\n",
    "\n",
    "**練習問題** このセルでダブルクリックを行い、入力モードにして少し書き換えてみよう。そして，実行してみよう。\n"
   ]
  },
  {
   "cell_type": "markdown",
   "metadata": {},
   "source": [
    "## Markdown(GFM)の使い方\n",
    "\n",
    "GFM を用いると，それなりに見栄えのある文章を簡単に作ることができます。\n",
    "\n",
    "\n",
    "少しだけマークダウンの説明します。\n",
    "\n",
    "# 大見出し\n",
    "\n",
    "## 中見出し\n",
    "\n",
    "### 小見出し\n",
    "\n",
    "## 番号リスト\n",
    "\n",
    "1. 番号をつけてリストを作る\n",
    "2. こんな感じ\n",
    "\n",
    "## リスト\n",
    "\n",
    "* リスト表示\n",
    "* リスト表示2\n",
    "  * リスト表示2.1\n",
    "  * リスト表示2.2\n",
    "    * リスト表示2.3\n",
    "    \n",
    "> 引用\n",
    "\n",
    "\n",
    "**太字にしたり** できます。表も作れます。\n",
    "\n",
    "|大学名|場所|\n",
    "|--|--|\n",
    "|京大|京都|\n",
    "|東大|東京|\n",
    "\n",
    "## 数式\n",
    "\n",
    "Latex の記法で数式を入れることができます。例えば、\n",
    "$\n",
    "X = \\int_0^\\infty{\\frac{1}{x^2}dx}\n",
    "$\n",
    "という具合に。また、独立行は、\n",
    "$$X = \\int_0^\\infty{\\frac{1}{x^2}dx}$$\n",
    "という具合にかけます。Latex の詳細はここでは述べませんが、理系では論文などの文章を書く標準的な道具です。\n",
    "\n",
    "\n",
    "\n",
    "他の便利な機能については、ネットで調べてください。\n",
    "------------------\n",
    "\n",
    "Qiita が、Markdown　を採用しているので、Qiita のページにたくさん情報があります。例えば、\n",
    "\n",
    "https://qiita.com/Qiita/items/c686397e4a0f4f11683d\n",
    "\n",
    "https://qiita.com/oreo/items/82183bfbaac69971917f\n",
    "\n",
    "などがあります。"
   ]
  },
  {
   "cell_type": "markdown",
   "metadata": {},
   "source": [
    "## 新たなノートブックの作成\n",
    "\n",
    "新しいノートブックは，左のファイルの一覧の上の，+ で作れます。また，フォルダーも同様に作れます。\n",
    "***.ipynb という拡張子をつければ，Jupyter Notebook のファイルとして扱われます。\n",
    "\n",
    "ノートブックの中の Python プログラムは，この Jupyter Lab のプログラムが実行しているのではなく，Python のプログラムを実行する別のプロセスが走っていて，それにより実行されています。そのプロセスは，ネットワーク上の他のマシン（例えば，GPU などの高速にプログラムを走られる機能を持ったマシン）で走らせることもできます。\n",
    "\n",
    "今回の課題を提出するためのノートブックを作成しましょう。そのために，授業回数と自分の名字を使ったファイル名前の Notebook を作成しましょう。1回目の授業なので，1Tsuiki.ipynb という具合です。同姓の人がいる時には，授業中に指示します。\n",
    "\n",
    "上部のファイルに対応したタグを選ぶことにより，ファイルの切り替えができます。また，2 つのファイルを同時に画面に表示することもできます。上部のタグを下にドラッグしてみてください。左右，上下などに切って表示ができるはずです。\n",
    "\n",
    "セルのカット、コピー、移動などは，...のメニューの中にあります。これは，ファイル間でもできます。\n",
    "\n",
    "**練習問題**\n",
    "今日解いた練習問題の中のめぼしいものを集めて，課題提出のノートブックを作成して，それにコピーしよう。"
   ]
  },
  {
   "cell_type": "markdown",
   "metadata": {},
   "source": [
    "**練習問題**  新たにセルを作り、そこに「この授業で身に付けたいこと」というタイトルで文章を作ろう。また，Markdown に慣れるため，その他の文章を作ろう。\n",
    "\n"
   ]
  },
  {
   "cell_type": "markdown",
   "metadata": {},
   "source": [
    "## 遊びましょう\n",
    "\n",
    "Jupyter と Python を用いれば、いろんな遊びができることが分かったはずです。情報はネットからいくらでも得られます。自分で興味のあることを、試してください。\n",
    "\n",
    "**練習問題** Ctrl + return で実行を繰り返すと，画面上に表示された Python という文字列が，あたかも右に動いていくようにしよう\n",
    "```\n",
    " Python　　　　　　　　# Ctrl + return の後の表示\n",
    "  Python            # さらに，Ctrl + return の後の表示\n",
    "   Python　　　　　　　# さらに，Ctrl + return の後の表示\n",
    "    ...\n",
    "```\n",
    "**練習問題** 今日勉強した範囲でできる，簡単で気の利いた計算を考えよう。複雑なことは，Python の機能をもっと勉強してから行った方がいい。"
   ]
  },
  {
   "cell_type": "markdown",
   "metadata": {},
   "source": [
    "毎回，その時間に行った課題を提出してもらいます。それは，成績評価というよりも，みなさんの Motivation を維持するためです。提出物を実際に見て採点するとは限らないことを了解ください。私に伝えたいことは，Notebook ではなく，課題提出の PandA の画面に直接書き込んでください。\n",
    "\n",
    "練習問題の解答は，主だった問題については用意してあります。来週からは，それも参考にしてください。\n"
   ]
  },
  {
   "cell_type": "code",
   "execution_count": null,
   "metadata": {},
   "outputs": [],
   "source": []
  },
  {
   "cell_type": "code",
   "execution_count": null,
   "metadata": {},
   "outputs": [],
   "source": []
  }
 ],
 "metadata": {
  "kernelspec": {
   "display_name": "Python 3 (ipykernel)",
   "language": "python",
   "name": "python3"
  },
  "language_info": {
   "codemirror_mode": {
    "name": "ipython",
    "version": 3
   },
   "file_extension": ".py",
   "mimetype": "text/x-python",
   "name": "python",
   "nbconvert_exporter": "python",
   "pygments_lexer": "ipython3",
   "version": "3.10.7"
  },
  "vscode": {
   "interpreter": {
    "hash": "974709e487bf293398b143f4ac30c818c195e8f1cd4c27b889061cadacbd70d3"
   }
  }
 },
 "nbformat": 4,
 "nbformat_minor": 4
}
