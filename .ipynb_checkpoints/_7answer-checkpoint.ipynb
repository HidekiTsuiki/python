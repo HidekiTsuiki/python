{
 "cells": [
  {
   "cell_type": "code",
   "execution_count": 2,
   "metadata": {},
   "outputs": [
    {
     "name": "stdout",
     "output_type": "stream",
     "text": [
      "[[0.25833884 0.40402503 0.64627181 0.7135669  0.51186028]\n",
      " [0.73036791 1.53223621 1.37277678 0.92264057 1.44611931]\n",
      " [0.69654907 0.98516048 1.07763553 0.82428156 1.12918359]]\n",
      "[[0.25833884 0.40402503 0.64627181 0.7135669  0.51186028]\n",
      " [0.73036791 1.53223621 1.37277678 0.92264057 1.44611931]\n",
      " [0.69654907 0.98516048 1.07763553 0.82428156 1.12918359]]\n"
     ]
    }
   ],
   "source": [
    "import numpy as np\n",
    "def prod(x, y):\n",
    "    '''行列 x, y の積を計算して返す'''\n",
    "    (n1,m1) = x.shape\n",
    "    (n2,m2) = y.shape\n",
    "    if(m1 != n2):\n",
    "        return None\n",
    "    z = np.zeros(shape=(n1, m2))\n",
    "    for i in range(n1):\n",
    "        for j in range(m2):\n",
    "            u = 0\n",
    "            for k in range(m1):\n",
    "                u += x[i,k] * y[k,j]\n",
    "            z[i,j] = u\n",
    "    return z\n",
    "\n",
    "x = np.random.random([3,4])            \n",
    "y = np.random.random([4,5])\n",
    "print(prod(x,y))\n",
    "print(x@y)\n"
   ]
  },
  {
   "cell_type": "code",
   "execution_count": 3,
   "metadata": {},
   "outputs": [],
   "source": [
    "import numpy as np\n",
    "a = np.reshape(range(11,20),(3,3))"
   ]
  },
  {
   "cell_type": "code",
   "execution_count": 4,
   "metadata": {},
   "outputs": [
    {
     "data": {
      "text/plain": [
       "-5.093964465927161e-15"
      ]
     },
     "execution_count": 4,
     "metadata": {},
     "output_type": "execute_result"
    }
   ],
   "source": [
    "np.linalg.det(a)"
   ]
  },
  {
   "cell_type": "code",
   "execution_count": 5,
   "metadata": {},
   "outputs": [],
   "source": [
    "# 練習問題 30\n",
    "def mydet (a):\n",
    "    n,m = a.shape\n",
    "    if(n==1 or m == 1):\n",
    "        return(a[0][0])\n",
    "    u = a[:,1:]\n",
    "    return (sum ([((-1)**k)*a[k,0]*mydet(np.delete(u,k,0)) \n",
    "                  for k in range(n)]))       "
   ]
  },
  {
   "cell_type": "code",
   "execution_count": 6,
   "metadata": {},
   "outputs": [
    {
     "name": "stdout",
     "output_type": "stream",
     "text": [
      "-0.0074619696340269374\n",
      "CPU times: user 1.71 s, sys: 7.68 ms, total: 1.71 s\n",
      "Wall time: 1.71 s\n",
      "-0.00746196963402695\n",
      "CPU times: user 31 µs, sys: 0 ns, total: 31 µs\n",
      "Wall time: 31.9 µs\n"
     ]
    }
   ],
   "source": [
    "# こうやって組んだのは，非常に遅い。ライブラリは C で組んであるので比べ物にならないくらい早い。\n",
    "# python　は，ちょっとしたプログラムを試しに作る以外では，重要な処理はライブラリとして\n",
    "# C 言語など組み，それを呼び出す形で処理を書くフロントエンドとしての利用が期待されている。\n",
    "\n",
    "u=np.random.random([9,9])\n",
    "%time print(mydet(u))\n",
    "%time print(np.linalg.det(u))"
   ]
  },
  {
   "cell_type": "code",
   "execution_count": null,
   "metadata": {},
   "outputs": [],
   "source": []
  }
 ],
 "metadata": {
  "kernelspec": {
   "display_name": "Python 3 (ipykernel)",
   "language": "python",
   "name": "python3"
  },
  "language_info": {
   "codemirror_mode": {
    "name": "ipython",
    "version": 3
   },
   "file_extension": ".py",
   "mimetype": "text/x-python",
   "name": "python",
   "nbconvert_exporter": "python",
   "pygments_lexer": "ipython3",
   "version": "3.10.7"
  },
  "vscode": {
   "interpreter": {
    "hash": "47d84ca93b507e41a4afb9ff6f89a9563e5e77c88ddfb43ca0f3894d519d995e"
   }
  }
 },
 "nbformat": 4,
 "nbformat_minor": 2
}
