{
 "cells": [
  {
   "cell_type": "markdown",
   "id": "bc0beba9",
   "metadata": {},
   "source": [
    "# ニューラルネット\n",
    "\n",
    "Python は，豊富なライブラリを備えています。特に，ニューラルネットワークなどの機械学習のライブラリが充実しています。機械学習の仕組みの詳細を知らなくても，データを揃えてライブラリを呼び出せば，ある程度のことができる状態になっています。文字認識のニューラルネットを題材に，その使い方を説明します。"
   ]
  },
  {
   "cell_type": "markdown",
   "id": "e1f401f4",
   "metadata": {},
   "source": [
    "ニューラルネットのライブラリとしては，オープンソースのPyTorch が広く使われています。\n",
    "その前には、Google が開発したオープンソースのシステムである TensorFlow が有名でした。さらに，Tensorflow のニューラルネットワークを組むための高レベルのライブラリである Keras を用いると，見よう見まねで，ある程度の機械学習を行えます。"
   ]
  },
  {
   "cell_type": "markdown",
   "id": "7a13a41e",
   "metadata": {},
   "source": [
    "ここでは、Tensorflow と Keras を用いて説明をしますが、これから学習する人は、PyTorch を用いることをお勧めします。Tenforflow, Keras, それに、PyTorch も、\n",
    "標準でインストールされていません。pip を用いてインストールします。\n",
    "また、Tensorflow と Keras は、python のバージョンを 3.8 下げないとサポートされていない可能性があります。また、MacOS で動かすのに、幾つかエラーに対処する必要がありました。\n",
    "\n",
    "\n",
    "このソースは，以下のページからとってきたものを，説明用に加工したものです。\n",
    "このページの解説は十分によく書けているので，これを見て勉強してください。\n",
    "\n",
    "https://weblabo.oscasierra.net/python/keras-mnist-sample.html\n"
   ]
  },
  {
   "cell_type": "markdown",
   "id": "8135a979",
   "metadata": {},
   "source": [
    "ただし，場合によっては，python のバージョンを下げることが要求されます。\n",
    "それは，anaconda の画面からはできなそうで，conda コマンドで行います。\n",
    "```\n",
    "conda info -e       environment を見ます。\n",
    "conda activate mnist    mnist にデフォルトの environment を変えます。\n",
    "conda install python=3.7   python のバージョンを 3.7 に下げます。\n",
    "conda install tensorflow   tenforflow のインストール\n",
    "```"
   ]
  },
  {
   "cell_type": "code",
   "execution_count": 29,
   "id": "f175872e",
   "metadata": {},
   "outputs": [],
   "source": [
    "import keras\n",
    "from keras.datasets import mnist\n",
    "from keras.models import Sequential\n",
    "from keras.layers import Dense, Dropout, InputLayer\n",
    "from keras.optimizers import RMSprop"
   ]
  },
  {
   "cell_type": "code",
   "execution_count": 30,
   "id": "d8864bbf",
   "metadata": {},
   "outputs": [],
   "source": [
    "# MNISTデータを読込む\n",
    "(raw_x_train, raw_y_train), (raw_x_test, raw_y_test) = mnist.load_data()"
   ]
  },
  {
   "cell_type": "markdown",
   "id": "2485fecc",
   "metadata": {},
   "source": [
    "mnist は，手書きの数字のテストデータとして広く使われているデータです。mnist モジュールのload_data() の呼び出しで，ネットからダウンロードされ，トレーニング用，テスト用のデータに分けられます。"
   ]
  },
  {
   "cell_type": "code",
   "execution_count": 31,
   "id": "c9b13028",
   "metadata": {},
   "outputs": [
    {
     "name": "stdout",
     "output_type": "stream",
     "text": [
      "<class 'numpy.ndarray'> (60000, 28, 28) uint8\n",
      "<class 'numpy.ndarray'> (60000,) uint8\n",
      "<class 'numpy.ndarray'> (10000, 28, 28) uint8\n",
      "<class 'numpy.ndarray'> (10000,) uint8\n"
     ]
    }
   ],
   "source": [
    "print(type(raw_x_train), raw_x_train.shape, raw_x_train.dtype)\n",
    "print(type(raw_y_train), raw_y_train.shape, raw_y_train.dtype)\n",
    "print(type(raw_x_test), raw_x_test.shape, raw_x_test.dtype)\n",
    "print(type(raw_y_test), raw_y_test.shape, raw_y_test.dtype)"
   ]
  },
  {
   "cell_type": "markdown",
   "id": "ced4cd65",
   "metadata": {},
   "source": [
    "このように，raw_x_train, raw_x_test には，28x28 の unit 8 の配列がそれぞれ 60000, 10000 枚はいっています。これらが手書きの画像です。unit 8 は，符号なしビットビット整数(0 から 255 まで) です。\n",
    "\n",
    "raw_y_train, raw_y_test には，unit8 の数が入っています。これは，0 から 9 までのどの文字かを表しています。\n",
    "\n",
    "次のようにして Pillow で表示できます。\n",
    "（pillow はインストールされていないなら，インストールしましょう。）"
   ]
  },
  {
   "cell_type": "code",
   "execution_count": 32,
   "id": "9a01ce89",
   "metadata": {},
   "outputs": [
    {
     "data": {
      "image/png": "[encoded data removed]",
      "text/plain": [
       "<PIL.Image.Image image mode=L size=28x28>"
      ]
     },
     "metadata": {},
     "output_type": "display_data"
    },
    {
     "name": "stdout",
     "output_type": "stream",
     "text": [
      "3\n"
     ]
    }
   ],
   "source": [
    "import numpy as np\n",
    "import PIL.Image as Image\n",
    "\n",
    "# 文字表示\n",
    "def show(img):\n",
    "    img = Image.fromarray(np.uint8(img))\n",
    "    display(img)   \n",
    "#    img.show()\n",
    "    \n",
    "show(raw_x_train[107]) \n",
    "print(raw_y_train[107])"
   ]
  },
  {
   "cell_type": "markdown",
   "id": "ca348a72",
   "metadata": {},
   "source": [
    "この形では，ニューラルネットは扱えないので，次のように加工します。\n",
    "画像は，0 から 1 の実数を 784 (28x28) 個並べた形にします。\n",
    "正解データは，その部分だけが 1 の実数データにします（one-hot 表現）。"
   ]
  },
  {
   "cell_type": "code",
   "execution_count": 33,
   "id": "16d0123d",
   "metadata": {},
   "outputs": [],
   "source": [
    "x_train  = raw_x_train.reshape(60000, 784)\n",
    "x_test   = raw_x_test.reshape(10000, 784)\n",
    "x_train  = x_train.astype('float32')\n",
    "x_test   = x_test.astype('float32')\n",
    "x_train /= 255\n",
    "x_test  /= 255\n",
    "y_train  = keras.utils.to_categorical(raw_y_train, 10)\n",
    "y_test   = keras.utils.to_categorical(raw_y_test, 10)"
   ]
  },
  {
   "cell_type": "code",
   "execution_count": 34,
   "id": "74490b05",
   "metadata": {},
   "outputs": [
    {
     "name": "stdout",
     "output_type": "stream",
     "text": [
      "<class 'numpy.ndarray'> (60000, 784) float32\n",
      "<class 'numpy.ndarray'> (60000, 10) float32\n"
     ]
    }
   ],
   "source": [
    "print(type(x_train), x_train.shape, x_train.dtype)\n",
    "print(type(y_train), y_train.shape, y_train.dtype)"
   ]
  },
  {
   "cell_type": "code",
   "execution_count": 35,
   "id": "dc7fdea4",
   "metadata": {
    "scrolled": true
   },
   "outputs": [
    {
     "name": "stdout",
     "output_type": "stream",
     "text": [
      "[0.         0.         0.         0.         0.         0.\n",
      " 0.         0.         0.         0.         0.         0.\n",
      " 0.         0.         0.         0.         0.         0.\n",
      " 0.         0.         0.         0.         0.         0.\n",
      " 0.         0.         0.         0.         0.         0.\n",
      " 0.         0.         0.         0.         0.         0.\n",
      " 0.         0.         0.         0.         0.         0.\n",
      " 0.         0.         0.         0.         0.         0.\n",
      " 0.         0.         0.         0.         0.01176471 0.07058824\n",
      " 0.07058824 0.07058824 0.49411765 0.53333336 0.6862745  0.10196079\n",
      " 0.6509804  1.         0.96862745 0.49803922 0.         0.\n",
      " 0.         0.         0.         0.         0.         0.\n",
      " 0.         0.         0.         0.         0.11764706 0.14117648\n",
      " 0.36862746 0.6039216  0.6666667  0.99215686 0.99215686 0.99215686\n",
      " 0.99215686 0.99215686 0.88235295 0.6745098  0.99215686 0.9490196\n",
      " 0.7647059  0.2509804  0.         0.         0.         0.\n",
      " 0.         0.         0.         0.        ]\n"
     ]
    }
   ],
   "source": [
    "print(x_train[0][100:200])"
   ]
  },
  {
   "cell_type": "code",
   "execution_count": 36,
   "id": "5999f1bd",
   "metadata": {},
   "outputs": [
    {
     "name": "stdout",
     "output_type": "stream",
     "text": [
      "[0. 0. 0. 0. 0. 1. 0. 0. 0. 0.]\n"
     ]
    }
   ],
   "source": [
    "print(y_train[0])"
   ]
  },
  {
   "cell_type": "markdown",
   "id": "e38df9c7",
   "metadata": {},
   "source": [
    "ニューラルネットをモデルとして組みます。\n",
    "最初は，入力層と出力層だけがあり，それが，全結合でつながったもので試しましょう。"
   ]
  },
  {
   "cell_type": "code",
   "execution_count": 37,
   "id": "431eb880",
   "metadata": {},
   "outputs": [],
   "source": [
    "# モデルの構築\n",
    "model = Sequential()\n",
    "model.add(InputLayer(input_shape=(784,)))\n",
    "#model.add(Dense(128, activation='relu'))\n",
    "model.add(Dense(10, activation='softmax'))\n",
    "model.compile(loss='categorical_crossentropy', optimizer='rmsprop', metrics=['accuracy'])\n"
   ]
  },
  {
   "cell_type": "markdown",
   "id": "2b8b1b54",
   "metadata": {},
   "source": [
    "model.fit により，学習を行いましょう。データを batch_size で指定された長さのバッチに分けて，バッチごとに学習します。学習は行列計算で実現されるので，ある程度の量のデータを一度に処理した方が効率が出ます。\n",
    "\n",
    "全データに対する学習を，epochs で指定された回数繰り返します。\n",
    "繰り返すごとに，性能があがっていきます。loss の値が下がり，accuracy の値が上がっていきます。"
   ]
  },
  {
   "cell_type": "code",
   "execution_count": 38,
   "id": "fa03a1ce",
   "metadata": {},
   "outputs": [
    {
     "name": "stdout",
     "output_type": "stream",
     "text": [
      "Epoch 1/20\n",
      "469/469 [==============================] - 0s 704us/step - loss: 0.6075 - accuracy: 0.8489 - val_loss: 0.3418 - val_accuracy: 0.9066\n",
      "Epoch 2/20\n",
      "469/469 [==============================] - 0s 577us/step - loss: 0.3309 - accuracy: 0.9084 - val_loss: 0.2978 - val_accuracy: 0.9170\n",
      "Epoch 3/20\n",
      "469/469 [==============================] - 0s 575us/step - loss: 0.3019 - accuracy: 0.9156 - val_loss: 0.2846 - val_accuracy: 0.9201\n",
      "Epoch 4/20\n",
      "469/469 [==============================] - 0s 576us/step - loss: 0.2883 - accuracy: 0.9193 - val_loss: 0.2776 - val_accuracy: 0.9236\n",
      "Epoch 5/20\n",
      "469/469 [==============================] - 0s 579us/step - loss: 0.2804 - accuracy: 0.9220 - val_loss: 0.2741 - val_accuracy: 0.9240\n",
      "Epoch 6/20\n",
      "469/469 [==============================] - 0s 588us/step - loss: 0.2744 - accuracy: 0.9240 - val_loss: 0.2723 - val_accuracy: 0.9245\n",
      "Epoch 7/20\n",
      "469/469 [==============================] - 0s 594us/step - loss: 0.2706 - accuracy: 0.9257 - val_loss: 0.2732 - val_accuracy: 0.9240\n",
      "Epoch 8/20\n",
      "469/469 [==============================] - 0s 584us/step - loss: 0.2677 - accuracy: 0.9256 - val_loss: 0.2710 - val_accuracy: 0.9258\n",
      "Epoch 9/20\n",
      "469/469 [==============================] - 0s 703us/step - loss: 0.2649 - accuracy: 0.9272 - val_loss: 0.2716 - val_accuracy: 0.9266\n",
      "Epoch 10/20\n",
      "469/469 [==============================] - 0s 589us/step - loss: 0.2628 - accuracy: 0.9274 - val_loss: 0.2669 - val_accuracy: 0.9269\n",
      "Epoch 11/20\n",
      "469/469 [==============================] - 0s 645us/step - loss: 0.2611 - accuracy: 0.9280 - val_loss: 0.2694 - val_accuracy: 0.9266\n",
      "Epoch 12/20\n",
      "469/469 [==============================] - 0s 582us/step - loss: 0.2595 - accuracy: 0.9293 - val_loss: 0.2683 - val_accuracy: 0.9261\n",
      "Epoch 13/20\n",
      "469/469 [==============================] - 0s 589us/step - loss: 0.2583 - accuracy: 0.9291 - val_loss: 0.2702 - val_accuracy: 0.9273\n",
      "Epoch 14/20\n",
      "469/469 [==============================] - 0s 610us/step - loss: 0.2574 - accuracy: 0.9294 - val_loss: 0.2681 - val_accuracy: 0.9275\n",
      "Epoch 15/20\n",
      "469/469 [==============================] - 0s 581us/step - loss: 0.2561 - accuracy: 0.9302 - val_loss: 0.2702 - val_accuracy: 0.9271\n",
      "Epoch 16/20\n",
      "469/469 [==============================] - 0s 578us/step - loss: 0.2552 - accuracy: 0.9309 - val_loss: 0.2700 - val_accuracy: 0.9268\n",
      "Epoch 17/20\n",
      "469/469 [==============================] - 0s 575us/step - loss: 0.2542 - accuracy: 0.9310 - val_loss: 0.2702 - val_accuracy: 0.9270\n",
      "Epoch 18/20\n",
      "469/469 [==============================] - 0s 575us/step - loss: 0.2538 - accuracy: 0.9314 - val_loss: 0.2697 - val_accuracy: 0.9280\n",
      "Epoch 19/20\n",
      "469/469 [==============================] - 0s 670us/step - loss: 0.2533 - accuracy: 0.9316 - val_loss: 0.2696 - val_accuracy: 0.9270\n",
      "Epoch 20/20\n",
      "469/469 [==============================] - 0s 587us/step - loss: 0.2523 - accuracy: 0.9317 - val_loss: 0.2730 - val_accuracy: 0.9269\n"
     ]
    }
   ],
   "source": [
    "# 学習\n",
    "epochs = 20\n",
    "batch_size = 128\n",
    "history = model.fit(x_train, y_train, batch_size=batch_size, epochs=epochs, verbose=1, validation_data=(x_test, y_test))\n"
   ]
  },
  {
   "cell_type": "markdown",
   "id": "ed704953",
   "metadata": {},
   "source": [
    "テストデータで検証します。"
   ]
  },
  {
   "cell_type": "code",
   "execution_count": 39,
   "id": "417316f0",
   "metadata": {},
   "outputs": [
    {
     "name": "stdout",
     "output_type": "stream",
     "text": [
      "313/313 [==============================] - 0s 475us/step - loss: 0.2730 - accuracy: 0.9269\n",
      "\n",
      "Test loss: 0.27302855253219604\n",
      "Test accuracy: 0.9269000291824341\n"
     ]
    }
   ],
   "source": [
    "\n",
    "# 検証\n",
    "score = model.evaluate(x_test, y_test, verbose=1)\n",
    "print()\n",
    "print('Test loss:', score[0])\n",
    "print('Test accuracy:', score[1])\n"
   ]
  },
  {
   "cell_type": "code",
   "execution_count": 40,
   "id": "ab571fd5",
   "metadata": {},
   "outputs": [
    {
     "data": {
      "image/png": "[encoded data removed]",
      "text/plain": [
       "<PIL.Image.Image image mode=L size=28x28>"
      ]
     },
     "metadata": {},
     "output_type": "display_data"
    }
   ],
   "source": [
    "show(raw_x_test[0]) \n"
   ]
  },
  {
   "cell_type": "code",
   "execution_count": 43,
   "id": "d9d139bc",
   "metadata": {},
   "outputs": [
    {
     "data": {
      "text/plain": [
       "array([7, 2, 1, ..., 4, 5, 6])"
      ]
     },
     "execution_count": 43,
     "metadata": {},
     "output_type": "execute_result"
    }
   ],
   "source": [
    "np.argmax(p, axis=1)"
   ]
  },
  {
   "cell_type": "code",
   "execution_count": 44,
   "id": "ebf06247",
   "metadata": {
    "scrolled": true
   },
   "outputs": [
    {
     "name": "stdout",
     "output_type": "stream",
     "text": [
      "313/313 [==============================] - 0s 355us/step\n",
      "[7 2 1 0 4 1 4 9 6 9 0 6 9 0 1 5 9 7 3 4 9 6 6 5 4 0 7 4 0 1 3 1 3 6 7 2 7\n",
      " 1 2 1 1 7 4 2 3 5 1 2 4 4 6 3 5 5 6 0 4 1 9 5 7 8 9 2 7 4 6 4 3 0 7 0 2 9\n",
      " 1 7 3 2 9 7 7 6 2 7 8 4 7 3 6 1 3 6 9 3 1 4 1 7 6 9]\n",
      "[7 2 1 0 4 1 4 9 5 9 0 6 9 0 1 5 9 7 3 4 9 6 6 5 4 0 7 4 0 1 3 1 3 4 7 2 7\n",
      " 1 2 1 1 7 4 2 3 5 1 2 4 4 6 3 5 5 6 0 4 1 9 5 7 8 9 3 7 4 6 4 3 0 7 0 2 9\n",
      " 1 7 3 2 9 7 7 6 2 7 8 4 7 3 6 1 3 6 9 3 1 4 1 7 6 9]\n"
     ]
    },
    {
     "data": {
      "text/plain": [
       "[8, 33, 63]"
      ]
     },
     "execution_count": 44,
     "metadata": {},
     "output_type": "execute_result"
    }
   ],
   "source": [
    "p = model.predict(x_test)\n",
    "ans = np.argmax(p, axis=1)\n",
    "print(ans[0:100])   # AI の答え\n",
    "\n",
    "print(raw_y_test[0:100]) # 正解\n",
    "[i for i in range(100) if (ans[i] != raw_y_test[i])]\n"
   ]
  },
  {
   "cell_type": "code",
   "execution_count": 47,
   "id": "92539270",
   "metadata": {},
   "outputs": [
    {
     "data": {
      "image/png": "[encoded data removed]",
      "text/plain": [
       "<PIL.Image.Image image mode=L size=28x28>"
      ]
     },
     "metadata": {},
     "output_type": "display_data"
    }
   ],
   "source": [
    "show(raw_x_test[63]) \n"
   ]
  },
  {
   "cell_type": "code",
   "execution_count": null,
   "id": "92728321",
   "metadata": {},
   "outputs": [
    {
     "data": {
      "text/plain": [
       "array([9.9668057e-08, 3.0119825e-13, 3.7876081e-08, 1.7372594e-03,\n",
       "       1.1319405e-07, 1.3153890e-05, 2.9575108e-15, 9.9802339e-01,\n",
       "       1.9598892e-06, 2.2403333e-04], dtype=float32)"
      ]
     },
     "execution_count": 45,
     "metadata": {},
     "output_type": "execute_result"
    }
   ],
   "source": [
    "p[0]"
   ]
  },
  {
   "cell_type": "code",
   "execution_count": null,
   "id": "f3c6d56e",
   "metadata": {},
   "outputs": [
    {
     "data": {
      "text/plain": [
       "7"
      ]
     },
     "execution_count": 46,
     "metadata": {},
     "output_type": "execute_result"
    }
   ],
   "source": [
    "ans[0]"
   ]
  },
  {
   "cell_type": "code",
   "execution_count": 48,
   "id": "ae17aa65",
   "metadata": {},
   "outputs": [
    {
     "data": {
      "image/png": "[encoded data removed]",
      "text/plain": [
       "<PIL.Image.Image image mode=L size=28x28>"
      ]
     },
     "metadata": {},
     "output_type": "display_data"
    },
    {
     "name": "stdout",
     "output_type": "stream",
     "text": [
      "[4.8215495e-04 1.8624095e-06 4.2227623e-01 9.8831259e-02 2.2078224e-02\n",
      " 6.5078726e-04 4.4947040e-01 4.9013915e-03 1.2909955e-03 1.6694346e-05]\n",
      "正解=6, AIの答え=6\n"
     ]
    }
   ],
   "source": [
    "a = 66\n",
    "show(raw_x_test[a])\n",
    "print(p[a])\n",
    "print(f\"正解={raw_y_test[a]}, AIの答え={ans[a]}\")"
   ]
  },
  {
   "cell_type": "markdown",
   "id": "20222b94",
   "metadata": {},
   "source": [
    "ネットワークを組み替えて，より高機能にしましょう。具体的には，モデルに中間層として，全結合で，relu という活性化関数をもったものを追加します。層のセルの数は 128 にしましたが，これが最適かどうかは分かりません。いろんなパラメータ（ハイパーパラメータといいます）を経験に基づいて設定していく必要があります。"
   ]
  },
  {
   "cell_type": "code",
   "execution_count": 49,
   "id": "67e7ab91",
   "metadata": {},
   "outputs": [
    {
     "name": "stdout",
     "output_type": "stream",
     "text": [
      "Epoch 1/20\n",
      "469/469 [==============================] - 1s 1ms/step - loss: 0.3325 - accuracy: 0.9090 - val_loss: 0.1853 - val_accuracy: 0.9449\n",
      "Epoch 2/20\n",
      "469/469 [==============================] - 1s 1ms/step - loss: 0.1606 - accuracy: 0.9536 - val_loss: 0.1332 - val_accuracy: 0.9605\n",
      "Epoch 3/20\n",
      "469/469 [==============================] - 1s 1ms/step - loss: 0.1142 - accuracy: 0.9665 - val_loss: 0.1119 - val_accuracy: 0.9680\n",
      "Epoch 4/20\n",
      "469/469 [==============================] - 1s 1ms/step - loss: 0.0894 - accuracy: 0.9737 - val_loss: 0.0965 - val_accuracy: 0.9705\n",
      "Epoch 5/20\n",
      "469/469 [==============================] - 1s 1ms/step - loss: 0.0726 - accuracy: 0.9791 - val_loss: 0.0894 - val_accuracy: 0.9726\n",
      "Epoch 6/20\n",
      "469/469 [==============================] - 1s 1ms/step - loss: 0.0607 - accuracy: 0.9823 - val_loss: 0.0821 - val_accuracy: 0.9740\n",
      "Epoch 7/20\n",
      "469/469 [==============================] - 1s 1ms/step - loss: 0.0517 - accuracy: 0.9845 - val_loss: 0.0878 - val_accuracy: 0.9736\n",
      "Epoch 8/20\n",
      "469/469 [==============================] - 1s 1ms/step - loss: 0.0449 - accuracy: 0.9869 - val_loss: 0.0817 - val_accuracy: 0.9759\n",
      "Epoch 9/20\n",
      "469/469 [==============================] - 1s 1ms/step - loss: 0.0386 - accuracy: 0.9890 - val_loss: 0.0757 - val_accuracy: 0.9771\n",
      "Epoch 10/20\n",
      "469/469 [==============================] - 1s 1ms/step - loss: 0.0332 - accuracy: 0.9902 - val_loss: 0.0738 - val_accuracy: 0.9787\n",
      "Epoch 11/20\n",
      "469/469 [==============================] - 1s 1ms/step - loss: 0.0292 - accuracy: 0.9920 - val_loss: 0.0781 - val_accuracy: 0.9783\n",
      "Epoch 12/20\n",
      "469/469 [==============================] - 1s 1ms/step - loss: 0.0256 - accuracy: 0.9929 - val_loss: 0.0765 - val_accuracy: 0.9776\n",
      "Epoch 13/20\n",
      "469/469 [==============================] - 1s 1ms/step - loss: 0.0222 - accuracy: 0.9937 - val_loss: 0.0780 - val_accuracy: 0.9785\n",
      "Epoch 14/20\n",
      "469/469 [==============================] - 1s 1ms/step - loss: 0.0191 - accuracy: 0.9947 - val_loss: 0.0783 - val_accuracy: 0.9774\n",
      "Epoch 15/20\n",
      "469/469 [==============================] - 1s 1ms/step - loss: 0.0171 - accuracy: 0.9956 - val_loss: 0.0812 - val_accuracy: 0.9776\n",
      "Epoch 16/20\n",
      "469/469 [==============================] - 1s 1ms/step - loss: 0.0146 - accuracy: 0.9962 - val_loss: 0.0829 - val_accuracy: 0.9782\n",
      "Epoch 17/20\n",
      "469/469 [==============================] - 1s 1ms/step - loss: 0.0130 - accuracy: 0.9966 - val_loss: 0.0840 - val_accuracy: 0.9798\n",
      "Epoch 18/20\n",
      "469/469 [==============================] - 1s 1ms/step - loss: 0.0112 - accuracy: 0.9970 - val_loss: 0.0856 - val_accuracy: 0.9789\n",
      "Epoch 19/20\n",
      "469/469 [==============================] - 1s 1ms/step - loss: 0.0099 - accuracy: 0.9978 - val_loss: 0.0835 - val_accuracy: 0.9793\n",
      "Epoch 20/20\n",
      "469/469 [==============================] - 1s 1ms/step - loss: 0.0084 - accuracy: 0.9982 - val_loss: 0.0890 - val_accuracy: 0.9793\n",
      "313/313 [==============================] - 0s 407us/step - loss: 0.0890 - accuracy: 0.9793\n",
      "\n",
      "Test loss: 0.08897718042135239\n",
      "Test accuracy: 0.9793000221252441\n"
     ]
    }
   ],
   "source": [
    "# モデルの構築\n",
    "model2 = Sequential()\n",
    "model2.add(InputLayer(input_shape=(784,)))\n",
    "model2.add(Dense(128, activation='relu'))   # この行!!\n",
    "model2.add(Dense(10, activation='softmax'))\n",
    "model2.compile(loss='categorical_crossentropy', optimizer='rmsprop', metrics=['accuracy'])\n",
    "\n",
    "# 学習\n",
    "epochs = 20\n",
    "batch_size = 128\n",
    "history2 = model2.fit(x_train, y_train, batch_size=batch_size, epochs=epochs, verbose=1, validation_data=(x_test, y_test))\n",
    "\n",
    "\n",
    "# 検証\n",
    "score = model2.evaluate(x_test, y_test, verbose=1)\n",
    "print()\n",
    "print('Test loss:', score[0])\n",
    "print('Test accuracy:', score[1])\n"
   ]
  },
  {
   "cell_type": "markdown",
   "id": "13f4f191",
   "metadata": {},
   "source": [
    "先程より，さらに結果がよくなりました。\n",
    "\n",
    "学習の過程は，model.fit の返り値(history および history2) に格納されています。\n",
    "学習過程において，loss (損失値，この値が低いほどよい) と val_loss (テストデータに対する損失値)の値がどう変化したかをグラフ化します。\n",
    "このコードは，次のページからとってきました。\n",
    "\n",
    "https://weblabo.oscasierra.net/python/keras-mnist-sample.html"
   ]
  },
  {
   "cell_type": "code",
   "execution_count": 50,
   "id": "ab845adc",
   "metadata": {},
   "outputs": [
    {
     "data": {
      "image/png": "[encoded data removed]",
      "text/plain": [
       "<Figure size 640x480 with 1 Axes>"
      ]
     },
     "metadata": {},
     "output_type": "display_data"
    }
   ],
   "source": [
    "import matplotlib.pyplot as plt\n",
    "\n",
    "loss     = history.history['loss']\n",
    "val_loss = history.history['val_loss']\n",
    "\n",
    "nb_epoch = len(loss)\n",
    "plt.plot(range(nb_epoch), loss,     marker='.', label='loss')\n",
    "plt.plot(range(nb_epoch), val_loss, marker='.', label='val_loss')\n",
    "plt.legend(loc='best', fontsize=10)\n",
    "plt.grid()\n",
    "plt.xlabel('epoch')\n",
    "plt.ylabel('loss')\n",
    "plt.show()"
   ]
  },
  {
   "cell_type": "markdown",
   "id": "8ccb7957",
   "metadata": {},
   "source": [
    "val_loss の値は，一度下がってからまた少し上がっているようです。これは，過学習している（すなわち，訓練データに合わせすぎて汎用性がなくなってきている）と思われます。\n",
    "\n",
    "history2 も重ねてみましょう。"
   ]
  },
  {
   "cell_type": "code",
   "execution_count": null,
   "id": "8cf2c992",
   "metadata": {},
   "outputs": [
    {
     "data": {
      "image/png": "[encoded data removed]",
      "text/plain": [
       "<Figure size 640x480 with 1 Axes>"
      ]
     },
     "metadata": {},
     "output_type": "display_data"
    }
   ],
   "source": [
    "import matplotlib.pyplot as plt\n",
    "\n",
    "loss     = history.history['loss']\n",
    "val_loss = history.history['val_loss']\n",
    "loss2     = history2.history['loss']\n",
    "val_loss2 = history2.history['val_loss']\n",
    "\n",
    "nb_epoch = len(loss)\n",
    "plt.plot(range(nb_epoch), loss,     marker='.', label='loss')\n",
    "plt.plot(range(nb_epoch), val_loss, marker='.', label='val_loss')\n",
    "plt.plot(range(nb_epoch), loss2,     marker='.', label='loss2')\n",
    "plt.plot(range(nb_epoch), val_loss2, marker='.', label='val_loss2')\n",
    "plt.legend(loc='best', fontsize=10)\n",
    "plt.grid()\n",
    "plt.xlabel('epoch')\n",
    "plt.ylabel('loss')\n",
    "plt.show()"
   ]
  },
  {
   "cell_type": "markdown",
   "id": "293cf30b",
   "metadata": {},
   "source": [
    "訓練データに対しては値がどんどんよくなっているのに，テストデータに対しては悪くなってきているのは，過学習の特徴です。"
   ]
  },
  {
   "cell_type": "code",
   "execution_count": null,
   "id": "e838f2f0",
   "metadata": {},
   "outputs": [
    {
     "name": "stdout",
     "output_type": "stream",
     "text": [
      "  1/313 [..............................] - ETA: 9s"
     ]
    },
    {
     "name": "stdout",
     "output_type": "stream",
     "text": [
      "313/313 [==============================] - 0s 722us/step\n",
      "737\n",
      "10000\n",
      "313/313 [==============================] - 0s 335us/step\n",
      "229\n",
      "10000\n"
     ]
    }
   ],
   "source": [
    "p = np.argmax(model.predict(x_test), axis=1)\n",
    "print(len(list (filter (lambda x: x[0]!=x[1], (zip(p, raw_y_test))))))\n",
    "print(len(p))\n",
    "p2 = np.argmax(model2.predict(x_test), axis=1)\n",
    "print(len(list (filter (lambda x: x[0]!=x[1], (zip(p2, raw_y_test))))))\n",
    "print(len(p2))"
   ]
  },
  {
   "cell_type": "code",
   "execution_count": null,
   "id": "d3f13a0b",
   "metadata": {},
   "outputs": [],
   "source": []
  },
  {
   "cell_type": "code",
   "execution_count": null,
   "id": "a2f7ae70",
   "metadata": {},
   "outputs": [],
   "source": []
  }
 ],
 "metadata": {
  "kernelspec": {
   "display_name": "Python 3 (ipykernel)",
   "language": "python",
   "name": "python3"
  },
  "language_info": {
   "codemirror_mode": {
    "name": "ipython",
    "version": 3
   },
   "file_extension": ".py",
   "mimetype": "text/x-python",
   "name": "python",
   "nbconvert_exporter": "python",
   "pygments_lexer": "ipython3",
   "version": "3.11.2"
  }
 },
 "nbformat": 4,
 "nbformat_minor": 5
}
