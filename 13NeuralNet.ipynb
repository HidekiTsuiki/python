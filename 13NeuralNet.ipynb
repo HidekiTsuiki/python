{
 "cells": [
  {
   "cell_type": "markdown",
   "id": "bc0beba9",
   "metadata": {},
   "source": [
    "# ニューラルネット\n",
    "\n",
    "Python は，豊富なライブラリを備えています。特に，ニューラルネットワークなどの機械学習のライブラリが充実しています。機械学習の仕組みの詳細を知らなくても，データを揃えてライブラリを呼び出せば，ある程度のことができる状態になっています。文字認識のニューラルネットを題材に，その使い方を説明します。"
   ]
  },
  {
   "cell_type": "markdown",
   "id": "e1f401f4",
   "metadata": {},
   "source": [
    "ニューラルネットのライブラリとしては，オープンソースのPyTorch が広く使われています。\n",
    "その前には、Google が開発したオープンソースのシステムである TensorFlow が有名でした。さらに，Tensorflow のニューラルネットワークを組むための高レベルのライブラリである Keras を用いると，見よう見まねで，ある程度の機械学習を行えます。"
   ]
  },
  {
   "cell_type": "markdown",
   "id": "7a13a41e",
   "metadata": {},
   "source": [
    "ここでは、Tensorflow と Keras を用いて説明をしますが、これから学習する人は、PyTorch を用いることをお勧めします。Tenforflow, Keras, それに、PyTorch も、\n",
    "標準でインストールされていません。pip を用いてインストールします。\n",
    "また、Tensorflow と Keras は、python のバージョンを 3.8 下げないとサポートされていない可能性があります。また、MacOS で動かすのに、幾つかエラーに対処する必要がありました。\n",
    "\n",
    "\n",
    "このソースは，以下のページからとってきたものを，説明用に加工したものです。\n",
    "このページの解説は十分によく書けているので，これを見て勉強してください。\n",
    "\n",
    "https://weblabo.oscasierra.net/python/keras-mnist-sample.html\n"
   ]
  },
  {
   "cell_type": "markdown",
   "id": "8135a979",
   "metadata": {},
   "source": [
    "ただし，場合によっては，python のバージョンを下げることが要求されます。\n",
    "それは，anaconda の画面からはできなそうで，conda コマンドで行います。\n",
    "```\n",
    "conda info -e       environment を見ます。\n",
    "conda activate mnist    mnist にデフォルトの environment を変えます。\n",
    "conda install python=3.7   python のバージョンを 3.7 に下げます。\n",
    "conda install tensorflow   tenforflow のインストール\n",
    "```"
   ]
  },
  {
   "cell_type": "code",
   "execution_count": 63,
   "id": "f175872e",
   "metadata": {},
   "outputs": [],
   "source": [
    "import keras\n",
    "from keras.datasets import mnist\n",
    "from keras.models import Sequential\n",
    "from keras.layers import Dense, Dropout, InputLayer\n",
    "from keras.optimizers import RMSprop"
   ]
  },
  {
   "cell_type": "code",
   "execution_count": 64,
   "id": "d8864bbf",
   "metadata": {},
   "outputs": [],
   "source": [
    "# MNISTデータを読込む\n",
    "(raw_x_train, raw_y_train), (raw_x_test, raw_y_test) = mnist.load_data()"
   ]
  },
  {
   "cell_type": "markdown",
   "id": "2485fecc",
   "metadata": {},
   "source": [
    "mnist は，手書きの数字のテストデータとして広く使われているデータです。mnist モジュールのload_data() の呼び出しで，ネットからダウンロードされ，トレーニング用，テスト用のデータに分けられます。"
   ]
  },
  {
   "cell_type": "code",
   "execution_count": 65,
   "id": "c9b13028",
   "metadata": {},
   "outputs": [
    {
     "name": "stdout",
     "output_type": "stream",
     "text": [
      "<class 'numpy.ndarray'> (60000, 28, 28) uint8\n",
      "<class 'numpy.ndarray'> (60000,) uint8\n",
      "<class 'numpy.ndarray'> (10000, 28, 28) uint8\n",
      "<class 'numpy.ndarray'> (10000,) uint8\n"
     ]
    }
   ],
   "source": [
    "print(type(raw_x_train), raw_x_train.shape, raw_x_train.dtype)\n",
    "print(type(raw_y_train), raw_y_train.shape, raw_y_train.dtype)\n",
    "print(type(raw_x_test), raw_x_test.shape, raw_x_test.dtype)\n",
    "print(type(raw_y_test), raw_y_test.shape, raw_y_test.dtype)"
   ]
  },
  {
   "cell_type": "markdown",
   "id": "ced4cd65",
   "metadata": {},
   "source": [
    "このように，raw_x_train, raw_x_test には，28x28 の unit 8 の配列がそれぞれ 60000, 10000 枚はいっています。これらが手書きの画像です。unit 8 は，符号なしビットビット整数(0 から 255 まで) です。\n",
    "\n",
    "raw_y_train, raw_y_test には，unit8 の数が入っています。これは，0 から 9 までのどの文字かを表しています。\n",
    "\n",
    "次のようにして Pillow で表示できます。\n",
    "（pillow はインストールされていないなら，インストールしましょう。）"
   ]
  },
  {
   "cell_type": "code",
   "execution_count": 67,
   "id": "9a01ce89",
   "metadata": {},
   "outputs": [
    {
     "name": "stdout",
     "output_type": "stream",
     "text": [
      "0\n"
     ]
    }
   ],
   "source": [
    "import numpy as np\n",
    "import PIL.Image as Image\n",
    "\n",
    "# 文字表示\n",
    "def show(img):\n",
    "    img = Image.fromarray(np.uint8(img))\n",
    "    img.show()\n",
    "    \n",
    "show(raw_x_train[108]) \n",
    "print(raw_y_train[108])"
   ]
  },
  {
   "cell_type": "markdown",
   "id": "ca348a72",
   "metadata": {},
   "source": [
    "この形では，ニューラルネットは扱えないので，次のように加工します。\n",
    "画像は，0 から 1 の実数を 784 (28x28) 個並べた形にします。\n",
    "正解データは，その部分だけが 1 の実数データにします（one-hot 表現）。"
   ]
  },
  {
   "cell_type": "code",
   "execution_count": 32,
   "id": "16d0123d",
   "metadata": {},
   "outputs": [],
   "source": [
    "x_train  = raw_x_train.reshape(60000, 784)\n",
    "x_test   = raw_x_test.reshape(10000, 784)\n",
    "x_train  = x_train.astype('float32')\n",
    "x_test   = x_test.astype('float32')\n",
    "x_train /= 255\n",
    "x_test  /= 255\n",
    "y_train  = keras.utils.to_categorical(raw_y_train, 10)\n",
    "y_test   = keras.utils.to_categorical(raw_y_test, 10)"
   ]
  },
  {
   "cell_type": "code",
   "execution_count": 33,
   "id": "74490b05",
   "metadata": {},
   "outputs": [
    {
     "name": "stdout",
     "output_type": "stream",
     "text": [
      "<class 'numpy.ndarray'> (60000, 784) float32\n",
      "<class 'numpy.ndarray'> (60000, 10) float32\n"
     ]
    }
   ],
   "source": [
    "print(type(x_train), x_train.shape, x_train.dtype)\n",
    "print(type(y_train), y_train.shape, y_train.dtype)"
   ]
  },
  {
   "cell_type": "code",
   "execution_count": 34,
   "id": "dc7fdea4",
   "metadata": {
    "scrolled": true
   },
   "outputs": [
    {
     "name": "stdout",
     "output_type": "stream",
     "text": [
      "[0.         0.         0.         0.         0.         0.\n",
      " 0.         0.         0.         0.         0.         0.\n",
      " 0.         0.         0.         0.         0.         0.\n",
      " 0.         0.         0.         0.         0.         0.\n",
      " 0.         0.         0.         0.         0.         0.\n",
      " 0.         0.         0.         0.         0.         0.\n",
      " 0.         0.         0.         0.         0.         0.\n",
      " 0.         0.         0.         0.         0.         0.\n",
      " 0.         0.         0.         0.         0.01176471 0.07058824\n",
      " 0.07058824 0.07058824 0.49411765 0.53333336 0.6862745  0.10196079\n",
      " 0.6509804  1.         0.96862745 0.49803922 0.         0.\n",
      " 0.         0.         0.         0.         0.         0.\n",
      " 0.         0.         0.         0.         0.11764706 0.14117648\n",
      " 0.36862746 0.6039216  0.6666667  0.99215686 0.99215686 0.99215686\n",
      " 0.99215686 0.99215686 0.88235295 0.6745098  0.99215686 0.9490196\n",
      " 0.7647059  0.2509804  0.         0.         0.         0.\n",
      " 0.         0.         0.         0.        ]\n"
     ]
    }
   ],
   "source": [
    "print(x_train[0][100:200])"
   ]
  },
  {
   "cell_type": "code",
   "execution_count": 35,
   "id": "5999f1bd",
   "metadata": {},
   "outputs": [
    {
     "name": "stdout",
     "output_type": "stream",
     "text": [
      "[0. 0. 0. 0. 0. 1. 0. 0. 0. 0.]\n"
     ]
    }
   ],
   "source": [
    "print(y_train[0])"
   ]
  },
  {
   "cell_type": "markdown",
   "id": "e38df9c7",
   "metadata": {},
   "source": [
    "ニューラルネットをモデルとして組みます。\n",
    "最初は，入力層と出力層だけがあり，それが，全結合でつながったもので試しましょう。"
   ]
  },
  {
   "cell_type": "code",
   "execution_count": 68,
   "id": "431eb880",
   "metadata": {},
   "outputs": [],
   "source": [
    "# モデルの構築\n",
    "model = Sequential()\n",
    "model.add(InputLayer(input_shape=(784,)))\n",
    "#model.add(Dense(128, activation='relu'))\n",
    "model.add(Dense(10, activation='softmax'))\n",
    "model.compile(loss='categorical_crossentropy', optimizer='rmsprop', metrics=['accuracy'])\n"
   ]
  },
  {
   "cell_type": "markdown",
   "id": "2b8b1b54",
   "metadata": {},
   "source": [
    "model.fit により，学習を行いましょう。データを batch_size で指定された長さのバッチに分けて，バッチごとに学習します。学習は行列計算で実現されるので，ある程度の量のデータを一度に処理した方が効率が出ます。\n",
    "\n",
    "全データに対する学習を，epochs で指定された回数繰り返します。\n",
    "繰り返すごとに，性能があがっていきます。loss の値が下がり，accuracy の値が上がっていきます。"
   ]
  },
  {
   "cell_type": "code",
   "execution_count": 69,
   "id": "fa03a1ce",
   "metadata": {},
   "outputs": [
    {
     "name": "stdout",
     "output_type": "stream",
     "text": [
      "Epoch 1/20\n",
      "469/469 [==============================] - 2s 4ms/step - loss: 0.5969 - accuracy: 0.8508 - val_loss: 0.3432 - val_accuracy: 0.9081\n",
      "Epoch 2/20\n",
      "469/469 [==============================] - 1s 1ms/step - loss: 0.3334 - accuracy: 0.9079 - val_loss: 0.3029 - val_accuracy: 0.9145\n",
      "Epoch 3/20\n",
      "469/469 [==============================] - 1s 1ms/step - loss: 0.3048 - accuracy: 0.9151 - val_loss: 0.2896 - val_accuracy: 0.9184\n",
      "Epoch 4/20\n",
      "469/469 [==============================] - 1s 1ms/step - loss: 0.2911 - accuracy: 0.9189 - val_loss: 0.2805 - val_accuracy: 0.9232\n",
      "Epoch 5/20\n",
      "469/469 [==============================] - 1s 1ms/step - loss: 0.2831 - accuracy: 0.9212 - val_loss: 0.2744 - val_accuracy: 0.9241\n",
      "Epoch 6/20\n",
      "469/469 [==============================] - 1s 1ms/step - loss: 0.2775 - accuracy: 0.9227 - val_loss: 0.2711 - val_accuracy: 0.9253\n",
      "Epoch 7/20\n",
      "469/469 [==============================] - 1s 2ms/step - loss: 0.2732 - accuracy: 0.9254 - val_loss: 0.2702 - val_accuracy: 0.9248\n",
      "Epoch 8/20\n",
      "469/469 [==============================] - 1s 2ms/step - loss: 0.2702 - accuracy: 0.9252 - val_loss: 0.2673 - val_accuracy: 0.9245\n",
      "Epoch 9/20\n",
      "469/469 [==============================] - 1s 2ms/step - loss: 0.2673 - accuracy: 0.9267 - val_loss: 0.2684 - val_accuracy: 0.9257\n",
      "Epoch 10/20\n",
      "469/469 [==============================] - 1s 2ms/step - loss: 0.2650 - accuracy: 0.9270 - val_loss: 0.2680 - val_accuracy: 0.9258\n",
      "Epoch 11/20\n",
      "469/469 [==============================] - 1s 2ms/step - loss: 0.2631 - accuracy: 0.9276 - val_loss: 0.2656 - val_accuracy: 0.9273\n",
      "Epoch 12/20\n",
      "469/469 [==============================] - 1s 2ms/step - loss: 0.2614 - accuracy: 0.9283 - val_loss: 0.2678 - val_accuracy: 0.9256\n",
      "Epoch 13/20\n",
      "469/469 [==============================] - 1s 2ms/step - loss: 0.2597 - accuracy: 0.9289 - val_loss: 0.2649 - val_accuracy: 0.9266\n",
      "Epoch 14/20\n",
      "469/469 [==============================] - 1s 1ms/step - loss: 0.2584 - accuracy: 0.9290 - val_loss: 0.2655 - val_accuracy: 0.9279\n",
      "Epoch 15/20\n",
      "469/469 [==============================] - 1s 2ms/step - loss: 0.2574 - accuracy: 0.9301 - val_loss: 0.2680 - val_accuracy: 0.9266\n",
      "Epoch 16/20\n",
      "469/469 [==============================] - 1s 2ms/step - loss: 0.2562 - accuracy: 0.9307 - val_loss: 0.2656 - val_accuracy: 0.9258\n",
      "Epoch 17/20\n",
      "469/469 [==============================] - 1s 2ms/step - loss: 0.2551 - accuracy: 0.9309 - val_loss: 0.2658 - val_accuracy: 0.9269\n",
      "Epoch 18/20\n",
      "469/469 [==============================] - 1s 2ms/step - loss: 0.2543 - accuracy: 0.9309 - val_loss: 0.2691 - val_accuracy: 0.9274\n",
      "Epoch 19/20\n",
      "469/469 [==============================] - 1s 2ms/step - loss: 0.2535 - accuracy: 0.9311 - val_loss: 0.2631 - val_accuracy: 0.9279\n",
      "Epoch 20/20\n",
      "469/469 [==============================] - 1s 2ms/step - loss: 0.2525 - accuracy: 0.9316 - val_loss: 0.2673 - val_accuracy: 0.9265\n"
     ]
    }
   ],
   "source": [
    "# 学習\n",
    "epochs = 20\n",
    "batch_size = 128\n",
    "history = model.fit(x_train, y_train, batch_size=batch_size, epochs=epochs, verbose=1, validation_data=(x_test, y_test))\n"
   ]
  },
  {
   "cell_type": "markdown",
   "id": "ed704953",
   "metadata": {},
   "source": [
    "テストデータで検証します。"
   ]
  },
  {
   "cell_type": "code",
   "execution_count": 70,
   "id": "417316f0",
   "metadata": {},
   "outputs": [
    {
     "name": "stdout",
     "output_type": "stream",
     "text": [
      "313/313 [==============================] - 0s 961us/step - loss: 0.2673 - accuracy: 0.9265\n",
      "\n",
      "Test loss: 0.26729854941368103\n",
      "Test accuracy: 0.9265000224113464\n"
     ]
    }
   ],
   "source": [
    "\n",
    "# 検証\n",
    "score = model.evaluate(x_test, y_test, verbose=1)\n",
    "print()\n",
    "print('Test loss:', score[0])\n",
    "print('Test accuracy:', score[1])\n"
   ]
  },
  {
   "cell_type": "code",
   "execution_count": 71,
   "id": "ab571fd5",
   "metadata": {},
   "outputs": [],
   "source": [
    "show(raw_x_test[0]) \n"
   ]
  },
  {
   "cell_type": "code",
   "execution_count": 72,
   "id": "d9d139bc",
   "metadata": {},
   "outputs": [
    {
     "ename": "AxisError",
     "evalue": "axis 1 is out of bounds for array of dimension 1",
     "output_type": "error",
     "traceback": [
      "\u001b[0;31m---------------------------------------------------------------------------\u001b[0m",
      "\u001b[0;31mAxisError\u001b[0m                                 Traceback (most recent call last)",
      "Cell \u001b[0;32mIn [72], line 1\u001b[0m\n\u001b[0;32m----> 1\u001b[0m \u001b[43mnp\u001b[49m\u001b[38;5;241;43m.\u001b[39;49m\u001b[43margmax\u001b[49m\u001b[43m(\u001b[49m\u001b[43mp\u001b[49m\u001b[43m,\u001b[49m\u001b[43m \u001b[49m\u001b[43maxis\u001b[49m\u001b[38;5;241;43m=\u001b[39;49m\u001b[38;5;241;43m1\u001b[39;49m\u001b[43m)\u001b[49m\n",
      "File \u001b[0;32m<__array_function__ internals>:180\u001b[0m, in \u001b[0;36margmax\u001b[0;34m(*args, **kwargs)\u001b[0m\n",
      "File \u001b[0;32m/Library/Frameworks/Python.framework/Versions/3.10/lib/python3.10/site-packages/numpy/core/fromnumeric.py:1216\u001b[0m, in \u001b[0;36margmax\u001b[0;34m(a, axis, out, keepdims)\u001b[0m\n\u001b[1;32m   1129\u001b[0m \u001b[38;5;124;03m\"\"\"\u001b[39;00m\n\u001b[1;32m   1130\u001b[0m \u001b[38;5;124;03mReturns the indices of the maximum values along an axis.\u001b[39;00m\n\u001b[1;32m   1131\u001b[0m \n\u001b[0;32m   (...)\u001b[0m\n\u001b[1;32m   1213\u001b[0m \u001b[38;5;124;03m(2, 1, 4)\u001b[39;00m\n\u001b[1;32m   1214\u001b[0m \u001b[38;5;124;03m\"\"\"\u001b[39;00m\n\u001b[1;32m   1215\u001b[0m kwds \u001b[38;5;241m=\u001b[39m {\u001b[38;5;124m'\u001b[39m\u001b[38;5;124mkeepdims\u001b[39m\u001b[38;5;124m'\u001b[39m: keepdims} \u001b[38;5;28;01mif\u001b[39;00m keepdims \u001b[38;5;129;01mis\u001b[39;00m \u001b[38;5;129;01mnot\u001b[39;00m np\u001b[38;5;241m.\u001b[39m_NoValue \u001b[38;5;28;01melse\u001b[39;00m {}\n\u001b[0;32m-> 1216\u001b[0m \u001b[38;5;28;01mreturn\u001b[39;00m \u001b[43m_wrapfunc\u001b[49m\u001b[43m(\u001b[49m\u001b[43ma\u001b[49m\u001b[43m,\u001b[49m\u001b[43m \u001b[49m\u001b[38;5;124;43m'\u001b[39;49m\u001b[38;5;124;43margmax\u001b[39;49m\u001b[38;5;124;43m'\u001b[39;49m\u001b[43m,\u001b[49m\u001b[43m \u001b[49m\u001b[43maxis\u001b[49m\u001b[38;5;241;43m=\u001b[39;49m\u001b[43maxis\u001b[49m\u001b[43m,\u001b[49m\u001b[43m \u001b[49m\u001b[43mout\u001b[49m\u001b[38;5;241;43m=\u001b[39;49m\u001b[43mout\u001b[49m\u001b[43m,\u001b[49m\u001b[43m \u001b[49m\u001b[38;5;241;43m*\u001b[39;49m\u001b[38;5;241;43m*\u001b[39;49m\u001b[43mkwds\u001b[49m\u001b[43m)\u001b[49m\n",
      "File \u001b[0;32m/Library/Frameworks/Python.framework/Versions/3.10/lib/python3.10/site-packages/numpy/core/fromnumeric.py:57\u001b[0m, in \u001b[0;36m_wrapfunc\u001b[0;34m(obj, method, *args, **kwds)\u001b[0m\n\u001b[1;32m     54\u001b[0m     \u001b[38;5;28;01mreturn\u001b[39;00m _wrapit(obj, method, \u001b[38;5;241m*\u001b[39margs, \u001b[38;5;241m*\u001b[39m\u001b[38;5;241m*\u001b[39mkwds)\n\u001b[1;32m     56\u001b[0m \u001b[38;5;28;01mtry\u001b[39;00m:\n\u001b[0;32m---> 57\u001b[0m     \u001b[38;5;28;01mreturn\u001b[39;00m \u001b[43mbound\u001b[49m\u001b[43m(\u001b[49m\u001b[38;5;241;43m*\u001b[39;49m\u001b[43margs\u001b[49m\u001b[43m,\u001b[49m\u001b[43m \u001b[49m\u001b[38;5;241;43m*\u001b[39;49m\u001b[38;5;241;43m*\u001b[39;49m\u001b[43mkwds\u001b[49m\u001b[43m)\u001b[49m\n\u001b[1;32m     58\u001b[0m \u001b[38;5;28;01mexcept\u001b[39;00m \u001b[38;5;167;01mTypeError\u001b[39;00m:\n\u001b[1;32m     59\u001b[0m     \u001b[38;5;66;03m# A TypeError occurs if the object does have such a method in its\u001b[39;00m\n\u001b[1;32m     60\u001b[0m     \u001b[38;5;66;03m# class, but its signature is not identical to that of NumPy's. This\u001b[39;00m\n\u001b[0;32m   (...)\u001b[0m\n\u001b[1;32m     64\u001b[0m     \u001b[38;5;66;03m# Call _wrapit from within the except clause to ensure a potential\u001b[39;00m\n\u001b[1;32m     65\u001b[0m     \u001b[38;5;66;03m# exception has a traceback chain.\u001b[39;00m\n\u001b[1;32m     66\u001b[0m     \u001b[38;5;28;01mreturn\u001b[39;00m _wrapit(obj, method, \u001b[38;5;241m*\u001b[39margs, \u001b[38;5;241m*\u001b[39m\u001b[38;5;241m*\u001b[39mkwds)\n",
      "\u001b[0;31mAxisError\u001b[0m: axis 1 is out of bounds for array of dimension 1"
     ]
    }
   ],
   "source": [
    "np.argmax(p, axis=1)"
   ]
  },
  {
   "cell_type": "code",
   "execution_count": 75,
   "id": "ebf06247",
   "metadata": {
    "scrolled": true
   },
   "outputs": [
    {
     "name": "stdout",
     "output_type": "stream",
     "text": [
      "313/313 [==============================] - 0s 936us/step\n",
      "[7 2 1 0 4 1 4 9 6 9 0 6 9 0 1 5 9 7 3 4 9 6 6 5 4 0 7 4 0 1 3 1 3 0 7 2 7\n",
      " 1 2 1 1 7 4 2 3 5 1 2 4 4 6 3 5 5 6 0 4 1 9 5 7 8 9 2 7 4 2 4 3 0 7 0 2 9\n",
      " 1 7 3 2 9 7 7 6 2 7 8 4 7 3 6 1 3 6 9 3 1 4 1 7 6 9]\n",
      "[7 2 1 0 4 1 4 9 5 9 0 6 9 0 1 5 9 7 3 4 9 6 6 5 4 0 7 4 0 1 3 1 3 4 7 2 7\n",
      " 1 2 1 1 7 4 2 3 5 1 2 4 4 6 3 5 5 6 0 4 1 9 5 7 8 9 3 7 4 6 4 3 0 7 0 2 9\n",
      " 1 7 3 2 9 7 7 6 2 7 8 4 7 3 6 1 3 6 9 3 1 4 1 7 6 9]\n"
     ]
    },
    {
     "data": {
      "text/plain": [
       "[8, 33, 63, 66]"
      ]
     },
     "execution_count": 75,
     "metadata": {},
     "output_type": "execute_result"
    }
   ],
   "source": [
    "p = model.predict(x_test)\n",
    "ans = np.argmax(p, axis=1)\n",
    "print(ans[0:100])   # AI の答え\n",
    "\n",
    "print(raw_y_test[0:100]) # 正解\n",
    "[i for i in range(100) if (ans[i] != raw_y_test[i])]\n"
   ]
  },
  {
   "cell_type": "code",
   "execution_count": 77,
   "id": "92728321",
   "metadata": {},
   "outputs": [
    {
     "data": {
      "text/plain": [
       "array([1.7081387e-06, 1.1270589e-12, 3.7030418e-06, 1.5621153e-03,\n",
       "       9.3227364e-08, 9.5801688e-06, 5.5126688e-11, 9.9829274e-01,\n",
       "       4.7871590e-06, 1.2528825e-04], dtype=float32)"
      ]
     },
     "execution_count": 77,
     "metadata": {},
     "output_type": "execute_result"
    }
   ],
   "source": [
    "p[0]"
   ]
  },
  {
   "cell_type": "code",
   "execution_count": 78,
   "id": "f3c6d56e",
   "metadata": {},
   "outputs": [
    {
     "data": {
      "text/plain": [
       "7"
      ]
     },
     "execution_count": 78,
     "metadata": {},
     "output_type": "execute_result"
    }
   ],
   "source": [
    "ans[0]"
   ]
  },
  {
   "cell_type": "code",
   "execution_count": 88,
   "id": "ae17aa65",
   "metadata": {},
   "outputs": [
    {
     "name": "stdout",
     "output_type": "stream",
     "text": [
      "[8.1436511e-04 1.6816844e-05 4.1090602e-01 1.5424089e-01 4.2897210e-02\n",
      " 1.8115634e-03 1.4021832e-01 2.3824069e-01 9.9571208e-03 8.9704210e-04]\n",
      "正解=6, AIの答え=2\n"
     ]
    }
   ],
   "source": [
    "a = 66\n",
    "show(raw_x_test[a])\n",
    "print(p[a])\n",
    "print(f\"正解={raw_y_test[a]}, AIの答え={ans[a]}\")"
   ]
  },
  {
   "cell_type": "markdown",
   "id": "20222b94",
   "metadata": {},
   "source": [
    "ネットワークを組み替えて，より高機能にしましょう。具体的には，モデルに中間層として，全結合で，relu という活性化関数をもったものを追加します。層のセルの数は 128 にしましたが，これが最適かどうかは分かりません。いろんなパラメータ（ハイパーパラメータといいます）を経験に基づいて設定していく必要があります。"
   ]
  },
  {
   "cell_type": "code",
   "execution_count": 89,
   "id": "67e7ab91",
   "metadata": {},
   "outputs": [
    {
     "name": "stdout",
     "output_type": "stream",
     "text": [
      "Epoch 1/20\n",
      "469/469 [==============================] - 3s 5ms/step - loss: 0.3427 - accuracy: 0.9056 - val_loss: 0.1973 - val_accuracy: 0.9425\n",
      "Epoch 2/20\n",
      "469/469 [==============================] - 2s 4ms/step - loss: 0.1627 - accuracy: 0.9529 - val_loss: 0.1360 - val_accuracy: 0.9601\n",
      "Epoch 3/20\n",
      "469/469 [==============================] - 2s 4ms/step - loss: 0.1166 - accuracy: 0.9663 - val_loss: 0.1067 - val_accuracy: 0.9687\n",
      "Epoch 4/20\n",
      "469/469 [==============================] - 2s 4ms/step - loss: 0.0897 - accuracy: 0.9738 - val_loss: 0.0971 - val_accuracy: 0.9701\n",
      "Epoch 5/20\n",
      "469/469 [==============================] - 2s 4ms/step - loss: 0.0728 - accuracy: 0.9790 - val_loss: 0.0860 - val_accuracy: 0.9743\n",
      "Epoch 6/20\n",
      "469/469 [==============================] - 2s 5ms/step - loss: 0.0614 - accuracy: 0.9821 - val_loss: 0.0769 - val_accuracy: 0.9756\n",
      "Epoch 7/20\n",
      "469/469 [==============================] - 2s 4ms/step - loss: 0.0516 - accuracy: 0.9850 - val_loss: 0.0758 - val_accuracy: 0.9750\n",
      "Epoch 8/20\n",
      "469/469 [==============================] - 2s 4ms/step - loss: 0.0443 - accuracy: 0.9872 - val_loss: 0.0785 - val_accuracy: 0.9754\n",
      "Epoch 9/20\n",
      "469/469 [==============================] - 2s 4ms/step - loss: 0.0382 - accuracy: 0.9891 - val_loss: 0.0732 - val_accuracy: 0.9764\n",
      "Epoch 10/20\n",
      "469/469 [==============================] - 2s 4ms/step - loss: 0.0327 - accuracy: 0.9907 - val_loss: 0.0753 - val_accuracy: 0.9759\n",
      "Epoch 11/20\n",
      "469/469 [==============================] - 2s 4ms/step - loss: 0.0282 - accuracy: 0.9920 - val_loss: 0.0677 - val_accuracy: 0.9791\n",
      "Epoch 12/20\n",
      "469/469 [==============================] - 2s 4ms/step - loss: 0.0243 - accuracy: 0.9936 - val_loss: 0.0666 - val_accuracy: 0.9796\n",
      "Epoch 13/20\n",
      "469/469 [==============================] - 2s 4ms/step - loss: 0.0211 - accuracy: 0.9944 - val_loss: 0.0725 - val_accuracy: 0.9775\n",
      "Epoch 14/20\n",
      "469/469 [==============================] - 2s 5ms/step - loss: 0.0179 - accuracy: 0.9955 - val_loss: 0.0686 - val_accuracy: 0.9795\n",
      "Epoch 15/20\n",
      "469/469 [==============================] - 2s 4ms/step - loss: 0.0155 - accuracy: 0.9962 - val_loss: 0.0672 - val_accuracy: 0.9795\n",
      "Epoch 16/20\n",
      "469/469 [==============================] - 2s 4ms/step - loss: 0.0133 - accuracy: 0.9968 - val_loss: 0.0692 - val_accuracy: 0.9792\n",
      "Epoch 17/20\n",
      "469/469 [==============================] - 2s 4ms/step - loss: 0.0113 - accuracy: 0.9974 - val_loss: 0.0743 - val_accuracy: 0.9787\n",
      "Epoch 18/20\n",
      "469/469 [==============================] - 2s 4ms/step - loss: 0.0099 - accuracy: 0.9976 - val_loss: 0.0711 - val_accuracy: 0.9805\n",
      "Epoch 19/20\n",
      "469/469 [==============================] - 2s 4ms/step - loss: 0.0084 - accuracy: 0.9982 - val_loss: 0.0721 - val_accuracy: 0.9798\n",
      "Epoch 20/20\n",
      "469/469 [==============================] - 2s 4ms/step - loss: 0.0068 - accuracy: 0.9985 - val_loss: 0.0709 - val_accuracy: 0.9802\n",
      "313/313 [==============================] - 1s 2ms/step - loss: 0.0709 - accuracy: 0.9802\n",
      "\n",
      "Test loss: 0.07091942429542542\n",
      "Test accuracy: 0.9801999926567078\n"
     ]
    }
   ],
   "source": [
    "# モデルの構築\n",
    "model2 = Sequential()\n",
    "model2.add(InputLayer(input_shape=(784,)))\n",
    "model2.add(Dense(128, activation='relu'))   # この行!!\n",
    "model2.add(Dense(10, activation='softmax'))\n",
    "model2.compile(loss='categorical_crossentropy', optimizer='rmsprop', metrics=['accuracy'])\n",
    "\n",
    "# 学習\n",
    "epochs = 20\n",
    "batch_size = 128\n",
    "history2 = model2.fit(x_train, y_train, batch_size=batch_size, epochs=epochs, verbose=1, validation_data=(x_test, y_test))\n",
    "\n",
    "\n",
    "# 検証\n",
    "score = model2.evaluate(x_test, y_test, verbose=1)\n",
    "print()\n",
    "print('Test loss:', score[0])\n",
    "print('Test accuracy:', score[1])\n"
   ]
  },
  {
   "cell_type": "markdown",
   "id": "13f4f191",
   "metadata": {},
   "source": [
    "先程より，さらに結果がよくなりました。\n",
    "\n",
    "学習の過程は，model.fit の返り値(history および history2) に格納されています。\n",
    "学習過程において，loss (損失値，この値が低いほどよい) と val_loss (テストデータに対する損失値)の値がどう変化したかをグラフ化します。\n",
    "このコードは，次のページからとってきました。\n",
    "\n",
    "https://weblabo.oscasierra.net/python/keras-mnist-sample.html"
   ]
  },
  {
   "cell_type": "code",
   "execution_count": 90,
   "id": "ab845adc",
   "metadata": {},
   "outputs": [
    {
     "data": {
      "image/png": "[encoded data removed]",
      "text/plain": [
       "<Figure size 640x480 with 1 Axes>"
      ]
     },
     "metadata": {},
     "output_type": "display_data"
    }
   ],
   "source": [
    "import matplotlib.pyplot as plt\n",
    "\n",
    "loss     = history.history['loss']\n",
    "val_loss = history.history['val_loss']\n",
    "\n",
    "nb_epoch = len(loss)\n",
    "plt.plot(range(nb_epoch), loss,     marker='.', label='loss')\n",
    "plt.plot(range(nb_epoch), val_loss, marker='.', label='val_loss')\n",
    "plt.legend(loc='best', fontsize=10)\n",
    "plt.grid()\n",
    "plt.xlabel('epoch')\n",
    "plt.ylabel('loss')\n",
    "plt.show()"
   ]
  },
  {
   "cell_type": "markdown",
   "id": "8ccb7957",
   "metadata": {},
   "source": [
    "val_loss の値は，一度下がってからまた少し上がっているようです。これは，過学習している（すなわち，訓練データに合わせすぎて汎用性がなくなってきている）と思われます。\n",
    "\n",
    "history2 も重ねてみましょう。"
   ]
  },
  {
   "cell_type": "code",
   "execution_count": 91,
   "id": "8cf2c992",
   "metadata": {},
   "outputs": [
    {
     "data": {
      "image/png": "[encoded data removed]",
      "text/plain": [
       "<Figure size 640x480 with 1 Axes>"
      ]
     },
     "metadata": {},
     "output_type": "display_data"
    }
   ],
   "source": [
    "import matplotlib.pyplot as plt\n",
    "\n",
    "loss     = history.history['loss']\n",
    "val_loss = history.history['val_loss']\n",
    "loss2     = history2.history['loss']\n",
    "val_loss2 = history2.history['val_loss']\n",
    "\n",
    "nb_epoch = len(loss)\n",
    "plt.plot(range(nb_epoch), loss,     marker='.', label='loss')\n",
    "plt.plot(range(nb_epoch), val_loss, marker='.', label='val_loss')\n",
    "plt.plot(range(nb_epoch), loss2,     marker='.', label='loss2')\n",
    "plt.plot(range(nb_epoch), val_loss2, marker='.', label='val_loss2')\n",
    "plt.legend(loc='best', fontsize=10)\n",
    "plt.grid()\n",
    "plt.xlabel('epoch')\n",
    "plt.ylabel('loss')\n",
    "plt.show()"
   ]
  },
  {
   "cell_type": "markdown",
   "id": "293cf30b",
   "metadata": {},
   "source": [
    "訓練データに対しては値がどんどんよくなっているのに，テストデータに対しては悪くなってきているのは，過学習の特徴です。"
   ]
  },
  {
   "cell_type": "code",
   "execution_count": 61,
   "id": "e838f2f0",
   "metadata": {},
   "outputs": [
    {
     "name": "stdout",
     "output_type": "stream",
     "text": [
      "313/313 [==============================] - 0s 922us/step\n",
      "726\n",
      "10000\n",
      "313/313 [==============================] - 0s 980us/step\n",
      "206\n",
      "10000\n"
     ]
    }
   ],
   "source": [
    "p = np.argmax(model.predict(x_test), axis=1)\n",
    "print(len(list (filter (lambda x: x[0]!=x[1], (zip(p, raw_y_test))))))\n",
    "print(len(p))\n",
    "p2 = np.argmax(model2.predict(x_test), axis=1)\n",
    "print(len(list (filter (lambda x: x[0]!=x[1], (zip(p2, raw_y_test))))))\n",
    "print(len(p2))"
   ]
  },
  {
   "cell_type": "code",
   "execution_count": null,
   "id": "d3f13a0b",
   "metadata": {},
   "outputs": [],
   "source": []
  }
 ],
 "metadata": {
  "kernelspec": {
   "display_name": "Python 3 (ipykernel)",
   "language": "python",
   "name": "python3"
  },
  "language_info": {
   "codemirror_mode": {
    "name": "ipython",
    "version": 3
   },
   "file_extension": ".py",
   "mimetype": "text/x-python",
   "name": "python",
   "nbconvert_exporter": "python",
   "pygments_lexer": "ipython3",
   "version": "3.10.8"
  }
 },
 "nbformat": 4,
 "nbformat_minor": 5
}
