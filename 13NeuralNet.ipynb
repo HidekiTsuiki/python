{
 "cells": [
  {
   "cell_type": "markdown",
   "id": "bc0beba9",
   "metadata": {},
   "source": [
    "# ニューラルネット\n",
    "\n",
    "Python は，豊富なライブラリを備えています。特に，ニューラルネットワークなどの機械学習のライブラリが充実しています。機械学習の仕組みの詳細を知らなくても，データを揃えてライブラリを呼び出せば，ある程度のことができる状態になっています。文字認識のニューラルネットを題材に，その使い方を説明します。"
   ]
  },
  {
   "cell_type": "markdown",
   "id": "e1f401f4",
   "metadata": {},
   "source": [
    "ニューラルネットのライブラリとしては，オープンソースのPyTorch が広く使われています。\n",
    "その前には、Google が開発したオープンソースのシステムである TensorFlow が有名でした。さらに，Tensorflow のニューラルネットワークを組むための高レベルのライブラリである Keras を用いると，見よう見まねで，ある程度の機械学習を行えます。"
   ]
  },
  {
   "cell_type": "markdown",
   "id": "7a13a41e",
   "metadata": {},
   "source": [
    "ここでは、Pytorchを用いて説明をします。PyTorchは標準ではインストールされていません。pip を用いてインストールします。\n",
    "\n",
    "Pytorchはパッケージのサイズが大きいため、PCの容量が足りない場合google colabを利用することをお勧めします。軽量版であるPyTorch Lightningを用いることもできますが、今回はPyTorchを用いて説明します。\n"
   ]
  },
  {
   "cell_type": "markdown",
   "id": "69e254e6",
   "metadata": {},
   "source": [
    "\n",
    "以下のサイトを参考に使用しているPCに合わせたインストールコマンドを取得して実行してください。\n",
    "\n",
    "https://pytorch.org/\n",
    "\n",
    "TAは以下の設定でインストールしました。\n",
    "<img src=\"13image_1.png\" width=\"700\">"
   ]
  },
  {
   "cell_type": "markdown",
   "id": "d70723cb",
   "metadata": {},
   "source": [
    "今回は以下のサイトを参考に、mnistのデータセットを用いて文字認識を教師在り学習で行います。\n",
    "https://github.com/pytorch/examples/blob/main/mnist/main.py\n",
    "\n",
    "以下の図が概観です。\n",
    "\n",
    "今回の目的は、適当に初期化されたモデルが文字認識を行えるように学習することです。学習は訓練データを用いてモデルのパラメータを更新することで行います。訓練データに対して正しい出力を返すようになったモデルは、未知のデータに対しても正しい出力を返すことが期待されます。\n",
    "\n",
    "学習の大まかな流れは、データの前処理の後、(1)モデルの予想、(2)正解との誤差の計算、(3)パラメータの更新の繰り返しです。\n",
    "\n",
    "<img src=\"13image_2.png\" width=\"700\">"
   ]
  },
  {
   "cell_type": "markdown",
   "id": "3a367c2f",
   "metadata": {},
   "source": [
    "mnist は，手書きの数字のテストデータとして広く使われているデータです。torchvision.datasets.MNISTの呼び出しで，ネットからダウンロードできます。\n",
    "今回はダウンロードしたデータは/data フォルダに保存されます。\n",
    "\n",
    "mnist のデータは，28x28 の画像データで、0 から 9 までの数字が書かれています。"
   ]
  },
  {
   "cell_type": "code",
   "execution_count": 11,
   "id": "f175872e",
   "metadata": {},
   "outputs": [],
   "source": [
    "import torch\n",
    "import torchvision\n",
    "import torchvision.transforms as transforms\n",
    "from torch.optim.lr_scheduler import StepLR\n",
    "import matplotlib.pyplot as plt"
   ]
  },
  {
   "cell_type": "code",
   "execution_count": 12,
   "id": "d8864bbf",
   "metadata": {},
   "outputs": [],
   "source": [
    "# MNISTデータをダウンロードする\n",
    "transform = transforms.Compose([transforms.ToTensor(), transforms.Normalize((0.1307,), (0.3081,))])\n",
    "training_set = torchvision.datasets.MNIST('./data', train=True, download=True, transform=transform)\n",
    "validation_set = torchvision.datasets.MNIST('./data', train=False, download=True, transform=transform)"
   ]
  },
  {
   "cell_type": "code",
   "execution_count": 13,
   "id": "c9b13028",
   "metadata": {},
   "outputs": [
    {
     "name": "stdout",
     "output_type": "stream",
     "text": [
      "Dataset MNIST\n",
      "    Number of datapoints: 60000\n",
      "    Root location: ./data\n",
      "    Split: Train\n",
      "    StandardTransform\n",
      "Transform: Compose(\n",
      "               ToTensor()\n",
      "               Normalize(mean=(0.1307,), std=(0.3081,))\n",
      "           )\n",
      "Dataset MNIST\n",
      "    Number of datapoints: 10000\n",
      "    Root location: ./data\n",
      "    Split: Test\n",
      "    StandardTransform\n",
      "Transform: Compose(\n",
      "               ToTensor()\n",
      "               Normalize(mean=(0.1307,), std=(0.3081,))\n",
      "           )\n",
      "train data:  torch.Size([60000, 28, 28]) torch.Size([60000]) torch.uint8 torch.int64\n",
      "test data:  torch.Size([10000, 28, 28]) torch.Size([10000]) torch.uint8 torch.int64\n"
     ]
    }
   ],
   "source": [
    "print(training_set)\n",
    "print(validation_set)\n",
    "\n",
    "print(\"train data: \", training_set.data.shape, training_set.targets.shape, training_set.data.dtype, training_set.targets.dtype)\n",
    "print(\"test data: \", validation_set.data.shape, validation_set.targets.shape, validation_set.data.dtype, validation_set.targets.dtype)"
   ]
  },
  {
   "cell_type": "markdown",
   "id": "ced4cd65",
   "metadata": {},
   "source": [
    "このように，training_set.data, validation_set.data には，28x28 の unit 8 の配列がそれぞれ60,000枚, 10,000枚入っています。これらが手書きの画像です。unit 8 は，符号なしビットビット整数(0 から 255 まで) です。\n",
    "\n",
    "training_set.targets, validation_set.targets には，int64の数が入っています。これは画像に対する正解ラベルで，対応するインデックスのデータが0 から 9 までのどの文字かを表しています。\n",
    "\n",
    "文字は次のようにして表示できます。"
   ]
  },
  {
   "cell_type": "code",
   "execution_count": 14,
   "id": "9a01ce89",
   "metadata": {},
   "outputs": [
    {
     "name": "stdout",
     "output_type": "stream",
     "text": [
      "label:  5\n"
     ]
    },
    {
     "data": {
      "image/png": "[encoded data removed]",
      "text/plain": [
       "<Figure size 432x288 with 1 Axes>"
      ]
     },
     "metadata": {
      "needs_background": "light"
     },
     "output_type": "display_data"
    }
   ],
   "source": [
    "# 0番目のデータの表示\n",
    "%matplotlib inline\n",
    "plt.imshow(training_set.data[0].numpy(), cmap='gray')\n",
    "print(\"label: \", training_set.targets[0].item())"
   ]
  },
  {
   "cell_type": "markdown",
   "id": "ca348a72",
   "metadata": {},
   "source": [
    "PytorchではDataLoaderを用いてデータを読み込みます。DataLoaderはデータをバッチサイズに分割して読み込むことができます。"
   ]
  },
  {
   "cell_type": "code",
   "execution_count": 15,
   "id": "16d0123d",
   "metadata": {},
   "outputs": [],
   "source": [
    "batch_size = 64\n",
    "train_loader = torch.utils.data.DataLoader(training_set, batch_size=batch_size)\n",
    "test_loader = torch.utils.data.DataLoader(validation_set, batch_size=batch_size)"
   ]
  },
  {
   "cell_type": "markdown",
   "id": "e38df9c7",
   "metadata": {},
   "source": [
    "次に、ニューラルネットをモデルとして組みます。\n",
    "最初は，入力層と出力層だけがあり，それが全結合でつながったもので試しましょう。ニューラルネットワークは重みを最適化することで学習します。\n",
    "\n",
    "以下はニューラルネットワークのイメージ図です。\n",
    "<img src=\"13image_3.png\" width=\"700\">\n",
    "\n",
    "28*28の画像を728次元のベクトルに変換し、重みをかけて出力を得ます。\n",
    "重みは行列$W \\in \\mathbb{R}^{10×728}$で表され、入力$x$に対し出力$y$は$y=W x$で表されます。"
   ]
  },
  {
   "cell_type": "code",
   "execution_count": 16,
   "id": "431eb880",
   "metadata": {},
   "outputs": [],
   "source": [
    "# モデルの構築\n",
    "model = torch.nn.Sequential(\n",
    "    torch.nn.Flatten(),\n",
    "    torch.nn.Linear(28*28, 10, bias=False),\n",
    ")\n",
    "optimizer = torch.optim.RMSprop(model.parameters(), lr=0.01)\n",
    "loss_fn = torch.nn.CrossEntropyLoss()"
   ]
  },
  {
   "cell_type": "markdown",
   "id": "2b8b1b54",
   "metadata": {},
   "source": [
    "学習を行いましょう。データを batch_size で指定された長さのバッチに分けて，バッチごとに学習します。学習は行列計算で実現されるので，ある程度の量のデータを一度に処理した方が効率が良いです。\n",
    "\n",
    "学習では重み$W$を最適化します。モデルの予測ラベルと正解ラベルの誤差を計算し、その誤差を最小化するように重みを更新します。\n",
    "\n",
    "全データに対する学習を，epochs で指定された回数繰り返します。\n",
    "繰り返すごとに，性能があがっていきます。loss の値が下がり，accuracy の値が上がっていきます。"
   ]
  },
  {
   "cell_type": "code",
   "execution_count": 17,
   "id": "fa03a1ce",
   "metadata": {},
   "outputs": [
    {
     "name": "stdout",
     "output_type": "stream",
     "text": [
      "Train Epoch: 1 [19136/60000 (32%)]\tLoss: 0.319888\n",
      "Train Epoch: 1 [38336/60000 (64%)]\tLoss: 0.762979\n",
      "Train Epoch: 1 [57536/60000 (96%)]\tLoss: 0.335796\n",
      "\n",
      "Test set: Average loss: 0.0110, Accuracy: 8928/10000 (89%)\n",
      "\n",
      "Train Epoch: 2 [19136/60000 (32%)]\tLoss: 0.326168\n",
      "Train Epoch: 2 [38336/60000 (64%)]\tLoss: 0.816070\n",
      "Train Epoch: 2 [57536/60000 (96%)]\tLoss: 0.814866\n",
      "\n",
      "Test set: Average loss: 0.0113, Accuracy: 8947/10000 (89%)\n",
      "\n",
      "Train Epoch: 3 [19136/60000 (32%)]\tLoss: 0.273045\n",
      "Train Epoch: 3 [38336/60000 (64%)]\tLoss: 0.735009\n",
      "Train Epoch: 3 [57536/60000 (96%)]\tLoss: 0.636936\n",
      "\n",
      "Test set: Average loss: 0.0120, Accuracy: 8883/10000 (89%)\n",
      "\n",
      "Train Epoch: 4 [19136/60000 (32%)]\tLoss: 0.263583\n",
      "Train Epoch: 4 [38336/60000 (64%)]\tLoss: 0.637812\n",
      "Train Epoch: 4 [57536/60000 (96%)]\tLoss: 0.235542\n",
      "\n",
      "Test set: Average loss: 0.0137, Accuracy: 8800/10000 (88%)\n",
      "\n",
      "Train Epoch: 5 [19136/60000 (32%)]\tLoss: 0.189679\n",
      "Train Epoch: 5 [38336/60000 (64%)]\tLoss: 0.692851\n",
      "Train Epoch: 5 [57536/60000 (96%)]\tLoss: 0.301817\n",
      "\n",
      "Test set: Average loss: 0.0122, Accuracy: 8869/10000 (89%)\n",
      "\n",
      "Train Epoch: 6 [19136/60000 (32%)]\tLoss: 0.164303\n",
      "Train Epoch: 6 [38336/60000 (64%)]\tLoss: 0.579197\n",
      "Train Epoch: 6 [57536/60000 (96%)]\tLoss: 0.439298\n",
      "\n",
      "Test set: Average loss: 0.0122, Accuracy: 8910/10000 (89%)\n",
      "\n",
      "Train Epoch: 7 [19136/60000 (32%)]\tLoss: 0.185631\n",
      "Train Epoch: 7 [38336/60000 (64%)]\tLoss: 0.832046\n",
      "Train Epoch: 7 [57536/60000 (96%)]\tLoss: 0.270770\n",
      "\n",
      "Test set: Average loss: 0.0134, Accuracy: 8790/10000 (88%)\n",
      "\n",
      "Train Epoch: 8 [19136/60000 (32%)]\tLoss: 0.191027\n",
      "Train Epoch: 8 [38336/60000 (64%)]\tLoss: 0.757673\n",
      "Train Epoch: 8 [57536/60000 (96%)]\tLoss: 0.313619\n",
      "\n",
      "Test set: Average loss: 0.0125, Accuracy: 8860/10000 (89%)\n",
      "\n",
      "Train Epoch: 9 [19136/60000 (32%)]\tLoss: 0.147079\n",
      "Train Epoch: 9 [38336/60000 (64%)]\tLoss: 0.730667\n",
      "Train Epoch: 9 [57536/60000 (96%)]\tLoss: 0.178911\n",
      "\n",
      "Test set: Average loss: 0.0123, Accuracy: 8894/10000 (89%)\n",
      "\n",
      "Train Epoch: 10 [19136/60000 (32%)]\tLoss: 0.194941\n",
      "Train Epoch: 10 [38336/60000 (64%)]\tLoss: 0.620148\n",
      "Train Epoch: 10 [57536/60000 (96%)]\tLoss: 0.299887\n",
      "\n",
      "Test set: Average loss: 0.0138, Accuracy: 8791/10000 (88%)\n",
      "\n",
      "Train Epoch: 11 [19136/60000 (32%)]\tLoss: 0.140844\n",
      "Train Epoch: 11 [38336/60000 (64%)]\tLoss: 0.577478\n",
      "Train Epoch: 11 [57536/60000 (96%)]\tLoss: 0.344825\n",
      "\n",
      "Test set: Average loss: 0.0155, Accuracy: 8647/10000 (86%)\n",
      "\n",
      "Train Epoch: 12 [19136/60000 (32%)]\tLoss: 0.136951\n",
      "Train Epoch: 12 [38336/60000 (64%)]\tLoss: 0.748314\n",
      "Train Epoch: 12 [57536/60000 (96%)]\tLoss: 0.213907\n",
      "\n",
      "Test set: Average loss: 0.0143, Accuracy: 8751/10000 (88%)\n",
      "\n",
      "Train Epoch: 13 [19136/60000 (32%)]\tLoss: 0.143001\n",
      "Train Epoch: 13 [38336/60000 (64%)]\tLoss: 0.709354\n",
      "Train Epoch: 13 [57536/60000 (96%)]\tLoss: 0.267866\n",
      "\n",
      "Test set: Average loss: 0.0142, Accuracy: 8802/10000 (88%)\n",
      "\n",
      "Train Epoch: 14 [19136/60000 (32%)]\tLoss: 0.147689\n",
      "Train Epoch: 14 [38336/60000 (64%)]\tLoss: 0.584267\n",
      "Train Epoch: 14 [57536/60000 (96%)]\tLoss: 0.308825\n",
      "\n",
      "Test set: Average loss: 0.0137, Accuracy: 8825/10000 (88%)\n",
      "\n",
      "Train Epoch: 15 [19136/60000 (32%)]\tLoss: 0.096689\n",
      "Train Epoch: 15 [38336/60000 (64%)]\tLoss: 0.754363\n",
      "Train Epoch: 15 [57536/60000 (96%)]\tLoss: 0.316761\n",
      "\n",
      "Test set: Average loss: 0.0143, Accuracy: 8801/10000 (88%)\n",
      "\n",
      "Train Epoch: 16 [19136/60000 (32%)]\tLoss: 0.166961\n",
      "Train Epoch: 16 [38336/60000 (64%)]\tLoss: 0.765832\n",
      "Train Epoch: 16 [57536/60000 (96%)]\tLoss: 0.243166\n",
      "\n",
      "Test set: Average loss: 0.0150, Accuracy: 8736/10000 (87%)\n",
      "\n",
      "Train Epoch: 17 [19136/60000 (32%)]\tLoss: 0.188143\n",
      "Train Epoch: 17 [38336/60000 (64%)]\tLoss: 0.698182\n",
      "Train Epoch: 17 [57536/60000 (96%)]\tLoss: 0.383539\n",
      "\n",
      "Test set: Average loss: 0.0151, Accuracy: 8756/10000 (88%)\n",
      "\n",
      "Train Epoch: 18 [19136/60000 (32%)]\tLoss: 0.124823\n",
      "Train Epoch: 18 [38336/60000 (64%)]\tLoss: 0.579321\n",
      "Train Epoch: 18 [57536/60000 (96%)]\tLoss: 0.287187\n",
      "\n",
      "Test set: Average loss: 0.0130, Accuracy: 8951/10000 (90%)\n",
      "\n",
      "Train Epoch: 19 [19136/60000 (32%)]\tLoss: 0.143281\n",
      "Train Epoch: 19 [38336/60000 (64%)]\tLoss: 0.869717\n",
      "Train Epoch: 19 [57536/60000 (96%)]\tLoss: 0.192077\n",
      "\n",
      "Test set: Average loss: 0.0155, Accuracy: 8710/10000 (87%)\n",
      "\n",
      "Train Epoch: 20 [19136/60000 (32%)]\tLoss: 0.160668\n",
      "Train Epoch: 20 [38336/60000 (64%)]\tLoss: 0.627115\n",
      "Train Epoch: 20 [57536/60000 (96%)]\tLoss: 0.329070\n",
      "\n",
      "Test set: Average loss: 0.0161, Accuracy: 8686/10000 (87%)\n",
      "\n"
     ]
    }
   ],
   "source": [
    "# 学習\n",
    "def train(model, train_loader, optimizer, loss_fn, epoch):\n",
    "    model.train()\n",
    "    train_loss = 0\n",
    "    for i, (images, labels) in enumerate(train_loader):\n",
    "        optimizer.zero_grad()\n",
    "        output = model(images)\n",
    "        loss = loss_fn(output, labels)\n",
    "        train_loss += loss.item()\n",
    "        loss.backward()\n",
    "        optimizer.step()\n",
    "        if (i + 1) % 300 == 0:\n",
    "            print(f'Train Epoch: {epoch} [{i * len(images)}/{len(train_loader.dataset)} ({100. * i / len(train_loader):.0f}%)]\\tLoss: {loss.item():.6f}')\n",
    "    train_loss /= len(train_loader.dataset)\n",
    "    return train_loss\n",
    "\n",
    "\n",
    "def test(model, test_loader, loss_fn):\n",
    "    model.eval()\n",
    "    test_loss = 0\n",
    "    correct = 0\n",
    "    with torch.no_grad():\n",
    "        for images, labels in test_loader:\n",
    "            output = model(images)\n",
    "            test_loss += loss_fn(output, labels).item()\n",
    "            pred = output.argmax(dim=1)\n",
    "            correct += pred.eq(labels).sum().item()\n",
    "\n",
    "    test_loss /= len(test_loader.dataset)\n",
    "\n",
    "    print(f'\\nTest set: Average loss: {test_loss:.4f}, Accuracy: {correct}/{len(test_loader.dataset)} ({100. * correct / len(test_loader.dataset):.0f}%)\\n')\n",
    "    return test_loss, correct / len(test_loader.dataset)\n",
    "\n",
    "\n",
    "epochs = 20\n",
    "history = {\"train_loss\": [], \"test_loss\": [], \"acc\": []}\n",
    "for epoch in range(1, epochs + 1):\n",
    "    train_loss = train(model, train_loader, optimizer, loss_fn, epoch)\n",
    "    test_loss, acc = test(model, test_loader, loss_fn)\n",
    "    history[\"train_loss\"].append(train_loss)\n",
    "    history[\"test_loss\"].append(test_loss)\n",
    "    history[\"acc\"].append(acc)"
   ]
  },
  {
   "cell_type": "markdown",
   "id": "ed704953",
   "metadata": {},
   "source": [
    "テストデータで検証し、validation_setの0番目のデータを使って正しい答えが出ているかを見てみましょう。"
   ]
  },
  {
   "cell_type": "code",
   "execution_count": 18,
   "id": "417316f0",
   "metadata": {},
   "outputs": [
    {
     "name": "stdout",
     "output_type": "stream",
     "text": [
      "\n",
      "Test set: Average loss: 0.0161, Accuracy: 8686/10000 (87%)\n",
      "\n"
     ]
    }
   ],
   "source": [
    "_ = test(model, test_loader, loss_fn)"
   ]
  },
  {
   "cell_type": "code",
   "execution_count": 19,
   "id": "ab571fd5",
   "metadata": {},
   "outputs": [
    {
     "name": "stdout",
     "output_type": "stream",
     "text": [
      "predict: 7 asnwer: 7\n"
     ]
    },
    {
     "data": {
      "text/plain": [
       "<matplotlib.image.AxesImage at 0x1a68b36b070>"
      ]
     },
     "execution_count": 19,
     "metadata": {},
     "output_type": "execute_result"
    },
    {
     "data": {
      "image/png": "[encoded data removed]",
      "text/plain": [
       "<Figure size 432x288 with 1 Axes>"
      ]
     },
     "metadata": {
      "needs_background": "light"
     },
     "output_type": "display_data"
    }
   ],
   "source": [
    "%matplotlib inline\n",
    "import torchvision.transforms.functional\n",
    "\n",
    "# ニューラルネットに入力するためにtransformと同じ処理をする\n",
    "image = torchvision.transforms.functional.normalize(torchvision.transforms.functional.to_tensor(validation_set.data[0].numpy()), (0.1307,), (0.3081,))\n",
    "\n",
    "model.eval()\n",
    "p = model(image.unsqueeze(0))\n",
    "print(\"predict:\", p.argmax().item(), \"asnwer:\", validation_set.targets[0].item())\n",
    "plt.imshow(validation_set.data[0].numpy(), cmap='gray')"
   ]
  },
  {
   "cell_type": "markdown",
   "id": "de98008c",
   "metadata": {},
   "source": [
    "100個のデータを使って正答率を計算し、間違っているもののデータを見てみます。"
   ]
  },
  {
   "cell_type": "code",
   "execution_count": 20,
   "id": "ebf06247",
   "metadata": {
    "scrolled": true
   },
   "outputs": [
    {
     "name": "stdout",
     "output_type": "stream",
     "text": [
      "Accuracy: 91/100\n",
      "Wrong answers:  [1, 8, 18, 33, 38, 66, 78, 80, 92]\n"
     ]
    }
   ],
   "source": [
    "# 100個分のテスト\n",
    "images = [torchvision.transforms.functional.normalize(torchvision.transforms.functional.to_tensor(validation_set.data[i].numpy()), (0.1307,), (0.3081,)) for i in range(100)]\n",
    "labels = validation_set.targets[:100]\n",
    "\n",
    "model.eval()\n",
    "p = model(torch.stack(images))\n",
    "answer = p.argmax(dim=1)\n",
    "correct = answer.eq(labels).sum().item()\n",
    "print(f'Accuracy: {correct}/100')\n",
    "print(\"Wrong answers: \", [i for i in range(100) if answer[i] != labels[i]])"
   ]
  },
  {
   "cell_type": "code",
   "execution_count": 21,
   "id": "92539270",
   "metadata": {},
   "outputs": [
    {
     "name": "stdout",
     "output_type": "stream",
     "text": [
      "tensor([56.8063, 16.6135, 38.0563, 16.9449, 68.4404, 59.9757, 82.5035,  0.3943,\n",
      "        53.6186, 45.3252], grad_fn=<SelectBackward0>)\n",
      "predict: 6 asnwer: 5\n"
     ]
    },
    {
     "data": {
      "text/plain": [
       "<matplotlib.image.AxesImage at 0x1a68b3fddb0>"
      ]
     },
     "execution_count": 21,
     "metadata": {},
     "output_type": "execute_result"
    },
    {
     "data": {
      "image/png": "[encoded data removed]",
      "text/plain": [
       "<Figure size 432x288 with 1 Axes>"
      ]
     },
     "metadata": {
      "needs_background": "light"
     },
     "output_type": "display_data"
    }
   ],
   "source": [
    "%matplotlib inline\n",
    "index = 8\n",
    "print(p[index])\n",
    "print(\"predict:\", p[index].argmax().item(), \"asnwer:\", labels[index].item())\n",
    "plt.imshow(validation_set.data[index].numpy(), cmap='gray')\n"
   ]
  },
  {
   "cell_type": "markdown",
   "id": "20222b94",
   "metadata": {},
   "source": [
    "ネットワークを組み替えて，より高機能にしましょう。具体的には，モデルに中間層として，全結合で，relu という活性化関数をもったものを追加します。層のセルの数は 128 にしましたが，これが最適かどうかは分かりません。いろんなパラメータ（ハイパーパラメータといいます）を経験に基づいて設定していく必要があります。"
   ]
  },
  {
   "cell_type": "code",
   "execution_count": 22,
   "id": "67e7ab91",
   "metadata": {},
   "outputs": [
    {
     "name": "stdout",
     "output_type": "stream",
     "text": [
      "Train Epoch: 1 [19136/60000 (32%)]\tLoss: 0.178582\n",
      "Train Epoch: 1 [38336/60000 (64%)]\tLoss: 0.424805\n",
      "Train Epoch: 1 [57536/60000 (96%)]\tLoss: 0.130150\n",
      "\n",
      "Test set: Average loss: 0.0055, Accuracy: 9129/10000 (91%)\n",
      "\n",
      "Train Epoch: 2 [19136/60000 (32%)]\tLoss: 0.155700\n",
      "Train Epoch: 2 [38336/60000 (64%)]\tLoss: 0.233027\n",
      "Train Epoch: 2 [57536/60000 (96%)]\tLoss: 0.029722\n",
      "\n",
      "Test set: Average loss: 0.0044, Accuracy: 9323/10000 (93%)\n",
      "\n",
      "Train Epoch: 3 [19136/60000 (32%)]\tLoss: 0.063713\n",
      "Train Epoch: 3 [38336/60000 (64%)]\tLoss: 0.259748\n",
      "Train Epoch: 3 [57536/60000 (96%)]\tLoss: 0.043743\n",
      "\n",
      "Test set: Average loss: 0.0050, Accuracy: 9241/10000 (92%)\n",
      "\n",
      "Train Epoch: 4 [19136/60000 (32%)]\tLoss: 0.057434\n",
      "Train Epoch: 4 [38336/60000 (64%)]\tLoss: 0.205117\n",
      "Train Epoch: 4 [57536/60000 (96%)]\tLoss: 0.112240\n",
      "\n",
      "Test set: Average loss: 0.0055, Accuracy: 9348/10000 (93%)\n",
      "\n",
      "Train Epoch: 5 [19136/60000 (32%)]\tLoss: 0.240376\n",
      "Train Epoch: 5 [38336/60000 (64%)]\tLoss: 0.146479\n",
      "Train Epoch: 5 [57536/60000 (96%)]\tLoss: 0.251919\n",
      "\n",
      "Test set: Average loss: 0.0050, Accuracy: 9366/10000 (94%)\n",
      "\n",
      "Train Epoch: 6 [19136/60000 (32%)]\tLoss: 0.182048\n",
      "Train Epoch: 6 [38336/60000 (64%)]\tLoss: 0.143249\n",
      "Train Epoch: 6 [57536/60000 (96%)]\tLoss: 0.069319\n",
      "\n",
      "Test set: Average loss: 0.0046, Accuracy: 9483/10000 (95%)\n",
      "\n",
      "Train Epoch: 7 [19136/60000 (32%)]\tLoss: 0.015621\n",
      "Train Epoch: 7 [38336/60000 (64%)]\tLoss: 0.148641\n",
      "Train Epoch: 7 [57536/60000 (96%)]\tLoss: 0.180475\n",
      "\n",
      "Test set: Average loss: 0.0047, Accuracy: 9403/10000 (94%)\n",
      "\n",
      "Train Epoch: 8 [19136/60000 (32%)]\tLoss: 0.016717\n",
      "Train Epoch: 8 [38336/60000 (64%)]\tLoss: 0.192516\n",
      "Train Epoch: 8 [57536/60000 (96%)]\tLoss: 0.013161\n",
      "\n",
      "Test set: Average loss: 0.0051, Accuracy: 9413/10000 (94%)\n",
      "\n",
      "Train Epoch: 9 [19136/60000 (32%)]\tLoss: 0.020285\n",
      "Train Epoch: 9 [38336/60000 (64%)]\tLoss: 0.247079\n",
      "Train Epoch: 9 [57536/60000 (96%)]\tLoss: 0.046813\n",
      "\n",
      "Test set: Average loss: 0.0055, Accuracy: 9447/10000 (94%)\n",
      "\n",
      "Train Epoch: 10 [19136/60000 (32%)]\tLoss: 0.031479\n",
      "Train Epoch: 10 [38336/60000 (64%)]\tLoss: 0.631343\n",
      "Train Epoch: 10 [57536/60000 (96%)]\tLoss: 0.128451\n",
      "\n",
      "Test set: Average loss: 0.0068, Accuracy: 9278/10000 (93%)\n",
      "\n",
      "Train Epoch: 11 [19136/60000 (32%)]\tLoss: 0.172890\n",
      "Train Epoch: 11 [38336/60000 (64%)]\tLoss: 0.269019\n",
      "Train Epoch: 11 [57536/60000 (96%)]\tLoss: 0.080806\n",
      "\n",
      "Test set: Average loss: 0.0052, Accuracy: 9480/10000 (95%)\n",
      "\n",
      "Train Epoch: 12 [19136/60000 (32%)]\tLoss: 0.205651\n",
      "Train Epoch: 12 [38336/60000 (64%)]\tLoss: 0.254693\n",
      "Train Epoch: 12 [57536/60000 (96%)]\tLoss: 0.246984\n",
      "\n",
      "Test set: Average loss: 0.0054, Accuracy: 9535/10000 (95%)\n",
      "\n",
      "Train Epoch: 13 [19136/60000 (32%)]\tLoss: 0.014957\n",
      "Train Epoch: 13 [38336/60000 (64%)]\tLoss: 0.084726\n",
      "Train Epoch: 13 [57536/60000 (96%)]\tLoss: 0.186535\n",
      "\n",
      "Test set: Average loss: 0.0059, Accuracy: 9453/10000 (95%)\n",
      "\n",
      "Train Epoch: 14 [19136/60000 (32%)]\tLoss: 0.011851\n",
      "Train Epoch: 14 [38336/60000 (64%)]\tLoss: 0.204173\n",
      "Train Epoch: 14 [57536/60000 (96%)]\tLoss: 0.099471\n",
      "\n",
      "Test set: Average loss: 0.0068, Accuracy: 9447/10000 (94%)\n",
      "\n",
      "Train Epoch: 15 [19136/60000 (32%)]\tLoss: 0.018740\n",
      "Train Epoch: 15 [38336/60000 (64%)]\tLoss: 0.266286\n",
      "Train Epoch: 15 [57536/60000 (96%)]\tLoss: 0.036413\n",
      "\n",
      "Test set: Average loss: 0.0056, Accuracy: 9468/10000 (95%)\n",
      "\n",
      "Train Epoch: 16 [19136/60000 (32%)]\tLoss: 0.019144\n",
      "Train Epoch: 16 [38336/60000 (64%)]\tLoss: 0.237670\n",
      "Train Epoch: 16 [57536/60000 (96%)]\tLoss: 0.112930\n",
      "\n",
      "Test set: Average loss: 0.0061, Accuracy: 9471/10000 (95%)\n",
      "\n",
      "Train Epoch: 17 [19136/60000 (32%)]\tLoss: 0.092373\n",
      "Train Epoch: 17 [38336/60000 (64%)]\tLoss: 0.066611\n",
      "Train Epoch: 17 [57536/60000 (96%)]\tLoss: 0.024837\n",
      "\n",
      "Test set: Average loss: 0.0066, Accuracy: 9444/10000 (94%)\n",
      "\n",
      "Train Epoch: 18 [19136/60000 (32%)]\tLoss: 0.043568\n",
      "Train Epoch: 18 [38336/60000 (64%)]\tLoss: 0.090298\n",
      "Train Epoch: 18 [57536/60000 (96%)]\tLoss: 0.061881\n",
      "\n",
      "Test set: Average loss: 0.0084, Accuracy: 9367/10000 (94%)\n",
      "\n",
      "Train Epoch: 19 [19136/60000 (32%)]\tLoss: 0.054823\n",
      "Train Epoch: 19 [38336/60000 (64%)]\tLoss: 0.350792\n",
      "Train Epoch: 19 [57536/60000 (96%)]\tLoss: 0.047213\n",
      "\n",
      "Test set: Average loss: 0.0060, Accuracy: 9474/10000 (95%)\n",
      "\n",
      "Train Epoch: 20 [19136/60000 (32%)]\tLoss: 0.001436\n",
      "Train Epoch: 20 [38336/60000 (64%)]\tLoss: 0.101283\n",
      "Train Epoch: 20 [57536/60000 (96%)]\tLoss: 0.045809\n",
      "\n",
      "Test set: Average loss: 0.0063, Accuracy: 9558/10000 (96%)\n",
      "\n",
      "\n",
      "Test set: Average loss: 0.0063, Accuracy: 9558/10000 (96%)\n",
      "\n"
     ]
    }
   ],
   "source": [
    "model2 = torch.nn.Sequential(\n",
    "    torch.nn.Flatten(),\n",
    "    torch.nn.Linear(28*28, 128),\n",
    "    torch.nn.ReLU(),\n",
    "    torch.nn.Linear(128, 10)\n",
    ")\n",
    "optimizer2 = torch.optim.RMSprop(model2.parameters(), lr=0.01)\n",
    "\n",
    "\n",
    "# 学習\n",
    "history2 = {\"train_loss\": [], \"test_loss\": [], \"acc\": []}\n",
    "epochs = 20\n",
    "for epoch in range(1, epochs + 1):\n",
    "    train_loss = train(model2, train_loader, optimizer2, loss_fn, epoch)\n",
    "    test_loss, acc = test(model2, test_loader, loss_fn)\n",
    "    history2[\"train_loss\"].append(train_loss)\n",
    "    history2[\"test_loss\"].append(test_loss)\n",
    "    history2[\"acc\"].append(acc)\n",
    "\n",
    "_ = test(model2, test_loader, loss_fn)"
   ]
  },
  {
   "cell_type": "markdown",
   "id": "13f4f191",
   "metadata": {},
   "source": [
    "先程より，さらに結果がよくなりました。\n",
    "学習過程において，train_loss (損失値，この値が低いほどよい) と test_loss (テストデータに対する損失値)の値がどう変化したかをグラフ化します。"
   ]
  },
  {
   "cell_type": "code",
   "execution_count": 23,
   "id": "ab845adc",
   "metadata": {},
   "outputs": [
    {
     "data": {
      "image/png": "[encoded data removed]",
      "text/plain": [
       "<Figure size 720x360 with 2 Axes>"
      ]
     },
     "metadata": {
      "needs_background": "light"
     },
     "output_type": "display_data"
    }
   ],
   "source": [
    "%matplotlib inline\n",
    "import matplotlib.pyplot as plt\n",
    "\n",
    "train_loss = history[\"train_loss\"]\n",
    "test_loss = history[\"test_loss\"]\n",
    "acc = history[\"acc\"]\n",
    "\n",
    "fig, ax1 = plt.subplots(figsize=(10, 5))\n",
    "ax2 = ax1.twinx()\n",
    "ax1.plot(range(1, epochs + 1), train_loss, label='train loss', color='blue')\n",
    "ax1.plot(range(1, epochs + 1), test_loss, label='test loss', color='orange')\n",
    "ax2.plot(range(1, epochs + 1), acc, label='accuracy', color='green')\n",
    "ax1.set_xlabel('epoch')\n",
    "ax1.set_ylabel('loss')\n",
    "ax2.set_ylabel('accuracy')\n",
    "ax1.legend()\n",
    "ax2.legend()\n",
    "ax1.grid()\n",
    "plt.show()"
   ]
  },
  {
   "cell_type": "markdown",
   "id": "8ccb7957",
   "metadata": {},
   "source": [
    "train_lossの値は下がっていますが、test_lossの値は上がっているようです。これは，過学習している（すなわち，訓練データに合わせすぎて汎用性がなくなってきている）と思われます。\n",
    "\n",
    "history2 も重ねてみましょう。"
   ]
  },
  {
   "cell_type": "code",
   "execution_count": 24,
   "id": "8cf2c992",
   "metadata": {},
   "outputs": [
    {
     "data": {
      "image/png": "[encoded data removed]",
      "text/plain": [
       "<Figure size 720x360 with 1 Axes>"
      ]
     },
     "metadata": {
      "needs_background": "light"
     },
     "output_type": "display_data"
    }
   ],
   "source": [
    "train_loss = history[\"train_loss\"]\n",
    "test_loss = history[\"test_loss\"]\n",
    "\n",
    "train_loss2 = history2[\"train_loss\"]\n",
    "test_loss2 = history2[\"test_loss\"]\n",
    "\n",
    "fig, ax = plt.subplots(figsize=(10, 5))\n",
    "ax.plot(range(1, epochs + 1), train_loss, label='train loss', color='blue', linestyle='dashed')\n",
    "ax.plot(range(1, epochs + 1), test_loss, label='test loss', color='orange', linestyle='dashed')\n",
    "ax.plot(range(1, epochs + 1), train_loss2, label='train loss (ReLU)', color='blue')\n",
    "ax.plot(range(1, epochs + 1), test_loss2, label='test loss (ReLU)', color='orange')\n",
    "ax.set_xlabel('epoch')\n",
    "ax.set_ylabel('loss')\n",
    "ax.legend()\n",
    "ax.grid()\n",
    "plt.show()"
   ]
  },
  {
   "cell_type": "markdown",
   "id": "293cf30b",
   "metadata": {},
   "source": [
    "訓練データに対しては値がどんどんよくなっているのに，テストデータに対しては悪くなってきているのは，過学習の特徴です。\n",
    "\n",
    "次はoptimizerを変えてみましょう。今回はAdadelataを用いて学習を行います。"
   ]
  },
  {
   "cell_type": "code",
   "execution_count": 25,
   "id": "e838f2f0",
   "metadata": {},
   "outputs": [
    {
     "name": "stdout",
     "output_type": "stream",
     "text": [
      "Train Epoch: 1 [19136/60000 (32%)]\tLoss: 0.126669\n",
      "Train Epoch: 1 [38336/60000 (64%)]\tLoss: 0.122137\n",
      "Train Epoch: 1 [57536/60000 (96%)]\tLoss: 0.016137\n",
      "\n",
      "Test set: Average loss: 0.0018, Accuracy: 9655/10000 (97%)\n",
      "\n",
      "Train Epoch: 2 [19136/60000 (32%)]\tLoss: 0.055983\n",
      "Train Epoch: 2 [38336/60000 (64%)]\tLoss: 0.088539\n",
      "Train Epoch: 2 [57536/60000 (96%)]\tLoss: 0.004704\n",
      "\n",
      "Test set: Average loss: 0.0014, Accuracy: 9729/10000 (97%)\n",
      "\n",
      "Train Epoch: 3 [19136/60000 (32%)]\tLoss: 0.017716\n",
      "Train Epoch: 3 [38336/60000 (64%)]\tLoss: 0.067880\n",
      "Train Epoch: 3 [57536/60000 (96%)]\tLoss: 0.003284\n",
      "\n",
      "Test set: Average loss: 0.0013, Accuracy: 9757/10000 (98%)\n",
      "\n",
      "Train Epoch: 4 [19136/60000 (32%)]\tLoss: 0.008557\n",
      "Train Epoch: 4 [38336/60000 (64%)]\tLoss: 0.054785\n",
      "Train Epoch: 4 [57536/60000 (96%)]\tLoss: 0.002931\n",
      "\n",
      "Test set: Average loss: 0.0012, Accuracy: 9760/10000 (98%)\n",
      "\n",
      "Train Epoch: 5 [19136/60000 (32%)]\tLoss: 0.006200\n",
      "Train Epoch: 5 [38336/60000 (64%)]\tLoss: 0.052573\n",
      "Train Epoch: 5 [57536/60000 (96%)]\tLoss: 0.002387\n",
      "\n",
      "Test set: Average loss: 0.0012, Accuracy: 9772/10000 (98%)\n",
      "\n",
      "Train Epoch: 6 [19136/60000 (32%)]\tLoss: 0.005131\n",
      "Train Epoch: 6 [38336/60000 (64%)]\tLoss: 0.043475\n",
      "Train Epoch: 6 [57536/60000 (96%)]\tLoss: 0.002337\n",
      "\n",
      "Test set: Average loss: 0.0012, Accuracy: 9775/10000 (98%)\n",
      "\n",
      "Train Epoch: 7 [19136/60000 (32%)]\tLoss: 0.004605\n",
      "Train Epoch: 7 [38336/60000 (64%)]\tLoss: 0.036357\n",
      "Train Epoch: 7 [57536/60000 (96%)]\tLoss: 0.002187\n",
      "\n",
      "Test set: Average loss: 0.0011, Accuracy: 9784/10000 (98%)\n",
      "\n",
      "Train Epoch: 8 [19136/60000 (32%)]\tLoss: 0.004277\n",
      "Train Epoch: 8 [38336/60000 (64%)]\tLoss: 0.032324\n",
      "Train Epoch: 8 [57536/60000 (96%)]\tLoss: 0.002117\n",
      "\n",
      "Test set: Average loss: 0.0011, Accuracy: 9787/10000 (98%)\n",
      "\n",
      "Train Epoch: 9 [19136/60000 (32%)]\tLoss: 0.004184\n",
      "Train Epoch: 9 [38336/60000 (64%)]\tLoss: 0.029104\n",
      "Train Epoch: 9 [57536/60000 (96%)]\tLoss: 0.002053\n",
      "\n",
      "Test set: Average loss: 0.0011, Accuracy: 9788/10000 (98%)\n",
      "\n",
      "Train Epoch: 10 [19136/60000 (32%)]\tLoss: 0.004187\n",
      "Train Epoch: 10 [38336/60000 (64%)]\tLoss: 0.027411\n",
      "Train Epoch: 10 [57536/60000 (96%)]\tLoss: 0.002082\n",
      "\n",
      "Test set: Average loss: 0.0011, Accuracy: 9789/10000 (98%)\n",
      "\n",
      "Train Epoch: 11 [19136/60000 (32%)]\tLoss: 0.004153\n",
      "Train Epoch: 11 [38336/60000 (64%)]\tLoss: 0.025747\n",
      "Train Epoch: 11 [57536/60000 (96%)]\tLoss: 0.002136\n",
      "\n",
      "Test set: Average loss: 0.0011, Accuracy: 9788/10000 (98%)\n",
      "\n",
      "Train Epoch: 12 [19136/60000 (32%)]\tLoss: 0.004069\n",
      "Train Epoch: 12 [38336/60000 (64%)]\tLoss: 0.024872\n",
      "Train Epoch: 12 [57536/60000 (96%)]\tLoss: 0.002217\n",
      "\n",
      "Test set: Average loss: 0.0011, Accuracy: 9789/10000 (98%)\n",
      "\n",
      "Train Epoch: 13 [19136/60000 (32%)]\tLoss: 0.003936\n",
      "Train Epoch: 13 [38336/60000 (64%)]\tLoss: 0.024300\n",
      "Train Epoch: 13 [57536/60000 (96%)]\tLoss: 0.002276\n",
      "\n",
      "Test set: Average loss: 0.0011, Accuracy: 9790/10000 (98%)\n",
      "\n",
      "Train Epoch: 14 [19136/60000 (32%)]\tLoss: 0.003810\n",
      "Train Epoch: 14 [38336/60000 (64%)]\tLoss: 0.023749\n",
      "Train Epoch: 14 [57536/60000 (96%)]\tLoss: 0.002317\n",
      "\n",
      "Test set: Average loss: 0.0011, Accuracy: 9791/10000 (98%)\n",
      "\n",
      "Train Epoch: 15 [19136/60000 (32%)]\tLoss: 0.003711\n",
      "Train Epoch: 15 [38336/60000 (64%)]\tLoss: 0.023468\n",
      "Train Epoch: 15 [57536/60000 (96%)]\tLoss: 0.002348\n",
      "\n",
      "Test set: Average loss: 0.0011, Accuracy: 9791/10000 (98%)\n",
      "\n",
      "Train Epoch: 16 [19136/60000 (32%)]\tLoss: 0.003645\n",
      "Train Epoch: 16 [38336/60000 (64%)]\tLoss: 0.023258\n",
      "Train Epoch: 16 [57536/60000 (96%)]\tLoss: 0.002365\n",
      "\n",
      "Test set: Average loss: 0.0011, Accuracy: 9790/10000 (98%)\n",
      "\n",
      "Train Epoch: 17 [19136/60000 (32%)]\tLoss: 0.003592\n",
      "Train Epoch: 17 [38336/60000 (64%)]\tLoss: 0.023113\n",
      "Train Epoch: 17 [57536/60000 (96%)]\tLoss: 0.002378\n",
      "\n",
      "Test set: Average loss: 0.0011, Accuracy: 9790/10000 (98%)\n",
      "\n",
      "Train Epoch: 18 [19136/60000 (32%)]\tLoss: 0.003559\n",
      "Train Epoch: 18 [38336/60000 (64%)]\tLoss: 0.023021\n",
      "Train Epoch: 18 [57536/60000 (96%)]\tLoss: 0.002387\n",
      "\n",
      "Test set: Average loss: 0.0011, Accuracy: 9791/10000 (98%)\n",
      "\n",
      "Train Epoch: 19 [19136/60000 (32%)]\tLoss: 0.003537\n",
      "Train Epoch: 19 [38336/60000 (64%)]\tLoss: 0.022948\n",
      "Train Epoch: 19 [57536/60000 (96%)]\tLoss: 0.002393\n",
      "\n",
      "Test set: Average loss: 0.0011, Accuracy: 9791/10000 (98%)\n",
      "\n",
      "Train Epoch: 20 [19136/60000 (32%)]\tLoss: 0.003524\n",
      "Train Epoch: 20 [38336/60000 (64%)]\tLoss: 0.022897\n",
      "Train Epoch: 20 [57536/60000 (96%)]\tLoss: 0.002398\n",
      "\n",
      "Test set: Average loss: 0.0011, Accuracy: 9791/10000 (98%)\n",
      "\n"
     ]
    }
   ],
   "source": [
    "model3 = torch.nn.Sequential(\n",
    "    torch.nn.Flatten(),\n",
    "    torch.nn.Linear(28*28, 128),\n",
    "    torch.nn.ReLU(),\n",
    "    torch.nn.Linear(128, 10)\n",
    ")\n",
    "optimizer3 = torch.optim.Adadelta(model3.parameters(), lr=1.0)\n",
    "scheduler3 = StepLR(optimizer3, step_size=1, gamma=0.7)\n",
    "\n",
    "# 学習\n",
    "history3 = {\"train_loss\": [], \"test_loss\": [], \"acc\": []}\n",
    "epochs = 20\n",
    "for epoch in range(1, epochs + 1):\n",
    "    train_loss = train(model3, train_loader, optimizer3, loss_fn, epoch)\n",
    "    test_loss, acc = test(model3, test_loader, loss_fn)\n",
    "    history3[\"train_loss\"].append(train_loss)\n",
    "    history3[\"test_loss\"].append(test_loss)\n",
    "    history3[\"acc\"].append(acc)\n",
    "    scheduler3.step()"
   ]
  },
  {
   "cell_type": "markdown",
   "id": "031fe1c7",
   "metadata": {},
   "source": [
    "history3をhistory2と比較してみましょう。"
   ]
  },
  {
   "cell_type": "code",
   "execution_count": 26,
   "id": "d3f13a0b",
   "metadata": {},
   "outputs": [
    {
     "data": {
      "image/png": "[encoded data removed]",
      "text/plain": [
       "<Figure size 720x360 with 1 Axes>"
      ]
     },
     "metadata": {
      "needs_background": "light"
     },
     "output_type": "display_data"
    }
   ],
   "source": [
    "train_loss2 = history2[\"train_loss\"]\n",
    "test_loss2 = history2[\"test_loss\"]\n",
    "\n",
    "train_loss3 = history3[\"train_loss\"]\n",
    "test_loss3 = history3[\"test_loss\"]\n",
    "\n",
    "fig, ax = plt.subplots(figsize=(10, 5))\n",
    "ax.plot(range(1, epochs + 1), train_loss2, label='train loss (ReLU)', color='blue')\n",
    "ax.plot(range(1, epochs + 1), test_loss2, label='test loss (ReLU)', color='orange')\n",
    "ax.plot(range(1, epochs + 1), train_loss3, label='train loss', color='blue', linestyle='dashed')\n",
    "ax.plot(range(1, epochs + 1), test_loss3, label='test loss', color='orange', linestyle='dashed')\n",
    "ax.set_xlabel('epoch')\n",
    "ax.set_ylabel('loss')\n",
    "ax.legend()\n",
    "ax.grid()\n",
    "plt.show()"
   ]
  },
  {
   "cell_type": "markdown",
   "id": "ac94de0c",
   "metadata": {},
   "source": [
    "optimizerを変えるだけで、学習の結果が変わることがわかります。"
   ]
  }
 ],
 "metadata": {
  "kernelspec": {
   "display_name": "Python 3",
   "language": "python",
   "name": "python3"
  },
  "language_info": {
   "codemirror_mode": {
    "name": "ipython",
    "version": 3
   },
   "file_extension": ".py",
   "mimetype": "text/x-python",
   "name": "python",
   "nbconvert_exporter": "python",
   "pygments_lexer": "ipython3",
   "version": "3.10.4"
  }
 },
 "nbformat": 4,
 "nbformat_minor": 5
}
