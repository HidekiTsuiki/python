{
 "cells": [
  {
   "cell_type": "markdown",
   "id": "bc0beba9",
   "metadata": {},
   "source": [
    "# ニューラルネット\n",
    "\n",
    "Python は，豊富なライブラリを備えています。特に，ニューラルネットワークなどの機械学習のライブラリが充実しています。機械学習の仕組みの詳細を知らなくても，データを揃えてライブラリを呼び出せば，ある程度のことができる状態になっています。文字認識のニューラルネットを題材に，その使い方を説明します。"
   ]
  },
  {
   "cell_type": "markdown",
   "id": "e1f401f4",
   "metadata": {},
   "source": [
    "ニューラルネットのライブラリとしては，Google が開発したオープンソースのシステムである TensorFlow が有名です。\n",
    "さらに，Tensorflow のニューラルネットワークを組むための高レベルのライブラリである Keras を用いると，見よう見まねで，ある程度の機械学習を行えます。"
   ]
  },
  {
   "cell_type": "markdown",
   "id": "7a13a41e",
   "metadata": {},
   "source": [
    "Keras は， anaconda には標準でインストールされていません。インストールする時には，\n",
    "base(root) にインストールする以外に，環境を作ってそこにインストールすることができます。\n",
    "環境を作っておくと，他の研究を行うために他のパッケージのインストールを行った時に，パッケージごとの衝突や，バージョンの不整合などが起きる可能性を低くできます。ですから，別環境を作ることをお勧めです。実際，Python の最新バージョン(3.9) では，Tensorflow が動かなさそうで，バージョンを下げた環境を作る必要がありそうです。\n",
    "\n",
    "anaconda の立ち上げの画面で，左側の Environments のタグの下から，Create で新しい環境（例えば，MNIST）を作りましょう。Not Installed をメニューから選んで Keras を検索しましょう。keras を選択し，Apply でインストールします。tensor flow もインストールします。\n",
    "\n",
    "Home に戻って，上の，Application on *** というタグから，作った環境(MNIST) を選んで，Jupyter Notebook を Install し，起動しましょう。そこで，このファイルを開き直しましょう。\n",
    "\n",
    "うまくインストールされていたら，以下が動くはずです。\n",
    "このソースは，以下のページからとってきたものを，説明用に加工したものです。\n",
    "このページの解説は十分によく書けているので，これを見て勉強してください。\n",
    "\n",
    "https://weblabo.oscasierra.net/python/keras-mnist-sample.html\n"
   ]
  },
  {
   "cell_type": "markdown",
   "id": "8135a979",
   "metadata": {},
   "source": [
    "ただし，場合によっては，python のバージョンを下げることが要求されます。\n",
    "それは，anaconda の画面からはできなそうで，conda コマンドで行います。\n",
    "```\n",
    "conda info -e       environment を見ます。\n",
    "conda activate mnist    mnist にデフォルトの environment を変えます。\n",
    "conda install python=3.7   python のバージョンを 3.7 に下げます。\n",
    "conda install tensorflow   tenforflow のインストール\n",
    "```"
   ]
  },
  {
   "cell_type": "code",
   "execution_count": 1,
   "id": "f175872e",
   "metadata": {},
   "outputs": [
    {
     "name": "stderr",
     "output_type": "stream",
     "text": [
      "Using TensorFlow backend.\n"
     ]
    }
   ],
   "source": [
    "import keras\n",
    "from keras.datasets import mnist\n",
    "from keras.models import Sequential\n",
    "from keras.layers import Dense, Dropout, InputLayer\n",
    "from keras.optimizers import RMSprop"
   ]
  },
  {
   "cell_type": "code",
   "execution_count": 2,
   "id": "d8864bbf",
   "metadata": {},
   "outputs": [],
   "source": [
    "# MNISTデータを読込む\n",
    "(raw_x_train, raw_y_train), (raw_x_test, raw_y_test) = mnist.load_data()"
   ]
  },
  {
   "cell_type": "markdown",
   "id": "2485fecc",
   "metadata": {},
   "source": [
    "mnist は，手書きの数字のテストデータとして広く使われているデータです。mnist モジュールのload_data() の呼び出しで，ネットからダウンロードされ，トレーニング用，テスト用のデータに分けられます。"
   ]
  },
  {
   "cell_type": "code",
   "execution_count": 3,
   "id": "c9b13028",
   "metadata": {},
   "outputs": [
    {
     "name": "stdout",
     "output_type": "stream",
     "text": [
      "<class 'numpy.ndarray'> (60000, 28, 28) uint8\n",
      "<class 'numpy.ndarray'> (60000,) uint8\n",
      "<class 'numpy.ndarray'> (10000, 28, 28) uint8\n",
      "<class 'numpy.ndarray'> (10000,) uint8\n"
     ]
    }
   ],
   "source": [
    "print(type(raw_x_train), raw_x_train.shape, raw_x_train.dtype)\n",
    "print(type(raw_y_train), raw_y_train.shape, raw_y_train.dtype)\n",
    "print(type(raw_x_test), raw_x_test.shape, raw_x_test.dtype)\n",
    "print(type(raw_y_test), raw_y_test.shape, raw_y_test.dtype)"
   ]
  },
  {
   "cell_type": "markdown",
   "id": "ced4cd65",
   "metadata": {},
   "source": [
    "このように，raw_x_train, raw_x_test には，28x28 の unit 8 の配列がそれぞれ 60000, 10000 枚はいっています。これらが手書きの画像です。unit 8 は，符号なし 8 びっと整数(0 から 255 まで) です。\n",
    "\n",
    "raw_y_train, raw_y_test には，unit8 の数が入っています。これは，0 から 9 までのどの文字かを表しています。\n",
    "\n",
    "次のようにして Polow で表示できます。\n",
    "（pillow はインストールされていないなら，インストールしましょう。）"
   ]
  },
  {
   "cell_type": "code",
   "execution_count": 4,
   "id": "9a01ce89",
   "metadata": {},
   "outputs": [
    {
     "name": "stdout",
     "output_type": "stream",
     "text": [
      "1\n"
     ]
    }
   ],
   "source": [
    "import numpy as np\n",
    "import PIL.Image as Image\n",
    "\n",
    "# 文字表示\n",
    "def show(img):\n",
    "    img = Image.fromarray(np.uint8(img))\n",
    "    img.show()\n",
    "    \n",
    "show(raw_x_train[104]) \n",
    "print(raw_y_train[104])"
   ]
  },
  {
   "cell_type": "markdown",
   "id": "ca348a72",
   "metadata": {},
   "source": [
    "この形では，ニューラルネットは扱えないので，次のように加工します。\n",
    "画像は，0 から 1 の実数を 784 (28x28) 個並べた形にします。\n",
    "正解データは，その部分だけが 1 の実数データにします（one-hot 表現）。"
   ]
  },
  {
   "cell_type": "code",
   "execution_count": 5,
   "id": "16d0123d",
   "metadata": {},
   "outputs": [],
   "source": [
    "x_train  = raw_x_train.reshape(60000, 784)\n",
    "x_test   = raw_x_test.reshape(10000, 784)\n",
    "x_train  = x_train.astype('float32')\n",
    "x_test   = x_test.astype('float32')\n",
    "x_train /= 255\n",
    "x_test  /= 255\n",
    "y_train  = keras.utils.to_categorical(raw_y_train, 10)\n",
    "y_test   = keras.utils.to_categorical(raw_y_test, 10)"
   ]
  },
  {
   "cell_type": "code",
   "execution_count": 6,
   "id": "74490b05",
   "metadata": {},
   "outputs": [
    {
     "name": "stdout",
     "output_type": "stream",
     "text": [
      "<class 'numpy.ndarray'> (60000, 784) float32\n",
      "<class 'numpy.ndarray'> (60000, 10) float32\n"
     ]
    }
   ],
   "source": [
    "print(type(x_train), x_train.shape, x_train.dtype)\n",
    "print(type(y_train), y_train.shape, y_train.dtype)"
   ]
  },
  {
   "cell_type": "code",
   "execution_count": 7,
   "id": "dc7fdea4",
   "metadata": {
    "scrolled": true
   },
   "outputs": [
    {
     "name": "stdout",
     "output_type": "stream",
     "text": [
      "[0.         0.         0.         0.         0.         0.\n",
      " 0.         0.         0.         0.         0.         0.\n",
      " 0.         0.         0.         0.         0.         0.\n",
      " 0.         0.         0.         0.         0.         0.\n",
      " 0.         0.         0.         0.         0.         0.\n",
      " 0.         0.         0.         0.         0.         0.\n",
      " 0.         0.         0.         0.         0.         0.\n",
      " 0.         0.         0.         0.         0.         0.\n",
      " 0.         0.         0.         0.         0.01176471 0.07058824\n",
      " 0.07058824 0.07058824 0.49411765 0.53333336 0.6862745  0.10196079\n",
      " 0.6509804  1.         0.96862745 0.49803922 0.         0.\n",
      " 0.         0.         0.         0.         0.         0.\n",
      " 0.         0.         0.         0.         0.11764706 0.14117648\n",
      " 0.36862746 0.6039216  0.6666667  0.99215686 0.99215686 0.99215686\n",
      " 0.99215686 0.99215686 0.88235295 0.6745098  0.99215686 0.9490196\n",
      " 0.7647059  0.2509804  0.         0.         0.         0.\n",
      " 0.         0.         0.         0.        ]\n"
     ]
    }
   ],
   "source": [
    "print(x_train[0][100:200])"
   ]
  },
  {
   "cell_type": "code",
   "execution_count": 8,
   "id": "5999f1bd",
   "metadata": {},
   "outputs": [
    {
     "name": "stdout",
     "output_type": "stream",
     "text": [
      "[0. 0. 0. 0. 0. 1. 0. 0. 0. 0.]\n"
     ]
    }
   ],
   "source": [
    "print(y_train[0])"
   ]
  },
  {
   "cell_type": "markdown",
   "id": "e38df9c7",
   "metadata": {},
   "source": [
    "ニューラルネットをモデルとして組みます。\n",
    "最初は，入力層と出力層だけがあり，それが，全結合でつながったもので試しましょう。"
   ]
  },
  {
   "cell_type": "code",
   "execution_count": 9,
   "id": "431eb880",
   "metadata": {},
   "outputs": [],
   "source": [
    "# モデルの構築\n",
    "model = Sequential()\n",
    "model.add(InputLayer(input_shape=(784,)))\n",
    "#model.add(Dense(128, activation='relu'))\n",
    "model.add(Dense(10, activation='softmax'))\n",
    "model.compile(loss='categorical_crossentropy', optimizer='rmsprop', metrics=['accuracy'])\n"
   ]
  },
  {
   "cell_type": "markdown",
   "id": "2b8b1b54",
   "metadata": {},
   "source": [
    "model.fit により，学習を行いましょう。データを batch_size で指定された長さのバッチに分けて，バッチごとに学習します。学習は行列計算で実現されるので，ある程度の量のデータを一度に処理した方が効率が出ます。\n",
    "\n",
    "全データに対する学習を，epochs で指定された回数繰り返します。\n",
    "繰り返すごとに，性能があがっていきます。loss の値が下がり，accuracy の値が上がっていきます。"
   ]
  },
  {
   "cell_type": "code",
   "execution_count": 10,
   "id": "fa03a1ce",
   "metadata": {},
   "outputs": [
    {
     "name": "stdout",
     "output_type": "stream",
     "text": [
      "Train on 60000 samples, validate on 10000 samples\n",
      "Epoch 1/20\n",
      "60000/60000 [==============================] - 1s 23us/step - loss: 0.5961 - accuracy: 0.8526 - val_loss: 0.3415 - val_accuracy: 0.9067\n",
      "Epoch 2/20\n",
      "60000/60000 [==============================] - 1s 19us/step - loss: 0.3302 - accuracy: 0.9086 - val_loss: 0.2999 - val_accuracy: 0.9177\n",
      "Epoch 3/20\n",
      "60000/60000 [==============================] - 1s 18us/step - loss: 0.3013 - accuracy: 0.9158 - val_loss: 0.2861 - val_accuracy: 0.9205\n",
      "Epoch 4/20\n",
      "60000/60000 [==============================] - 1s 18us/step - loss: 0.2881 - accuracy: 0.9193 - val_loss: 0.2784 - val_accuracy: 0.9237\n",
      "Epoch 5/20\n",
      "60000/60000 [==============================] - 1s 17us/step - loss: 0.2801 - accuracy: 0.9221 - val_loss: 0.2749 - val_accuracy: 0.9251\n",
      "Epoch 6/20\n",
      "60000/60000 [==============================] - 1s 18us/step - loss: 0.2744 - accuracy: 0.9238 - val_loss: 0.2707 - val_accuracy: 0.9253\n",
      "Epoch 7/20\n",
      "60000/60000 [==============================] - 1s 19us/step - loss: 0.2705 - accuracy: 0.9253 - val_loss: 0.2710 - val_accuracy: 0.9257\n",
      "Epoch 8/20\n",
      "60000/60000 [==============================] - 1s 18us/step - loss: 0.2674 - accuracy: 0.9265 - val_loss: 0.2672 - val_accuracy: 0.9263\n",
      "Epoch 9/20\n",
      "60000/60000 [==============================] - 1s 17us/step - loss: 0.2647 - accuracy: 0.9269 - val_loss: 0.2694 - val_accuracy: 0.9261\n",
      "Epoch 10/20\n",
      "60000/60000 [==============================] - 1s 17us/step - loss: 0.2626 - accuracy: 0.9277 - val_loss: 0.2679 - val_accuracy: 0.9253\n",
      "Epoch 11/20\n",
      "60000/60000 [==============================] - 1s 18us/step - loss: 0.2612 - accuracy: 0.9286 - val_loss: 0.2680 - val_accuracy: 0.9264\n",
      "Epoch 12/20\n",
      "60000/60000 [==============================] - 1s 19us/step - loss: 0.2595 - accuracy: 0.9293 - val_loss: 0.2679 - val_accuracy: 0.9277\n",
      "Epoch 13/20\n",
      "60000/60000 [==============================] - 1s 19us/step - loss: 0.2583 - accuracy: 0.9299 - val_loss: 0.2684 - val_accuracy: 0.9261\n",
      "Epoch 14/20\n",
      "60000/60000 [==============================] - 1s 18us/step - loss: 0.2572 - accuracy: 0.9302 - val_loss: 0.2690 - val_accuracy: 0.9268\n",
      "Epoch 15/20\n",
      "60000/60000 [==============================] - 1s 19us/step - loss: 0.2561 - accuracy: 0.9306 - val_loss: 0.2708 - val_accuracy: 0.9261\n",
      "Epoch 16/20\n",
      "60000/60000 [==============================] - 1s 17us/step - loss: 0.2552 - accuracy: 0.9309 - val_loss: 0.2701 - val_accuracy: 0.9270\n",
      "Epoch 17/20\n",
      "60000/60000 [==============================] - 1s 18us/step - loss: 0.2547 - accuracy: 0.9310 - val_loss: 0.2681 - val_accuracy: 0.9281\n",
      "Epoch 18/20\n",
      "60000/60000 [==============================] - 1s 19us/step - loss: 0.2537 - accuracy: 0.9315 - val_loss: 0.2722 - val_accuracy: 0.9273\n",
      "Epoch 19/20\n",
      "60000/60000 [==============================] - 1s 19us/step - loss: 0.2531 - accuracy: 0.9317 - val_loss: 0.2703 - val_accuracy: 0.9281\n",
      "Epoch 20/20\n",
      "60000/60000 [==============================] - 1s 20us/step - loss: 0.2527 - accuracy: 0.9320 - val_loss: 0.2701 - val_accuracy: 0.9274\n"
     ]
    }
   ],
   "source": [
    "# 学習\n",
    "epochs = 20\n",
    "batch_size = 128\n",
    "history = model.fit(x_train, y_train, batch_size=batch_size, epochs=epochs, verbose=1, validation_data=(x_test, y_test))\n"
   ]
  },
  {
   "cell_type": "markdown",
   "id": "ed704953",
   "metadata": {},
   "source": [
    "テストデータで検証します。"
   ]
  },
  {
   "cell_type": "code",
   "execution_count": 11,
   "id": "417316f0",
   "metadata": {},
   "outputs": [
    {
     "name": "stdout",
     "output_type": "stream",
     "text": [
      "10000/10000 [==============================] - 0s 24us/step\n",
      "\n",
      "Test loss: 0.2700824568152428\n",
      "Test accuracy: 0.9273999929428101\n"
     ]
    }
   ],
   "source": [
    "\n",
    "# 検証\n",
    "score = model.evaluate(x_test, y_test, verbose=1)\n",
    "print()\n",
    "print('Test loss:', score[0])\n",
    "print('Test accuracy:', score[1])\n"
   ]
  },
  {
   "cell_type": "code",
   "execution_count": 12,
   "id": "ab571fd5",
   "metadata": {},
   "outputs": [],
   "source": [
    "show(raw_x_test[0]) \n"
   ]
  },
  {
   "cell_type": "code",
   "execution_count": 13,
   "id": "ebf06247",
   "metadata": {
    "scrolled": true
   },
   "outputs": [
    {
     "name": "stdout",
     "output_type": "stream",
     "text": [
      "[7 2 1 0 4 1 4 9 6 9 0 6 9 0 1 5 9 7 3 4 9 6 6 5 4 0 7 4 0 1 3 1 3 6 7 2 7\n",
      " 1 2 1 1 7 4 2 3 5 1 2 4 4 6 3 5 5 6 0 4 1 9 5 7 8 9 2 7 4 2 4 3 0 7 0 2 9\n",
      " 1 7 3 2 9 7 7 6 2 7 8 4 7 3 6 1 3 6 9 3 1 4 1 7 6 9]\n",
      "[7 2 1 0 4 1 4 9 5 9 0 6 9 0 1 5 9 7 3 4 9 6 6 5 4 0 7 4 0 1 3 1 3 4 7 2 7\n",
      " 1 2 1 1 7 4 2 3 5 1 2 4 4 6 3 5 5 6 0 4 1 9 5 7 8 9 3 7 4 6 4 3 0 7 0 2 9\n",
      " 1 7 3 2 9 7 7 6 2 7 8 4 7 3 6 1 3 6 9 3 1 4 1 7 6 9]\n"
     ]
    },
    {
     "data": {
      "text/plain": [
       "[8, 33, 63, 66]"
      ]
     },
     "execution_count": 13,
     "metadata": {},
     "output_type": "execute_result"
    }
   ],
   "source": [
    "p = model.predict_classes(x_test)\n",
    "print(p[0:100])   # AI の答え\n",
    "print(raw_y_test[0:100]) # 正解\n",
    "[i for i in range(100) if (p[i] != raw_y_test[i])]\n"
   ]
  },
  {
   "cell_type": "code",
   "execution_count": 14,
   "id": "ae17aa65",
   "metadata": {},
   "outputs": [],
   "source": [
    "show(raw_x_test[8])"
   ]
  },
  {
   "cell_type": "markdown",
   "id": "20222b94",
   "metadata": {},
   "source": [
    "ネットワークを組み替えて，より高機能にしましょう。具体的には，モデルに中間層として，全結合で，relu という活性化関数をもったものを追加します。層のセルの数は 128 にしましたが，これが最適かどうかは分かりません。いろんなパラメータ（ハイパーパラメータといいます）を経験に基づいて設定していく必要があります。"
   ]
  },
  {
   "cell_type": "code",
   "execution_count": 15,
   "id": "dacaa2ec",
   "metadata": {},
   "outputs": [
    {
     "name": "stdout",
     "output_type": "stream",
     "text": [
      "[(7, 7), (2, 2), (1, 1), (0, 0), (4, 4), (1, 1), (4, 4), (9, 9), (6, 5), (9, 9), (0, 0), (6, 6), (9, 9), (0, 0), (1, 1), (5, 5), (9, 9), (7, 7), (3, 3), (4, 4), (9, 9), (6, 6), (6, 6), (5, 5), (4, 4), (0, 0), (7, 7), (4, 4), (0, 0), (1, 1), (3, 3), (1, 1), (3, 3), (6, 4), (7, 7), (2, 2), (7, 7), (1, 1), (2, 2), (1, 1), (1, 1), (7, 7), (4, 4), (2, 2), (3, 3), (5, 5), (1, 1), (2, 2), (4, 4), (4, 4), (6, 6), (3, 3), (5, 5), (5, 5), (6, 6), (0, 0), (4, 4), (1, 1), (9, 9), (5, 5), (7, 7), (8, 8), (9, 9), (2, 3), (7, 7), (4, 4), (2, 6), (4, 4), (3, 3), (0, 0), (7, 7), (0, 0), (2, 2), (9, 9), (1, 1), (7, 7), (3, 3), (2, 2), (9, 9), (7, 7), (7, 7), (6, 6), (2, 2), (7, 7), (8, 8), (4, 4), (7, 7), (3, 3), (6, 6), (1, 1), (3, 3), (6, 6), (9, 9), (3, 3), (1, 1), (4, 4), (1, 1), (7, 7), (6, 6), (9, 9)]\n"
     ]
    }
   ],
   "source": [
    "print(list(zip(p, raw_y_test))[0:100])"
   ]
  },
  {
   "cell_type": "code",
   "execution_count": 16,
   "id": "67e7ab91",
   "metadata": {},
   "outputs": [
    {
     "name": "stdout",
     "output_type": "stream",
     "text": [
      "Train on 60000 samples, validate on 10000 samples\n",
      "Epoch 1/20\n",
      "60000/60000 [==============================] - 3s 56us/step - loss: 0.3336 - accuracy: 0.9077 - val_loss: 0.1845 - val_accuracy: 0.9472\n",
      "Epoch 2/20\n",
      "60000/60000 [==============================] - 3s 52us/step - loss: 0.1587 - accuracy: 0.9546 - val_loss: 0.1374 - val_accuracy: 0.9600\n",
      "Epoch 3/20\n",
      "60000/60000 [==============================] - 3s 51us/step - loss: 0.1140 - accuracy: 0.9672 - val_loss: 0.1098 - val_accuracy: 0.9681\n",
      "Epoch 4/20\n",
      "60000/60000 [==============================] - 3s 52us/step - loss: 0.0888 - accuracy: 0.9741 - val_loss: 0.0868 - val_accuracy: 0.9741\n",
      "Epoch 5/20\n",
      "60000/60000 [==============================] - 3s 52us/step - loss: 0.0715 - accuracy: 0.9790 - val_loss: 0.0818 - val_accuracy: 0.9747\n",
      "Epoch 6/20\n",
      "60000/60000 [==============================] - 3s 55us/step - loss: 0.0598 - accuracy: 0.9825 - val_loss: 0.0781 - val_accuracy: 0.9766\n",
      "Epoch 7/20\n",
      "60000/60000 [==============================] - 3s 51us/step - loss: 0.0505 - accuracy: 0.9853 - val_loss: 0.0765 - val_accuracy: 0.9766\n",
      "Epoch 8/20\n",
      "60000/60000 [==============================] - 3s 51us/step - loss: 0.0434 - accuracy: 0.9872 - val_loss: 0.0754 - val_accuracy: 0.9777\n",
      "Epoch 9/20\n",
      "60000/60000 [==============================] - 3s 54us/step - loss: 0.0377 - accuracy: 0.9893 - val_loss: 0.0744 - val_accuracy: 0.9786\n",
      "Epoch 10/20\n",
      "60000/60000 [==============================] - 3s 52us/step - loss: 0.0326 - accuracy: 0.9907 - val_loss: 0.0714 - val_accuracy: 0.9789\n",
      "Epoch 11/20\n",
      "60000/60000 [==============================] - 3s 55us/step - loss: 0.0282 - accuracy: 0.9919 - val_loss: 0.0737 - val_accuracy: 0.9779\n",
      "Epoch 12/20\n",
      "60000/60000 [==============================] - 3s 52us/step - loss: 0.0249 - accuracy: 0.9931 - val_loss: 0.0767 - val_accuracy: 0.9782\n",
      "Epoch 13/20\n",
      "60000/60000 [==============================] - 3s 51us/step - loss: 0.0217 - accuracy: 0.9942 - val_loss: 0.0770 - val_accuracy: 0.9785\n",
      "Epoch 14/20\n",
      "60000/60000 [==============================] - 3s 51us/step - loss: 0.0189 - accuracy: 0.9948 - val_loss: 0.0767 - val_accuracy: 0.9775\n",
      "Epoch 15/20\n",
      "60000/60000 [==============================] - 3s 50us/step - loss: 0.0168 - accuracy: 0.9955 - val_loss: 0.0764 - val_accuracy: 0.9797\n",
      "Epoch 16/20\n",
      "60000/60000 [==============================] - 3s 51us/step - loss: 0.0143 - accuracy: 0.9964 - val_loss: 0.0797 - val_accuracy: 0.9782\n",
      "Epoch 17/20\n",
      "60000/60000 [==============================] - 3s 51us/step - loss: 0.0125 - accuracy: 0.9971 - val_loss: 0.0811 - val_accuracy: 0.9791\n",
      "Epoch 18/20\n",
      "60000/60000 [==============================] - 3s 50us/step - loss: 0.0109 - accuracy: 0.9973 - val_loss: 0.0814 - val_accuracy: 0.9795\n",
      "Epoch 19/20\n",
      "60000/60000 [==============================] - 3s 51us/step - loss: 0.0093 - accuracy: 0.9980 - val_loss: 0.0819 - val_accuracy: 0.9794\n",
      "Epoch 20/20\n",
      "60000/60000 [==============================] - 4s 62us/step - loss: 0.0082 - accuracy: 0.9981 - val_loss: 0.0822 - val_accuracy: 0.9794\n",
      "10000/10000 [==============================] - 0s 36us/step\n",
      "\n",
      "Test loss: 0.08217699468509528\n",
      "Test accuracy: 0.9793999791145325\n"
     ]
    }
   ],
   "source": [
    "# モデルの構築\n",
    "model2 = Sequential()\n",
    "model2.add(InputLayer(input_shape=(784,)))\n",
    "model2.add(Dense(128, activation='relu'))   # この行!!\n",
    "model2.add(Dense(10, activation='softmax'))\n",
    "model2.compile(loss='categorical_crossentropy', optimizer='rmsprop', metrics=['accuracy'])\n",
    "\n",
    "# 学習\n",
    "epochs = 20\n",
    "batch_size = 128\n",
    "history2 = model2.fit(x_train, y_train, batch_size=batch_size, epochs=epochs, verbose=1, validation_data=(x_test, y_test))\n",
    "\n",
    "\n",
    "# 検証\n",
    "score = model2.evaluate(x_test, y_test, verbose=1)\n",
    "print()\n",
    "print('Test loss:', score[0])\n",
    "print('Test accuracy:', score[1])\n"
   ]
  },
  {
   "cell_type": "markdown",
   "id": "13f4f191",
   "metadata": {},
   "source": [
    "先程より，さらに結果がよくなりました。\n",
    "\n",
    "学習の過程は，model.fit の返り値(history および history2) に格納されています。\n",
    "学習過程において，loss (損失値，この値が低いほどよい) と val_loss (テストデータに対する損失値)の値がどう変化したかをグラフ化します。\n",
    "このコードは，次のページからとってきました。\n",
    "\n",
    "https://weblabo.oscasierra.net/python/keras-mnist-sample.html"
   ]
  },
  {
   "cell_type": "code",
   "execution_count": 17,
   "id": "ab845adc",
   "metadata": {},
   "outputs": [
    {
     "data": {
      "image/png": "[encoded data removed]",
      "text/plain": [
       "<Figure size 640x480 with 1 Axes>"
      ]
     },
     "metadata": {},
     "output_type": "display_data"
    }
   ],
   "source": [
    "import matplotlib.pyplot as plt\n",
    "\n",
    "loss     = history.history['loss']\n",
    "val_loss = history.history['val_loss']\n",
    "\n",
    "nb_epoch = len(loss)\n",
    "plt.plot(range(nb_epoch), loss,     marker='.', label='loss')\n",
    "plt.plot(range(nb_epoch), val_loss, marker='.', label='val_loss')\n",
    "plt.legend(loc='best', fontsize=10)\n",
    "plt.grid()\n",
    "plt.xlabel('epoch')\n",
    "plt.ylabel('loss')\n",
    "plt.show()"
   ]
  },
  {
   "cell_type": "markdown",
   "id": "8ccb7957",
   "metadata": {},
   "source": [
    "val_loss の値は，一度下がってからまた少し上がっているようです。これは，過学習している（すなわち，訓練データに合わせすぎて汎用性がなくなってきている）と思われます。\n",
    "\n",
    "history2 も重ねてみましょう。"
   ]
  },
  {
   "cell_type": "code",
   "execution_count": 18,
   "id": "8cf2c992",
   "metadata": {},
   "outputs": [
    {
     "data": {
      "image/png": "[encoded data removed]",
      "text/plain": [
       "<Figure size 640x480 with 1 Axes>"
      ]
     },
     "metadata": {},
     "output_type": "display_data"
    }
   ],
   "source": [
    "import matplotlib.pyplot as plt\n",
    "\n",
    "loss     = history.history['loss']\n",
    "val_loss = history.history['val_loss']\n",
    "loss2     = history2.history['loss']\n",
    "val_loss2 = history2.history['val_loss']\n",
    "\n",
    "nb_epoch = len(loss)\n",
    "plt.plot(range(nb_epoch), loss,     marker='.', label='loss')\n",
    "plt.plot(range(nb_epoch), val_loss, marker='.', label='val_loss')\n",
    "plt.plot(range(nb_epoch), loss2,     marker='.', label='loss2')\n",
    "plt.plot(range(nb_epoch), val_loss2, marker='.', label='val_loss2')\n",
    "plt.legend(loc='best', fontsize=10)\n",
    "plt.grid()\n",
    "plt.xlabel('epoch')\n",
    "plt.ylabel('loss')\n",
    "plt.show()"
   ]
  },
  {
   "cell_type": "markdown",
   "id": "293cf30b",
   "metadata": {},
   "source": [
    "訓練データに対しては値がどんどんよくなっているのに，テストデータに対しては悪くなってきているのは，過学習の特徴です。"
   ]
  },
  {
   "cell_type": "code",
   "execution_count": 26,
   "id": "e838f2f0",
   "metadata": {},
   "outputs": [
    {
     "name": "stdout",
     "output_type": "stream",
     "text": [
      "726\n",
      "10000\n",
      "206\n",
      "10000\n"
     ]
    }
   ],
   "source": [
    "p = model.predict_classes(x_test)\n",
    "print(len(list (filter (lambda x: x[0]!=x[1], (zip(p, raw_y_test))))))\n",
    "print(len(p))\n",
    "p2 = model2.predict_classes(x_test)\n",
    "print(len(list (filter (lambda x: x[0]!=x[1], (zip(p2, raw_y_test))))))\n",
    "print(len(p2))"
   ]
  },
  {
   "cell_type": "code",
   "execution_count": null,
   "id": "d3f13a0b",
   "metadata": {},
   "outputs": [],
   "source": []
  }
 ],
 "metadata": {
  "kernelspec": {
   "display_name": "Python 3",
   "language": "python",
   "name": "python3"
  },
  "language_info": {
   "codemirror_mode": {
    "name": "ipython",
    "version": 3
   },
   "file_extension": ".py",
   "mimetype": "text/x-python",
   "name": "python",
   "nbconvert_exporter": "python",
   "pygments_lexer": "ipython3",
   "version": "3.7.11"
  }
 },
 "nbformat": 4,
 "nbformat_minor": 5
}
