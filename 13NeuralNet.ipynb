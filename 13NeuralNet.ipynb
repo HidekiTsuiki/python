{
 "cells": [
  {
   "cell_type": "markdown",
   "id": "bc0beba9",
   "metadata": {},
   "source": [
    "# ニューラルネット\n",
    "\n",
    "Python は，豊富なライブラリを備えています。特に，ニューラルネットワークなどの機械学習のライブラリが充実しています。機械学習の仕組みの詳細を知らなくても，データを揃えてライブラリを呼び出せば，ある程度のことができる状態になっています。文字認識のニューラルネットを題材に，その使い方を説明します。"
   ]
  },
  {
   "cell_type": "markdown",
   "id": "e1f401f4",
   "metadata": {},
   "source": [
    "ニューラルネットのライブラリとしては，オープンソースのPyTorch が広く使われています。\n",
    "その前には、Google が開発したオープンソースのシステムである TensorFlow が有名でした。さらに，Tensorflow のニューラルネットワークを組むための高レベルのライブラリである Keras を用いると，見よう見まねで，ある程度の機械学習を行えます。"
   ]
  },
  {
   "cell_type": "markdown",
   "id": "7a13a41e",
   "metadata": {},
   "source": [
    "ここでは、Tensorflow と Keras を用いて説明をしますが、これから学習する人は、PyTorch を用いることをお勧めします。Tenforflow, Keras, それに、PyTorch も、\n",
    "標準でインストールされていません。pip を用いてインストールします。\n",
    "また、Tensorflow と Keras は、python のバージョンを 3.8 下げないとサポートされていない可能性があります。また、MacOS で動かすのに、幾つかエラーに対処する必要がありました。\n",
    "\n",
    "\n",
    "このソースは，以下のページからとってきたものを，説明用に加工したものです。\n",
    "このページの解説は十分によく書けているので，これを見て勉強してください。\n",
    "\n",
    "https://weblabo.oscasierra.net/python/keras-mnist-sample.html\n"
   ]
  },
  {
   "cell_type": "markdown",
   "id": "8135a979",
   "metadata": {},
   "source": [
    "ただし，場合によっては，python のバージョンを下げることが要求されます。\n",
    "それは，anaconda の画面からはできなそうで，conda コマンドで行います。\n",
    "```\n",
    "conda info -e       environment を見ます。\n",
    "conda activate mnist    mnist にデフォルトの environment を変えます。\n",
    "conda install python=3.7   python のバージョンを 3.7 に下げます。\n",
    "conda install tensorflow   tenforflow のインストール\n",
    "```"
   ]
  },
  {
   "cell_type": "code",
   "execution_count": 31,
   "id": "f175872e",
   "metadata": {},
   "outputs": [],
   "source": [
    "import keras\n",
    "from keras.datasets import mnist\n",
    "from keras.models import Sequential\n",
    "from keras.layers import Dense, Dropout, InputLayer\n",
    "from keras.optimizers import RMSprop"
   ]
  },
  {
   "cell_type": "code",
   "execution_count": 32,
   "id": "d8864bbf",
   "metadata": {},
   "outputs": [],
   "source": [
    "# MNISTデータを読込む\n",
    "(raw_x_train, raw_y_train), (raw_x_test, raw_y_test) = mnist.load_data()"
   ]
  },
  {
   "cell_type": "markdown",
   "id": "2485fecc",
   "metadata": {},
   "source": [
    "mnist は，手書きの数字のテストデータとして広く使われているデータです。mnist モジュールのload_data() の呼び出しで，ネットからダウンロードされ，トレーニング用，テスト用のデータに分けられます。"
   ]
  },
  {
   "cell_type": "code",
   "execution_count": 33,
   "id": "c9b13028",
   "metadata": {},
   "outputs": [
    {
     "name": "stdout",
     "output_type": "stream",
     "text": [
      "<class 'numpy.ndarray'> (60000, 28, 28) uint8\n",
      "<class 'numpy.ndarray'> (60000,) uint8\n",
      "<class 'numpy.ndarray'> (10000, 28, 28) uint8\n",
      "<class 'numpy.ndarray'> (10000,) uint8\n"
     ]
    }
   ],
   "source": [
    "print(type(raw_x_train), raw_x_train.shape, raw_x_train.dtype)\n",
    "print(type(raw_y_train), raw_y_train.shape, raw_y_train.dtype)\n",
    "print(type(raw_x_test), raw_x_test.shape, raw_x_test.dtype)\n",
    "print(type(raw_y_test), raw_y_test.shape, raw_y_test.dtype)"
   ]
  },
  {
   "cell_type": "markdown",
   "id": "ced4cd65",
   "metadata": {},
   "source": [
    "このように，raw_x_train, raw_x_test には，28x28 の unit 8 の配列がそれぞれ 60000, 10000 枚はいっています。これらが手書きの画像です。unit 8 は，符号なしビットビット整数(0 から 255 まで) です。\n",
    "\n",
    "raw_y_train, raw_y_test には，unit8 の数が入っています。これは，0 から 9 までのどの文字かを表しています。\n",
    "\n",
    "次のようにして Pillow で表示できます。\n",
    "（pillow はインストールされていないなら，インストールしましょう。）"
   ]
  },
  {
   "cell_type": "code",
   "execution_count": 34,
   "id": "9a01ce89",
   "metadata": {},
   "outputs": [
    {
     "data": {
      "image/png": "[encoded data removed]",
      "text/plain": [
       "<PIL.Image.Image image mode=L size=28x28 at 0x29E13C490>"
      ]
     },
     "metadata": {},
     "output_type": "display_data"
    },
    {
     "name": "stdout",
     "output_type": "stream",
     "text": [
      "0\n"
     ]
    }
   ],
   "source": [
    "import numpy as np\n",
    "import PIL.Image as Image\n",
    "\n",
    "# 文字表示\n",
    "def show(img):\n",
    "    img = Image.fromarray(np.uint8(img))\n",
    "    display(img)   \n",
    "#    img.show()\n",
    "    \n",
    "show(raw_x_train[108]) \n",
    "print(raw_y_train[108])"
   ]
  },
  {
   "cell_type": "markdown",
   "id": "ca348a72",
   "metadata": {},
   "source": [
    "この形では，ニューラルネットは扱えないので，次のように加工します。\n",
    "画像は，0 から 1 の実数を 784 (28x28) 個並べた形にします。\n",
    "正解データは，その部分だけが 1 の実数データにします（one-hot 表現）。"
   ]
  },
  {
   "cell_type": "code",
   "execution_count": 35,
   "id": "16d0123d",
   "metadata": {},
   "outputs": [],
   "source": [
    "x_train  = raw_x_train.reshape(60000, 784)\n",
    "x_test   = raw_x_test.reshape(10000, 784)\n",
    "x_train  = x_train.astype('float32')\n",
    "x_test   = x_test.astype('float32')\n",
    "x_train /= 255\n",
    "x_test  /= 255\n",
    "y_train  = keras.utils.to_categorical(raw_y_train, 10)\n",
    "y_test   = keras.utils.to_categorical(raw_y_test, 10)"
   ]
  },
  {
   "cell_type": "code",
   "execution_count": 36,
   "id": "74490b05",
   "metadata": {},
   "outputs": [
    {
     "name": "stdout",
     "output_type": "stream",
     "text": [
      "<class 'numpy.ndarray'> (60000, 784) float32\n",
      "<class 'numpy.ndarray'> (60000, 10) float32\n"
     ]
    }
   ],
   "source": [
    "print(type(x_train), x_train.shape, x_train.dtype)\n",
    "print(type(y_train), y_train.shape, y_train.dtype)"
   ]
  },
  {
   "cell_type": "code",
   "execution_count": 37,
   "id": "dc7fdea4",
   "metadata": {
    "scrolled": true
   },
   "outputs": [
    {
     "name": "stdout",
     "output_type": "stream",
     "text": [
      "[0.         0.         0.         0.         0.         0.\n",
      " 0.         0.         0.         0.         0.         0.\n",
      " 0.         0.         0.         0.         0.         0.\n",
      " 0.         0.         0.         0.         0.         0.\n",
      " 0.         0.         0.         0.         0.         0.\n",
      " 0.         0.         0.         0.         0.         0.\n",
      " 0.         0.         0.         0.         0.         0.\n",
      " 0.         0.         0.         0.         0.         0.\n",
      " 0.         0.         0.         0.         0.01176471 0.07058824\n",
      " 0.07058824 0.07058824 0.49411765 0.53333336 0.6862745  0.10196079\n",
      " 0.6509804  1.         0.96862745 0.49803922 0.         0.\n",
      " 0.         0.         0.         0.         0.         0.\n",
      " 0.         0.         0.         0.         0.11764706 0.14117648\n",
      " 0.36862746 0.6039216  0.6666667  0.99215686 0.99215686 0.99215686\n",
      " 0.99215686 0.99215686 0.88235295 0.6745098  0.99215686 0.9490196\n",
      " 0.7647059  0.2509804  0.         0.         0.         0.\n",
      " 0.         0.         0.         0.        ]\n"
     ]
    }
   ],
   "source": [
    "print(x_train[0][100:200])"
   ]
  },
  {
   "cell_type": "code",
   "execution_count": 38,
   "id": "5999f1bd",
   "metadata": {},
   "outputs": [
    {
     "name": "stdout",
     "output_type": "stream",
     "text": [
      "[0. 0. 0. 0. 0. 1. 0. 0. 0. 0.]\n"
     ]
    }
   ],
   "source": [
    "print(y_train[0])"
   ]
  },
  {
   "cell_type": "markdown",
   "id": "e38df9c7",
   "metadata": {},
   "source": [
    "ニューラルネットをモデルとして組みます。\n",
    "最初は，入力層と出力層だけがあり，それが，全結合でつながったもので試しましょう。"
   ]
  },
  {
   "cell_type": "code",
   "execution_count": 39,
   "id": "431eb880",
   "metadata": {},
   "outputs": [],
   "source": [
    "# モデルの構築\n",
    "model = Sequential()\n",
    "model.add(InputLayer(input_shape=(784,)))\n",
    "#model.add(Dense(128, activation='relu'))\n",
    "model.add(Dense(10, activation='softmax'))\n",
    "model.compile(loss='categorical_crossentropy', optimizer='rmsprop', metrics=['accuracy'])\n"
   ]
  },
  {
   "cell_type": "markdown",
   "id": "2b8b1b54",
   "metadata": {},
   "source": [
    "model.fit により，学習を行いましょう。データを batch_size で指定された長さのバッチに分けて，バッチごとに学習します。学習は行列計算で実現されるので，ある程度の量のデータを一度に処理した方が効率が出ます。\n",
    "\n",
    "全データに対する学習を，epochs で指定された回数繰り返します。\n",
    "繰り返すごとに，性能があがっていきます。loss の値が下がり，accuracy の値が上がっていきます。"
   ]
  },
  {
   "cell_type": "code",
   "execution_count": 40,
   "id": "fa03a1ce",
   "metadata": {},
   "outputs": [
    {
     "name": "stdout",
     "output_type": "stream",
     "text": [
      "Epoch 1/20\n",
      "469/469 [==============================] - 0s 596us/step - loss: 0.5936 - accuracy: 0.8546 - val_loss: 0.3422 - val_accuracy: 0.9086\n",
      "Epoch 2/20\n",
      "469/469 [==============================] - 0s 487us/step - loss: 0.3313 - accuracy: 0.9081 - val_loss: 0.3035 - val_accuracy: 0.9140\n",
      "Epoch 3/20\n",
      "469/469 [==============================] - 0s 556us/step - loss: 0.3024 - accuracy: 0.9152 - val_loss: 0.2839 - val_accuracy: 0.9221\n",
      "Epoch 4/20\n",
      "469/469 [==============================] - 0s 495us/step - loss: 0.2886 - accuracy: 0.9196 - val_loss: 0.2783 - val_accuracy: 0.9227\n",
      "Epoch 5/20\n",
      "469/469 [==============================] - 0s 496us/step - loss: 0.2803 - accuracy: 0.9220 - val_loss: 0.2765 - val_accuracy: 0.9234\n",
      "Epoch 6/20\n",
      "469/469 [==============================] - 0s 489us/step - loss: 0.2749 - accuracy: 0.9236 - val_loss: 0.2721 - val_accuracy: 0.9244\n",
      "Epoch 7/20\n",
      "469/469 [==============================] - 0s 638us/step - loss: 0.2705 - accuracy: 0.9247 - val_loss: 0.2701 - val_accuracy: 0.9255\n",
      "Epoch 8/20\n",
      "469/469 [==============================] - 0s 572us/step - loss: 0.2676 - accuracy: 0.9258 - val_loss: 0.2694 - val_accuracy: 0.9251\n",
      "Epoch 9/20\n",
      "469/469 [==============================] - 0s 501us/step - loss: 0.2651 - accuracy: 0.9272 - val_loss: 0.2685 - val_accuracy: 0.9262\n",
      "Epoch 10/20\n",
      "469/469 [==============================] - 0s 492us/step - loss: 0.2630 - accuracy: 0.9277 - val_loss: 0.2681 - val_accuracy: 0.9259\n",
      "Epoch 11/20\n",
      "469/469 [==============================] - 0s 488us/step - loss: 0.2610 - accuracy: 0.9280 - val_loss: 0.2695 - val_accuracy: 0.9263\n",
      "Epoch 12/20\n",
      "469/469 [==============================] - 0s 607us/step - loss: 0.2596 - accuracy: 0.9285 - val_loss: 0.2688 - val_accuracy: 0.9270\n",
      "Epoch 13/20\n",
      "469/469 [==============================] - 0s 500us/step - loss: 0.2581 - accuracy: 0.9293 - val_loss: 0.2667 - val_accuracy: 0.9270\n",
      "Epoch 14/20\n",
      "469/469 [==============================] - 0s 491us/step - loss: 0.2572 - accuracy: 0.9304 - val_loss: 0.2697 - val_accuracy: 0.9266\n",
      "Epoch 15/20\n",
      "469/469 [==============================] - 0s 506us/step - loss: 0.2561 - accuracy: 0.9306 - val_loss: 0.2688 - val_accuracy: 0.9269\n",
      "Epoch 16/20\n",
      "469/469 [==============================] - 0s 506us/step - loss: 0.2555 - accuracy: 0.9305 - val_loss: 0.2690 - val_accuracy: 0.9263\n",
      "Epoch 17/20\n",
      "469/469 [==============================] - 0s 500us/step - loss: 0.2547 - accuracy: 0.9313 - val_loss: 0.2679 - val_accuracy: 0.9293\n",
      "Epoch 18/20\n",
      "469/469 [==============================] - 0s 554us/step - loss: 0.2537 - accuracy: 0.9313 - val_loss: 0.2673 - val_accuracy: 0.9285\n",
      "Epoch 19/20\n",
      "469/469 [==============================] - 0s 480us/step - loss: 0.2532 - accuracy: 0.9314 - val_loss: 0.2708 - val_accuracy: 0.9271\n",
      "Epoch 20/20\n",
      "469/469 [==============================] - 0s 529us/step - loss: 0.2523 - accuracy: 0.9319 - val_loss: 0.2713 - val_accuracy: 0.9263\n"
     ]
    }
   ],
   "source": [
    "# 学習\n",
    "epochs = 20\n",
    "batch_size = 128\n",
    "history = model.fit(x_train, y_train, batch_size=batch_size, epochs=epochs, verbose=1, validation_data=(x_test, y_test))\n"
   ]
  },
  {
   "cell_type": "markdown",
   "id": "ed704953",
   "metadata": {},
   "source": [
    "テストデータで検証します。"
   ]
  },
  {
   "cell_type": "code",
   "execution_count": 41,
   "id": "417316f0",
   "metadata": {},
   "outputs": [
    {
     "name": "stdout",
     "output_type": "stream",
     "text": [
      "313/313 [==============================] - 0s 274us/step - loss: 0.2713 - accuracy: 0.9263\n",
      "\n",
      "Test loss: 0.2713378071784973\n",
      "Test accuracy: 0.9262999892234802\n"
     ]
    }
   ],
   "source": [
    "\n",
    "# 検証\n",
    "score = model.evaluate(x_test, y_test, verbose=1)\n",
    "print()\n",
    "print('Test loss:', score[0])\n",
    "print('Test accuracy:', score[1])\n"
   ]
  },
  {
   "cell_type": "code",
   "execution_count": 42,
   "id": "ab571fd5",
   "metadata": {},
   "outputs": [
    {
     "data": {
      "image/png": "[encoded data removed]",
      "text/plain": [
       "<PIL.Image.Image image mode=L size=28x28 at 0x28F250290>"
      ]
     },
     "metadata": {},
     "output_type": "display_data"
    }
   ],
   "source": [
    "show(raw_x_test[0]) \n"
   ]
  },
  {
   "cell_type": "code",
   "execution_count": 43,
   "id": "d9d139bc",
   "metadata": {},
   "outputs": [
    {
     "ename": "NameError",
     "evalue": "name 'p' is not defined",
     "output_type": "error",
     "traceback": [
      "\u001b[0;31m---------------------------------------------------------------------------\u001b[0m",
      "\u001b[0;31mNameError\u001b[0m                                 Traceback (most recent call last)",
      "\u001b[1;32m/Users/tsuiki/Dropbox/a/lecture/python/13NeuralNet.ipynb セル 23\u001b[0m line \u001b[0;36m1\n\u001b[0;32m----> <a href='vscode-notebook-cell:/Users/tsuiki/Dropbox/a/lecture/python/13NeuralNet.ipynb#X31sZmlsZQ%3D%3D?line=0'>1</a>\u001b[0m np\u001b[39m.\u001b[39margmax(p, axis\u001b[39m=\u001b[39m\u001b[39m1\u001b[39m)\n",
      "\u001b[0;31mNameError\u001b[0m: name 'p' is not defined"
     ]
    }
   ],
   "source": [
    "np.argmax(p, axis=1)"
   ]
  },
  {
   "cell_type": "code",
   "execution_count": 44,
   "id": "ebf06247",
   "metadata": {
    "scrolled": true
   },
   "outputs": [
    {
     "name": "stdout",
     "output_type": "stream",
     "text": [
      "313/313 [==============================] - 0s 388us/step\n",
      "[7 2 1 0 4 1 4 9 6 9 0 6 9 0 1 5 9 7 3 4 9 6 6 5 4 0 7 4 0 1 3 1 3 0 7 2 7\n",
      " 1 2 1 1 7 4 2 3 5 1 2 4 4 6 3 5 5 6 0 4 1 9 5 7 8 9 2 7 4 2 4 3 0 7 0 2 9\n",
      " 1 7 3 2 9 7 7 6 2 7 8 4 7 3 6 1 3 6 9 3 1 4 1 7 6 9]\n",
      "[7 2 1 0 4 1 4 9 5 9 0 6 9 0 1 5 9 7 3 4 9 6 6 5 4 0 7 4 0 1 3 1 3 4 7 2 7\n",
      " 1 2 1 1 7 4 2 3 5 1 2 4 4 6 3 5 5 6 0 4 1 9 5 7 8 9 3 7 4 6 4 3 0 7 0 2 9\n",
      " 1 7 3 2 9 7 7 6 2 7 8 4 7 3 6 1 3 6 9 3 1 4 1 7 6 9]\n"
     ]
    },
    {
     "data": {
      "text/plain": [
       "[8, 33, 63, 66]"
      ]
     },
     "execution_count": 44,
     "metadata": {},
     "output_type": "execute_result"
    }
   ],
   "source": [
    "p = model.predict(x_test)\n",
    "ans = np.argmax(p, axis=1)\n",
    "print(ans[0:100])   # AI の答え\n",
    "\n",
    "print(raw_y_test[0:100]) # 正解\n",
    "[i for i in range(100) if (ans[i] != raw_y_test[i])]\n"
   ]
  },
  {
   "cell_type": "code",
   "execution_count": 45,
   "id": "92728321",
   "metadata": {},
   "outputs": [
    {
     "data": {
      "text/plain": [
       "array([9.9668057e-08, 3.0119825e-13, 3.7876081e-08, 1.7372594e-03,\n",
       "       1.1319405e-07, 1.3153890e-05, 2.9575108e-15, 9.9802339e-01,\n",
       "       1.9598892e-06, 2.2403333e-04], dtype=float32)"
      ]
     },
     "execution_count": 45,
     "metadata": {},
     "output_type": "execute_result"
    }
   ],
   "source": [
    "p[0]"
   ]
  },
  {
   "cell_type": "code",
   "execution_count": 46,
   "id": "f3c6d56e",
   "metadata": {},
   "outputs": [
    {
     "data": {
      "text/plain": [
       "7"
      ]
     },
     "execution_count": 46,
     "metadata": {},
     "output_type": "execute_result"
    }
   ],
   "source": [
    "ans[0]"
   ]
  },
  {
   "cell_type": "code",
   "execution_count": 47,
   "id": "ae17aa65",
   "metadata": {},
   "outputs": [
    {
     "data": {
      "image/png": "[encoded data removed]",
      "text/plain": [
       "<PIL.Image.Image image mode=L size=28x28 at 0x29E1D62D0>"
      ]
     },
     "metadata": {},
     "output_type": "display_data"
    },
    {
     "name": "stdout",
     "output_type": "stream",
     "text": [
      "[8.9027523e-04 1.9900963e-06 5.1446599e-01 9.9742338e-02 3.2226510e-02\n",
      " 1.1418178e-03 3.4573755e-01 4.7651478e-03 1.0156719e-03 1.2679902e-05]\n",
      "正解=6, AIの答え=2\n"
     ]
    }
   ],
   "source": [
    "a = 66\n",
    "show(raw_x_test[a])\n",
    "print(p[a])\n",
    "print(f\"正解={raw_y_test[a]}, AIの答え={ans[a]}\")"
   ]
  },
  {
   "cell_type": "markdown",
   "id": "20222b94",
   "metadata": {},
   "source": [
    "ネットワークを組み替えて，より高機能にしましょう。具体的には，モデルに中間層として，全結合で，relu という活性化関数をもったものを追加します。層のセルの数は 128 にしましたが，これが最適かどうかは分かりません。いろんなパラメータ（ハイパーパラメータといいます）を経験に基づいて設定していく必要があります。"
   ]
  },
  {
   "cell_type": "code",
   "execution_count": 48,
   "id": "67e7ab91",
   "metadata": {},
   "outputs": [
    {
     "name": "stdout",
     "output_type": "stream",
     "text": [
      "Epoch 1/20\n",
      "469/469 [==============================] - 1s 1ms/step - loss: 0.3290 - accuracy: 0.9095 - val_loss: 0.1921 - val_accuracy: 0.9434\n",
      "Epoch 2/20\n",
      "469/469 [==============================] - 0s 919us/step - loss: 0.1591 - accuracy: 0.9545 - val_loss: 0.1374 - val_accuracy: 0.9597\n",
      "Epoch 3/20\n",
      "469/469 [==============================] - 0s 911us/step - loss: 0.1150 - accuracy: 0.9660 - val_loss: 0.1094 - val_accuracy: 0.9661\n",
      "Epoch 4/20\n",
      "469/469 [==============================] - 0s 981us/step - loss: 0.0903 - accuracy: 0.9738 - val_loss: 0.1045 - val_accuracy: 0.9670\n",
      "Epoch 5/20\n",
      "469/469 [==============================] - 0s 993us/step - loss: 0.0735 - accuracy: 0.9785 - val_loss: 0.0896 - val_accuracy: 0.9724\n",
      "Epoch 6/20\n",
      "469/469 [==============================] - 0s 920us/step - loss: 0.0619 - accuracy: 0.9824 - val_loss: 0.0911 - val_accuracy: 0.9732\n",
      "Epoch 7/20\n",
      "469/469 [==============================] - 0s 967us/step - loss: 0.0524 - accuracy: 0.9852 - val_loss: 0.0820 - val_accuracy: 0.9760\n",
      "Epoch 8/20\n",
      "469/469 [==============================] - 0s 919us/step - loss: 0.0451 - accuracy: 0.9869 - val_loss: 0.0793 - val_accuracy: 0.9781\n",
      "Epoch 9/20\n",
      "469/469 [==============================] - 0s 912us/step - loss: 0.0390 - accuracy: 0.9890 - val_loss: 0.0836 - val_accuracy: 0.9773\n",
      "Epoch 10/20\n",
      "469/469 [==============================] - 0s 906us/step - loss: 0.0339 - accuracy: 0.9902 - val_loss: 0.0830 - val_accuracy: 0.9752\n",
      "Epoch 11/20\n",
      "469/469 [==============================] - 0s 906us/step - loss: 0.0299 - accuracy: 0.9917 - val_loss: 0.0803 - val_accuracy: 0.9772\n",
      "Epoch 12/20\n",
      "469/469 [==============================] - 1s 1ms/step - loss: 0.0258 - accuracy: 0.9928 - val_loss: 0.0822 - val_accuracy: 0.9768\n",
      "Epoch 13/20\n",
      "469/469 [==============================] - 0s 936us/step - loss: 0.0227 - accuracy: 0.9940 - val_loss: 0.0828 - val_accuracy: 0.9765\n",
      "Epoch 14/20\n",
      "469/469 [==============================] - 0s 933us/step - loss: 0.0194 - accuracy: 0.9952 - val_loss: 0.0836 - val_accuracy: 0.9773\n",
      "Epoch 15/20\n",
      "469/469 [==============================] - 0s 953us/step - loss: 0.0165 - accuracy: 0.9958 - val_loss: 0.0874 - val_accuracy: 0.9773\n",
      "Epoch 16/20\n",
      "469/469 [==============================] - 0s 946us/step - loss: 0.0150 - accuracy: 0.9962 - val_loss: 0.0863 - val_accuracy: 0.9774\n",
      "Epoch 17/20\n",
      "469/469 [==============================] - 1s 1ms/step - loss: 0.0129 - accuracy: 0.9968 - val_loss: 0.0856 - val_accuracy: 0.9776\n",
      "Epoch 18/20\n",
      "469/469 [==============================] - 0s 910us/step - loss: 0.0113 - accuracy: 0.9972 - val_loss: 0.0891 - val_accuracy: 0.9789\n",
      "Epoch 19/20\n",
      "469/469 [==============================] - 0s 901us/step - loss: 0.0100 - accuracy: 0.9974 - val_loss: 0.0874 - val_accuracy: 0.9788\n",
      "Epoch 20/20\n",
      "469/469 [==============================] - 0s 907us/step - loss: 0.0084 - accuracy: 0.9979 - val_loss: 0.0931 - val_accuracy: 0.9771\n",
      "313/313 [==============================] - 0s 339us/step - loss: 0.0931 - accuracy: 0.9771\n",
      "\n",
      "Test loss: 0.09307275712490082\n",
      "Test accuracy: 0.9771000146865845\n"
     ]
    }
   ],
   "source": [
    "# モデルの構築\n",
    "model2 = Sequential()\n",
    "model2.add(InputLayer(input_shape=(784,)))\n",
    "model2.add(Dense(128, activation='relu'))   # この行!!\n",
    "model2.add(Dense(10, activation='softmax'))\n",
    "model2.compile(loss='categorical_crossentropy', optimizer='rmsprop', metrics=['accuracy'])\n",
    "\n",
    "# 学習\n",
    "epochs = 20\n",
    "batch_size = 128\n",
    "history2 = model2.fit(x_train, y_train, batch_size=batch_size, epochs=epochs, verbose=1, validation_data=(x_test, y_test))\n",
    "\n",
    "\n",
    "# 検証\n",
    "score = model2.evaluate(x_test, y_test, verbose=1)\n",
    "print()\n",
    "print('Test loss:', score[0])\n",
    "print('Test accuracy:', score[1])\n"
   ]
  },
  {
   "cell_type": "markdown",
   "id": "13f4f191",
   "metadata": {},
   "source": [
    "先程より，さらに結果がよくなりました。\n",
    "\n",
    "学習の過程は，model.fit の返り値(history および history2) に格納されています。\n",
    "学習過程において，loss (損失値，この値が低いほどよい) と val_loss (テストデータに対する損失値)の値がどう変化したかをグラフ化します。\n",
    "このコードは，次のページからとってきました。\n",
    "\n",
    "https://weblabo.oscasierra.net/python/keras-mnist-sample.html"
   ]
  },
  {
   "cell_type": "code",
   "execution_count": 49,
   "id": "ab845adc",
   "metadata": {},
   "outputs": [
    {
     "data": {
      "image/png": "[encoded data removed]",
      "text/plain": [
       "<Figure size 640x480 with 1 Axes>"
      ]
     },
     "metadata": {},
     "output_type": "display_data"
    }
   ],
   "source": [
    "import matplotlib.pyplot as plt\n",
    "\n",
    "loss     = history.history['loss']\n",
    "val_loss = history.history['val_loss']\n",
    "\n",
    "nb_epoch = len(loss)\n",
    "plt.plot(range(nb_epoch), loss,     marker='.', label='loss')\n",
    "plt.plot(range(nb_epoch), val_loss, marker='.', label='val_loss')\n",
    "plt.legend(loc='best', fontsize=10)\n",
    "plt.grid()\n",
    "plt.xlabel('epoch')\n",
    "plt.ylabel('loss')\n",
    "plt.show()"
   ]
  },
  {
   "cell_type": "markdown",
   "id": "8ccb7957",
   "metadata": {},
   "source": [
    "val_loss の値は，一度下がってからまた少し上がっているようです。これは，過学習している（すなわち，訓練データに合わせすぎて汎用性がなくなってきている）と思われます。\n",
    "\n",
    "history2 も重ねてみましょう。"
   ]
  },
  {
   "cell_type": "code",
   "execution_count": 50,
   "id": "8cf2c992",
   "metadata": {},
   "outputs": [
    {
     "data": {
      "image/png": "[encoded data removed]",
      "text/plain": [
       "<Figure size 640x480 with 1 Axes>"
      ]
     },
     "metadata": {},
     "output_type": "display_data"
    }
   ],
   "source": [
    "import matplotlib.pyplot as plt\n",
    "\n",
    "loss     = history.history['loss']\n",
    "val_loss = history.history['val_loss']\n",
    "loss2     = history2.history['loss']\n",
    "val_loss2 = history2.history['val_loss']\n",
    "\n",
    "nb_epoch = len(loss)\n",
    "plt.plot(range(nb_epoch), loss,     marker='.', label='loss')\n",
    "plt.plot(range(nb_epoch), val_loss, marker='.', label='val_loss')\n",
    "plt.plot(range(nb_epoch), loss2,     marker='.', label='loss2')\n",
    "plt.plot(range(nb_epoch), val_loss2, marker='.', label='val_loss2')\n",
    "plt.legend(loc='best', fontsize=10)\n",
    "plt.grid()\n",
    "plt.xlabel('epoch')\n",
    "plt.ylabel('loss')\n",
    "plt.show()"
   ]
  },
  {
   "cell_type": "markdown",
   "id": "293cf30b",
   "metadata": {},
   "source": [
    "訓練データに対しては値がどんどんよくなっているのに，テストデータに対しては悪くなってきているのは，過学習の特徴です。"
   ]
  },
  {
   "cell_type": "code",
   "execution_count": 51,
   "id": "e838f2f0",
   "metadata": {},
   "outputs": [
    {
     "name": "stdout",
     "output_type": "stream",
     "text": [
      "  1/313 [..............................] - ETA: 9s"
     ]
    },
    {
     "name": "stdout",
     "output_type": "stream",
     "text": [
      "313/313 [==============================] - 0s 722us/step\n",
      "737\n",
      "10000\n",
      "313/313 [==============================] - 0s 335us/step\n",
      "229\n",
      "10000\n"
     ]
    }
   ],
   "source": [
    "p = np.argmax(model.predict(x_test), axis=1)\n",
    "print(len(list (filter (lambda x: x[0]!=x[1], (zip(p, raw_y_test))))))\n",
    "print(len(p))\n",
    "p2 = np.argmax(model2.predict(x_test), axis=1)\n",
    "print(len(list (filter (lambda x: x[0]!=x[1], (zip(p2, raw_y_test))))))\n",
    "print(len(p2))"
   ]
  },
  {
   "cell_type": "code",
   "execution_count": null,
   "id": "d3f13a0b",
   "metadata": {},
   "outputs": [],
   "source": []
  },
  {
   "cell_type": "code",
   "execution_count": null,
   "id": "a2f7ae70",
   "metadata": {},
   "outputs": [],
   "source": []
  }
 ],
 "metadata": {
  "kernelspec": {
   "display_name": "Python 3 (ipykernel)",
   "language": "python",
   "name": "python3"
  },
  "language_info": {
   "codemirror_mode": {
    "name": "ipython",
    "version": 3
   },
   "file_extension": ".py",
   "mimetype": "text/x-python",
   "name": "python",
   "nbconvert_exporter": "python",
   "pygments_lexer": "ipython3",
   "version": "3.11.5"
  }
 },
 "nbformat": 4,
 "nbformat_minor": 5
}
