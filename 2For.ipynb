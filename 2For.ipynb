{
 "cells": [
  {
   "cell_type": "markdown",
   "metadata": {
    "jp-MarkdownHeadingCollapsed": true,
    "tags": []
   },
   "source": [
    "# 第2回 制御構造，関数\n",
    "\n",
    "今回から，Python プログラミングについて勉強します。Python については，たくさん書籍が出てます。\n",
    "また，online でのチュートリアルも充実しています。\n",
    "\n",
    "https://docs.python.org/ja/3/tutorial/index.html\n",
    "\n",
    "も参照するのがいいでしょう。また，より詳しい Python 自体のドキュメントが\n",
    "\n",
    "https://docs.python.org/ja/3/index.html\n",
    "\n",
    "にあります。このノートでPython の機能を全て網羅するつもりはありませんし，全体を覚える必要もありません。\n",
    "特に，細かいライブラリ等は，どんなことができるか概要を知り，使い方の調べ方を知っていることが重要です。"
   ]
  },
  {
   "cell_type": "markdown",
   "metadata": {},
   "source": [
    "---\n",
    "# リストと for 文による繰り返し"
   ]
  },
  {
   "cell_type": "markdown",
   "metadata": {},
   "source": [
    "## リスト"
   ]
  },
  {
   "cell_type": "markdown",
   "metadata": {},
   "source": [
    "複数の値を並べたものを，リストといいます。リストは，[1.3.5] という形で,`[  ]`で囲んで , で区切って作ります。"
   ]
  },
  {
   "cell_type": "code",
   "execution_count": 99,
   "metadata": {},
   "outputs": [
    {
     "name": "stdout",
     "output_type": "stream",
     "text": [
      "[1, 4, 7]\n"
     ]
    },
    {
     "data": {
      "text/plain": [
       "list"
      ]
     },
     "execution_count": 99,
     "metadata": {},
     "output_type": "execute_result"
    }
   ],
   "source": [
    "n3 = [1,4,7]\n",
    "print(n3)\n",
    "type(n3)"
   ]
  },
  {
   "cell_type": "markdown",
   "metadata": {},
   "source": [
    "\n",
    "リスト s の長さは、len 関数を用いて len(s) で求めることができます。リストの i 番目の要素は，リストの後に\n",
    "[i] という**インデックス**をつけてとりだすことができます。リストのインデックスが 0 から始まることを注意してください。また、[from:to] という**スライス**をつけて、from, ..., to-1 番目の要素からなる部分リストを作ることもできます。to の一つ前までということに注意してください。\n",
    "また、足し算でリスト同士をくっつけることができます。\n",
    "sum は，数のリストをもらい，その和を返す関数です。\n"
   ]
  },
  {
   "cell_type": "code",
   "execution_count": 17,
   "metadata": {},
   "outputs": [
    {
     "name": "stdout",
     "output_type": "stream",
     "text": [
      "6\n",
      "1 4 7 10\n",
      "[1, 4]\n",
      "4\n",
      "[1, 4, 7, 2, 5, 8]\n",
      "27\n",
      "27\n"
     ]
    }
   ],
   "source": [
    "print(len(n3))\n",
    "print(n3[0], n3[1], n3[2], n3[3])\n",
    "#print(n3[4])  #コメントをはずしてエラーが起きることを確認してください。\n",
    "print(n3[0:2])\n",
    "print(n3[0:2][1])\n",
    "print([1,4,7] + [2,5,8])\n",
    "print(sum([1,4,7] + [2,5,8]))\n",
    "print(sum([1,4,7]) + sum([2,5,8])) # 上と同じはず。"
   ]
  },
  {
   "cell_type": "markdown",
   "metadata": {},
   "source": [
    "**練習問題** 0, 31, 28, ... という、1年の各月の日数のリストを作り、mon という変数に代入しよう。インデックスと月が合うように，最初の要素として 0 をダミーで入れておこう。 "
   ]
  },
  {
   "cell_type": "markdown",
   "metadata": {},
   "source": [
    "**練習問題** mon の長さ，1年の日数を求めよう。1 月の日数を表示しよう。また、mon の中の 4 月から 9 月までの部分を取り出して、zenki という変数に代入しよう。+ を用いて、10 月から3 月までの部分を kouki という変数に代入しよう。zenki と kouki の日数を求めよう。"
   ]
  },
  {
   "cell_type": "markdown",
   "metadata": {},
   "source": [
    "## 繰り返し"
   ]
  },
  {
   "cell_type": "markdown",
   "metadata": {},
   "source": [
    "リストの中に入った要素に対し，順番に同じ処理をすることができます。それには，for 文を用います。まず，処理をする対象を記憶する変数を定めます。ここでは i にしましょう。繰り返し処理するリストを [1,3,5] だとします。すると，次のように書くことによって，i を 1,3,5 に代入しながら，それぞれの i の時に print(i) を実行します。"
   ]
  },
  {
   "cell_type": "code",
   "execution_count": 100,
   "metadata": {},
   "outputs": [
    {
     "name": "stdout",
     "output_type": "stream",
     "text": [
      "1\n",
      "3\n",
      "5\n",
      "end\n"
     ]
    }
   ],
   "source": [
    "for i in [1,3,5]:\n",
    "    print(i)\n",
    "print(\"end\")"
   ]
  },
  {
   "cell_type": "markdown",
   "metadata": {},
   "source": [
    "2 行目の文字下げ（インデント）が重要で，通常は 4 文字下げます。インデントをつけてある行の範囲が，繰り返し実行する範囲になります。\n"
   ]
  },
  {
   "cell_type": "code",
   "execution_count": 30,
   "metadata": {},
   "outputs": [
    {
     "name": "stdout",
     "output_type": "stream",
     "text": [
      "1\n",
      "2\n",
      "3\n",
      "4\n",
      "5\n",
      "6\n",
      "end\n"
     ]
    }
   ],
   "source": [
    "for i in [1,3,5]:\n",
    "    print(i)\n",
    "    print(i+1)\n",
    "print(\"end\")"
   ]
  },
  {
   "cell_type": "markdown",
   "metadata": {},
   "source": [
    "**練習問題** 1 年の各月について、その月の日数を次の様に表記しよう。\n",
    "```\n",
    "1 月:  31 日\n",
    "2 月:  28 日\n",
    "...\n",
    "```\n"
   ]
  },
  {
   "cell_type": "markdown",
   "metadata": {},
   "source": [
    "**練習問題** 1 年の各月について、さらに、その月までの積算日数も表記しよう。\n",
    "```\n",
    "月     日数    積算日数\n",
    "1 月:  31 日   31日\n",
    "2 月:  28 日　　59日\n",
    "...\n",
    "```\n"
   ]
  },
  {
   "cell_type": "markdown",
   "metadata": {},
   "source": [
    "## range "
   ]
  },
  {
   "cell_type": "markdown",
   "metadata": {},
   "source": [
    "sum 関数を用いて、1 から 10 までの和を求めることはできても、0 から 99 までの和を求めるのは大変です。そうい，連続した値からなるリストを作るのに range を用います。range(100) を実行すると、[0,1,2,...,99] というリストと実質的に同じものが作られて返されます。正確には，値が必要になるたびに、その値を作る手順をもつ range オブジェクトが作られるだけで，リストそのものは作られていません。詳しくは、後の章で話をしますが，多くの場所でリストと同じように扱えます。例えば，これを sum 関数に渡すと、0 から 99 までの和が返されます。"
   ]
  },
  {
   "cell_type": "code",
   "execution_count": 101,
   "metadata": {},
   "outputs": [
    {
     "data": {
      "text/plain": [
       "range(0, 10)"
      ]
     },
     "execution_count": 101,
     "metadata": {},
     "output_type": "execute_result"
    }
   ],
   "source": [
    "range(10)"
   ]
  },
  {
   "cell_type": "code",
   "execution_count": 102,
   "metadata": {},
   "outputs": [
    {
     "data": {
      "text/plain": [
       "[0, 1, 2, 3, 4, 5, 6, 7, 8, 9]"
      ]
     },
     "execution_count": 102,
     "metadata": {},
     "output_type": "execute_result"
    }
   ],
   "source": [
    "list(range(10))"
   ]
  },
  {
   "cell_type": "code",
   "execution_count": 103,
   "metadata": {},
   "outputs": [
    {
     "data": {
      "text/plain": [
       "45"
      ]
     },
     "execution_count": 103,
     "metadata": {},
     "output_type": "execute_result"
    }
   ],
   "source": [
    "sum(range(10))"
   ]
  },
  {
   "cell_type": "markdown",
   "metadata": {},
   "source": [
    "range を for 文と一緒に使うと，同じことを指定された回数繰り返し実行させることが簡単にできます。"
   ]
  },
  {
   "cell_type": "code",
   "execution_count": 57,
   "metadata": {},
   "outputs": [
    {
     "name": "stdout",
     "output_type": "stream",
     "text": [
      "Happy birthday to you.\n",
      "Happy birthday to you.\n",
      "Happy birthday to you.\n",
      "Happy birthday to you.\n",
      "Happy birthday to you.\n"
     ]
    }
   ],
   "source": [
    "for i in range(5):\n",
    "    print(\"Happy birthday to you.\")"
   ]
  },
  {
   "cell_type": "markdown",
   "metadata": {},
   "source": [
    "この繰り返しは、5回繰り返すというだけで、i の値は使っていません。\n",
    "そのように、使われない変数であることを明記するために、i の代わりに `_` という変数名を用いるのが普通です。上のセルで， i を _ に書き換えておいてください。"
   ]
  },
  {
   "cell_type": "code",
   "execution_count": null,
   "metadata": {},
   "outputs": [
    {
     "ename": "",
     "evalue": "",
     "output_type": "error",
     "traceback": [
      "\u001b[1;31m'Python 3.8.2 64-bit' を使用した実行中のセルには ipykernel パッケージが必要です。\n",
      "\u001b[1;31m次のコマンドを実行して、'ipykernel' を Python 環境にインストールします。\n",
      "\u001b[1;31mコマンド: '/usr/bin/python3 -m pip install ipykernel -U --user --force-reinstall'"
     ]
    }
   ],
   "source": [
    "for i in range(10):\n",
    "    print(i, end=\", \")"
   ]
  },
  {
   "cell_type": "raw",
   "metadata": {},
   "source": [
    "range は，2 引数で呼び出して最初の数と最後の数を指定することも，3引数で呼び出してその間の増分を指定することもできます。"
   ]
  },
  {
   "cell_type": "code",
   "execution_count": 11,
   "metadata": {},
   "outputs": [
    {
     "name": "stdout",
     "output_type": "stream",
     "text": [
      "1, 2, 3, 4, 5, 6, 7, 8, 9, 10, \n",
      "11, 10, 9, 8, 7, 6, 5, 4, 3, 2, "
     ]
    },
    {
     "data": {
      "text/plain": [
       "55"
      ]
     },
     "execution_count": 11,
     "metadata": {},
     "output_type": "execute_result"
    }
   ],
   "source": [
    "for i in range(1,11):\n",
    "    print(i, end=\", \")\n",
    "print();    \n",
    "for i in range(11,1,-1):\n",
    "    print(i, end=\", \")\n",
    "sum(range(1,11))"
   ]
  },
  {
   "cell_type": "markdown",
   "metadata": {},
   "source": [
    "## 繰り返しの中での変数の利用\n",
    "\n",
    "sum 関数を使わずに，for を用いてリストの和を求めることを考えましょう。\n",
    "それには，和を記憶する変数を用意しておいて，最初は 0 にしておいて，繰り返しの度に足しこんでいけばよいです。\n",
    "次のプログラムは，range(11)= [0,1,2,3,4,5,6,7,8,9,10] というリストに対して和( $\\sum_{i=0}^{10} i$ )を求めています。"
   ]
  },
  {
   "cell_type": "code",
   "execution_count": 35,
   "metadata": {},
   "outputs": [
    {
     "name": "stdout",
     "output_type": "stream",
     "text": [
      "55\n"
     ]
    }
   ],
   "source": [
    "total = 0\n",
    "for i in range(11):\n",
    "    total = total + i\n",
    "print(total)  "
   ]
  },
  {
   "cell_type": "markdown",
   "metadata": {},
   "source": [
    "**練習問題** 上のプログラムで，それぞれの i の時に，i の値とそこまでの和も表示するように変更しよう。"
   ]
  },
  {
   "cell_type": "markdown",
   "metadata": {},
   "source": [
    "**練習問題** 上のプログラムで，それぞれの i の時に，i の値とそこまでの和も表示するように変更しよう。"
   ]
  },
  {
   "cell_type": "markdown",
   "metadata": {},
   "source": [
    "このように，for 文は，\n",
    "```\n",
    "for 変数 in リスト式:\n",
    "　　　文\n",
    "     ...\n",
    "     文\n",
    "```\n",
    "という形をしています。\n",
    "\n",
    "for 文を for 文の中の文に含めることもできます。\n",
    "そうすれば，繰り返しを繰り返させることができます。for 文をネストさせるといいます。for 文をネストさせると、インデントも深くなっていきます。次のプログラムは、`1*1, 1*2,...1*10, 2*1,..2*10,...,5*1,...,5*10` の和\n",
    "\n",
    "$$$$\n",
    "$$ \\sum_{i=1}^{10} \\sum_{j=1}^{10} ij $$\n",
    "\n",
    "を求めています。"
   ]
  },
  {
   "cell_type": "code",
   "execution_count": 37,
   "metadata": {},
   "outputs": [
    {
     "name": "stdout",
     "output_type": "stream",
     "text": [
      "550\n"
     ]
    }
   ],
   "source": [
    "s = 0\n",
    "for i in range(1,5):\n",
    "    for j in range(1,11):\n",
    "        s += i*j\n",
    "print(s)"
   ]
  },
  {
   "cell_type": "markdown",
   "metadata": {},
   "source": [
    "**練習問題** 次の2つのプログラムは何をしているか考えましょう。"
   ]
  },
  {
   "cell_type": "code",
   "execution_count": 38,
   "metadata": {},
   "outputs": [
    {
     "name": "stdout",
     "output_type": "stream",
     "text": [
      "55\n",
      "165\n",
      "330\n",
      "550\n"
     ]
    }
   ],
   "source": [
    "s = 0\n",
    "for i in range(1,5):\n",
    "    for j in range(1,11):\n",
    "        s += i*j\n",
    "    print(s)"
   ]
  },
  {
   "cell_type": "code",
   "execution_count": 39,
   "metadata": {},
   "outputs": [
    {
     "name": "stdout",
     "output_type": "stream",
     "text": [
      "55\n",
      "110\n",
      "165\n",
      "220\n"
     ]
    }
   ],
   "source": [
    "for i in range(1,5):\n",
    "    s = 0\n",
    "    for j in range(1,11):\n",
    "        s += i*j\n",
    "        print(s)"
   ]
  },
  {
   "cell_type": "markdown",
   "metadata": {},
   "source": [
    "**練習問題** 九九の表を書くプログラムを作ろう。"
   ]
  },
  {
   "cell_type": "code",
   "execution_count": 70,
   "metadata": {},
   "outputs": [
    {
     "name": "stdout",
     "output_type": "stream",
     "text": [
      "55\n",
      "165\n",
      "330\n",
      "550\n"
     ]
    }
   ],
   "source": [
    "s = 0\n",
    "for i in range(1,5):\n",
    "    for j in range(1,11):\n",
    "        s += i*j\n",
    "    print(s)"
   ]
  },
  {
   "cell_type": "markdown",
   "metadata": {
    "tags": []
   },
   "source": [
    "---\n",
    "# 関数定義\n",
    "\n",
    "\n",
    "上のプログラムは,一つのことしかできません。どんなリストであっても、その和を求める手順は同じはずです。このような時に、関数を定義すると，手順に名前をつけて，引数をもらって，それに対して指定した手順を実行させることができます。\n",
    "\n",
    "```\n",
    "def 関数名(仮引数):\n",
    "     本体\n",
    "```     \n",
    "     \n",
    "という形で行います。インデントのなされた部分が本体になります。本体の中に for 文があると、さらにインデントを深くします。仮引数は，引数として与えられた値を記憶する変数です。関数が呼び出されると、仮引数に引数として与えられた値が代入された状態で本体に書かれた手順が実行されます。"
   ]
  },
  {
   "cell_type": "code",
   "execution_count": 122,
   "metadata": {},
   "outputs": [
    {
     "name": "stdout",
     "output_type": "stream",
     "text": [
      "li = [1, 2, 3, 4, 5, 6]\n",
      "li = 10\n"
     ]
    }
   ],
   "source": [
    "def sample(li):\n",
    "    print(\"li =\", li)\n",
    "\n",
    "sample([1,2,3,4,5,6])\n",
    "sample(10)"
   ]
  },
  {
   "cell_type": "markdown",
   "metadata": {},
   "source": [
    "リストをもらい、その和を表示する関数 mysum0 を定義してみましょう。"
   ]
  },
  {
   "cell_type": "code",
   "execution_count": 2,
   "metadata": {},
   "outputs": [],
   "source": [
    "def mysum0(li):\n",
    "    x = 0\n",
    "    for i in li:\n",
    "        x = x + i\n",
    "    print(\"sum = \", x)"
   ]
  },
  {
   "cell_type": "code",
   "execution_count": 3,
   "metadata": {
    "scrolled": true
   },
   "outputs": [
    {
     "name": "stdout",
     "output_type": "stream",
     "text": [
      "sum =  15\n",
      "sum =  4950\n"
     ]
    }
   ],
   "source": [
    "mysum0([1,2,3,4,5])\n",
    "mysum0(range(100))"
   ]
  },
  {
   "cell_type": "markdown",
   "metadata": {},
   "source": [
    "**練習問題** 九九の表を書くプログラムを作ろう。"
   ]
  },
  {
   "cell_type": "markdown",
   "metadata": {},
   "source": [
    " 上で定義した mysum0 は、関数を実行している間にprint 文で画面表示を行い、値を返しませんでした。それに対して、sum のように，計算した結果の値を返す関数も定義できます。関数定義の中で値を返すには，値を返したいところで`return 式` という文（リターン文）を呼び出します。次の関数 mysum は，和の値を返します。\n"
   ]
  },
  {
   "cell_type": "code",
   "execution_count": 127,
   "metadata": {},
   "outputs": [
    {
     "data": {
      "text/plain": [
       "21"
      ]
     },
     "execution_count": 127,
     "metadata": {},
     "output_type": "execute_result"
    }
   ],
   "source": [
    "def mysum(li):\n",
    "    x = 0\n",
    "    for i in li:\n",
    "        x += i\n",
    "    return(x)\n",
    "\n",
    "mysum([1,2,3,4,5,6])"
   ]
  },
  {
   "cell_type": "code",
   "execution_count": 128,
   "metadata": {},
   "outputs": [
    {
     "data": {
      "text/plain": [
       "21"
      ]
     },
     "execution_count": 128,
     "metadata": {},
     "output_type": "execute_result"
    }
   ],
   "source": [
    "mysum([1,3,5]) + mysum([2,4,6])\n"
   ]
  },
  {
   "cell_type": "markdown",
   "metadata": {},
   "source": [
    "ある関数を定義すると、その関数を用いてより複雑な関数を作ることができます。\n",
    "関数に引数が複数ある時には、引数のところにコンマで区切って書きます。\n",
    "二つのリストの和の積を求める関数は、次のようにかけます。"
   ]
  },
  {
   "cell_type": "code",
   "execution_count": 129,
   "metadata": {},
   "outputs": [
    {
     "data": {
      "text/plain": [
       "54"
      ]
     },
     "execution_count": 129,
     "metadata": {},
     "output_type": "execute_result"
    }
   ],
   "source": [
    "def hello(list1, list2):\n",
    "    \"\"\"2 つのリスト list1, list2の要素の和の積を返す\"\"\"\n",
    "    return(mysum(list1) * mysum(list2))\n",
    "hello([1,2,3], [2,3,4])"
   ]
  },
  {
   "cell_type": "markdown",
   "metadata": {},
   "source": [
    "# 便利な機能"
   ]
  },
  {
   "cell_type": "markdown",
   "metadata": {},
   "source": [
    "このプログラムの最初の行は文字列です。この文字列を実行しても何も起きないですが、このように、関数の最初の行に、簡単な説明(**docstring**といいます)を書いておくと、後でプログラムを読む時に，何の関数か分かります。docstring の内容は、help 関数で見ることができます。関数は、後で使うためのものです。使う時にすぐに使い方がわかるように、ドキュメントは書くように心がけてください。\n",
    "\n",
    "help 関数は非常に有用です。関数だけではなく，値（の属する型）に関する情報を見ることができます。"
   ]
  },
  {
   "cell_type": "code",
   "execution_count": 45,
   "metadata": {},
   "outputs": [
    {
     "name": "stdout",
     "output_type": "stream",
     "text": [
      "Help on built-in function sum in module builtins:\n",
      "\n",
      "sum(iterable, start=0, /)\n",
      "    Return the sum of a 'start' value (default: 0) plus an iterable of numbers\n",
      "    \n",
      "    When the iterable is empty, return the start value.\n",
      "    This function is intended specifically for use with numeric values and may\n",
      "    reject non-numeric types.\n",
      "\n"
     ]
    }
   ],
   "source": [
    "help(sum)"
   ]
  },
  {
   "cell_type": "code",
   "execution_count": 46,
   "metadata": {},
   "outputs": [
    {
     "name": "stdout",
     "output_type": "stream",
     "text": [
      "Help on function hello in module __main__:\n",
      "\n",
      "hello(list1, list2)\n",
      "    2 つのリスト list1, list2の要素の和の積を返す\n",
      "\n"
     ]
    }
   ],
   "source": [
    "help(hello)"
   ]
  },
  {
   "cell_type": "code",
   "execution_count": 130,
   "metadata": {},
   "outputs": [],
   "source": [
    "L = [1,2,3]\n",
    "# help(L) # コメントをはずして自分で実行してください。"
   ]
  },
  {
   "cell_type": "markdown",
   "metadata": {},
   "source": [
    "jupyter lab/notebook は便利な機能をたくさん持っています。\n",
    "例えば、helloとだけ書いてshift+tab を押すと、docstring の文字列が表示されます。\n",
    "hello?, hello?? を実行してもそうです。"
   ]
  },
  {
   "cell_type": "code",
   "execution_count": 131,
   "metadata": {},
   "outputs": [
    {
     "data": {
      "text/plain": [
       "\u001b[0;31mSignature:\u001b[0m \u001b[0mhello\u001b[0m\u001b[0;34m(\u001b[0m\u001b[0mlist1\u001b[0m\u001b[0;34m,\u001b[0m \u001b[0mlist2\u001b[0m\u001b[0;34m)\u001b[0m\u001b[0;34m\u001b[0m\u001b[0;34m\u001b[0m\u001b[0m\n",
       "\u001b[0;31mDocstring:\u001b[0m 2 つのリスト list1, list2の要素の和の積を返す\n",
       "\u001b[0;31mFile:\u001b[0m      /var/folders/s1/nr2mj2351891wp97qz7215lc0000gn/T/ipykernel_10193/929828729.py\n",
       "\u001b[0;31mType:\u001b[0m      function\n"
      ]
     },
     "metadata": {},
     "output_type": "display_data"
    }
   ],
   "source": [
    "hello?"
   ]
  },
  {
   "cell_type": "markdown",
   "metadata": {},
   "source": [
    "また、hello 関数が定義されている時に、hel まで打ち込んで tab を押すと、そこに入力できる hel から始まる文字列のリストを表示してくれます。"
   ]
  },
  {
   "cell_type": "markdown",
   "metadata": {},
   "source": [
    "% で始まる文字列は、マジック関数と呼ばれるもので、python　ではなく、jupyter lab (jupyter notebook, ipython) に対するコマンドです。マジック関数にも、便利なものがあります。\n",
    "\n",
    "%whos は、現在定義されている変数とその型、値が表示されます。\n"
   ]
  },
  {
   "cell_type": "code",
   "execution_count": 91,
   "metadata": {},
   "outputs": [
    {
     "name": "stdout",
     "output_type": "stream",
     "text": [
      "Variable   Type        Data/Info\n",
      "--------------------------------\n",
      "L          list        n=3\n",
      "a          NoneType    None\n",
      "hello      function    <function hello at 0x7fdd801609d0>\n",
      "i          int         31\n",
      "j          int         10\n",
      "kouki      list        n=6\n",
      "mon        list        n=13\n",
      "mysum      function    <function mysum at 0x7fdd801604c0>\n",
      "n3         list        n=6\n",
      "name       str         123\n",
      "s          int         550\n",
      "u          str         Python はいい言語\n",
      "x          int         365\n",
      "z          int         365\n",
      "zenki      list        n=6\n"
     ]
    }
   ],
   "source": [
    "%whos"
   ]
  },
  {
   "cell_type": "markdown",
   "metadata": {},
   "source": [
    "%time を用いて，実行時間の計測ができます。 \n",
    "\n",
    "%timeit を用いると、何回も実行して平均を求めてくれます。\n",
    "\n",
    "%%time, %%timeit とすると、1行ではなくセルに対して行えます。\n",
    "\n",
    "ms: 1/000 秒 μs: $1/10^6$ 秒，ns: $1/10^9$ 秒です。\n",
    "\n"
   ]
  },
  {
   "cell_type": "code",
   "execution_count": 20,
   "metadata": {},
   "outputs": [
    {
     "name": "stdout",
     "output_type": "stream",
     "text": [
      "CPU times: user 2 µs, sys: 0 ns, total: 2 µs\n",
      "Wall time: 5.25 µs\n"
     ]
    }
   ],
   "source": [
    "%time x = 2**(2**(2**2))"
   ]
  },
  {
   "cell_type": "markdown",
   "metadata": {},
   "source": [
    "%store 変数\n",
    "\n",
    "で、変数の値を、外部ファイルに格納できます。\n",
    "また、その値は、\n",
    "\n",
    "%store\n",
    "\n",
    "で見ることができます。これは、jupyter lab のセッションが終わっても残ります。ファイルは、\n",
    "\n",
    "```~/.ipython/profile_default/db/autorestore```\n",
    "\n",
    "に置かれます。"
   ]
  },
  {
   "cell_type": "code",
   "execution_count": 56,
   "metadata": {},
   "outputs": [
    {
     "name": "stdout",
     "output_type": "stream",
     "text": [
      "Stored 'L' (list)\n"
     ]
    }
   ],
   "source": [
    "%store L"
   ]
  },
  {
   "cell_type": "code",
   "execution_count": 58,
   "metadata": {},
   "outputs": [
    {
     "name": "stdout",
     "output_type": "stream",
     "text": [
      "Stored variables and their in-db values:\n",
      "L             -> [1, 2, 3]\n"
     ]
    }
   ],
   "source": [
    "%store  \n",
    "# これは、他の jupyter lab ファイルで行うのがいい。"
   ]
  },
  {
   "cell_type": "markdown",
   "metadata": {},
   "source": [
    "%quickref で、マジックコマンドの一覧が出てきます。"
   ]
  },
  {
   "cell_type": "markdown",
   "metadata": {},
   "source": [
    "直前の実行結果は，_ でアクセスできます。"
   ]
  },
  {
   "cell_type": "code",
   "execution_count": 12,
   "metadata": {},
   "outputs": [
    {
     "name": "stdout",
     "output_type": "stream",
     "text": [
      "7\n"
     ]
    }
   ],
   "source": [
    "print(_)"
   ]
  },
  {
   "cell_type": "code",
   "execution_count": 14,
   "metadata": {},
   "outputs": [],
   "source": [
    "2+3;  # ; をつけると，その実行結果は表示されません。"
   ]
  },
  {
   "cell_type": "markdown",
   "metadata": {},
   "source": [
    "! で，シェルコマンドを実行することができます。実行結果を文字列として受け取って，後のプログラムで利用することもできます。"
   ]
  },
  {
   "cell_type": "code",
   "execution_count": 94,
   "metadata": {},
   "outputs": [
    {
     "name": "stdout",
     "output_type": "stream",
     "text": [
      "#message.txt#\n",
      "10Bandit.ipynb\n",
      "10BanditTest.ipynb\n",
      "11Bayesian.ipynb\n",
      "12Linear.ipynb\n",
      "1Jupyter.ipynb\n",
      "2For.ipynb\n",
      "3If.ipynb\n",
      "4List.ipynb\n",
      "5Type.ipynb\n",
      "6Recursion.ipynb\n",
      "7Module.ipynb\n",
      "8DiffEq.ipynb\n",
      "9Object.ipynb\n",
      "<function <lambda> at 0x11112fb70>fig.jpg\n",
      "<function <lambda> at 0x11711b2f0>fig.jpg\n",
      "<function <lambda> at 0x11713b400>fig.jpg\n",
      "<function repeatfun.<locals>.<lambda> at 0x11112f6a8>fig.jpg\n",
      "<function repeatfun.<locals>.<lambda> at 0x11112f730>fig.jpg\n",
      "<function square at 0x111136488>fig.jpg\n",
      "<ufunc 'sin'>fig.jpg\n",
      "AbacusMachine.ipynb\n",
      "Bandit.ipynb\n",
      "\u001b[34mMail\u001b[m\u001b[m\n",
      "Mondai.ipynb\n",
      "None0000000.png\n",
      "README.md\n",
      "Untitled.ipynb\n",
      "Untitled1.ipynb\n",
      "Untitled2.ipynb\n",
      "Untitled3.ipynb\n",
      "Untitled4.ipynb\n",
      "Untitled5.ipynb\n",
      "Untitled6.ipynb\n",
      "_11answer.ipynb\n",
      "_12answer.ipynb\n",
      "_2answer.ipynb\n",
      "_3answer.ipynb\n",
      "_4answer.ipynb\n",
      "_5answer.ipynb\n",
      "_6answer.ipynb\n",
      "_7answer.ipynb\n",
      "_8answer.ipynb\n",
      "_9answer.ipynb\n",
      "\u001b[34m__pycache__\u001b[m\u001b[m\n",
      "_invanswer.ipynb\n",
      "a.ipynb\n",
      "animation.py\n",
      "\u001b[34mbandit\u001b[m\u001b[m\n",
      "\u001b[34mchainer\u001b[m\u001b[m\n",
      "coords_demo.ipynb\n",
      "factorial.py\n",
      "fig.png\n",
      "fig2.png\n",
      "jouka-kadai.ipynb\n",
      "\u001b[31mlogo.bmp\u001b[m\u001b[m\n",
      "logo.png\n",
      "\u001b[31mlogo3.gif\u001b[m\u001b[m\n",
      "logo3.jpg\n",
      "mathlogic.ipynb\n",
      "mathlogicanswer.ipynb\n",
      "message\n",
      "message.txt\n",
      "message.txt~\n",
      "\u001b[34mopencv\u001b[m\u001b[m\n",
      "plus_machine.jpg\n",
      "plus_machine.pdf\n",
      "sin.jpg\n",
      "square.jpg\n",
      "tkinter.ipynb\n",
      "\u001b[34mtmp\u001b[m\u001b[m\n",
      "trifinder_event_demo.ipynb\n",
      "untitled.txt\n",
      "untitled1.txt\n",
      "wikipedia.txt\n",
      "\u001b[34m参考\u001b[m\u001b[m\n",
      "行列.ipynb\n",
      "アラカルト.ipynb\n",
      "確率的降下.ipynb\n"
     ]
    }
   ],
   "source": [
    "!ls\n",
    "# ! により，シェルコマンドが実行できる。ls は，ファイルの一覧を示すコマンド\n",
    "# Windows なら，ls の代わりに dir を実行しよう。"
   ]
  },
  {
   "cell_type": "code",
   "execution_count": 95,
   "metadata": {},
   "outputs": [
    {
     "data": {
      "text/plain": [
       "['Tue Oct 12 16:25:49 JST 2021']"
      ]
     },
     "execution_count": 95,
     "metadata": {},
     "output_type": "execute_result"
    }
   ],
   "source": [
    "x = !date  #シェルコマンドの結果は，文字列のリストとして受け取ることもできる。\n",
    "x"
   ]
  },
  {
   "cell_type": "markdown",
   "metadata": {
    "tags": []
   },
   "source": [
    "***\n",
    "\n",
    "# 練習問題"
   ]
  },
  {
   "cell_type": "markdown",
   "metadata": {},
   "source": [
    "**練習問題** 数 n をもらい、1 から n までの積（すなわち、階乗，factorial）を返す関数 fact(n) を定義しよう。"
   ]
  },
  {
   "cell_type": "markdown",
   "metadata": {},
   "source": [
    "**練習問題**  実数 a をもらい，y = 0.01 から始めて，$f(y) = a y(1-y)$ という関数を 100回繰り返し適用した時のy の値の変化を表示するプログラム logistic(a) を作成しよう。いろんな a について y の動きを見てみよう。"
   ]
  },
  {
   "cell_type": "markdown",
   "metadata": {},
   "source": [
    "**練習問題**\n",
    "$$\n",
    "\\sum_{i=0}^{\\infty} \\frac{1}{\\mathrm {fact}(i)}\n",
    "$$\n",
    "を計算しよう。これは何になるか？解析の教科書などで復習しよう。\n",
    "(実際に求めるのは、十分大きな n までの和です。) n をもらってこの値を返す関数として定義し，n が 10, 20, .. 100 の時に，n の値とこの値を表示しよう。\n",
    "Python の中で，ネイピア数 e の（float による近似）値は，import math をしておいた上で，math.e で求めることができる。（次次回に説明）。\n",
    "この値と比較してみよう。\n"
   ]
  },
  {
   "cell_type": "code",
   "execution_count": 24,
   "metadata": {},
   "outputs": [
    {
     "name": "stdout",
     "output_type": "stream",
     "text": [
      "2.718281828459045\n"
     ]
    }
   ],
   "source": [
    "import math\n",
    "print(math.e)"
   ]
  },
  {
   "cell_type": "markdown",
   "metadata": {},
   "source": [
    "この計算で n を無限に大きくしていったら、ネイピア数 e の近似値の精度が無限に良くなる訳ではない。実際，途中で値の変化が止まっている。このように，float 型は，倍精度浮動小数点型という形で実数の近似値を表現しており，それで表現できるのは，2 進で52 桁，10 進で 15 桁程度である。しかし，それだけの桁までは正確な値が求まるとも分からない。\n",
    "それぞれの計算の中での割り算がすでに、近似値となっており、誤差を含んでいる。よって、それぞれの n の時の値も誤差を含んでおり、実数計算を繰り返すと、その誤差が積み重なっていくので、注意が必要である。"
   ]
  },
  {
   "cell_type": "markdown",
   "metadata": {},
   "source": [
    "**練習問題** \n",
    "テイラー展開によると，\n",
    "$$\n",
    "f(x) = \\sum_{i=0}^{\\infty} \\frac{x^i}{\\mathrm {fact}(i)}\n",
    "$$\n",
    "は $e^x$ に等しい。本当だろうか。十分大きな n までの和を計算するようにして関数 $f$ を定義し，それと，`math.e**x` を比較しよう。"
   ]
  },
  {
   "cell_type": "code",
   "execution_count": 97,
   "metadata": {},
   "outputs": [
    {
     "data": {
      "text/plain": [
       "1.4142135623730951"
      ]
     },
     "execution_count": 97,
     "metadata": {},
     "output_type": "execute_result"
    }
   ],
   "source": [
    "2**(1/2)"
   ]
  },
  {
   "cell_type": "markdown",
   "metadata": {},
   "source": [
    "**練習問題** 次の公式は、ライプニッツの公式として知られている。\n",
    "$$\n",
    "\\frac{\\pi}{4} = 1 - \\frac{1}{3} + \\frac{1}{5} - \\frac{1}{7} ...\n",
    "$$\n",
    "この n　項目までの和の4倍を求めるプログラムを書き、n を大きくしていった時に円周率の値に近づいていくことを確認しよう。1 項おきに、プラスとマイナスを変化させる方法を、いくつも考えよう。（次回説明する if 文を用いるのが一番素直かもしれないが，プログラミング力は，与えられた道具の範囲で工夫をすることにより身につくものです。）"
   ]
  },
  {
   "cell_type": "markdown",
   "metadata": {},
   "source": [
    "**練習問題** 数学の授業で習ったことを思い出して、あるいは、ネットで検索を行なって、for 文で計算できそうな級数を探して、プログラムで、それが正しそうか調べよう。"
   ]
  },
  {
   "cell_type": "markdown",
   "metadata": {},
   "source": [
    "**練習問題** ライプニッツの公式によるπの計算は、収束の速さが遅いと言われている。\n",
    "より効率のよい公式を調べて、計算してみよう。"
   ]
  }
 ],
 "metadata": {
  "kernelspec": {
   "display_name": "Python 3.8.2 64-bit",
   "language": "python",
   "name": "python3"
  },
  "language_info": {
   "codemirror_mode": {
    "name": "ipython",
    "version": 3
   },
   "file_extension": ".py",
   "mimetype": "text/x-python",
   "name": "python",
   "nbconvert_exporter": "python",
   "pygments_lexer": "ipython3",
   "version": "3.8.2"
  },
  "vscode": {
   "interpreter": {
    "hash": "31f2aee4e71d21fbe5cf8b01ff0e069b9275f58929596ceb00d14d90e3e16cd6"
   }
  }
 },
 "nbformat": 4,
 "nbformat_minor": 4
}
