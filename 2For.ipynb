{
 "cells": [
  {
   "cell_type": "markdown",
   "metadata": {
    "jp-MarkdownHeadingCollapsed": true,
    "tags": []
   },
   "source": [
    "# 第2回 制御構造，関数入門\n",
    "\n",
    "今回から，Python プログラミングについて勉強します。Python については，たくさん書籍が出てます。\n",
    "また，online でのチュートリアルも充実しています。\n",
    "\n",
    "https://docs.python.org/ja/3/tutorial/index.html\n",
    "\n",
    "も参照するのがいいでしょう。また，より詳しい Python 自体のドキュメントが\n",
    "\n",
    "https://docs.python.org/ja/3/index.html\n",
    "\n",
    "にあります。このノートでPython の機能を全て網羅するつもりはありませんし，全体を覚える必要もありません。\n",
    "特に，細かいライブラリ等は，どんなことができるか概要を知り，使い方の調べ方を知っていることが重要です。"
   ]
  },
  {
   "cell_type": "markdown",
   "metadata": {},
   "source": [
    "---\n",
    "# リストと for 文による繰り返し"
   ]
  },
  {
   "cell_type": "markdown",
   "metadata": {},
   "source": [
    "## リスト"
   ]
  },
  {
   "cell_type": "markdown",
   "metadata": {},
   "source": [
    "複数の値を並べたものを，リストといいます。リストは，`[1, 3, 5]` という形で,`[  ]`で囲んで , で区切って作ります。"
   ]
  },
  {
   "cell_type": "code",
   "execution_count": 1,
   "metadata": {},
   "outputs": [
    {
     "name": "stdout",
     "output_type": "stream",
     "text": [
      "[1, 4, 7]\n"
     ]
    },
    {
     "data": {
      "text/plain": [
       "list"
      ]
     },
     "execution_count": 1,
     "metadata": {},
     "output_type": "execute_result"
    }
   ],
   "source": [
    "n3 = [1,4,7]\n",
    "print(n3)\n",
    "type(n3)"
   ]
  },
  {
   "cell_type": "markdown",
   "metadata": {},
   "source": [
    "\n",
    "リスト s の長さは、len 関数を用いて len(s) で求めることができます。リストの i 番目の要素は，リストの後に\n",
    "[i] という**インデックス**をつけてとりだすことができます。リストのインデックスが 0 から始まることを注意してください。また、[from:to] という**スライス**をつけて、from, ..., to-1 番目の要素からなる部分リストを作ることもできます。to の一つ前までということに注意してください。\n",
    "また、足し算でリスト同士をくっつけることができます。\n",
    "sum は，数のリストをもらい，その和を返す関数です。\n"
   ]
  },
  {
   "cell_type": "code",
   "execution_count": 17,
   "metadata": {},
   "outputs": [
    {
     "name": "stdout",
     "output_type": "stream",
     "text": [
      "6\n",
      "1 4 7 10\n",
      "[1, 4]\n",
      "4\n",
      "[1, 4, 7, 2, 5, 8]\n",
      "27\n",
      "27\n"
     ]
    }
   ],
   "source": [
    "print(len(n3))\n",
    "print(n3[0], n3[1], n3[2], n3[3])\n",
    "#print(n3[4])  #コメントをはずしてエラーが起きることを確認してください。\n",
    "print(n3[0:2])\n",
    "print(n3[0:2][1])\n",
    "print([1,4,7] + [2,5,8])\n",
    "print(sum([1,4,7] + [2,5,8]))\n",
    "print(sum([1,4,7]) + sum([2,5,8])) # 上と同じはず。"
   ]
  },
  {
   "cell_type": "markdown",
   "metadata": {},
   "source": [
    "**練習問題1** 0, 31, 28, ... という、1年の各月の日数のリストを作り、mon という変数に代入しよう。インデックスと月が合うように，最初の要素として 0 をダミーで入れておこう。 "
   ]
  },
  {
   "cell_type": "markdown",
   "metadata": {},
   "source": [
    "**練習問題2** mon の長さ，1年の日数を求めよう。1 月の日数を表示しよう。また、mon の中の 4 月から 9 月までの部分を取り出して、zenki という変数に代入しよう。+ を用いて、10 月から3 月までの部分を kouki という変数に代入しよう。zenki と kouki の日数を求めよう。"
   ]
  },
  {
   "cell_type": "markdown",
   "metadata": {},
   "source": [
    "## 繰り返し"
   ]
  },
  {
   "cell_type": "markdown",
   "metadata": {},
   "source": [
    "リストの中に入った要素に対し，順番に同じ処理をすることができます。それには，for 文を用います。まず，処理をする対象を記憶する変数を定めます。ここでは i にしましょう。繰り返し処理するリストを [1,3,5] だとします。すると，次のように書くことによって，i を 1,3,5 に代入しながら，それぞれの i の時に print(i) を実行します。"
   ]
  },
  {
   "cell_type": "code",
   "execution_count": 100,
   "metadata": {},
   "outputs": [
    {
     "name": "stdout",
     "output_type": "stream",
     "text": [
      "1\n",
      "3\n",
      "5\n",
      "end\n"
     ]
    }
   ],
   "source": [
    "for i in [1,3,5]:\n",
    "    print(i)\n",
    "print(\"end\")"
   ]
  },
  {
   "cell_type": "markdown",
   "metadata": {},
   "source": [
    "2 行目の文字下げ（インデント）が重要で，通常は 4 文字下げます。インデントをつけてある行の範囲が，繰り返し実行する範囲になります。\n"
   ]
  },
  {
   "cell_type": "code",
   "execution_count": 30,
   "metadata": {},
   "outputs": [
    {
     "name": "stdout",
     "output_type": "stream",
     "text": [
      "1\n",
      "2\n",
      "3\n",
      "4\n",
      "5\n",
      "6\n",
      "end\n"
     ]
    }
   ],
   "source": [
    "for i in [1,3,5]:\n",
    "    print(i)\n",
    "    print(i+1)\n",
    "print(\"end\")"
   ]
  },
  {
   "cell_type": "markdown",
   "metadata": {},
   "source": [
    "**練習問題3** 1 年の各月について、その月の日数を次の様に表記しよう。\n",
    "```\n",
    "1 月:  31 日\n",
    "2 月:  28 日\n",
    "...\n",
    "```\n"
   ]
  },
  {
   "cell_type": "markdown",
   "metadata": {},
   "source": [
    "**練習問題4** 1 年の各月について、さらに、その月までの積算日数も表記しよう。\n",
    "```\n",
    "月     日数    積算日数\n",
    "1 月:  31 日   31日\n",
    "2 月:  28 日　　59日\n",
    "...\n",
    "```\n"
   ]
  },
  {
   "cell_type": "markdown",
   "metadata": {},
   "source": [
    "## range "
   ]
  },
  {
   "cell_type": "markdown",
   "metadata": {},
   "source": [
    "sum 関数を用いて、1 から 10 までの和を求めることはできても、0 から 99 までの和を求めるのは大変です。そうい，連続した値からなるリストを作るのに range を用います。range(100) を実行すると、[0,1,2,...,99] というリストと実質的に同じものが作られて返されます。正確には，値が必要になるたびに、その値を作る手順をもつ range オブジェクトが作られるだけで，リストそのものは作られていません。詳しくは、後の章で話をしますが，多くの場所でリストと同じように扱えます。例えば，これを sum 関数に渡すと、0 から 99 までの和が返されます。"
   ]
  },
  {
   "cell_type": "code",
   "execution_count": 101,
   "metadata": {},
   "outputs": [
    {
     "data": {
      "text/plain": [
       "range(0, 10)"
      ]
     },
     "execution_count": 101,
     "metadata": {},
     "output_type": "execute_result"
    }
   ],
   "source": [
    "range(10)"
   ]
  },
  {
   "cell_type": "code",
   "execution_count": 102,
   "metadata": {},
   "outputs": [
    {
     "data": {
      "text/plain": [
       "[0, 1, 2, 3, 4, 5, 6, 7, 8, 9]"
      ]
     },
     "execution_count": 102,
     "metadata": {},
     "output_type": "execute_result"
    }
   ],
   "source": [
    "list(range(10))"
   ]
  },
  {
   "cell_type": "code",
   "execution_count": 103,
   "metadata": {},
   "outputs": [
    {
     "data": {
      "text/plain": [
       "45"
      ]
     },
     "execution_count": 103,
     "metadata": {},
     "output_type": "execute_result"
    }
   ],
   "source": [
    "sum(range(10))"
   ]
  },
  {
   "cell_type": "markdown",
   "metadata": {},
   "source": [
    "range を for 文と一緒に使うと，同じことを指定された回数繰り返し実行させることが簡単にできます。"
   ]
  },
  {
   "cell_type": "code",
   "execution_count": 57,
   "metadata": {},
   "outputs": [
    {
     "name": "stdout",
     "output_type": "stream",
     "text": [
      "Happy birthday to you.\n",
      "Happy birthday to you.\n",
      "Happy birthday to you.\n",
      "Happy birthday to you.\n",
      "Happy birthday to you.\n"
     ]
    }
   ],
   "source": [
    "for i in range(5):\n",
    "    print(\"Happy birthday to you.\")"
   ]
  },
  {
   "cell_type": "markdown",
   "metadata": {},
   "source": [
    "この繰り返しは、5回繰り返すというだけで、i の値は使っていません。\n",
    "そのように、使われない変数であることを明記するために、i の代わりに `_` という変数名を用いるのが普通です。上のセルで， i を _ に書き換えておいてください。"
   ]
  },
  {
   "cell_type": "code",
   "execution_count": 2,
   "metadata": {},
   "outputs": [
    {
     "name": "stdout",
     "output_type": "stream",
     "text": [
      "0, 1, 2, 3, 4, 5, 6, 7, 8, 9, "
     ]
    }
   ],
   "source": [
    "for i in range(10):\n",
    "    print(i, end=\", \")"
   ]
  },
  {
   "cell_type": "raw",
   "metadata": {},
   "source": [
    "range は，2 引数で呼び出して最初の数と最後の数を指定することも，3引数で呼び出してその間の増分を指定することもできます。"
   ]
  },
  {
   "cell_type": "code",
   "execution_count": 11,
   "metadata": {},
   "outputs": [
    {
     "name": "stdout",
     "output_type": "stream",
     "text": [
      "1, 2, 3, 4, 5, 6, 7, 8, 9, 10, \n",
      "11, 10, 9, 8, 7, 6, 5, 4, 3, 2, "
     ]
    },
    {
     "data": {
      "text/plain": [
       "55"
      ]
     },
     "execution_count": 11,
     "metadata": {},
     "output_type": "execute_result"
    }
   ],
   "source": [
    "for i in range(1,11):\n",
    "    print(i, end=\", \")\n",
    "print();    \n",
    "for i in range(11,1,-1):\n",
    "    print(i, end=\", \")\n",
    "sum(range(1,11))"
   ]
  },
  {
   "cell_type": "markdown",
   "metadata": {},
   "source": [
    "## 繰り返しの中での変数の利用\n",
    "\n",
    "sum 関数を使わずに，for を用いてリストの和を求めることを考えましょう。\n",
    "それには，和を記憶する変数を用意しておいて，最初は 0 にしておいて，繰り返しの度に足しこんでいけばよいです。\n",
    "次のプログラムは，range(11)= [0,1,2,3,4,5,6,7,8,9,10] というリストに対して和( $\\sum_{i=0}^{10} i$ )を求めています。"
   ]
  },
  {
   "cell_type": "code",
   "execution_count": 35,
   "metadata": {},
   "outputs": [
    {
     "name": "stdout",
     "output_type": "stream",
     "text": [
      "55\n"
     ]
    }
   ],
   "source": [
    "total = 0\n",
    "for i in range(11):\n",
    "    total = total + i\n",
    "print(total)  "
   ]
  },
  {
   "cell_type": "markdown",
   "metadata": {},
   "source": [
    "**練習問題10** 上のプログラムで，それぞれの i の時に，i の値とそこまでの和も表示するように変更しよう。"
   ]
  },
  {
   "cell_type": "markdown",
   "metadata": {},
   "source": [
    "このように，for 文は，\n",
    "```\n",
    "for 変数 in リスト式:\n",
    "　　　文\n",
    "     ...\n",
    "     文\n",
    "```\n",
    "という形をしています。\n",
    "\n",
    "for 文を for 文の中の文に含めることもできます。\n",
    "そうすれば，繰り返しを繰り返させることができます。for 文をネストさせるといいます。for 文をネストさせると、インデントも深くなっていきます。次のプログラムは、`1*1, 1*2,...1*10, 2*1,..2*10,...,5*1,...,5*10` の和\n",
    "\n",
    "$$$$\n",
    "$$ \\sum_{i=1}^{10} \\sum_{j=1}^{10} ij $$\n",
    "\n",
    "を求めています。"
   ]
  },
  {
   "cell_type": "code",
   "execution_count": 37,
   "metadata": {},
   "outputs": [
    {
     "name": "stdout",
     "output_type": "stream",
     "text": [
      "550\n"
     ]
    }
   ],
   "source": [
    "s = 0\n",
    "for i in range(1,5):\n",
    "    for j in range(1,11):\n",
    "        s += i*j\n",
    "print(s)"
   ]
  },
  {
   "cell_type": "markdown",
   "metadata": {},
   "source": [
    "**練習問題** 次の2つのプログラムは何をしているか考えましょう。"
   ]
  },
  {
   "cell_type": "code",
   "execution_count": 38,
   "metadata": {},
   "outputs": [
    {
     "name": "stdout",
     "output_type": "stream",
     "text": [
      "55\n",
      "165\n",
      "330\n",
      "550\n"
     ]
    }
   ],
   "source": [
    "s = 0\n",
    "for i in range(1,5):\n",
    "    for j in range(1,11):\n",
    "        s += i*j\n",
    "    print(s)"
   ]
  },
  {
   "cell_type": "code",
   "execution_count": 39,
   "metadata": {},
   "outputs": [
    {
     "name": "stdout",
     "output_type": "stream",
     "text": [
      "55\n",
      "110\n",
      "165\n",
      "220\n"
     ]
    }
   ],
   "source": [
    "for i in range(1,5):\n",
    "    s = 0\n",
    "    for j in range(1,11):\n",
    "        s += i*j\n",
    "        print(s)"
   ]
  },
  {
   "cell_type": "markdown",
   "metadata": {},
   "source": [
    "**練習問題11** 九九の表を書くプログラムを作ろう。"
   ]
  },
  {
   "cell_type": "code",
   "execution_count": 70,
   "metadata": {},
   "outputs": [
    {
     "name": "stdout",
     "output_type": "stream",
     "text": [
      "55\n",
      "165\n",
      "330\n",
      "550\n"
     ]
    }
   ],
   "source": [
    "s = 0\n",
    "for i in range(1,5):\n",
    "    for j in range(1,11):\n",
    "        s += i*j\n",
    "    print(s)"
   ]
  },
  {
   "cell_type": "markdown",
   "metadata": {
    "tags": []
   },
   "source": [
    "---\n",
    "# 関数定義\n",
    "\n",
    "\n",
    "上のプログラムは,一つのことしかできません。どんなリストであっても、その和を求める手順は同じはずです。このような時に、関数を定義すると，手順に名前をつけて，引数をもらって，それに対して指定した手順を実行させることができます。\n",
    "\n",
    "```\n",
    "def 関数名(仮引数):\n",
    "     本体\n",
    "```     \n",
    "     \n",
    "という形で行います。インデントのなされた部分が本体になります。本体の中に for 文があると、さらにインデントを深くします。仮引数は，引数として与えられた値を記憶する変数です。関数が呼び出されると、仮引数に引数として与えられた値が代入された状態で本体に書かれた手順が実行されます。"
   ]
  },
  {
   "cell_type": "code",
   "execution_count": 122,
   "metadata": {},
   "outputs": [
    {
     "name": "stdout",
     "output_type": "stream",
     "text": [
      "li = [1, 2, 3, 4, 5, 6]\n",
      "li = 10\n"
     ]
    }
   ],
   "source": [
    "def sample(li):\n",
    "    print(\"li =\", li)\n",
    "\n",
    "sample([1,2,3,4,5,6])\n",
    "sample(10)"
   ]
  },
  {
   "cell_type": "markdown",
   "metadata": {},
   "source": [
    "リストをもらい、その和を表示する関数 mysum0 を定義してみましょう。"
   ]
  },
  {
   "cell_type": "code",
   "execution_count": 2,
   "metadata": {},
   "outputs": [],
   "source": [
    "def mysum0(li):\n",
    "    x = 0\n",
    "    for i in li:\n",
    "        x = x + i\n",
    "    print(\"sum = \", x)"
   ]
  },
  {
   "cell_type": "code",
   "execution_count": 3,
   "metadata": {
    "scrolled": true
   },
   "outputs": [
    {
     "name": "stdout",
     "output_type": "stream",
     "text": [
      "sum =  15\n",
      "sum =  4950\n"
     ]
    }
   ],
   "source": [
    "mysum0([1,2,3,4,5])\n",
    "mysum0(range(100))"
   ]
  },
  {
   "cell_type": "markdown",
   "metadata": {},
   "source": [
    "**練習問題** n をもらい，n x n までの掛け算の表を書く関数を作ろう。"
   ]
  },
  {
   "cell_type": "markdown",
   "metadata": {},
   "source": [
    " 上で定義した mysum0 は、関数を実行している間にprint 文で画面表示を行い、値を返しませんでした。それに対して、sum のように，計算した結果の値を返す関数も定義できます。関数定義の中で値を返すには，値を返したいところで`return 式` という文（リターン文）を呼び出します。次の関数 mysum は，和の値を返します。\n"
   ]
  },
  {
   "cell_type": "code",
   "execution_count": 6,
   "metadata": {},
   "outputs": [
    {
     "data": {
      "text/plain": [
       "21"
      ]
     },
     "execution_count": 6,
     "metadata": {},
     "output_type": "execute_result"
    }
   ],
   "source": [
    "def mysum(li):\n",
    "    x = 0\n",
    "    for i in li:\n",
    "        x += i\n",
    "    return(x)\n",
    "\n",
    "mysum([1,2,3,4,5,6])"
   ]
  },
  {
   "cell_type": "code",
   "execution_count": 7,
   "metadata": {},
   "outputs": [
    {
     "data": {
      "text/plain": [
       "21"
      ]
     },
     "execution_count": 7,
     "metadata": {},
     "output_type": "execute_result"
    }
   ],
   "source": [
    "mysum([1,3,5]) + mysum([2,4,6])\n"
   ]
  },
  {
   "cell_type": "markdown",
   "metadata": {},
   "source": [
    "ある関数を定義すると、その関数を用いてより複雑な関数を作ることができます。\n",
    "関数に引数が複数ある時には、引数のところにコンマで区切って書きます。\n",
    "二つのリストの和の積を求める関数は、次のようにかけます。"
   ]
  },
  {
   "cell_type": "code",
   "execution_count": 8,
   "metadata": {},
   "outputs": [
    {
     "data": {
      "text/plain": [
       "54"
      ]
     },
     "execution_count": 8,
     "metadata": {},
     "output_type": "execute_result"
    }
   ],
   "source": [
    "def hello(list1, list2):\n",
    "    \"\"\"2 つのリスト list1, list2の要素の和の積を返す\"\"\"\n",
    "    return(mysum(list1) * mysum(list2))\n",
    "hello([1,2,3], [2,3,4])"
   ]
  },
  {
   "cell_type": "markdown",
   "metadata": {
    "tags": []
   },
   "source": [
    "\n",
    "## 練習問題"
   ]
  },
  {
   "cell_type": "markdown",
   "metadata": {},
   "source": [
    "**練習問題20** 数 n をもらい、1 から n までの積（すなわち、階乗，factorial）を返す関数 fact(n) を定義しよう。"
   ]
  },
  {
   "cell_type": "markdown",
   "metadata": {},
   "source": [
    "**練習問題21**  実数 a をもらい，y = 0.01 から始めて，$f(y) = a y(1-y)$ という関数を 100回繰り返し適用した時のy の値の変化を表示するプログラム logistic(a) を作成しよう。いろんな a について y の動きを見てみよう。"
   ]
  },
  {
   "cell_type": "markdown",
   "metadata": {},
   "source": [
    "**練習問題22**\n",
    "$$\n",
    "\\sum_{i=0}^{\\infty} \\frac{1}{\\mathrm {fact}(i)}\n",
    "$$\n",
    "を計算しよう。これは何になるか？解析の教科書などで復習しよう。\n",
    "(実際に求めるのは、十分大きな n までの和です。) n をもらってこの値を返す関数として定義し，n が 10, 20, .. 100 の時に，n の値とこの値を表示しよう。\n",
    "Python の中で，ネイピア数 e の（float による近似）値は，import math をしておいた上で，math.e で求めることができる。（次次回に説明）。\n",
    "この値と比較してみよう。\n"
   ]
  },
  {
   "cell_type": "code",
   "execution_count": 24,
   "metadata": {},
   "outputs": [
    {
     "name": "stdout",
     "output_type": "stream",
     "text": [
      "2.718281828459045\n"
     ]
    }
   ],
   "source": [
    "import math\n",
    "print(math.e)"
   ]
  },
  {
   "cell_type": "markdown",
   "metadata": {},
   "source": [
    "この計算で n を無限に大きくしていったら、ネイピア数 e の近似値の精度が無限に良くなる訳ではない。実際，途中で値の変化が止まっている。このように，float 型は，倍精度浮動小数点型という形で実数の近似値を表現しており，それで表現できるのは，2 進で52 桁，10 進で 15 桁程度である。しかし，それだけの桁までは正確な値が求まるとも分からない。\n",
    "それぞれの計算の中での割り算がすでに、近似値となっており、誤差を含んでいる。よって、それぞれの n の時の値も誤差を含んでおり、実数計算を繰り返すと、その誤差が積み重なっていくので、注意が必要である。"
   ]
  },
  {
   "cell_type": "markdown",
   "metadata": {},
   "source": [
    "**練習問題25** \n",
    "テイラー展開によると，\n",
    "$$\n",
    "f(x) = \\sum_{i=0}^{\\infty} \\frac{x^i}{\\mathrm {fact}(i)}\n",
    "$$\n",
    "は $e^x$ に等しい。本当だろうか。十分大きな n までの和を計算するようにして関数 $f$ を定義し，それと，`math.e**x` を比較しよう。"
   ]
  },
  {
   "cell_type": "code",
   "execution_count": 97,
   "metadata": {},
   "outputs": [
    {
     "data": {
      "text/plain": [
       "1.4142135623730951"
      ]
     },
     "execution_count": 97,
     "metadata": {},
     "output_type": "execute_result"
    }
   ],
   "source": [
    "2**(1/2)"
   ]
  },
  {
   "cell_type": "markdown",
   "metadata": {},
   "source": [
    "**練習問題30** 次の公式は、ライプニッツの公式として知られている。\n",
    "$$\n",
    "\\frac{\\pi}{4} = 1 - \\frac{1}{3} + \\frac{1}{5} - \\frac{1}{7} ...\n",
    "$$\n",
    "この n　項目までの和の4倍を求めるプログラムを書き、n を大きくしていった時に円周率の値に近づいていくことを確認しよう。1 項おきに、プラスとマイナスを変化させる方法を、いくつも考えよう。（次回説明する if 文を用いるのが一番素直かもしれないが，プログラミング力は，与えられた道具の範囲で工夫をすることにより身につくものです。）"
   ]
  },
  {
   "cell_type": "markdown",
   "metadata": {},
   "source": [
    "**練習問題32** 数学の授業で習ったことを思い出して、あるいは、ネットで検索を行なって、for 文で計算できそうな級数を探して、プログラムで、それが正しそうか調べよう。"
   ]
  },
  {
   "cell_type": "markdown",
   "metadata": {},
   "source": [
    "**練習問題** ライプニッツの公式によるπの計算は、収束の速さが遅いと言われている。\n",
    "より効率のよい公式を調べて、計算してみよう。"
   ]
  },
  {
   "cell_type": "markdown",
   "metadata": {},
   "source": [
    "***\n",
    "\n",
    "# モジュールと乱数\n",
    "\n",
    "呼び出すたびにランダムな値を返してくれる関数は，実用上も，おもしろい例題を考える上でも有用です。\n",
    "乱数を返す関数は，random というモジュールに納められています。モジュールは，他のプログラムから呼び出される\n",
    "ことを目的に書かれたプログラムで，そのプログラムの書かれたファイル名がモジュール名になります。モジュールには、python　システムに付随して最初から提供されているもの，他の人が作成して公開しているもの，そして，自分で作るものがあります。\n",
    "random モジュールは，python システムと共に最初から提供されているモジュールです。\n",
    "\n",
    "モジュールを利用するには，最初に \n",
    "```\n",
    "import モジュール名\n",
    "``` \n",
    "という宣言でそのモジュールに定義された名前を取り込む必要があります。\n",
    "これにより，モジュール内の関数は，\n",
    "```\n",
    "モジュール名.関数名\n",
    "```\n",
    "という名前で利用できるようになります。\n",
    "random モジュールには，次のような関数が定義されています。\n",
    "```\n",
    "randrange(to)  0 以上 to 未満の整数の乱数を返す。\n",
    "randrange(from, to)  from 以上 to 未満の整数の乱数を返す。\n",
    "uniform(from, to)    from 以上 to 以下の一様な実数の乱数を返す\n",
    "```"
   ]
  },
  {
   "cell_type": "code",
   "execution_count": null,
   "metadata": {},
   "outputs": [
    {
     "data": {
      "text/plain": [
       "2.342818307141419"
      ]
     },
     "metadata": {},
     "output_type": "display_data"
    }
   ],
   "source": [
    "import random\n",
    "random.uniform(0,10)"
   ]
  },
  {
   "cell_type": "code",
   "execution_count": null,
   "metadata": {},
   "outputs": [
    {
     "name": "stdout",
     "output_type": "stream",
     "text": [
      "9\n",
      "5\n",
      "7\n",
      "6\n",
      "6\n",
      "4\n",
      "5\n",
      "2\n",
      "9\n",
      "8\n"
     ]
    }
   ],
   "source": [
    "for i in range(10):\n",
    "    print(random.randrange(10))"
   ]
  },
  {
   "cell_type": "markdown",
   "metadata": {},
   "source": [
    "***\n",
    "\n",
    "# If 文"
   ]
  },
  {
   "cell_type": "markdown",
   "metadata": {},
   "source": [
    "## bool 型\n",
    "\n",
    "**bool** は，**真偽値**を表す型です。真偽値とは，True と False の２つの値です。例えば，変数 x の値が 3 の時、2 < x は正しいので True ですが，2 > x は間違いなので False です。このように，< は，数を２つもらい，真偽値を返す演算子です。同様の演算子に，== (両辺が同じものかどうか調べる)，<= (小なりイコール) があります。\n"
   ]
  },
  {
   "cell_type": "code",
   "execution_count": null,
   "metadata": {},
   "outputs": [
    {
     "data": {
      "text/plain": [
       "True"
      ]
     },
     "metadata": {},
     "output_type": "display_data"
    }
   ],
   "source": [
    "2==2"
   ]
  },
  {
   "cell_type": "code",
   "execution_count": null,
   "metadata": {},
   "outputs": [
    {
     "data": {
      "text/plain": [
       "False"
      ]
     },
     "metadata": {},
     "output_type": "display_data"
    }
   ],
   "source": [
    "2 > 3"
   ]
  },
  {
   "cell_type": "code",
   "execution_count": null,
   "metadata": {},
   "outputs": [
    {
     "data": {
      "text/plain": [
       "True"
      ]
     },
     "metadata": {},
     "output_type": "display_data"
    }
   ],
   "source": [
    "x = 20\n",
    "10 < x  <= 20  # このような不等式の書き方もあり"
   ]
  },
  {
   "cell_type": "markdown",
   "metadata": {},
   "source": [
    "リスト(などの iterable) がある値を含んでいるかどうかは、in という演算子で調べることができます。"
   ]
  },
  {
   "cell_type": "code",
   "execution_count": null,
   "metadata": {},
   "outputs": [
    {
     "data": {
      "text/plain": [
       "True"
      ]
     },
     "metadata": {},
     "output_type": "display_data"
    }
   ],
   "source": [
    "3 in [1,2,3,4,5]"
   ]
  },
  {
   "cell_type": "code",
   "execution_count": null,
   "metadata": {},
   "outputs": [
    {
     "data": {
      "text/plain": [
       "False"
      ]
     },
     "metadata": {},
     "output_type": "display_data"
    }
   ],
   "source": [
    "6 in range(1,10,2)"
   ]
  },
  {
   "cell_type": "markdown",
   "metadata": {},
   "source": [
    "真偽値をもらい真偽値を返す演算子として`and`と`or`があります。\n",
    "```\n",
    "   True and True = True\n",
    "   True and False = False\n",
    "   False and True = False\n",
    "   False and False = False\n",
    "```\n",
    "です。また、\n",
    "```\n",
    "   True or True = True\n",
    "   True or False = True\n",
    "   False or True = True\n",
    "   False or False = False\n",
    "```\n",
    "です。よって、条件を二つ `and` でつなぐと両方なりたつという条件を意味する式が、\n",
    " `or` でつないぐと，少なくともどちらか一方が成り立つという条件を意味する式が作れます。\n",
    "`A and B` を `A & B`, `A or B` を `A | B` と書くこともできます。また、否定を表す not\n",
    "という 1 引数の演算子もあります。\n",
    "```\n",
    "    not True = False\n",
    "    not False = True\n",
    "```\n",
    "また、`!=` は` == ` の否定を表します。 つまり、 `x != y` は` not (x == y)` です。\n"
   ]
  },
  {
   "cell_type": "code",
   "execution_count": null,
   "metadata": {},
   "outputs": [
    {
     "data": {
      "text/plain": [
       "True"
      ]
     },
     "metadata": {},
     "output_type": "display_data"
    }
   ],
   "source": [
    "x = 2\n",
    "y = 4\n",
    "(x * x == y) and (x > 0)  # x*x=y であり，かつ，x > 0"
   ]
  },
  {
   "cell_type": "code",
   "execution_count": null,
   "metadata": {},
   "outputs": [
    {
     "data": {
      "text/plain": [
       "False"
      ]
     },
     "metadata": {},
     "output_type": "display_data"
    }
   ],
   "source": [
    "(x * x == y) and (x < 0)"
   ]
  },
  {
   "cell_type": "code",
   "execution_count": null,
   "metadata": {},
   "outputs": [
    {
     "data": {
      "text/plain": [
       "True"
      ]
     },
     "metadata": {},
     "output_type": "display_data"
    }
   ],
   "source": [
    "(x * x == y) or (x in [1,3,5])\n"
   ]
  },
  {
   "cell_type": "code",
   "execution_count": null,
   "metadata": {},
   "outputs": [
    {
     "data": {
      "text/plain": [
       "False"
      ]
     },
     "metadata": {},
     "output_type": "display_data"
    }
   ],
   "source": [
    "not (x == 2)"
   ]
  },
  {
   "cell_type": "markdown",
   "metadata": {},
   "source": [
    "**練習問題10** 次の条件を，式で表そう。変数の値をいろいろ設定して，正しさを確認しよう。\n",
    "1.  x は 2 以外の偶数。\n",
    "2.  mon は，小の月 (2, 4, 6, 9, 11)。\n",
    "3.  y 年は，閏年。（4の倍数であり 100 の倍数ではない年。ただし，例外的に，400 の倍数は閏年。）\n",
    "4.  点 (x, y) は，(200, 200) を左上にした，(100, 50) の長方形内にある。\n",
    "5.  リスト l の長さは 5 以上で，3 を要素に含む。"
   ]
  },
  {
   "cell_type": "markdown",
   "metadata": {},
   "source": [
    "## if 文\n",
    "\n",
    "if 文を用いると，ある条件が満たされた時だけ処理を行うことが可能になります。if 文は，以下のように書きます。\n",
    "```\n",
    "if(条件式):\n",
    "     本体\n",
    "```\n",
    "\n",
    "本体のところは，4 文字インデントします。同じだけインデントされた範囲が，本体になります。"
   ]
  },
  {
   "cell_type": "code",
   "execution_count": null,
   "metadata": {},
   "outputs": [
    {
     "name": "stdout",
     "output_type": "stream",
     "text": [
      "0 8\n",
      "1 8\n",
      "4 7\n",
      "9 9\n"
     ]
    }
   ],
   "source": [
    "for i in range(10):           # 10 回繰り返す\n",
    "    x = random.randrange(10)  # 10 までの乱数をとってきて\n",
    "    if(x >= 7):               # その値が 7 以上なら　　　\n",
    "        print(i, x)           # i と x を表示する\n",
    "        \n",
    "# 何回も実行してみよう"
   ]
  },
  {
   "cell_type": "markdown",
   "metadata": {},
   "source": [
    "If 文は，条件を満たさなかった時に実行することも書いた\n",
    "\n",
    "```\n",
    "if(条件式):\n",
    "     本体1\n",
    "else:\n",
    "     本体2\n",
    "```\n",
    "という形もあります。"
   ]
  },
  {
   "cell_type": "code",
   "execution_count": null,
   "metadata": {},
   "outputs": [
    {
     "name": "stdout",
     "output_type": "stream",
     "text": [
      "はずれ\n",
      "はずれ\n",
      "あたり\n",
      "はずれ\n",
      "はずれ\n",
      "はずれ\n",
      "あたり\n",
      "あたり\n",
      "あたり\n",
      "はずれ\n"
     ]
    }
   ],
   "source": [
    "for i in range(10):\n",
    "    x = random.randrange(10)\n",
    "    if(x >= 7):\n",
    "        print(\"あたり\")\n",
    "    else:\n",
    "        print(\"はずれ\")"
   ]
  },
  {
   "cell_type": "markdown",
   "metadata": {},
   "source": [
    "さらに，次の形で，いくつかの条件のどれが成り立つかで分岐もできます。\n",
    "```\n",
    "if(条件式1):\n",
    "     条件式1が成り立つ時に実行する内容\n",
    "elif(条件式2):\n",
    "     条件式1は成り立たないが条件式2は成り立つ時に実行する内容\n",
    "elif(条件式3):\n",
    "     ...\n",
    "...\n",
    "else:\n",
    "    どれも成り立たない時に実行する内容\n",
    "```"
   ]
  },
  {
   "cell_type": "markdown",
   "metadata": {},
   "source": [
    "条件式のところには、通常は bool 型の値を書きますが、Python の全てのオブジェクトは真か偽のどちらかを意味することになっており、任意のオブジェクトを条件式として書くことができます。例えば、int の値は 0 だけが False, それ以外は True を意味します。リストは、空リスト [] のみが　False を意味します。　　　"
   ]
  },
  {
   "cell_type": "code",
   "execution_count": null,
   "metadata": {},
   "outputs": [
    {
     "name": "stdout",
     "output_type": "stream",
     "text": [
      "Yes!\n"
     ]
    }
   ],
   "source": [
    "x = 5\n",
    "if(x):\n",
    "    print(\"Yes!\")\n",
    "else:\n",
    "    print(\"No!\")"
   ]
  },
  {
   "cell_type": "code",
   "execution_count": null,
   "metadata": {},
   "outputs": [
    {
     "name": "stdout",
     "output_type": "stream",
     "text": [
      "No!\n"
     ]
    }
   ],
   "source": [
    "x = 0\n",
    "if(x):\n",
    "    print(\"Yes!\")\n",
    "else:\n",
    "    print(\"No!\")"
   ]
  },
  {
   "cell_type": "markdown",
   "metadata": {},
   "source": [
    "**練習問題20** 与えられた数が素数であるかどうかを bool 型の値として返す関数 prime を作ろう。\n",
    "素数とは，2 以上でその数未満である約数を持たない数である。約数かどうかは，割ったあまり (`%` 演算子) が 0 かどうかで判断できる。"
   ]
  },
  {
   "cell_type": "markdown",
   "metadata": {},
   "source": [
    "**練習問題30** 2 から x までの素数の個数を返す関数 numprime(x) を作ろう。"
   ]
  },
  {
   "cell_type": "markdown",
   "metadata": {},
   "source": [
    "**練習問題40**: 0 以上 1 未満の乱数 x, y を何度も生成して、$x^2 + y^2 < 1$ となる確率を求めることにより、円周率の近似値を求めるプログラムを作成しよう。"
   ]
  },
  {
   "cell_type": "markdown",
   "metadata": {},
   "source": [
    "**練習問題** 先週の ライプニッツの公式を用いてπの近似値を求めるプログラムを、if 文で書いたらどうなるか。"
   ]
  },
  {
   "cell_type": "markdown",
   "metadata": {},
   "source": [
    "***\n",
    "\n",
    "# while 文 \n",
    "\n",
    "ある条件が満たされる間，あることを繰り返すということを表現するのに，while 文を用います。\n",
    "1 から 100 までの和を求めるプログラムを while 文を用いて書いたものです。"
   ]
  },
  {
   "cell_type": "code",
   "execution_count": null,
   "metadata": {},
   "outputs": [
    {
     "name": "stdout",
     "output_type": "stream",
     "text": [
      "4950\n"
     ]
    }
   ],
   "source": [
    "i = 0\n",
    "x = 0\n",
    "while (i < 100):\n",
    "    x = x + i\n",
    "    i = i + 1 \n",
    "print(x)\n"
   ]
  },
  {
   "cell_type": "markdown",
   "metadata": {},
   "source": [
    "このように、同じプログラムでも、for 文で書いたり while 文で書いたりできます。繰り返し回数の上限を特に定めない繰り返しは、while 文で書く必要があります。その場合には、無限ループに陥る可能性があります。"
   ]
  },
  {
   "cell_type": "code",
   "execution_count": null,
   "metadata": {},
   "outputs": [],
   "source": [
    "def forever():\n",
    "    i = 0\n",
    "    while (i < 100):\n",
    "        i = i-1\n",
    "    return(10000)  # この文は実行されない\n",
    "\n",
    "# forever()  # コメントをはずして実行してみよう\n",
    "# 無限ループに陥ったプログラムは、上部の四角ボタンで終了する。\n"
   ]
  },
  {
   "cell_type": "markdown",
   "metadata": {},
   "source": [
    "**練習問題50** 数 n をもらい、n より大きな素数の中でもっとも小さなものを返す関数を作ろう。"
   ]
  },
  {
   "cell_type": "markdown",
   "metadata": {},
   "source": [
    "**練習問題** (コラッツ予想) 次の関数 f を考える\n",
    "$$\n",
    "f(n) = \\left\\{ \\begin{array}{ll}3n+1 & \\text{($n$ が奇数の時)}\\\\\n",
    "                              n/2 & \\text{($n$ が偶数の時)}\\end{array}\\right.\n",
    "$$\n",
    "どんな正の整数 $n$ から始めても、n, f(n), f(f(n)), ... を順に計算していくと、1 にたどり着くと予想されている。 \n",
    "\n",
    "1. n をもらい、n, f(n), f(f(n)),... を 1 にたどり着くまで表示するプログラムを作ろう。\n",
    "1. n = 27 で確かめてみよ。\n",
    "1. n をもらい、この列が 1 になるまでの長さを求めるプログラムを書こう。\n",
    "1. それを n=1, 2, 3, 4, ... と繰り返していき、今まで現れた最長の長さ以上の長さが得られた時には、その n の値と、その時の長さを表示するプログラムを作ろう。\n"
   ]
  },
  {
   "cell_type": "markdown",
   "metadata": {},
   "source": [
    "***\n",
    "\n",
    "# break 文 と continue 文\n",
    "\n",
    "## break 文"
   ]
  },
  {
   "cell_type": "markdown",
   "metadata": {},
   "source": [
    "for や while などの繰り返し文から、繰り返しの途中でぬけるには、break 文を用います。\n",
    "break を実行すると、break を含む一番小さい for 文や while 文の実行を終了します。\n",
    "次のプログラムは、$0 \\leq x < 100$ の範囲内で、 $x^2 -6 x - 72 = 0$ の整数解を\n",
    "一つ求めるものです。\n"
   ]
  },
  {
   "cell_type": "code",
   "execution_count": null,
   "metadata": {},
   "outputs": [
    {
     "name": "stdout",
     "output_type": "stream",
     "text": [
      "12\n"
     ]
    }
   ],
   "source": [
    "def hoteishiki():\n",
    "    xx = -1\n",
    "    for x in range(100):\n",
    "        if(x**2 - 6*x - 72 == 0):\n",
    "            xx = x\n",
    "            break\n",
    "    if(xx == -1):\n",
    "        print(\"解なし\")\n",
    "    else:\n",
    "        print(xx)\n",
    "\n",
    "hoteishiki()        "
   ]
  },
  {
   "cell_type": "markdown",
   "metadata": {},
   "source": [
    "for 文を break で終了したのか、通常に終了したのかを判断するために xx という変数を用いていますが、for 文に else: をつけて、通常終了時の処理を書くことができます。\n"
   ]
  },
  {
   "cell_type": "code",
   "execution_count": null,
   "metadata": {},
   "outputs": [
    {
     "name": "stdout",
     "output_type": "stream",
     "text": [
      "12\n"
     ]
    }
   ],
   "source": [
    "def hoteishiki1():\n",
    "    for x in range(100):\n",
    "        if(x**2 - 6*x - 72 == 0):\n",
    "            print(x)\n",
    "            break\n",
    "    else:\n",
    "        print(\"解なし\")\n",
    "\n",
    "hoteishiki1()        "
   ]
  },
  {
   "cell_type": "markdown",
   "metadata": {},
   "source": [
    "## continue 文"
   ]
  },
  {
   "cell_type": "markdown",
   "metadata": {},
   "source": [
    "continue 文を実行すると，その後の部分を実行せずに，ループの先頭に戻ります。上のプログラムに，次のように continue 文を追加すると，奇数のみについて探すようになります。"
   ]
  },
  {
   "cell_type": "code",
   "execution_count": null,
   "metadata": {},
   "outputs": [
    {
     "name": "stdout",
     "output_type": "stream",
     "text": [
      "解なし\n"
     ]
    }
   ],
   "source": [
    "def hoteishiki():\n",
    "    xx = -1\n",
    "    for x in range(100):\n",
    "        if (x % 2 == 0):\n",
    "            continue\n",
    "        if(x**2 - 6*x - 72 == 0):\n",
    "            xx = x\n",
    "            break\n",
    "    if(xx == -1):\n",
    "        print(\"解なし\")\n",
    "    else:\n",
    "        print(xx)\n",
    "\n",
    "hoteishiki()        "
   ]
  },
  {
   "cell_type": "markdown",
   "metadata": {},
   "source": [
    "***\n",
    "\n",
    "# 便利な機能"
   ]
  },
  {
   "cell_type": "markdown",
   "metadata": {},
   "source": [
    "hello 関数の最初の行は文字列です。この文字列を実行しても何も起きないですが、このように、関数の最初の行に、簡単な説明(**docstring**といいます)を書いておくと、後でプログラムを読む時に，何の関数か分かります。docstring の内容は、help 関数で見ることができます。関数は、後で使うためのものです。使う時にすぐに使い方がわかるように、ドキュメントは書くように心がけてください。\n",
    "\n",
    "help 関数は非常に有用です。関数だけではなく，値（の属する型）に関する情報を見ることができます。"
   ]
  },
  {
   "cell_type": "code",
   "execution_count": null,
   "metadata": {},
   "outputs": [
    {
     "name": "stdout",
     "output_type": "stream",
     "text": [
      "Help on built-in function sum in module builtins:\n",
      "\n",
      "sum(iterable, /, start=0)\n",
      "    Return the sum of a 'start' value (default: 0) plus an iterable of numbers\n",
      "    \n",
      "    When the iterable is empty, return the start value.\n",
      "    This function is intended specifically for use with numeric values and may\n",
      "    reject non-numeric types.\n",
      "\n"
     ]
    }
   ],
   "source": [
    "help(sum)"
   ]
  },
  {
   "cell_type": "code",
   "execution_count": null,
   "metadata": {},
   "outputs": [
    {
     "name": "stdout",
     "output_type": "stream",
     "text": [
      "Help on function hello in module __main__:\n",
      "\n",
      "hello(list1, list2)\n",
      "    2 つのリスト list1, list2の要素の和の積を返す\n",
      "\n"
     ]
    }
   ],
   "source": [
    "help(hello)"
   ]
  },
  {
   "cell_type": "code",
   "execution_count": null,
   "metadata": {},
   "outputs": [
    {
     "name": "stdout",
     "output_type": "stream",
     "text": [
      "Help on list object:\n",
      "\n",
      "class list(object)\n",
      " |  list(iterable=(), /)\n",
      " |  \n",
      " |  Built-in mutable sequence.\n",
      " |  \n",
      " |  If no argument is given, the constructor creates a new empty list.\n",
      " |  The argument must be an iterable if specified.\n",
      " |  \n",
      " |  Methods defined here:\n",
      " |  \n",
      " |  __add__(self, value, /)\n",
      " |      Return self+value.\n",
      " |  \n",
      " |  __contains__(self, key, /)\n",
      " |      Return key in self.\n",
      " |  \n",
      " |  __delitem__(self, key, /)\n",
      " |      Delete self[key].\n",
      " |  \n",
      " |  __eq__(self, value, /)\n",
      " |      Return self==value.\n",
      " |  \n",
      " |  __ge__(self, value, /)\n",
      " |      Return self>=value.\n",
      " |  \n",
      " |  __getattribute__(self, name, /)\n",
      " |      Return getattr(self, name).\n",
      " |  \n",
      " |  __getitem__(...)\n",
      " |      x.__getitem__(y) <==> x[y]\n",
      " |  \n",
      " |  __gt__(self, value, /)\n",
      " |      Return self>value.\n",
      " |  \n",
      " |  __iadd__(self, value, /)\n",
      " |      Implement self+=value.\n",
      " |  \n",
      " |  __imul__(self, value, /)\n",
      " |      Implement self*=value.\n",
      " |  \n",
      " |  __init__(self, /, *args, **kwargs)\n",
      " |      Initialize self.  See help(type(self)) for accurate signature.\n",
      " |  \n",
      " |  __iter__(self, /)\n",
      " |      Implement iter(self).\n",
      " |  \n",
      " |  __le__(self, value, /)\n",
      " |      Return self<=value.\n",
      " |  \n",
      " |  __len__(self, /)\n",
      " |      Return len(self).\n",
      " |  \n",
      " |  __lt__(self, value, /)\n",
      " |      Return self<value.\n",
      " |  \n",
      " |  __mul__(self, value, /)\n",
      " |      Return self*value.\n",
      " |  \n",
      " |  __ne__(self, value, /)\n",
      " |      Return self!=value.\n",
      " |  \n",
      " |  __repr__(self, /)\n",
      " |      Return repr(self).\n",
      " |  \n",
      " |  __reversed__(self, /)\n",
      " |      Return a reverse iterator over the list.\n",
      " |  \n",
      " |  __rmul__(self, value, /)\n",
      " |      Return value*self.\n",
      " |  \n",
      " |  __setitem__(self, key, value, /)\n",
      " |      Set self[key] to value.\n",
      " |  \n",
      " |  __sizeof__(self, /)\n",
      " |      Return the size of the list in memory, in bytes.\n",
      " |  \n",
      " |  append(self, object, /)\n",
      " |      Append object to the end of the list.\n",
      " |  \n",
      " |  clear(self, /)\n",
      " |      Remove all items from list.\n",
      " |  \n",
      " |  copy(self, /)\n",
      " |      Return a shallow copy of the list.\n",
      " |  \n",
      " |  count(self, value, /)\n",
      " |      Return number of occurrences of value.\n",
      " |  \n",
      " |  extend(self, iterable, /)\n",
      " |      Extend list by appending elements from the iterable.\n",
      " |  \n",
      " |  index(self, value, start=0, stop=9223372036854775807, /)\n",
      " |      Return first index of value.\n",
      " |      \n",
      " |      Raises ValueError if the value is not present.\n",
      " |  \n",
      " |  insert(self, index, object, /)\n",
      " |      Insert object before index.\n",
      " |  \n",
      " |  pop(self, index=-1, /)\n",
      " |      Remove and return item at index (default last).\n",
      " |      \n",
      " |      Raises IndexError if list is empty or index is out of range.\n",
      " |  \n",
      " |  remove(self, value, /)\n",
      " |      Remove first occurrence of value.\n",
      " |      \n",
      " |      Raises ValueError if the value is not present.\n",
      " |  \n",
      " |  reverse(self, /)\n",
      " |      Reverse *IN PLACE*.\n",
      " |  \n",
      " |  sort(self, /, *, key=None, reverse=False)\n",
      " |      Sort the list in ascending order and return None.\n",
      " |      \n",
      " |      The sort is in-place (i.e. the list itself is modified) and stable (i.e. the\n",
      " |      order of two equal elements is maintained).\n",
      " |      \n",
      " |      If a key function is given, apply it once to each list item and sort them,\n",
      " |      ascending or descending, according to their function values.\n",
      " |      \n",
      " |      The reverse flag can be set to sort in descending order.\n",
      " |  \n",
      " |  ----------------------------------------------------------------------\n",
      " |  Class methods defined here:\n",
      " |  \n",
      " |  __class_getitem__(...) from builtins.type\n",
      " |      See PEP 585\n",
      " |  \n",
      " |  ----------------------------------------------------------------------\n",
      " |  Static methods defined here:\n",
      " |  \n",
      " |  __new__(*args, **kwargs) from builtins.type\n",
      " |      Create and return a new object.  See help(type) for accurate signature.\n",
      " |  \n",
      " |  ----------------------------------------------------------------------\n",
      " |  Data and other attributes defined here:\n",
      " |  \n",
      " |  __hash__ = None\n",
      "\n"
     ]
    }
   ],
   "source": [
    "L = [1,2,3]\n",
    "help(L)"
   ]
  },
  {
   "cell_type": "markdown",
   "metadata": {},
   "source": [
    "jupyter lab/notebook は便利な機能をたくさん持っています。\n",
    "例えば、helloとだけ書いてshift+tab を押すと、docstring の文字列が表示されます。\n",
    "hello?, hello?? を実行してもそうです。"
   ]
  },
  {
   "cell_type": "code",
   "execution_count": null,
   "metadata": {},
   "outputs": [
    {
     "data": {
      "text/plain": [
       "\u001b[0;31mSignature:\u001b[0m \u001b[0mhello\u001b[0m\u001b[0;34m(\u001b[0m\u001b[0mlist1\u001b[0m\u001b[0;34m,\u001b[0m \u001b[0mlist2\u001b[0m\u001b[0;34m)\u001b[0m\u001b[0;34m\u001b[0m\u001b[0;34m\u001b[0m\u001b[0m\n",
       "\u001b[0;31mDocstring:\u001b[0m 2 つのリスト list1, list2の要素の和の積を返す\n",
       "\u001b[0;31mFile:\u001b[0m      /var/folders/s1/nr2mj2351891wp97qz7215lc0000gn/T/ipykernel_10193/929828729.py\n",
       "\u001b[0;31mType:\u001b[0m      function\n"
      ]
     },
     "metadata": {},
     "output_type": "display_data"
    }
   ],
   "source": [
    "hel"
   ]
  },
  {
   "cell_type": "markdown",
   "metadata": {},
   "source": [
    "また、hello 関数が定義されている時に、hel まで打ち込んで tab を押すと、そこに入力できる hel から始まる文字列のリストを表示してくれます。"
   ]
  },
  {
   "cell_type": "markdown",
   "metadata": {},
   "source": [
    "% で始まる文字列は、マジック関数と呼ばれるもので、python　ではなく、jupyter lab (jupyter notebook, ipython) に対するコマンドです。マジック関数にも、便利なものがあります。\n",
    "\n",
    "%whos は、現在定義されている変数とその型、値が表示されます。\n"
   ]
  },
  {
   "cell_type": "code",
   "execution_count": null,
   "metadata": {},
   "outputs": [
    {
     "name": "stdout",
     "output_type": "stream",
     "text": [
      "Variable   Type        Data/Info\n",
      "--------------------------------\n",
      "L          list        n=3\n",
      "hello      function    <function hello at 0x1143c5cf0>\n",
      "i          int         9\n",
      "mysum      function    <function mysum at 0x1143c7520>\n",
      "n3         list        n=3\n",
      "os         module      <module 'os' from '/Libra<...>10/lib/python3.10/os.py'>\n",
      "sys        module      <module 'sys' (built-in)>\n"
     ]
    }
   ],
   "source": [
    "%whos"
   ]
  },
  {
   "cell_type": "markdown",
   "metadata": {},
   "source": [
    "%time を用いて，実行時間の計測ができます。 \n",
    "\n",
    "%timeit を用いると、何回も実行して平均を求めてくれます。\n",
    "\n",
    "%%time, %%timeit とすると、1行ではなくセルに対して行えます。\n",
    "\n",
    "ms: 1/000 秒 μs: $1/10^6$ 秒，ns: $1/10^9$ 秒です。\n",
    "\n"
   ]
  },
  {
   "cell_type": "code",
   "execution_count": null,
   "metadata": {},
   "outputs": [
    {
     "name": "stdout",
     "output_type": "stream",
     "text": [
      "CPU times: user 2 µs, sys: 0 ns, total: 2 µs\n",
      "Wall time: 5.25 µs\n"
     ]
    }
   ],
   "source": [
    "%time x = 2**(2**(2**2))"
   ]
  },
  {
   "cell_type": "markdown",
   "metadata": {},
   "source": [
    "%store 変数\n",
    "\n",
    "で、変数の値を、外部ファイルに格納できます。\n",
    "また、その値は、\n",
    "\n",
    "%store\n",
    "\n",
    "で見ることができます。これは、jupyter lab のセッションが終わっても残ります。ファイルは、\n",
    "\n",
    "```~/.ipython/profile_default/db/autorestore```\n",
    "\n",
    "に置かれます。"
   ]
  },
  {
   "cell_type": "code",
   "execution_count": null,
   "metadata": {},
   "outputs": [
    {
     "name": "stdout",
     "output_type": "stream",
     "text": [
      "Stored 'L' (list)\n"
     ]
    }
   ],
   "source": [
    "%store L"
   ]
  },
  {
   "cell_type": "code",
   "execution_count": null,
   "metadata": {},
   "outputs": [
    {
     "name": "stdout",
     "output_type": "stream",
     "text": [
      "Stored variables and their in-db values:\n",
      "L             -> [1, 2, 3]\n"
     ]
    }
   ],
   "source": [
    "%store  \n",
    "# これは、他の jupyter lab ファイルで行うのがいい。"
   ]
  },
  {
   "cell_type": "markdown",
   "metadata": {},
   "source": [
    "%quickref で、マジックコマンドの一覧が出てきます。"
   ]
  },
  {
   "cell_type": "markdown",
   "metadata": {},
   "source": [
    "直前の実行結果は，_ でアクセスできます。"
   ]
  },
  {
   "cell_type": "code",
   "execution_count": null,
   "metadata": {},
   "outputs": [
    {
     "name": "stdout",
     "output_type": "stream",
     "text": [
      "54\n"
     ]
    }
   ],
   "source": [
    "print(_)"
   ]
  },
  {
   "cell_type": "code",
   "execution_count": null,
   "metadata": {},
   "outputs": [],
   "source": [
    "2+3;  # ; をつけると，その実行結果は表示されません。"
   ]
  },
  {
   "cell_type": "markdown",
   "metadata": {},
   "source": [
    "! で，シェルコマンドを実行することができます。実行結果を文字列として受け取って，後のプログラムで利用することもできます。"
   ]
  },
  {
   "cell_type": "code",
   "execution_count": null,
   "metadata": {},
   "outputs": [
    {
     "name": "stdout",
     "output_type": "stream",
     "text": [
      "10Bandit.ipynb                       Untitled3.ipynb\n",
      "10BanditTest.ipynb                   Untitled4.ipynb\n",
      "11Bayesian.ipynb                     Untitled5.ipynb\n",
      "12Linear.ipynb                       Untitled6.ipynb\n",
      "13NeuralNet.ipynb                    Untitled7.ipynb\n",
      "1Jupyter.ipynb                       Untitled8.ipynb\n",
      "1Tsuiki.ipynb                        Untitled9.ipynb\n",
      "2For.ipynb                           _11answer.ipynb\n",
      "2For1.ipynb                          _12answer.ipynb\n",
      "3H6T.ipynb                           _2answer.ipynb\n",
      "3If.ipynb                            _3answer.ipynb\n",
      "4List (3).ipynb                      _4answer.ipynb\n",
      "4List.ipynb                          _5answer.ipynb\n",
      "5Type.ipynb                          _6answer.ipynb\n",
      "6Recursion.ipynb                     _7answer.ipynb\n",
      "7Module.ipynb                        _8answer.ipynb\n",
      "8DiffEq.ipynb                        _9answer.ipynb\n",
      "9Object.ipynb                        _invanswer.ipynb\n",
      "AbacusMachine.ipynb                  a.ipynb\n",
      "Bandit.ipynb                         coords_demo.ipynb\n",
      "Competition1.ipynb                   factorial.py\n",
      "Competition2.ipynb                   jouka-kadai.ipynb\n",
      "Mondai.ipynb                         logo.png\n",
      "README.md                            mathlogic.ipynb\n",
      "TAからの練習問題(1) (1).ipynb        result.ipynb\n",
      "TAからの練習問題(1) (2).ipynb        tkinter.ipynb\n",
      "Untitled.ipynb                       trifinder_event_demo.ipynb\n",
      "Untitled1.ipynb                      アラカルト.ipynb\n",
      "Untitled10.ipynb                     確率的降下.ipynb\n",
      "Untitled2.ipynb                      行列.ipynb\n"
     ]
    }
   ],
   "source": [
    "!ls\n",
    "# ! により，シェルコマンドが実行できる。ls は，ファイルの一覧を示すコマンド\n",
    "# Windows なら，ls の代わりに dir を実行しよう。"
   ]
  },
  {
   "cell_type": "code",
   "execution_count": null,
   "metadata": {},
   "outputs": [
    {
     "data": {
      "text/plain": [
       "['Wed Oct  5 14:59:39 JST 2022']"
      ]
     },
     "metadata": {},
     "output_type": "display_data"
    }
   ],
   "source": [
    "x = !date  #シェルコマンドの結果は，文字列のリストとして受け取ることもできる。\n",
    "x"
   ]
  }
 ],
 "metadata": {
  "kernelspec": {
   "display_name": "Python 3.10.7 64-bit",
   "language": "python",
   "name": "python3"
  },
  "language_info": {
   "codemirror_mode": {
    "name": "ipython",
    "version": 3
   },
   "file_extension": ".py",
   "mimetype": "text/x-python",
   "name": "python",
   "nbconvert_exporter": "python",
   "pygments_lexer": "ipython3",
   "version": "3.9.13"
  },
  "vscode": {
   "interpreter": {
    "hash": "aee8b7b246df8f9039afb4144a1f6fd8d2ca17a180786b69acc140d282b71a49"
   }
  }
 },
 "nbformat": 4,
 "nbformat_minor": 4
}
