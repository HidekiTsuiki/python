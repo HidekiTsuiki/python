{
 "cells": [
  {
   "cell_type": "markdown",
   "metadata": {
    "jp-MarkdownHeadingCollapsed": true,
    "tags": []
   },
   "source": [
    "# 第2回 制御構造，関数入門\n",
    "\n",
    "今回から，Python プログラミングについて勉強します。Python については，たくさん書籍が出てます。\n",
    "また，online でのチュートリアルも充実しています。\n",
    "\n",
    "https://docs.python.org/ja/3/tutorial/index.html\n",
    "\n",
    "も参照するのがいいでしょう。また，より詳しい Python 自体のドキュメントが\n",
    "\n",
    "https://docs.python.org/ja/3/index.html\n",
    "\n",
    "にあります。このノートでPython の機能を全て網羅するつもりはありませんし，全体を覚える必要もありません。\n",
    "特に，細かいライブラリ等は，どんなことができるか概要を知り，使い方の調べ方を知っていることが重要です。"
   ]
  },
  {
   "cell_type": "markdown",
   "metadata": {},
   "source": [
    "---\n",
    "# データ型\n",
    "\n",
    "プログラムで扱う値には，型があります。数の型には，**整数(int)**と**浮動小数点(float)**，それに **複素数(complex)** があります。浮動小数点数は実数の近似値です。先週見たように，C や Java 言語にみられるような int で表現できる値の範囲の制限はありません。浮動小数点数は，近似地なので，誤差を伴います。\n",
    "\n",
    "4//2 は 2, 4/2 は 2.0 と表示されます。これは，同じ 2 という値を示してますが，前者は int, 後者は float です。同じ割り算でも、// は切り捨てを行い整数を返す演算、/ は浮動小数点数を返す演算です。complex については，後に説明します。式の型は，type 関数で調べることができます。"
   ]
  },
  {
   "cell_type": "code",
   "execution_count": null,
   "metadata": {},
   "outputs": [
    {
     "data": {
      "text/plain": [
       "2"
      ]
     },
     "metadata": {},
     "output_type": "display_data"
    }
   ],
   "source": [
    "4//2"
   ]
  },
  {
   "cell_type": "code",
   "execution_count": null,
   "metadata": {},
   "outputs": [
    {
     "data": {
      "text/plain": [
       "int"
      ]
     },
     "metadata": {},
     "output_type": "display_data"
    }
   ],
   "source": [
    "type(4//2)"
   ]
  },
  {
   "cell_type": "code",
   "execution_count": null,
   "metadata": {},
   "outputs": [
    {
     "data": {
      "text/plain": [
       "2.0"
      ]
     },
     "metadata": {},
     "output_type": "display_data"
    }
   ],
   "source": [
    "4/2"
   ]
  },
  {
   "cell_type": "code",
   "execution_count": null,
   "metadata": {},
   "outputs": [
    {
     "data": {
      "text/plain": [
       "float"
      ]
     },
     "metadata": {},
     "output_type": "display_data"
    }
   ],
   "source": [
    "type(4/2)"
   ]
  },
  {
   "cell_type": "code",
   "execution_count": null,
   "metadata": {},
   "outputs": [
    {
     "name": "stdout",
     "output_type": "stream",
     "text": [
      "7.299999999999999e-11\n",
      "7.299999999999999\n"
     ]
    }
   ],
   "source": [
    "x = 7.3/(100000000000)\n",
    "print (x)\n",
    "print(x * 100000000000)"
   ]
  },
  {
   "cell_type": "markdown",
   "metadata": {},
   "source": [
    "float の値の表記で $x\\mathrm{e}y$ というのは、$x \\times 10^y$ のことです。小さい数や大きい数はこの表記になります。\n",
    "\n",
    "float は，コンピュータの中では，倍精度浮動小数点と呼ばれる形式で記録がされています。これは，$s \\times x \\times 2^y$ という形式で，s は符号(+1 or -1)\n",
    "x は，1.**** という形式 (**** は 0, 1 の 52 桁の列) で2 進法で表現された 1 以上　2 未満の数， y は，-1024以上，1024 未満の数です。これでもって，非常に小さな数から大きな数まで，2 進で53 桁（10 進に直すと約 16 桁) の精度で実数の近似値を表現することができます。\n",
    "s は，1 ビット，x は 52 ビット，y は 11 ビットを用いて表現できるので，合計 64 ビットで一つの float の値は表現されています。\n",
    "\n",
    "このように、実数計算では誤差はつきものです。コンピュータの中では2 進で計算しているので，10 進むではきれいな誤差のない数に見えても，コンピュータ内では近似値になっていることがあります。"
   ]
  },
  {
   "cell_type": "markdown",
   "metadata": {},
   "source": [
    "## 文字列\n",
    "\n",
    "プログラムの中で、数だけでなく文字列も扱うことができます。文字列の型は，str です。文字列は，\"　\" または '　' で囲って作ります。"
   ]
  },
  {
   "cell_type": "code",
   "execution_count": null,
   "metadata": {},
   "outputs": [
    {
     "data": {
      "text/plain": [
       "'Python はいい言語'"
      ]
     },
     "metadata": {},
     "output_type": "display_data"
    }
   ],
   "source": [
    "u = \"Python はいい言語\"\n",
    "u"
   ]
  },
  {
   "cell_type": "markdown",
   "metadata": {},
   "source": [
    "\"he'llo\" や 'he\"llo' とすると，' や \"を含む文字列も作れます。\n",
    "'10' と 10 のように，文字列と数を混同しないようにしてください。 int 関数で文字列からそれの表す整数値を作れます。また，浮動小数点数は float 関数で作れます。このように，型の名前は，他の型のデータをその型に強制的に変換したデータを返す関数になります。"
   ]
  },
  {
   "cell_type": "code",
   "execution_count": null,
   "metadata": {},
   "outputs": [],
   "source": [
    "name = \"123\""
   ]
  },
  {
   "cell_type": "code",
   "execution_count": null,
   "metadata": {},
   "outputs": [
    {
     "data": {
      "text/plain": [
       "str"
      ]
     },
     "metadata": {},
     "output_type": "display_data"
    }
   ],
   "source": [
    "type(name)"
   ]
  },
  {
   "cell_type": "code",
   "execution_count": null,
   "metadata": {},
   "outputs": [
    {
     "data": {
      "text/plain": [
       "123"
      ]
     },
     "metadata": {},
     "output_type": "display_data"
    }
   ],
   "source": [
    "int(name)"
   ]
  },
  {
   "cell_type": "code",
   "execution_count": null,
   "metadata": {},
   "outputs": [
    {
     "data": {
      "text/plain": [
       "123.0"
      ]
     },
     "metadata": {},
     "output_type": "display_data"
    }
   ],
   "source": [
    "float(name)"
   ]
  },
  {
   "cell_type": "code",
   "execution_count": null,
   "metadata": {},
   "outputs": [
    {
     "data": {
      "text/plain": [
       "12"
      ]
     },
     "metadata": {},
     "output_type": "display_data"
    }
   ],
   "source": [
    "x = int(12.5)\n",
    "x"
   ]
  },
  {
   "cell_type": "code",
   "execution_count": null,
   "metadata": {},
   "outputs": [
    {
     "data": {
      "text/plain": [
       "'12'"
      ]
     },
     "metadata": {},
     "output_type": "display_data"
    }
   ],
   "source": [
    "str(x)"
   ]
  },
  {
   "cell_type": "code",
   "execution_count": 2,
   "metadata": {},
   "outputs": [],
   "source": [
    "# int(\"hello\") \n",
    "# ＃1行目文頭の # を削除して実行してください。\n",
    "# hello は数を意味する文字列ではないというエラーが出ます。"
   ]
  },
  {
   "cell_type": "markdown",
   "metadata": {},
   "source": [
    "文字列は、''' と ''' で囲んだり、\"\"\" と \"\"\" で囲んでもできます。その場合には、改行を含んだ文字列も作れます。"
   ]
  },
  {
   "cell_type": "code",
   "execution_count": null,
   "metadata": {},
   "outputs": [
    {
     "name": "stdout",
     "output_type": "stream",
     "text": [
      "これは、\n",
      "改行を含んだ\n",
      "　　　長い\n",
      "　　　長い\n",
      "文字列です。\n",
      "\n"
     ]
    }
   ],
   "source": [
    "long='''これは、\n",
    "改行を含んだ\n",
    "　　　長い\n",
    "　　　長い\n",
    "文字列です。\n",
    "'''\n",
    "print(long)"
   ]
  },
  {
   "cell_type": "markdown",
   "metadata": {},
   "source": [
    "---\n",
    "## 関数の呼び出し\n",
    "\n",
    "print, type, int など、後ろの括弧をつけてその中に値を渡されると、その値を用いて画面表示などの手続きを行なったり、新たな値を計算してその値を返したりするものを、関数といいます。関数に、括弧に入れて渡される値を引数といいます。関数が複数の引数をとる場合には、引数を , で区切って指定します。print 関数は，複数の引数が与えられれば，それらを全て表示します。"
   ]
  },
  {
   "cell_type": "code",
   "execution_count": null,
   "metadata": {},
   "outputs": [
    {
     "name": "stdout",
     "output_type": "stream",
     "text": [
      "りんご ばなな 10 100\n",
      "x は 10 です\n",
      "\n",
      "終わり\n"
     ]
    }
   ],
   "source": [
    "x = 10\n",
    "print(\"りんご\",\"ばなな\", x, x*x)\n",
    "print(\"x は\", x, \"です\")\n",
    "print()   # 引数が何もなければ改行だけ\n",
    "print(\"終わり\")"
   ]
  },
  {
   "cell_type": "markdown",
   "metadata": {},
   "source": [
    "数学では，関数とは，引数として与えられる値と結果の値の対応関係のことを意味します。プログラムでは，その結果の値を計算するための手順（を表したプログラム）を意味します。また，ただ単に，引数を渡されて何らかの計算を行うだけで，結果を返さないものも関数といいます。数学と情報の両方にまたがった勉強をする時には，両者を混同しないことが肝要です。"
   ]
  },
  {
   "cell_type": "markdown",
   "metadata": {},
   "source": [
    "# print と format 文\n",
    "\n",
    "print 文で、print した後に改行したくなければ、 print(a, end=',') という形で、終了文字を end= で指定します。"
   ]
  },
  {
   "cell_type": "code",
   "execution_count": null,
   "metadata": {},
   "outputs": [
    {
     "name": "stdout",
     "output_type": "stream",
     "text": [
      "Hello python!!!"
     ]
    }
   ],
   "source": [
    "print(\"Hello p\", end='')\n",
    "print(\"ython\", end='!!!')"
   ]
  },
  {
   "cell_type": "markdown",
   "metadata": {},
   "source": [
    "f文字列(format 文字列)という機能があり，それを用いると，変数などの値を埋め込んだ文字列を作ることができます。f文字列は，f を文字列のまえにつけ，その文字列には，値を埋め込みたい場所に{}で囲んで値を埋め込む式を書きます。例で説明します。"
   ]
  },
  {
   "cell_type": "code",
   "execution_count": null,
   "metadata": {},
   "outputs": [
    {
     "name": "stdout",
     "output_type": "stream",
     "text": [
      "x の値は 3.3333333333333335 です。\n"
     ]
    }
   ],
   "source": [
    "x = 10/3\n",
    "print(f\"x の値は {x} です。\")"
   ]
  },
  {
   "cell_type": "markdown",
   "metadata": {},
   "source": [
    "{} の中には，式だけでなく，\":書式\"をつけることにより，きれいに整形することができます。書式は，桁数を書いたり，浮動小数点数なら，6.3f　で，全体は6 桁，小数点以下は 3 桁という具合の指定ができます。"
   ]
  },
  {
   "cell_type": "code",
   "execution_count": null,
   "metadata": {},
   "outputs": [
    {
     "name": "stdout",
     "output_type": "stream",
     "text": [
      "計算結果: i = 1024, x =  3.333.\n",
      "計算結果: i =   32, x = 41.200.\n"
     ]
    }
   ],
   "source": [
    "i= 2**10\n",
    "x = 10/3\n",
    "print(f\"計算結果: i = {i:4}, x = {x:6.3f}.\")\n",
    "i= 2**5\n",
    "x = 41.2\n",
    "print(f\"計算結果: i = {i:4}, x = {x:6.3f}.\")"
   ]
  },
  {
   "cell_type": "markdown",
   "metadata": {},
   "source": [
    "---\n",
    "# リストと for 文による繰り返し"
   ]
  },
  {
   "cell_type": "markdown",
   "metadata": {},
   "source": [
    "## リスト"
   ]
  },
  {
   "cell_type": "markdown",
   "metadata": {},
   "source": [
    "複数の値を並べたものを，リストといいます。リストは，`[1, 3, 5]` という形で,`[  ]`で囲んで , で区切って作ります。"
   ]
  },
  {
   "cell_type": "code",
   "execution_count": 1,
   "metadata": {},
   "outputs": [
    {
     "name": "stdout",
     "output_type": "stream",
     "text": [
      "[1, 4, 7]\n",
      "[]\n"
     ]
    },
    {
     "data": {
      "text/plain": [
       "list"
      ]
     },
     "execution_count": 1,
     "metadata": {},
     "output_type": "execute_result"
    }
   ],
   "source": [
    "n3 = [1,4,7]\n",
    "n0 = []\n",
    "print(n3)\n",
    "print(n0)\n",
    "type(n3)"
   ]
  },
  {
   "cell_type": "markdown",
   "metadata": {},
   "source": [
    "\n",
    "リスト s の長さは、len 関数を用いて len(s) で求めることができます。リストの i 番目の要素は，リストの後に\n",
    "[i] という**インデックス**をつけてとりだすことができます。リストのインデックスが 0 から始まることを注意してください。また、[from:to] という**スライス**をつけて、from, ..., to-1 番目の要素からなる部分リストを作ることもできます。to の一つ前までということに注意してください。\n",
    "また、足し算でリスト同士をくっつけることができますし，* であるリストを繰り返してできるリストを作ることもできます。\n",
    "sum は，数のリストをもらい，その和を返す関数です。\n"
   ]
  },
  {
   "cell_type": "code",
   "execution_count": 10,
   "metadata": {},
   "outputs": [
    {
     "name": "stdout",
     "output_type": "stream",
     "text": [
      "3\n",
      "1 4 7\n",
      "[1, 4]\n",
      "4\n",
      "[1, 4, 7, 2, 5, 8]\n",
      "27\n",
      "27\n",
      "[1, 4, 7, 1, 4, 7, 1, 4, 7]\n"
     ]
    }
   ],
   "source": [
    "print(len(n3))\n",
    "print(n3[0], n3[1], n3[2])\n",
    "# print(n3[3])  #コメントをはずしてエラーが起きることを確認してください。\n",
    "print(n3[0:2])\n",
    "print(n3[0:2][1])\n",
    "print([1,4,7] + [2,5,8])\n",
    "print([1,4,7]*3)\n",
    "print(sum([1,4,7] + [2,5,8]))\n",
    "print(sum([1,4,7]) + sum([2,5,8])) # 上と同じはず。\n"
   ]
  },
  {
   "cell_type": "markdown",
   "metadata": {},
   "source": [
    "**練習問題1** 0, 31, 28, ... という、1年の各月の日数のリストを作り、mon という変数に代入しよう。インデックスと月が合うように，最初の要素として 0 をダミーで入れておこう。 "
   ]
  },
  {
   "cell_type": "markdown",
   "metadata": {},
   "source": [
    "**練習問題2** mon の長さ，1年の日数を求めよう。1 月の日数を表示しよう。また、mon の中の 4 月から 9 月までの部分を取り出して、zenki という変数に代入しよう。+ を用いて、10 月から3 月までの部分を kouki という変数に代入しよう。zenki と kouki の日数を求めよう。"
   ]
  },
  {
   "cell_type": "markdown",
   "metadata": {},
   "source": [
    "リストの要素に対して，変数と同じ様に `リスト[インデックス] = 値` という形で代入を行うことができます。"
   ]
  },
  {
   "cell_type": "code",
   "execution_count": 4,
   "metadata": {},
   "outputs": [
    {
     "name": "stdout",
     "output_type": "stream",
     "text": [
      "変更前 [0, 1, 2, 3, 4, 5]\n",
      "変更後 [0, 1, 2, 6, 4, 5]\n"
     ]
    }
   ],
   "source": [
    "x = [0,1,2,3,4,5]\n",
    "print(\"変更前\",x)\n",
    "x[3] = 6\n",
    "print(\"変更後\",x)"
   ]
  },
  {
   "cell_type": "markdown",
   "metadata": {},
   "source": [
    "## 繰り返し"
   ]
  },
  {
   "cell_type": "markdown",
   "metadata": {},
   "source": [
    "リストの中に入った要素に対し，順番に同じ処理をすることができます。それには，for 文を用います。まず，処理をする対象を記憶する変数を定めます。ここでは i にしましょう。繰り返し処理するリストを [1,3,5] だとします。すると，次のように書くことによって，i を 1,3,5 に代入しながら，それぞれの i の時に print(i) を実行します。"
   ]
  },
  {
   "cell_type": "code",
   "execution_count": 11,
   "metadata": {},
   "outputs": [
    {
     "name": "stdout",
     "output_type": "stream",
     "text": [
      "1\n",
      "3\n",
      "5\n",
      "end\n"
     ]
    }
   ],
   "source": [
    "for i in [1,3,5]:\n",
    "    print(i)\n",
    "print(\"end\")"
   ]
  },
  {
   "cell_type": "markdown",
   "metadata": {},
   "source": [
    "2 行目の文字下げ（インデント）が重要で，通常は 4 文字下げます。インデントをつけてある行の範囲が，繰り返し実行する範囲になります。\n"
   ]
  },
  {
   "cell_type": "code",
   "execution_count": 12,
   "metadata": {},
   "outputs": [
    {
     "name": "stdout",
     "output_type": "stream",
     "text": [
      "1\n",
      "2\n",
      "3\n",
      "4\n",
      "5\n",
      "6\n",
      "end\n"
     ]
    }
   ],
   "source": [
    "for i in [1,3,5]:\n",
    "    print(i)\n",
    "    print(i+1)\n",
    "print(\"end\")"
   ]
  },
  {
   "cell_type": "markdown",
   "metadata": {},
   "source": [
    "**練習問題3** 1 年の各月について、その月の日数を次の様に表記しよう。\n",
    "```\n",
    "1 月:  31 日\n",
    "2 月:  28 日\n",
    "...\n",
    "```\n"
   ]
  },
  {
   "cell_type": "markdown",
   "metadata": {},
   "source": [
    "**練習問題4** 1 年の各月について、さらに、その月までの積算日数も表記しよう。\n",
    "```\n",
    "月     日数    積算日数\n",
    "1 月:  31 日   31日\n",
    "2 月:  28 日　　59日\n",
    "...\n",
    "```\n"
   ]
  },
  {
   "cell_type": "markdown",
   "metadata": {},
   "source": [
    "## range "
   ]
  },
  {
   "cell_type": "markdown",
   "metadata": {},
   "source": [
    "sum 関数を用いて、1 から 10 までの和を求めることはできても、0 から 99 までの和を求めるのは大変です。そうい，連続した値からなるリストを作るのに range を用います。range(100) を実行すると、[0,1,2,...,99] というリストと実質的に同じものが作られて返されます。正確には，値が必要になるたびに、その値を作る手順をもつ range オブジェクトが作られるだけで，リストそのものは作られていません。詳しくは、後の章で話をしますが，多くの場所でリストと同じように扱えます。例えば，これを sum 関数に渡すと、0 から 99 までの和が返されます。"
   ]
  },
  {
   "cell_type": "code",
   "execution_count": null,
   "metadata": {},
   "outputs": [
    {
     "data": {
      "text/plain": [
       "range(0, 10)"
      ]
     },
     "execution_count": 101,
     "metadata": {},
     "output_type": "execute_result"
    }
   ],
   "source": [
    "range(10)"
   ]
  },
  {
   "cell_type": "code",
   "execution_count": 13,
   "metadata": {},
   "outputs": [
    {
     "data": {
      "text/plain": [
       "45"
      ]
     },
     "execution_count": 13,
     "metadata": {},
     "output_type": "execute_result"
    }
   ],
   "source": [
    "sum(range(10))"
   ]
  },
  {
   "cell_type": "code",
   "execution_count": 14,
   "metadata": {},
   "outputs": [
    {
     "data": {
      "text/plain": [
       "4"
      ]
     },
     "execution_count": 14,
     "metadata": {},
     "output_type": "execute_result"
    }
   ],
   "source": [
    "range(10)[4]"
   ]
  },
  {
   "cell_type": "markdown",
   "metadata": {},
   "source": [
    "range を list に変換したい時には，list 関数を適用します。"
   ]
  },
  {
   "cell_type": "code",
   "execution_count": 2,
   "metadata": {},
   "outputs": [
    {
     "name": "stdout",
     "output_type": "stream",
     "text": [
      "[0, 1, 2, 3, 4, 5, 6, 7, 8, 9]\n",
      "[5, 1, 2, 3, 4, 5, 6, 7, 8, 9]\n",
      "range(0, 10)\n"
     ]
    },
    {
     "ename": "TypeError",
     "evalue": "'range' object does not support item assignment",
     "output_type": "error",
     "traceback": [
      "\u001b[0;31m---------------------------------------------------------------------------\u001b[0m",
      "\u001b[0;31mTypeError\u001b[0m                                 Traceback (most recent call last)",
      "Cell \u001b[0;32mIn[2], line 8\u001b[0m\n\u001b[1;32m      6\u001b[0m y  \u001b[38;5;241m=\u001b[39m \u001b[38;5;28mrange\u001b[39m(\u001b[38;5;241m10\u001b[39m)\n\u001b[1;32m      7\u001b[0m \u001b[38;5;28mprint\u001b[39m(y)\n\u001b[0;32m----> 8\u001b[0m \u001b[43my\u001b[49m\u001b[43m[\u001b[49m\u001b[38;5;241;43m0\u001b[39;49m\u001b[43m]\u001b[49m \u001b[38;5;241m=\u001b[39m \u001b[38;5;241m5\u001b[39m  \u001b[38;5;66;03m#これはエラー\u001b[39;00m\n",
      "\u001b[0;31mTypeError\u001b[0m: 'range' object does not support item assignment"
     ]
    }
   ],
   "source": [
    "x = list(range(10))\n",
    "print(x)\n",
    "x[0] = 5\n",
    "print(x)\n",
    "\n",
    "y  = range(10)\n",
    "print(y)\n",
    "y[0] = 5  #これはエラー\n",
    "\n"
   ]
  },
  {
   "cell_type": "markdown",
   "metadata": {},
   "source": [
    "range を for 文と一緒に使うと，同じことを指定された回数繰り返し実行させることが簡単にできます。"
   ]
  },
  {
   "cell_type": "code",
   "execution_count": 15,
   "metadata": {},
   "outputs": [
    {
     "name": "stdout",
     "output_type": "stream",
     "text": [
      "Happy birthday to you.\n",
      "Happy birthday to you.\n",
      "Happy birthday to you.\n",
      "Happy birthday to you.\n",
      "Happy birthday to you.\n"
     ]
    }
   ],
   "source": [
    "for i in range(5):\n",
    "    print(\"Happy birthday to you.\")"
   ]
  },
  {
   "cell_type": "markdown",
   "metadata": {},
   "source": [
    "この繰り返しは、5回繰り返すというだけで、i の値は使っていません。\n",
    "そのように、使われない変数であることを明記するために、i の代わりに `_` という変数名を用いるのが普通です。上のセルで， i を _ に書き換えておいてください。"
   ]
  },
  {
   "cell_type": "code",
   "execution_count": null,
   "metadata": {},
   "outputs": [
    {
     "name": "stdout",
     "output_type": "stream",
     "text": [
      "0, 1, 2, 3, 4, 5, 6, 7, 8, 9, "
     ]
    }
   ],
   "source": [
    "for i in range(10):\n",
    "    print(i, end=\", \")"
   ]
  },
  {
   "cell_type": "raw",
   "metadata": {},
   "source": [
    "range は，2 引数で呼び出して最初の数と最後の数を指定することも，3引数で呼び出してその間の増分を指定することもできます。"
   ]
  },
  {
   "cell_type": "code",
   "execution_count": 22,
   "metadata": {},
   "outputs": [
    {
     "name": "stdout",
     "output_type": "stream",
     "text": [
      "1, 2, 3, 4, 5, 6, 7, 8, 9, 10, \n",
      "11, 10, 9, 8, 7, 6, 5, 4, 3, 2, "
     ]
    },
    {
     "data": {
      "text/plain": [
       "55"
      ]
     },
     "execution_count": 22,
     "metadata": {},
     "output_type": "execute_result"
    }
   ],
   "source": [
    "for i in range(1,11):\n",
    "    print(i, end=\", \")\n",
    "print();    \n",
    "for i in range(11,1,-1):\n",
    "    print(i, end=\", \")\n",
    "sum(range(1,11))"
   ]
  },
  {
   "cell_type": "markdown",
   "metadata": {},
   "source": [
    "## 繰り返しの中での変数の利用\n",
    "\n",
    "sum 関数を使わずに，for を用いてリストの和を求めることを考えましょう。\n",
    "それには，和を記憶する変数を用意しておいて，最初は 0 にしておいて，繰り返しの度に足しこんでいけばよいです。\n",
    "次のプログラムは，range(11)= [0,1,2,3,4,5,6,7,8,9,10] というリストに対して和( $\\sum_{i=0}^{10} i$ )を求めています。"
   ]
  },
  {
   "cell_type": "code",
   "execution_count": 28,
   "metadata": {},
   "outputs": [
    {
     "name": "stdout",
     "output_type": "stream",
     "text": [
      "55\n",
      "55\n"
     ]
    }
   ],
   "source": [
    "print(sum(range(11)))\n",
    "\n",
    "total = 0\n",
    "for i in range(11):\n",
    "    total = total + i\n",
    "#    total += i  でも同じ    \n",
    "print(total)  "
   ]
  },
  {
   "cell_type": "markdown",
   "metadata": {},
   "source": [
    "**練習問題10** 上のプログラムで，それぞれの i の時に，i の値とそこまでの和も表示するように変更しよう。"
   ]
  },
  {
   "cell_type": "markdown",
   "metadata": {},
   "source": [
    "このように，for 文は，\n",
    "```\n",
    "for 変数 in リスト式:\n",
    "　　　文\n",
    "     ...\n",
    "     文\n",
    "```\n",
    "という形をしています。\n",
    "\n",
    "for 文を for 文の中の文に含めることもできます。\n",
    "そうすれば，繰り返しを繰り返させることができます。for 文をネストさせるといいます。for 文をネストさせると、インデントも深くなっていきます。次のプログラムは、`1*1, 1*2,...1*10, 2*1,..2*10,...,5*1,...,5*10` の和\n",
    "\n",
    "$$$$\n",
    "$$ \\sum_{i=1}^{5} \\sum_{j=1}^{10} ij $$\n",
    "\n",
    "を求めています。"
   ]
  },
  {
   "cell_type": "code",
   "execution_count": 29,
   "metadata": {},
   "outputs": [
    {
     "name": "stdout",
     "output_type": "stream",
     "text": [
      "825\n"
     ]
    }
   ],
   "source": [
    "s = 0\n",
    "for i in range(1,6):\n",
    "    for j in range(1,11):\n",
    "        s += i*j\n",
    "print(s)"
   ]
  },
  {
   "cell_type": "markdown",
   "metadata": {},
   "source": [
    "**練習問題** 次の2つのプログラムは何をしているか考えましょう。"
   ]
  },
  {
   "cell_type": "code",
   "execution_count": null,
   "metadata": {},
   "outputs": [],
   "source": [
    "s = 0\n",
    "for i in range(1,6):\n",
    "    for j in range(1,11):\n",
    "        s += i*j\n",
    "    print(s)"
   ]
  },
  {
   "cell_type": "code",
   "execution_count": null,
   "metadata": {},
   "outputs": [],
   "source": [
    "for i in range(1,5):\n",
    "    s = 0\n",
    "    for j in range(1,11):\n",
    "        s += i*j\n",
    "        print(s)"
   ]
  },
  {
   "cell_type": "markdown",
   "metadata": {},
   "source": [
    "**練習問題11** 九九の表を書くプログラムを作ろう。"
   ]
  },
  {
   "cell_type": "markdown",
   "metadata": {},
   "source": [
    "\n",
    "# 関数\n",
    "\n",
    "print,type,int, range, sum など、値を渡されると、その値を用いて画面表示などの手続きを行ったり、新たな値を計算してその値を返したりするものを関数といいます。関数に渡される値のことを引数といいます。関数の後ろに括弧をつけてその中に引数を書くことで、引数が関数に渡されます。\n",
    "関数が複数の引数をとる場合には、引数を , で区切って指定します。"
   ]
  },
  {
   "cell_type": "markdown",
   "metadata": {
    "tags": []
   },
   "source": [
    "\n",
    "これまで書いたプログラムは,一つのことしかできませんでした。しかし，どんなリストであっても、その和を求める手順は同じはずです。このような時に、関数を定義すると，手順に名前をつけて，引数をもらって，それに対して指定した手順を実行させることができます。関数定義は，\n",
    "\n",
    "```\n",
    "def 関数名(仮引数):\n",
    "     本体\n",
    "```     \n",
    "     \n",
    "という形で行います。インデントのなされた部分が本体になります。本体の中に for 文があると、さらにインデントを深くします。仮引数は，引数として与えられた値を記憶する変数です。関数が呼び出されると、仮引数に引数として与えられた値が代入された状態で本体に書かれた手順が実行されます。"
   ]
  },
  {
   "cell_type": "code",
   "execution_count": null,
   "metadata": {},
   "outputs": [
    {
     "name": "stdout",
     "output_type": "stream",
     "text": [
      "li = [1, 2, 3, 4, 5, 6]\n",
      "li = 10\n"
     ]
    }
   ],
   "source": [
    "def sample(li):\n",
    "    print(\"li =\", li)\n",
    "\n",
    "sample([1,2,3,4,5,6])\n",
    "sample(10)"
   ]
  },
  {
   "cell_type": "markdown",
   "metadata": {},
   "source": [
    "リストをもらい、その和を表示する関数 mysum0 を定義してみましょう。"
   ]
  },
  {
   "cell_type": "code",
   "execution_count": 33,
   "metadata": {},
   "outputs": [],
   "source": [
    "def mysum0(li):\n",
    "    x = 0\n",
    "    for i in li:\n",
    "        x = x + i\n",
    "    print(\"sum = \", x)"
   ]
  },
  {
   "cell_type": "code",
   "execution_count": null,
   "metadata": {
    "scrolled": true
   },
   "outputs": [
    {
     "name": "stdout",
     "output_type": "stream",
     "text": [
      "sum =  15\n",
      "sum =  4950\n"
     ]
    }
   ],
   "source": [
    "mysum0([1,2,3,4,5])\n",
    "mysum0(range(100))"
   ]
  },
  {
   "cell_type": "markdown",
   "metadata": {},
   "source": [
    "**練習問題** n をもらい，n x n までの掛け算の表を書く関数を作ろう。"
   ]
  },
  {
   "cell_type": "markdown",
   "metadata": {},
   "source": [
    " 上で定義した mysum0 は、関数を実行している間にprint 文で画面表示を行い、値を返しませんでした。それに対して、sum のように，計算した結果の値を返す関数も定義できます。関数定義の中で値を返すには，値を返したいところで`return 式` という文（リターン文）を呼び出します。次の関数 mysum は，和の値を返します。\n"
   ]
  },
  {
   "cell_type": "code",
   "execution_count": 34,
   "metadata": {},
   "outputs": [
    {
     "data": {
      "text/plain": [
       "21"
      ]
     },
     "execution_count": 34,
     "metadata": {},
     "output_type": "execute_result"
    }
   ],
   "source": [
    "def mysum(li):\n",
    "    x = 0\n",
    "    for i in li:\n",
    "        x += i\n",
    "    return(x)\n",
    "\n",
    "mysum([1,2,3,4,5,6])"
   ]
  },
  {
   "cell_type": "markdown",
   "metadata": {},
   "source": []
  },
  {
   "cell_type": "code",
   "execution_count": 35,
   "metadata": {},
   "outputs": [
    {
     "data": {
      "text/plain": [
       "21"
      ]
     },
     "execution_count": 35,
     "metadata": {},
     "output_type": "execute_result"
    }
   ],
   "source": [
    "mysum([1,3,5]) + mysum([2,4,6])\n"
   ]
  },
  {
   "cell_type": "markdown",
   "metadata": {},
   "source": [
    "ある関数を定義すると、その関数を用いてより複雑な関数を作ることができます。\n",
    "関数に引数が複数ある時には、引数のところにコンマで区切って書きます。\n",
    "二つのリストの和の積を求める関数は、次のようにかけます。"
   ]
  },
  {
   "cell_type": "code",
   "execution_count": 44,
   "metadata": {},
   "outputs": [
    {
     "data": {
      "text/plain": [
       "54"
      ]
     },
     "execution_count": 44,
     "metadata": {},
     "output_type": "execute_result"
    }
   ],
   "source": [
    "def hello(list1, list2):\n",
    "    \"\"\"2 つのリスト list1, list2の要素の和の積を返す\"\"\"\n",
    "    return(mysum(list1) * mysum(list2))\n",
    "hello([1,2,3], [2,3,4])"
   ]
  },
  {
   "cell_type": "markdown",
   "metadata": {
    "tags": []
   },
   "source": [
    "\n",
    "## 練習問題"
   ]
  },
  {
   "cell_type": "markdown",
   "metadata": {},
   "source": [
    "**練習問題20** 数 n をもらい、1 から n までの積（すなわち、階乗，factorial）を返す関数 fact(n) を定義しよう。"
   ]
  },
  {
   "cell_type": "markdown",
   "metadata": {},
   "source": [
    "**練習問題21**  実数 a をもらい，y = 0.01 から始めて，$f(y) = a y(1-y)$ という関数を 100回繰り返し適用した時のy の値の変化を表示するプログラム logistic(a) を作成しよう。いろんな a について y の動きを見てみよう。"
   ]
  },
  {
   "cell_type": "markdown",
   "metadata": {},
   "source": [
    "**練習問題22**\n",
    "$$\n",
    "\\sum_{i=0}^{\\infty} \\frac{1}{\\mathrm {fact}(i)}\n",
    "$$\n",
    "を計算しよう。これは何になるか？解析の教科書などで復習しよう。\n",
    "(実際に求めるのは、十分大きな n までの和です。) n をもらってこの値を返す関数として定義し，n が 10, 20, .. 100 の時に，n の値とこの値を表示しよう。\n",
    "Python の中で，ネイピア数 e の（float による近似）値は，import math をしておいた上で，math.e で求めることができる。（次次回に説明）。\n",
    "この値と比較してみよう。\n"
   ]
  },
  {
   "cell_type": "code",
   "execution_count": 3,
   "metadata": {},
   "outputs": [
    {
     "name": "stdout",
     "output_type": "stream",
     "text": [
      "2.718281828459045\n"
     ]
    }
   ],
   "source": [
    "import math\n",
    "print(math.e)\n"
   ]
  },
  {
   "cell_type": "markdown",
   "metadata": {},
   "source": [
    "この計算で n を無限に大きくしていったら、ネイピア数 e の近似値の精度が無限に良くなる訳ではないです。実際，途中で値の変化が止まっているはずです。実数の近似である float 型は，倍精度浮動小数点型という形で実数の近似値を表現しており，それで表現できるのは，2 進で52 桁，10 進で 15 桁程度です。しかし，それだけの桁までは正確な値が求まるという訳でもありません。\n",
    "それぞれの計算の中での割り算がすでに、近似値となっており、誤差を含んでいます。よって、それぞれの n の時の値も誤差を含んでおり、実数計算を繰り返すと、その誤差が積み重なっていきます。このように，実数に対する計算は誤差を含む近似計算であり，正確な値が得られる訳ではないことに注意が必要です。"
   ]
  },
  {
   "cell_type": "markdown",
   "metadata": {},
   "source": [
    "**練習問題25** \n",
    "テイラー展開によると，\n",
    "$$\n",
    "f(x) = \\sum_{i=0}^{\\infty} \\frac{x^i}{\\mathrm {fact}(i)}\n",
    "$$\n",
    "は $e^x$ に等しい。本当だろうか。十分大きな n までの和を計算するようにして関数 $f$ を定義し，それと，`math.e**x` を比較しよう。"
   ]
  },
  {
   "cell_type": "markdown",
   "metadata": {},
   "source": [
    "**練習問題30** 次の公式は、ライプニッツの公式として知られている。\n",
    "$$\n",
    "\\frac{\\pi}{4} = 1 - \\frac{1}{3} + \\frac{1}{5} - \\frac{1}{7} ...\n",
    "$$\n",
    "この n　項目までの和の4倍を求めるプログラムを書き、n を大きくしていった時に円周率の値に近づいていくことを確認しよう。1 項おきに、プラスとマイナスを変化させる方法を、いくつも考えよう。（次回説明する if 文を用いるのが一番素直かもしれないが，プログラミング力は，与えられた道具の範囲で工夫をすることにより身につくものです。）"
   ]
  },
  {
   "cell_type": "markdown",
   "metadata": {},
   "source": [
    "**練習問題32** 数学の授業で習ったことを思い出して、あるいは、ネットで検索を行なって、for 文で計算できそうな級数を探して、プログラムで、それが正しそうか調べよう。"
   ]
  },
  {
   "cell_type": "markdown",
   "metadata": {},
   "source": [
    "**練習問題** ライプニッツの公式によるπの計算は、収束の速さが遅いと言われている。\n",
    "より効率のよい公式を調べて、計算してみよう。"
   ]
  },
  {
   "cell_type": "markdown",
   "metadata": {},
   "source": [
    "### 変数に関する注意\n",
    "\n",
    "VSCode では，今，どういう変数が使われていて，どういう値が代入されているかは，上部メニューの「ターミナル」を開いて，JUPYTER というタグを選ぶと表示されます。\n",
    "\n",
    "for, if, def などの予約語を変数名にすることはできません。\n",
    "しかし，sum, len などの組み込み関数の名前や，list, int などの型名は変数として用いることができます。\n",
    "後述するように，Python では，関数名も変数名も同じ名前空間をとっています。つまり，sum([1,3,5]) は，\n",
    "sum という変数に代入されている関数を [1,3,5] というリストに適用するということを意味しています。\n",
    "ですから，sum という変数に何らかの値を代入してしまうと，sum([1,3,5])はその値を関数として [1,3,5] に適用することになってしまい，エラーを生じてしまいます。\n"
   ]
  },
  {
   "cell_type": "code",
   "execution_count": 5,
   "metadata": {},
   "outputs": [
    {
     "ename": "TypeError",
     "evalue": "'int' object is not callable",
     "output_type": "error",
     "traceback": [
      "\u001b[0;31m---------------------------------------------------------------------------\u001b[0m",
      "\u001b[0;31mTypeError\u001b[0m                                 Traceback (most recent call last)",
      "Cell \u001b[0;32mIn[5], line 2\u001b[0m\n\u001b[1;32m      1\u001b[0m \u001b[38;5;28msum\u001b[39m \u001b[38;5;241m=\u001b[39m \u001b[38;5;241m3\u001b[39m\n\u001b[0;32m----> 2\u001b[0m \u001b[38;5;28;43msum\u001b[39;49m\u001b[43m(\u001b[49m\u001b[43m[\u001b[49m\u001b[38;5;241;43m1\u001b[39;49m\u001b[43m,\u001b[49m\u001b[38;5;241;43m2\u001b[39;49m\u001b[43m,\u001b[49m\u001b[38;5;241;43m3\u001b[39;49m\u001b[43m]\u001b[49m\u001b[43m)\u001b[49m\n",
      "\u001b[0;31mTypeError\u001b[0m: 'int' object is not callable"
     ]
    }
   ],
   "source": [
    "sum = 3\n",
    "sum([1,2,3])"
   ]
  },
  {
   "cell_type": "markdown",
   "metadata": {},
   "source": [
    "間違ってそういう代入をしてしまった時には，del という関数によって，変数の定義を消すことができます。\n",
    "変数の定義を消すと，sum 関数は復活します。この詳細は，5Type の章で説明します。\n"
   ]
  },
  {
   "cell_type": "code",
   "execution_count": 6,
   "metadata": {},
   "outputs": [],
   "source": [
    "del(sum)"
   ]
  },
  {
   "cell_type": "code",
   "execution_count": 154,
   "metadata": {},
   "outputs": [
    {
     "data": {
      "text/plain": [
       "6"
      ]
     },
     "execution_count": 154,
     "metadata": {},
     "output_type": "execute_result"
    }
   ],
   "source": [
    "sum([1,2,3])"
   ]
  },
  {
   "cell_type": "markdown",
   "metadata": {},
   "source": [
    "***\n",
    "\n",
    "# 便利な機能"
   ]
  },
  {
   "cell_type": "markdown",
   "metadata": {},
   "source": [
    "hello 関数の最初の行は文字列です。この文字列を実行しても何も起きないですが、このように、関数の最初の行に、簡単な説明(**docstring**といいます)を書いておくと、後でプログラムを読む時に，何の関数か分かります。docstring の内容は、help 関数で見ることができます。関数は、後で使うためのものです。使う時にすぐに使い方がわかるように、ドキュメントは書くように心がけてください。\n",
    "\n",
    "help 関数は非常に有用です。関数だけではなく，値（の属する型）に関する情報を見ることができます。"
   ]
  },
  {
   "cell_type": "code",
   "execution_count": null,
   "metadata": {},
   "outputs": [],
   "source": [
    "help(sum)"
   ]
  },
  {
   "cell_type": "code",
   "execution_count": null,
   "metadata": {},
   "outputs": [],
   "source": [
    "help(hello)"
   ]
  },
  {
   "cell_type": "code",
   "execution_count": null,
   "metadata": {},
   "outputs": [],
   "source": [
    "L = [1,2,3]\n",
    "help(L)"
   ]
  },
  {
   "cell_type": "code",
   "execution_count": 16,
   "metadata": {},
   "outputs": [
    {
     "name": "stdout",
     "output_type": "stream",
     "text": [
      "\u001b[0;31mSignature:\u001b[0m \u001b[0mprint\u001b[0m\u001b[0;34m(\u001b[0m\u001b[0;34m*\u001b[0m\u001b[0margs\u001b[0m\u001b[0;34m,\u001b[0m \u001b[0msep\u001b[0m\u001b[0;34m=\u001b[0m\u001b[0;34m' '\u001b[0m\u001b[0;34m,\u001b[0m \u001b[0mend\u001b[0m\u001b[0;34m=\u001b[0m\u001b[0;34m'\\n'\u001b[0m\u001b[0;34m,\u001b[0m \u001b[0mfile\u001b[0m\u001b[0;34m=\u001b[0m\u001b[0;32mNone\u001b[0m\u001b[0;34m,\u001b[0m \u001b[0mflush\u001b[0m\u001b[0;34m=\u001b[0m\u001b[0;32mFalse\u001b[0m\u001b[0;34m)\u001b[0m\u001b[0;34m\u001b[0m\u001b[0;34m\u001b[0m\u001b[0m\n",
      "\u001b[0;31mDocstring:\u001b[0m\n",
      "Prints the values to a stream, or to sys.stdout by default.\n",
      "\n",
      "sep\n",
      "  string inserted between values, default a space.\n",
      "end\n",
      "  string appended after the last value, default a newline.\n",
      "file\n",
      "  a file-like object (stream); defaults to the current sys.stdout.\n",
      "flush\n",
      "  whether to forcibly flush the stream.\n",
      "\u001b[0;31mType:\u001b[0m      builtin_function_or_method"
     ]
    }
   ],
   "source": [
    "print?\n"
   ]
  },
  {
   "cell_type": "markdown",
   "metadata": {},
   "source": [
    "jupyter lab/notebook は便利な機能をたくさん持っています。\n",
    "例えば、\n",
    "print?, print?? を実行すると，docstring の文字列が表示されます。"
   ]
  },
  {
   "cell_type": "markdown",
   "metadata": {},
   "source": [
    "% で始まる文字列は、マジック関数と呼ばれるもので、python　ではなく、jupyter lab (jupyter notebook, ipython) に対するコマンドです。マジック関数にも、便利なものがあります。\n",
    "\n",
    "%whos は、現在定義されている変数とその型、値が表示されます。\n"
   ]
  },
  {
   "cell_type": "code",
   "execution_count": 18,
   "metadata": {},
   "outputs": [
    {
     "name": "stdout",
     "output_type": "stream",
     "text": [
      "Variable     Type        Data/Info\n",
      "----------------------------------\n",
      "forever      function    <function forever at 0x11d780040>\n",
      "hoteishiki   function    <function hoteishiki at 0x11c89e200>\n",
      "i            int         100\n",
      "math         module      <module 'math' from '/Lib<...>h.cpython-311-darwin.so'>\n",
      "matplotlib   module      <module 'matplotlib' from<...>/matplotlib/__init__.py'>\n",
      "x            int         4950\n",
      "y            int         10\n"
     ]
    }
   ],
   "source": [
    "%whos"
   ]
  },
  {
   "cell_type": "code",
   "execution_count": 4,
   "metadata": {},
   "outputs": [
    {
     "name": "stdout",
     "output_type": "stream",
     "text": [
      "Variable   Type    Data/Info\n",
      "----------------------------\n",
      "i          int     0\n",
      "n3         list    n=3\n"
     ]
    }
   ],
   "source": [
    "%whos"
   ]
  },
  {
   "cell_type": "markdown",
   "metadata": {},
   "source": [
    "%time を用いて，実行時間の計測ができます。 \n",
    "\n",
    "%timeit を用いると、何回も実行して平均を求めてくれます。\n",
    "\n",
    "%%time, %%timeit とすると、1行ではなくセルに対して行えます。\n",
    "\n",
    "ms: 1/000 秒 μs: $1/10^6$ 秒，ns: $1/10^9$ 秒です。\n",
    "\n"
   ]
  },
  {
   "cell_type": "code",
   "execution_count": 19,
   "metadata": {},
   "outputs": [
    {
     "name": "stdout",
     "output_type": "stream",
     "text": [
      "CPU times: user 3 µs, sys: 1 µs, total: 4 µs\n",
      "Wall time: 7.15 µs\n"
     ]
    }
   ],
   "source": [
    "%time x = 2**(2**(2**2))"
   ]
  },
  {
   "cell_type": "markdown",
   "metadata": {},
   "source": [
    "%store 変数\n",
    "\n",
    "で、変数の値を、外部ファイルに格納できます。\n",
    "また、その値は、\n",
    "\n",
    "%store\n",
    "\n",
    "で見ることができます。これは、jupyter lab のセッションが終わっても残ります。ファイルは、\n",
    "\n",
    "```~/.ipython/profile_default/db/autorestore```\n",
    "\n",
    "に置かれます。"
   ]
  },
  {
   "cell_type": "code",
   "execution_count": 21,
   "metadata": {},
   "outputs": [
    {
     "name": "stdout",
     "output_type": "stream",
     "text": [
      "Stored 'i' (int)\n"
     ]
    }
   ],
   "source": [
    "%store L"
   ]
  },
  {
   "cell_type": "code",
   "execution_count": 22,
   "metadata": {},
   "outputs": [],
   "source": [
    "%store  \n",
    "# これは、他の jupyter lab ファイルで行うのがいい。"
   ]
  },
  {
   "cell_type": "markdown",
   "metadata": {},
   "source": [
    "%quickref で、マジックコマンドの一覧が出てきます。"
   ]
  },
  {
   "cell_type": "markdown",
   "metadata": {},
   "source": [
    "直前の実行結果は，_ でアクセスできます。"
   ]
  },
  {
   "cell_type": "code",
   "execution_count": null,
   "metadata": {},
   "outputs": [
    {
     "name": "stdout",
     "output_type": "stream",
     "text": [
      "54\n"
     ]
    }
   ],
   "source": [
    "print(_)"
   ]
  },
  {
   "cell_type": "code",
   "execution_count": null,
   "metadata": {},
   "outputs": [],
   "source": [
    "2+3;  # ; をつけると，その実行結果は表示されません。"
   ]
  },
  {
   "cell_type": "markdown",
   "metadata": {},
   "source": [
    "! で，シェルコマンドを実行することができます。実行結果を文字列として受け取って，後のプログラムで利用することもできます。"
   ]
  },
  {
   "cell_type": "code",
   "execution_count": null,
   "metadata": {},
   "outputs": [
    {
     "name": "stdout",
     "output_type": "stream",
     "text": [
      "10Bandit.ipynb                       Untitled3.ipynb\n",
      "10BanditTest.ipynb                   Untitled4.ipynb\n",
      "11Bayesian.ipynb                     Untitled5.ipynb\n",
      "12Linear.ipynb                       Untitled6.ipynb\n",
      "13NeuralNet.ipynb                    Untitled7.ipynb\n",
      "1Jupyter.ipynb                       Untitled8.ipynb\n",
      "1Tsuiki.ipynb                        Untitled9.ipynb\n",
      "2For.ipynb                           _11answer.ipynb\n",
      "2For1.ipynb                          _12answer.ipynb\n",
      "3H6T.ipynb                           _2answer.ipynb\n",
      "3If.ipynb                            _3answer.ipynb\n",
      "4List (3).ipynb                      _4answer.ipynb\n",
      "4List.ipynb                          _5answer.ipynb\n",
      "5Type.ipynb                          _6answer.ipynb\n",
      "6Recursion.ipynb                     _7answer.ipynb\n",
      "7Module.ipynb                        _8answer.ipynb\n",
      "8DiffEq.ipynb                        _9answer.ipynb\n",
      "9Object.ipynb                        _invanswer.ipynb\n",
      "AbacusMachine.ipynb                  a.ipynb\n",
      "Bandit.ipynb                         coords_demo.ipynb\n",
      "Competition1.ipynb                   factorial.py\n",
      "Competition2.ipynb                   jouka-kadai.ipynb\n",
      "Mondai.ipynb                         logo.png\n",
      "README.md                            mathlogic.ipynb\n",
      "TAからの練習問題(1) (1).ipynb        result.ipynb\n",
      "TAからの練習問題(1) (2).ipynb        tkinter.ipynb\n",
      "Untitled.ipynb                       trifinder_event_demo.ipynb\n",
      "Untitled1.ipynb                      アラカルト.ipynb\n",
      "Untitled10.ipynb                     確率的降下.ipynb\n",
      "Untitled2.ipynb                      行列.ipynb\n"
     ]
    }
   ],
   "source": [
    "!ls\n",
    "# ! により，シェルコマンドが実行できる。ls は，ファイルの一覧を示すコマンド\n",
    "# Windows なら，ls の代わりに dir を実行しよう。"
   ]
  },
  {
   "cell_type": "code",
   "execution_count": null,
   "metadata": {},
   "outputs": [
    {
     "data": {
      "text/plain": [
       "['Wed Oct  5 14:59:39 JST 2022']"
      ]
     },
     "metadata": {},
     "output_type": "display_data"
    }
   ],
   "source": [
    "x = !date  #シェルコマンドの結果は，文字列のリストとして受け取ることもできる。\n",
    "x"
   ]
  }
 ],
 "metadata": {
  "kernelspec": {
   "display_name": "Python 3.10.7 64-bit",
   "language": "python",
   "name": "python3"
  },
  "language_info": {
   "codemirror_mode": {
    "name": "ipython",
    "version": 3
   },
   "file_extension": ".py",
   "mimetype": "text/x-python",
   "name": "python",
   "nbconvert_exporter": "python",
   "pygments_lexer": "ipython3",
   "version": "3.11.2"
  },
  "vscode": {
   "interpreter": {
    "hash": "aee8b7b246df8f9039afb4144a1f6fd8d2ca17a180786b69acc140d282b71a49"
   }
  }
 },
 "nbformat": 4,
 "nbformat_minor": 4
}
