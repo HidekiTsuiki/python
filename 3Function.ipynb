{
 "cells": [
  {
   "cell_type": "markdown",
   "metadata": {},
   "source": [
    "# 第3回　関数について詳しく\n",
    "\n",
    "前回は，for 文による繰り返しについて学びました。今回は、if 文，while 文などの，他の実行の流れを制御する方法について学びましょう。 準備として、乱数モジュールと bool 値について学びます。\n"
   ]
  },
  {
   "cell_type": "markdown",
   "metadata": {},
   "source": [
    "## デフォルトの引数とキー引数"
   ]
  },
  {
   "cell_type": "markdown",
   "metadata": {},
   "source": [
    "関数の引数は、引数が与えられなかった時のデフォルトの値を与えておくことができます。下の例では x は必須引数、y,z はオプション引数となります。"
   ]
  },
  {
   "cell_type": "code",
   "execution_count": 9,
   "metadata": {},
   "outputs": [
    {
     "name": "stdout",
     "output_type": "stream",
     "text": [
      "800\n",
      "600\n"
     ]
    }
   ],
   "source": [
    "def foo(x, y=100,z=300):\n",
    "    return(x + y+z)\n",
    "\n",
    "print(foo(200, 300))\n",
    "print(foo(200))"
   ]
  },
  {
   "cell_type": "markdown",
   "metadata": {},
   "source": [
    "また、オプション引数は、場所だけではなく、キー(すなわち、関数定義の中での引数名)で指定することができます。"
   ]
  },
  {
   "cell_type": "code",
   "execution_count": 10,
   "metadata": {},
   "outputs": [
    {
     "name": "stdout",
     "output_type": "stream",
     "text": [
      "1300\n",
      "1500\n"
     ]
    }
   ],
   "source": [
    "print(foo(200,z=1000))\n",
    "print(foo(200,z=1000,y=300))"
   ]
  },
  {
   "cell_type": "markdown",
   "metadata": {},
   "source": [
    "\n",
    "\n",
    "## 関数の引数としての関数"
   ]
  },
  {
   "cell_type": "markdown",
   "metadata": {},
   "source": [
    "関数の名前は，実は，他の変数と同じ変数です。関数とそれ以外の値は、同じように変数に代入されます。例えば，foo = 10 を実行すると，foo を実行できなくなります。\n",
    "\n",
    "\n"
   ]
  },
  {
   "cell_type": "code",
   "execution_count": 11,
   "metadata": {},
   "outputs": [
    {
     "name": "stdout",
     "output_type": "stream",
     "text": [
      "410\n"
     ]
    },
    {
     "ename": "TypeError",
     "evalue": "'int' object is not callable",
     "output_type": "error",
     "traceback": [
      "\u001b[0;31m---------------------------------------------------------------------------\u001b[0m",
      "\u001b[0;31mTypeError\u001b[0m                                 Traceback (most recent call last)",
      "\u001b[0;32m<ipython-input-11-3f4baea53fef>\u001b[0m in \u001b[0;36m<module>\u001b[0;34m()\u001b[0m\n\u001b[1;32m      1\u001b[0m \u001b[0mprint\u001b[0m\u001b[0;34m(\u001b[0m\u001b[0mfoo\u001b[0m\u001b[0;34m(\u001b[0m\u001b[0;36m10\u001b[0m\u001b[0;34m)\u001b[0m\u001b[0;34m)\u001b[0m\u001b[0;34m\u001b[0m\u001b[0m\n\u001b[1;32m      2\u001b[0m \u001b[0mfoo\u001b[0m \u001b[0;34m=\u001b[0m \u001b[0;36m10\u001b[0m\u001b[0;34m\u001b[0m\u001b[0m\n\u001b[0;32m----> 3\u001b[0;31m \u001b[0mprint\u001b[0m\u001b[0;34m(\u001b[0m\u001b[0mfoo\u001b[0m\u001b[0;34m(\u001b[0m\u001b[0;36m10\u001b[0m\u001b[0;34m)\u001b[0m\u001b[0;34m)\u001b[0m  \u001b[0;31m# これを実行すると，エラーになる。\u001b[0m\u001b[0;34m\u001b[0m\u001b[0m\n\u001b[0m",
      "\u001b[0;31mTypeError\u001b[0m: 'int' object is not callable"
     ]
    }
   ],
   "source": [
    "print(foo(10))\n",
    "foo = 10\n",
    "# print(foo(10))  # これを実行すると，エラーになる。\n"
   ]
  },
  {
   "cell_type": "markdown",
   "metadata": {},
   "source": [
    "また，hoteishiki = len という代入で，houteishiki という変数に関数 len が代入され,\n",
    "それ以降は，hoteisiki の呼び出しで len が呼び出されます。"
   ]
  },
  {
   "cell_type": "code",
   "execution_count": 12,
   "metadata": {},
   "outputs": [
    {
     "data": {
      "text/plain": [
       "3"
      ]
     },
     "execution_count": 12,
     "metadata": {},
     "output_type": "execute_result"
    }
   ],
   "source": [
    "foo = len\n",
    "foo([1,2,3])"
   ]
  },
  {
   "cell_type": "markdown",
   "metadata": {},
   "source": [
    "実際、\n",
    "```\n",
    "f(10)\n",
    "```\n",
    "という関数呼び出しは、変数 f に代入されている関数を 10 という引数に適用するという意味を持ちます。関数は def によって定義を行うとともにその名前の変数に代入が行われ、それ以外の値（オブジェクト）は、= の右辺の値が計算されて，左辺の変数に代入が行われるという違いがありますが、関数とそれ以外の値は、それ以外では同じように扱われます。\n",
    "\n",
    "関数の引数に、別の関数を渡して、仮変数に関数を代入することもできます。次の関数は、引数でもらった関数を 10 に対して適応した値を返します。"
   ]
  },
  {
   "cell_type": "code",
   "execution_count": 6,
   "metadata": {},
   "outputs": [
    {
     "name": "stdout",
     "output_type": "stream",
     "text": [
      "100 1000\n",
      "10.0\n"
     ]
    }
   ],
   "source": [
    "def at_10(f):\n",
    "    return f(10)\n",
    "\n",
    "def square(x):\n",
    "    return x*x\n",
    "\n",
    "def cube(x):\n",
    "    return x*x*x\n",
    "\n",
    "print(at_10(square), at_10(cube))\n",
    "print(at_10(float))"
   ]
  },
  {
   "cell_type": "markdown",
   "metadata": {},
   "source": [
    "**練習問題60** 関数 f と自然数 n と初期値 x をもらい、f(f(..(f(x)..)) という形で f を n 回繰り返し適用した結果の値を返す関数 repeat(f, n, x) を作ろう。n のデフォルトを 2, x のデフォルトを 0.5 にしよう。"
   ]
  },
  {
   "cell_type": "markdown",
   "metadata": {},
   "source": [
    "**練習問題70** \n",
    "関数 f と数 target と n をもらい，f(x) = target となる整数 x を 0 から n までの間で探す関数 hoteishiki2 を作ろう。解がない時には，-1 を返すことにしよう。target はデフォルトで 10000 に,\n",
    "n は1000 にしよう。square, cube を適用しよう。"
   ]
  },
  {
   "cell_type": "markdown",
   "metadata": {},
   "source": [
    "**練習問題80** 第1回の資料を見ながら，関数 f のグラフを，s から e の間を d 等分し，それぞれでの値を計算しながら f のグラフを書く関数 showfun を作ろう。import 文は，関数の外に置いておく方がよい。いろんなグラフを描いてみよう。"
   ]
  },
  {
   "cell_type": "raw",
   "metadata": {},
   "source": [
    "showfun(square,-1)\n",
    "showfun(np.sin, 0, 10*np.pi, 1000)"
   ]
  },
  {
   "cell_type": "markdown",
   "metadata": {},
   "source": [
    "<img src = square.jpg>\n",
    "<img src = sin.jpg>"
   ]
  },
  {
   "cell_type": "markdown",
   "metadata": {},
   "source": [
    "### ラムダ式"
   ]
  },
  {
   "cell_type": "markdown",
   "metadata": {},
   "source": [
    "引数をもらって一つの式を計算してその値を返すだけの小さな関数は、ラムダ式という記法で名前をつけずに簡単に定義することができます。ラムダ式は、\n",
    "`lambda 変数:式` という形で、定義します。"
   ]
  },
  {
   "cell_type": "code",
   "execution_count": 46,
   "metadata": {},
   "outputs": [
    {
     "data": {
      "text/plain": [
       "9"
      ]
     },
     "execution_count": 46,
     "metadata": {},
     "output_type": "execute_result"
    }
   ],
   "source": [
    "double =lambda x: x*x\n",
    "double(3)"
   ]
  },
  {
   "cell_type": "markdown",
   "metadata": {},
   "source": [
    "ラムダ式を用いると，関数を返す関数も作れます。次の関数は、引数で与えられた関数に対して、それを2回繰り返し適用するという関数を返すものです。"
   ]
  },
  {
   "cell_type": "code",
   "execution_count": 75,
   "metadata": {},
   "outputs": [
    {
     "data": {
      "text/plain": [
       "12"
      ]
     },
     "execution_count": 75,
     "metadata": {},
     "output_type": "execute_result"
    }
   ],
   "source": [
    "def doublefun(f):\n",
    "    return (lambda x:f(f(x)))\n",
    "\n",
    "g = doublefun(lambda x: x+1)\n",
    "   # g は、x をもらい、x + 2 を返すことになる。\n",
    "g(10)"
   ]
  },
  {
   "cell_type": "markdown",
   "metadata": {},
   "source": [
    "**練習問題** いろんな関数をラムダ式として書いて，showfun 関数で描画してみよう。"
   ]
  },
  {
   "cell_type": "markdown",
   "metadata": {},
   "source": [
    "**練習問題** 関数 f と n をもらい，方程式 f(x) = 0 の整数解を 0 から n-1 までの間で求める関数 hoteishiki3 を作ろう。"
   ]
  },
  {
   "cell_type": "markdown",
   "metadata": {},
   "source": [
    "**練習問題20** 練習問題10 のrepeat を用いて、関数 f と自然数 n をもらい、f の n 回合成関数を返す関数を作ろう。"
   ]
  },
  {
   "cell_type": "markdown",
   "metadata": {},
   "source": [
    "**練習問題90** それを用いて、f(y) = 4y(1-y) に対して、g(y) = f(f(y)), \n",
    "h(y) = f(f(f(y))) という関数を定義し、[0,1] 区間でのそれらのグラフを描いてみよう。"
   ]
  },
  {
   "cell_type": "markdown",
   "metadata": {},
   "source": [
    "**練習問題100** $y = f^n(x)$ のグラフを，n=1 から 10 まで描画しよう。\n",
    "n=1 から n=10 まで重ねて1枚に描画しよう。\n",
    "f(y) = ay(1-y) の a として、いろんな値を設定してみよう。例えば、a = 2, 3.0, 3.5, 4, 4.5 ではどうなるか。"
   ]
  },
  {
   "cell_type": "markdown",
   "metadata": {},
   "source": [
    "# 練習問題"
   ]
  },
  {
   "cell_type": "markdown",
   "metadata": {},
   "source": [
    "**練習問題** ニュートン法という、$\\sqrt{x}$ を高速に求める方法がある。これは、$f(x) = x^2-2$ という関数に対して $f(x) = 0$ となる点を求めればいいので、解からあまり遠くない適当な値 $u$ (例えば 2) から初めて、$y=f(x)$ の$(u, f(u))$ での接線と $x$ 軸の交点を求め、それを新しい $u$ にして、ということを繰り返せば、高速に $f(u) = 0$ となる $u$ に近づくという方法である。次のように f(x) と df(x) が定義されているとして、u = 2 から初めて、この手順を 10 回繰り返し、u の値がどう変化するかを求めるプログラムを書こう。また、何回繰り返せば十分に解に近くなるかは分からない(発散して求まらないする場合もある)ので、繰り返しが 1000 回になるか、前回と今の u の値の差がある値 epsilon (例えば、epsilon=0.000001) より小さくなったら繰り返しを打ち切るようにして,\n",
    "f と df をもらって、f(x)=0 の解を求めるプログラム newton を書こう。(for 文は 1000 回まわして、その間に近似が十分近くなれば、break しよう。) それを用いて、2 の 10 乗根の近似値を求めてみよう。\n",
    "\n",
    "    "
   ]
  },
  {
   "cell_type": "code",
   "execution_count": null,
   "metadata": {},
   "outputs": [],
   "source": [
    "def f(x):\n",
    "    return(x**2 - 2)\n",
    "def df(x):\n",
    "    return(2*x)"
   ]
  },
  {
   "cell_type": "markdown",
   "metadata": {},
   "source": [
    "**練習問題** df が与えられていなかったとすると、ニュートン法は使えないか？どうすればいいか？\n",
    "f をもらって、微分の定義に基づいて差分的に df の近似を返す関数を作ろう。それと、ニュートン法と合わせよう。"
   ]
  },
  {
   "cell_type": "markdown",
   "metadata": {},
   "source": [
    "**練習問題** newton(f, df) を、初期値 x と近似の範囲 epsilon もオプションでとるようにしよう。Newton 法では、ある解に十分近い解から始めれば、その解が求まる。f(x)=x(x-1)(x+1) に対してニュートン法を用いて、そのことを確かめよう。matplotlib で、\n",
    "```\n",
    "plt.scatter(x, y, s=0.01, c=\"red\") \n",
    "```\n",
    "とすると、(x, y) に s の大きさで赤色の点をうつことができる。\n",
    "```\n",
    "help(plt.scatter)\n",
    "```\n",
    "で scatter の使い方を確認しよう。その上で、f が与えられたら、f と df のグラフを描き、(x,0) に色点をうち、x を起点としたニュートン法がどの解に収束するかで色分けをしよう。"
   ]
  },
  {
   "cell_type": "markdown",
   "metadata": {},
   "source": [
    "**練習問題** Newton 法で、いろんな関数を用いた方程式の解を求めてみよう。例えば、2 の5乗根を求めてみよう。f(x)= arctan(x) に対して Newton 法を適用してみよう。Newton 法が収束しないのは、どのような初期値の時か？\n",
    "数学的な関数は、math モジュールに用意されている。モジュールの利用方法は、この文章の先頭を参照。\n",
    "\n",
    "https://docs.python.org/ja/3/library/math.html"
   ]
  },
  {
   "cell_type": "markdown",
   "metadata": {},
   "source": [
    "**練習問題** 関数 $f$ をもらい、その定積分 $\\int_0^1{f(x) dx}$ の近似を求めるプログラム integral を書こう。[0,1] を 1000 分割して、短冊状に足し算を行えば$(\\sum_{k=0}^n{f(k/1000)/1000)}$ 求まるはずである。積分の範囲を a, b とし、分割数を n とし、a, b, n はデフォルトの値を持つ引数にしよう。また、台形状に近似を行えば、よりよい近似になるし、上や下に凸な関数なら、近似値を上からと下からの近似のペアとして与えられるはずである。そのことも考えよう。"
   ]
  },
  {
   "cell_type": "markdown",
   "metadata": {},
   "source": [
    "**練習問題** 微分、積分などを、近似でなく数式処理として行うライブラリ Sympy の使い方について、ネットなどで調べて勉強しよう。"
   ]
  }
 ],
 "metadata": {
  "kernelspec": {
   "display_name": "Python 3.10.7 ('.venv': venv)",
   "language": "python",
   "name": "python3"
  },
  "language_info": {
   "codemirror_mode": {
    "name": "ipython",
    "version": 3
   },
   "file_extension": ".py",
   "mimetype": "text/x-python",
   "name": "python",
   "nbconvert_exporter": "python",
   "pygments_lexer": "ipython3",
   "version": "3.10.7"
  },
  "vscode": {
   "interpreter": {
    "hash": "974709e487bf293398b143f4ac30c818c195e8f1cd4c27b889061cadacbd70d3"
   }
  }
 },
 "nbformat": 4,
 "nbformat_minor": 4
}
