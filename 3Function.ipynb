{
 "cells": [
  {
   "cell_type": "markdown",
   "metadata": {},
   "source": [
    "# 第3回　If 文，および，関数について\n",
    "\n"
   ]
  },
  {
   "cell_type": "markdown",
   "metadata": {},
   "source": [
    "***\n",
    "\n",
    "# モジュールと乱数\n",
    "\n",
    "呼び出すたびにランダムな値を返してくれる関数は，実用上も，おもしろい例題を考える上でも有用です。\n",
    "乱数を返す関数は，random というモジュールに納められています。モジュールは，他のプログラムから呼び出される\n",
    "ことを目的に書かれたプログラムで，そのプログラムの書かれたファイル名がモジュール名になります。モジュールには、python　システムに付随して最初から提供されているもの，他の人が作成して公開しているもの，そして，自分で作るものがあります。\n",
    "random モジュールは，python システムと共に最初から提供されているモジュールです。\n",
    "\n",
    "モジュールを利用するには，最初に \n",
    "```\n",
    "import モジュール名\n",
    "``` \n",
    "という宣言でそのモジュールに定義された名前を取り込む必要があります。\n",
    "これにより，モジュール内の関数は，\n",
    "```\n",
    "モジュール名.関数名\n",
    "```\n",
    "という名前で利用できるようになります。\n",
    "random モジュールには，次のような関数が定義されています。\n",
    "```\n",
    "randrange(to)  0 以上 to 未満の整数の乱数を返す。\n",
    "randrange(from, to)  from 以上 to 未満の整数の乱数を返す。\n",
    "uniform(from, to)    from 以上 to 以下の一様な実数の乱数を返す\n",
    "```"
   ]
  },
  {
   "cell_type": "code",
   "execution_count": null,
   "metadata": {},
   "outputs": [],
   "source": [
    "import random\n",
    "random.randrange(0,10)"
   ]
  },
  {
   "cell_type": "code",
   "execution_count": null,
   "metadata": {},
   "outputs": [],
   "source": [
    "for i in range(10):\n",
    "    print(random.randrange(10))"
   ]
  },
  {
   "cell_type": "markdown",
   "metadata": {},
   "source": [
    "***\n",
    "\n",
    "# If 文"
   ]
  },
  {
   "cell_type": "markdown",
   "metadata": {},
   "source": [
    "## bool 型\n",
    "\n",
    "**bool** は，**真偽値**を表す型です。真偽値とは，True と False の２つの値です。例えば，変数 x の値が 3 の時、2 < x は正しいので True ですが，2 > x は間違いなので False です。このように，< は，数を２つもらい，真偽値を返す演算子です。同様の演算子に，== (両辺が同じものかどうか調べる)，<= (小なりイコール) があります。\n"
   ]
  },
  {
   "cell_type": "code",
   "execution_count": null,
   "metadata": {},
   "outputs": [],
   "source": [
    "x = 2\n",
    "a = (x < 3)\n",
    "a"
   ]
  },
  {
   "cell_type": "code",
   "execution_count": null,
   "metadata": {},
   "outputs": [],
   "source": [
    "2 > 3"
   ]
  },
  {
   "cell_type": "code",
   "execution_count": null,
   "metadata": {},
   "outputs": [],
   "source": [
    "x = 30\n",
    "10 < x  <= 20  # このような不等式の書き方もあり"
   ]
  },
  {
   "cell_type": "markdown",
   "metadata": {},
   "source": [
    "リスト(などの iterable) がある値を含んでいるかどうかは、in という演算子で調べることができます。"
   ]
  },
  {
   "cell_type": "code",
   "execution_count": null,
   "metadata": {},
   "outputs": [],
   "source": [
    "6 in [1,2,3,4,5]"
   ]
  },
  {
   "cell_type": "code",
   "execution_count": null,
   "metadata": {},
   "outputs": [],
   "source": [
    "print(6 in range(1,10,2))\n",
    "print(list(range(1, 10, 2)))"
   ]
  },
  {
   "cell_type": "markdown",
   "metadata": {},
   "source": [
    "真偽値をもらい真偽値を返す演算子として`and`と`or`があります。\n",
    "```\n",
    "   True and True = True\n",
    "   True and False = False\n",
    "   False and True = False\n",
    "   False and False = False\n",
    "```\n",
    "です。また、\n",
    "```\n",
    "   True or True = True\n",
    "   True or False = True\n",
    "   False or True = True\n",
    "   False or False = False\n",
    "```\n",
    "です。よって、条件を二つ `and` でつなぐと両方なりたつという条件を意味する式が、\n",
    " `or` でつないぐと，少なくともどちらか一方が成り立つという条件を意味する式が作れます。\n",
    "`A and B` を `A & B`, `A or B` を `A | B` と書くこともできます。また、否定を表す not\n",
    "という 1 引数の演算子もあります。\n",
    "```\n",
    "    not True = False\n",
    "    not False = True\n",
    "```\n",
    "また、`!=` は` == ` の否定を表します。 つまり、 `x != y` は` not (x == y)` です。\n"
   ]
  },
  {
   "cell_type": "code",
   "execution_count": null,
   "metadata": {},
   "outputs": [
    {
     "data": {
      "text/plain": [
       "True"
      ]
     },
     "metadata": {},
     "output_type": "display_data"
    }
   ],
   "source": [
    "x = 2\n",
    "y = 4\n",
    "(x * x == y) and (x > 0)  # x*x=y であり，かつ，x > 0"
   ]
  },
  {
   "cell_type": "code",
   "execution_count": null,
   "metadata": {},
   "outputs": [
    {
     "data": {
      "text/plain": [
       "False"
      ]
     },
     "metadata": {},
     "output_type": "display_data"
    }
   ],
   "source": [
    "(x * x == y) and (x < 0)"
   ]
  },
  {
   "cell_type": "code",
   "execution_count": null,
   "metadata": {},
   "outputs": [
    {
     "data": {
      "text/plain": [
       "False"
      ]
     },
     "metadata": {},
     "output_type": "display_data"
    }
   ],
   "source": [
    "(x * x == y) or (x in [1,3,5])\n"
   ]
  },
  {
   "cell_type": "code",
   "execution_count": null,
   "metadata": {},
   "outputs": [
    {
     "data": {
      "text/plain": [
       "False"
      ]
     },
     "metadata": {},
     "output_type": "display_data"
    }
   ],
   "source": [
    "not (x == 2)"
   ]
  },
  {
   "cell_type": "markdown",
   "metadata": {},
   "source": [
    "`x and y` は，x が false なら，y は計算されずに，false が返されます。\n",
    "よって，次のような書き方も可能です。同様に，\n",
    "`x or y` は，x が true なら，y は計算されずに，true が返されます。"
   ]
  },
  {
   "cell_type": "code",
   "execution_count": null,
   "metadata": {},
   "outputs": [],
   "source": [
    "x = [1,3,5]\n",
    "len(x) >= 3 and x[2] == 5\n",
    "\n",
    "x = [1,3]\n",
    "len(x) >= 3 and x[2] == 5"
   ]
  },
  {
   "cell_type": "markdown",
   "metadata": {},
   "source": [
    "**練習問題10** 次の条件を，式で表そう。変数の値をいろいろ設定して，正しさを確認しよう。\n",
    "1.  x は 2 以外の偶数。\n",
    "2.  mon は，小の月 (2, 4, 6, 9, 11)。\n",
    "3.  y 年は，閏年。（4の倍数であり 100 の倍数ではない年。ただし，例外的に，400 の倍数は閏年。）\n",
    "4.  点 (x, y) は，(200, 200) を左上にした，(100, 50) の長方形内にある。\n",
    "5.  リスト l の長さは 5 以上で，3 を要素に含む。"
   ]
  },
  {
   "cell_type": "markdown",
   "metadata": {},
   "source": [
    "## if 文\n",
    "\n",
    "if 文を用いると，ある条件が満たされた時だけ処理を行うことが可能になります。if 文は，以下のように書きます。\n",
    "```\n",
    "if(条件式):\n",
    "     本体\n",
    "```\n",
    "\n",
    "本体のところは，4 文字インデントします。同じだけインデントされた範囲が，本体になります。"
   ]
  },
  {
   "cell_type": "code",
   "execution_count": null,
   "metadata": {},
   "outputs": [],
   "source": [
    "for i in range(10):           # 10 回繰り返す\n",
    "    x = random.randrange(10)  # 10 までの乱数をとってきて\n",
    "    if(x >= 7):               # その値が 7 以上なら　　　\n",
    "        print(i, x)           # i と x を表示する\n",
    "        \n",
    "# 何回も実行してみよう"
   ]
  },
  {
   "cell_type": "markdown",
   "metadata": {},
   "source": [
    "If 文は，条件を満たさなかった時に実行することも書いた\n",
    "\n",
    "```\n",
    "if(条件式):\n",
    "     本体1\n",
    "else:\n",
    "     本体2\n",
    "```\n",
    "という形もあります。"
   ]
  },
  {
   "cell_type": "code",
   "execution_count": null,
   "metadata": {},
   "outputs": [],
   "source": [
    "for i in range(10):\n",
    "    x = random.randrange(10)\n",
    "    if(x >= 7):\n",
    "        print(f\"x = {x}, あたり\")\n",
    "    else:\n",
    "        print(f\"x = {x}, はずれ\")"
   ]
  },
  {
   "cell_type": "markdown",
   "metadata": {},
   "source": [
    "さらに，次の形で，いくつかの条件のどれが成り立つかで分岐もできます。\n",
    "```\n",
    "if(条件式1):\n",
    "     条件式1が成り立つ時に実行する内容\n",
    "elif(条件式2):\n",
    "     条件式1は成り立たないが条件式2は成り立つ時に実行する内容\n",
    "elif(条件式3):\n",
    "     ...\n",
    "...\n",
    "else:\n",
    "    どれも成り立たない時に実行する内容\n",
    "```"
   ]
  },
  {
   "cell_type": "markdown",
   "metadata": {},
   "source": [
    "条件式のところには、通常は bool 型の値を書きますが、Python の全てのオブジェクトは真か偽のどちらかを意味することになっており、任意のオブジェクトを条件式として書くことができます。例えば、int の値は 0 だけが False, それ以外は True を意味します。リストは、空リスト [] のみが　False を意味します。　　　"
   ]
  },
  {
   "cell_type": "code",
   "execution_count": null,
   "metadata": {},
   "outputs": [],
   "source": [
    "x = 0\n",
    "if(x!= 0):\n",
    "    print(\"Yes!\")\n",
    "else:\n",
    "    print(\"No!\")"
   ]
  },
  {
   "cell_type": "code",
   "execution_count": null,
   "metadata": {},
   "outputs": [],
   "source": [
    "x = 0\n",
    "if(x):\n",
    "    print(\"Yes!\")\n",
    "else:\n",
    "    print(\"No!\")"
   ]
  },
  {
   "cell_type": "markdown",
   "metadata": {},
   "source": [
    "**練習問題20** 与えられた数が素数であるかどうかを bool 型の値として返す関数 prime を作ろう。\n",
    "素数とは，2 以上でその数未満である約数を持たない数である。約数かどうかは，割ったあまり (`%` 演算子) が 0 かどうかで判断できる。"
   ]
  },
  {
   "cell_type": "markdown",
   "metadata": {},
   "source": [
    "**練習問題30** 2 から x までの素数の個数を返す関数 numprime(x) を作ろう。"
   ]
  },
  {
   "cell_type": "markdown",
   "metadata": {},
   "source": [
    "**練習問題40**: 0 以上 1 未満の乱数 x, y を何度も生成して、$x^2 + y^2 < 1$ となる確率を求めることにより、円周率の近似値を求めるプログラムを作成しよう。"
   ]
  },
  {
   "cell_type": "markdown",
   "metadata": {},
   "source": [
    "**練習問題** 先週の ライプニッツの公式を用いてπの近似値を求めるプログラムを、if 文で書いたらどうなるか。"
   ]
  },
  {
   "cell_type": "markdown",
   "metadata": {},
   "source": [
    "## if 式\n",
    "\n",
    "ある条件を満たしてたらある値，そうでなければ，他の値という値を表現することができます。"
   ]
  },
  {
   "cell_type": "code",
   "execution_count": null,
   "metadata": {},
   "outputs": [],
   "source": [
    "x = 1\n",
    "y = 10 if x > 0 else 20\n",
    "print(y)\n",
    "\n",
    "x = 0\n",
    "y = 10 if x > 0 else 20\n",
    "print(y)"
   ]
  },
  {
   "cell_type": "markdown",
   "metadata": {},
   "source": [
    "***\n",
    "\n",
    "# while 文 \n",
    "\n",
    "ある条件が満たされる間，あることを繰り返すということを表現するのに，while 文を用います。\n",
    "1 から 100 までの和を求めるプログラムを while 文を用いて書いたものです。"
   ]
  },
  {
   "cell_type": "code",
   "execution_count": null,
   "metadata": {},
   "outputs": [],
   "source": [
    "i = 0\n",
    "x = 0\n",
    "while (i < 100):\n",
    "    x = x + i\n",
    "    i = i + 1 \n",
    "print(x)\n"
   ]
  },
  {
   "cell_type": "markdown",
   "metadata": {},
   "source": [
    "このように、同じプログラムでも、for 文で書いたり while 文で書いたりできます。繰り返し回数の上限を特に定めない繰り返しは、while 文で書く必要があります。その場合には、無限ループに陥る可能性があります。"
   ]
  },
  {
   "cell_type": "code",
   "execution_count": null,
   "metadata": {},
   "outputs": [],
   "source": [
    "def forever():\n",
    "    i = 0\n",
    "    while (i < 100):\n",
    "        i = i-1\n",
    "    return(10000)  # この文は実行されない\n",
    "\n",
    "# forever()  # コメントをはずして実行してみよう\n",
    "# 無限ループに陥ったプログラムは、上部の四角ボタンで終了する。\n"
   ]
  },
  {
   "cell_type": "markdown",
   "metadata": {},
   "source": [
    "**練習問題50** 数 n をもらい、n より大きな素数の中でもっとも小さなものを返す関数を作ろう。"
   ]
  },
  {
   "cell_type": "markdown",
   "metadata": {},
   "source": [
    "**練習問題** (コラッツ予想) 次の関数 f を考える\n",
    "$$\n",
    "f(n) = \\left\\{ \\begin{array}{ll}3n+1 & \\text{($n$ が奇数の時)}\\\\\n",
    "                              n/2 & \\text{($n$ が偶数の時)}\\end{array}\\right.\n",
    "$$\n",
    "どんな正の整数 $n$ から始めても、n, f(n), f(f(n)), ... を順に計算していくと、1 にたどり着くと予想されている。 \n",
    "\n",
    "1. n をもらい、n, f(n), f(f(n)),... を 1 にたどり着くまで表示するプログラムを作ろう。\n",
    "1. n = 27 で確かめてみよ。\n",
    "1. n をもらい、この列が 1 になるまでの長さを求めるプログラムを書こう。\n",
    "1. それを n=1, 2, 3, 4, ... と繰り返していき、今まで現れた最長の長さ以上の長さが得られた時には、その n の値と、その時の長さを表示するプログラムを作ろう。\n"
   ]
  },
  {
   "cell_type": "markdown",
   "metadata": {},
   "source": [
    "***\n",
    "\n",
    "# break 文 と continue 文\n",
    "\n",
    "## break 文"
   ]
  },
  {
   "cell_type": "markdown",
   "metadata": {},
   "source": [
    "for や while などの繰り返し文から、繰り返しの途中でぬけるには、break 文を用います。\n",
    "break を実行すると、break を含む一番小さい for 文や while 文の実行を終了します。\n",
    "次のプログラムは、$0 \\leq x < 100$ の範囲内で、 $x^2 -6 x - 72 = 0$ の整数解を\n",
    "一つ求めるものです。\n"
   ]
  },
  {
   "cell_type": "code",
   "execution_count": null,
   "metadata": {},
   "outputs": [],
   "source": [
    "def hoteishiki():\n",
    "    xx = -1\n",
    "    for x in range(100):\n",
    "        if(x**2 - 6*x - 72 == 0):\n",
    "            xx = x\n",
    "            break\n",
    "    if(xx == -1):\n",
    "        print(\"解なし\")\n",
    "    else:\n",
    "        print(xx)\n",
    "\n",
    "hoteishiki()        "
   ]
  },
  {
   "cell_type": "markdown",
   "metadata": {},
   "source": [
    "for 文を break で終了したのか、通常に終了したのかを判断するために xx という変数を用いていますが、for 文に else: をつけて、通常終了時の処理を書くことができます。\n"
   ]
  },
  {
   "cell_type": "code",
   "execution_count": null,
   "metadata": {},
   "outputs": [],
   "source": [
    "def hoteishiki1():\n",
    "    for x in range(100):\n",
    "        if(x**2 - 6*x - 72 == 0):\n",
    "            print(x)\n",
    "            break\n",
    "    else:\n",
    "        print(\"解なし\")\n",
    "\n",
    "hoteishiki1()        "
   ]
  },
  {
   "cell_type": "markdown",
   "metadata": {},
   "source": [
    "## continue 文"
   ]
  },
  {
   "cell_type": "markdown",
   "metadata": {},
   "source": [
    "continue 文を実行すると，その後の部分を実行せずに，ループの先頭に戻ります。上のプログラムに，次のように continue 文を追加すると，奇数のみについて探すようになります。"
   ]
  },
  {
   "cell_type": "code",
   "execution_count": null,
   "metadata": {},
   "outputs": [],
   "source": [
    "def hoteishiki():\n",
    "    xx = -1\n",
    "    for x in range(100):\n",
    "        if (x % 2 == 0):\n",
    "            continue\n",
    "        if(x**2 - 6*x - 72 == 0):\n",
    "            xx = x\n",
    "            break\n",
    "    if(xx == -1):\n",
    "        print(\"解なし\")\n",
    "    else:\n",
    "        print(xx)\n",
    "\n",
    "hoteishiki()        "
   ]
  },
  {
   "cell_type": "markdown",
   "metadata": {},
   "source": [
    "***\n",
    "\n",
    "# 関数について，より詳しく\n",
    "\n",
    "## デフォルトの引数とキー引数"
   ]
  },
  {
   "cell_type": "markdown",
   "metadata": {},
   "source": [
    "関数は，手続きに名前をつけて，後で呼び出せるようにしたものでした。引数をとる関数を定義しておくと，\n",
    "関数に引数として値を渡して，それを用いた計算を行わせることができました。"
   ]
  },
  {
   "cell_type": "code",
   "execution_count": null,
   "metadata": {},
   "outputs": [],
   "source": [
    "def foo(x):\n",
    "    y = x * x\n",
    "    return(y)\n",
    "print(foo(2))\n",
    "print(foo(3))"
   ]
  },
  {
   "cell_type": "markdown",
   "metadata": {},
   "source": [
    "上の例では，関数 foo に 2 と 3 を引数として渡しています。実行時に渡す値と区別するために，\n",
    "foo が引数を受け取る変数 x は仮引数ということがあります。「foo に引数 2 を渡して実行すると，\n",
    "仮引数 x に 2 が代入された状態でプログラムが実行されます。」という具合です。"
   ]
  },
  {
   "cell_type": "markdown",
   "metadata": {},
   "source": [
    "オプション引数といって，関数定義の時に、引数が与えられなかった時の仮引数のデフォルトの値を与えておくことができます。下の例では x は必須引数、y,z はオプション引数となります。"
   ]
  },
  {
   "cell_type": "code",
   "execution_count": null,
   "metadata": {},
   "outputs": [],
   "source": [
    "def foo(x, y=100,z=300):\n",
    "    return(x + y+z)\n",
    "\n",
    "print(foo(2,3,4))\n",
    "print(foo(2, 3))\n",
    "print(foo(2))"
   ]
  },
  {
   "cell_type": "markdown",
   "metadata": {},
   "source": [
    "また、引数は、場所だけではなく、キー(すなわち、関数定義の中での引数名)で指定することができます。"
   ]
  },
  {
   "cell_type": "code",
   "execution_count": null,
   "metadata": {},
   "outputs": [],
   "source": [
    "print(foo(2,z=4))\n",
    "print(foo(2,z=4,y=3))\n",
    "print(foo(z = 2, x = 3))\n"
   ]
  },
  {
   "cell_type": "markdown",
   "metadata": {},
   "source": [
    "\n",
    "\n",
    "## 関数の引数としての関数"
   ]
  },
  {
   "cell_type": "markdown",
   "metadata": {},
   "source": [
    "関数の名前は，実は，他の変数と同じ変数です。関数とそれ以外の値は、同じように変数に代入されます。例えば，foo = 10 を実行すると，foo を実行できなくなります。\n",
    "\n",
    "\n"
   ]
  },
  {
   "cell_type": "code",
   "execution_count": null,
   "metadata": {},
   "outputs": [],
   "source": [
    "print(foo(10))\n",
    "foo = 10\n",
    "# print(foo(10))  # これを実行すると，エラーになる。\n"
   ]
  },
  {
   "cell_type": "markdown",
   "metadata": {},
   "source": [
    "また，bar = len という代入で，bar という変数に関数 len が代入され,\n",
    "それ以降は，bar の呼び出しで len が呼び出されます。"
   ]
  },
  {
   "cell_type": "code",
   "execution_count": null,
   "metadata": {},
   "outputs": [],
   "source": [
    "bar = len\n",
    "bar([1,2,3])"
   ]
  },
  {
   "cell_type": "markdown",
   "metadata": {},
   "source": [
    "実際、\n",
    "```\n",
    "f(10)\n",
    "```\n",
    "という関数呼び出しは、変数 f に代入されている関数を 10 という引数に適用するという意味を持ちます。\n",
    "関数とそれ以外の値は，それを変数に代入する時に，\n",
    "関数は def によって定義を行うとともにその名前の変数に代入が行われ、それ以外の値（オブジェクト）は、= の右辺の値が計算されて，左辺の変数に代入が行われるという違いがありますが、それ以外では同じように扱われます。\n",
    "\n",
    "関数の引数に、別の関数を渡して、仮変数に関数を代入することもできます。次の関数は、引数でもらった関数を 10 に対して適応した値を返します。"
   ]
  },
  {
   "cell_type": "code",
   "execution_count": null,
   "metadata": {},
   "outputs": [],
   "source": [
    "def at_10(f):\n",
    "    return f(10)\n",
    "\n",
    "def square(x):\n",
    "    return x*x\n",
    "\n",
    "def cube(x):\n",
    "    return x*x*x\n",
    "\n",
    "print(at_10(square), at_10(cube))\n",
    "print(at_10(float))"
   ]
  },
  {
   "cell_type": "markdown",
   "metadata": {},
   "source": [
    "**練習問題60** 関数 f と自然数 n と初期値 x をもらい、f(f(..(f(x)..)) という形で f を n 回繰り返し適用した結果の値を返す関数 repeat(f, n, x) を作ろう。n のデフォルトを 2, x のデフォルトを 0.5 にしよう。"
   ]
  },
  {
   "cell_type": "markdown",
   "metadata": {},
   "source": [
    "**練習問題70** \n",
    "関数 f と数 target と n をもらい，f(x) = target となる整数 x を 0 から n までの間で探す関数 hoteishiki2 を作ろう。解がない時には，-1 を返すことにしよう。target はデフォルトで 10000 に,\n",
    "n は1000 にしよう。square, cube を適用しよう。"
   ]
  },
  {
   "cell_type": "markdown",
   "metadata": {},
   "source": [
    "**練習問題80** 第1回の資料を見ながら，関数 f のグラフを，s から e の間を d 等分し，それぞれでの値を計算しながら f のグラフを書く関数 showfun を作ろう。import 文は，関数の外に置いておく方がよい。いろんなグラフを描いてみよう。"
   ]
  },
  {
   "cell_type": "raw",
   "metadata": {},
   "source": [
    "showfun(square,-1)\n",
    "showfun(np.sin, 0, 10*np.pi, 1000)"
   ]
  },
  {
   "cell_type": "markdown",
   "metadata": {},
   "source": [
    "<img src = square.jpg>\n",
    "<img src = sin.jpg>"
   ]
  },
  {
   "cell_type": "markdown",
   "metadata": {},
   "source": [
    "### ラムダ式"
   ]
  },
  {
   "cell_type": "markdown",
   "metadata": {},
   "source": [
    "引数をもらって一つの式を計算してその値を返すだけの小さな関数は、ラムダ式という記法で名前をつけずに簡単に定義することができます。ラムダ式は、\n",
    "`lambda 変数:式` という形で、定義します。"
   ]
  },
  {
   "cell_type": "code",
   "execution_count": null,
   "metadata": {},
   "outputs": [],
   "source": [
    "double =lambda x: x*x\n",
    "double(3)"
   ]
  },
  {
   "cell_type": "markdown",
   "metadata": {},
   "source": [
    "このようにラムダ式で定義された関数を変数に代入したのでは，def で名前をつけて定義したのと変わりません。ラムダ式を用いて関数を定義する利点は，\n",
    "他の関数の引数として渡す時に，いちいち def で定義して名前をつけることなく，\n",
    "その場で書けるということです。"
   ]
  },
  {
   "cell_type": "code",
   "execution_count": null,
   "metadata": {},
   "outputs": [],
   "source": [
    "at_10(lambda x: x * (1 - x))"
   ]
  },
  {
   "cell_type": "markdown",
   "metadata": {},
   "source": [
    "ラムダ式を用いると，関数を返す関数も作れます。次の関数は、引数で与えられた関数に対して、それを2回繰り返し適用するという関数を返すものです。"
   ]
  },
  {
   "cell_type": "code",
   "execution_count": null,
   "metadata": {},
   "outputs": [],
   "source": [
    "def doublefun(f):\n",
    "    return (lambda x:f(f(x)))\n",
    "\n",
    "g = doublefun(lambda x: x+1)\n",
    "   # g は、x をもらい、x + 2 を返すことになる。\n",
    "g(10)"
   ]
  },
  {
   "cell_type": "markdown",
   "metadata": {},
   "source": [
    "**練習問題** いろんな関数をラムダ式として書いて，showfun 関数で描画してみよう。"
   ]
  },
  {
   "cell_type": "markdown",
   "metadata": {},
   "source": [
    "**練習問題** 関数 f と n をもらい，方程式 f(x) = 0 の整数解を 0 から n-1 までの間で求める関数 hoteishiki3 を作ろう。\n",
    "それに，いろんな関数をラムダ式で書いて渡してみよう。"
   ]
  },
  {
   "cell_type": "markdown",
   "metadata": {},
   "source": [
    "**練習問題20** 練習問題10 のrepeat を用いて、関数 f と自然数 n をもらい、f の n 回合成関数を返す関数を作ろう。"
   ]
  },
  {
   "cell_type": "markdown",
   "metadata": {},
   "source": [
    "**練習問題90** それを用いて、f(y) = 4y(1-y) に対して、g(y) = f(f(y)), \n",
    "h(y) = f(f(f(y))) という関数を定義し、[0,1] 区間でのそれらのグラフを描いてみよう。"
   ]
  },
  {
   "cell_type": "markdown",
   "metadata": {},
   "source": [
    "**練習問題100** $y = f^n(x)$ のグラフを，n=1 から 10 まで描画しよう。\n",
    "n=1 から n=10 まで重ねて1枚に描画しよう。\n",
    "f(y) = ay(1-y) の a として、いろんな値を設定してみよう。例えば、a = 2, 3.0, 3.5, 4, 4.5 ではどうなるか。"
   ]
  },
  {
   "cell_type": "markdown",
   "metadata": {},
   "source": [
    "# 練習問題"
   ]
  },
  {
   "cell_type": "markdown",
   "metadata": {},
   "source": [
    "**練習問題110** ニュートン法という、$\\sqrt{x}$ を高速に求める方法がある。これは、$f(x) = x^2-2$ という関数に対して $f(x) = 0$ となる点を求めればいいので、解からあまり遠くない適当な値 $u$ (例えば 2) から初めて、$y=f(x)$ の$(u, f(u))$ での接線と $x$ 軸の交点を求め、それを新しい $u$ にして、ということを繰り返せば、高速に $f(u) = 0$ となる $u$ に近づくという方法である。次のように f(x) と df(x) が定義されているとして、u = 2 から初めて、この手順を 10 回繰り返し、u の値がどう変化するかを求めるプログラムを書こう。\n",
    "\n",
    "    "
   ]
  },
  {
   "cell_type": "code",
   "execution_count": null,
   "metadata": {},
   "outputs": [],
   "source": [
    "def f(x):\n",
    "    return(x**2 - 2)\n",
    "def df(x):\n",
    "    return(2*x)"
   ]
  },
  {
   "cell_type": "markdown",
   "metadata": {},
   "source": [
    "**練習問題112** 何回繰り返せば十分に解に近くなるかは分からない(発散して求まらない場合もある)ので、繰り返しが 1000 回になるか、前回と今の u の値の差がある値 epsilon (例えば、epsilon=0.000001) より小さくなったら繰り返しを打ち切るようにして,\n",
    "f と df をもらって、f(x)=0 の解を求めるプログラム newton を書こう。(for 文は 1000 回まわして、その間に近似が十分近くなれば、break しよう。) それを用いて、2 の 10 乗根の近似値を求めてみよう。"
   ]
  },
  {
   "cell_type": "markdown",
   "metadata": {},
   "source": [
    "**練習問題115** df が与えられていなかったとすると、ニュートン法は使えないか？どうすればいいか？\n",
    "f をもらって、微分の定義に基づいて差分的に df の近似を返す関数を作ろう。それと、ニュートン法と合わせよう。"
   ]
  },
  {
   "cell_type": "markdown",
   "metadata": {},
   "source": [
    "**練習問題120**  Newton 法では、ある解に十分近い値から始めれば、その解が求まる。f(x)=x(x-1)(x+1) に対してニュートン法を用いて、そのことを確かめよう。matplotlib で、\n",
    "```\n",
    "plt.scatter(x, y, s=0.01, c=\"red\") \n",
    "```\n",
    "とすると、(x, y) に s の大きさで赤色の点をうつことができる。\n",
    "```\n",
    "help(plt.scatter)\n",
    "```\n",
    "で scatter の使い方を確認しよう。その上で、f が与えられたら、f と df のグラフを描き、(x,0) に色点をうち、x を起点としたニュートン法がどの解に収束するかで色分けをしよう。"
   ]
  },
  {
   "cell_type": "markdown",
   "metadata": {},
   "source": [
    "**練習問題** Newton 法で、いろんな関数を用いた方程式の解を求めてみよう。例えば、2 の5乗根を求めてみよう。f(x)= arctan(x) に対して Newton 法を適用してみよう。Newton 法が収束しないのは、どのような初期値の時か？\n",
    "数学的な関数は、math モジュールに用意されている。モジュールの利用方法は、この文章の先頭を参照。\n",
    "\n",
    "https://docs.python.org/ja/3/library/math.html"
   ]
  },
  {
   "cell_type": "markdown",
   "metadata": {},
   "source": [
    "**練習問題130** 関数 $f$ をもらい、その定積分 $\\int_0^1{f(x) dx}$ の近似を求めるプログラム integral を書こう。[0,1] を 1000 分割して、短冊状に足し算を行えば$(\\sum_{k=0}^n{f(k/1000)/1000)}$ 求まるはずである。積分の範囲を a, b とし、分割数を n とし、a, b, n はデフォルトの値を持つ引数にしよう。また、台形状に近似を行えば、よりよい近似になるし、上や下に凸な関数なら、近似値を上からと下からの近似のペアとして与えられるはずである。そのことも考えよう。"
   ]
  },
  {
   "cell_type": "markdown",
   "metadata": {},
   "source": [
    "**練習問題** 微分、積分などを、近似でなく数式処理として行うライブラリ Sympy の使い方について、ネットなどで調べて勉強しよう。"
   ]
  }
 ],
 "metadata": {
  "kernelspec": {
   "display_name": "Python 3",
   "language": "python",
   "name": "python3"
  },
  "language_info": {
   "codemirror_mode": {
    "name": "ipython",
    "version": 3
   },
   "file_extension": ".py",
   "mimetype": "text/x-python",
   "name": "python",
   "nbconvert_exporter": "python",
   "pygments_lexer": "ipython3",
   "version": "3.11.5"
  }
 },
 "nbformat": 4,
 "nbformat_minor": 4
}
