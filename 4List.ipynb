{
 "cells": [
  {
   "cell_type": "markdown",
   "metadata": {},
   "source": [
    "# 4 リスト\n",
    "\n",
    "[1, 4, 9] という具合に，[] で囲んで要素の列を書いたものを，リストといいました。ここでは，リストを用いて大量のデータを順に処理していく方法などについて説明します。python には、リストによく似た，データの集まりを扱うためのデータ型が複数用意されているので，混同しない必要があります。特に、数学的な演算を書くには、numpy ライブラリの ndarray 型を使うのですが，これは list とよく似ているので注意が必要です。\n",
    "## リストの基本\n",
    "\n",
    "リストの要素は，[n]という形のインデックスをつけてアクセスできました。\n",
    "インデックスに -1 を指定すると，最後の要素になります。\n",
    "インデックスは 0 から始まること，n は含まないことを注意してください。\n",
    "\n",
    "また，sum, len といった関数があり，+ でリストを結合できました。さらに、* を用いると、同じリストの繰り返しも作れます。"
   ]
  },
  {
   "cell_type": "code",
   "execution_count": null,
   "metadata": {},
   "outputs": [
    {
     "name": "stdout",
     "output_type": "stream",
     "text": [
      "91\n",
      "6\n",
      "9\n",
      "36\n",
      "[1, 4, 9, 16, 25, 36, 0, 1, 2]\n",
      "[0, 1, 2, 0, 1, 2, 0, 1, 2]\n"
     ]
    }
   ],
   "source": [
    "sq = [1, 4, 9, 16, 25,36]\n",
    "print(sum(sq))\n",
    "print(len(sq))\n",
    "print(sq[2])\n",
    "print(sq[-1])\n",
    "a = [0,1,2]\n",
    "print(sq + a)\n",
    "print(3*a)\n"
   ]
  },
  {
   "cell_type": "markdown",
   "metadata": {},
   "source": [
    "また，[a:b] という形で範囲(スライス)を指定すると，その部分だけを取り出したリストを作ることができます。\n",
    "a, b は，省略したら，リストの先頭，および最後を指したことになります。a を含み b を含まないというのはインデックスと同じです。これで，リストのコピーも作れます。"
   ]
  },
  {
   "cell_type": "code",
   "execution_count": null,
   "metadata": {},
   "outputs": [
    {
     "name": "stdout",
     "output_type": "stream",
     "text": [
      "[9, 16]\n",
      "[9, 16, 25, 36]\n",
      "[1, 4, 9, 16]\n",
      "[1, 4, 9, 16, 25, 36]\n"
     ]
    }
   ],
   "source": [
    "sq = [1, 4, 9, 16, 25,36]\n",
    "sq24=sq[2:4]\n",
    "sq2=sq[2:]\n",
    "sq4 = sq[:4]       \n",
    "sqs = sq[:]       \n",
    "print(sq24)\n",
    "print(sq2)\n",
    "print(sq4)\n",
    "print(sqs)"
   ]
  },
  {
   "cell_type": "markdown",
   "metadata": {},
   "source": [
    "リストの中身は、代入により変更することができます。"
   ]
  },
  {
   "cell_type": "code",
   "execution_count": null,
   "metadata": {},
   "outputs": [
    {
     "data": {
      "text/plain": [
       "[2, 4, 9, 16]"
      ]
     },
     "execution_count": 52,
     "metadata": {},
     "output_type": "execute_result"
    }
   ],
   "source": [
    "sq = [0,4,9,16]\n",
    "sq[0] = 2\n",
    "sq"
   ]
  },
  {
   "cell_type": "markdown",
   "metadata": {},
   "source": [
    "代入するものをリストにしたり、代入する場所をスライスにしたりすると、要素の挿入とかもできますが、分かりにくい記法なので、あまりおすすめしません。下で述べるメソッドの方が分かりやすいでしょう。"
   ]
  },
  {
   "cell_type": "code",
   "execution_count": null,
   "metadata": {},
   "outputs": [
    {
     "data": {
      "text/plain": [
       "[0, 3, 4, 5, 4, 9.16]"
      ]
     },
     "execution_count": 7,
     "metadata": {},
     "output_type": "execute_result"
    }
   ],
   "source": [
    "sq = [0,4,9.16]\n",
    "sq[1:1] = [3,4,5]\n",
    "sq"
   ]
  },
  {
   "cell_type": "code",
   "execution_count": null,
   "metadata": {},
   "outputs": [
    {
     "data": {
      "text/plain": [
       "[1, 16, 25, 36]"
      ]
     },
     "execution_count": 54,
     "metadata": {},
     "output_type": "execute_result"
    }
   ],
   "source": [
    "sq = [1, 4, 9, 16, 25,36]\n",
    "sq[1:3] = []\n",
    "sq"
   ]
  },
  {
   "cell_type": "markdown",
   "metadata": {},
   "source": [
    "要素を削除するには、del 文を用います。"
   ]
  },
  {
   "cell_type": "code",
   "execution_count": null,
   "metadata": {},
   "outputs": [],
   "source": []
  },
  {
   "cell_type": "code",
   "execution_count": 1,
   "metadata": {},
   "outputs": [
    {
     "data": {
      "text/plain": [
       "[1, 4, 16, 25, 36]"
      ]
     },
     "execution_count": 1,
     "metadata": {},
     "output_type": "execute_result"
    }
   ],
   "source": [
    "sq = [1, 4, 9, 16, 25,36]\n",
    "del sq[2]\n",
    "sq"
   ]
  },
  {
   "cell_type": "markdown",
   "metadata": {},
   "source": [
    "リストを要素とするリストを作ることもできます。\n",
    "リストの中身は、同じ型でも、違う型でもかまいません。"
   ]
  },
  {
   "cell_type": "code",
   "execution_count": null,
   "metadata": {},
   "outputs": [
    {
     "name": "stdout",
     "output_type": "stream",
     "text": [
      "[[1, 4, 7, 10], [2, 5, 8], [3, 6, 9], ['one', 'three', 'five'], 'OneThreeFive']\n",
      "[1, 4, 7, 10]\n",
      "7\n",
      "[[1, 4, 7, 10], [2, 5, 8], [3, -1, 9], ['one', 'three', 'five'], 'OneThreeFive']\n"
     ]
    }
   ],
   "source": [
    "u = [[1,4,7,10],[2,5,8],[3,6,9],[\"one\",\"three\",\"five\"], \"OneThreeFive\"]\n",
    "print(u)\n",
    "print(u[0])  #u の最初の要素は、[1,4,7,10] というリストです。\n",
    "print(u[0][2]) #u の最初の要素の2番目の要素です。\n",
    "u[2][1]= -1\n",
    "print(u)"
   ]
  },
  {
   "cell_type": "markdown",
   "metadata": {},
   "source": [
    "リストに対しては、for 文で繰り返し処理を行うのが基本です。"
   ]
  },
  {
   "cell_type": "markdown",
   "metadata": {},
   "source": [
    "**練習問題1** \n",
    "\n",
    "2. 空でない数のリスト u をもらい，その最大値を返す関数 mymax を書こう。\n",
    "\n",
    "2. 数のリスト u をもらい、その積を返す関数 prod を書こう。\n",
    "\n",
    "5. リスト u と要素 a をもらい， u に a が何回現れるかを返す関数 count を書こう。\n",
    "\n",
    "6. リスト u と要素 a をもらい， u に a が最初に現れたインデックスを返す関数 index を書こう。\n",
    "\n",
    "7. 数のリスト u をもらい、その中の偶数を 0 に置き換える関数 ezeroを書こう。"
   ]
  },
  {
   "cell_type": "markdown",
   "metadata": {},
   "source": [
    "ezero は、引数として与えられたリストそのものを書き換えていることに注意してください。\n",
    "\n",
    "大きさの決まった、定数 a リストの作り方は特に決まっていません。* を用いて作るのがいいでしょう。\n"
   ]
  },
  {
   "cell_type": "code",
   "execution_count": null,
   "metadata": {},
   "outputs": [
    {
     "data": {
      "text/plain": [
       "[0, 0, 0, 0, 0, 0, 0, 0, 0, 0]"
      ]
     },
     "execution_count": 23,
     "metadata": {},
     "output_type": "execute_result"
    }
   ],
   "source": [
    "[0]*10"
   ]
  },
  {
   "cell_type": "markdown",
   "metadata": {},
   "source": [
    "**練習問題3** 0 から 9 までの乱数を 100 回発生させて、それぞれの数の発生回数を求めよう。"
   ]
  },
  {
   "cell_type": "markdown",
   "metadata": {},
   "source": [
    "**練習問題5** 大きさ 100 の，0 から 99 までの数の入ったランダムなリスト f を作ろう。f を，0 から 100 までの整数の集合 S 上の関数とみなそう。f(0), f(f(0)), f(f(f(0))), ... と計算していくと，どこかで必ず繰り返しに入るはずである。繰り返しに入るまでの f の呼び出しの回数を求めよう。また、n を 0 から 99 まで動かした時に$f^n(0)$ として現れる数の個数を求めよう。\n",
    "fの呼び出しの回数は、できるだけ少なくしよう。"
   ]
  },
  {
   "cell_type": "markdown",
   "metadata": {},
   "source": [
    "**練習問題** 今年の1 月 1 日は土曜日である。このことを用いて、数 m, n をもらい、m 月 n 日が何曜日かを返す wday という関数を作ろう。第2回に作った mon というリストを使おう。曜日は、日曜日を 0、..., 土曜日を 6 として表そう。また、wday を用いて、m 月 n 日の曜日を、「火曜日」 といった文字列で表現する関数 wdaystr を作ろう。wdaystr は、if 文を使わずに作ろう。\n",
    "```week = [\"日曜日\", \"月曜日\",...\"土曜日\"]```\n",
    "という配列を作り、week[wday(m,n)] で文字列を作ればよい。"
   ]
  },
  {
   "cell_type": "markdown",
   "metadata": {},
   "source": [
    "**練習問題** 西暦 2001 年の1 月1日は月曜日だった。そのことをもちいて、y 年 m 月 n 日に対応するように wday を拡張しよう。(4 の倍数で 100 の倍数ではない) かまたは 400 の倍数が閏年である。"
   ]
  },
  {
   "cell_type": "markdown",
   "metadata": {},
   "source": [
    "**練習問題8** 各月の13日が金曜日になることは、他の曜日になることよりも多いのではないかという都市伝説がある。本当にそのようなことがありうるだろうか。コンピュータで調べてみよう。コンピュータを用いないで、手計算で調べられるだろうか。"
   ]
  },
  {
   "cell_type": "markdown",
   "metadata": {},
   "source": [
    "**練習問題9** コインが 1000 枚、表を上にして一列に並んでいる。2 の倍数番目のを裏返す。3の倍数番目を裏返す。4の倍数番目を裏返す。... ということを順に行なった時に、表になっているコインは何番目のコインか。まず、数学的に考えてみよう。それから、プログラムを組んで確認しよう。"
   ]
  },
  {
   "cell_type": "markdown",
   "metadata": {},
   "source": [
    "## メソッドによるリスト操作"
   ]
  },
  {
   "cell_type": "markdown",
   "metadata": {},
   "source": [
    "最後に要素を追加するには，append メソッドを使います。append は、一つ要素の多いリストを作って返すのではなく，今あるリストの最後に要素を追加することに注意してください。**メソッド**は関数の一種と考えられますが，リストのような`もの（オブジェクト）` の状態を変える関数は，オブジェクトに働きかけてオブジェクトに状態を変えさせると考えた方が分かりやすく，リストライブラリにおけるリスト処理は，関数ではなく、そのような手続きの記述方法であるメソッドとして作られています。メソッドは，\n",
    "```\n",
    "オブジェクト . メソッド名 (引数の列)\n",
    "```\n",
    "という形で呼び出します。メソッドについては、後にオブジェクト指向の章で詳しく述べます。append は，既存のリストに追加するだけで，追加したリストを返さないので注意してください。"
   ]
  },
  {
   "cell_type": "code",
   "execution_count": null,
   "metadata": {},
   "outputs": [
    {
     "data": {
      "text/plain": [
       "[1, 4, 9, 16, 25, 36, 49]"
      ]
     },
     "execution_count": 58,
     "metadata": {},
     "output_type": "execute_result"
    }
   ],
   "source": [
    "sq = [1, 4, 9, 16, 25,36]\n",
    "sq.append(49)\n",
    "sq"
   ]
  },
  {
   "cell_type": "markdown",
   "metadata": {},
   "source": [
    "extend メソッドで，引数にリストを与えて，それを後ろに追加することができます。また，remove メソッドで，中身の要素を指定して削除することもできます。remove で削除されるのは，最初の要素です。"
   ]
  },
  {
   "cell_type": "code",
   "execution_count": 1,
   "metadata": {},
   "outputs": [
    {
     "name": "stdout",
     "output_type": "stream",
     "text": [
      "[1, 1, 2, 2, 3, 4, 5, 6, 4]\n"
     ]
    }
   ],
   "source": [
    "x = [1,1,2,2,3]\n",
    "y = [4,5,6,4]\n",
    "x.extend(y)\n",
    "print(x)"
   ]
  },
  {
   "cell_type": "code",
   "execution_count": null,
   "metadata": {},
   "outputs": [
    {
     "name": "stdout",
     "output_type": "stream",
     "text": [
      "[1, 1, 1, 1, 3, 2]\n"
     ]
    }
   ],
   "source": [
    "x = [1,1,1,1,2,3,2]\n",
    "x.remove(2)\n",
    "print(x)"
   ]
  },
  {
   "cell_type": "markdown",
   "metadata": {},
   "source": [
    "リストは，内容の置き換え，削除，挿入などの操作が自由にできます。x[n:n+1] = [] という代入を用いての削除もできますが、それを行うためのメソッドを用いた方が分かりやすいでしょう。\n",
    "どんなメソッドがあるかは，python のドキュメントを参照してください。\n",
    "https://docs.python.org/ja/3/tutorial/datastructures.html#more-on-lists"
   ]
  },
  {
   "cell_type": "markdown",
   "metadata": {},
   "source": [
    "リストを扱う時には，リストそのものを書き換えるのか，書き換えずに新たなリストを作っているのか，意識するのが重要です。\n"
   ]
  },
  {
   "cell_type": "code",
   "execution_count": 7,
   "metadata": {},
   "outputs": [
    {
     "data": {
      "text/plain": [
       "[0, 1, 4, 9, 16, 25, 36, 49, 64, 81]"
      ]
     },
     "execution_count": 7,
     "metadata": {},
     "output_type": "execute_result"
    }
   ],
   "source": [
    "def double(u):\n",
    "    ret = []\n",
    "    for i in u:\n",
    "        ret.append(i*i)\n",
    "    return ret\n",
    "\n",
    "y = range(10)\n",
    "double(y)\n"
   ]
  },
  {
   "cell_type": "code",
   "execution_count": 6,
   "metadata": {},
   "outputs": [
    {
     "name": "stdout",
     "output_type": "stream",
     "text": [
      "[4, 5]\n"
     ]
    }
   ],
   "source": [
    "a = [2,4,5]\n",
    "del a[0] \n",
    "print(a)"
   ]
  },
  {
   "cell_type": "markdown",
   "metadata": {},
   "source": [
    "**練習問題10** \n",
    "\n",
    "1. リスト u をもらい，全ての要素を3 乗したリストを返す関数 triple を書こう。\n",
    "\n",
    "4. リスト u をもらい，3 以上の要素だけからなるリストを返す more3 関数を書こう。\n",
    "\n",
    "1. 2つのリスト u, vをもらい，共通する要素だけからなるリストを返す関数 intersection を作ろう。\n",
    "\n",
    "1. 2つのリスト u, v をもらい，u に入っており v に入っていない要素だけからなるリストを返す関数 difference を作ろう。\n",
    "\n",
    "3. リスト u をもらい，逆順にしたリストを作って返す関数 reverse を書こう。リストの先頭に要素を追加する方法を，上のドキュメントで調べよう。"
   ]
  },
  {
   "cell_type": "markdown",
   "metadata": {},
   "source": [
    "リストに対する操作は，\n",
    "\n",
    "1. インデックスを指定して内容をとってくること，\n",
    "\n",
    "1. リストの中身を先頭から順に走査したり，最後に要素を付け加えたりすること，\n",
    "\n",
    "1. 途中の任意の場所への挿入と削除\n",
    "\n",
    "という，3種類に分けられると思います。1 は，多くの言語では配列として実現されています。\n",
    "2 は(順番が逆で先頭に要素を付け加えることになりますが)リストとして実現されています。3 は，リンクドリストというデータ型で実現するのが普通です。Python のリストはこれら全ての操作ができますが，最後のものは実行が遅いですし，効率のよいプログラムを作る時には注意が必要です。\n"
   ]
  },
  {
   "cell_type": "markdown",
   "metadata": {},
   "source": [
    "## リストを書き換えることと、新しいリストを作ること"
   ]
  },
  {
   "cell_type": "markdown",
   "metadata": {},
   "source": [
    "x.extend(y) は ```x + y```\n",
    "とよく似ています。しかし、その結果は全く違います。x + y では、x, y はそのままで、x と y を合わせたリストが新たに作られます。それに対して、extend では、x というリストそのものが変化しています。次の例を見てください。\n"
   ]
  },
  {
   "cell_type": "code",
   "execution_count": null,
   "metadata": {},
   "outputs": [
    {
     "name": "stdout",
     "output_type": "stream",
     "text": [
      "[1, 2, 3, 4, 5, 6]\n",
      "[1, 2, 3]\n"
     ]
    }
   ],
   "source": [
    "x = [1,2,3]\n",
    "y = [4,5,6]\n",
    "z = x + y\n",
    "print(z)\n",
    "print(x)"
   ]
  },
  {
   "cell_type": "code",
   "execution_count": null,
   "metadata": {},
   "outputs": [
    {
     "name": "stdout",
     "output_type": "stream",
     "text": [
      "[1, 2, 3, 4, 5, 6]\n"
     ]
    }
   ],
   "source": [
    "x = [1,2,3]\n",
    "y = [4,5,6]\n",
    "x.extend(y)\n",
    "print(x)"
   ]
  },
  {
   "cell_type": "markdown",
   "metadata": {},
   "source": [
    "リストには、reverse という、内容を逆順にするメソッドがありますが、これは、リストそのものを変化させるものです。上の練習問題で作ってもらったのは、新しいリストを作って返すものです。この違いに注意してください。\n",
    "\n",
    "リストを書き換える操作は，コンピュータの処理としては自然ですが，思ってもみない間違いのもとにもなり得ます。注意してください。下で説明する map, filter, 内包表記は，そのような処理をしないですみます。"
   ]
  },
  {
   "cell_type": "markdown",
   "metadata": {},
   "source": [
    "## オブジェクトの同一性"
   ]
  },
  {
   "cell_type": "markdown",
   "metadata": {},
   "source": [
    "リストは，格納されている値を変更できる「オブジェクト」です。オブジェクトについては，後に説明します。\n",
    "内容が同じであっても，別に作られたものは別のリストです。u = x は，x に代入されているリストに u という別名を与えているだけで，新しいコピーは作りません。a[:] でコピーが作れると話をしましたが、コピーを作る copy メソッドもあります。（このように，メソッドも値を返します。）\n",
    "```\n",
    "u = x.copy()\n",
    "```"
   ]
  },
  {
   "cell_type": "code",
   "execution_count": null,
   "metadata": {},
   "outputs": [
    {
     "name": "stdout",
     "output_type": "stream",
     "text": [
      "x=[1, 2, 3, 4], y=[1, 2, 3, 4], z=[1, 2, 3]\n"
     ]
    }
   ],
   "source": [
    "x = [1,2,3]\n",
    "y = x\n",
    "z = x.copy()\n",
    "x.append(4)\n",
    "print(f\"x={x}, y={y}, z={z}\")\n",
    "# x を変えると y も変わるが，z は不変"
   ]
  },
  {
   "cell_type": "markdown",
   "metadata": {},
   "source": [
    "オブジェクトの同一性に関しては，物として同じものか，内容が同じであるか，2つの概念があります。`x == y` は，x と y がオブジェクトとして同じであるかではなく，内容として同じものであるかどうかを判断しています。それに対し，x と y がオブジェクトとして同じであるかどうかは，`x is y` で判断します。"
   ]
  },
  {
   "cell_type": "code",
   "execution_count": null,
   "metadata": {},
   "outputs": [
    {
     "name": "stdout",
     "output_type": "stream",
     "text": [
      "True True\n",
      "True False\n",
      "False False\n"
     ]
    }
   ],
   "source": [
    "print(x==y, x is y)\n",
    "print(x == [1,2,3,4], x is [1,2,3,4])\n",
    "print(x == z, x is z)"
   ]
  },
  {
   "cell_type": "markdown",
   "metadata": {},
   "source": [
    "## オブジェクトの同一性と値"
   ]
  },
  {
   "cell_type": "markdown",
   "metadata": {},
   "source": [
    "実は、Python の全てのデータはオブジェクトです。1, 2, 1000000000000000 などの int \n",
    "や、float の値もそうです。それぞれのオブジェクトは、同一性(identity)、型(type)、値という、3つのものを持っています。同一性の値は id() 関数により、整数値としてみることができます。\n",
    "\n",
    "オブジェクトの同一性は、変化することがありません。オブジェクトによっては、値が変化するものと変化しないものがあります。値が変化するものは、mutable, 変化しないものは immutable といいます。int の値は immutable, リストは mutable です。\n",
    "\n",
    "上の例では、x と y は同一のオブジェクト、z は別のオブジェクト。\n",
    "x　と z は最初は同じ値をもっていたが、append によって、x の値は [1,2,3,4] と同じになったのでした。\n",
    "\n",
    "少し遊んでみましょう。"
   ]
  },
  {
   "cell_type": "code",
   "execution_count": null,
   "metadata": {},
   "outputs": [
    {
     "name": "stdout",
     "output_type": "stream",
     "text": [
      "2 4 16 65536\n",
      "2 4 16 65536\n",
      "4370221440 4370221504 4370221888 140261560027184\n",
      "4370221440 4370221504 4370221888 140261560027344\n",
      "True False\n"
     ]
    }
   ],
   "source": [
    "x = 2\n",
    "xx = 2**x\n",
    "xxx = 2**xx\n",
    "xxxx = 2**xxx\n",
    "y = 2\n",
    "yy = 2**y\n",
    "yyy = 2**yy\n",
    "yyyy = 2**yyy\n",
    "print(x, xx, xxx, xxxx)\n",
    "print(y, yy, yyy, yyyy)\n",
    "print(id(x), id(xx), id(xxx), id(xxxx))\n",
    "print(id(y), id(yy), id(yyy), id(yyyy))\n",
    "print(xxxx==yyyy, xxxx is yyyy)"
   ]
  },
  {
   "cell_type": "markdown",
   "metadata": {},
   "source": [
    "これからすると、ここで使っている python 言語では、int の小さい値(おそらく、$2^{16}-1$まで)では、個々の int の値に対し、それを表現するオブジェクトは1つづつ存在し、大きな値になると、それが現れるたびに、同じ値をもつオブジェクトを作っていることが推測できます。もっとも、id や is を int に対して使うプログラムは、普通は書かないはずです。"
   ]
  },
  {
   "cell_type": "markdown",
   "metadata": {},
   "source": [
    "### deep copy と shallow copy"
   ]
  },
  {
   "cell_type": "markdown",
   "metadata": {},
   "source": [
    "リストは copy メソッドでコピーを作れるといいましたが、リストのリストに対して行う時には、内容のリストはコピーされずに同じものが共有されるので注意が必要です。"
   ]
  },
  {
   "cell_type": "code",
   "execution_count": null,
   "metadata": {},
   "outputs": [
    {
     "data": {
      "text/plain": [
       "[[10, 2, 3], [4, 5, 6]]"
      ]
     },
     "execution_count": 7,
     "metadata": {},
     "output_type": "execute_result"
    }
   ],
   "source": [
    "x = [[1,2,3],[4,5,6]]\n",
    "y = x.copy()\n",
    "y[0][0] =10\n",
    "x"
   ]
  },
  {
   "cell_type": "markdown",
   "metadata": {},
   "source": [
    "大きさ n のリストを作るには、[0]*n を用いればいいといいました。"
   ]
  },
  {
   "cell_type": "code",
   "execution_count": null,
   "metadata": {},
   "outputs": [
    {
     "data": {
      "text/plain": [
       "[0, 0, 0, 0, 0, 0, 0, 0, 0, 0]"
      ]
     },
     "execution_count": 67,
     "metadata": {},
     "output_type": "execute_result"
    }
   ],
   "source": [
    "[0]*10"
   ]
  },
  {
   "cell_type": "markdown",
   "metadata": {},
   "source": [
    "ただし、これでリストのリストを作ると、リストのコピーのリストではなく、同じリストを内容とするリストが作られます。"
   ]
  },
  {
   "cell_type": "code",
   "execution_count": null,
   "metadata": {},
   "outputs": [
    {
     "name": "stdout",
     "output_type": "stream",
     "text": [
      "[[0, 0, 0, 0], [0, 0, 0, 0], [0, 0, 0, 0]]\n",
      "[[0, 2, 0, 0], [0, 2, 0, 0], [0, 2, 0, 0]]\n"
     ]
    }
   ],
   "source": [
    "a = [[0]*4]*3\n",
    "print(a)\n",
    "a[0][1]=2\n",
    "print(a)"
   ]
  },
  {
   "cell_type": "markdown",
   "metadata": {},
   "source": [
    "`[0]*4 `は1回しか行わず、それでできたものをもとに、そのコピーを3つ作るからです。\n",
    "`[0]*4` 自体を 3 回実行させる必要があります。後に説明する内包表記を用いてもできます。"
   ]
  },
  {
   "cell_type": "code",
   "execution_count": null,
   "metadata": {},
   "outputs": [
    {
     "name": "stdout",
     "output_type": "stream",
     "text": [
      "[[0, 0, 0, 0], [0, 0, 0, 0], [0, 0, 0, 0]]\n",
      "[[0, 2, 0, 0], [0, 0, 0, 0], [0, 0, 0, 0]]\n"
     ]
    }
   ],
   "source": [
    "a = []\n",
    "for _ in range(3):\n",
    "    a.append([0]*4)    # これなら、[0]*4 は 3 回実行される。\n",
    "# あるいは、a = [[0]*4 for _ in range(3)] \n",
    "\n",
    "print(a)\n",
    "a[0][1]=2\n",
    "print(a)"
   ]
  },
  {
   "cell_type": "markdown",
   "metadata": {},
   "source": [
    "# map と filter"
   ]
  },
  {
   "cell_type": "markdown",
   "metadata": {},
   "source": [
    "リストと関数をもらい，リストを返す関数に，map と filter があります。\n",
    "map(f, s) は，リスト s の全ての要素に関数 f を適用した結果のリストを返します。\n",
    "filter(f, s) は，bool 値をとる関数 f を引数にとり，リスト s の中で，その関数が真になる値だけのリストを作って返します。これらの手続きが返すのは、正確にはリストではなく、map および filter 型のオブジェクトで、その内容を表示するには、list 関数でリストに変換してから print に渡す必要があります。"
   ]
  },
  {
   "cell_type": "code",
   "execution_count": null,
   "metadata": {},
   "outputs": [
    {
     "data": {
      "text/plain": [
       "<map at 0x11d52d8d0>"
      ]
     },
     "execution_count": 70,
     "metadata": {},
     "output_type": "execute_result"
    }
   ],
   "source": [
    "map(abs, [-1,2,-3,0,5])"
   ]
  },
  {
   "cell_type": "code",
   "execution_count": null,
   "metadata": {},
   "outputs": [
    {
     "data": {
      "text/plain": [
       "[1, 2, 3, 0, 5]"
      ]
     },
     "execution_count": 71,
     "metadata": {},
     "output_type": "execute_result"
    }
   ],
   "source": [
    "list(map(abs, [-1,2,-3,0,5]))"
   ]
  },
  {
   "cell_type": "code",
   "execution_count": null,
   "metadata": {},
   "outputs": [
    {
     "data": {
      "text/plain": [
       "[2, -3, 5]"
      ]
     },
     "execution_count": 72,
     "metadata": {},
     "output_type": "execute_result"
    }
   ],
   "source": [
    "list(filter(lambda x: x**2>=2, [-1,2,-3,0,5]))"
   ]
  },
  {
   "cell_type": "markdown",
   "metadata": {},
   "source": [
    "**練習問題20** 上の練習問題を，map と filter で書いてみよう。\n",
    "\n",
    "1. リストに対し，全ての要素を2 乗したリスト。\n",
    "\n",
    "4. リストに対し，100 以上の要素だけからなるリスト。\n",
    "\n",
    "1. 2つのリスト u, v に対し，u, v に共通する要素だけからなるリスト。\n",
    "\n",
    "1. 2つのリスト　u,v に対し，u に入っており v に入っていない要素だけからなるリスト。"
   ]
  },
  {
   "cell_type": "markdown",
   "metadata": {},
   "source": [
    "**練習問題30** map と filter の結果のリストを返す関数 mymap(s, f) と myfilter(f, s) を自分で書いてみよう。"
   ]
  },
  {
   "cell_type": "markdown",
   "metadata": {},
   "source": [
    "## リストの内包表記\n",
    "\n",
    "map と filter による処理は，数学での集合の記法とよく似た記法で書くことができます。\n",
    "これは，リストの内包表記といいます。リストの内包表記は，\n",
    "```\n",
    "[式 for 変数 in リスト]\n",
    "```\n",
    "で，変数をリストの中のそれぞれの値にした時の式の値のリストを作成します。"
   ]
  },
  {
   "cell_type": "code",
   "execution_count": null,
   "metadata": {},
   "outputs": [
    {
     "data": {
      "text/plain": [
       "[0, 1, 4, 9, 16, 25, 36, 49, 64, 81]"
      ]
     },
     "execution_count": 75,
     "metadata": {},
     "output_type": "execute_result"
    }
   ],
   "source": [
    "[i**2 for i in range(10)]"
   ]
  },
  {
   "cell_type": "markdown",
   "metadata": {},
   "source": [
    "内包表記には，`if 条件` を加えることもできます。\n",
    "```\n",
    "[式 for 変数 in リスト if 条件]\n",
    "```"
   ]
  },
  {
   "cell_type": "code",
   "execution_count": null,
   "metadata": {},
   "outputs": [
    {
     "data": {
      "text/plain": [
       "[0, 4, 16, 36, 64]"
      ]
     },
     "execution_count": 76,
     "metadata": {},
     "output_type": "execute_result"
    }
   ],
   "source": [
    "[i**2 for i in range(10) if i % 2 == 0]"
   ]
  },
  {
   "cell_type": "markdown",
   "metadata": {},
   "source": [
    "**練習問題40** 上の練習問題を，内包表記で書いてみよう。\n",
    "\n",
    "1. リストに対し，全ての要素を2 乗したリスト。\n",
    "\n",
    "4. リストに対し，3 以上の要素だけからなるリスト。\n",
    "\n",
    "1. 2つのリストに対し，共通する要素だけからなるリスト。\n",
    "\n",
    "1. 2つのリスト　u,v に対し，u に入っており v に入っていない要素だけからなるリスト。\n"
   ]
  },
  {
   "cell_type": "markdown",
   "metadata": {},
   "source": [
    "---\n",
    "# matplotlib によるリストの可視化"
   ]
  },
  {
   "cell_type": "markdown",
   "metadata": {},
   "source": [
    "ある機能を提供するための、複数のモジュールの集まりを、パッケージといいます。モジュールやパッケージが、他の人に使ってもらうことを目的に作られた場合、ライブラリといいます。ライブラリは、python に最初から含まれているものだけでなく、第三者が作って提供しているものが標準的に使われるように\n",
    "なったものもたくさんあります。anaconda は，いくつかのライブラリを最初から含んでいます。\n",
    "\n",
    "まだ読み込まれていないライブラリは，pip3 で読み込む必要があります。\n",
    "\n",
    "グラフ描画ライブラリ matplotlib も、そのようなライブラリです。これを用いると、リストの中身をグラフとして可視化できます。\n",
    "\n",
    "\n",
    "下のプログラムの1行目は、matplotlib の描画結果を Jupyter notebook, Jupyter lab の画面内に取り込んで描画するための指定です。このような % で始まる Jupyter notebook などへの指定を magic 関数というのでした。\n",
    "\n",
    "2 行目は、matplotlib パッケージに含まれる  pyplot モジュールだけを import すると述べていますが、それと同時に、それ以降、matplotlib.pyplot と書く代わりに plt という名前で呼ぶように別名をつけています。このように、import 文では、```as ...``` で別名をつけることができます（後述）。\n",
    "python では、言語規約に従った正しいプログラムを書けるだけではなく、他人が書いたコードが共有できるように、いろんな書き方が，事実上の標準となっています。2 行目のように matplotlib.pyplot に plt という名前をつけるのもそうです。"
   ]
  },
  {
   "cell_type": "code",
   "execution_count": 8,
   "metadata": {},
   "outputs": [
    {
     "data": {
      "image/png": "[encoded data removed]",
      "text/plain": [
       "<Figure size 640x480 with 1 Axes>"
      ]
     },
     "metadata": {},
     "output_type": "display_data"
    },
    {
     "data": {
      "image/png": "[encoded data removed]",
      "text/plain": [
       "<Figure size 640x480 with 1 Axes>"
      ]
     },
     "metadata": {},
     "output_type": "display_data"
    },
    {
     "data": {
      "text/plain": [
       "[<matplotlib.lines.Line2D at 0x107ae40d0>]"
      ]
     },
     "execution_count": 8,
     "metadata": {},
     "output_type": "execute_result"
    },
    {
     "data": {
      "image/png": "[encoded data removed]",
      "text/plain": [
       "<Figure size 640x480 with 1 Axes>"
      ]
     },
     "metadata": {},
     "output_type": "display_data"
    }
   ],
   "source": [
    "%matplotlib inline\n",
    "import matplotlib.pyplot as plt\n",
    "x = range(5)\n",
    "y = [0,1,4,9,16]\n",
    "plt.scatter(x,y)\n",
    "plt.show()\n",
    "plt.bar(x,y)\n",
    "plt.show()\n",
    "plt.plot(x,y)  #plt.plot(y) だけでも同じ\n",
    "# 最後は show なしでも描画されます。\n",
    "#途中に show がないと、1つのグラフにまとめて描画されます。確認してください。"
   ]
  },
  {
   "cell_type": "markdown",
   "metadata": {},
   "source": [
    "## リストのソート"
   ]
  },
  {
   "cell_type": "markdown",
   "metadata": {},
   "source": [
    "リストを昇順に並べ替えるのは、基本的な操作です。\n",
    "リストそのものを並べ替えるのには、sort メソッド、\n",
    "元のリストは変化させずに並べ替えたリストを作るには、sorted 関数を用います。"
   ]
  },
  {
   "cell_type": "code",
   "execution_count": 2,
   "metadata": {},
   "outputs": [
    {
     "name": "stdout",
     "output_type": "stream",
     "text": [
      "a=[4, 1, -23], b=[-23, 1, 4]\n",
      "a=[-23, 1, 4]\n"
     ]
    }
   ],
   "source": [
    "a = [4,1,-23]\n",
    "b = sorted(a)\n",
    "print(f\"a={a}, b={b}\")\n",
    "a.sort()\n",
    "print(f\"a={a}\")"
   ]
  },
  {
   "cell_type": "markdown",
   "metadata": {},
   "source": [
    "sort 関数には、reverse, オプション引数があり、逆順でソートしたり、ソートのキーにする値を求める関数を指定したりできます。"
   ]
  },
  {
   "cell_type": "code",
   "execution_count": null,
   "metadata": {},
   "outputs": [
    {
     "name": "stdout",
     "output_type": "stream",
     "text": [
      "reverse: a=[4, 1, -23]\n",
      "xの2乗の値でソート: a=[1, 4, -23]\n"
     ]
    }
   ],
   "source": [
    "a = [4,1,-23]\n",
    "a.sort(reverse=True)\n",
    "print(f\"reverse: a={a}\")\n",
    "a.sort(key=lambda x: x**2)\n",
    "print(f\"xの2乗の値でソート: a={a}\")"
   ]
  },
  {
   "cell_type": "markdown",
   "metadata": {},
   "source": [
    "sorted 関数は、list だけでなく、iterable を引数としてもらい、list を返します。 "
   ]
  },
  {
   "cell_type": "markdown",
   "metadata": {},
   "source": [
    "# 練習問題"
   ]
  },
  {
   "cell_type": "markdown",
   "metadata": {},
   "source": [
    "**練習問題60** \n",
    "数をもらい、その約数のリスト（1 とその数を含む）を返す関数 divs(x) を作ろう。\n",
    "100 以下の数に対する，約数のリストのリストを作ろう。\n",
    "\n",
    "**練習問題65**\n",
    "それぞれの n に対し、約数の個数が n になる100 以下の数の個数ががどうなっているか、グラフに可視化しよう。"
   ]
  },
  {
   "cell_type": "markdown",
   "metadata": {},
   "source": [
    "**練習問題70** 数が、それより小さい約数の和と等しくなる時、完全数という。\n",
    "例えば、`6 = 1 + 2 + 3` なので、6 は完全数である。\n",
    "与えられた数が完全数であるかどうかを判断するプログラム\n",
    "complete(x) を作ろう。\n",
    "10000 までの完全数を求めよう。"
   ]
  },
  {
   "cell_type": "markdown",
   "metadata": {},
   "source": [
    "**練習問題80** 素数であるかどうか判定するプログラム isprime を作ろう。10000 までの素数のリストを作ろう。"
   ]
  },
  {
   "cell_type": "markdown",
   "metadata": {},
   "source": [
    "**練習問題85**\n",
    "素数がいかに増えていくか、横軸にn, 縦軸に n 番目の素数を描画しよう。\n",
    "横軸に n, 縦軸に n までの素数の個数を描画するにはどういうリストを作ればいいか考え，それも描画しよう。"
   ]
  },
  {
   "cell_type": "markdown",
   "metadata": {},
   "source": [
    "**練習問題90** 素因数分解を行うプログラム factorize(x) を作ろう。\n",
    "$40 = 2^3 5^1$ なので\n",
    "factorize(40)=[3,0,1] という形で，\n",
    "primes の各要素がいくつ素因数として含まれているかのリストとして表現しよう。内包表記など用いずに，できるだけ素直に書こう。\n"
   ]
  },
  {
   "cell_type": "markdown",
   "metadata": {},
   "source": [
    "**練習問題50** 素数の一覧を作るのに，上の方法はあまりに効率が悪い。MAX = 1000000 とし，MAX までの素数の個数と，MAX 以下で MAX に一番近い素数 10 個を次のようにして求めよう。\n",
    "（エラトステネスの篩）\n",
    "\n",
    "1. x = list(range(MAX)) として，MAX の大きさのリストを作る。\n",
    "イテレータのままでは，x[i] のようなアクセスができないので，list 関数で，明示的にリストに変換する。\n",
    "\n",
    "2. x の最初の２つの要素 (x[0], x[1]) を 0 に変える。\n",
    "3. x の 0 以外の最初の要素を k とする。\n",
    "4. k の倍数番目の x の要素を 0 に変える。\n",
    "5. k 番より後の，0 以外の最初の要素を k として，4 を行う。k が MAX の平方根(math モジュールの sqrt 関数を用いる)になるまで繰り返す。\n",
    "6. x から，0 以外の要素を取り出して，primes というリストを作る。\n",
    "7. len(primes) を表示する。\n",
    "8. primes の最後の 10 個の要素を表示する。\n",
    "\n",
    "MAX の値を大きくして動かそう。どこまで求められるか。\n",
    "\n",
    "より高速な素数の求め方について、Wikipedia などで勉強しよう。"
   ]
  },
  {
   "cell_type": "markdown",
   "metadata": {},
   "source": [
    "**練習問題** 「3 よりも大きな偶数は2つの素数の和として表すことができる」という予想は、ゴールドバッハ予想と呼ばれている。これが本当に成り立っているか、ある程度の数まで確認したい。素数の一覧 primes が与えられているとして，どのようにするのが効率的か考えて、プログラムを書いてみよう。それぞれの数 n を素数の和として表す方法（これ自体を長さ2のリストにしよう）のリストを作り、それを n 番目の要素とするリストを作ろう。1通りにしか書けない偶数は、素数の2倍なので、無限にあることがわかる。2通りにしか書けない偶数は無限にありそうだろうか。"
   ]
  }
 ],
 "metadata": {
  "kernelspec": {
   "display_name": "Python 3",
   "language": "python",
   "name": "python3"
  },
  "language_info": {
   "codemirror_mode": {
    "name": "ipython",
    "version": 3
   },
   "file_extension": ".py",
   "mimetype": "text/x-python",
   "name": "python",
   "nbconvert_exporter": "python",
   "pygments_lexer": "ipython3",
   "version": "3.11.2"
  }
 },
 "nbformat": 4,
 "nbformat_minor": 4
}
