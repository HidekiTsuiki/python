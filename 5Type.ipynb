{
 "cells": [
  {
   "cell_type": "markdown",
   "metadata": {},
   "source": [
    "----\n",
    "# 名前空間と変数のスコープ"
   ]
  },
  {
   "cell_type": "markdown",
   "metadata": {},
   "source": [
    "関数定義と変数の関係について説明します。\n",
    "\n",
    "関数の中で用いる変数は、関数の外での変数と別のものです。"
   ]
  },
  {
   "cell_type": "code",
   "execution_count": 1,
   "metadata": {},
   "outputs": [
    {
     "name": "stdout",
     "output_type": "stream",
     "text": [
      "10\n",
      "  関数内 20\n",
      "10\n"
     ]
    }
   ],
   "source": [
    "a = 10\n",
    "def foo():\n",
    "    a = 20\n",
    "    print(\"  関数内\", a)\n",
    "    \n",
    "print(a)\n",
    "foo()\n",
    "print(a)\n"
   ]
  },
  {
   "cell_type": "markdown",
   "metadata": {},
   "source": [
    "代入を行わないと，関数の中で global な変数が見えます。"
   ]
  },
  {
   "cell_type": "code",
   "execution_count": 1,
   "metadata": {},
   "outputs": [
    {
     "name": "stdout",
     "output_type": "stream",
     "text": [
      "10\n",
      "  関数内 10\n",
      "10\n"
     ]
    }
   ],
   "source": [
    "a = 10\n",
    "def foo():\n",
    "    print(\"  関数内\", a)\n",
    "    \n",
    "print(a)\n",
    "foo()\n",
    "print(a)"
   ]
  },
  {
   "cell_type": "markdown",
   "metadata": {},
   "source": [
    "変数などの名前の一覧表のことを、名前空間といいます。Python ではグローバルな名前空間が存在し，関数呼び出しを実行する前は、その中でプログラムは動いています。それに対して、関数を呼び出すと、その関数のためのローカルな名前空間が作られ、関数内で変数 a への代入が行われている場合、特別な指定(global指定)がない限り、そこに変数が作られて代入はその変数に対して行われます。ですから、この2つの変数は別物です。さらにその関数から別の関数が呼ばれると、別の名前空間が作られますが、それが終わると、元の名前空間に戻ります。関数のローカルな名前空間に置かれた変数のことを、その関数のローカル変数といいます。"
   ]
  },
  {
   "cell_type": "markdown",
   "metadata": {},
   "source": [
    "これによって、関数を定義する時に、その関数の変数の値が、そこから行う関数呼び出しの中で変化する心配はなく、その関数定義の中だけで閉じて考えることができます。 名前空間の中身は、dir 関数で調べることができます。"
   ]
  },
  {
   "cell_type": "code",
   "execution_count": 3,
   "metadata": {},
   "outputs": [
    {
     "name": "stdout",
     "output_type": "stream",
     "text": [
      " f0内 10 20\n",
      "['b']\n"
     ]
    }
   ],
   "source": [
    "a = 10\n",
    "def f0():\n",
    "    b = a + 10\n",
    "    print(\" f0内\", a, b)  # この a は global\n",
    "    print(dir())\n",
    "f0()\n"
   ]
  },
  {
   "cell_type": "markdown",
   "metadata": {},
   "source": [
    "**練習問題** グローバルな名前空間の中身を dir() で調べてみよう。"
   ]
  },
  {
   "cell_type": "markdown",
   "metadata": {},
   "source": [
    "dir() で見ると、グローバルな名前空間には、変数 a に加えて、foo, bar も登録されていることがわかります。このように、関数名と変数名とは同じ名前空間に登録されます。\n",
    "また、len, type などの今まで python 言語の一部として紹介してきた関数などは、組み込み名前空間に登録されています。\n",
    "組み込み名前空間は，`__builtin__` という名前でグローバルな名前空間に登録されているので，その中身は，\n",
    "```\n",
    "dir(__builtin__)\n",
    "```\n",
    "で調べることができます。実際に調べてください。\n",
    "\n",
    "定義の仕方は違いますが、Python では、関数もそれ以外の値も、オブジェクト（後述）という同一のものとして扱われています。そして、名前空間において、名前に結び付けられているのはオブジェクトです。名前空間の名前に関数や値などのオブジェクトを結びつけることを、名前にオブジェクトを束縛するといいます。(変数に代入するという方が，一般的なので，そう言うこともあります。)"
   ]
  },
  {
   "cell_type": "markdown",
   "metadata": {},
   "source": [
    "関数を実行している時の変数名などの名前の解決は、まず、関数のためのローカルな名前空間にその名前が束縛されているかどうか検索されます。そこにないと、グローバルな名前空間から検索されます。さらに、そこにもないと、組み込み名前空間が検索されます。\n",
    "\n",
    "変数への代入があるプログラムで，代入より前にあるその変数へのアクセスは，グローバル変数へのアクセスではなく，エラーとなります。\n",
    "\n",
    "**変数の名前空間への登録は，変数への代入文によって行われます。代入が行われているかで，同じ変数名の意味するものが，関数の中だけの変数になったり，グリーバルな変数になったりするので，注意が必要です。グローバルな変数の値を見るプログラムは，global と書いておいた方が無難です。**\n",
    "\n"
   ]
  },
  {
   "cell_type": "code",
   "execution_count": 11,
   "metadata": {},
   "outputs": [
    {
     "name": "stdout",
     "output_type": "stream",
     "text": [
      "  関数 foo内 10\n",
      "  関数 foo内 20\n",
      "20\n"
     ]
    }
   ],
   "source": [
    "a = 10\n",
    "def foo():\n",
    "    global a\n",
    "    print(\"  関数 foo内\", a)\n",
    "    a = 20\n",
    "    print(\"  関数 foo内\", a)\n",
    "\n",
    "foo()\n",
    "print(a)"
   ]
  },
  {
   "cell_type": "code",
   "execution_count": 46,
   "metadata": {},
   "outputs": [
    {
     "name": "stdout",
     "output_type": "stream",
     "text": [
      "  関数 foo内 20\n",
      "10\n"
     ]
    }
   ],
   "source": [
    "a = 10\n",
    "def foo():\n",
    "#    print(\"  関数 foo内\", a) # これを入れるとエラー\n",
    "    a = 20\n",
    "    print(\"  関数 foo内\", a)\n",
    "foo()\n",
    "print(a)"
   ]
  },
  {
   "cell_type": "markdown",
   "metadata": {},
   "source": [
    "それぞれの変数には、その変数に直接アクセスできるプログラムの部分があります。その部分の\n",
    "ことを、変数のスコープといいます。ローカル変数のスコープは、そのローカル変数の現れる\n",
    "関数定義の中だけです。グローバル変数は、同じ名前がローカル変数として定義されていない場合や、global 宣言がなされている時にはその関数定義もスコープに入ります。\n",
    "\n",
    "ローカル、グローバル、組み込みという3つの名前空間があり、この順に検索されるということでした。Python では、他にも名前空間が出てきます。名前空間の理解が、Python 理解の重要な鍵となります。"
   ]
  },
  {
   "cell_type": "markdown",
   "metadata": {},
   "source": [
    "変数名に、組み込み関数名をうっかり使ってしまうと、その関数が使えなくなります。"
   ]
  },
  {
   "cell_type": "code",
   "execution_count": 16,
   "metadata": {},
   "outputs": [],
   "source": [
    "len = 10"
   ]
  },
  {
   "cell_type": "markdown",
   "metadata": {},
   "source": [
    "すると、len の呼び出しができなくなります。"
   ]
  },
  {
   "cell_type": "markdown",
   "metadata": {},
   "source": [
    "len([1,2,3])"
   ]
  },
  {
   "cell_type": "markdown",
   "metadata": {},
   "source": [
    "しかし、組み込みの名前空間の len の値が変化したのではありません。グローバルの名前空間に len が登録され、組み込みの名前空間の len が見えなくなっているだけです。del を用いると、名前空間から名前を削除することができます。"
   ]
  },
  {
   "cell_type": "code",
   "execution_count": 17,
   "metadata": {},
   "outputs": [
    {
     "data": {
      "text/plain": [
       "3"
      ]
     },
     "execution_count": 17,
     "metadata": {},
     "output_type": "execute_result"
    }
   ],
   "source": [
    "del(len)\n",
    "len([1,2,3])"
   ]
  },
  {
   "cell_type": "markdown",
   "metadata": {},
   "source": [
    "---\n",
    "# データ型\n",
    "\n"
   ]
  },
  {
   "cell_type": "markdown",
   "metadata": {},
   "source": [
    "## イテラブルと抽象型\n",
    "\n",
    "### イテラブル オブジェクト"
   ]
  },
  {
   "cell_type": "markdown",
   "metadata": {},
   "source": [
    "前回お話しした map 型および filter 型のオブジェクトは、「次の要素」を求められると、それを（必要ならその時に作成して）返すという手続きを持っています。そのような手続きを持つオブジェクトを、イテラブル(iterable)なオブジェクトといいます。リストや range もイテラブルなオブジェクトです。\n",
    "イテラブルなオブジェクトは for 文を用いて内容を走査して、繰り返し処理ができます。map 関数や filter 関数、list 関数の引数に与えられるのもイテラブルなオブジェクトです。"
   ]
  },
  {
   "cell_type": "markdown",
   "metadata": {},
   "source": [
    "これらの手続きで作られた「リスト」の要素は，それが使われる時まで，本当に必要なものかどうか分かりません。例えば，map で長さ 100 のリストを作って、for 文で繰り返し処理をしても，実際には先頭の 3 個で break 文を実行され、残りの計算は無駄になるかもしれません。イテラブルを用いると、次の値を要求された時にはじめてその計算が行われるので、そのような無駄な計算が行われません。\n",
    "\n",
    "また、これらの手続きで作られた値は、最終的には不要になるかもしれません。"
   ]
  },
  {
   "cell_type": "code",
   "execution_count": 71,
   "metadata": {},
   "outputs": [
    {
     "data": {
      "text/plain": [
       "[4, 9, 25]"
      ]
     },
     "execution_count": 71,
     "metadata": {},
     "output_type": "execute_result"
    }
   ],
   "source": [
    "y = map(lambda x:x**2, [-1,2,-3,0,5])\n",
    "list(filter(lambda x: x>=2, y))"
   ]
  },
  {
   "cell_type": "markdown",
   "metadata": {},
   "source": [
    "この時、y の値全体を作成して、リストに収納するのはメモリの無駄になります。イテラブルなオブジェクトに対しては、必要になった時に一つづつ作成して処理することができます。ただし、イテラブルの内容を list 関数などで走査することは、一般には一度しかできません。イテラブルの種類によっては、一度走査したものをもう一度走査しても空になることがあります。\n"
   ]
  },
  {
   "cell_type": "code",
   "execution_count": 27,
   "metadata": {},
   "outputs": [
    {
     "name": "stdout",
     "output_type": "stream",
     "text": [
      "[1, 2, 3] []\n"
     ]
    },
    {
     "data": {
      "text/plain": [
       "1"
      ]
     },
     "execution_count": 27,
     "metadata": {},
     "output_type": "execute_result"
    }
   ],
   "source": [
    "x = map(abs, [-1,2,-3])\n",
    "y = list(x)\n",
    "z = list(x)\n",
    "print(y,z)\n",
    "k = [1,2,3]\n",
    "k[0]"
   ]
  },
  {
   "cell_type": "markdown",
   "metadata": {},
   "source": [
    "### 抽象型"
   ]
  },
  {
   "cell_type": "markdown",
   "metadata": {},
   "source": [
    "オブジェクトの属する具象的な型は一つですが、それ以外に、ある手続きの集まりを持ったものを、抽象的な型と考えることができます。イテラブルなオブジェクトは、詳細は省略しますが、その内容を走査するための手順を持っており、それを用いて、その内容物を順に走査した処理ができます。この手順を持っているという型を、抽象的な型としてとらえ、iterable 型とよびます。例えば、\n",
    "[1,2,3] は、リスト型に加えて、iterable 型にも属しています。\n",
    "iterable 型のオブジェクトは、for 文で繰り返し処理する対象になります。また、map, filter, list などは、iterable 型を引数にとる関数です。\n",
    "\n",
    "抽象型 iterable には、list 型, range 型、map 型, filter　型などの(具象的な)型が属しています。\n",
    "\n",
    "リストの場合には、イテラブルとして先頭から走査するだけではなく、インデックスやスライスを指定して、直接内容にアクセスすることができます。sequence 型は、このような操作ができるという抽象型です。list 以外に、次章で述べる string, tuple も sequence 型に属しています。"
   ]
  },
  {
   "cell_type": "markdown",
   "metadata": {},
   "source": [
    "## 文字列型\n",
    "\n",
    "文字列型は、抽象型 sequence に属しています。よって、文字列に対しては、リストと同じような処理ができます。つまり、for 文で走査したり、map, filter の引数になるという、iterable としての操作以外に、[n] をつけて n 番目の文字をとりだしたり、[a:b] というスライスをつけて部分文字列を取り出したりといった操作ができます。\n",
    "\n",
    "文字列はリストとは違い immutable です。ですから、文字を変化させる操作はできません。"
   ]
  },
  {
   "cell_type": "code",
   "execution_count": 73,
   "metadata": {},
   "outputs": [
    {
     "name": "stdout",
     "output_type": "stream",
     "text": [
      "Python はいい言語\n",
      "P いい\n",
      "12\n",
      "P y t h o n   は い い 言 語 "
     ]
    }
   ],
   "source": [
    "u = \"Python はいい言語\"\n",
    "print(u)\n",
    "print(u[0], u[8:10])\n",
    "print(len(u))\n",
    "for i in u:\n",
    "    print(i,end=\" \")"
   ]
  },
  {
   "cell_type": "markdown",
   "metadata": {},
   "source": [
    "文字列どおしも+ で結合できます。また，* で繰り返しもできます。"
   ]
  },
  {
   "cell_type": "code",
   "execution_count": 74,
   "metadata": {},
   "outputs": [
    {
     "data": {
      "text/plain": [
       "\"今日の明日の明日の明日は'あさって'です。\""
      ]
     },
     "execution_count": 74,
     "metadata": {},
     "output_type": "execute_result"
    }
   ],
   "source": [
    "statement = \"今日\" + 3 * \"の明日\" + \"は'あさって'です。\"\n",
    "statement\n"
   ]
  },
  {
   "cell_type": "code",
   "execution_count": 75,
   "metadata": {},
   "outputs": [
    {
     "data": {
      "text/plain": [
       "'今のはうそ'"
      ]
     },
     "execution_count": 75,
     "metadata": {},
     "output_type": "execute_result"
    }
   ],
   "source": [
    "uso = statement[0] + statement[2]+ statement[11] + \"うそ\"\n",
    "uso"
   ]
  },
  {
   "cell_type": "markdown",
   "metadata": {},
   "source": [
    "\n",
    "**練習問題3** 次のように表示するプログラムを書いてみよう。(いろんな方法を考えてみよう）\n",
    "```\n",
    "p\n",
    "py\n",
    "pyt\n",
    "pyth\n",
    "pytho\n",
    "python\n",
    "python \n",
    "python p\n",
    "python py\n",
    "python pyt\n",
    "python pyth\n",
    "python pytho\n",
    "python python\n",
    "```"
   ]
  },
  {
   "cell_type": "markdown",
   "metadata": {},
   "source": [
    "\n",
    "**練習問題6** 次のように表示するプログラムを書いてみよう。\n",
    "```\n",
    " python python\n",
    "  ython python\n",
    "   thon python\n",
    "    hon python\n",
    "     on python\n",
    "      n python\n",
    "        python\n",
    "        python\n",
    "         ython\n",
    "          thon\n",
    "           hon\n",
    "            on\n",
    "             n\n",
    "```"
   ]
  },
  {
   "cell_type": "markdown",
   "metadata": {},
   "source": [
    "bin() 関数は，引数を2進表現の文字列に変換してくれる。（最初の 0b は2進数を表す文字列という記号）その逆は，int 関数の第2引数に base である 2 を指定して行える。\n"
   ]
  },
  {
   "cell_type": "code",
   "execution_count": 31,
   "metadata": {},
   "outputs": [
    {
     "name": "stdout",
     "output_type": "stream",
     "text": [
      "1001\n",
      "9\n"
     ]
    }
   ],
   "source": [
    "print(bin(9)[2:])\n",
    "print(int('1001', 2))\n"
   ]
  },
  {
   "cell_type": "markdown",
   "metadata": {},
   "source": [
    "**練習問題7** bin とその逆関数を自分で書いてみよう。"
   ]
  },
  {
   "cell_type": "markdown",
   "metadata": {},
   "source": [
    "**練習問題8** 与えられた文字列が回文かどうか判定するプログラムを書いてみよう\n",
    "\n"
   ]
  },
  {
   "cell_type": "markdown",
   "metadata": {},
   "source": [
    "**練習問題9** 原点を通り，傾き z (正の実数) の直線が，x = k (k= 0, 1, 2, ...) と交差したらa, y = k と交差したら b を出力するということを続ける。こうしてできる，長さ n の文字列をかえす関数 Sturmian(z,n) を作成せよ。\n",
    "黄金比($(1 + \\sqrt{5})/2$) の Sturmian 列\n",
    "を求めよ。\n",
    "\n",
    "参考：この Sturmian 列の性質は，連分数とも関係している"
   ]
  },
  {
   "cell_type": "markdown",
   "metadata": {},
   "source": [
    "## タプル型\n",
    "\n",
    "タプル(tuple)もリストと同様、オブジェクトの列を意味します。リストが [] という括弧を用いたのに対し、タプルは () という括弧を用います。"
   ]
  },
  {
   "cell_type": "code",
   "execution_count": 32,
   "metadata": {},
   "outputs": [
    {
     "name": "stdout",
     "output_type": "stream",
     "text": [
      "<class 'tuple'>\n"
     ]
    },
    {
     "data": {
      "text/plain": [
       "(1, 2, 3)"
      ]
     },
     "execution_count": 32,
     "metadata": {},
     "output_type": "execute_result"
    }
   ],
   "source": [
    "x =(1,2,3)\n",
    "print(type(x))\n",
    "x"
   ]
  },
  {
   "cell_type": "markdown",
   "metadata": {},
   "source": [
    "tuple も抽象型 sequence に属しており、リストと同様の操作ができます。例えば、タプルにも，[] でインデックスを指定できますし，len, in などの，リストに対して適用した関数や for 文が適用できます。\n",
    "\n",
    "ただし、リストが mutable であったのに対し、tuple は immutable です。よって、\n",
    "要素の追加，削除ができません。"
   ]
  },
  {
   "cell_type": "code",
   "execution_count": 47,
   "metadata": {},
   "outputs": [
    {
     "name": "stdout",
     "output_type": "stream",
     "text": [
      "[('リンゴ', 100), ('みかん', 50), ('いちご', 200)]\n",
      "リンゴ\n",
      "6\n",
      "20\n"
     ]
    },
    {
     "data": {
      "text/plain": [
       "tuple"
      ]
     },
     "execution_count": 47,
     "metadata": {},
     "output_type": "execute_result"
    }
   ],
   "source": [
    "a = (\"リンゴ\", 100)\n",
    "o = (\"みかん\", 50)\n",
    "s = (\"いちご\", 200)\n",
    "fruits = [a, o, s]\n",
    "print(fruits)\n",
    "print(a[0])\n",
    "print(len((1,1,2,3,5,8)))\n",
    "print(sum((1,1,2,3,5,8)))\n",
    "type(())\n"
   ]
  },
  {
   "cell_type": "markdown",
   "metadata": {},
   "source": [
    "tuple もシーケンスなので、+ で2つの tuple をくっつけるなどの操作もできます。"
   ]
  },
  {
   "cell_type": "code",
   "execution_count": 79,
   "metadata": {},
   "outputs": [
    {
     "data": {
      "text/plain": [
       "(1, 2, 3, 1, 2, 3, 1, 2, 3, 1, 2, 3, 1, 2, 3, 4, 5)"
      ]
     },
     "execution_count": 79,
     "metadata": {},
     "output_type": "execute_result"
    }
   ],
   "source": [
    "(1,2,3)*5 + (4,5)"
   ]
  },
  {
   "cell_type": "markdown",
   "metadata": {},
   "source": [
    "### 変数の同時代入"
   ]
  },
  {
   "cell_type": "markdown",
   "metadata": {},
   "source": [
    "タプルやリストなどの sequence を，長さの等しい変数の列に代入すると、tuple の中身がそれぞれの変数に同時に代入されます。"
   ]
  },
  {
   "cell_type": "code",
   "execution_count": 36,
   "metadata": {},
   "outputs": [
    {
     "name": "stdout",
     "output_type": "stream",
     "text": [
      "リンゴ 100 1 2\n"
     ]
    }
   ],
   "source": [
    "(a, b) = (\"リンゴ\", 100)\n",
    "(x,y) = [1,2]  # (x, y) = [1,2] や、[x,y] = [1,2] も可能。\n",
    "print(a,b,x,y)"
   ]
  },
  {
   "cell_type": "code",
   "execution_count": 81,
   "metadata": {},
   "outputs": [
    {
     "data": {
      "text/plain": [
       "[('リンゴ', 100), ('みかん', 50), ('いちご', 200)]"
      ]
     },
     "execution_count": 81,
     "metadata": {},
     "output_type": "execute_result"
    }
   ],
   "source": [
    "fruits"
   ]
  },
  {
   "cell_type": "markdown",
   "metadata": {},
   "source": [
    "以下の説明では、リスト，タプルなどの具体的な型について書いていますが，より広く，sequence, iterable などに対して適用可能であったりします。\n",
    "タプルのリストに対して、変数を複数もった for 文を用いて、タプルの中身を同時に\n",
    "代入しながら処理を進めることができます。\n"
   ]
  },
  {
   "cell_type": "code",
   "execution_count": 82,
   "metadata": {},
   "outputs": [
    {
     "name": "stdout",
     "output_type": "stream",
     "text": [
      "100\n",
      "50\n",
      "200\n"
     ]
    }
   ],
   "source": [
    "for (x,y) in fruits:   #(x, y) と，変数のタプルにしてもよい\n",
    "    print(y)"
   ]
  },
  {
   "cell_type": "markdown",
   "metadata": {},
   "source": [
    "式を書くところに書かれた，, で並べられた値は，タプルとみなされます。"
   ]
  },
  {
   "cell_type": "code",
   "execution_count": 83,
   "metadata": {},
   "outputs": [
    {
     "name": "stdout",
     "output_type": "stream",
     "text": [
      "(3, 1, 4)\n"
     ]
    }
   ],
   "source": [
    "a = 3,1,4\n",
    "print(a)"
   ]
  },
  {
   "cell_type": "markdown",
   "metadata": {},
   "source": [
    "よって、次のように書くと、2つの変数の値を入れ替えることができます。"
   ]
  },
  {
   "cell_type": "raw",
   "metadata": {},
   "source": [
    "x, y = y, x"
   ]
  },
  {
   "cell_type": "markdown",
   "metadata": {},
   "source": [
    "これを通常の左辺に一つの変数しか書けない代入文で書こうとすると、次の様に一時的な変数を用いることになります。\n",
    "```\n",
    "tmp = x\n",
    "x = y\n",
    "y = tmp\n",
    "```"
   ]
  },
  {
   "cell_type": "markdown",
   "metadata": {},
   "source": [
    "また、x に y, y に x+y を代入するのも、次のように1行で書けます。"
   ]
  },
  {
   "cell_type": "raw",
   "metadata": {},
   "source": [
    "x,y = y,x+y"
   ]
  },
  {
   "cell_type": "markdown",
   "metadata": {},
   "source": [
    "**練習問題 17** フィボナッチ数列は、1, 1 から始まり、前の2つの数の和が次の数になる数列です。\n",
    "```\n",
    "1, 1, 2, 3, 5, 8, ...\n",
    "```\n",
    "フィボナッチ数列を n 番目まで表示する関数を書こう。"
   ]
  },
  {
   "cell_type": "markdown",
   "metadata": {},
   "source": [
    "**練習問題18** フィボナッチ列は，a, ab からはじまり，前の文字列に前の前の文字列をつなげた文字列を作る操作を繰り返してできる無限列です。先頭の100 文字を求めましょう。これと，練習問題 9 の \n",
    "黄金比の Sturmian 列と比べよう。\n",
    "```\n",
    "a\n",
    "ab\n",
    "aba\n",
    "abaab\n",
    "abaababa\n",
    "```"
   ]
  },
  {
   "cell_type": "markdown",
   "metadata": {},
   "source": [
    "与えられた数のリストを、小さい順にならべかえる(すなわち，ソートする)手順を考えましょう。自分で必要になった時には、python の組み込み関数 sorted や，リストに対する sort メソッドを用いればいいですが、ここでは、いくつかの方法でそれを自分で書いてみます。まず，sorted 関数と sort メソッドの復習です。\n"
   ]
  },
  {
   "cell_type": "code",
   "execution_count": 84,
   "metadata": {},
   "outputs": [
    {
     "name": "stdout",
     "output_type": "stream",
     "text": [
      "[5, 2, 3, 10, 2, 4, 3]\n",
      "[2, 2, 3, 3, 4, 5, 10]\n"
     ]
    }
   ],
   "source": [
    "x = [5,2,3,10,2,4,3]\n",
    "y = sorted(x)\n",
    "print(x)\n",
    "print(y)"
   ]
  },
  {
   "cell_type": "code",
   "execution_count": 85,
   "metadata": {},
   "outputs": [
    {
     "data": {
      "text/plain": [
       "[2, 2, 3, 3, 4, 5, 10]"
      ]
     },
     "execution_count": 85,
     "metadata": {},
     "output_type": "execute_result"
    }
   ],
   "source": [
    "x = [5,2,3,10,2,4,3]\n",
    "x.sort()\n",
    "x"
   ]
  },
  {
   "cell_type": "markdown",
   "metadata": {},
   "source": [
    "**練習問題10 ソート(1):** n をリストの長さとする。リストの先頭の n 個の要素の中で一番大きな数を見つけて、それとリストの n 番目の要素を入れ替える。以下、n を 1 づつ減らしながら n=1 までこの処理を行う。それによって、リスト全体がソートされるはずである。\n",
    "\n",
    "まず、リスト x と n をもらい、x の最初の n 個の要素の中の最大の値のインデックスを返す関数 findmax(x,n) を作ろう。"
   ]
  },
  {
   "cell_type": "markdown",
   "metadata": {},
   "source": [
    "**練習問題20 ソート(2):** ある要素と隣の要素を比べて，順番が逆ならひっくり返す。それをリストの最初の要素から最後の1つ手前の要素まで順番に行うと，一番大きな要素はリストの最後にくるはずである。今度は，最後の要素を除いた部分に対してそれを行う，というのを，先頭の要素だけになるまで繰り返そう。\n",
    "\n"
   ]
  },
  {
   "cell_type": "markdown",
   "metadata": {},
   "source": [
    "### タプルの多引数関数への適用\n",
    "\n",
    "タプルとリストの間の型変換は，tuple, list 関数で行えます。"
   ]
  },
  {
   "cell_type": "code",
   "execution_count": 86,
   "metadata": {},
   "outputs": [
    {
     "name": "stdout",
     "output_type": "stream",
     "text": [
      "(0, 1, 2, 3, 4, 5, 6, 7, 8, 9)\n",
      "[0, 1, 2, 3, 4, 5, 6, 7, 8, 9]\n"
     ]
    }
   ],
   "source": [
    "a = tuple(range(10))\n",
    "print(a)\n",
    "print(list(a))\n"
   ]
  },
  {
   "cell_type": "markdown",
   "metadata": {},
   "source": [
    "要素が1つだけのタプルは，(1,) のように書きます。\n",
    "(1) では，1 と区別ができないからです。"
   ]
  },
  {
   "cell_type": "code",
   "execution_count": 87,
   "metadata": {},
   "outputs": [
    {
     "name": "stdout",
     "output_type": "stream",
     "text": [
      "(7,) ()\n",
      "1 (1,)\n"
     ]
    }
   ],
   "source": [
    "a = tuple([7])\n",
    "b = tuple([])\n",
    "print(a,b)\n",
    "print((1), (1,))"
   ]
  },
  {
   "cell_type": "markdown",
   "metadata": {},
   "source": [
    "2 引数の関数に、タプルの中身を適用したいことがあります。その時には、\n",
    "タプルにアスタリスク(*)をつけると，その内容を , で区切って列としてを書いたのと同じ様になります。アスタリスクは，リストにもつけられます。"
   ]
  },
  {
   "cell_type": "code",
   "execution_count": 88,
   "metadata": {},
   "outputs": [
    {
     "name": "stdout",
     "output_type": "stream",
     "text": [
      "25\n"
     ]
    }
   ],
   "source": [
    "def fun(x,y):\n",
    "    print(x+y)\n",
    "    \n",
    "point = (10,15)\n",
    "# fun(point)  これは，エラー\n",
    "fun(*point)"
   ]
  },
  {
   "cell_type": "code",
   "execution_count": 89,
   "metadata": {},
   "outputs": [
    {
     "name": "stdout",
     "output_type": "stream",
     "text": [
      "25\n"
     ]
    }
   ],
   "source": [
    "\n",
    "point2 = [10,15]\n",
    "fun(*point2)"
   ]
  },
  {
   "cell_type": "markdown",
   "metadata": {},
   "source": [
    "アスタリスクは、次のような使い方もできます。"
   ]
  },
  {
   "cell_type": "code",
   "execution_count": 90,
   "metadata": {},
   "outputs": [
    {
     "data": {
      "text/plain": [
       "(5, 10, 15)"
      ]
     },
     "execution_count": 90,
     "metadata": {},
     "output_type": "execute_result"
    }
   ],
   "source": [
    "5,*point"
   ]
  },
  {
   "cell_type": "code",
   "execution_count": 91,
   "metadata": {},
   "outputs": [
    {
     "data": {
      "text/plain": [
       "(5, (10, 15))"
      ]
     },
     "execution_count": 91,
     "metadata": {},
     "output_type": "execute_result"
    }
   ],
   "source": [
    "5, point"
   ]
  },
  {
   "cell_type": "markdown",
   "metadata": {},
   "source": [
    "## enumerate と zip"
   ]
  },
  {
   "cell_type": "markdown",
   "metadata": {},
   "source": [
    "enumerate 関数で，リストから，インデックスと要素のタプルのリストを作れます。"
   ]
  },
  {
   "cell_type": "code",
   "execution_count": 92,
   "metadata": {},
   "outputs": [
    {
     "name": "stdout",
     "output_type": "stream",
     "text": [
      "0 太郎\n",
      "1 次郎\n",
      "2 花子\n"
     ]
    }
   ],
   "source": [
    "attendance = [\"太郎\", \"次郎\", \"花子\"]\n",
    "for i,a in enumerate(attendance):\n",
    "    print(i, a)"
   ]
  },
  {
   "cell_type": "markdown",
   "metadata": {},
   "source": [
    "zip 関数で，複数のリストから，tuple のリストを作ることができます。(これも，zip という iterable が返されるので，ここでは list に変換して表示しています。) 長さが違う時には、もっとも短い長さに合わせて、残りは無視されます。"
   ]
  },
  {
   "cell_type": "code",
   "execution_count": 93,
   "metadata": {},
   "outputs": [
    {
     "data": {
      "text/plain": [
       "[(1, 4), (2, 5), (3, 6)]"
      ]
     },
     "execution_count": 93,
     "metadata": {},
     "output_type": "execute_result"
    }
   ],
   "source": [
    "list(zip([1,2,3], [4,5,6]))"
   ]
  },
  {
   "cell_type": "code",
   "execution_count": 94,
   "metadata": {},
   "outputs": [
    {
     "data": {
      "text/plain": [
       "[(1, 'a'), (2, 'b')]"
      ]
     },
     "execution_count": 94,
     "metadata": {},
     "output_type": "execute_result"
    }
   ],
   "source": [
    "list(zip([1,2],['a','b','c']))"
   ]
  },
  {
   "cell_type": "code",
   "execution_count": 95,
   "metadata": {},
   "outputs": [
    {
     "name": "stdout",
     "output_type": "stream",
     "text": [
      "5\n",
      "7\n",
      "9\n"
     ]
    }
   ],
   "source": [
    "for x, y in (zip([1,2,3],[4,5,6])):\n",
    "    print(x+y)"
   ]
  },
  {
   "cell_type": "markdown",
   "metadata": {},
   "source": [
    "**練習問題30** 前回作った素数のリスト primes を用いて，[(0, 2) (1, 3), (2, 5), ...] という形で，(n, n番目の素数) のタプルのリストを作ろう。また，前回作った素因数分解 factorize(x) の結果を，18 なら (1,2) ではなく= [(2,1), (3, 2)] と，素因数と個数のペアのリストで表現するようにしよう。\n",
    "(1,2) のようなfactorize(x) の結果のリストをもらい，x の値を返す関数 defactorize を作ろう。"
   ]
  },
  {
   "cell_type": "markdown",
   "metadata": {},
   "source": [
    "**練習問題40** リストに対して，差分リスト（最初の要素以外は，前の要素との差の入ったリスト）を返す関数 diff(x) と，\n",
    "差分リストを元のリストに戻す関数 rdiff(x) を作ろう。diff は，zip を用いてスマートに書ける。rdiff は\n",
    "繰り返しで書く必要がある。差分リストの差分リストの... と 10 回繰り返したものを，元にもどして，同じになることを確認しよう。\n"
   ]
  },
  {
   "cell_type": "markdown",
   "metadata": {},
   "source": [
    "# 集合型(set)\n",
    "\n",
    "https://docs.python.org/ja/3/library/stdtypes.html#set\n",
    "\n",
    "Python には，set 型という，集合を意味する型があります。集合は {} で囲んで表記します。集合とリストの違いは，集合は，要素の重複や順序の概念がないことです。集合に要素を追加しても，それが存在しない場合のみ追加されます。また，和集合，積集合，差集合をとるなどの演算があります。その代わりに，リストのようにインデックスを用いてを指定して要素を指定することができません。詳しい説明は省略します。"
   ]
  },
  {
   "cell_type": "code",
   "execution_count": 96,
   "metadata": {},
   "outputs": [
    {
     "name": "stdout",
     "output_type": "stream",
     "text": [
      "{1, 2, 3}\n"
     ]
    },
    {
     "data": {
      "text/plain": [
       "{1, 2, 3}"
      ]
     },
     "execution_count": 96,
     "metadata": {},
     "output_type": "execute_result"
    }
   ],
   "source": [
    "a = set([1,2,3,2])\n",
    "print(a)\n",
    "a.add(3)\n",
    "a"
   ]
  },
  {
   "cell_type": "markdown",
   "metadata": {},
   "source": [
    "set は，リストから重複を除くのに便利です。"
   ]
  },
  {
   "cell_type": "code",
   "execution_count": 97,
   "metadata": {},
   "outputs": [
    {
     "data": {
      "text/plain": [
       "[1, 2, 3]"
      ]
     },
     "execution_count": 97,
     "metadata": {},
     "output_type": "execute_result"
    }
   ],
   "source": [
    "a = [1,2,3,2,1]\n",
    "list(set(a))"
   ]
  },
  {
   "cell_type": "markdown",
   "metadata": {},
   "source": [
    "**練習問題50**\n",
    "\n",
    "文字列　u と，数　n をもらい，u の中に，長さ n の異なる文字列がいくつ現れるかを求める関数を作ろう。それを用いて，フィボナッチ列(練習問題18)の中に，それぞれの n に対して長さ n の文字列がいくつ現れるかを，n = 1 から 30 まで求めよう。他の Sturmian 列（練習問題 9)に対しても行おう。"
   ]
  },
  {
   "cell_type": "markdown",
   "metadata": {},
   "source": [
    "\n",
    "# 辞書型(dict)\n",
    "\n",
    "https://docs.python.org/ja/3/library/stdtypes.html#mapping-types-dict\n",
    "\n",
    "dict(辞書)は，キーと値とのペアの集まりを保持するオブジェクトです。値には，キーを用いてアクセスします。また，キーには，数，文字列、それらからできた tuple などの imutable なオブジェクトを用いることができます。辞書は \n",
    "```\n",
    "{key0:value0, ..., key(n-1):value(n-1)}\n",
    "```\n",
    "という表記をします。リストと同じ、\n",
    "```\n",
    "d[key]\n",
    "```\n",
    "という表記で、キーを指定して辞書の内容にアクセスしたり、内容を更新したりできます。"
   ]
  },
  {
   "cell_type": "code",
   "execution_count": 2,
   "metadata": {},
   "outputs": [
    {
     "data": {
      "text/plain": [
       "{'apple': 100, 'grape': 200, 'orange': 50}"
      ]
     },
     "execution_count": 2,
     "metadata": {},
     "output_type": "execute_result"
    }
   ],
   "source": [
    "d = {'apple': 100, 'grape': 200, 'orange': 50}\n",
    "d"
   ]
  },
  {
   "cell_type": "code",
   "execution_count": 3,
   "metadata": {},
   "outputs": [
    {
     "data": {
      "text/plain": [
       "{}"
      ]
     },
     "execution_count": 3,
     "metadata": {},
     "output_type": "execute_result"
    }
   ],
   "source": [
    "e = {}  # これで、空の辞書ができます。\n",
    "# d = dict() でも空の辞書を作れます。\n",
    "e"
   ]
  },
  {
   "cell_type": "code",
   "execution_count": 4,
   "metadata": {},
   "outputs": [
    {
     "data": {
      "text/plain": [
       "100"
      ]
     },
     "execution_count": 4,
     "metadata": {},
     "output_type": "execute_result"
    }
   ],
   "source": [
    "d['apple']  # d.get('apple')  でも同じ"
   ]
  },
  {
   "cell_type": "code",
   "execution_count": 5,
   "metadata": {},
   "outputs": [
    {
     "data": {
      "text/plain": [
       "{'apple': 200, 'grape': 200, 'orange': 50}"
      ]
     },
     "execution_count": 5,
     "metadata": {},
     "output_type": "execute_result"
    }
   ],
   "source": [
    "d['apple'] = 200  # 代入\n",
    "d"
   ]
  },
  {
   "cell_type": "code",
   "execution_count": 6,
   "metadata": {},
   "outputs": [
    {
     "data": {
      "text/plain": [
       "{'apple': 200, 'grape': 200, 'orange': 50, 'melon': 500}"
      ]
     },
     "execution_count": 6,
     "metadata": {},
     "output_type": "execute_result"
    }
   ],
   "source": [
    "d['melon'] = 500   # キーの新しい値の追加\n",
    "d"
   ]
  },
  {
   "cell_type": "markdown",
   "metadata": {},
   "source": [
    "値にアクセスするのに，get というメソッドもあります。こちらの方が，第2引数で値が存在しない時に返す値が指定できるので，便利です。"
   ]
  },
  {
   "cell_type": "code",
   "execution_count": 7,
   "metadata": {},
   "outputs": [
    {
     "name": "stdout",
     "output_type": "stream",
     "text": [
      "200\n",
      "None\n",
      "0\n",
      "200\n"
     ]
    }
   ],
   "source": [
    "print(d.get('apple'))  #これでも，値をとってこれる。\n",
    "print(d.get('fish'))  #get は，値がない場合，エラーを起こすのではなく，None を返す。\n",
    "print(d.get('fish', 0))  #get の第2引数で，値がない場合，に返す値を指定できる。\n",
    "print(d.get('apple', 0))  #get の第2引数で，値がない場合，に返す値を指定できる。"
   ]
  },
  {
   "cell_type": "code",
   "execution_count": 8,
   "metadata": {},
   "outputs": [
    {
     "data": {
      "text/plain": [
       "NoneType"
      ]
     },
     "execution_count": 8,
     "metadata": {},
     "output_type": "execute_result"
    }
   ],
   "source": [
    "type(None)  #None は，値がないことを示すのに使う，特別な値"
   ]
  },
  {
   "cell_type": "code",
   "execution_count": 9,
   "metadata": {},
   "outputs": [
    {
     "data": {
      "text/plain": [
       "True"
      ]
     },
     "execution_count": 9,
     "metadata": {},
     "output_type": "execute_result"
    }
   ],
   "source": [
    "'grape' in d"
   ]
  },
  {
   "cell_type": "code",
   "execution_count": 10,
   "metadata": {},
   "outputs": [
    {
     "data": {
      "text/plain": [
       "{'apple': 200, 'orange': 50, 'melon': 500}"
      ]
     },
     "execution_count": 10,
     "metadata": {},
     "output_type": "execute_result"
    }
   ],
   "source": [
    "del d['grape']\n",
    "d"
   ]
  },
  {
   "cell_type": "markdown",
   "metadata": {},
   "source": [
    "print 関数とよく似たものに，display 関数があります。これは，\n",
    "python 本体ではなく，Ipython (jupyter-notebook が利用するライブラリ）の機能で，print よりきれいに，また，様々なライブラリの画像出力を notebook に取り込んで表示するなどの機能もあります。\n"
   ]
  },
  {
   "cell_type": "code",
   "execution_count": 11,
   "metadata": {},
   "outputs": [
    {
     "name": "stdout",
     "output_type": "stream",
     "text": [
      "{'apple': 200, 'orange': 50, 'melon': 500, 'new': {'durian': 1000, 'saiak': 2000}}\n"
     ]
    },
    {
     "data": {
      "text/plain": [
       "{'apple': 200,\n",
       " 'orange': 50,\n",
       " 'melon': 500,\n",
       " 'new': {'durian': 1000, 'saiak': 2000}}"
      ]
     },
     "metadata": {},
     "output_type": "display_data"
    },
    {
     "data": {
      "text/plain": [
       "123.5"
      ]
     },
     "metadata": {},
     "output_type": "display_data"
    }
   ],
   "source": [
    "d['new'] = {'durian': 1000, 'saiak': 2000}\n",
    "print(d)\n",
    "display(d)\n",
    "display(123.5)  # dict 以外も OK"
   ]
  },
  {
   "cell_type": "markdown",
   "metadata": {},
   "source": [
    "辞書も iterable です。つまり、for 文で順に要素を取り出して処理ができます。辞書から取り出せるのはキーです。"
   ]
  },
  {
   "cell_type": "code",
   "execution_count": 107,
   "metadata": {},
   "outputs": [
    {
     "name": "stdout",
     "output_type": "stream",
     "text": [
      "apple\n",
      "orange\n",
      "melon\n"
     ]
    }
   ],
   "source": [
    "for a in d:\n",
    "    print(a)"
   ]
  },
  {
   "cell_type": "markdown",
   "metadata": {},
   "source": [
    "それに対して、items() メソッドで、キーと要素のペアを返してくる iterable を作ることができます。"
   ]
  },
  {
   "cell_type": "code",
   "execution_count": 108,
   "metadata": {},
   "outputs": [
    {
     "name": "stdout",
     "output_type": "stream",
     "text": [
      "200\n",
      "50\n",
      "500\n"
     ]
    }
   ],
   "source": [
    "for (k, a) in d.items():\n",
    "    print(a)\n",
    "    "
   ]
  },
  {
   "cell_type": "markdown",
   "metadata": {},
   "source": [
    "辞書と同様なものは，キーが整数であり，そのとりうる値の範囲が小さいのであれば，配列を用いて実現できます。キーが文字列であったり，タプルであったりする時に，効果を発揮します。\n",
    "そういう時に辞書と同様なものを実現するのに，キーと値からなるタプルのリストを持つことなどが考えられますが，それだと，検索や削除の効率がよくなりません。辞書は，\n",
    "ハッシュテーブルの手法を用いることにより，どんなに項目数が多くなっても，定数時間で検索ができます。"
   ]
  },
  {
   "cell_type": "markdown",
   "metadata": {},
   "source": [
    "**練習問題** ハッシュテーブルについて，調べよう。"
   ]
  },
  {
   "cell_type": "markdown",
   "metadata": {},
   "source": [
    "**練習問題30** re モジュールに、split 関数がある。これを用いれば、指定されたパターンを区切りとして、文字列を単語の列に分けることができる。パターンは、正規表現と呼ばれる文字列で指定する。\n",
    "例えば、コンマ(,)ピリオド(.) 改行文字(\\n) 空白文字を区切りにして s を分解したければ、re.split('[,.\\n ]', s) とすればよい。\n",
    "\n",
    "文字列オブジェクトのsplit() メソッドは，空白文字で区切ってできた文字列のリストを返す。\n",
    "また、文字列には，lower() という，全て小文字に変換した文字列を返すメソッドがある。\n",
    "これらを用いて、文字列 s を単語に分けて，全て小文字に変換した上で、各単語の出現回数を辞書 d に記録するプログラム countwords(d, s)  を作ろう。\n",
    "\n",
    "\n"
   ]
  },
  {
   "cell_type": "markdown",
   "metadata": {},
   "source": [
    "ファイル名が sample.txt であるテキストファイルから文字列を読み込むには、\n",
    "次のようにします。\n",
    "```\n",
    "data = open(\"sample.txt\", \"r\")\n",
    "```\n",
    "open が返すものは、iterable です。この iterable は、要素を求められると、ファイルの1行づつの内容を返します。よって、\n",
    "```\n",
    "list(data)\n",
    "```\n",
    "で行ごとの内容の文字列のリストが得られます。\n",
    "\n",
    "**練習問題40** \n",
    "適当な文書ファイルに対して、単語の出現回数を調べ、sorted メソッドを用いて、頻度の多い順に並べ替え、トップ 100 を表示しよう。\n",
    "\n",
    "**練習問題41**\n",
    "タプルの比較は、辞書式順序（最初の要素で比較し、同じなら次の要素で比較する）である。頻度が同じ時には、アルファベット順に並ぶようにしよう。\n"
   ]
  },
  {
   "cell_type": "markdown",
   "metadata": {},
   "source": [
    "## 辞書と名前空間"
   ]
  },
  {
   "cell_type": "markdown",
   "metadata": {},
   "source": [
    "上に述べた様に，関数呼び出しでは，\n",
    "グローバルな名前空間がまず存在し、関数の実行のたびにその関数の中で\n",
    "用いるローカルな名前空間が作られるのでした。この名前空間は，辞書と同じような構造をしています。実際に Python の処理系がどうやって作られているかは決まっていませんが，名前空間は辞書を用いて実現されていると思っても大丈夫です。すなわち，(これまで説明してきた範囲で言えば)，組み込み名前空間を管理する辞書，グローバルな名前空間を管理する辞書が存在し，それに加えて，関数呼び出しのたびに，その関数のローカル変数を管理する辞書が作られます。そして，変数への代入や関数定義によって名前へのオブジェクトの束縛を行うことは，その辞書への登録，変数へのアクセスはその辞書の検索，del による名前の削除は辞書からの削除として実現されていると考えることができます。"
   ]
  },
  {
   "cell_type": "markdown",
   "metadata": {},
   "source": [
    "## オブジェクトの型（クラス）"
   ]
  },
  {
   "cell_type": "markdown",
   "metadata": {},
   "source": [
    "python では、全てのデータはオブジェクトであり、オブジェクトは型をもっているという話をしました。例えば、1 の型は int, [1,3,5] の型は list でした。型は、クラスともいいます。\n",
    "\n",
    "初期の python では、型は int などのプリミティブ型を指し、list などのクラスとは区別していました。また、プリミティブ型の値はオブジェクトとは言わず、クラスに属するものだけをオブジェクトと言っていました。しかし、現在では、値はオブジェクト、それが属するものはクラス（＝型）と統一されています。pythonはこの2つの概念で構成されています。実際、type(1) の値は、\"int\" と表示されますが、print 関数によってこれを表示しようとすると、 ```<class 'int'> ```と表示されます。"
   ]
  },
  {
   "cell_type": "code",
   "execution_count": 37,
   "metadata": {},
   "outputs": [
    {
     "data": {
      "text/plain": [
       "int"
      ]
     },
     "execution_count": 37,
     "metadata": {},
     "output_type": "execute_result"
    }
   ],
   "source": [
    "type(1)"
   ]
  },
  {
   "cell_type": "code",
   "execution_count": 38,
   "metadata": {},
   "outputs": [
    {
     "name": "stdout",
     "output_type": "stream",
     "text": [
      "<class 'int'>\n"
     ]
    }
   ],
   "source": [
    "print(type(1))"
   ]
  },
  {
   "cell_type": "markdown",
   "metadata": {},
   "source": [
    "昔の python では、型とクラスは別物であり、それに基づいて書かれた書物もあるので、混乱しないでください。\n",
    "\n",
    "ところで、int, list などのクラスも、オブジェクトです。例えば、if(type(a) == int) とった形で、プログラムの中でデータとして使うこともできます。int の型は、type (すなわち、クラスを意味する)型です。型(type) とクラス(class) は同義語だということに注意してください。"
   ]
  },
  {
   "cell_type": "code",
   "execution_count": 111,
   "metadata": {},
   "outputs": [
    {
     "name": "stdout",
     "output_type": "stream",
     "text": [
      "yes\n"
     ]
    }
   ],
   "source": [
    "a = 1\n",
    "if(type(a)==int):\n",
    "    print(\"yes\")"
   ]
  },
  {
   "cell_type": "code",
   "execution_count": 112,
   "metadata": {},
   "outputs": [
    {
     "data": {
      "text/plain": [
       "type"
      ]
     },
     "execution_count": 112,
     "metadata": {},
     "output_type": "execute_result"
    }
   ],
   "source": [
    "type(int)"
   ]
  },
  {
   "cell_type": "code",
   "execution_count": 113,
   "metadata": {},
   "outputs": [
    {
     "name": "stdout",
     "output_type": "stream",
     "text": [
      "<class 'type'>\n"
     ]
    }
   ],
   "source": [
    "print(type)"
   ]
  },
  {
   "cell_type": "markdown",
   "metadata": {},
   "source": [
    "int は，type というクラスに属します。このように，クラスの属するクラスをメタクラスといいます。type の type は type のままです。"
   ]
  },
  {
   "cell_type": "code",
   "execution_count": 114,
   "metadata": {},
   "outputs": [
    {
     "data": {
      "text/plain": [
       "type"
      ]
     },
     "execution_count": 114,
     "metadata": {},
     "output_type": "execute_result"
    }
   ],
   "source": [
    "type(type)"
   ]
  },
  {
   "cell_type": "markdown",
   "metadata": {},
   "source": [
    "# 複素数型\n",
    "\n",
    "Python では、複素数も扱えます。複素数は、x + yj と、素数単位を j で表現します。"
   ]
  },
  {
   "cell_type": "code",
   "execution_count": 39,
   "metadata": {},
   "outputs": [
    {
     "data": {
      "text/plain": [
       "(4+3j)"
      ]
     },
     "execution_count": 39,
     "metadata": {},
     "output_type": "execute_result"
    }
   ],
   "source": [
    "4 + 3j"
   ]
  },
  {
   "cell_type": "code",
   "execution_count": 40,
   "metadata": {},
   "outputs": [
    {
     "data": {
      "text/plain": [
       "(-1+0j)"
      ]
     },
     "execution_count": 40,
     "metadata": {},
     "output_type": "execute_result"
    }
   ],
   "source": [
    "1j*1j   #i^2 = -1 "
   ]
  },
  {
   "cell_type": "code",
   "execution_count": 117,
   "metadata": {},
   "outputs": [
    {
     "data": {
      "text/plain": [
       "2j"
      ]
     },
     "execution_count": 117,
     "metadata": {},
     "output_type": "execute_result"
    }
   ],
   "source": [
    "(1+1j)*(1+1j) #(1+i)^2 = 2i"
   ]
  },
  {
   "cell_type": "code",
   "execution_count": 42,
   "metadata": {},
   "outputs": [
    {
     "data": {
      "text/plain": [
       "(-1+1.2246467991473532e-16j)"
      ]
     },
     "execution_count": 42,
     "metadata": {},
     "output_type": "execute_result"
    }
   ],
   "source": [
    "import math\n",
    "math.e**((math.pi)*1j) #オイラーの公式"
   ]
  },
  {
   "cell_type": "markdown",
   "metadata": {},
   "source": [
    "実部、虚部が数式で表現される時には、コンストラクタ complex で作ります。"
   ]
  },
  {
   "cell_type": "code",
   "execution_count": 44,
   "metadata": {},
   "outputs": [
    {
     "data": {
      "text/plain": [
       "(0.5000000000000001+0.8660254037844386j)"
      ]
     },
     "execution_count": 44,
     "metadata": {},
     "output_type": "execute_result"
    }
   ],
   "source": [
    "x = math.cos(math.pi/3)\n",
    "y = math.sin(math.pi/3)\n",
    "z = complex(x,y)\n",
    "z"
   ]
  },
  {
   "cell_type": "markdown",
   "metadata": {},
   "source": [
    "複素数の実部、虚部は、それぞれ、複素数オブジェクトの real, imag という名前のデータ属性（インスタンス変数）となっています。データ属性は，それぞれのオブジェクトにおいて，名前と結びつけて記憶されている値で\n",
    "```\n",
    "オブジェクト.属性名\n",
    "```\n",
    "でアクセスすることができます。\n"
   ]
  },
  {
   "cell_type": "code",
   "execution_count": 120,
   "metadata": {},
   "outputs": [
    {
     "data": {
      "text/plain": [
       "0.5000000000000001"
      ]
     },
     "execution_count": 120,
     "metadata": {},
     "output_type": "execute_result"
    }
   ],
   "source": [
    "z.real"
   ]
  },
  {
   "cell_type": "code",
   "execution_count": 121,
   "metadata": {},
   "outputs": [
    {
     "data": {
      "text/plain": [
       "0.8660254037844386"
      ]
     },
     "execution_count": 121,
     "metadata": {},
     "output_type": "execute_result"
    }
   ],
   "source": [
    "z.imag"
   ]
  },
  {
   "cell_type": "code",
   "execution_count": 124,
   "metadata": {},
   "outputs": [
    {
     "name": "stdout",
     "output_type": "stream",
     "text": [
      "  z の実部は 0.50000, 虚部は 0.86603\n",
      "z**2の実部は-0.50000, 虚部は 0.86603\n",
      "z**3の実部は-1.00000, 虚部は 0.00000\n"
     ]
    }
   ],
   "source": [
    "\n",
    "print(f\"  z の実部は{z.real:8.5f}, 虚部は{z.imag:8.5f}\")\n",
    "a = z * z\n",
    "print(f\"z**2の実部は{a.real:8.5f}, 虚部は{a.imag:8.5f}\")\n",
    "b = z * z * z\n",
    "print(f\"z**3の実部は{b.real:8.5f}, 虚部は{b.imag:8.5f}\")"
   ]
  },
  {
   "cell_type": "markdown",
   "metadata": {},
   "source": [
    "real, imag というデータ属性は，int や double の値も持っています。これで，\n",
    "int の値を複素数だと思ってプログラムしても，real, imag 属性や，* などの算術演算\n",
    "を用いてプログラムしている限り，エラーは起きないことになります。"
   ]
  },
  {
   "cell_type": "code",
   "execution_count": 45,
   "metadata": {},
   "outputs": [
    {
     "name": "stdout",
     "output_type": "stream",
     "text": [
      "2 0\n",
      "2.0 0.0\n"
     ]
    }
   ],
   "source": [
    "a = 2\n",
    "b = 2.0\n",
    "print(a.real, a.imag)\n",
    "print(b.real, b.imag)"
   ]
  },
  {
   "cell_type": "markdown",
   "metadata": {},
   "source": [
    "複素数については、複素平面という形で後で扱います。"
   ]
  }
 ],
 "metadata": {
  "kernelspec": {
   "display_name": "Python 3 (ipykernel)",
   "language": "python",
   "name": "python3"
  },
  "language_info": {
   "codemirror_mode": {
    "name": "ipython",
    "version": 3
   },
   "file_extension": ".py",
   "mimetype": "text/x-python",
   "name": "python",
   "nbconvert_exporter": "python",
   "pygments_lexer": "ipython3",
   "version": "3.11.5"
  },
  "vscode": {
   "interpreter": {
    "hash": "974709e487bf293398b143f4ac30c818c195e8f1cd4c27b889061cadacbd70d3"
   }
  }
 },
 "nbformat": 4,
 "nbformat_minor": 4
}
