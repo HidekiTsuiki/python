{
 "cells": [
  {
   "cell_type": "markdown",
   "metadata": {},
   "source": [
    "# モジュール\n",
    "\n",
    "これまでも、random, matplotlib などのモジュールを利用してきました。モジュールに定義された関数などは、import することにより自分が今書いているプログラムの中で利用することができます。モジュールは，.py という拡張子を持ったプログラムファイルを作ることにより定義できます。自分でモジュールを定義して利用しながら、この機能について、詳しくみていきます。"
   ]
  },
  {
   "cell_type": "markdown",
   "metadata": {},
   "source": [
    "### モジュールの定義と利用\n",
    "\n",
    "これまで、プログラムを jupyter-lab の notebook の中に書いてきましたが、プログラムをファイルに書いておいて実行することができます。プログラム・ファイルは、 \"factorial.py\" のように、.py という拡張子をつけておきます。例えば、次の内容のファイルを factorial.py という名前で作りましょう。jupyter-lab では File の New の TextFile で作れます。"
   ]
  },
  {
   "cell_type": "raw",
   "metadata": {},
   "source": [
    "''' 階乗関数のモジュール'''\n",
    "a = 1\n",
    "def fact(n):\n",
    "    '''n の階乗を計算する'''\n",
    "    if(n == 1):\n",
    "        return a\n",
    "    return n*fact(n-1)\n",
    "\n",
    "fact100 = fact(100)\n",
    "print(fact(10))\n"
   ]
  },
  {
   "cell_type": "markdown",
   "metadata": {},
   "source": [
    "これで、factorial モジュールができました。\n",
    "```\n",
    "import factorial \n",
    "```\n",
    "によって fctorial を import すると、factorial.py に書かれた内容が実行されます。すなわち、a に 1 が代入され、fact 関数が定義され、fact(100) の値が計算されて、fact100 変数に代入されます。また、fact(10) の値が表示されます。それぞれのモジュールは、そのモジュールの名前空間を持っています。a, fact, fact100 という名前は、factorial モジュールの名前空間に登録されます。そして、import したことによって、今実行している \"グローバルの名前空間\"には、factorial という名前で、このモジュールが登録されます。"
   ]
  },
  {
   "cell_type": "code",
   "execution_count": 1,
   "metadata": {},
   "outputs": [
    {
     "name": "stdout",
     "output_type": "stream",
     "text": [
      "3628800\n"
     ]
    }
   ],
   "source": [
    "import factorial"
   ]
  },
  {
   "cell_type": "code",
   "execution_count": 5,
   "metadata": {},
   "outputs": [
    {
     "name": "stdout",
     "output_type": "stream",
     "text": [
      "<module 'factorial' from '/Users/tsuiki/Dropbox/lecture/python/factorial.py'>\n"
     ]
    },
    {
     "data": {
      "text/plain": [
       "['In',\n",
       " 'Out',\n",
       " '_',\n",
       " '__',\n",
       " '___',\n",
       " '__builtin__',\n",
       " '__builtins__',\n",
       " '__doc__',\n",
       " '__loader__',\n",
       " '__name__',\n",
       " '__package__',\n",
       " '__spec__',\n",
       " '_dh',\n",
       " '_i',\n",
       " '_i1',\n",
       " '_i2',\n",
       " '_i3',\n",
       " '_i4',\n",
       " '_i5',\n",
       " '_ih',\n",
       " '_ii',\n",
       " '_iii',\n",
       " '_oh',\n",
       " 'exit',\n",
       " 'factorial',\n",
       " 'get_ipython',\n",
       " 'quit']"
      ]
     },
     "execution_count": 5,
     "metadata": {},
     "output_type": "execute_result"
    }
   ],
   "source": [
    "print(factorial)\n",
    "dir()"
   ]
  },
  {
   "cell_type": "code",
   "execution_count": 6,
   "metadata": {},
   "outputs": [
    {
     "data": {
      "text/plain": [
       "['__builtins__',\n",
       " '__cached__',\n",
       " '__doc__',\n",
       " '__file__',\n",
       " '__loader__',\n",
       " '__name__',\n",
       " '__package__',\n",
       " '__spec__',\n",
       " 'a',\n",
       " 'fact',\n",
       " 'fact100']"
      ]
     },
     "execution_count": 6,
     "metadata": {},
     "output_type": "execute_result"
    }
   ],
   "source": [
    "dir(factorial)"
   ]
  },
  {
   "cell_type": "markdown",
   "metadata": {},
   "source": [
    "名前空間に登録されているものは、dir() で見ることができました。\n",
    "dir の引数にモジュールを与えると、そのモジュールの名前空間を見ることができます。\n",
    "\n",
    "**練習問題** factorial をimport し、\n",
    "グローバルの名前空間、および、factorial モジュールの名前空間に登録されている名前をみよう。特に，a, fact, fact100 が factorial に登録されていることを確認しよう。fact(20) を計算しよう。"
   ]
  },
  {
   "cell_type": "code",
   "execution_count": 7,
   "metadata": {},
   "outputs": [
    {
     "name": "stdout",
     "output_type": "stream",
     "text": [
      "['In', 'Out', '_', '_5', '_6', '__', '___', '__builtin__', '__builtins__', '__doc__', '__loader__', '__name__', '__package__', '__spec__', '_dh', '_i', '_i1', '_i2', '_i3', '_i4', '_i5', '_i6', '_i7', '_ih', '_ii', '_iii', '_oh', 'exit', 'factorial', 'get_ipython', 'quit']\n",
      "['__builtins__', '__cached__', '__doc__', '__file__', '__loader__', '__name__', '__package__', '__spec__', 'a', 'fact', 'fact100']\n"
     ]
    },
    {
     "data": {
      "text/plain": [
       "2432902008176640000"
      ]
     },
     "execution_count": 7,
     "metadata": {},
     "output_type": "execute_result"
    }
   ],
   "source": [
    "import factorial\n",
    "print(dir())\n",
    "print(dir(factorial))\n",
    "factorial.fact(20)"
   ]
  },
  {
   "cell_type": "code",
   "execution_count": 8,
   "metadata": {},
   "outputs": [
    {
     "data": {
      "text/plain": [
       "1"
      ]
     },
     "execution_count": 8,
     "metadata": {},
     "output_type": "execute_result"
    }
   ],
   "source": [
    "factorial.a"
   ]
  },
  {
   "cell_type": "code",
   "execution_count": 9,
   "metadata": {},
   "outputs": [
    {
     "data": {
      "text/plain": [
       "93326215443944152681699238856266700490715968264381621468592963895217599993229915608941463976156518286253697920827223758251185210916864000000000000000000000000"
      ]
     },
     "execution_count": 9,
     "metadata": {},
     "output_type": "execute_result"
    }
   ],
   "source": [
    "factorial.fact100"
   ]
  },
  {
   "cell_type": "markdown",
   "metadata": {},
   "source": [
    "このように、factorial モジュールには fact100 が登録されています。モジュールなどの名前空間に登録されている値は\n",
    "```\n",
    "モジュール名.名前\n",
    "```\n",
    "でアクセスします。\n",
    "`factorial.fact(10)`\n",
    "という形で factorial に登録された fact 関数を呼び出せるし、fact100 の値は、\n",
    "`factorial.fact100`\n",
    "で見ることができます。"
   ]
  },
  {
   "cell_type": "code",
   "execution_count": null,
   "metadata": {},
   "outputs": [],
   "source": []
  },
  {
   "cell_type": "code",
   "execution_count": 5,
   "metadata": {
    "scrolled": true
   },
   "outputs": [
    {
     "name": "stdout",
     "output_type": "stream",
     "text": [
      "93326215443944152681699238856266700490715968264381621468592963895217599993229915608941463976156518286253697920827223758251185210916864000000000000000000000000\n"
     ]
    },
    {
     "data": {
      "text/plain": [
       "3628800"
      ]
     },
     "execution_count": 5,
     "metadata": {},
     "output_type": "execute_result"
    }
   ],
   "source": [
    "print(factorial.fact100)\n",
    "factorial.fact(10)"
   ]
  },
  {
   "cell_type": "markdown",
   "metadata": {},
   "source": [
    "今は、グローバルな名前空間には factorial だけを取り込みましたが、他のモジュールの中の名前を指定してその名前だけを取り込むこともできます。\n",
    "(同じモジュールを何回も import しても、そこに書かれている内容が実行されるのは1回だけです。よって、今回は fact(10) の値は表示されません。)"
   ]
  },
  {
   "cell_type": "code",
   "execution_count": 6,
   "metadata": {},
   "outputs": [],
   "source": [
    "from factorial import fact100, fact"
   ]
  },
  {
   "cell_type": "markdown",
   "metadata": {},
   "source": [
    "こうすると、fact100 と fact が直接グローバルな名前空間に登録されます。(dir で確認しよう。）よって，モジュール名をつけずに、fact100, fact という名前だけでアクセスができます。\n",
    "また、import する時に、名前を指定することもできます。"
   ]
  },
  {
   "cell_type": "code",
   "execution_count": 7,
   "metadata": {},
   "outputs": [
    {
     "data": {
      "text/plain": [
       "93326215443944152681699238856266700490715968264381621468592963895217599993229915608941463976156518286253697920827223758251185210916864000000000000000000000000"
      ]
     },
     "execution_count": 7,
     "metadata": {},
     "output_type": "execute_result"
    }
   ],
   "source": [
    "from factorial import fact100 as largenumber\n",
    "largenumber"
   ]
  },
  {
   "cell_type": "markdown",
   "metadata": {},
   "source": [
    "他のモジュールを import するというのは、どのモジュールにおいても行えます。例えば，factorial.py を作成するのに，他のモジュールを用いているとしたら factorial.py の中で，import 文が書かれています。その時には，その import 文が実行されると，factorial の名前空間に，その import されたモジュールが登録されることになります。\n",
    "\n",
    "jupyter-lab では，それぞれの .ipynb ファイルごとに，グローバルな名前空間があって，そこでプログラムを実行していました。実は，これも一つのモジュールであり，グリーバルな名前空間と呼んでいたのは，そのモジュールの名前空間です。この，プログラムの実行を開始するモジュールを，main モジュールといいます。main モジュールには，`__main__` という名前がついています。 \n",
    "\n",
    "プログラムの実行の各時点において，その時に実行しているコードが属しているモジュールがあります。そのモジュール名は，`__name__` 変数の値として見ることができます。"
   ]
  },
  {
   "cell_type": "code",
   "execution_count": 10,
   "metadata": {},
   "outputs": [
    {
     "data": {
      "text/plain": [
       "'__main__'"
      ]
     },
     "execution_count": 10,
     "metadata": {},
     "output_type": "execute_result"
    }
   ],
   "source": [
    "__name__"
   ]
  },
  {
   "cell_type": "code",
   "execution_count": 11,
   "metadata": {},
   "outputs": [
    {
     "data": {
      "text/plain": [
       "'factorial'"
      ]
     },
     "execution_count": 11,
     "metadata": {},
     "output_type": "execute_result"
    }
   ],
   "source": [
    "factorial.__name__"
   ]
  },
  {
   "cell_type": "markdown",
   "metadata": {},
   "source": [
    "**練習問題** factorial.py の fact 関数の中に，```print(__name__)``` を挿入して fact 関数を実行し，その時点でのモジュール名が　factorial であることを確認しよう。　"
   ]
  },
  {
   "cell_type": "markdown",
   "metadata": {},
   "source": [
    "### モジュールの直接実行\n",
    "\n",
    "モジュールは、jupyter-lab などのインタープリタを介せずに、直接実行することができます。具体的には，コマンドプロンプトで\n",
    "```\n",
    "python factorial.py\n",
    "```\n",
    "により実行できます。（この実行方法は OS や環境により異なります。）\n",
    "実行すると、print 文が実行されるので　3628800　が表示されるはずです。\n",
    "\n",
    "このように，モジュールには，直接実行するのと，他のモジュールからインポートするのと，2つの利用方法があります。今，どちらの方法で利用されているかを調べることができれば，直接実行の時だけにあることを実行させることが可能になります。\n",
    "\n",
    "それには，`__name__` の値を見て，それが__main__ の時のみ実行するようにすればいいです。この値は，モジュール名が入りますが，直接実行した場合には，モジュール名は`__main__` となっています。"
   ]
  },
  {
   "cell_type": "markdown",
   "metadata": {},
   "source": [
    "**練習問題** factorial.py の print(fact(10)) が、直接実行した時だけ実行されるようにしましょう。また，\n",
    "```\n",
    "if (__name__ == \"__main__\"):\n",
    "    print(fact(int(input(\"数を入力してください:\"))))\n",
    "```\n",
    "をいれて，直接実行した時には，キーボードからの入力をもらって，その値の fact を計算するようにしましょう。ここで，input 関数は，引数で与えられた文字列を画面出力して，入力を待ち，入力された文字列を返す関数です。"
   ]
  },
  {
   "cell_type": "markdown",
   "metadata": {},
   "source": [
    "## パッケージ\n",
    "\n",
    "複数のモジュールがまとまって、一つの機能を提供することがあります。\n",
    "そういう時には、それらのモジュールのファイルは一つのフォルダーに置きます。\n",
    "そのフォルダーのことを、パッケージといい、プログラム中では、パッケージに属するモジュールは、\n",
    "```\n",
    "パッケージ名.モジュール名\n",
    "```\n",
    "で指定します。パッケージのフォルダには、__init__.py という名前で、そのパッケージを読み込んだ時に行う\n",
    "初期化のプログラムを書いて置きます。何もすることがなければ、空で構いません。\n"
   ]
  },
  {
   "cell_type": "markdown",
   "metadata": {},
   "source": [
    "例えば，matplotlib は次のように import していました。ここでは、matplotlib はパッケージ名で、matplotlib.pyplot がモジュール名です。ややこしいですが、matplotlib モジュールの pyplot という変数や関数を import しているのではありません。"
   ]
  },
  {
   "cell_type": "code",
   "execution_count": 9,
   "metadata": {},
   "outputs": [],
   "source": [
    "import matplotlib.pyplot as plt"
   ]
  },
  {
   "cell_type": "markdown",
   "metadata": {},
   "source": [
    "### モジュールに定義された名前\n",
    "\n",
    "今まで、jupyter-lab で用いられる名前空間をグローバルな名前空間と呼んできましたが、上に書いたように、これも一つのモジュールです。よって、これも含めて、これからはグローバルな名前空間ではなく、モジュールの名前空間と呼ぶことにします。\n",
    "今までグローバル変数と呼んでいたのは、 main モジュールの変数ですし、a は、factorial モジュールの変数です。a には、a という名前だけではアクセスできませんが、factorial.a という\n",
    "```\n",
    "モジュール名.変数名\n",
    "```\n",
    "という名前でなら、factorial を import しているモジュールからアクセスできます。\n",
    "今度は、factorial を短い名前 f で import しましょう。\n"
   ]
  },
  {
   "cell_type": "code",
   "execution_count": 13,
   "metadata": {},
   "outputs": [
    {
     "name": "stdout",
     "output_type": "stream",
     "text": [
      "2\n"
     ]
    },
    {
     "data": {
      "text/plain": [
       "12"
      ]
     },
     "execution_count": 13,
     "metadata": {},
     "output_type": "execute_result"
    }
   ],
   "source": [
    "import factorial as f\n",
    "print(f.a)\n",
    "f.a = 2\n",
    "f.fact(3)"
   ]
  },
  {
   "cell_type": "markdown",
   "metadata": {},
   "source": [
    "f.a は、代入ができてしまいます。それによって、f.fact の結果も変わってきます。他のモジュールの変数の値を変えるのは、お行儀のいいことではないので勧めませんが、このように，python では，モジュールに属する変数に，そのモジュールからしかアクセスできないといった、アクセス制限をつける機能は存在しません。"
   ]
  },
  {
   "cell_type": "markdown",
   "metadata": {},
   "source": [
    "モジュールの名前空間は、辞書(dict) を用いて実現されています。つまり、それぞれのモジュールは、名前空間を実現するための辞書を持っています。この辞書には，そのモジュールで定義された変数（に代入された値）と，そのモジュールで定義された関数，それに，そのモジュールで import した名前が登録されています。"
   ]
  },
  {
   "cell_type": "markdown",
   "metadata": {},
   "source": [
    "モジュールに定義されている名前の一覧は、\n",
    "```\n",
    "dir(モジュール名)\n",
    "```\n",
    "で得ることができます。"
   ]
  },
  {
   "cell_type": "code",
   "execution_count": 11,
   "metadata": {},
   "outputs": [
    {
     "data": {
      "text/plain": [
       "['__builtins__',\n",
       " '__cached__',\n",
       " '__doc__',\n",
       " '__file__',\n",
       " '__loader__',\n",
       " '__name__',\n",
       " '__package__',\n",
       " '__spec__',\n",
       " 'a',\n",
       " 'fact',\n",
       " 'fact100']"
      ]
     },
     "execution_count": 11,
     "metadata": {},
     "output_type": "execute_result"
    }
   ],
   "source": [
    "dir(f)"
   ]
  },
  {
   "cell_type": "code",
   "execution_count": 16,
   "metadata": {},
   "outputs": [
    {
     "data": {
      "text/plain": [
       "ModuleSpec(name='factorial', loader=<_frozen_importlib_external.SourceFileLoader object at 0x7fa718574310>, origin='/Users/tsuiki/Dropbox/lecture/python/factorial.py')"
      ]
     },
     "execution_count": 16,
     "metadata": {},
     "output_type": "execute_result"
    }
   ],
   "source": []
  },
  {
   "cell_type": "markdown",
   "metadata": {},
   "source": [
    "あるいは，f. の後に Tab を押すと，`__` で始まらない名前だけが選択肢として出てきます。また，その値や，関数とモジュールの doc string の内容は、help 関数で見ることができます。"
   ]
  },
  {
   "cell_type": "code",
   "execution_count": 17,
   "metadata": {},
   "outputs": [
    {
     "name": "stdout",
     "output_type": "stream",
     "text": [
      "Help on module factorial:\n",
      "\n",
      "NAME\n",
      "    factorial - 階乗関数のモジュール\n",
      "\n",
      "FUNCTIONS\n",
      "    fact(n)\n",
      "        n の階乗を計算する\n",
      "\n",
      "DATA\n",
      "    a = 2\n",
      "    fact100 = 933262154439441526...0000000000000000000\n",
      "\n",
      "FILE\n",
      "    /Users/tsuiki/Dropbox/lecture/python/factorial.py\n",
      "\n",
      "\n"
     ]
    }
   ],
   "source": [
    "help(f)"
   ]
  },
  {
   "cell_type": "markdown",
   "metadata": {},
   "source": [
    "`__名前__` という形の名前は、特殊属性と呼ばれるものであり、システム的な意味があります。"
   ]
  },
  {
   "cell_type": "markdown",
   "metadata": {},
   "source": [
    "繰り返しになりますが，DATA に書かれているものも FUNCTIONS に書かれているものも、この辞書に登録された要素です。\n",
    "この、辞書による名前空間を意識すると、python が分かりやすくなります。\n",
    "\n",
    "関数の値も書き換えられます。もちろん、このようなことをするべきではありませんが、python は、こんなことが出来てしまう言語です。"
   ]
  },
  {
   "cell_type": "code",
   "execution_count": 18,
   "metadata": {},
   "outputs": [
    {
     "data": {
      "text/plain": [
       "10"
      ]
     },
     "execution_count": 18,
     "metadata": {},
     "output_type": "execute_result"
    }
   ],
   "source": [
    "f.fact=lambda x:x \n",
    "f.fact(10)"
   ]
  },
  {
   "cell_type": "code",
   "execution_count": 21,
   "metadata": {},
   "outputs": [
    {
     "data": {
      "text/plain": [
       "1"
      ]
     },
     "execution_count": 21,
     "metadata": {},
     "output_type": "execute_result"
    }
   ],
   "source": [
    "import random\n",
    "random.randrange = lambda x:1\n",
    "random.randrange(10)"
   ]
  },
  {
   "cell_type": "code",
   "execution_count": 22,
   "metadata": {},
   "outputs": [],
   "source": [
    "random.b = 3"
   ]
  },
  {
   "cell_type": "markdown",
   "metadata": {},
   "source": [
    "# NumPy\n",
    "\n",
    "NumPy は、数値計算を効率よく行うためのライブラリです。Python 本体とは別に開発されたものですが、anaconda を用いて Python をインストールすると、最初からこのモジュールは入っています。（もし入っていなければ、pip でインストールします。）\n",
    "\n",
    "NumPy の最大の特徴は、多次元配列の型をもっており、効率的に行列演算などが行えることです。1 次元の配列に相当するものは，python でもリストで実現できます。しかし，python のリストは汎用性はありますが，その処理は非常に低速であり，科学計算のプログラムの中でリスト処理を行うのはおすすめしません。また，説明を省略しましたが python には array という型があり，それなりに高速な処理ができます。Numpy は，それと比べても高速な行列演算を実現しています。\n",
    "\n",
    "numpy は、np という名前でインポートするのが普通です。"
   ]
  },
  {
   "cell_type": "markdown",
   "metadata": {},
   "source": [
    "### 配列\n",
    "\n",
    "NumPy では、高次元の配列も使うことができます。\n",
    "1次元配列はベクトル、2次元配列は行列を表現するのに用いられます。一般に配列は、数学でテンソルと呼ばれるものを表現しています。\n",
    "\n",
    "Numpy の配列は、内容のリストを引数として作ります。"
   ]
  },
  {
   "cell_type": "code",
   "execution_count": 25,
   "metadata": {},
   "outputs": [
    {
     "data": {
      "text/plain": [
       "array([1, 2, 3])"
      ]
     },
     "execution_count": 25,
     "metadata": {},
     "output_type": "execute_result"
    }
   ],
   "source": [
    "import numpy as np\n",
    "a = np.array([1,2,3])\n",
    "a"
   ]
  },
  {
   "cell_type": "code",
   "execution_count": 2,
   "metadata": {},
   "outputs": [
    {
     "data": {
      "text/plain": [
       "numpy.ndarray"
      ]
     },
     "execution_count": 2,
     "metadata": {},
     "output_type": "execute_result"
    }
   ],
   "source": [
    "type(a)"
   ]
  },
  {
   "cell_type": "markdown",
   "metadata": {},
   "source": [
    "このように，NumPy 配列は，ndarray と呼ばれます。nd というのは，複数次元という意味です。の2次元以上の配列も、リストのリストを引数として与えれば、同様に作れます。\n"
   ]
  },
  {
   "cell_type": "code",
   "execution_count": 26,
   "metadata": {},
   "outputs": [],
   "source": [
    "b = np.array([[1,2,3],[4,5,6]])"
   ]
  },
  {
   "cell_type": "code",
   "execution_count": 27,
   "metadata": {},
   "outputs": [
    {
     "data": {
      "text/plain": [
       "array([[1, 2, 3],\n",
       "       [4, 5, 6]])"
      ]
     },
     "execution_count": 27,
     "metadata": {},
     "output_type": "execute_result"
    }
   ],
   "source": [
    "b"
   ]
  },
  {
   "cell_type": "code",
   "execution_count": 32,
   "metadata": {},
   "outputs": [],
   "source": [
    "c = np.array([\"Hello\", 123.5])"
   ]
  },
  {
   "cell_type": "code",
   "execution_count": 31,
   "metadata": {},
   "outputs": [
    {
     "data": {
      "text/plain": [
       "array(['Hello', '123'], dtype='<U21')"
      ]
     },
     "execution_count": 31,
     "metadata": {},
     "output_type": "execute_result"
    }
   ],
   "source": [
    "c"
   ]
  },
  {
   "cell_type": "markdown",
   "metadata": {},
   "source": [
    "配列の中身は int, float, char, complex などの型をとります。この型は，python の型とか関係なく，むしろ，NumPy ライブラリが実現されている C 言語の型に対応しています(後述)。配列の中身は全て同じ型でなくてはなりません。配列の初期値として int と float が与えられたら float にそろえられます。\n",
    "NumPy行列の中身の表記では、2.0 の 0 は省略されます。"
   ]
  },
  {
   "cell_type": "code",
   "execution_count": 40,
   "metadata": {},
   "outputs": [
    {
     "data": {
      "text/plain": [
       "array([0.66666667, 2.        , 3.        ])"
      ]
     },
     "execution_count": 40,
     "metadata": {},
     "output_type": "execute_result"
    }
   ],
   "source": [
    "c = np.array([2/3, 2, 3])\n",
    "c       "
   ]
  },
  {
   "cell_type": "markdown",
   "metadata": {},
   "source": [
    "次のような作り方もできます。\n",
    "詳しくは，下のセルの np.zeros などの後ろで shift+tab を押して doc-string を出してみてください。"
   ]
  },
  {
   "cell_type": "code",
   "execution_count": 34,
   "metadata": {},
   "outputs": [
    {
     "name": "stdout",
     "output_type": "stream",
     "text": [
      "[0. 0. 0. 0.]\n",
      "[1 1 1]\n",
      "[[[ 0  1]\n",
      "  [ 2  3]]\n",
      "\n",
      " [[ 4  5]\n",
      "  [ 6  7]]\n",
      "\n",
      " [[ 8  9]\n",
      "  [10 11]]]\n"
     ]
    }
   ],
   "source": [
    "d = np.zeros(4)\n",
    "e = np.ones(3,dtype=int)\n",
    "f = np.reshape(range(12),(3,2,2))\n",
    "print(d)\n",
    "print(e)\n",
    "print(f)"
   ]
  },
  {
   "cell_type": "code",
   "execution_count": 39,
   "metadata": {},
   "outputs": [
    {
     "data": {
      "text/plain": [
       "array([[[ 0,  1],\n",
       "        [ 2,  3]],\n",
       "\n",
       "       [[ 4,  5],\n",
       "        [ 6,  7]],\n",
       "\n",
       "       [[ 8,  9],\n",
       "        [10,  1]]])"
      ]
     },
     "execution_count": 39,
     "metadata": {},
     "output_type": "execute_result"
    }
   ],
   "source": [
    "f[2][1][1] = 1\n",
    "f"
   ]
  },
  {
   "cell_type": "markdown",
   "metadata": {},
   "source": [
    "大きさ n の単位行列は、np.identity(n) で作ることができます。"
   ]
  },
  {
   "cell_type": "code",
   "execution_count": 7,
   "metadata": {},
   "outputs": [
    {
     "data": {
      "text/plain": [
       "array([[1., 0., 0.],\n",
       "       [0., 1., 0.],\n",
       "       [0., 0., 1.]])"
      ]
     },
     "execution_count": 7,
     "metadata": {},
     "output_type": "execute_result"
    }
   ],
   "source": [
    "x=np.identity(3)\n",
    "x"
   ]
  },
  {
   "cell_type": "markdown",
   "metadata": {},
   "source": [
    "行列を画面表示するのに、print 文では、指数表示と小数点表示が\n",
    "まざって、見にくくなることがあります。表記を制限するのに、\n",
    "np.set_printoptions\n",
    "を用います。例えば、次の設定で、全て少数以下3桁の小数点表示になります。"
   ]
  },
  {
   "cell_type": "code",
   "execution_count": 42,
   "metadata": {},
   "outputs": [
    {
     "name": "stdout",
     "output_type": "stream",
     "text": [
      "[[3.14159 3.14159]]\n",
      "[[3.14159 3.14159]]\n"
     ]
    }
   ],
   "source": [
    "x = np.array([[np.pi,np.pi]])\n",
    "print(x)\n",
    "np.set_printoptions(precision=5, suppress=True)\n",
    "print(x)"
   ]
  },
  {
   "cell_type": "markdown",
   "metadata": {},
   "source": [
    "複素数のところで，オブジェクトがデータ属性を持てることを述べました。\n",
    "行列は、型およびサイズを dtype, shape 属性としてもっています。\n",
    "属性の値は、\n",
    "```\n",
    "オブジェクト.属性名\n",
    "```\n",
    "でアクセスできます。"
   ]
  },
  {
   "cell_type": "code",
   "execution_count": 43,
   "metadata": {},
   "outputs": [
    {
     "data": {
      "text/plain": [
       "((3,), (2, 3), (3,))"
      ]
     },
     "execution_count": 43,
     "metadata": {},
     "output_type": "execute_result"
    }
   ],
   "source": [
    "(a.shape, b.shape, c.shape)"
   ]
  },
  {
   "cell_type": "code",
   "execution_count": 44,
   "metadata": {},
   "outputs": [
    {
     "data": {
      "text/plain": [
       "(dtype('int64'), dtype('int64'), dtype('float64'))"
      ]
     },
     "execution_count": 44,
     "metadata": {},
     "output_type": "execute_result"
    }
   ],
   "source": [
    "(a.dtype, b.dtype, c.dtype)"
   ]
  },
  {
   "cell_type": "code",
   "execution_count": 11,
   "metadata": {},
   "outputs": [
    {
     "data": {
      "text/plain": [
       "dtype('complex128')"
      ]
     },
     "execution_count": 11,
     "metadata": {},
     "output_type": "execute_result"
    }
   ],
   "source": [
    "e = np.ones(3, dtype=complex)\n",
    "e.dtype"
   ]
  },
  {
   "cell_type": "markdown",
   "metadata": {},
   "source": [
    "int でなくて int64 となっていますが、NumPy ライブラリは C 言語で実現されており、これらの型は，C 言語での実現に対応した型です。int64 は 64 ビットで表現された整数なので，大きな数は扱えません。"
   ]
  },
  {
   "cell_type": "code",
   "execution_count": 45,
   "metadata": {},
   "outputs": [
    {
     "ename": "OverflowError",
     "evalue": "Python int too large to convert to C long",
     "output_type": "error",
     "traceback": [
      "\u001b[0;31m---------------------------------------------------------------------------\u001b[0m",
      "\u001b[0;31mOverflowError\u001b[0m                             Traceback (most recent call last)",
      "\u001b[0;32m/var/folders/s1/nr2mj2351891wp97qz7215lc0000gn/T/ipykernel_31755/2959592328.py\u001b[0m in \u001b[0;36m<module>\u001b[0;34m\u001b[0m\n\u001b[0;32m----> 1\u001b[0;31m \u001b[0ma\u001b[0m\u001b[0;34m[\u001b[0m\u001b[0;36m0\u001b[0m\u001b[0;34m]\u001b[0m \u001b[0;34m=\u001b[0m \u001b[0;36m1000000000000000000000\u001b[0m\u001b[0;34m\u001b[0m\u001b[0;34m\u001b[0m\u001b[0m\n\u001b[0m",
      "\u001b[0;31mOverflowError\u001b[0m: Python int too large to convert to C long"
     ]
    }
   ],
   "source": [
    "a[0] = 1000000000000000000000"
   ]
  },
  {
   "cell_type": "markdown",
   "metadata": {},
   "source": [
    "### 配列の演算\n",
    "\n",
    "リストと違って、NumPy の配列は、容易に要素ごとの演算ができます。\n",
    "通常の +, * は、要素ごとの演算になります。片方の次元が低ければ、同じ要素をコピーして次元を合わせたものを作って行われます。"
   ]
  },
  {
   "cell_type": "code",
   "execution_count": 46,
   "metadata": {},
   "outputs": [
    {
     "name": "stdout",
     "output_type": "stream",
     "text": [
      "[5 7 9]\n",
      "[ 4 10 18]\n"
     ]
    }
   ],
   "source": [
    "a = np.array([1,2,3])\n",
    "b = np.array([4,5,6])\n",
    "print(a + b)\n",
    "print(a * b)"
   ]
  },
  {
   "cell_type": "code",
   "execution_count": 14,
   "metadata": {},
   "outputs": [
    {
     "name": "stdout",
     "output_type": "stream",
     "text": [
      "[3 4 5]\n",
      "[2 4 6]\n"
     ]
    }
   ],
   "source": [
    "a = np.array([1,2,3])\n",
    "c = 2\n",
    "print(a + c)\n",
    "print(a * c)"
   ]
  },
  {
   "cell_type": "code",
   "execution_count": 47,
   "metadata": {},
   "outputs": [
    {
     "name": "stdout",
     "output_type": "stream",
     "text": [
      "[[1 2 3]\n",
      " [4 5 6]\n",
      " [7 8 9]]\n",
      "[[1 0 0]\n",
      " [0 2 0]\n",
      " [0 0 3]]\n",
      "[[ 2  2  3]\n",
      " [ 4  7  6]\n",
      " [ 7  8 12]]\n",
      "[[3 3 3]\n",
      " [6 6 6]\n",
      " [9 9 9]]\n",
      "[[3 3 3]\n",
      " [6 6 6]\n",
      " [9 9 9]]\n",
      "[[ 3  4  5]\n",
      " [ 6  7  8]\n",
      " [ 9 10 11]]\n"
     ]
    }
   ],
   "source": [
    "d = np.array([[1,2,3],[4,5,6],[7,8,9]])\n",
    "e = np.array([[1,0,0],[0,2,0],[0,0,3]])\n",
    "print(d)\n",
    "print(e)\n",
    "print(d + e)   # 要素ごと\n",
    "print(d + np.array([2,1,0])) # 次元を合わせてから実行。\n",
    "print(d + [2,1,0]) # リスト[2,1,0] は np.array に自動変換される\n",
    "print(d + 2)  # 全要素に\n",
    "# 掛け算も同様。"
   ]
  },
  {
   "cell_type": "markdown",
   "metadata": {},
   "source": [
    "2次元配列の行列としての積は、@ または np.dot により行います。* は要素ごとの演算になるので注意してください。"
   ]
  },
  {
   "cell_type": "code",
   "execution_count": 16,
   "metadata": {},
   "outputs": [
    {
     "name": "stdout",
     "output_type": "stream",
     "text": [
      "[[ 1  4  9]\n",
      " [ 4 10 18]\n",
      " [ 7 16 27]]\n",
      "[[ 1  2  3]\n",
      " [ 8 10 12]\n",
      " [21 24 27]]\n"
     ]
    }
   ],
   "source": [
    "print(d@e)\n",
    "print(np.dot(e,d))"
   ]
  },
  {
   "cell_type": "markdown",
   "metadata": {},
   "source": [
    "(n, m)行列と (m, k)行列の積は (n,k)行列になります。"
   ]
  },
  {
   "cell_type": "code",
   "execution_count": 17,
   "metadata": {},
   "outputs": [
    {
     "name": "stdout",
     "output_type": "stream",
     "text": [
      "[[1 0 0]\n",
      " [0 4 0]]\n"
     ]
    }
   ],
   "source": [
    "f = np.array([[1,0,0],[0,2,0]])\n",
    "\n",
    "print(np.dot(f,e))\n",
    "# print(np.dot(e,f)) これはエラーとなる"
   ]
  },
  {
   "cell_type": "markdown",
   "metadata": {},
   "source": [
    "行列の積を確認しましょう。\n",
    "\n",
    "\n",
    "**練習問題10** 行列 x, y が与えられた時，それの積 x @ y を求めるプログラム prod を自分で書いてみよう。，x の列と y の行の個数が合わなかったら，None を返すようにしよう。\n",
    "x @ y と比較して，同じ計算が行われていることを確認しよう。\n",
    "\n"
   ]
  },
  {
   "cell_type": "markdown",
   "metadata": {},
   "source": [
    "ベクトルの場合には、@  や np.dot は内積になります。"
   ]
  },
  {
   "cell_type": "code",
   "execution_count": 18,
   "metadata": {},
   "outputs": [
    {
     "name": "stdout",
     "output_type": "stream",
     "text": [
      "32\n"
     ]
    },
    {
     "data": {
      "text/plain": [
       "32"
      ]
     },
     "execution_count": 18,
     "metadata": {},
     "output_type": "execute_result"
    }
   ],
   "source": [
    "print(np.dot([1,2,3],[4,5,6]))\n",
    "np.array([1,2,3])@np.array([4,5,6])"
   ]
  },
  {
   "cell_type": "markdown",
   "metadata": {},
   "source": [
    "最大の要素は，np.max 関数でとってこれます。"
   ]
  },
  {
   "cell_type": "code",
   "execution_count": 19,
   "metadata": {},
   "outputs": [
    {
     "data": {
      "text/plain": [
       "6"
      ]
     },
     "execution_count": 19,
     "metadata": {},
     "output_type": "execute_result"
    }
   ],
   "source": [
    "f = np.array([[1,2,3],[4,5,6]])\n",
    "np.max(f)"
   ]
  },
  {
   "cell_type": "markdown",
   "metadata": {},
   "source": [
    "### 行列の中身、部分行列、行や列の追加、削除"
   ]
  },
  {
   "cell_type": "markdown",
   "metadata": {},
   "source": [
    "リストにおけるインデックスやスライスの指定方法が多次元に拡張されて、 np.array にも適用できます。(n,m) 行列の行は 0 から n-1, 列は0 から m-1 にインデックスされていることに注意してください。"
   ]
  },
  {
   "cell_type": "code",
   "execution_count": 20,
   "metadata": {},
   "outputs": [
    {
     "name": "stdout",
     "output_type": "stream",
     "text": [
      "[[ 0  1  2  3]\n",
      " [ 4  5  6  7]\n",
      " [ 8  9 10 11]]\n",
      "7\n",
      "[[ 5  6  7]\n",
      " [ 9 10 11]]\n"
     ]
    }
   ],
   "source": [
    "a = np.reshape(range(12),(3,4))\n",
    "print(a)\n",
    "b = a[1,3] #a[1][3] でも同じ意味になる\n",
    "c = a[1:3,1:4] #a[1:3][1:4] だと、(a[1:3])[1:4] の意味になる。\n",
    "print(b)\n",
    "print(c)"
   ]
  },
  {
   "cell_type": "markdown",
   "metadata": {},
   "source": [
    "行と列の片方だけスライス、片方だけインデックスを指定すると、行や列を取り出せます。"
   ]
  },
  {
   "cell_type": "code",
   "execution_count": 21,
   "metadata": {},
   "outputs": [
    {
     "name": "stdout",
     "output_type": "stream",
     "text": [
      "[4 5 6 7]\n",
      "[ 2  6 10]\n"
     ]
    }
   ],
   "source": [
    "print(a[1,:]) # :　は、全体というスライスになるのでした。\n",
    "print(a[:,2])"
   ]
  },
  {
   "cell_type": "markdown",
   "metadata": {},
   "source": [
    "スライスは，新たな配列を作ったのではなく，元の配列の一部分を表しています。これを，ビューといいます。よって，スライスとしてできた配列は元の配列のビューなので，その内容を書き換えると，元の配列が書き換わります。"
   ]
  },
  {
   "cell_type": "code",
   "execution_count": 22,
   "metadata": {},
   "outputs": [
    {
     "data": {
      "text/plain": [
       "array([[ 5,  6,  7],\n",
       "       [ 9, 10, 11]])"
      ]
     },
     "execution_count": 22,
     "metadata": {},
     "output_type": "execute_result"
    }
   ],
   "source": [
    "c"
   ]
  },
  {
   "cell_type": "code",
   "execution_count": 23,
   "metadata": {},
   "outputs": [
    {
     "data": {
      "text/plain": [
       "array([[ 0,  1,  2,  3],\n",
       "       [ 4, -1,  6,  7],\n",
       "       [ 8,  9, 10, 11]])"
      ]
     },
     "execution_count": 23,
     "metadata": {},
     "output_type": "execute_result"
    }
   ],
   "source": [
    "c[0,0]=-1\n",
    "a"
   ]
  },
  {
   "cell_type": "markdown",
   "metadata": {},
   "source": [
    "スライスへの代入もできます。"
   ]
  },
  {
   "cell_type": "code",
   "execution_count": 28,
   "metadata": {},
   "outputs": [
    {
     "name": "stdout",
     "output_type": "stream",
     "text": [
      "[[ 0  1  2  3]\n",
      " [ 4  5  6  7]\n",
      " [ 8  9 10 11]]\n",
      "[[ 0  1  2  3]\n",
      " [ 4  1  0  7]\n",
      " [ 8  0  1 11]]\n",
      "[[ 0 -1 -1  3]\n",
      " [ 4  1  0  7]\n",
      " [ 8  0  1 11]]\n"
     ]
    }
   ],
   "source": [
    "import numpy as np\n",
    "x = np.reshape(range(12),(3,4))\n",
    "print(x)\n",
    "y = np.identity(2)\n",
    "x[1:,1:3] = y\n",
    "print(x)\n",
    "x[0,1:3] = np.array([-1,-1])\n",
    "print(x)"
   ]
  },
  {
   "cell_type": "markdown",
   "metadata": {},
   "source": [
    "### 列や行の削除"
   ]
  },
  {
   "cell_type": "code",
   "execution_count": 63,
   "metadata": {},
   "outputs": [
    {
     "name": "stdout",
     "output_type": "stream",
     "text": [
      "[[ 0  1  2  3]\n",
      " [ 4 -1  6  7]\n",
      " [ 8  9 10 11]]\n",
      "[[ 0  1  2  3]\n",
      " [ 8  9 10 11]]\n",
      "[[ 0  1  3]\n",
      " [ 4 -1  7]\n",
      " [ 8  9 11]]\n"
     ]
    }
   ],
   "source": [
    "print(a)\n",
    "print(np.delete(a,1,0)) #1 行目削除、最後の 0 は行を意味する\n",
    "print(np.delete(a,2,1)) #2 列目削除、最後の 1 は列を意味する。"
   ]
  },
  {
   "cell_type": "markdown",
   "metadata": {},
   "source": [
    "行や列の削除を行うと，新しい配列が作られ，元の行列との要素の共有は行われません。"
   ]
  },
  {
   "cell_type": "markdown",
   "metadata": {},
   "source": [
    "### ファンシーインデックス\n",
    "\n",
    "行、列、それぞに対して、入れ替え方を、リストにして、スライスと同様に指定してやれば，\n",
    "行列の行や列を自由に入れ替えることができます。\n",
    "元の行列との要素の共有は行われません。"
   ]
  },
  {
   "cell_type": "code",
   "execution_count": 48,
   "metadata": {},
   "outputs": [
    {
     "name": "stdout",
     "output_type": "stream",
     "text": [
      "[[ 0  1  2]\n",
      " [ 3  4  5]\n",
      " [ 6  7  8]\n",
      " [ 9 10 11]]\n",
      "[[ 0  1  2]\n",
      " [ 9 10 11]\n",
      " [ 6  7  8]\n",
      " [ 3  4  5]]\n"
     ]
    }
   ],
   "source": [
    "a = np.reshape(range(12),[4,3])\n",
    "print(a)\n",
    "b = a[[0,3,2,1],:]\n",
    "print(b)"
   ]
  },
  {
   "cell_type": "markdown",
   "metadata": {},
   "source": [
    "### 乱数行列などのライブラリ"
   ]
  },
  {
   "cell_type": "markdown",
   "metadata": {},
   "source": [
    "np ライブラリには，様々なライブラリが用意されています。これらを ndarray と一緒に用いることにより，効率的な処理が可能となります。例えば，np.random モジュールの random を用いると，乱数からなる配列が作れます。詳しくは、np.random の doc-string, np.random.uniform の doc-string などをみてください。"
   ]
  },
  {
   "cell_type": "code",
   "execution_count": 64,
   "metadata": {},
   "outputs": [
    {
     "data": {
      "text/plain": [
       "array([[0.955, 0.41 , 0.268],\n",
       "       [0.76 , 0.783, 0.601]])"
      ]
     },
     "execution_count": 64,
     "metadata": {},
     "output_type": "execute_result"
    }
   ],
   "source": [
    "np.random.random(size=(2,3))"
   ]
  },
  {
   "cell_type": "markdown",
   "metadata": {},
   "source": [
    "このような処理は，全て，python で for 文などを用いて書くことができます。しかし，python で書かれた処理と NumPy で書かれた処理とでは，実行時間がかなり違います。実行時間を気にする処理は，できるだけ，for 文などは使わずに NumPy の中だけで書くようにする必要があります。"
   ]
  },
  {
   "cell_type": "markdown",
   "metadata": {},
   "source": [
    "### 行列式\n",
    "\n",
    "np.linalg モジュールに、行列の行列式(det)、逆行列(inv)などの関数があります。このようなライブラリは高速に動作するし、多くの利用の中で正確さが保証されています。ここでは、プログラミングの演習として、これらの計算を行うプログラムを作成しましょう。"
   ]
  },
  {
   "cell_type": "markdown",
   "metadata": {},
   "source": [
    "**練習問題** n 次正方行列 $X=(x_{i,j})$　の行列式は、この行列により行われる一次変換が、2次元なら面積、3次元なら体積を何倍するかという値です。これが 0 なら、一次変換の像は面積が0、すなわち、次元が低くなります。行列式の値は，\n",
    "\n",
    "$$\\sum_{\\sigma \\in \\mathrm{Aut}(n)} \\mathrm{sgn}(\\sigma)\\prod_{i=1}^n x_{i, \\sigma(i)}\n",
    "$$\n",
    "で計算できます。ここで、$\\mathrm{Aut}(n)$ は、$[0,1,..,n-1]$ の置換全体を表しました。これは、permutations という名前ですでにプログラムしました。\n",
    "$\\mathrm{sgn}$ は、置換 sgn が偶置換なら 1, 奇置換なら -1 という値です。これは、与えられた置換 $\\sigma=[a_0,...,a_{n-1}]$ が、偶数個の互換(2つの数の入れ替え) でできてるか、奇数個でできてるかということですが、$\\sigma$ を2つづつ要素を入れ替えてソートする時に、入れ替えを偶数回行うか奇数回行うかと同じ値ですから、ソートのプログラムに修正を加えれば求まるはずです。素直にこの式で行列式を求められそうでが、これはプログラムが面倒そうです。これは、余力がある時だけにして、次の問題を先に考えましょう。"
   ]
  },
  {
   "cell_type": "markdown",
   "metadata": {},
   "source": [
    "**練習問題30** n 次正方行列 $X=(a_{i,j})$ に対し、i 行目とj 列目を除いた n-1 次正方行列の行列式に $(-1)^{i+j}$ を掛けたものを、$\\Delta_{i,j}$ と書いて、$X$ の余因子といいます。\n",
    "$X$ の行列式は、各 j に対して，余因子を用いて\n",
    "$$\n",
    "\\sum_{i=0}^{n-1}a_{i,j} \\Delta_{i,j}\n",
    "$$\n",
    "と等しくなります。これなら、行列式を求める関数 det 関数は、再帰呼び出しで素直に書けそうです。書いてみましょう。そして、ライブラリに置かれている関数と比較しましょう。\n",
    "また、%time を用いて、両者の計算時間も比較しましょう。\n"
   ]
  },
  {
   "cell_type": "markdown",
   "metadata": {},
   "source": [
    "### 逆行列(提出課題)\n",
    "\n",
    "\n",
    "行列の逆行列を求める方法に、はき出し法があります。これで、逆行列を求めてみましょう。\n"
   ]
  },
  {
   "cell_type": "markdown",
   "metadata": {},
   "source": [
    "**練習問題** $0 \\leq a, b <n$ に対して、 $(n,n)$ 行列に左から掛けると $a$ 行目 と $b$ 行目をひっくり返した行列になる行列を返す関数 p(n, a, b) を定義しよう。"
   ]
  },
  {
   "cell_type": "markdown",
   "metadata": {},
   "source": [
    "**練習問題** $0 \\leq  a <n$ と 実数 $r$ に対して、 $(n,n)$ 行列に左から掛けると $a$ 行目 を $r$ 倍した行列になる行列を返す関数 q(n, a, r) を定義しよう。"
   ]
  },
  {
   "cell_type": "markdown",
   "metadata": {},
   "source": [
    "**練習問題** $0 \\leq  a, b <n$ と 実数 $r$ に対して、 $(n,n)$ 行列に左から掛けると $a$ 行目 を $r$ 倍したものを $b$ 行目に加えた行列ができるような行列を返す関数 r(n,a,b,r) を定義しよう。"
   ]
  },
  {
   "cell_type": "markdown",
   "metadata": {},
   "source": [
    "**練習問題** p, q, r を用いて、掃き出し法（ガウスの消去法）により、$(n,n)$ の正方行列 $X = (x_{i,j})$ の逆行列を求めるメソッド inv(x) を作成しよう。正則でなければ、None を返すようにしよう。ランダムな行列に対して逆行列を作って掛けることにより、正しさを確認しよう。また、ライブラリ関数の結果と比べてみよう。\n",
    "\n",
    "1. まず、$X$ と単位行列 $I$ を用意する。\n",
    "\n",
    "1. $X$ が単位行列になるように p, q, r で作った基本変換行列を X に左から掛ける。\n",
    "\n",
    "2. それと同時に，I にも同じ行列を左からかけていく。\n",
    "\n",
    "逆行列を求める関数 inv が作れたかどうかは、例えば、つぎのようにして確認できる。\n",
    "```\n",
    "x=np.random.random([9,9])\n",
    "np.set_printoptions(precision=3, suppress=True)\n",
    "print(x)\n",
    "y = inv(x)\n",
    "print(y)\n",
    "print(x@y)\n",
    "```"
   ]
  },
  {
   "cell_type": "markdown",
   "metadata": {},
   "source": [
    "**練習問題** p, q, r の操作を行列の掛け算で行うのは、途中で無駄な行列を作ることになり、効率がよくない。行列の掛け算を行うのではなく、p, q, r を、引数としてとった行列 x 自体を書き換えるようにプログラムを書き換えよう。x に対し、x の右に $n \\times n$ の単位行列を加えた、$n \\times 2n$ の行列を作ろう。それに対し、p, q, r に対応する操作で、行列そのものを書き換える操作 p, q, r を作ろう。それで、左半分を単位行列に変化するような操作を行うと、右半分は、逆行列になっているはずである。"
   ]
  },
  {
   "cell_type": "markdown",
   "metadata": {},
   "source": [
    "実数行列の表記を見やすくするには，次のようにしてprecision を設定しておくといいです。"
   ]
  },
  {
   "cell_type": "code",
   "execution_count": 29,
   "metadata": {},
   "outputs": [],
   "source": [
    "x = np.random.random([3,3])\n",
    "np.set_printoptions(precision=3, suppress=True)"
   ]
  },
  {
   "cell_type": "code",
   "execution_count": 30,
   "metadata": {},
   "outputs": [],
   "source": [
    "y=np.identity(3)"
   ]
  },
  {
   "cell_type": "code",
   "execution_count": 31,
   "metadata": {},
   "outputs": [
    {
     "name": "stdout",
     "output_type": "stream",
     "text": [
      "[[0.736 0.941 0.312]\n",
      " [0.055 0.456 0.857]\n",
      " [0.275 0.37  0.196]]\n",
      "[[1. 0. 0.]\n",
      " [0. 1. 0.]\n",
      " [0. 0. 1.]]\n"
     ]
    }
   ],
   "source": [
    "print(x)\n",
    "print(y)"
   ]
  },
  {
   "cell_type": "markdown",
   "metadata": {},
   "source": [
    "行列に一部に他の行列をコピーするのは，次のようにかけます。"
   ]
  },
  {
   "cell_type": "code",
   "execution_count": 77,
   "metadata": {},
   "outputs": [],
   "source": [
    "z = np.zeros(shape=(3,6))"
   ]
  },
  {
   "cell_type": "code",
   "execution_count": 78,
   "metadata": {},
   "outputs": [],
   "source": [
    "z[0:3,0:3] = x"
   ]
  },
  {
   "cell_type": "code",
   "execution_count": 79,
   "metadata": {},
   "outputs": [
    {
     "data": {
      "text/plain": [
       "array([[0.933, 0.124, 0.018, 1.   , 0.   , 0.   ],\n",
       "       [0.811, 0.495, 0.219, 0.   , 1.   , 0.   ],\n",
       "       [0.672, 0.796, 0.669, 0.   , 0.   , 1.   ]])"
      ]
     },
     "execution_count": 79,
     "metadata": {},
     "output_type": "execute_result"
    }
   ],
   "source": [
    "z[0:3,3:6] = y\n",
    "z"
   ]
  }
 ],
 "metadata": {
  "kernelspec": {
   "display_name": "Python 3 (ipykernel)",
   "language": "python",
   "name": "python3"
  },
  "language_info": {
   "codemirror_mode": {
    "name": "ipython",
    "version": 3
   },
   "file_extension": ".py",
   "mimetype": "text/x-python",
   "name": "python",
   "nbconvert_exporter": "python",
   "pygments_lexer": "ipython3",
   "version": "3.9.7"
  }
 },
 "nbformat": 4,
 "nbformat_minor": 4
}
