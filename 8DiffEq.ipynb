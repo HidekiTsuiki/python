{
 "cells": [
  {
   "cell_type": "markdown",
   "metadata": {},
   "source": [
    "# ipwidget を用いたインターラクティブな値の設定\n",
    "\n",
    "ipywidgets パッケージを用いると，Jupyter notebook で変数の値を変化させながらプログラムを実行させる\n",
    "ウィジェット（グラフィカルユーザーインターフェース(GUI)の部品）を利用できます。\n",
    "\n",
    "詳細は，次のドキュメントを見てください。\n",
    "\n",
    "https://ipywidgets.readthedocs.io/en/latest/examples/Using%20Interact.html\n",
    "\n",
    "スライダーで値を設定すると，slider.value の値がその値になっています。"
   ]
  },
  {
   "cell_type": "code",
   "execution_count": 46,
   "metadata": {},
   "outputs": [
    {
     "data": {
      "application/vnd.jupyter.widget-view+json": {
       "model_id": "349401e969204b7ab10fe47e081b3023",
       "version_major": 2,
       "version_minor": 0
      },
      "text/plain": [
       "IntSlider(value=0)"
      ]
     },
     "metadata": {},
     "output_type": "display_data"
    },
    {
     "data": {
      "text/plain": [
       "0"
      ]
     },
     "execution_count": 46,
     "metadata": {},
     "output_type": "execute_result"
    }
   ],
   "source": [
    "import ipywidgets as widgets\n",
    "slider = widgets.IntSlider()\n",
    "display(slider)\n",
    "slider.value"
   ]
  },
  {
   "cell_type": "code",
   "execution_count": 47,
   "metadata": {},
   "outputs": [
    {
     "data": {
      "text/plain": [
       "0"
      ]
     },
     "execution_count": 47,
     "metadata": {},
     "output_type": "execute_result"
    }
   ],
   "source": [
    "slider.value"
   ]
  },
  {
   "cell_type": "code",
   "execution_count": 48,
   "metadata": {},
   "outputs": [
    {
     "data": {
      "application/vnd.jupyter.widget-view+json": {
       "model_id": "adffdc933c0949e4b386e5941c5e310b",
       "version_major": 2,
       "version_minor": 0
      },
      "text/plain": [
       "IntSlider(value=7, description='Test:', max=10, orientation='vertical', step=2)"
      ]
     },
     "metadata": {},
     "output_type": "display_data"
    },
    {
     "data": {
      "text/plain": [
       "7"
      ]
     },
     "execution_count": 48,
     "metadata": {},
     "output_type": "execute_result"
    }
   ],
   "source": [
    "import ipywidgets as widgets\n",
    "vslider = widgets.IntSlider(\n",
    "    value=7,\n",
    "    min=0,\n",
    "    max=10,\n",
    "    step=2,\n",
    "    description='Test:',\n",
    "    orientation='vertical',\n",
    ")\n",
    "display(vslider)\n",
    "vslider.value"
   ]
  },
  {
   "cell_type": "code",
   "execution_count": 49,
   "metadata": {},
   "outputs": [
    {
     "data": {
      "text/plain": [
       "7"
      ]
     },
     "execution_count": 49,
     "metadata": {},
     "output_type": "execute_result"
    }
   ],
   "source": [
    "vslider.value"
   ]
  },
  {
   "cell_type": "code",
   "execution_count": 50,
   "metadata": {},
   "outputs": [
    {
     "data": {
      "application/vnd.jupyter.widget-view+json": {
       "model_id": "195408b212104133946e5ca5116a491b",
       "version_major": 2,
       "version_minor": 0
      },
      "text/plain": [
       "Dropdown(description='Number:', options=('One', 'Two', 'Three'), value='One')"
      ]
     },
     "metadata": {},
     "output_type": "display_data"
    }
   ],
   "source": [
    "dd =  widgets.Dropdown(\n",
    "    options=['One', 'Two', 'Three'],\n",
    "    description='Number:',\n",
    ")\n",
    "display(dd)"
   ]
  },
  {
   "cell_type": "code",
   "execution_count": 51,
   "metadata": {},
   "outputs": [
    {
     "data": {
      "text/plain": [
       "'One'"
      ]
     },
     "execution_count": 51,
     "metadata": {},
     "output_type": "execute_result"
    }
   ],
   "source": [
    "dd.value"
   ]
  },
  {
   "cell_type": "markdown",
   "metadata": {},
   "source": [
    "# Interact の利用"
   ]
  },
  {
   "cell_type": "markdown",
   "metadata": {},
   "source": [
    "インターラクティブな値を利用するのには，Interact が便利です。自動的に一番適した Widget が作成され，\n",
    "値が変化すると，そのたびに，新しい値が関数に適用されます。"
   ]
  },
  {
   "cell_type": "code",
   "execution_count": 52,
   "metadata": {},
   "outputs": [],
   "source": [
    "from __future__ import print_function\n",
    "from ipywidgets import interact, interactive, fixed, interact_manual\n",
    "import ipywidgets as widgets"
   ]
  },
  {
   "cell_type": "code",
   "execution_count": 53,
   "metadata": {},
   "outputs": [],
   "source": [
    "def f(x=40):\n",
    "    return (x*x)"
   ]
  },
  {
   "cell_type": "code",
   "execution_count": 54,
   "metadata": {},
   "outputs": [
    {
     "data": {
      "application/vnd.jupyter.widget-view+json": {
       "model_id": "aa538280aaf248798b72f2ca1ce24024",
       "version_major": 2,
       "version_minor": 0
      },
      "text/plain": [
       "interactive(children=(IntSlider(value=40, description='x', max=120, min=-40), Output()), _dom_classes=('widget…"
      ]
     },
     "metadata": {},
     "output_type": "display_data"
    }
   ],
   "source": [
    "interact(f, x=40);"
   ]
  },
  {
   "cell_type": "code",
   "execution_count": 55,
   "metadata": {},
   "outputs": [],
   "source": [
    "def g(x):\n",
    "    print(x)\n",
    "    print (x*x)"
   ]
  },
  {
   "cell_type": "code",
   "execution_count": 56,
   "metadata": {},
   "outputs": [
    {
     "data": {
      "application/vnd.jupyter.widget-view+json": {
       "model_id": "2721a051480f40358f970e05048a0eec",
       "version_major": 2,
       "version_minor": 0
      },
      "text/plain": [
       "interactive(children=(FloatSlider(value=10.0, description='x', max=30.0, min=-10.0), Output()), _dom_classes=(…"
      ]
     },
     "metadata": {},
     "output_type": "display_data"
    }
   ],
   "source": [
    "interact(g, x=10.0);"
   ]
  },
  {
   "cell_type": "code",
   "execution_count": 57,
   "metadata": {},
   "outputs": [
    {
     "data": {
      "application/vnd.jupyter.widget-view+json": {
       "model_id": "69e25e2b6bb1473587e98ab24a6a03ab",
       "version_major": 2,
       "version_minor": 0
      },
      "text/plain": [
       "interactive(children=(IntSlider(value=0, description='x', max=30, step=2), Output()), _dom_classes=('widget-in…"
      ]
     },
     "metadata": {},
     "output_type": "display_data"
    }
   ],
   "source": [
    "interact(f, x=widgets.IntSlider(min=0, max=30, step=2, value=0));\n"
   ]
  },
  {
   "cell_type": "code",
   "execution_count": 58,
   "metadata": {},
   "outputs": [
    {
     "data": {
      "application/vnd.jupyter.widget-view+json": {
       "model_id": "eb08f63b1d7c45d6ad2105ddec48cde4",
       "version_major": 2,
       "version_minor": 0
      },
      "text/plain": [
       "interactive(children=(IntSlider(value=30, description='x', max=30, step=2), Output()), _dom_classes=('widget-i…"
      ]
     },
     "metadata": {},
     "output_type": "display_data"
    }
   ],
   "source": [
    "interact(f, x=(0,30,2));"
   ]
  },
  {
   "cell_type": "code",
   "execution_count": 59,
   "metadata": {},
   "outputs": [
    {
     "data": {
      "application/vnd.jupyter.widget-view+json": {
       "model_id": "5bcab1f2fe5a4f72857be1af11105bf5",
       "version_major": 2,
       "version_minor": 0
      },
      "text/plain": [
       "interactive(children=(IntSlider(value=2, description='n', max=3, min=1), Dropdown(description='x', options=('a…"
      ]
     },
     "metadata": {},
     "output_type": "display_data"
    }
   ],
   "source": [
    "def h(n, x):\n",
    "    print(f\"I have {n} {x}.\")\n",
    "    \n",
    "interact(h, x=['apples','oranges'], n=(1,3,1));"
   ]
  },
  {
   "cell_type": "markdown",
   "metadata": {},
   "source": [
    "# Matplotlib と微分方程式の数値的解法\n"
   ]
  },
  {
   "cell_type": "markdown",
   "metadata": {},
   "source": [
    "# matplotlib によるグラフの描画\n",
    "\n",
    "numpy で数値計算した結果を、matplotlib で描画することを考えましょう。\n",
    "第1回で与えた例題は、次のものでした。"
   ]
  },
  {
   "cell_type": "code",
   "execution_count": 60,
   "metadata": {},
   "outputs": [
    {
     "data": {
      "text/plain": [
       "[<matplotlib.lines.Line2D at 0x7fb580c8c460>]"
      ]
     },
     "execution_count": 60,
     "metadata": {},
     "output_type": "execute_result"
    },
    {
     "data": {
      "image/png": "[encoded data removed]",
      "text/plain": [
       "<Figure size 432x288 with 1 Axes>"
      ]
     },
     "metadata": {
      "needs_background": "light"
     },
     "output_type": "display_data"
    }
   ],
   "source": [
    "%matplotlib inline\n",
    "import numpy as np\n",
    "import matplotlib.pyplot as plt\n",
    "x = np.linspace(0, 1, 100)\n",
    "plt.plot(x, x*x)\n",
    "plt.plot(x, 4*x*(1-x))\n",
    "plt.plot(x, np.sin(2*np.pi*x))\n",
    "#plt.show()"
   ]
  },
  {
   "cell_type": "markdown",
   "metadata": {},
   "source": [
    "```\n",
    "np.linspace(0, 1, 100)\n",
    "```\n",
    "は、[0,1] 区間を 100 等分float の長さ 100 の実数の ndarray を返します。 "
   ]
  },
  {
   "cell_type": "code",
   "execution_count": 61,
   "metadata": {},
   "outputs": [
    {
     "name": "stdout",
     "output_type": "stream",
     "text": [
      "(100,)\n",
      "float64\n",
      "[0.         0.01010101 0.02020202 0.03030303 0.04040404 0.05050505\n",
      " 0.06060606 0.07070707 0.08080808 0.09090909 0.1010101  0.11111111\n",
      " 0.12121212 0.13131313 0.14141414 0.15151515 0.16161616 0.17171717\n",
      " 0.18181818 0.19191919 0.2020202  0.21212121 0.22222222 0.23232323\n",
      " 0.24242424 0.25252525 0.26262626 0.27272727 0.28282828 0.29292929\n",
      " 0.3030303  0.31313131 0.32323232 0.33333333 0.34343434 0.35353535\n",
      " 0.36363636 0.37373737 0.38383838 0.39393939 0.4040404  0.41414141\n",
      " 0.42424242 0.43434343 0.44444444 0.45454545 0.46464646 0.47474747\n",
      " 0.48484848 0.49494949 0.50505051 0.51515152 0.52525253 0.53535354\n",
      " 0.54545455 0.55555556 0.56565657 0.57575758 0.58585859 0.5959596\n",
      " 0.60606061 0.61616162 0.62626263 0.63636364 0.64646465 0.65656566\n",
      " 0.66666667 0.67676768 0.68686869 0.6969697  0.70707071 0.71717172\n",
      " 0.72727273 0.73737374 0.74747475 0.75757576 0.76767677 0.77777778\n",
      " 0.78787879 0.7979798  0.80808081 0.81818182 0.82828283 0.83838384\n",
      " 0.84848485 0.85858586 0.86868687 0.87878788 0.88888889 0.8989899\n",
      " 0.90909091 0.91919192 0.92929293 0.93939394 0.94949495 0.95959596\n",
      " 0.96969697 0.97979798 0.98989899 1.        ]\n"
     ]
    }
   ],
   "source": [
    "x = np.linspace(0, 1, 100)\n",
    "print(x.shape)\n",
    "print(x.dtype)\n",
    "print(x)"
   ]
  },
  {
   "cell_type": "markdown",
   "metadata": {},
   "source": [
    "`x*x` は，np の ndarray の積なので，要素の積をとった ndarray になります。"
   ]
  },
  {
   "cell_type": "code",
   "execution_count": 62,
   "metadata": {},
   "outputs": [
    {
     "name": "stdout",
     "output_type": "stream",
     "text": [
      "[0.00000000e+00 1.02030405e-04 4.08121620e-04 9.18273646e-04\n",
      " 1.63248648e-03 2.55076013e-03 3.67309458e-03 4.99948985e-03\n",
      " 6.52994592e-03 8.26446281e-03 1.02030405e-02 1.23456790e-02\n",
      " 1.46923783e-02 1.72431385e-02 1.99979594e-02 2.29568411e-02\n",
      " 2.61197837e-02 2.94867871e-02 3.30578512e-02 3.68329762e-02\n",
      " 4.08121620e-02 4.49954086e-02 4.93827160e-02 5.39740843e-02\n",
      " 5.87695133e-02 6.37690032e-02 6.89725538e-02 7.43801653e-02\n",
      " 7.99918376e-02 8.58075707e-02 9.18273646e-02 9.80512193e-02\n",
      " 1.04479135e-01 1.11111111e-01 1.17947148e-01 1.24987246e-01\n",
      " 1.32231405e-01 1.39679625e-01 1.47331905e-01 1.55188246e-01\n",
      " 1.63248648e-01 1.71513111e-01 1.79981635e-01 1.88654219e-01\n",
      " 1.97530864e-01 2.06611570e-01 2.15896337e-01 2.25385165e-01\n",
      " 2.35078053e-01 2.44975003e-01 2.55076013e-01 2.65381084e-01\n",
      " 2.75890215e-01 2.86603408e-01 2.97520661e-01 3.08641975e-01\n",
      " 3.19967350e-01 3.31496786e-01 3.43230283e-01 3.55167840e-01\n",
      " 3.67309458e-01 3.79655137e-01 3.92204877e-01 4.04958678e-01\n",
      " 4.17916539e-01 4.31078461e-01 4.44444444e-01 4.58014488e-01\n",
      " 4.71788593e-01 4.85766758e-01 4.99948985e-01 5.14335272e-01\n",
      " 5.28925620e-01 5.43720029e-01 5.58718498e-01 5.73921028e-01\n",
      " 5.89327620e-01 6.04938272e-01 6.20752984e-01 6.36771758e-01\n",
      " 6.52994592e-01 6.69421488e-01 6.86052444e-01 7.02887460e-01\n",
      " 7.19926538e-01 7.37169677e-01 7.54616876e-01 7.72268136e-01\n",
      " 7.90123457e-01 8.08182838e-01 8.26446281e-01 8.44913784e-01\n",
      " 8.63585348e-01 8.82460973e-01 9.01540659e-01 9.20824406e-01\n",
      " 9.40312213e-01 9.60004081e-01 9.79900010e-01 1.00000000e+00]\n"
     ]
    }
   ],
   "source": [
    "print(x*x)"
   ]
  },
  {
   "cell_type": "markdown",
   "metadata": {},
   "source": [
    "`plt.plot` は、x 座標と y 座標のリストをもらい、その点をつないだグラフを描画するように説明しましたが、リストの代わりに、ndarray も引数としてとることができます。よって、x, x*x を引数として ndarray を呼び出すとこのように描画が行われます。"
   ]
  },
  {
   "cell_type": "markdown",
   "metadata": {},
   "source": [
    "matplotlib には、グラフをきれいに描画するためのいろんな設定があります。例えば、上のグラフで縦軸と横軸が均一にすることは、\n",
    "plt.axis('scaled')\n",
    "でできます。また、x, y の範囲を指定することは、\n",
    "plt.axis([-0.5,1.5,0.0,2.0])\n",
    "でできます。plt.plot の引数も、いろんな指定ができます。下の例を見て、help(plt.plot) で調べてみましょう。また、matplotlib のマニュアルをみましょう。\n",
    "\n",
    "https://matplotlib.org/index.html\n"
   ]
  },
  {
   "cell_type": "code",
   "execution_count": 63,
   "metadata": {},
   "outputs": [
    {
     "data": {
      "image/png": "[encoded data removed]",
      "text/plain": [
       "<Figure size 432x288 with 1 Axes>"
      ]
     },
     "metadata": {
      "needs_background": "light"
     },
     "output_type": "display_data"
    }
   ],
   "source": [
    "%matplotlib inline\n",
    "import numpy as np\n",
    "import matplotlib.pyplot as plt\n",
    "x = np.linspace(0, 1, 100)\n",
    "plt.axis('scaled')\n",
    "plt.axis([-0.5,1.5,0.0,2.0])\n",
    "plt.plot(x, x*x, label='y=x*x')\n",
    "plt.plot(x, 4*x*(1-x), label='y=4x(1-x)',linewidth=0.5)\n",
    "plt.plot(x, np.sin(2*np.pi*x))\n",
    "plt.plot([0,0.5,1], [0,1,1], label='line')\n",
    "plt.plot([0,0.5,1], [1,1.5,1.5], 'rs', label='plots')\n",
    "# rs は、red, square\n",
    "plt.legend(loc='upper left')\n",
    "plt.show()\n"
   ]
  },
  {
   "cell_type": "markdown",
   "metadata": {},
   "source": [
    "sin は、math ライブラリにもあり、math.sin でも sin の値を求めることができます。それに対し、\n",
    "np.sin のような、np のライブラリ関数は、ndarray も引数としてとることができるので、ndarray x に対して`np.sin(2*np.pi*x)` のように簡単にかけます。しかし、pythonで定義した関数のグラフを描こうとすると、 リスト処理の時に説明したような方法で、map やリストの内包表現でリストを作って、plot に渡す必要があります。\n"
   ]
  },
  {
   "cell_type": "code",
   "execution_count": 64,
   "metadata": {},
   "outputs": [
    {
     "data": {
      "image/png": "[encoded data removed]",
      "text/plain": [
       "<Figure size 432x288 with 1 Axes>"
      ]
     },
     "metadata": {
      "needs_background": "light"
     },
     "output_type": "display_data"
    }
   ],
   "source": [
    "%matplotlib inline\n",
    "import numpy as np\n",
    "import matplotlib.pyplot as plt\n",
    "import math\n",
    "\n",
    "#例えば、こんな関数を描画しようとする。（適当に考えた関数です。）\n",
    "def f(x):\n",
    "    for i in range (int(x*10)):\n",
    "        x = 3.5* x * (1-x)\n",
    "    return x\n",
    "\n",
    "x = np.linspace(0, 1, 1000)\n",
    "plt.grid()\n",
    "y = list(map(f,x))\n",
    "# y = [f(i) for i in x]  # 内包表現を用いたこれでも同じ\n",
    "plt.plot(x, y)\n",
    "plt.show()"
   ]
  },
  {
   "cell_type": "markdown",
   "metadata": {},
   "source": [
    "Interact と組み合わせると，グラフをパラメータで変化させることができます。\n",
    "\n",
    "**練習問題** [0,1] 区間で定義されたロジスティック関数 $f(x) = ax(1-x)$ に対し，$f^n$ を描画する関数\n",
    "```\n",
    "logistic(a, n)\n",
    "```\n",
    "を作ろう。a のデフォルトの値は 4, n のデフォルトの値は 1 にしよう。"
   ]
  },
  {
   "cell_type": "code",
   "execution_count": 66,
   "metadata": {},
   "outputs": [
    {
     "data": {
      "image/png": "[encoded data removed]",
      "text/plain": [
       "<Figure size 432x288 with 1 Axes>"
      ]
     },
     "metadata": {
      "needs_background": "light"
     },
     "output_type": "display_data"
    }
   ],
   "source": [
    "%matplotlib inline\n",
    "import numpy as np\n",
    "import matplotlib.pyplot as plt\n",
    "from ipywidgets import interact\n",
    "\n",
    "def logistic(a=4,n=1):\n",
    "    plt.axis('scaled')\n",
    "    plt.axis([0.0, 1.0, 0.0, 1.0])\n",
    "    x = np.linspace(0, 1, 1000)\n",
    "    y = x\n",
    "    for i in range(n):\n",
    "         y= y * (1-y) * a\n",
    "    plt.grid()\n",
    "    plt.plot(x, y)\n",
    "    plt.show()\n",
    "\n",
    "logistic(3.5, 2)\n"
   ]
  },
  {
   "cell_type": "markdown",
   "metadata": {},
   "source": [
    "**練習問題** logistic 関数を interact で動かして，a を [0,4] で, $n$ を 1 から 10 で変化させられるようにしよう。"
   ]
  },
  {
   "cell_type": "code",
   "execution_count": 67,
   "metadata": {},
   "outputs": [
    {
     "data": {
      "application/vnd.jupyter.widget-view+json": {
       "model_id": "e61db4cb44ee4e56a9fa823ae2110a72",
       "version_major": 2,
       "version_minor": 0
      },
      "text/plain": [
       "interactive(children=(FloatSlider(value=4.0, description='a', max=4.0), IntSlider(value=1, description='n', ma…"
      ]
     },
     "metadata": {},
     "output_type": "display_data"
    },
    {
     "data": {
      "text/plain": [
       "<function __main__.logistic(a=4, n=1)>"
      ]
     },
     "execution_count": 67,
     "metadata": {},
     "output_type": "execute_result"
    }
   ],
   "source": [
    "interact(logistic, a=(0, 4, 0.1), n=(0,10,1))    "
   ]
  },
  {
   "cell_type": "markdown",
   "metadata": {},
   "source": [
    "**練習問題10**\n",
    "\n",
    "0 の周りのテイラー展開（マクローリン展開）は、無限回微分可能な実数値関数 $f(x)$\n",
    "に対し、\n",
    "$$\n",
    "\\sum_{i=0}^{\\infty}\\frac{f^{(i)}(0)}{i!}x^n\n",
    "$$\n",
    "という無限級数を得ることである。\n",
    "いろんな関数と $n$ に対し、$n$までの和をとったテイラー展開の近似を描いてみよう。\n",
    "階乗は、math.factorial 関数を用いればよい。\n",
    "\n",
    "まずは、$f(x) = sin(x)$ に対して行おう。まず，$sin^{(i)}(0)$ を数式で表そう。\n",
    "i をもらって $sin^{(i)}(0)$ を返す d0sin という関数を作ろう。そして、n と x をもらい、sin の n 項目までの展開を返す関数 taylor(n,x)\n",
    "をつくり、 それを用いて、\n",
    "```\n",
    "   taylorgraph(i)   (i は optional, default は 5)\n",
    "```\n",
    "として、i までの展開を描画する関数を作ろう。それを，Interact を用いて動かそう。"
   ]
  },
  {
   "cell_type": "markdown",
   "metadata": {},
   "source": [
    "**練習問題20** 同様のことを他の関数についても行いたいが、それぞれを別に行なったのでは、きれいと言えない。描画したい関数を意味する文字列 fname と 数 n に対し、\n",
    "```\n",
    "   taylorgraph(fname, n)   (n は optional, default は 5)\n",
    "```\n",
    "で描画できるようにすることを考えよう。\n",
    "その時には、\"fname\" という名前から、もともとの関数とi をもらい,その関数の 0 での i 回目の導関数の値を返す関数と、x , y の変化する範囲をとってこれるような辞書を作り、それに、個々の関数ごとの情報は登録しておくのがいいだろう。次のような関数について、行なってみよう。\n",
    "\n",
    "1. $f(x) = sin(x)$    $\\ \\ \\ (-10 \\leq x \\leq 10, -2 \\leq y \\leq 2)$\n",
    "\n",
    "2. $f(x) = log(x+1)$  $\\ \\ \\ (-0.9 \\leq x \\leq 10, -2 \\leq y \\leq 2)$\n",
    "\n",
    "3. $f(x) = 1/(x+1)$ `     ` (範囲は適当に考えよう)\n",
    "\n",
    "4. $f(x) = e^x$\n",
    "\n",
    "それを，Interact で，関数名と，n を変化させながら描画できるようにしよう。"
   ]
  },
  {
   "cell_type": "markdown",
   "metadata": {},
   "source": [
    "**練習問題21** \n",
    "$sin(x-a)$ に対して同じことができるようにし，a の値を $-2\\pi$ から $2\\pi$ まで動かせるようにしよう。"
   ]
  },
  {
   "cell_type": "markdown",
   "metadata": {},
   "source": [
    "# 微分方程式とオイラー法\n",
    "\n",
    "一階の微分方程式\n",
    "$$\n",
    "\\frac{dx}{dt} = f(x, t)\n",
    "$$\n",
    "を考えます。$f$ によっては、この微分方程式の解となる関数が解析的に求まっていますが，ほとんどの $f$ に対してそのような $f$ を数式として求めることはできていません。そこで，コンピュータを用いて近似的に求めることが考えられます。そのような近似の方法として，オイラー法があります。この微分方程式は，時刻 $t_n$ の $x$の値が $x_n$ である時，十分小さい $\\Delta$ に対して，$\\Delta$ 後の $x$ の値は，\n",
    "$$\n",
    "x_{n+1} = f(x_n, t_n)\\Delta  + x_n\n",
    "$$\n",
    "で近似できることを意味しています。\n",
    "このことから，初期値 $x_0$ に対して，順に $x_n$ を求めていくことにより近似的に解を求めることができます。"
   ]
  },
  {
   "cell_type": "markdown",
   "metadata": {},
   "source": [
    "微分方程式\n",
    "$$\n",
    "\\frac{dx}{dt} = -x\n",
    "$$\n",
    "を数値的に解いて，時間 0 で x = 10 の時，時間 $t$ の $x$ の値を求めてみよう。横軸に t, 縦軸に変位 x をとって，グラフを書こう。これを解析的に解くと，\n",
    "$$\n",
    "x = Ce^{-t}\n",
    "$$\n",
    "となる。初期値を合わせると C = 10 である。そのグラフと重ね合わせてみよう。"
   ]
  },
  {
   "cell_type": "code",
   "execution_count": 43,
   "metadata": {},
   "outputs": [
    {
     "data": {
      "text/plain": [
       "<function matplotlib.pyplot.show(close=None, block=None)>"
      ]
     },
     "execution_count": 43,
     "metadata": {},
     "output_type": "execute_result"
    },
    {
     "data": {
      "image/png": "[encoded data removed]",
      "text/plain": [
       "<Figure size 432x288 with 1 Axes>"
      ]
     },
     "metadata": {
      "needs_background": "light"
     },
     "output_type": "display_data"
    }
   ],
   "source": [
    "%matplotlib inline\n",
    "import numpy as np\n",
    "import matplotlib.pyplot as plt\n",
    "import math\n",
    "\n",
    "t = 0\n",
    "x = 10\n",
    "delta = 0.1\n",
    "timeline = []\n",
    "itinerary = []\n",
    "for n in range(100):\n",
    "    itinerary.append(x)\n",
    "    timeline.append(t)\n",
    "    x = x - x * delta\n",
    "    t = t + delta\n",
    "plt.plot(timeline, itinerary)\n",
    "\n",
    "y = [10*math.e**(-t) for t in timeline]\n",
    "plt.plot(timeline, y)\n",
    "\n",
    "plt.show\n",
    "\n"
   ]
  },
  {
   "cell_type": "markdown",
   "metadata": {},
   "source": [
    "二解階の微分方程式\n",
    "$$\n",
    "\\frac{d^2x}{dt^2} = f(x, t)\n",
    "$$\n",
    "においても，$x$ に加えて，$y = \\frac{dx}{dt}$ も変数だとして，\n",
    "$$\n",
    "\\begin{array}{rl}\n",
    "\\frac{dx}{dt} &= y\\\\\n",
    "\\frac{dy}{dt} &= f(x, t)\\\\\n",
    "\\end{array}\n",
    "$$\n",
    "を数値的に解けば，近似解が得られます。"
   ]
  },
  {
   "cell_type": "markdown",
   "metadata": {},
   "source": [
    "**練習問題30**\n",
    "$$\n",
    "\\frac{d^2x}{dt^2} = -x\n",
    "$$\n",
    "を解いてみよう。初期値は x = 1 で，$\\frac{dx}{dt}$（すなわち速度） の初期値は 0 としよう。これの解析的な解は，$x =  cos(t)$ です。比べよう。\n",
    "$\\Delta$ のとり方で，近似の精度はどう変わるかみてみよう。"
   ]
  },
  {
   "cell_type": "markdown",
   "metadata": {},
   "source": [
    "詳しくは次回お話しますが，matplotlib による描画は，ここで行った，単純な手続きではなく，ax という座標軸を持ったグラフのオブジェクトに対して plot などのメソッドを呼び出して行う方が，より汎用性があります。ax は，次のようにして作ります。"
   ]
  },
  {
   "cell_type": "code",
   "execution_count": 44,
   "metadata": {},
   "outputs": [
    {
     "data": {
      "text/plain": [
       "[<matplotlib.lines.Line2D at 0x7fb580ca3f40>]"
      ]
     },
     "execution_count": 44,
     "metadata": {},
     "output_type": "execute_result"
    },
    {
     "data": {
      "image/png": "[encoded data removed]",
      "text/plain": [
       "<Figure size 432x288 with 1 Axes>"
      ]
     },
     "metadata": {
      "needs_background": "light"
     },
     "output_type": "display_data"
    }
   ],
   "source": [
    "%matplotlib inline\n",
    "import matplotlib.pyplot as plt\n",
    "import numpy as np\n",
    "\n",
    "x = np.linspace(0, np.pi*4, 1000)\n",
    "y = np.sin(x)\n",
    "\n",
    "fig = plt.figure()\n",
    "ax = fig.add_subplot(1,1,1)  # ax subplot によるの作成\n",
    "\n",
    "ax.plot(x, y)\n"
   ]
  },
  {
   "cell_type": "markdown",
   "metadata": {},
   "source": [
    "この方法だと，\n",
    "```\n",
    "from mpl_toolkits.mplot3d import Axes3D\n",
    "```\n",
    "で Axes3D を import しておき\n",
    "```\n",
    "ax = plt.subplot(111, projection='3d')\n",
    "```\n",
    "で ax を作成すれば，\n",
    "```\n",
    "ax.plot(ix, iy, iz)\n",
    "```\n",
    "で 3 次元の描画が可能となります。"
   ]
  },
  {
   "cell_type": "markdown",
   "metadata": {},
   "source": [
    "Lorenz の微分方程式と言われるものがあります。これは，気象学者 Lorenz が，大気変動モデルとして提案したものです。\n",
    "$$\n",
    "\\begin{array}{rl}\n",
    "\\frac{dx}{dt} &= -px + py\\\\\n",
    "\\frac{dy}{dt} &= -xz + rx - y\\\\\n",
    "\\frac{dz}{dt} &= xy - bz\\\\\n",
    "\\end{array}\n",
    "$$\n",
    "\n",
    "このグラフ（ローレンツアトラクター）は，初期値鋭敏性といって，ほんのちょっとした初期値の違いで，全く異なった状態に到達するカオスの例として有名です。\n",
    "\n",
    "\n",
    "**練習問題40** \n",
    "p = 10、r = 28、b = 8/3 という設定のもとでの，この微分方程式に従う軌跡を描画してみよう。初期値は，どこでもよいが，(1,1,1) としよう。\n",
    "今回は，(x, y, z) という点が 3 次元空間でどのように移動するか，その軌跡を 3 次元プロットしよう。"
   ]
  },
  {
   "cell_type": "markdown",
   "metadata": {},
   "source": [
    "**練習問題** 3 次元プロットされた絵は，\n",
    "```\n",
    "%matplotlib inline \n",
    "```\n",
    "の代わりに\n",
    "%matplotlib tk\n",
    "とすると，３次元画像をマウスを用いて回転させながら見ることができる。実行してみよう。"
   ]
  },
  {
   "cell_type": "markdown",
   "metadata": {},
   "source": [
    "**練習問題** オイラー法による近似はそれほど正確とは言えない。\n",
    "微分方程式のよりよい近似を得る方法にルンゲクッタ法と呼ばれる方法がある。これについてネットで調べ，ルンゲクッタ法で練習問題をやり直してみよう。"
   ]
  },
  {
   "cell_type": "code",
   "execution_count": null,
   "metadata": {},
   "outputs": [],
   "source": []
  },
  {
   "cell_type": "code",
   "execution_count": 45,
   "metadata": {},
   "outputs": [
    {
     "data": {
      "image/png": "[encoded data removed]",
      "text/plain": [
       "<Figure size 432x288 with 1 Axes>"
      ]
     },
     "metadata": {
      "needs_background": "light"
     },
     "output_type": "display_data"
    }
   ],
   "source": [
    "# 練習問題40\n",
    "%matplotlib inline\n",
    "import numpy as np\n",
    "import matplotlib.pyplot as plt\n",
    "from mpl_toolkits.mplot3d import Axes3D\n",
    "\n",
    "def TDfigure():\n",
    "    fig = plt.figure()\n",
    "    ax = fig.add_subplot(1,1,1, projection='3d')\n",
    "  \n",
    "    x=np.linspace(-1, 1, 100)\n",
    "    y=np.linspace(-1, 1, 100)\n",
    "    X, Y = np.meshgrid(x, y)\n",
    "    Z = X*X + Y*Y\n",
    "    ax.plot_surface(X, Y, Z)\n",
    "    plt.show()\n",
    "    \n",
    "    \n",
    "TDfigure()\n"
   ]
  },
  {
   "cell_type": "code",
   "execution_count": null,
   "metadata": {},
   "outputs": [],
   "source": []
  }
 ],
 "metadata": {
  "kernelspec": {
   "display_name": "Python 3 (ipykernel)",
   "language": "python",
   "name": "python3"
  },
  "language_info": {
   "codemirror_mode": {
    "name": "ipython",
    "version": 3
   },
   "file_extension": ".py",
   "mimetype": "text/x-python",
   "name": "python",
   "nbconvert_exporter": "python",
   "pygments_lexer": "ipython3",
   "version": "3.9.7"
  }
 },
 "nbformat": 4,
 "nbformat_minor": 4
}
