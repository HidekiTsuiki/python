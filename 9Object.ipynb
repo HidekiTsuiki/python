{
 "cells": [
  {
   "cell_type": "markdown",
   "metadata": {},
   "source": [
    "# オブジェクト指向"
   ]
  },
  {
   "cell_type": "markdown",
   "metadata": {},
   "source": [
    "## オブジェクトの属性とメソッド"
   ]
  },
  {
   "cell_type": "markdown",
   "metadata": {},
   "source": [
    "複素数は，real, imag というデータ属性をもっていました。このように，各オブジェクトは、その属するクラス（型と同義でした）ごとに決まったデータ属性(attribute)を持っています。データ属性は，オブジェクト指向的なプログラムの場合には，インスタンス変数ともいいます。多くのデータ処理では，構造を持ったデータを扱います。例えば，学生のデータは，名前，所属，学年，学籍番号などのデータを持つでしょう。これらの値は，学生オブジェクトの属性（インスタンス変数）として持つように，学生クラスを定義するのが自然です。\n",
    "\n",
    "一方，オブジェクトには，メソッド呼び出しができましたが，そのオブジェクトに対して呼び出せるメソッドも，オブジェクトが持つ属性です。このように，属性には，データ属性（インスタンス変数）とメソッドがあります。データ属性と python で呼ばれているものは，オブジェクト指向で一般に\n",
    "インスタンス変数と呼ばれています。ここでは，インスタンス変数と呼ぶことにします。\n",
    "\n",
    "通常の変数や関数は，main モジュールの名前空間に登録された値でした。同様に，\n",
    "それぞれのオブジェクトは名前空間を持っており，属性は，その名前空間に登録された値です。そして，属性の中で，関数がメソッド，関数以外のものがインスタンス変数です。インスタンス変数は，変更可能(mutable)な場合と，そうでない場合があります。変更可能な場合は，代入によって値を変えたり，del 関数で削除したりできます。\n",
    "\n",
    "インスタンス変数には，\n",
    "```\n",
    "オブジェクト.変数名\n",
    "```\n",
    "という形でアクセスしました。また，メソッド呼び出しは，\n",
    "```\n",
    "オブジェクト.メソッド名()\n",
    "```\n",
    "という形でアクセスしました。これらは，モジュールに属する変数や関数のアクセスと同じ形をしています。\n",
    "このように，. は，オブジェクトやモジュールの名前空間から，その名前のものをとってくるという演算です。\n",
    "そして，それが関数の時には，\"(引数の列)\" を後ろにつけると，その関数の呼び出しになります。ただし，メソッド，すなわち，オブジェクトの名前空間に属する関数の呼び出しは，通常の関数の呼び出しと大きな違いがあります。通常の関数の定義と呼び出しは，次のようになされました。\n"
   ]
  },
  {
   "cell_type": "code",
   "execution_count": 1,
   "metadata": {},
   "outputs": [
    {
     "name": "stdout",
     "output_type": "stream",
     "text": [
      "<function sum at 0x7fa6cc020820>\n",
      "6\n"
     ]
    }
   ],
   "source": [
    "def sum(x):\n",
    "    r = 0;\n",
    "    for a in x:\n",
    "        r += a;\n",
    "    return r\n",
    "print(sum)\n",
    "print(sum([1,2,3]))"
   ]
  },
  {
   "cell_type": "markdown",
   "metadata": {},
   "source": [
    "それに対して，メソッド呼び出しの時には，そのメソッドが定義されているオブジェクトが，関数に第一引数として与えられます。つまり，\n",
    "```\n",
    "オブジェクト.メソッド名(引数１, ..., 引数n)\n",
    "```\n",
    "という呼び出しがなされると，メソッド名の関数に対して，\n",
    "```\n",
    "メソッド名(オブジェクト，引数１, ..., 引数n)\n",
    "```\n",
    "という関数呼び出しがなされます。\n",
    "実際，append は，リストと要素をもらって，そのリストにその要素を付け加える２引数の関数として定義されています。そして，その第１引数には，メソッドを送られたリストオブジェクトが渡されます。"
   ]
  },
  {
   "cell_type": "code",
   "execution_count": 2,
   "metadata": {},
   "outputs": [
    {
     "name": "stdout",
     "output_type": "stream",
     "text": [
      "[1, 2, 3, 4, 5]\n"
     ]
    }
   ],
   "source": [
    "a= [1,2,3,4];\n",
    "a.append(5)\n",
    "print(a)"
   ]
  },
  {
   "cell_type": "markdown",
   "metadata": {},
   "source": [
    "## オブジェクト指向の考え方\n",
    "\n",
    "複雑に見えますが，オブジェクトの属性となっている関数の呼び出し方をこのように定義しているのは，オブジェクトに，それを処理する手続きも持たせることが，複雑な処理をきれいなプログラムに書くために役に立つからです。\n",
    "\n",
    "例えば，append という名前は，リストに要素を追加する時には自然ですが，一般的な名前なので，自分でプログラムしている時に，使ってしまうことがありそうです。そのような名前の衝突を避けるには，list_append といった長い名前をそれぞれにつけえていくことが考えられますが，これではプログラムが煩雑になります。もちろん，append という1つの関数を用意して，その定義を書き換えて，いろんな型の引数に適用できるようにしていくこともできるでしょうが，それでは，append がどんどん大きくなっていきますし，新しいデータを考えた時に，それに対する append 処理を append 関数に付け加える必要があります。それでは，あるデータを処理するプログラムがあちこちに分散していくことになり，管理がしきれなくなります。\n",
    "\n",
    "そこで，データに，そのデータを処理するための方法をもたせることが考えられます。それが，オブジェクト指向という考え方です。このようにすると，その処理を利用する人の呼び出し手続きが楽になります。\n",
    "\n",
    "例えば，あらゆる電化製品は，ON というボタンを持っています。ON が押された時に行わないといけない処理の詳細は，ディスプレイと電灯では違うと思いますが，詳細は知らなくても ON という名前（から想像される処理）は，ON というボタンを押せばできます。\n",
    "これは，電化製品が ON という処理を中に持っているからです。\n",
    "これにより，電化製品をオブジェクト，ボタンをメソッドに見立てると\n",
    "```\n",
    "オブジェクト.on()\n",
    "```\n",
    "という呼び出しで，そのオブジェクトが内部に持つ ON が呼び出されることになります。普通の関数呼び出しなら，ディスプレイの on なら diaplay_on，Aというパソコンの on なら pc_A_on といった具合に別々の関数を定義して，\n",
    "```\n",
    "diaplay_on(オブジェクト)\n",
    "```\n",
    "などと書くことになると思いますが，これでは，呼び出し処理が大変です。\n",
    "それに対して\n",
    "```\n",
    "オブジェクト.on()\n",
    "```\n",
    "で押せるようにするというのが，オブジェクト指向の考え方です。こうすると，オブジェクトが変数 x に代入されている時，\n",
    "同じ\n",
    "```\n",
    "x.on()\n",
    "```\n",
    "で，x がディスプレイの時にはディスプレイの ON が，x がパソコンの時にはパソコンの ON が起動されるということもできます。これは，単に個々の処理の名前を覚えなくてもいいという以上の利点があります。\n",
    "例えば，いろんな家電製品のリストがあったとして，全て ON するのに，for 文で x という変数に順に代入しながら x.on() を実行していくことができます。これが，もし，x の種類ごとに異なる関数を呼び出さないといけないとすると，大変な場合分けのプログラムになってしまいます。"
   ]
  },
  {
   "cell_type": "markdown",
   "metadata": {},
   "source": [
    "## クラスの定義方法\n",
    "\n",
    "Python では，全てのデータはオブジェクトであり，オブジェクトはクラス（=型）に属しているという話をしました。あるオブジェクトが持つメソッドは，そのオブジェクトの属するクラスに定義されています。\n",
    "\n",
    "自分でクラスを定義する方法を説明しますしょう。\n",
    "\n",
    "クラスの定義は， \n",
    "```\n",
    "class クラス名:\n",
    "```\n",
    "ではじめます。クラス名は，大文字から始めることが推奨されています。この後，インデントを下げてある部分がクラス定義となります。クラスの定義の中には，モジュールのトップレベルに記述する時や，関数定義の時と同様のプログラムが書けます。しかし，普通は，メソッドの定義（と，後に述べるクラス変数の初期値を与える代入）だけを書きます。\n",
    "\n",
    "メソッドは，自分自身を第1引数としてとるような関数定義として書きます。\n",
    "\n",
    "あるクラスのオブジェクトを新たに作るには，クラス名の関数を呼び出します。これを，コンストラクタといいます。`__init__` という名前の，メソッドが定義されていると，コンストラクタが呼び出されて\n",
    "オブジェクトが新しく作られた時に最初に呼び出されます。"
   ]
  },
  {
   "cell_type": "code",
   "execution_count": 2,
   "metadata": {},
   "outputs": [
    {
     "name": "stdout",
     "output_type": "stream",
     "text": [
      "<class '__main__.Point'>\n",
      "<class 'int'>\n",
      "new point generated.\n",
      "new point generated.\n",
      "new point generated.\n",
      "<class '__main__.Point'>\n",
      "Hello I am <__main__.Point object at 0x7f8148d26d00>\n",
      "Hello I am <__main__.Point object at 0x7f8148d394f0>\n",
      "Hello I am <__main__.Point object at 0x7f8148d39be0>\n"
     ]
    }
   ],
   "source": [
    "class Point:\n",
    "    ''' Point class'''\n",
    "    def __init__(self):\n",
    "        print(\"new point generated.\")\n",
    "    def hello(self):\n",
    "        print(f\"Hello I am {self}\")\n",
    " \n",
    "print(Point)\n",
    "print(int)\n",
    "\n",
    "point1 = Point()\n",
    "point2 = Point()\n",
    "point3 = Point()\n",
    "print(type(point1))\n",
    "\n",
    "point1.hello()\n",
    "point2.hello()\n",
    "point3.hello()"
   ]
  },
  {
   "cell_type": "markdown",
   "metadata": {},
   "source": [
    "ここでは Point クラスのインスタンス（あるクラスのオブジェクトを，そのクラスのインスタンスといます）を３つ作ってそれぞれに hello メソッドを呼び出しています。上の例が示すように，これらのPointオブジェクトの型は，`__main__` モジュール のPointクラスです。\n",
    "\n",
    "メソッドは，呼び出されると，その呼出されたオブジェクトを第１引数として呼び出されます。第１引数は，通常，self という名前で定義します。"
   ]
  },
  {
   "cell_type": "markdown",
   "metadata": {},
   "source": [
    "## インスタンス変数の定義\n",
    "\n",
    "オブジェクトは，インスタンス変数を持てるのでした。Point クラスに x というインスタンス変数を与えましょう。インスタンス変数は，オブジェクトの名前空間に登録されている名前でした。すなわち，self にそのオブジェクトが代入されているときには，self.x でアクセスできます。そして，他の変数と同様に，その変数に最初に代入が行われた時にインスタンス変数は作られます。\n",
    "\n",
    "Point クラスを，`__init__` が sekf に加えてもう一つ引数をとるように書き換えましょう。そして，Point(a) という形のコンストラクタ呼び出しでオブジェクトを生成したときに，x というインスタンス変数へ a が代入されることにより，インスタンス変数が作られるようにします。"
   ]
  },
  {
   "cell_type": "code",
   "execution_count": 12,
   "metadata": {},
   "outputs": [
    {
     "name": "stdout",
     "output_type": "stream",
     "text": [
      "Point at 20\n",
      "Point at 50\n",
      "Point at 80\n",
      "Point at 0\n",
      "80\n"
     ]
    }
   ],
   "source": [
    "class Point:\n",
    "    ''' Point class'''\n",
    "    def __init__(self, xx):\n",
    "        self.x = xx\n",
    "    def __str__(self):\n",
    "        return f\"Point at {self.x}\"\n",
    "    def move(self,dist):\n",
    "        self.x = self.x + dist\n",
    "    def moveshow(self, dist):\n",
    "        self.move(dist);\n",
    "        print(self);        \n",
    "\n",
    "        \n",
    "point1 = Point(20)\n",
    "point2 = Point(0)\n",
    "print(point1)  # (20)\n",
    "point1.move(30)\n",
    "print(point1)  # (50) \n",
    "point1.moveshow(30)    # (80)\n",
    "print(point2)  # (0)\n",
    "print(point1.x)\n"
   ]
  },
  {
   "cell_type": "markdown",
   "metadata": {},
   "source": [
    "通常は，このように，`__init__` の中で初期値を与えるようにインスタンス変数への代入を行ってインスタンス変数を作ります。`__str__` という名前のメソッドを作っておくと，それが，そのオブジェクトを表す文字列を作るのに作られます。print 関数は，引数のオブジェクトに対して `__str__` を呼び出して作られる文字列を表示するように作られているので，print 関数による表示の仕方を設定できます。"
   ]
  },
  {
   "cell_type": "markdown",
   "metadata": {},
   "source": [
    "moveshow メソッドでは，自分自身に対して，move メソッドを呼び出し，それから，自分自身をprint しています。"
   ]
  },
  {
   "cell_type": "markdown",
   "metadata": {},
   "source": [
    "インスタンス変数は，オブジェクトの名前空間に登録されているデータ属性なので，最後の行のように\n",
    "```\n",
    "オブジェクト.変数名\n",
    "```\n",
    "でどこでもアクセスできます。この値は，そのクラスで定義されたメソッド以外でも変更できますし，普通はしませんが，新たな変数を作ることもできてしまいます。\n"
   ]
  },
  {
   "cell_type": "code",
   "execution_count": 13,
   "metadata": {},
   "outputs": [
    {
     "name": "stdout",
     "output_type": "stream",
     "text": [
      "Point at 60\n",
      "30\n"
     ]
    }
   ],
   "source": [
    "point1.x = 60\n",
    "print(point1)\n",
    "point1.new1 = 30\n",
    "print(point1.new1)"
   ]
  },
  {
   "cell_type": "markdown",
   "metadata": {},
   "source": [
    "このように，python は，言語としてできることと，通常やっていいことが異なります。言語の仕組みを理解することと，通常の書き方と，２つのことを学ぶ必要があります。（それは，自然言語でも同じで，文法的に正しいことと，通常の会話で話をする事とは違うでしょう。）\n",
    "\n",
    "Python は，文法をシンプルで統一的なものにして，通常のプログラムの書き方（例えば，このように書いたらオブジェクト指向的にプログラムが書ける）といったことを別に学んで，それに従ってみんながプログラムを書くというスタイルになっています。\n",
    "\n",
    "point1 の名前空間の状態を確認しておきましょう。`__init__`, `__str__` 以外は，`__` で囲まれた名前は無視してください。\n"
   ]
  },
  {
   "cell_type": "code",
   "execution_count": 14,
   "metadata": {},
   "outputs": [
    {
     "name": "stdout",
     "output_type": "stream",
     "text": [
      "['__class__', '__delattr__', '__dict__', '__dir__', '__doc__', '__eq__', '__format__', '__ge__', '__getattribute__', '__gt__', '__hash__', '__init__', '__init_subclass__', '__le__', '__lt__', '__module__', '__ne__', '__new__', '__reduce__', '__reduce_ex__', '__repr__', '__setattr__', '__sizeof__', '__str__', '__subclasshook__', '__weakref__', 'move', 'moveshow', 'new1', 'x']\n"
     ]
    }
   ],
   "source": [
    "print(dir(point1))"
   ]
  },
  {
   "cell_type": "markdown",
   "metadata": {},
   "source": [
    "オブジェクトは名前空間をもっており，そこにはインスタンス変数とメソッドを持っているのでした。それに加えて，それぞれのクラスも名前空間を持っています。"
   ]
  },
  {
   "cell_type": "code",
   "execution_count": 15,
   "metadata": {},
   "outputs": [
    {
     "name": "stdout",
     "output_type": "stream",
     "text": [
      "['__class__', '__delattr__', '__dict__', '__dir__', '__doc__', '__eq__', '__format__', '__ge__', '__getattribute__', '__gt__', '__hash__', '__init__', '__init_subclass__', '__le__', '__lt__', '__module__', '__ne__', '__new__', '__reduce__', '__reduce_ex__', '__repr__', '__setattr__', '__sizeof__', '__str__', '__subclasshook__', '__weakref__', 'move', 'moveshow']\n"
     ]
    }
   ],
   "source": [
    "print(dir(Point))"
   ]
  },
  {
   "cell_type": "markdown",
   "metadata": {},
   "source": [
    "このように，あるクラスで定義されたメソッドは，そのクラスの名前空間にも登録されています。これは，第一引数にオブジェクトを渡して，通常の関数として呼び出すことができます。"
   ]
  },
  {
   "cell_type": "code",
   "execution_count": 16,
   "metadata": {},
   "outputs": [
    {
     "name": "stdout",
     "output_type": "stream",
     "text": [
      "Point at 110\n"
     ]
    }
   ],
   "source": [
    "Point.move(point1, 50)\n",
    "print(point1)"
   ]
  },
  {
   "cell_type": "code",
   "execution_count": 9,
   "metadata": {},
   "outputs": [
    {
     "name": "stdout",
     "output_type": "stream",
     "text": [
      "[1, 2, 3, 4]\n"
     ]
    }
   ],
   "source": [
    "a = [1,2,3]\n",
    "list.append(a,4)\n",
    "print(a)"
   ]
  },
  {
   "cell_type": "markdown",
   "metadata": {},
   "source": [
    "ややこしいですが，クラスも type という型に属するオブジェクトでした。よって，変数をもつことができます。クラスの持つ変数は，クラス変数とよばれ，あるクラスに属するオブジェクトが共有するデータを保持する目的に使われます。クラス変数へのアクセスの形は，\n",
    "```\n",
    "クラス名.変数名\n",
    "```\n",
    "となります。 クラス定義も普通のプログラムと同じだと話しましたが，クラス定義が実行される時には，\n",
    "この名前空間でクラス定義の中身が実行されます。よって，そこで\"名前空間.変数名\" ではなく，変数名だけを用いた変数へ\n",
    "の代入があると，新しいクラス変数が作られます。"
   ]
  },
  {
   "cell_type": "code",
   "execution_count": 17,
   "metadata": {},
   "outputs": [
    {
     "name": "stdout",
     "output_type": "stream",
     "text": [
      "2\n"
     ]
    }
   ],
   "source": [
    "class Point:\n",
    "    count = 0\n",
    "    ''' Point class'''\n",
    "    def __init__(self, xx):\n",
    "        Point.count += 1\n",
    "        self.x = xx\n",
    "    def __str__(self):\n",
    "        return f\"Point at ({self.x})\"\n",
    "    def move(self,dist):\n",
    "        self.x += dist\n",
    "    def moveshow(self, dist):\n",
    "        self.move(dist);\n",
    "        print(self);        \n",
    "        \n",
    "point1 = Point(20)\n",
    "point2 = Point(0)\n",
    "print(Point.count)"
   ]
  },
  {
   "cell_type": "markdown",
   "metadata": {},
   "source": [
    "クラス変数は，インスタンスの名前空間からも見ることができます。しかし，それに代入を行うと，インスタンスの名前空間にその変数ができてしまいます。これは，関数定義の中からグローバル変数を使う時と同じです。間違いを防ぐために，クラス変数は，常にクラス名からアクセスするようにすることをおすすめします。"
   ]
  },
  {
   "cell_type": "code",
   "execution_count": 19,
   "metadata": {},
   "outputs": [],
   "source": [
    "point1.count = 10"
   ]
  },
  {
   "cell_type": "code",
   "execution_count": 23,
   "metadata": {},
   "outputs": [
    {
     "name": "stdout",
     "output_type": "stream",
     "text": [
      "10\n"
     ]
    }
   ],
   "source": [
    "print(point1.count)"
   ]
  },
  {
   "cell_type": "code",
   "execution_count": 24,
   "metadata": {},
   "outputs": [],
   "source": [
    "Point.count"
   ]
  },
  {
   "cell_type": "markdown",
   "metadata": {},
   "source": [
    "## 継承\n",
    "\n",
    "クラスは，すでに存在するクラスを継承して作ることができます。そうすることにより，そこに定義されているインスタンス変数，メソッド定義に，定義を追加（あるいは上書き）する形でクラスを定義することになります。\n",
    "あるクラスを継承したクラスを定義するには，クラス名の後に継承するクラス名を括弧の中に与えます。\n",
    "\n",
    "ここでは，(x, y) という2次元の位置をもつ Point2D クラスを作ることにします。"
   ]
  },
  {
   "cell_type": "code",
   "execution_count": 28,
   "metadata": {},
   "outputs": [
    {
     "name": "stdout",
     "output_type": "stream",
     "text": [
      "Point at (50, 50) Point at (30)\n",
      "Dynamic Dispatch1\n",
      "Point at (80, 80)\n",
      "Point at (60)\n",
      "Dynamic Dispatch2\n",
      "Point at (180, 180)\n",
      "Point at (160)\n"
     ]
    }
   ],
   "source": [
    "class Point2D(Point):\n",
    "    ''' Point class'''\n",
    "    def __init__(self, xx, yy):\n",
    "        Point.__init__(self,xx)\n",
    "        self.y = yy\n",
    "    def move(self,xx):\n",
    "        self.y += xx\n",
    "        self.x += xx\n",
    "    def __str__(self):\n",
    "        return f\"Point at ({self.x}, {self.y})\"\n",
    "        \n",
    "point1 = Point2D(20,20)\n",
    "point2 = Point(0)\n",
    "point1.move(30)\n",
    "point2.move(30)\n",
    "print(point1, point2)\n",
    "print(\"Dynamic Dispatch1\")\n",
    "for p in [point1, point2]:\n",
    "    p.move(30)\n",
    "    print(p)\n",
    "print(\"Dynamic Dispatch2\")\n",
    "for p in [point1, point2]:\n",
    "    p.moveshow(100)\n"
   ]
  },
  {
   "cell_type": "code",
   "execution_count": 14,
   "metadata": {},
   "outputs": [
    {
     "name": "stdout",
     "output_type": "stream",
     "text": [
      "['__class__', '__delattr__', '__dict__', '__dir__', '__doc__', '__eq__', '__format__', '__ge__', '__getattribute__', '__gt__', '__hash__', '__init__', '__init_subclass__', '__le__', '__lt__', '__module__', '__ne__', '__new__', '__reduce__', '__reduce_ex__', '__repr__', '__setattr__', '__sizeof__', '__str__', '__subclasshook__', '__weakref__', 'count', 'move', 'moveshow', 'x', 'y']\n"
     ]
    }
   ],
   "source": [
    "print(dir(point1))"
   ]
  },
  {
   "cell_type": "markdown",
   "metadata": {},
   "source": [
    "継承したクラスでは，元のクラスで定義されたメソッドも使えますし (moeshow) 書き換えたものも使えます(move)。また，`__init__` で行っているように上書きして定義しながらも，クラス名.メソッド名で，self も与える関数の呼び出しの形で，上書きされた元のメソッドも呼び出すことができます。\n",
    "\n",
    "Dynamic Dispatch1 の所で，point1, point2 はそれぞれ Point2D, Point であることに注意してください。\n",
    "両方とも move, moveshow を持っている (move は別のメソッドだが)ので，このようなプログラムが書けます。同じ move メソッドの呼び出しで，point1 と point2 の時で別のメソッドが呼び出されていることに注意して下さい。このように，メソッド名とその意味するオブジェクトとの対応関係が，実行時に決まることど，動的ディスパッチ(dynamic dispatch) と言ったりします。\n",
    "\n",
    "\n",
    "最後の，Dynamic Dispatch2 の所では，point1, point2 に Point で定義された moveshow を適用しています。moveshow は move と print を呼び出していますが，ここでも，point2 に対する moveshow の呼び出しでは，Point2D の move が呼び出されていることに注意して下さい。これも，self をもとに，self の名前空間に登録された move が呼び出されているからです。"
   ]
  },
  {
   "attachments": {},
   "cell_type": "markdown",
   "metadata": {},
   "source": [
    "## 辞書型の自分での作成\n",
    "\n",
    "辞書型 dict は，ハッシュ・テーブルと呼ばれる技法を用いて作られています。\n",
    "自分で文字列をキーとするハッシュテーブルのクラス mydict を作りましょう。\n",
    "次のようなメソッドを持つクラスにしましょう。\n",
    "```\n",
    "add(key, value) : 要素を追加\n",
    "lookup(key) : 要素の検索\n",
    "del(key) : 要素の削除\n",
    "```\n",
    "ハッシュテーブルは，格納する要素の個数とだいたい同じくらいか少し小さめの大きさの配列を用意します。\n",
    "そして，key に対して，適当な関数（ハッシュ関数）をかけて，その配列お大きさの範囲の値（ハッシュ値）を作ります。そして，要素を格納する時には，配列の，その値の場所に格納します。ただし，異なる文字列でも，ハッシュ値が同じになる時があります。その時には，一つの配列の番地に複数の値を格納するために，リストにして記憶することにします。\n",
    "\n"
   ]
  },
  {
   "cell_type": "code",
   "execution_count": 1,
   "metadata": {},
   "outputs": [
    {
     "name": "stdout",
     "output_type": "stream",
     "text": [
      "hi\n",
      "None\n"
     ]
    }
   ],
   "source": [
    "class MyDict():\n",
    "    ''' 辞書の簡単な実装\n",
    "作成：MyDict(n)：およそ，n 個の要素を格納する辞書の作成　\n",
    "メソッド：\n",
    "add(key, value) : 要素を追加\n",
    "del(key) : 要素の削除\n",
    "lookup(key) : 要素の検索, 存在しない時には None を返す    \n",
    "    '''\n",
    "    def __init__(self, n):\n",
    "        self.size = n\n",
    "        self.data = [0]*n\n",
    "    def hashmap(self,key):\n",
    "        hash = 0\n",
    "        P = 6700417   # 適当な素数\n",
    "        for (n,c) in enumerate(key):\n",
    "            hash = (hash * P + ord(c))% self.size\n",
    "        return hash\n",
    "    def add(self,key, value):\n",
    "        hv = self.hashmap(key)\n",
    "        list = self.data[hv]\n",
    "        if(list == 0):\n",
    "            self.data[hv] = [(key,value)]\n",
    "        else: \n",
    "            list.append((key, value))\n",
    "    def lookup(self, key):\n",
    "        hv = self.hashmap(key)\n",
    "        list = self.data[hv]\n",
    "        if (list == 0):\n",
    "             return None\n",
    "        for (k,v) in list:\n",
    "            if(k == key):\n",
    "                return v\n",
    "        return None\n",
    "\n",
    "\n",
    "\n",
    "m = MyDict(10)\n",
    "m.add(\"hello\", \"hi\")\n",
    "print(m.lookup(\"hello\"))\n",
    "print(m.lookup(\"bye\"))\n",
    "\n"
   ]
  },
  {
   "cell_type": "code",
   "execution_count": 3,
   "metadata": {},
   "outputs": [
    {
     "name": "stdout",
     "output_type": "stream",
     "text": [
      "0.014075994491577148\n",
      "10000\n",
      "0.02809882164001465\n"
     ]
    }
   ],
   "source": [
    "# 時間を測るには，%time と書いてもいいが，途中までの時間も計測したいので，time.time() を用いる\n",
    "import time\n",
    "start = time.time()\n",
    "d = MyDict(10000)\n",
    "for i in range(10000):\n",
    "    d.add(str(i), i*i)\n",
    "print(time.time() - start)\n",
    "cnt = 0\n",
    "\n",
    "for i in range(10000):\n",
    "    if(d.lookup(str(i)) == i * i):\n",
    "        cnt += 1\n",
    "print(cnt)\n",
    "print(time.time() - start)"
   ]
  },
  {
   "cell_type": "code",
   "execution_count": 7,
   "metadata": {},
   "outputs": [
    {
     "name": "stdout",
     "output_type": "stream",
     "text": [
      "0.013484001159667969\n",
      "10000\n",
      "1.748798131942749\n"
     ]
    }
   ],
   "source": [
    "import time\n",
    "start = time.time()\n",
    "d = MyDict(1) # 配列を1にすると，基本的に，リストに格納したものを，最初から順に探索することになるはず。\n",
    "for i in range(10000):\n",
    "    d.add(str(i), i*i)\n",
    "print(time.time() - start)\n",
    "cnt = 0\n",
    "\n",
    "for i in range(10000):\n",
    "    if(d.lookup(str(i)) == i * i):\n",
    "        cnt += 1\n",
    "print(cnt)\n",
    "print(time.time() - start)"
   ]
  },
  {
   "cell_type": "markdown",
   "metadata": {},
   "source": [
    "# Matplotlib のオブジェクトを意識した使い方\n",
    "\n",
    "https://qiita.com/skotaro/items/08dc0b8c5704c94eafb9\n",
    "\n",
    "これまでは，Matplotlib を，非常に簡易な方法で使ってきました。\n",
    "Matplotlib で描かれるグラフは，様々な構成要素があり，それは，オブジェクト指向的に構成されています。\n",
    "Matplotlib の使い方として，それを意識した書き方があり，その方が細かい図の設定などが可能になります。\n",
    "\n",
    "まず，Matplotlib には，全体図に相当する Figure オブジェクトがあり，plt モジュールの figure 関数を呼び出すことにより作られます。また，座標軸を備えた一つづつのグラフは，Axes とよばれます。Axes は，Figure に add_subplot メソッドを呼び出すことにより作られます。引数は，通常 （1つしかグラフを描かない時）は，1,1,1 を与えます。\n",
    "\n",
    "Axes に plot を呼び出すことにより，そのグラフにplot が行われます。\n",
    "そして，fig の値を表示しようとしたり，セルの最後まで到達すると，画面に図が表示されます。"
   ]
  },
  {
   "cell_type": "code",
   "execution_count": 1,
   "metadata": {},
   "outputs": [
    {
     "data": {
      "text/plain": [
       "[<matplotlib.lines.Line2D at 0x7fb3489ecaf0>]"
      ]
     },
     "execution_count": 1,
     "metadata": {},
     "output_type": "execute_result"
    },
    {
     "data": {
      "image/png": "[encoded data removed]",
      "text/plain": [
       "<Figure size 432x288 with 1 Axes>"
      ]
     },
     "metadata": {
      "needs_background": "light"
     },
     "output_type": "display_data"
    }
   ],
   "source": [
    "%matplotlib inline\n",
    "import matplotlib.pyplot as plt\n",
    "import numpy as np\n",
    "\n",
    "x = np.linspace(0, np.pi*4, 1000)\n",
    "y = np.sin(x)\n",
    "\n",
    "fig = plt.figure()\n",
    "ax = fig.add_subplot(1,1,1)\n",
    "ax.plot(x, y)\n"
   ]
  },
  {
   "cell_type": "code",
   "execution_count": 2,
   "metadata": {},
   "outputs": [
    {
     "data": {
      "image/png": "[encoded data removed]",
      "text/plain": [
       "<Figure size 432x288 with 1 Axes>"
      ]
     },
     "execution_count": 2,
     "metadata": {},
     "output_type": "execute_result"
    }
   ],
   "source": [
    "fig"
   ]
  },
  {
   "cell_type": "markdown",
   "metadata": {},
   "source": [
    "Axes に描画されているものは，lines というインスタンス変数にリストとして格納されています。\n",
    "\n"
   ]
  },
  {
   "cell_type": "code",
   "execution_count": 17,
   "metadata": {},
   "outputs": [
    {
     "name": "stdout",
     "output_type": "stream",
     "text": [
      "[<matplotlib.lines.Line2D object at 0x7fa6cd31c820>]\n",
      "1\n",
      "Line2D(_line0)\n",
      "2\n"
     ]
    },
    {
     "data": {
      "image/png": "[encoded data removed]",
      "text/plain": [
       "<Figure size 432x288 with 1 Axes>"
      ]
     },
     "execution_count": 17,
     "metadata": {},
     "output_type": "execute_result"
    }
   ],
   "source": [
    "print(ax.lines)\n",
    "print(len(ax.lines))# 1つの Line2D オブジェクトがあり\n",
    "print(ax.lines[0])\n",
    "ax.plot(x, y+1)\n",
    "print(len(ax.lines))  # 2つの Line2D オブジェクトがあり\n",
    "fig"
   ]
  },
  {
   "cell_type": "markdown",
   "metadata": {},
   "source": [
    "Jupyter Notebook を使えば，次のようにして，animation を作成し，表示することができます。ここで，plotは，そこで描画された Line のリストを返します。"
   ]
  },
  {
   "cell_type": "code",
   "execution_count": 3,
   "metadata": {},
   "outputs": [
    {
     "data": {
      "application/javascript": "/* Put everything inside the global mpl namespace */\n/* global mpl */\nwindow.mpl = {};\n\nmpl.get_websocket_type = function () {\n    if (typeof WebSocket !== 'undefined') {\n        return WebSocket;\n    } else if (typeof MozWebSocket !== 'undefined') {\n        return MozWebSocket;\n    } else {\n        alert(\n            'Your browser does not have WebSocket support. ' +\n                'Please try Chrome, Safari or Firefox ≥ 6. ' +\n                'Firefox 4 and 5 are also supported but you ' +\n                'have to enable WebSockets in about:config.'\n        );\n    }\n};\n\nmpl.figure = function (figure_id, websocket, ondownload, parent_element) {\n    this.id = figure_id;\n\n    this.ws = websocket;\n\n    this.supports_binary = this.ws.binaryType !== undefined;\n\n    if (!this.supports_binary) {\n        var warnings = document.getElementById('mpl-warnings');\n        if (warnings) {\n            warnings.style.display = 'block';\n            warnings.textContent =\n                'This browser does not support binary websocket messages. ' +\n                'Performance may be slow.';\n        }\n    }\n\n    this.imageObj = new Image();\n\n    this.context = undefined;\n    this.message = undefined;\n    this.canvas = undefined;\n    this.rubberband_canvas = undefined;\n    this.rubberband_context = undefined;\n    this.format_dropdown = undefined;\n\n    this.image_mode = 'full';\n\n    this.root = document.createElement('div');\n    this.root.setAttribute('style', 'display: inline-block');\n    this._root_extra_style(this.root);\n\n    parent_element.appendChild(this.root);\n\n    this._init_header(this);\n    this._init_canvas(this);\n    this._init_toolbar(this);\n\n    var fig = this;\n\n    this.waiting = false;\n\n    this.ws.onopen = function () {\n        fig.send_message('supports_binary', { value: fig.supports_binary });\n        fig.send_message('send_image_mode', {});\n        if (fig.ratio !== 1) {\n            fig.send_message('set_device_pixel_ratio', {\n                device_pixel_ratio: fig.ratio,\n            });\n        }\n        fig.send_message('refresh', {});\n    };\n\n    this.imageObj.onload = function () {\n        if (fig.image_mode === 'full') {\n            // Full images could contain transparency (where diff images\n            // almost always do), so we need to clear the canvas so that\n            // there is no ghosting.\n            fig.context.clearRect(0, 0, fig.canvas.width, fig.canvas.height);\n        }\n        fig.context.drawImage(fig.imageObj, 0, 0);\n    };\n\n    this.imageObj.onunload = function () {\n        fig.ws.close();\n    };\n\n    this.ws.onmessage = this._make_on_message_function(this);\n\n    this.ondownload = ondownload;\n};\n\nmpl.figure.prototype._init_header = function () {\n    var titlebar = document.createElement('div');\n    titlebar.classList =\n        'ui-dialog-titlebar ui-widget-header ui-corner-all ui-helper-clearfix';\n    var titletext = document.createElement('div');\n    titletext.classList = 'ui-dialog-title';\n    titletext.setAttribute(\n        'style',\n        'width: 100%; text-align: center; padding: 3px;'\n    );\n    titlebar.appendChild(titletext);\n    this.root.appendChild(titlebar);\n    this.header = titletext;\n};\n\nmpl.figure.prototype._canvas_extra_style = function (_canvas_div) {};\n\nmpl.figure.prototype._root_extra_style = function (_canvas_div) {};\n\nmpl.figure.prototype._init_canvas = function () {\n    var fig = this;\n\n    var canvas_div = (this.canvas_div = document.createElement('div'));\n    canvas_div.setAttribute(\n        'style',\n        'border: 1px solid #ddd;' +\n            'box-sizing: content-box;' +\n            'clear: both;' +\n            'min-height: 1px;' +\n            'min-width: 1px;' +\n            'outline: 0;' +\n            'overflow: hidden;' +\n            'position: relative;' +\n            'resize: both;'\n    );\n\n    function on_keyboard_event_closure(name) {\n        return function (event) {\n            return fig.key_event(event, name);\n        };\n    }\n\n    canvas_div.addEventListener(\n        'keydown',\n        on_keyboard_event_closure('key_press')\n    );\n    canvas_div.addEventListener(\n        'keyup',\n        on_keyboard_event_closure('key_release')\n    );\n\n    this._canvas_extra_style(canvas_div);\n    this.root.appendChild(canvas_div);\n\n    var canvas = (this.canvas = document.createElement('canvas'));\n    canvas.classList.add('mpl-canvas');\n    canvas.setAttribute('style', 'box-sizing: content-box;');\n\n    this.context = canvas.getContext('2d');\n\n    var backingStore =\n        this.context.backingStorePixelRatio ||\n        this.context.webkitBackingStorePixelRatio ||\n        this.context.mozBackingStorePixelRatio ||\n        this.context.msBackingStorePixelRatio ||\n        this.context.oBackingStorePixelRatio ||\n        this.context.backingStorePixelRatio ||\n        1;\n\n    this.ratio = (window.devicePixelRatio || 1) / backingStore;\n\n    var rubberband_canvas = (this.rubberband_canvas = document.createElement(\n        'canvas'\n    ));\n    rubberband_canvas.setAttribute(\n        'style',\n        'box-sizing: content-box; position: absolute; left: 0; top: 0; z-index: 1;'\n    );\n\n    // Apply a ponyfill if ResizeObserver is not implemented by browser.\n    if (this.ResizeObserver === undefined) {\n        if (window.ResizeObserver !== undefined) {\n            this.ResizeObserver = window.ResizeObserver;\n        } else {\n            var obs = _JSXTOOLS_RESIZE_OBSERVER({});\n            this.ResizeObserver = obs.ResizeObserver;\n        }\n    }\n\n    this.resizeObserverInstance = new this.ResizeObserver(function (entries) {\n        var nentries = entries.length;\n        for (var i = 0; i < nentries; i++) {\n            var entry = entries[i];\n            var width, height;\n            if (entry.contentBoxSize) {\n                if (entry.contentBoxSize instanceof Array) {\n                    // Chrome 84 implements new version of spec.\n                    width = entry.contentBoxSize[0].inlineSize;\n                    height = entry.contentBoxSize[0].blockSize;\n                } else {\n                    // Firefox implements old version of spec.\n                    width = entry.contentBoxSize.inlineSize;\n                    height = entry.contentBoxSize.blockSize;\n                }\n            } else {\n                // Chrome <84 implements even older version of spec.\n                width = entry.contentRect.width;\n                height = entry.contentRect.height;\n            }\n\n            // Keep the size of the canvas and rubber band canvas in sync with\n            // the canvas container.\n            if (entry.devicePixelContentBoxSize) {\n                // Chrome 84 implements new version of spec.\n                canvas.setAttribute(\n                    'width',\n                    entry.devicePixelContentBoxSize[0].inlineSize\n                );\n                canvas.setAttribute(\n                    'height',\n                    entry.devicePixelContentBoxSize[0].blockSize\n                );\n            } else {\n                canvas.setAttribute('width', width * fig.ratio);\n                canvas.setAttribute('height', height * fig.ratio);\n            }\n            canvas.setAttribute(\n                'style',\n                'width: ' + width + 'px; height: ' + height + 'px;'\n            );\n\n            rubberband_canvas.setAttribute('width', width);\n            rubberband_canvas.setAttribute('height', height);\n\n            // And update the size in Python. We ignore the initial 0/0 size\n            // that occurs as the element is placed into the DOM, which should\n            // otherwise not happen due to the minimum size styling.\n            if (fig.ws.readyState == 1 && width != 0 && height != 0) {\n                fig.request_resize(width, height);\n            }\n        }\n    });\n    this.resizeObserverInstance.observe(canvas_div);\n\n    function on_mouse_event_closure(name) {\n        return function (event) {\n            return fig.mouse_event(event, name);\n        };\n    }\n\n    rubberband_canvas.addEventListener(\n        'mousedown',\n        on_mouse_event_closure('button_press')\n    );\n    rubberband_canvas.addEventListener(\n        'mouseup',\n        on_mouse_event_closure('button_release')\n    );\n    rubberband_canvas.addEventListener(\n        'dblclick',\n        on_mouse_event_closure('dblclick')\n    );\n    // Throttle sequential mouse events to 1 every 20ms.\n    rubberband_canvas.addEventListener(\n        'mousemove',\n        on_mouse_event_closure('motion_notify')\n    );\n\n    rubberband_canvas.addEventListener(\n        'mouseenter',\n        on_mouse_event_closure('figure_enter')\n    );\n    rubberband_canvas.addEventListener(\n        'mouseleave',\n        on_mouse_event_closure('figure_leave')\n    );\n\n    canvas_div.addEventListener('wheel', function (event) {\n        if (event.deltaY < 0) {\n            event.step = 1;\n        } else {\n            event.step = -1;\n        }\n        on_mouse_event_closure('scroll')(event);\n    });\n\n    canvas_div.appendChild(canvas);\n    canvas_div.appendChild(rubberband_canvas);\n\n    this.rubberband_context = rubberband_canvas.getContext('2d');\n    this.rubberband_context.strokeStyle = '#000000';\n\n    this._resize_canvas = function (width, height, forward) {\n        if (forward) {\n            canvas_div.style.width = width + 'px';\n            canvas_div.style.height = height + 'px';\n        }\n    };\n\n    // Disable right mouse context menu.\n    this.rubberband_canvas.addEventListener('contextmenu', function (_e) {\n        event.preventDefault();\n        return false;\n    });\n\n    function set_focus() {\n        canvas.focus();\n        canvas_div.focus();\n    }\n\n    window.setTimeout(set_focus, 100);\n};\n\nmpl.figure.prototype._init_toolbar = function () {\n    var fig = this;\n\n    var toolbar = document.createElement('div');\n    toolbar.classList = 'mpl-toolbar';\n    this.root.appendChild(toolbar);\n\n    function on_click_closure(name) {\n        return function (_event) {\n            return fig.toolbar_button_onclick(name);\n        };\n    }\n\n    function on_mouseover_closure(tooltip) {\n        return function (event) {\n            if (!event.currentTarget.disabled) {\n                return fig.toolbar_button_onmouseover(tooltip);\n            }\n        };\n    }\n\n    fig.buttons = {};\n    var buttonGroup = document.createElement('div');\n    buttonGroup.classList = 'mpl-button-group';\n    for (var toolbar_ind in mpl.toolbar_items) {\n        var name = mpl.toolbar_items[toolbar_ind][0];\n        var tooltip = mpl.toolbar_items[toolbar_ind][1];\n        var image = mpl.toolbar_items[toolbar_ind][2];\n        var method_name = mpl.toolbar_items[toolbar_ind][3];\n\n        if (!name) {\n            /* Instead of a spacer, we start a new button group. */\n            if (buttonGroup.hasChildNodes()) {\n                toolbar.appendChild(buttonGroup);\n            }\n            buttonGroup = document.createElement('div');\n            buttonGroup.classList = 'mpl-button-group';\n            continue;\n        }\n\n        var button = (fig.buttons[name] = document.createElement('button'));\n        button.classList = 'mpl-widget';\n        button.setAttribute('role', 'button');\n        button.setAttribute('aria-disabled', 'false');\n        button.addEventListener('click', on_click_closure(method_name));\n        button.addEventListener('mouseover', on_mouseover_closure(tooltip));\n\n        var icon_img = document.createElement('img');\n        icon_img.src = '_images/' + image + '.png';\n        icon_img.srcset = '_images/' + image + '_large.png 2x';\n        icon_img.alt = tooltip;\n        button.appendChild(icon_img);\n\n        buttonGroup.appendChild(button);\n    }\n\n    if (buttonGroup.hasChildNodes()) {\n        toolbar.appendChild(buttonGroup);\n    }\n\n    var fmt_picker = document.createElement('select');\n    fmt_picker.classList = 'mpl-widget';\n    toolbar.appendChild(fmt_picker);\n    this.format_dropdown = fmt_picker;\n\n    for (var ind in mpl.extensions) {\n        var fmt = mpl.extensions[ind];\n        var option = document.createElement('option');\n        option.selected = fmt === mpl.default_extension;\n        option.innerHTML = fmt;\n        fmt_picker.appendChild(option);\n    }\n\n    var status_bar = document.createElement('span');\n    status_bar.classList = 'mpl-message';\n    toolbar.appendChild(status_bar);\n    this.message = status_bar;\n};\n\nmpl.figure.prototype.request_resize = function (x_pixels, y_pixels) {\n    // Request matplotlib to resize the figure. Matplotlib will then trigger a resize in the client,\n    // which will in turn request a refresh of the image.\n    this.send_message('resize', { width: x_pixels, height: y_pixels });\n};\n\nmpl.figure.prototype.send_message = function (type, properties) {\n    properties['type'] = type;\n    properties['figure_id'] = this.id;\n    this.ws.send(JSON.stringify(properties));\n};\n\nmpl.figure.prototype.send_draw_message = function () {\n    if (!this.waiting) {\n        this.waiting = true;\n        this.ws.send(JSON.stringify({ type: 'draw', figure_id: this.id }));\n    }\n};\n\nmpl.figure.prototype.handle_save = function (fig, _msg) {\n    var format_dropdown = fig.format_dropdown;\n    var format = format_dropdown.options[format_dropdown.selectedIndex].value;\n    fig.ondownload(fig, format);\n};\n\nmpl.figure.prototype.handle_resize = function (fig, msg) {\n    var size = msg['size'];\n    if (size[0] !== fig.canvas.width || size[1] !== fig.canvas.height) {\n        fig._resize_canvas(size[0], size[1], msg['forward']);\n        fig.send_message('refresh', {});\n    }\n};\n\nmpl.figure.prototype.handle_rubberband = function (fig, msg) {\n    var x0 = msg['x0'] / fig.ratio;\n    var y0 = (fig.canvas.height - msg['y0']) / fig.ratio;\n    var x1 = msg['x1'] / fig.ratio;\n    var y1 = (fig.canvas.height - msg['y1']) / fig.ratio;\n    x0 = Math.floor(x0) + 0.5;\n    y0 = Math.floor(y0) + 0.5;\n    x1 = Math.floor(x1) + 0.5;\n    y1 = Math.floor(y1) + 0.5;\n    var min_x = Math.min(x0, x1);\n    var min_y = Math.min(y0, y1);\n    var width = Math.abs(x1 - x0);\n    var height = Math.abs(y1 - y0);\n\n    fig.rubberband_context.clearRect(\n        0,\n        0,\n        fig.canvas.width / fig.ratio,\n        fig.canvas.height / fig.ratio\n    );\n\n    fig.rubberband_context.strokeRect(min_x, min_y, width, height);\n};\n\nmpl.figure.prototype.handle_figure_label = function (fig, msg) {\n    // Updates the figure title.\n    fig.header.textContent = msg['label'];\n};\n\nmpl.figure.prototype.handle_cursor = function (fig, msg) {\n    fig.rubberband_canvas.style.cursor = msg['cursor'];\n};\n\nmpl.figure.prototype.handle_message = function (fig, msg) {\n    fig.message.textContent = msg['message'];\n};\n\nmpl.figure.prototype.handle_draw = function (fig, _msg) {\n    // Request the server to send over a new figure.\n    fig.send_draw_message();\n};\n\nmpl.figure.prototype.handle_image_mode = function (fig, msg) {\n    fig.image_mode = msg['mode'];\n};\n\nmpl.figure.prototype.handle_history_buttons = function (fig, msg) {\n    for (var key in msg) {\n        if (!(key in fig.buttons)) {\n            continue;\n        }\n        fig.buttons[key].disabled = !msg[key];\n        fig.buttons[key].setAttribute('aria-disabled', !msg[key]);\n    }\n};\n\nmpl.figure.prototype.handle_navigate_mode = function (fig, msg) {\n    if (msg['mode'] === 'PAN') {\n        fig.buttons['Pan'].classList.add('active');\n        fig.buttons['Zoom'].classList.remove('active');\n    } else if (msg['mode'] === 'ZOOM') {\n        fig.buttons['Pan'].classList.remove('active');\n        fig.buttons['Zoom'].classList.add('active');\n    } else {\n        fig.buttons['Pan'].classList.remove('active');\n        fig.buttons['Zoom'].classList.remove('active');\n    }\n};\n\nmpl.figure.prototype.updated_canvas_event = function () {\n    // Called whenever the canvas gets updated.\n    this.send_message('ack', {});\n};\n\n// A function to construct a web socket function for onmessage handling.\n// Called in the figure constructor.\nmpl.figure.prototype._make_on_message_function = function (fig) {\n    return function socket_on_message(evt) {\n        if (evt.data instanceof Blob) {\n            var img = evt.data;\n            if (img.type !== 'image/png') {\n                /* FIXME: We get \"Resource interpreted as Image but\n                 * transferred with MIME type text/plain:\" errors on\n                 * Chrome.  But how to set the MIME type?  It doesn't seem\n                 * to be part of the websocket stream */\n                img.type = 'image/png';\n            }\n\n            /* Free the memory for the previous frames */\n            if (fig.imageObj.src) {\n                (window.URL || window.webkitURL).revokeObjectURL(\n                    fig.imageObj.src\n                );\n            }\n\n            fig.imageObj.src = (window.URL || window.webkitURL).createObjectURL(\n                img\n            );\n            fig.updated_canvas_event();\n            fig.waiting = false;\n            return;\n        } else if (\n            typeof evt.data === 'string' &&\n            evt.data.slice(0, 21) === 'data:image/png;base64'\n        ) {\n            fig.imageObj.src = evt.data;\n            fig.updated_canvas_event();\n            fig.waiting = false;\n            return;\n        }\n\n        var msg = JSON.parse(evt.data);\n        var msg_type = msg['type'];\n\n        // Call the  \"handle_{type}\" callback, which takes\n        // the figure and JSON message as its only arguments.\n        try {\n            var callback = fig['handle_' + msg_type];\n        } catch (e) {\n            console.log(\n                \"No handler for the '\" + msg_type + \"' message type: \",\n                msg\n            );\n            return;\n        }\n\n        if (callback) {\n            try {\n                // console.log(\"Handling '\" + msg_type + \"' message: \", msg);\n                callback(fig, msg);\n            } catch (e) {\n                console.log(\n                    \"Exception inside the 'handler_\" + msg_type + \"' callback:\",\n                    e,\n                    e.stack,\n                    msg\n                );\n            }\n        }\n    };\n};\n\n// from https://stackoverflow.com/questions/1114465/getting-mouse-location-in-canvas\nmpl.findpos = function (e) {\n    //this section is from http://www.quirksmode.org/js/events_properties.html\n    var targ;\n    if (!e) {\n        e = window.event;\n    }\n    if (e.target) {\n        targ = e.target;\n    } else if (e.srcElement) {\n        targ = e.srcElement;\n    }\n    if (targ.nodeType === 3) {\n        // defeat Safari bug\n        targ = targ.parentNode;\n    }\n\n    // pageX,Y are the mouse positions relative to the document\n    var boundingRect = targ.getBoundingClientRect();\n    var x = e.pageX - (boundingRect.left + document.body.scrollLeft);\n    var y = e.pageY - (boundingRect.top + document.body.scrollTop);\n\n    return { x: x, y: y };\n};\n\n/*\n * return a copy of an object with only non-object keys\n * we need this to avoid circular references\n * https://stackoverflow.com/a/24161582/3208463\n */\nfunction simpleKeys(original) {\n    return Object.keys(original).reduce(function (obj, key) {\n        if (typeof original[key] !== 'object') {\n            obj[key] = original[key];\n        }\n        return obj;\n    }, {});\n}\n\nmpl.figure.prototype.mouse_event = function (event, name) {\n    var canvas_pos = mpl.findpos(event);\n\n    if (name === 'button_press') {\n        this.canvas.focus();\n        this.canvas_div.focus();\n    }\n\n    var x = canvas_pos.x * this.ratio;\n    var y = canvas_pos.y * this.ratio;\n\n    this.send_message(name, {\n        x: x,\n        y: y,\n        button: event.button,\n        step: event.step,\n        guiEvent: simpleKeys(event),\n    });\n\n    /* This prevents the web browser from automatically changing to\n     * the text insertion cursor when the button is pressed.  We want\n     * to control all of the cursor setting manually through the\n     * 'cursor' event from matplotlib */\n    event.preventDefault();\n    return false;\n};\n\nmpl.figure.prototype._key_event_extra = function (_event, _name) {\n    // Handle any extra behaviour associated with a key event\n};\n\nmpl.figure.prototype.key_event = function (event, name) {\n    // Prevent repeat events\n    if (name === 'key_press') {\n        if (event.key === this._key) {\n            return;\n        } else {\n            this._key = event.key;\n        }\n    }\n    if (name === 'key_release') {\n        this._key = null;\n    }\n\n    var value = '';\n    if (event.ctrlKey && event.key !== 'Control') {\n        value += 'ctrl+';\n    }\n    else if (event.altKey && event.key !== 'Alt') {\n        value += 'alt+';\n    }\n    else if (event.shiftKey && event.key !== 'Shift') {\n        value += 'shift+';\n    }\n\n    value += 'k' + event.key;\n\n    this._key_event_extra(event, name);\n\n    this.send_message(name, { key: value, guiEvent: simpleKeys(event) });\n    return false;\n};\n\nmpl.figure.prototype.toolbar_button_onclick = function (name) {\n    if (name === 'download') {\n        this.handle_save(this, null);\n    } else {\n        this.send_message('toolbar_button', { name: name });\n    }\n};\n\nmpl.figure.prototype.toolbar_button_onmouseover = function (tooltip) {\n    this.message.textContent = tooltip;\n};\n\n///////////////// REMAINING CONTENT GENERATED BY embed_js.py /////////////////\n// prettier-ignore\nvar _JSXTOOLS_RESIZE_OBSERVER=function(A){var t,i=new WeakMap,n=new WeakMap,a=new WeakMap,r=new WeakMap,o=new Set;function s(e){if(!(this instanceof s))throw new TypeError(\"Constructor requires 'new' operator\");i.set(this,e)}function h(){throw new TypeError(\"Function is not a constructor\")}function c(e,t,i,n){e=0 in arguments?Number(arguments[0]):0,t=1 in arguments?Number(arguments[1]):0,i=2 in arguments?Number(arguments[2]):0,n=3 in arguments?Number(arguments[3]):0,this.right=(this.x=this.left=e)+(this.width=i),this.bottom=(this.y=this.top=t)+(this.height=n),Object.freeze(this)}function d(){t=requestAnimationFrame(d);var s=new WeakMap,p=new Set;o.forEach((function(t){r.get(t).forEach((function(i){var r=t instanceof window.SVGElement,o=a.get(t),d=r?0:parseFloat(o.paddingTop),f=r?0:parseFloat(o.paddingRight),l=r?0:parseFloat(o.paddingBottom),u=r?0:parseFloat(o.paddingLeft),g=r?0:parseFloat(o.borderTopWidth),m=r?0:parseFloat(o.borderRightWidth),w=r?0:parseFloat(o.borderBottomWidth),b=u+f,F=d+l,v=(r?0:parseFloat(o.borderLeftWidth))+m,W=g+w,y=r?0:t.offsetHeight-W-t.clientHeight,E=r?0:t.offsetWidth-v-t.clientWidth,R=b+v,z=F+W,M=r?t.width:parseFloat(o.width)-R-E,O=r?t.height:parseFloat(o.height)-z-y;if(n.has(t)){var k=n.get(t);if(k[0]===M&&k[1]===O)return}n.set(t,[M,O]);var S=Object.create(h.prototype);S.target=t,S.contentRect=new c(u,d,M,O),s.has(i)||(s.set(i,[]),p.add(i)),s.get(i).push(S)}))})),p.forEach((function(e){i.get(e).call(e,s.get(e),e)}))}return s.prototype.observe=function(i){if(i instanceof window.Element){r.has(i)||(r.set(i,new Set),o.add(i),a.set(i,window.getComputedStyle(i)));var n=r.get(i);n.has(this)||n.add(this),cancelAnimationFrame(t),t=requestAnimationFrame(d)}},s.prototype.unobserve=function(i){if(i instanceof window.Element&&r.has(i)){var n=r.get(i);n.has(this)&&(n.delete(this),n.size||(r.delete(i),o.delete(i))),n.size||r.delete(i),o.size||cancelAnimationFrame(t)}},A.DOMRectReadOnly=c,A.ResizeObserver=s,A.ResizeObserverEntry=h,A}; // eslint-disable-line\nmpl.toolbar_items = [[\"Home\", \"Reset original view\", \"fa fa-home icon-home\", \"home\"], [\"Back\", \"Back to previous view\", \"fa fa-arrow-left icon-arrow-left\", \"back\"], [\"Forward\", \"Forward to next view\", \"fa fa-arrow-right icon-arrow-right\", \"forward\"], [\"\", \"\", \"\", \"\"], [\"Pan\", \"Left button pans, Right button zooms\\nx/y fixes axis, CTRL fixes aspect\", \"fa fa-arrows icon-move\", \"pan\"], [\"Zoom\", \"Zoom to rectangle\\nx/y fixes axis\", \"fa fa-square-o icon-check-empty\", \"zoom\"], [\"\", \"\", \"\", \"\"], [\"Download\", \"Download plot\", \"fa fa-floppy-o icon-save\", \"download\"]];\n\nmpl.extensions = [\"eps\", \"jpeg\", \"pgf\", \"pdf\", \"png\", \"ps\", \"raw\", \"svg\", \"tif\"];\n\nmpl.default_extension = \"png\";/* global mpl */\n\nvar comm_websocket_adapter = function (comm) {\n    // Create a \"websocket\"-like object which calls the given IPython comm\n    // object with the appropriate methods. Currently this is a non binary\n    // socket, so there is still some room for performance tuning.\n    var ws = {};\n\n    ws.binaryType = comm.kernel.ws.binaryType;\n    ws.readyState = comm.kernel.ws.readyState;\n    function updateReadyState(_event) {\n        if (comm.kernel.ws) {\n            ws.readyState = comm.kernel.ws.readyState;\n        } else {\n            ws.readyState = 3; // Closed state.\n        }\n    }\n    comm.kernel.ws.addEventListener('open', updateReadyState);\n    comm.kernel.ws.addEventListener('close', updateReadyState);\n    comm.kernel.ws.addEventListener('error', updateReadyState);\n\n    ws.close = function () {\n        comm.close();\n    };\n    ws.send = function (m) {\n        //console.log('sending', m);\n        comm.send(m);\n    };\n    // Register the callback with on_msg.\n    comm.on_msg(function (msg) {\n        //console.log('receiving', msg['content']['data'], msg);\n        var data = msg['content']['data'];\n        if (data['blob'] !== undefined) {\n            data = {\n                data: new Blob(msg['buffers'], { type: data['blob'] }),\n            };\n        }\n        // Pass the mpl event to the overridden (by mpl) onmessage function.\n        ws.onmessage(data);\n    });\n    return ws;\n};\n\nmpl.mpl_figure_comm = function (comm, msg) {\n    // This is the function which gets called when the mpl process\n    // starts-up an IPython Comm through the \"matplotlib\" channel.\n\n    var id = msg.content.data.id;\n    // Get hold of the div created by the display call when the Comm\n    // socket was opened in Python.\n    var element = document.getElementById(id);\n    var ws_proxy = comm_websocket_adapter(comm);\n\n    function ondownload(figure, _format) {\n        window.open(figure.canvas.toDataURL());\n    }\n\n    var fig = new mpl.figure(id, ws_proxy, ondownload, element);\n\n    // Call onopen now - mpl needs it, as it is assuming we've passed it a real\n    // web socket which is closed, not our websocket->open comm proxy.\n    ws_proxy.onopen();\n\n    fig.parent_element = element;\n    fig.cell_info = mpl.find_output_cell(\"<div id='\" + id + \"'></div>\");\n    if (!fig.cell_info) {\n        console.error('Failed to find cell for figure', id, fig);\n        return;\n    }\n    fig.cell_info[0].output_area.element.on(\n        'cleared',\n        { fig: fig },\n        fig._remove_fig_handler\n    );\n};\n\nmpl.figure.prototype.handle_close = function (fig, msg) {\n    var width = fig.canvas.width / fig.ratio;\n    fig.cell_info[0].output_area.element.off(\n        'cleared',\n        fig._remove_fig_handler\n    );\n    fig.resizeObserverInstance.unobserve(fig.canvas_div);\n\n    // Update the output cell to use the data from the current canvas.\n    fig.push_to_output();\n    var dataURL = fig.canvas.toDataURL();\n    // Re-enable the keyboard manager in IPython - without this line, in FF,\n    // the notebook keyboard shortcuts fail.\n    IPython.keyboard_manager.enable();\n    fig.parent_element.innerHTML =\n        '<img src=\"' + dataURL + '\" width=\"' + width + '\">';\n    fig.close_ws(fig, msg);\n};\n\nmpl.figure.prototype.close_ws = function (fig, msg) {\n    fig.send_message('closing', msg);\n    // fig.ws.close()\n};\n\nmpl.figure.prototype.push_to_output = function (_remove_interactive) {\n    // Turn the data on the canvas into data in the output cell.\n    var width = this.canvas.width / this.ratio;\n    var dataURL = this.canvas.toDataURL();\n    this.cell_info[1]['text/html'] =\n        '<img src=\"' + dataURL + '\" width=\"' + width + '\">';\n};\n\nmpl.figure.prototype.updated_canvas_event = function () {\n    // Tell IPython that the notebook contents must change.\n    IPython.notebook.set_dirty(true);\n    this.send_message('ack', {});\n    var fig = this;\n    // Wait a second, then push the new image to the DOM so\n    // that it is saved nicely (might be nice to debounce this).\n    setTimeout(function () {\n        fig.push_to_output();\n    }, 1000);\n};\n\nmpl.figure.prototype._init_toolbar = function () {\n    var fig = this;\n\n    var toolbar = document.createElement('div');\n    toolbar.classList = 'btn-toolbar';\n    this.root.appendChild(toolbar);\n\n    function on_click_closure(name) {\n        return function (_event) {\n            return fig.toolbar_button_onclick(name);\n        };\n    }\n\n    function on_mouseover_closure(tooltip) {\n        return function (event) {\n            if (!event.currentTarget.disabled) {\n                return fig.toolbar_button_onmouseover(tooltip);\n            }\n        };\n    }\n\n    fig.buttons = {};\n    var buttonGroup = document.createElement('div');\n    buttonGroup.classList = 'btn-group';\n    var button;\n    for (var toolbar_ind in mpl.toolbar_items) {\n        var name = mpl.toolbar_items[toolbar_ind][0];\n        var tooltip = mpl.toolbar_items[toolbar_ind][1];\n        var image = mpl.toolbar_items[toolbar_ind][2];\n        var method_name = mpl.toolbar_items[toolbar_ind][3];\n\n        if (!name) {\n            /* Instead of a spacer, we start a new button group. */\n            if (buttonGroup.hasChildNodes()) {\n                toolbar.appendChild(buttonGroup);\n            }\n            buttonGroup = document.createElement('div');\n            buttonGroup.classList = 'btn-group';\n            continue;\n        }\n\n        button = fig.buttons[name] = document.createElement('button');\n        button.classList = 'btn btn-default';\n        button.href = '#';\n        button.title = name;\n        button.innerHTML = '<i class=\"fa ' + image + ' fa-lg\"></i>';\n        button.addEventListener('click', on_click_closure(method_name));\n        button.addEventListener('mouseover', on_mouseover_closure(tooltip));\n        buttonGroup.appendChild(button);\n    }\n\n    if (buttonGroup.hasChildNodes()) {\n        toolbar.appendChild(buttonGroup);\n    }\n\n    // Add the status bar.\n    var status_bar = document.createElement('span');\n    status_bar.classList = 'mpl-message pull-right';\n    toolbar.appendChild(status_bar);\n    this.message = status_bar;\n\n    // Add the close button to the window.\n    var buttongrp = document.createElement('div');\n    buttongrp.classList = 'btn-group inline pull-right';\n    button = document.createElement('button');\n    button.classList = 'btn btn-mini btn-primary';\n    button.href = '#';\n    button.title = 'Stop Interaction';\n    button.innerHTML = '<i class=\"fa fa-power-off icon-remove icon-large\"></i>';\n    button.addEventListener('click', function (_evt) {\n        fig.handle_close(fig, {});\n    });\n    button.addEventListener(\n        'mouseover',\n        on_mouseover_closure('Stop Interaction')\n    );\n    buttongrp.appendChild(button);\n    var titlebar = this.root.querySelector('.ui-dialog-titlebar');\n    titlebar.insertBefore(buttongrp, titlebar.firstChild);\n};\n\nmpl.figure.prototype._remove_fig_handler = function (event) {\n    var fig = event.data.fig;\n    if (event.target !== this) {\n        // Ignore bubbled events from children.\n        return;\n    }\n    fig.close_ws(fig, {});\n};\n\nmpl.figure.prototype._root_extra_style = function (el) {\n    el.style.boxSizing = 'content-box'; // override notebook setting of border-box.\n};\n\nmpl.figure.prototype._canvas_extra_style = function (el) {\n    // this is important to make the div 'focusable\n    el.setAttribute('tabindex', 0);\n    // reach out to IPython and tell the keyboard manager to turn it's self\n    // off when our div gets focus\n\n    // location in version 3\n    if (IPython.notebook.keyboard_manager) {\n        IPython.notebook.keyboard_manager.register_events(el);\n    } else {\n        // location in version 2\n        IPython.keyboard_manager.register_events(el);\n    }\n};\n\nmpl.figure.prototype._key_event_extra = function (event, _name) {\n    // Check for shift+enter\n    if (event.shiftKey && event.which === 13) {\n        this.canvas_div.blur();\n        // select the cell after this one\n        var index = IPython.notebook.find_cell_index(this.cell_info[0]);\n        IPython.notebook.select(index + 1);\n    }\n};\n\nmpl.figure.prototype.handle_save = function (fig, _msg) {\n    fig.ondownload(fig, null);\n};\n\nmpl.find_output_cell = function (html_output) {\n    // Return the cell and output element which can be found *uniquely* in the notebook.\n    // Note - this is a bit hacky, but it is done because the \"notebook_saving.Notebook\"\n    // IPython event is triggered only after the cells have been serialised, which for\n    // our purposes (turning an active figure into a static one), is too late.\n    var cells = IPython.notebook.get_cells();\n    var ncells = cells.length;\n    for (var i = 0; i < ncells; i++) {\n        var cell = cells[i];\n        if (cell.cell_type === 'code') {\n            for (var j = 0; j < cell.output_area.outputs.length; j++) {\n                var data = cell.output_area.outputs[j];\n                if (data.data) {\n                    // IPython >= 3 moved mimebundle to data attribute of output\n                    data = data.data;\n                }\n                if (data['text/html'] === html_output) {\n                    return [cell, data, j];\n                }\n            }\n        }\n    }\n};\n\n// Register the function which deals with the matplotlib target/channel.\n// The kernel may be null if the page has been refreshed.\nif (IPython.notebook.kernel !== null) {\n    IPython.notebook.kernel.comm_manager.register_target(\n        'matplotlib',\n        mpl.mpl_figure_comm\n    );\n}\n",
      "text/plain": [
       "<IPython.core.display.Javascript object>"
      ]
     },
     "metadata": {},
     "output_type": "display_data"
    },
    {
     "data": {
      "text/html": [
       "<img src=\"data:image/png;base64,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\" width=\"432\">"
      ],
      "text/plain": [
       "<IPython.core.display.HTML object>"
      ]
     },
     "metadata": {},
     "output_type": "display_data"
    }
   ],
   "source": [
    "\n",
    "%matplotlib nbagg\n",
    "import numpy as np\n",
    "import matplotlib.pyplot as plt\n",
    "import matplotlib.animation as animation\n",
    "\n",
    "fig = plt.figure()\n",
    "ax = fig.add_subplot(1,1,1)\n",
    "\n",
    "# 画像を格納するリスト\n",
    "ims = []\n",
    "\n",
    "x = np.linspace(0, np.pi*4, 1000)\n",
    "for i in range(20):    \n",
    "    y = np.sin(x + 2*np.pi*i/20)\n",
    "    im = ax.plot(x, y, c=\"black\")\n",
    "    ims.append(im)\n",
    "#100 ms ごとに画像を表示\n",
    "ani = animation.ArtistAnimation(fig, ims, interval=100)\n",
    "plt.show()"
   ]
  },
  {
   "cell_type": "markdown",
   "metadata": {},
   "source": [
    "**練習問題1** 先週の 練習問題 20 を，$a\\sin(x-b)$ という関数に対してグラフを書けるように，クラスを用いて書き直してみよう。TaylorSin というクラスを作り，\n",
    "\n",
    "そこには，a, b をインスタンス変数とし，\n",
    "sin 関数を  fun という名前で，sin 関数の 0 における i 回目の微分係数を返す関数を d0(i) という名前で定義し，グラフ描画の範囲 ``[-10, 10, -2*self.a, 2*self.a]`` を area というインスタンス変数名で与え，それを用いて n 番目の関数を返す taylor(n, x)，および，n 番目のグラフを描画するメソッド graph(n) を定義しよう。a, b の値は，コンストラクタの引数で与えることにしよう。\n",
    "\n",
    "TaylorSin オブジェクトを作成し，それに，taylorgraph(10)を呼び出そう。"
   ]
  },
  {
   "attachments": {},
   "cell_type": "markdown",
   "metadata": {},
   "source": [
    "**練習問題2** TaylorSin を Taylor クラスと，そのサブクラス Sin に分けよう。Taylor クラスには，taylor, graphを置き，Sin には，それ以外を置こう。\n",
    "同様に，log(x+1), 1/(x+1), e^x に対するクラス，Log, Inv, Exp を Taylor クラスのサブクラスとして定義しよう。\n"
   ]
  },
  {
   "cell_type": "markdown",
   "metadata": {},
   "source": [
    "**練習問題** これを用いて，b を動かした時に，Sin のテイラー展開がどう変化していくかを動画として描画してみよう。"
   ]
  },
  {
   "cell_type": "markdown",
   "metadata": {},
   "source": [
    "２引数の関数の 3 次元の描画は，次のように，meshgrid を作り，plot_surface でもって行います。これも，%matplotlib inline  の代わりに %matplotlib tk とすれば，グラフを回転させながら見ることができます。"
   ]
  },
  {
   "cell_type": "code",
   "execution_count": 8,
   "metadata": {},
   "outputs": [
    {
     "ename": "ImportError",
     "evalue": "\n\nIMPORTANT: PLEASE READ THIS FOR ADVICE ON HOW TO SOLVE THIS ISSUE!\n\nImporting the numpy C-extensions failed. This error can happen for\nmany reasons, often due to issues with your setup or how NumPy was\ninstalled.\n\nWe have compiled some common reasons and troubleshooting tips at:\n\n    https://numpy.org/devdocs/user/troubleshooting-importerror.html\n\nPlease note and check the following:\n\n  * The Python version is: Python3.10 from \"/Users/tsuiki/Dropbox/python/.venv/bin/python\"\n  * The NumPy version is: \"1.23.3\"\n\nand make sure that they are the versions you expect.\nPlease carefully study the documentation linked above for further help.\n\nOriginal error was: dlopen(/Users/tsuiki/Dropbox/python/.venv/lib/python3.10/site-packages/numpy/core/_multiarray_umath.cpython-310-darwin.so, 2): no suitable image found.  Did find:\n\t/Users/tsuiki/Dropbox/python/.venv/lib/python3.10/site-packages/numpy/core/_multiarray_umath.cpython-310-darwin.so: mach-o, but wrong architecture\n\t/Users/tsuiki/Dropbox/python/.venv/lib/python3.10/site-packages/numpy/core/_multiarray_umath.cpython-310-darwin.so: mach-o, but wrong architecture\n",
     "output_type": "error",
     "traceback": [
      "\u001b[0;31m---------------------------------------------------------------------------\u001b[0m",
      "\u001b[0;31mImportError\u001b[0m                               Traceback (most recent call last)",
      "File \u001b[0;32m~/Dropbox/python/.venv/lib/python3.10/site-packages/numpy/core/__init__.py:23\u001b[0m\n\u001b[1;32m     22\u001b[0m \u001b[39mtry\u001b[39;00m:\n\u001b[0;32m---> 23\u001b[0m     \u001b[39mfrom\u001b[39;00m \u001b[39m.\u001b[39;00m \u001b[39mimport\u001b[39;00m multiarray\n\u001b[1;32m     24\u001b[0m \u001b[39mexcept\u001b[39;00m \u001b[39mImportError\u001b[39;00m \u001b[39mas\u001b[39;00m exc:\n",
      "File \u001b[0;32m~/Dropbox/python/.venv/lib/python3.10/site-packages/numpy/core/multiarray.py:10\u001b[0m\n\u001b[1;32m      9\u001b[0m \u001b[39mimport\u001b[39;00m \u001b[39mfunctools\u001b[39;00m\n\u001b[0;32m---> 10\u001b[0m \u001b[39mfrom\u001b[39;00m \u001b[39m.\u001b[39;00m \u001b[39mimport\u001b[39;00m overrides\n\u001b[1;32m     11\u001b[0m \u001b[39mfrom\u001b[39;00m \u001b[39m.\u001b[39;00m \u001b[39mimport\u001b[39;00m _multiarray_umath\n",
      "File \u001b[0;32m~/Dropbox/python/.venv/lib/python3.10/site-packages/numpy/core/overrides.py:6\u001b[0m\n\u001b[1;32m      4\u001b[0m \u001b[39mimport\u001b[39;00m \u001b[39mos\u001b[39;00m\n\u001b[0;32m----> 6\u001b[0m \u001b[39mfrom\u001b[39;00m \u001b[39mnumpy\u001b[39;00m\u001b[39m.\u001b[39;00m\u001b[39mcore\u001b[39;00m\u001b[39m.\u001b[39;00m\u001b[39m_multiarray_umath\u001b[39;00m \u001b[39mimport\u001b[39;00m (\n\u001b[1;32m      7\u001b[0m     add_docstring, implement_array_function, _get_implementing_args)\n\u001b[1;32m      8\u001b[0m \u001b[39mfrom\u001b[39;00m \u001b[39mnumpy\u001b[39;00m\u001b[39m.\u001b[39;00m\u001b[39mcompat\u001b[39;00m\u001b[39m.\u001b[39;00m\u001b[39m_inspect\u001b[39;00m \u001b[39mimport\u001b[39;00m getargspec\n",
      "\u001b[0;31mImportError\u001b[0m: dlopen(/Users/tsuiki/Dropbox/python/.venv/lib/python3.10/site-packages/numpy/core/_multiarray_umath.cpython-310-darwin.so, 2): no suitable image found.  Did find:\n\t/Users/tsuiki/Dropbox/python/.venv/lib/python3.10/site-packages/numpy/core/_multiarray_umath.cpython-310-darwin.so: mach-o, but wrong architecture\n\t/Users/tsuiki/Dropbox/python/.venv/lib/python3.10/site-packages/numpy/core/_multiarray_umath.cpython-310-darwin.so: mach-o, but wrong architecture",
      "\nDuring handling of the above exception, another exception occurred:\n",
      "\u001b[0;31mImportError\u001b[0m                               Traceback (most recent call last)",
      "Cell \u001b[0;32mIn [8], line 2\u001b[0m\n\u001b[1;32m      1\u001b[0m \u001b[39m#%matplotlib inline\u001b[39;00m\n\u001b[0;32m----> 2\u001b[0m get_ipython()\u001b[39m.\u001b[39mrun_line_magic(\u001b[39m'\u001b[39m\u001b[39mmatplotlib\u001b[39m\u001b[39m'\u001b[39m, \u001b[39m'\u001b[39m\u001b[39mtk\u001b[39m\u001b[39m'\u001b[39m)\n\u001b[1;32m      3\u001b[0m \u001b[39mimport\u001b[39;00m \u001b[39mnumpy\u001b[39;00m \u001b[39mas\u001b[39;00m \u001b[39mnp\u001b[39;00m\n\u001b[1;32m      4\u001b[0m \u001b[39mimport\u001b[39;00m \u001b[39mmatplotlib\u001b[39;00m\u001b[39m.\u001b[39;00m\u001b[39mpyplot\u001b[39;00m \u001b[39mas\u001b[39;00m \u001b[39mplt\u001b[39;00m\n",
      "File \u001b[0;32m~/Dropbox/python/.venv/lib/python3.10/site-packages/IPython/core/interactiveshell.py:2309\u001b[0m, in \u001b[0;36mInteractiveShell.run_line_magic\u001b[0;34m(self, magic_name, line, _stack_depth)\u001b[0m\n\u001b[1;32m   2307\u001b[0m     kwargs[\u001b[39m'\u001b[39m\u001b[39mlocal_ns\u001b[39m\u001b[39m'\u001b[39m] \u001b[39m=\u001b[39m \u001b[39mself\u001b[39m\u001b[39m.\u001b[39mget_local_scope(stack_depth)\n\u001b[1;32m   2308\u001b[0m \u001b[39mwith\u001b[39;00m \u001b[39mself\u001b[39m\u001b[39m.\u001b[39mbuiltin_trap:\n\u001b[0;32m-> 2309\u001b[0m     result \u001b[39m=\u001b[39m fn(\u001b[39m*\u001b[39;49margs, \u001b[39m*\u001b[39;49m\u001b[39m*\u001b[39;49mkwargs)\n\u001b[1;32m   2310\u001b[0m \u001b[39mreturn\u001b[39;00m result\n",
      "File \u001b[0;32m~/Dropbox/python/.venv/lib/python3.10/site-packages/IPython/core/magics/pylab.py:99\u001b[0m, in \u001b[0;36mPylabMagics.matplotlib\u001b[0;34m(self, line)\u001b[0m\n\u001b[1;32m     97\u001b[0m     \u001b[39mprint\u001b[39m(\u001b[39m\"\u001b[39m\u001b[39mAvailable matplotlib backends: \u001b[39m\u001b[39m%s\u001b[39;00m\u001b[39m\"\u001b[39m \u001b[39m%\u001b[39m backends_list)\n\u001b[1;32m     98\u001b[0m \u001b[39melse\u001b[39;00m:\n\u001b[0;32m---> 99\u001b[0m     gui, backend \u001b[39m=\u001b[39m \u001b[39mself\u001b[39;49m\u001b[39m.\u001b[39;49mshell\u001b[39m.\u001b[39;49menable_matplotlib(args\u001b[39m.\u001b[39;49mgui\u001b[39m.\u001b[39;49mlower() \u001b[39mif\u001b[39;49;00m \u001b[39misinstance\u001b[39;49m(args\u001b[39m.\u001b[39;49mgui, \u001b[39mstr\u001b[39;49m) \u001b[39melse\u001b[39;49;00m args\u001b[39m.\u001b[39;49mgui)\n\u001b[1;32m    100\u001b[0m     \u001b[39mself\u001b[39m\u001b[39m.\u001b[39m_show_matplotlib_backend(args\u001b[39m.\u001b[39mgui, backend)\n",
      "File \u001b[0;32m~/Dropbox/python/.venv/lib/python3.10/site-packages/IPython/core/interactiveshell.py:3458\u001b[0m, in \u001b[0;36mInteractiveShell.enable_matplotlib\u001b[0;34m(self, gui)\u001b[0m\n\u001b[1;32m   3437\u001b[0m \u001b[39mdef\u001b[39;00m \u001b[39menable_matplotlib\u001b[39m(\u001b[39mself\u001b[39m, gui\u001b[39m=\u001b[39m\u001b[39mNone\u001b[39;00m):\n\u001b[1;32m   3438\u001b[0m     \u001b[39m\"\"\"Enable interactive matplotlib and inline figure support.\u001b[39;00m\n\u001b[1;32m   3439\u001b[0m \n\u001b[1;32m   3440\u001b[0m \u001b[39m    This takes the following steps:\u001b[39;00m\n\u001b[0;32m   (...)\u001b[0m\n\u001b[1;32m   3456\u001b[0m \u001b[39m        display figures inline.\u001b[39;00m\n\u001b[1;32m   3457\u001b[0m \u001b[39m    \"\"\"\u001b[39;00m\n\u001b[0;32m-> 3458\u001b[0m     \u001b[39mfrom\u001b[39;00m \u001b[39mmatplotlib_inline\u001b[39;00m\u001b[39m.\u001b[39;00m\u001b[39mbackend_inline\u001b[39;00m \u001b[39mimport\u001b[39;00m configure_inline_support\n\u001b[1;32m   3460\u001b[0m     \u001b[39mfrom\u001b[39;00m \u001b[39mIPython\u001b[39;00m\u001b[39m.\u001b[39;00m\u001b[39mcore\u001b[39;00m \u001b[39mimport\u001b[39;00m pylabtools \u001b[39mas\u001b[39;00m pt\n\u001b[1;32m   3461\u001b[0m     gui, backend \u001b[39m=\u001b[39m pt\u001b[39m.\u001b[39mfind_gui_and_backend(gui, \u001b[39mself\u001b[39m\u001b[39m.\u001b[39mpylab_gui_select)\n",
      "File \u001b[0;32m~/Dropbox/python/.venv/lib/python3.10/site-packages/matplotlib_inline/__init__.py:1\u001b[0m\n\u001b[0;32m----> 1\u001b[0m \u001b[39mfrom\u001b[39;00m \u001b[39m.\u001b[39;00m \u001b[39mimport\u001b[39;00m backend_inline, config  \u001b[39m# noqa\u001b[39;00m\n\u001b[1;32m      2\u001b[0m __version__ \u001b[39m=\u001b[39m \u001b[39m\"\u001b[39m\u001b[39m0.1.6\u001b[39m\u001b[39m\"\u001b[39m\n",
      "File \u001b[0;32m~/Dropbox/python/.venv/lib/python3.10/site-packages/matplotlib_inline/backend_inline.py:6\u001b[0m\n\u001b[1;32m      1\u001b[0m \u001b[39m\"\"\"A matplotlib backend for publishing figures via display_data\"\"\"\u001b[39;00m\n\u001b[1;32m      3\u001b[0m \u001b[39m# Copyright (c) IPython Development Team.\u001b[39;00m\n\u001b[1;32m      4\u001b[0m \u001b[39m# Distributed under the terms of the BSD 3-Clause License.\u001b[39;00m\n\u001b[0;32m----> 6\u001b[0m \u001b[39mimport\u001b[39;00m \u001b[39mmatplotlib\u001b[39;00m\n\u001b[1;32m      7\u001b[0m \u001b[39mfrom\u001b[39;00m \u001b[39mmatplotlib\u001b[39;00m \u001b[39mimport\u001b[39;00m colors\n\u001b[1;32m      8\u001b[0m \u001b[39mfrom\u001b[39;00m \u001b[39mmatplotlib\u001b[39;00m\u001b[39m.\u001b[39;00m\u001b[39mbackends\u001b[39;00m \u001b[39mimport\u001b[39;00m backend_agg\n",
      "File \u001b[0;32m~/Dropbox/python/.venv/lib/python3.10/site-packages/matplotlib/__init__.py:108\u001b[0m\n\u001b[1;32m    105\u001b[0m \u001b[39mimport\u001b[39;00m \u001b[39mtempfile\u001b[39;00m\n\u001b[1;32m    106\u001b[0m \u001b[39mimport\u001b[39;00m \u001b[39mwarnings\u001b[39;00m\n\u001b[0;32m--> 108\u001b[0m \u001b[39mimport\u001b[39;00m \u001b[39mnumpy\u001b[39;00m\n\u001b[1;32m    109\u001b[0m \u001b[39mfrom\u001b[39;00m \u001b[39mpackaging\u001b[39;00m\u001b[39m.\u001b[39;00m\u001b[39mversion\u001b[39;00m \u001b[39mimport\u001b[39;00m parse \u001b[39mas\u001b[39;00m parse_version\n\u001b[1;32m    111\u001b[0m \u001b[39m# cbook must import matplotlib only within function\u001b[39;00m\n\u001b[1;32m    112\u001b[0m \u001b[39m# definitions, so it is safe to import from it here.\u001b[39;00m\n",
      "File \u001b[0;32m~/Dropbox/python/.venv/lib/python3.10/site-packages/numpy/__init__.py:140\u001b[0m\n\u001b[1;32m    137\u001b[0m \u001b[39m# Allow distributors to run custom init code\u001b[39;00m\n\u001b[1;32m    138\u001b[0m \u001b[39mfrom\u001b[39;00m \u001b[39m.\u001b[39;00m \u001b[39mimport\u001b[39;00m _distributor_init\n\u001b[0;32m--> 140\u001b[0m \u001b[39mfrom\u001b[39;00m \u001b[39m.\u001b[39;00m \u001b[39mimport\u001b[39;00m core\n\u001b[1;32m    141\u001b[0m \u001b[39mfrom\u001b[39;00m \u001b[39m.\u001b[39;00m\u001b[39mcore\u001b[39;00m \u001b[39mimport\u001b[39;00m \u001b[39m*\u001b[39m\n\u001b[1;32m    142\u001b[0m \u001b[39mfrom\u001b[39;00m \u001b[39m.\u001b[39;00m \u001b[39mimport\u001b[39;00m compat\n",
      "File \u001b[0;32m~/Dropbox/python/.venv/lib/python3.10/site-packages/numpy/core/__init__.py:49\u001b[0m\n\u001b[1;32m     25\u001b[0m     \u001b[39mimport\u001b[39;00m \u001b[39msys\u001b[39;00m\n\u001b[1;32m     26\u001b[0m     msg \u001b[39m=\u001b[39m \u001b[39m\"\"\"\u001b[39m\n\u001b[1;32m     27\u001b[0m \n\u001b[1;32m     28\u001b[0m \u001b[39mIMPORTANT: PLEASE READ THIS FOR ADVICE ON HOW TO SOLVE THIS ISSUE!\u001b[39m\n\u001b[0;32m   (...)\u001b[0m\n\u001b[1;32m     47\u001b[0m \u001b[39m\"\"\"\u001b[39m \u001b[39m%\u001b[39m (sys\u001b[39m.\u001b[39mversion_info[\u001b[39m0\u001b[39m], sys\u001b[39m.\u001b[39mversion_info[\u001b[39m1\u001b[39m], sys\u001b[39m.\u001b[39mexecutable,\n\u001b[1;32m     48\u001b[0m         __version__, exc)\n\u001b[0;32m---> 49\u001b[0m     \u001b[39mraise\u001b[39;00m \u001b[39mImportError\u001b[39;00m(msg)\n\u001b[1;32m     50\u001b[0m \u001b[39mfinally\u001b[39;00m:\n\u001b[1;32m     51\u001b[0m     \u001b[39mfor\u001b[39;00m envkey \u001b[39min\u001b[39;00m env_added:\n",
      "\u001b[0;31mImportError\u001b[0m: \n\nIMPORTANT: PLEASE READ THIS FOR ADVICE ON HOW TO SOLVE THIS ISSUE!\n\nImporting the numpy C-extensions failed. This error can happen for\nmany reasons, often due to issues with your setup or how NumPy was\ninstalled.\n\nWe have compiled some common reasons and troubleshooting tips at:\n\n    https://numpy.org/devdocs/user/troubleshooting-importerror.html\n\nPlease note and check the following:\n\n  * The Python version is: Python3.10 from \"/Users/tsuiki/Dropbox/python/.venv/bin/python\"\n  * The NumPy version is: \"1.23.3\"\n\nand make sure that they are the versions you expect.\nPlease carefully study the documentation linked above for further help.\n\nOriginal error was: dlopen(/Users/tsuiki/Dropbox/python/.venv/lib/python3.10/site-packages/numpy/core/_multiarray_umath.cpython-310-darwin.so, 2): no suitable image found.  Did find:\n\t/Users/tsuiki/Dropbox/python/.venv/lib/python3.10/site-packages/numpy/core/_multiarray_umath.cpython-310-darwin.so: mach-o, but wrong architecture\n\t/Users/tsuiki/Dropbox/python/.venv/lib/python3.10/site-packages/numpy/core/_multiarray_umath.cpython-310-darwin.so: mach-o, but wrong architecture\n"
     ]
    }
   ],
   "source": [
    "#%matplotlib inline\n",
    "%matplotlib tk\n",
    "import numpy as np\n",
    "import matplotlib.pyplot as plt\n",
    "from mpl_toolkits.mplot3d import Axes3D\n",
    "\n",
    "def TDfigure():\n",
    "    fig = plt.figure()\n",
    "    ax = fig.add_subplot(1,1,1, projection='3d')\n",
    "  \n",
    "    x=np.linspace(-1, 1, 100)\n",
    "    y=np.linspace(-1, 1, 100)\n",
    "    X, Y = np.meshgrid(x, y)\n",
    "    Z = X*X + Y*Y\n",
    "    ax.plot_surface(X, Y, Z)\n",
    "    plt.show()\n",
    "    \n",
    "    \n",
    "TDfigure()\n"
   ]
  },
  {
   "cell_type": "code",
   "execution_count": null,
   "metadata": {},
   "outputs": [],
   "source": []
  }
 ],
 "metadata": {
  "kernelspec": {
   "display_name": "Python 3 (ipykernel)",
   "language": "python",
   "name": "python3"
  },
  "language_info": {
   "codemirror_mode": {
    "name": "ipython",
    "version": 3
   },
   "file_extension": ".py",
   "mimetype": "text/x-python",
   "name": "python",
   "nbconvert_exporter": "python",
   "pygments_lexer": "ipython3",
   "version": "3.10.7"
  },
  "vscode": {
   "interpreter": {
    "hash": "974709e487bf293398b143f4ac30c818c195e8f1cd4c27b889061cadacbd70d3"
   }
  }
 },
 "nbformat": 4,
 "nbformat_minor": 4
}
