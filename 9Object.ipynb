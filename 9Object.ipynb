{
 "cells": [
  {
   "cell_type": "markdown",
   "metadata": {},
   "source": [
    "# オブジェクト指向\n",
    "\n",
    "クラス（すなわち，型）を自分で定義する方法を学びます。"
   ]
  },
  {
   "cell_type": "markdown",
   "metadata": {},
   "source": [
    "# 複素数型\n",
    "\n",
    "Python では、複素数も扱えます。複素数は、x + yj と、素数単位を j で表現します。"
   ]
  },
  {
   "cell_type": "code",
   "execution_count": null,
   "metadata": {},
   "outputs": [],
   "source": [
    "4 + 3j"
   ]
  },
  {
   "cell_type": "code",
   "execution_count": null,
   "metadata": {},
   "outputs": [],
   "source": [
    "1j*1j   #i^2 = -1 "
   ]
  },
  {
   "cell_type": "code",
   "execution_count": null,
   "metadata": {},
   "outputs": [],
   "source": [
    "(1+1j)*(1+1j) #(1+i)^2 = 2i"
   ]
  },
  {
   "cell_type": "code",
   "execution_count": null,
   "metadata": {},
   "outputs": [],
   "source": [
    "import math\n",
    "math.e**((math.pi)*1j) #オイラーの公式"
   ]
  },
  {
   "cell_type": "markdown",
   "metadata": {},
   "source": [
    "実部、虚部が数式で表現される時には、コンストラクタ complex で作ります。"
   ]
  },
  {
   "cell_type": "code",
   "execution_count": null,
   "metadata": {},
   "outputs": [],
   "source": [
    "x = math.cos(math.pi/3)\n",
    "y = math.sin(math.pi/3)\n",
    "z = complex(x,y)\n",
    "z"
   ]
  },
  {
   "cell_type": "markdown",
   "metadata": {},
   "source": [
    "複素数の実部、虚部は、それぞれ、複素数オブジェクトの real, imag という名前のデータ属性（インスタンス変数）となっています。データ属性は，それぞれのオブジェクトにおいて，名前と結びつけて記憶されている値で\n",
    "```\n",
    "オブジェクト.属性名\n",
    "```\n",
    "でアクセスすることができます。\n"
   ]
  },
  {
   "cell_type": "code",
   "execution_count": null,
   "metadata": {},
   "outputs": [],
   "source": [
    "z.real"
   ]
  },
  {
   "cell_type": "code",
   "execution_count": null,
   "metadata": {},
   "outputs": [],
   "source": [
    "z.imag"
   ]
  },
  {
   "cell_type": "code",
   "execution_count": null,
   "metadata": {},
   "outputs": [],
   "source": [
    "\n",
    "print(f\"  z の実部は{z.real:8.5f}, 虚部は{z.imag:8.5f}\")\n",
    "a = z * z\n",
    "print(f\"z**2の実部は{a.real:8.5f}, 虚部は{a.imag:8.5f}\")\n",
    "b = z * z * z\n",
    "print(f\"z**3の実部は{b.real:8.5f}, 虚部は{b.imag:8.5f}\")"
   ]
  },
  {
   "cell_type": "markdown",
   "metadata": {},
   "source": [
    "real, imag というデータ属性は，int や double の値も持っています。これで，\n",
    "int の値を複素数だと思ってプログラムしても，real, imag 属性や，* などの算術演算\n",
    "を用いてプログラムしている限り，エラーは起きないことになります。"
   ]
  },
  {
   "cell_type": "code",
   "execution_count": null,
   "metadata": {},
   "outputs": [],
   "source": [
    "a = 2\n",
    "b = 2.0\n",
    "print(a.real, a.imag)\n",
    "print(b.real, b.imag)"
   ]
  },
  {
   "cell_type": "markdown",
   "metadata": {},
   "source": [
    "複素数については、複素平面という形で後で扱います。"
   ]
  },
  {
   "cell_type": "markdown",
   "metadata": {},
   "source": [
    "## オブジェクトの属性とメソッド"
   ]
  },
  {
   "cell_type": "markdown",
   "metadata": {},
   "source": [
    "複素数は，real, imag というデータ属性をもっていました。このように，各オブジェクトは、その属するクラス（型と同義でした）ごとに決まったデータ属性(attribute)を持っています。データ属性は，オブジェクト指向的なプログラムの場合には，インスタンス変数ともいいます。多くのデータ処理では，構造を持ったデータを扱います。例えば，学生のデータは，名前，所属，学年，学籍番号などのデータを持つでしょう。こういった値は，学生オブジェクトの属性（インスタンス変数）として持つように，学生クラスを定義するのが自然です。\n",
    "\n",
    "また，オブジェクトには，メソッド呼び出しができました。複素数に対しては，その複素共役を求めるメソッドが conjugate という名前であります。\n"
   ]
  },
  {
   "cell_type": "code",
   "execution_count": null,
   "metadata": {},
   "outputs": [],
   "source": [
    "x = 1+2j\n",
    "\n",
    "y = x.conjugate()\n",
    "print(x, y, x.imag)"
   ]
  },
  {
   "cell_type": "markdown",
   "metadata": {},
   "source": [
    "\n",
    "\n",
    "あるオブジェクトに対して呼び出せるメソッドも，実は，オブジェクトが持つ属性です。\n",
    "このように，属性には，データ属性（インスタンス変数）とメソッドがあります。\n",
    "\n",
    "通常の変数や関数は，main モジュールの名前空間に登録された値でした。同様に，\n",
    "それぞれのオブジェクトは名前空間を持っており，属性は，その名前空間に登録された値です。そして，属性の中で，関数がメソッド，関数以外のものがインスタンス変数です。\n",
    "\n",
    "dir で，複素数の名前空間を見てみましょう。imag, real, conjugate があることを確認しましょう。\n"
   ]
  },
  {
   "cell_type": "code",
   "execution_count": null,
   "metadata": {},
   "outputs": [],
   "source": [
    "x = 1+2j\n",
    "display(dir(x))"
   ]
  },
  {
   "cell_type": "markdown",
   "metadata": {},
   "source": [
    "インスタンス変数には，\n",
    "```\n",
    "オブジェクト.変数名\n",
    "```\n",
    "という形でアクセスしました。また，メソッド呼び出しは，\n",
    "```\n",
    "オブジェクト.メソッド名()\n",
    "```\n",
    "という形でアクセスしました。これらは，モジュールに属する変数や関数のアクセスと同じ形をしています。\n",
    "このように，. は，オブジェクトやモジュールの名前空間から，その名前のものをとってくるという演算です。\n",
    "そして，それが関数の時には，\"(引数の列)\" を後ろにつけると，その関数の呼び出しになります。\n",
    "\n",
    "このように，メソッドは，オブジェクトの名前空間に登録された関数に過ぎないのですが，その呼び出し方は\n",
    "通常の関数の呼び出しと大きく異なります。\n"
   ]
  },
  {
   "cell_type": "markdown",
   "metadata": {},
   "source": [
    "list 型の append メソッドを例にとって説明します。\n",
    "append は，リストと要素をもらって，そのリストにその要素を付け加える２引数の関数として定義されています。そして，メソッド呼び出しが行われると，その第１引数(self という名前が使われます）には，メソッドを送られたリストオブジェクトが渡されます。\n",
    "\n",
    "つまり，\n",
    "```\n",
    "オブジェクト.メソッド名(引数１, ..., 引数n)\n",
    "```\n",
    "という呼び出しがなされると，メソッド名の関数に対して，\n",
    "```\n",
    "メソッド名(オブジェクト，引数１, ..., 引数n)\n",
    "```\n",
    "という関数呼び出しがなされます。\n",
    "\n",
    "メソッドは，そのクラスの名前空間にも実質的に同じ関数が登録されていて，そちらは，通常の関数呼び出しで self の引数も渡して実行できます。\n"
   ]
  },
  {
   "cell_type": "code",
   "execution_count": null,
   "metadata": {},
   "outputs": [],
   "source": [
    "a = [1,2,3,4]\n",
    "list.append(a, 5)\n",
    "print(a)"
   ]
  },
  {
   "cell_type": "markdown",
   "metadata": {},
   "source": [
    "そして，append をメソッドとして使う時には，次のように呼び出します。\n"
   ]
  },
  {
   "cell_type": "code",
   "execution_count": null,
   "metadata": {},
   "outputs": [],
   "source": [
    "a= [1,2,3,4]\n",
    "a.append(5)\n",
    "print(a)"
   ]
  },
  {
   "cell_type": "code",
   "execution_count": null,
   "metadata": {},
   "outputs": [],
   "source": [
    "# 実際には，a.append と list.append は異なるものみたいです。\n",
    "print (a.append)\n",
    "print (list.append)\n",
    "print(a.append == list.append)\n",
    "print(id(a.append), id(list.append))\n",
    "print(type(a.append))\n",
    "print(type(list.append))"
   ]
  },
  {
   "cell_type": "markdown",
   "metadata": {},
   "source": [
    "## オブジェクト指向の考え方\n",
    "\n",
    "複雑に見えますが，オブジェクトの属性となっている関数の呼び出し方をこのように定義して，オブジェクトにそれを処理する手続きも持たせることが，大きなプログラムを管理可能な形で書く時に役に立ちます。\n",
    "\n",
    "例えば，append という名前は，リストに要素を追加する時には自然ですが，一般的な名前なので，自分でプログラムしている時に，使ってしまうことがありそうです。そのような名前の衝突を避けるには，list_append といった長い名前をそれぞれにつけえていくことが考えられますが，これではプログラムが煩雑になります。もちろん，append という1つの関数を用意して，その定義を書き換えて，いろんな型の引数に適用できるようにしていくこともできるでしょうが，それでは，append がどんどん大きくなっていきますし，新しいデータを考えた時に，それに対する append 処理を append 関数に付け加える必要があります。それでは，あるデータを処理するプログラムがあちこちに分散していくことになり，管理がしきれなくなります。\n",
    "\n",
    "そこで，データに，そのデータを処理するための方法をもたせることが考えられます。それが，オブジェクト指向という考え方です。このようにすると，その処理を利用する人の呼び出し手続きが楽になります。\n",
    "\n",
    "例えば，あらゆる電化製品は，ON というボタンを持っています。ON が押された時に行わないといけない処理の詳細は，ディスプレイと電灯では違うと思いますが，詳細は知らなくても ON という名前（から想像される処理）は，ON というボタンを押せばできます。\n",
    "これは，電化製品が ON という処理を中に持っているからです。\n",
    "これにより，電化製品をオブジェクト，ボタンをメソッドに見立てると\n",
    "```\n",
    "オブジェクト.on()\n",
    "```\n",
    "という呼び出しで，そのオブジェクトが内部に持つ ON が呼び出されることになります。普通の関数呼び出しなら，ディスプレイの on なら diaplay_on，Aというパソコンの on なら pc_A_on といった具合に別々の関数を定義して，\n",
    "```\n",
    "diaplay_on(オブジェクト)\n",
    "```\n",
    "などと書くことになると思いますが，これでは，呼び出し処理が大変です。\n",
    "それに対して\n",
    "```\n",
    "オブジェクト.on()\n",
    "```\n",
    "で押せるようにするというのが，オブジェクト指向の考え方です。こうすると，オブジェクトが変数 x に代入されている時，\n",
    "同じ\n",
    "```\n",
    "x.on()\n",
    "```\n",
    "で，x がディスプレイの時にはディスプレイの ON が，x がパソコンの時にはパソコンの ON が起動されるということもできます。これは，単に個々の処理の名前を覚えなくてもいいという以上の利点があります。\n",
    "例えば，いろんな家電製品のリストがあったとして，全て ON するのに，for 文で x という変数に順に代入しながら x.on() を実行していくことができます。これが，もし，x の種類ごとに異なる関数を呼び出さないといけないとすると，大変な場合分けのプログラムになってしまいます。"
   ]
  },
  {
   "cell_type": "code",
   "execution_count": null,
   "metadata": {},
   "outputs": [],
   "source": []
  },
  {
   "cell_type": "markdown",
   "metadata": {},
   "source": [
    "## クラスの定義方法\n",
    "\n",
    "Python では，全てのデータはオブジェクトであり，オブジェクトはクラス（=型）に属しているという話をしました。あるオブジェクトが持つメソッドは，そのオブジェクトの属するクラスに定義されています。\n",
    "\n",
    "自分でクラスを定義する方法を説明しましょう。\n",
    "\n",
    "クラスの定義は， \n",
    "```\n",
    "class クラス名:\n",
    "```\n",
    "ではじめます。クラス名は，大文字から始めることが推奨されています。この後，インデントを下げてある部分がクラス定義となります。\n",
    "\n",
    "クラスの定義の中には，モジュールのトップレベルに記述する時や，関数定義の時と同様のプログラムが書けます。しかし，普通は，メソッドの定義（と，後に述べるクラス変数の初期値を与える代入）だけを書きます。\n",
    "メソッドは，自分自身を第1引数としてとるような関数定義として書きます。次の例では，hello というメソッドを定義しています。\n",
    "\n",
    "クラスを定義すると，そのクラスのオブジェクトを作って返す関数が，そのクラス名で定義されます。\n"
   ]
  },
  {
   "cell_type": "code",
   "execution_count": null,
   "metadata": {},
   "outputs": [],
   "source": [
    "class Point:\n",
    "    ''' Point class'''\n",
    "#    def __init__(self):\n",
    "#        print(\"new point generated.\")\n",
    "    def hello(self):\n",
    "        print(f\"Hello I am {self}\")\n",
    " \n",
    "print(Point)\n",
    "print(int)\n",
    "\n",
    "point1 = Point()\n",
    "point2 = Point()\n",
    "point3 = Point()\n",
    "print(point1)\n",
    "print(type(point1))\n",
    "\n",
    "point1.hello()\n",
    "point2.hello()\n",
    "point3.hello()"
   ]
  },
  {
   "cell_type": "markdown",
   "metadata": {},
   "source": [
    "この例では，hello メソッドを定義しています。このメソッドは，オブジェクト自体( self という変数に代入されている）を表示します。\n",
    "Point 自体を print すると，`__main__` モジュール のPointクラスと表記されます。\n",
    "int も int クラスと表記されるように，int も Point も同様に「クラス」です。\n",
    "\n",
    "それから Point クラスのインスタンス（あるクラスのオブジェクトを，そのクラスのインスタンスといます）を３つ作って\n",
    "います。print で見ると，Point クラスのオブジェクトであることと，それが置かれたヒープ上のメモリ番地が表示されています。\n",
    "それぞれに hello メソッドを呼び出すと，第1引数の self には，呼び出されたオブジェクトが代入された状態で，メソッドが実行されます。\n"
   ]
  },
  {
   "cell_type": "markdown",
   "metadata": {},
   "source": [
    "クラスに`__init__` という名前の，メソッドが定義されていると，コンストラクタで新しいオブジェクトが作られた時に，最初に自動的に呼び出されます。これを，コンストラクタと呼びます。\n",
    "コンストラクタでは，オブジェクトの初期化に相当する処理を行います。上のプログラムの__init__のコメントをはずして実行してみてください。\n",
    "\n",
    "コンストラクタに，self 以外の引数を定義すると，それが，オブジェクト作成の時の引数になります。\n"
   ]
  },
  {
   "cell_type": "markdown",
   "metadata": {},
   "source": [
    "## インスタンス変数の定義\n",
    "\n",
    "オブジェクトは，インスタンス変数を持てるのでした。Point クラスに x というインスタンス変数を与えましょう。インスタンス変数は，オブジェクトの名前空間に登録されている名前でした。すなわち，self にそのオブジェクトが代入されているときには，self.x でアクセスできます。そして，他の変数と同様に，その変数に最初に代入が行われた時にインスタンス変数は作られます。\n",
    "\n",
    "Point クラスを，`__init__` が self に加えてもう一つ引数をとるように書き換えましょう。そして，Point(a) という形のコンストラクタ呼び出しでオブジェクトを生成したときに，x というインスタンス変数へ a が代入されることにより，インスタンス変数が作られるようにします。"
   ]
  },
  {
   "cell_type": "code",
   "execution_count": null,
   "metadata": {},
   "outputs": [],
   "source": [
    "class Point:\n",
    "    ''' Point class'''\n",
    "    def __init__(self, xx):\n",
    "        self.x = xx\n",
    "    def __str__(self):\n",
    "        return f\"Point at {self.x}\"\n",
    "    def move(self,dist):\n",
    "        self.x = self.x + dist\n",
    "    def moveshow(self, dist):\n",
    "        self.move(dist);\n",
    "        print(self);        \n",
    "\n",
    "        \n",
    "point1 = Point(20)\n",
    "point2 = Point(0)\n",
    "print(point1)  # (20)\n",
    "point1.move(30)\n",
    "print(point1)  # (50) \n",
    "point1.moveshow(30)    # (80)\n",
    "print(point2)  # (0)\n",
    "print(point1.x)\n"
   ]
  },
  {
   "cell_type": "markdown",
   "metadata": {},
   "source": [
    "通常は，このように，`__init__` の中で初期値を与えるようにインスタンス変数への代入を行ってインスタンス変数を作ります。`__str__` という名前のメソッドを作っておくと，それが，そのオブジェクトを表す文字列を作るのに作られます。print 関数は，引数のオブジェクトに対して `__str__` を呼び出して作られる文字列を表示するように作られているので，print 関数による表示の仕方を設定できます。"
   ]
  },
  {
   "cell_type": "markdown",
   "metadata": {},
   "source": [
    "moveshow メソッドでは，自分自身に対して，move メソッドを呼び出し，それから，自分自身をprint しています。"
   ]
  },
  {
   "cell_type": "markdown",
   "metadata": {},
   "source": [
    "インスタンス変数は，オブジェクトの名前空間に登録されているデータ属性なので，最後の行のように\n",
    "```\n",
    "オブジェクト.変数名\n",
    "```\n",
    "でどこでもアクセスできます。この値は，そのクラスで定義されたメソッド以外でも変更できますし，普通はしませんが，新たな変数を作ることもできてしまいます。\n"
   ]
  },
  {
   "cell_type": "code",
   "execution_count": null,
   "metadata": {},
   "outputs": [],
   "source": [
    "point1.x = 60\n",
    "print(point1)\n",
    "point1.new1 = 30\n",
    "print(point1.new1)"
   ]
  },
  {
   "cell_type": "markdown",
   "metadata": {},
   "source": [
    "このように，python は，言語としてできることと，通常やっていいことが異なります。言語の仕組みを理解することと，通常の書き方と，２つのことを学ぶ必要があります。（それは，自然言語でも同じで，文法的に正しいことと，通常の会話で話をする事とは違うでしょう。）\n",
    "\n",
    "Python は，文法をシンプルで統一的なものにして，通常のプログラムの書き方（例えば，このように書いたらオブジェクト指向的にプログラムが書ける）といったことを別に学んで，それに従ってみんながプログラムを書くというスタイルになっています。\n",
    "\n",
    "point1 の名前空間の状態を確認しておきましょう。`__init__`, `__str__` 以外は，`__` で囲まれた名前は無視してください。\n"
   ]
  },
  {
   "cell_type": "code",
   "execution_count": null,
   "metadata": {},
   "outputs": [],
   "source": [
    "display(dir(point1))"
   ]
  },
  {
   "cell_type": "markdown",
   "metadata": {},
   "source": [
    "オブジェクトは名前空間をもっており，そこにはインスタンス変数とメソッドを持っているのでした。それに加えて，それぞれのクラスも名前空間を持っています。"
   ]
  },
  {
   "cell_type": "markdown",
   "metadata": {},
   "source": []
  },
  {
   "cell_type": "code",
   "execution_count": null,
   "metadata": {},
   "outputs": [],
   "source": [
    "type(1)"
   ]
  },
  {
   "cell_type": "code",
   "execution_count": null,
   "metadata": {},
   "outputs": [],
   "source": [
    "type(int)"
   ]
  },
  {
   "cell_type": "markdown",
   "metadata": {},
   "source": [
    "type(1)"
   ]
  },
  {
   "cell_type": "code",
   "execution_count": null,
   "metadata": {},
   "outputs": [],
   "source": [
    "print(dir(Point))"
   ]
  },
  {
   "cell_type": "markdown",
   "metadata": {},
   "source": [
    "このように，あるクラスで定義されたメソッドは，そのクラスの名前空間にも登録されています。これは，第一引数にオブジェクトを渡して，通常の関数として呼び出すことができます。"
   ]
  },
  {
   "cell_type": "code",
   "execution_count": null,
   "metadata": {},
   "outputs": [],
   "source": [
    "Point.move(point1, 50)\n",
    "print(point1)"
   ]
  },
  {
   "cell_type": "code",
   "execution_count": null,
   "metadata": {},
   "outputs": [],
   "source": [
    "a = [1,2,3]\n",
    "# a.append(4)\n",
    "list.append(a,4)\n",
    "print(a)"
   ]
  },
  {
   "cell_type": "markdown",
   "metadata": {},
   "source": [
    "ややこしいですが，クラスも type という型に属するオブジェクトでした。よって，変数をもつことができます。クラスの持つ変数は，クラス変数とよばれ，あるクラスに属するオブジェクトが共有するデータを保持する目的に使われます。クラス変数へのアクセスの形は，\n",
    "```\n",
    "クラス名.変数名\n",
    "```\n",
    "となります。 クラス定義も普通のプログラムと同じだと話しましたが，クラス定義が実行される時には，\n",
    "この名前空間でクラス定義の中身が実行されます。よって，そこで\"名前空間.変数名\" ではなく，変数名だけを用いた変数へ\n",
    "の代入があると，新しいクラス変数が作られます。"
   ]
  },
  {
   "cell_type": "code",
   "execution_count": null,
   "metadata": {},
   "outputs": [],
   "source": [
    "class Point:\n",
    "    count = 0\n",
    "    ''' Point class'''\n",
    "    def __init__(self, xx):\n",
    "        Point.count += 1\n",
    "        self.x = xx\n",
    "    def __str__(self):\n",
    "        return f\"Point at ({self.x})\"\n",
    "    def move(self,dist):\n",
    "        self.x += dist\n",
    "    def moveshow(self, dist):\n",
    "        self.move(dist);\n",
    "        print(self);        \n",
    "        \n",
    "point1 = Point(20)\n",
    "point2 = Point(0)\n",
    "print(Point.count)"
   ]
  },
  {
   "cell_type": "code",
   "execution_count": null,
   "metadata": {},
   "outputs": [],
   "source": [
    "display(dir(point1))"
   ]
  },
  {
   "cell_type": "markdown",
   "metadata": {},
   "source": [
    "クラス変数は，インスタンスの名前空間からも見ることができます。しかし，それに代入を行うと，インスタンスの名前空間にその変数ができてしまいます。これは，関数定義の中からグローバル変数を使う時と同じです。間違いを防ぐために，クラス変数は，常にクラス名からアクセスするようにすることをおすすめします。"
   ]
  },
  {
   "cell_type": "code",
   "execution_count": null,
   "metadata": {},
   "outputs": [],
   "source": [
    "print(point1.count)"
   ]
  },
  {
   "cell_type": "code",
   "execution_count": null,
   "metadata": {},
   "outputs": [],
   "source": [
    "point1.count = 10"
   ]
  },
  {
   "cell_type": "code",
   "execution_count": null,
   "metadata": {},
   "outputs": [],
   "source": [
    "print(Point.count)"
   ]
  },
  {
   "cell_type": "code",
   "execution_count": null,
   "metadata": {},
   "outputs": [],
   "source": [
    "print(point1.count)"
   ]
  },
  {
   "cell_type": "code",
   "execution_count": null,
   "metadata": {},
   "outputs": [],
   "source": [
    "Point.count"
   ]
  },
  {
   "cell_type": "markdown",
   "metadata": {},
   "source": [
    "## 継承\n",
    "\n",
    "クラスは，すでに存在するクラスを継承して作ることができます。そうすることにより，そこに定義されているインスタンス変数，メソッド定義に，定義を追加（あるいは上書き）する形でクラスを定義することになります。\n",
    "あるクラスを継承したクラスを定義するには，クラス名の後に継承するクラス名を括弧の中に与えます。\n",
    "\n",
    "ここでは，(x, y) という2次元の位置をもつ Point2D クラスを作ることにします。"
   ]
  },
  {
   "cell_type": "code",
   "execution_count": null,
   "metadata": {},
   "outputs": [],
   "source": [
    "class Point2D(Point):\n",
    "    ''' 2D Point class'''\n",
    "    def __init__(self, xx, yy):\n",
    "        Point.__init__(self,xx)\n",
    "        self.y = yy\n",
    "    def move(self,xx):\n",
    "        self.y += xx\n",
    "        self.x += xx\n",
    "    def __str__(self):\n",
    "        return f\"Point at ({self.x}, {self.y})\"\n",
    "        \n",
    "point2 = Point2D(20,20)\n",
    "point1 = Point(0)\n",
    "point2.move(30)\n",
    "point1.move(30)\n",
    "print(point1, point2)\n",
    "print(\"Dynamic Dispatch1\")\n",
    "for p in [point1, point2]:\n",
    "    p.move(30)\n",
    "    print(p)\n",
    "print(\"Dynamic Dispatch2\")\n",
    "for p in [point1, point2]:\n",
    "    p.moveshow(100)\n"
   ]
  },
  {
   "cell_type": "code",
   "execution_count": null,
   "metadata": {},
   "outputs": [],
   "source": [
    "print(dir(point1))"
   ]
  },
  {
   "cell_type": "markdown",
   "metadata": {},
   "source": [
    "継承したクラスでは，元のクラスで定義されたメソッドも使えますし (moeshow) 書き換えたものも使えます(move)。また，`__init__` で行っているように上書きして定義しながらも，クラス名.メソッド名で，self も与える関数の呼び出しの形で，上書きされた元のメソッドも呼び出すことができます。\n",
    "\n",
    "Dynamic Dispatch1 の所で，point1, point2 はそれぞれ Point2D, Point であることに注意してください。\n",
    "両方とも move, moveshow を持っている (move は別のメソッドだが)ので，このようなプログラムが書けます。同じ move メソッドの呼び出しで，point1 と point2 の時で別のメソッドが呼び出されていることに注意して下さい。このように，メソッド名とその意味するオブジェクトとの対応関係が，実行時に決まることど，動的ディスパッチ(dynamic dispatch) と言ったりします。\n",
    "\n",
    "\n",
    "最後の，Dynamic Dispatch2 の所では，point1, point2 に Point で定義された moveshow を適用しています。moveshow は move と print を呼び出していますが，ここでも，point2 に対する moveshow の呼び出しでは，Point2D の move が呼び出されていることに注意して下さい。これも，self をもとに，self の名前空間に登録された move が呼び出されているからです。"
   ]
  },
  {
   "cell_type": "markdown",
   "metadata": {},
   "source": [
    "## 辞書型の自分での作成\n",
    "\n",
    "辞書型 dict は，ハッシュ・テーブルと呼ばれる技法を用いて作られています。\n",
    "自分で文字列をキーとするハッシュテーブルのクラス MyDict を作りましょう。\n",
    "次のようなメソッドを持つクラスにしましょう。\n",
    "```\n",
    "add(key, value) : 要素を追加\n",
    "lookup(key) : 要素の検索\n",
    "del(key) : 要素の削除\n",
    "```\n",
    "ハッシュテーブルは，格納する要素の個数とだいたい同じくらいか少し小さめの大きさの配列を用意します。\n",
    "そして，key に対して，適当な関数（ハッシュ関数）をかけて，その配列お大きさの範囲の値（ハッシュ値）を作ります。そして，要素を格納する時には，配列の，その値の場所に格納します。ただし，異なる文字列でも，ハッシュ値が同じになる時があります。その時には，一つの配列の番地に複数の値を格納するために，リストにして記憶することにします。\n",
    "\n"
   ]
  },
  {
   "cell_type": "code",
   "execution_count": null,
   "metadata": {},
   "outputs": [],
   "source": [
    "class MyDict():\n",
    "    ''' 辞書の簡単な実装\n",
    "作成：MyDict(n)：およそ，n 個の要素を格納する辞書の作成　\n",
    "メソッド：\n",
    "add(key, value) : 要素を追加。 key は文字列\n",
    "del(key) : 要素の削除\n",
    "lookup(key) : 要素の検索, 存在しない時には None を返す    \n",
    "    '''\n",
    "    def __init__(self, n):\n",
    "        self.size = n\n",
    "        self.data = [0]*n\n",
    "    def hashmap(self,key):\n",
    "        hash = 0\n",
    "        P = 6700417   # 適当な素数\n",
    "        for c in key:\n",
    "            hash = (hash * P + ord(c))% self.size\n",
    "        return hash\n",
    "    def add(self,key, value):\n",
    "        hv = self.hashmap(key)\n",
    "        list = self.data[hv]\n",
    "        if(list == 0):\n",
    "            self.data[hv] = [(key,value)]\n",
    "        else: \n",
    "            list.append((key, value))\n",
    "    def lookup(self, key):\n",
    "        hv = self.hashmap(key)\n",
    "        list = self.data[hv]\n",
    "        if (list == 0):\n",
    "             return None\n",
    "        for (k,v) in list:\n",
    "            if(k == key):\n",
    "                return v\n",
    "        return None\n",
    "\n",
    "\n",
    "\n",
    "m = MyDict(10)\n",
    "m.add(\"hello\", \"hi\")\n",
    "print(m.lookup(\"hello\"))\n",
    "print(m.lookup(\"bye\"))\n",
    "\n"
   ]
  },
  {
   "cell_type": "code",
   "execution_count": null,
   "metadata": {},
   "outputs": [],
   "source": [
    "# 時間を測るには，%time と書いてもいいが，途中までの時間も計測したいので，time.time() を用いる\n",
    "import time\n",
    "start = time.time()\n",
    "d = MyDict(10000)\n",
    "for i in range(100000):\n",
    "    d.add(str(i), i*i)\n",
    "print(time.time() - start)\n",
    "cnt = 0\n",
    "\n",
    "for i in range(100000):\n",
    "    if(d.lookup(str(i)) == i * i):\n",
    "        cnt += 1\n",
    "print(cnt)\n",
    "print(time.time() - start)"
   ]
  },
  {
   "cell_type": "code",
   "execution_count": null,
   "metadata": {},
   "outputs": [],
   "source": [
    "import time\n",
    "start = time.time()\n",
    "d = MyDict(1) # 配列を1にすると，基本的に，リストに格納したものを，最初から順に探索することになるはず。\n",
    "for i in range(100000):\n",
    "    d.add(str(i), i*i)\n",
    "print(time.time() - start)\n",
    "cnt = 0\n",
    "\n",
    "for i in range(100000):\n",
    "    if(d.lookup(str(i)) == i * i):\n",
    "        cnt += 1\n",
    "print(cnt)\n",
    "print(time.time() - start)"
   ]
  },
  {
   "cell_type": "markdown",
   "metadata": {},
   "source": [
    "# Matplotlib のオブジェクトを意識した使い方\n",
    "\n",
    "https://qiita.com/skotaro/items/08dc0b8c5704c94eafb9\n",
    "\n",
    "これまでは，Matplotlib を，非常に簡易な方法で使ってきました。\n",
    "Matplotlib で描かれるグラフは，様々な構成要素があり，それは，オブジェクト指向的に構成されています。\n",
    "Matplotlib の使い方として，それを意識した書き方があり，その方が細かい図の設定などが可能になります。\n",
    "\n",
    "まず，Matplotlib には，全体図に相当する Figure オブジェクトがあり，plt モジュールの figure 関数を呼び出すことにより作られます。また，座標軸を備えた一つづつのグラフは，Axes とよばれます。Axes は，Figure に add_subplot メソッドを呼び出すことにより作られます。引数は，通常 （1つしかグラフを描かない時）は，1,1,1 を与えます。\n",
    "\n",
    "Axes に plot を呼び出すことにより，そのグラフにplot が行われます。\n",
    "そして，fig の値を表示しようとしたり，セルの最後まで到達すると，画面に図が表示されます。"
   ]
  },
  {
   "cell_type": "code",
   "execution_count": null,
   "metadata": {},
   "outputs": [],
   "source": [
    "%matplotlib inline\n",
    "import matplotlib.pyplot as plt\n",
    "import numpy as np\n",
    "\n",
    "x = np.linspace(0, np.pi*4, 1000)\n",
    "y = np.sin(x)\n",
    "\n",
    "fig = plt.figure()\n",
    "ax = fig.add_subplot(2,1,1)\n",
    "axx = fig.add_subplot(2,1,2)\n",
    "axx.plot(x, y*y)\n",
    "ax.plot(x, y)\n"
   ]
  },
  {
   "cell_type": "code",
   "execution_count": null,
   "metadata": {},
   "outputs": [],
   "source": [
    "%matplotlib inline\n",
    "import matplotlib.pyplot as plt\n",
    "import numpy as np\n",
    "\n",
    "x = np.linspace(0, np.pi*4, 1000)\n",
    "y = np.sin(x)\n",
    "\n",
    "fig = plt.figure()\n",
    "ax = fig.add_subplot(2,2,1)\n",
    "axx = fig.add_subplot(2,2,2)\n",
    "axx.plot(x, y*y)\n",
    "ax.plot(x, y)"
   ]
  },
  {
   "cell_type": "code",
   "execution_count": null,
   "metadata": {},
   "outputs": [],
   "source": [
    "fig"
   ]
  },
  {
   "cell_type": "markdown",
   "metadata": {},
   "source": [
    "Axes に描画されているものは，lines というインスタンス変数にリストとして格納されています。\n",
    "\n"
   ]
  },
  {
   "cell_type": "markdown",
   "metadata": {},
   "source": [
    "Jupyter Notebook を使えば，次のようにして，animation を作成し，表示することができます。ここで，plotは，そこで描画された Line のリストを返します。"
   ]
  },
  {
   "cell_type": "code",
   "execution_count": null,
   "metadata": {},
   "outputs": [],
   "source": [
    "\n",
    "#%matplotlib nbagg\n",
    "%matplotlib inline\n",
    "#%matplotlib notebook\n",
    "import numpy as np\n",
    "import matplotlib.pyplot as plt\n",
    "import matplotlib.animation as animation\n",
    "\n",
    "fig = plt.figure()\n",
    "ax = fig.add_subplot(1,1,1)\n",
    "\n",
    "# 画像を格納するリスト\n",
    "ims = []\n",
    "\n",
    "x = np.linspace(0, np.pi*4, 100)\n",
    "for i in range(60):    \n",
    "    y = np.sin(x + 2*np.pi*i/60)\n",
    "    im = ax.plot(x, y, c=\"black\")\n",
    "    ims.append(im)\n",
    "#100 ms ごとに画像を表示\n",
    "ani = animation.ArtistAnimation(fig, ims, interval=100)\n",
    "HTML(ani.to_html5_video())\n",
    "\n",
    "#plt.show()"
   ]
  },
  {
   "cell_type": "markdown",
   "metadata": {},
   "source": [
    "次のようにして line を返す関数を与えてもできます。(これは，ChatGPT が作成したプログラムです)"
   ]
  },
  {
   "cell_type": "code",
   "execution_count": null,
   "metadata": {},
   "outputs": [],
   "source": [
    "%matplotlib inline\n",
    "import numpy as np\n",
    "import matplotlib.pyplot as plt\n",
    "from matplotlib.animation import FuncAnimation\n",
    "from IPython.display import HTML\n",
    "\n",
    "# アニメーションを定義する関数\n",
    "def animate(i):\n",
    "    line.set_ydata(np.sin(x + i / 50))  # 更新されるラインのデータ\n",
    "    return line,\n",
    "\n",
    "# プロットの初期設定\n",
    "fig, ax = plt.subplots()\n",
    "x = np.linspace(0, 2*np.pi, 100)\n",
    "line, = ax.plot(x, np.sin(x))\n",
    "\n",
    "# アニメーションオブジェクトの作成\n",
    "ani = FuncAnimation(fig, animate, frames=100, interval=20, blit=True)\n",
    "\n",
    "# ノートブックでの表示\n",
    "HTML(ani.to_html5_video())\n"
   ]
  },
  {
   "cell_type": "markdown",
   "metadata": {},
   "source": [
    "**練習問題1** 先週の 練習問題 20 を，$a\\sin(x-b)$ という関数に対してグラフを書けるように，クラスを用いて書き直してみよう。TaylorSin というクラスを作り，\n",
    "\n",
    "そこには，a, b をインスタンス変数とし，\n",
    "sin 関数を  fun という名前で，sin 関数の 0 における i 回目の微分係数を返す関数を d0(i) という名前で定義し，グラフ描画の範囲 ``[-10, 10, -2*self.a, 2*self.a]`` を area というインスタンス変数名で与え，それを用いて n 番目の関数を返す taylor(n, x)，および，n 番目のグラフを描画するメソッド graph(n) を定義しよう。a, b の値は，コンストラクタの引数で与えることにしよう。\n",
    "\n",
    "TaylorSin オブジェクトを作成し，それに，taylorgraph(10)を呼び出そう。"
   ]
  },
  {
   "cell_type": "markdown",
   "metadata": {},
   "source": [
    "**練習問題2** TaylorSin を Taylor クラスと，そのサブクラス Sin に分けよう。Taylor クラスには，taylor, graphを置き，Sin には，それ以外を置こう。\n",
    "同様に，log(x+1), 1/(x+1), e^x に対するクラス，Log, Inv, Exp を Taylor クラスのサブクラスとして定義しよう。\n"
   ]
  },
  {
   "cell_type": "markdown",
   "metadata": {},
   "source": [
    "**練習問題** これを用いて，b を動かした時に，Sin のテイラー展開がどう変化していくかを動画として描画してみよう。"
   ]
  },
  {
   "cell_type": "markdown",
   "metadata": {},
   "source": [
    "２引数の関数の 3 次元の描画は，次のように，meshgrid を作り，plot_surface でもって行います。これも，%matplotlib inline  の代わりに %matplotlib tk とすれば，グラフを回転させながら見ることができます。"
   ]
  },
  {
   "cell_type": "code",
   "execution_count": null,
   "metadata": {
    "scrolled": true
   },
   "outputs": [],
   "source": [
    "#%matplotlib inline\n",
    "%matplotlib tk\n",
    "import numpy as np\n",
    "import matplotlib.pyplot as plt\n",
    "from mpl_toolkits.mplot3d import Axes3D\n",
    "\n",
    "def TDfigure():\n",
    "    fig = plt.figure()\n",
    "    ax = fig.add_subplot(1,1,1, projection='3d')\n",
    "  \n",
    "    x=np.linspace(-1, 1, 100)\n",
    "    y=np.linspace(-1, 1, 100)\n",
    "    X, Y = np.meshgrid(x, y)\n",
    "    Z = X*X + Y*Y\n",
    "    ax.plot_surface(X, Y, Z)\n",
    "    plt.show()\n",
    "    \n",
    "    \n",
    "TDfigure()\n"
   ]
  },
  {
   "cell_type": "code",
   "execution_count": null,
   "metadata": {},
   "outputs": [],
   "source": []
  }
 ],
 "metadata": {
  "kernelspec": {
   "display_name": "Python 3",
   "language": "python",
   "name": "python3"
  },
  "language_info": {
   "codemirror_mode": {
    "name": "ipython",
    "version": 3
   },
   "file_extension": ".py",
   "mimetype": "text/x-python",
   "name": "python",
   "nbconvert_exporter": "python",
   "pygments_lexer": "ipython3",
   "version": "3.11.2"
  }
 },
 "nbformat": 4,
 "nbformat_minor": 4
}
