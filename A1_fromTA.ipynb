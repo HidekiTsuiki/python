{
 "cells": [
  {
   "cell_type": "markdown",
   "metadata": {},
   "source": [
    "# 第１回TAからの練習問題 （解答例）\n",
    "テーマ：**実数の同値判定の方法と工夫の必要性について考える。**"
   ]
  },
  {
   "cell_type": "markdown",
   "metadata": {},
   "source": [
    "### 問題１\n",
    "以下のプログラムを実行し、表示結果を確認しよう。"
   ]
  },
  {
   "cell_type": "code",
   "execution_count": 1,
   "metadata": {},
   "outputs": [
    {
     "name": "stdout",
     "output_type": "stream",
     "text": [
      "True\n",
      "True\n",
      "False\n",
      "True\n",
      "True\n",
      "True\n",
      "True\n",
      "False\n",
      "False\n",
      "False\n"
     ]
    }
   ],
   "source": [
    "print(0.1 == 0.1)\n",
    "print(0.1 + 0.1 == 0.2)\n",
    "print(0.1 + 0.1 + 0.1 == 0.3)\n",
    "print(0.1 + 0.1 + 0.1 +0.1 == 0.4)\n",
    "print(0.1 + 0.1 + 0.1 +0.1 + 0.1 == 0.5)\n",
    "print(0.1 + 0.1 + 0.1 +0.1 + 0.1 + 0.1 == 0.6)\n",
    "print(0.1 + 0.1 + 0.1 +0.1 + 0.1 + 0.1 +0.1 == 0.7)\n",
    "print(0.1 + 0.1 + 0.1 +0.1 + 0.1 + 0.1 +0.1 + 0.1 == 0.8)\n",
    "print(0.1 + 0.1 + 0.1 +0.1 + 0.1 + 0.1 +0.1 + 0.1 + 0.1 == 0.9)\n",
    "print(0.1 + 0.1 + 0.1 +0.1 + 0.1 + 0.1 +0.1 + 0.1 + 0.1 + 0.1 == 1)"
   ]
  },
  {
   "cell_type": "code",
   "execution_count": 3,
   "metadata": {},
   "outputs": [
    {
     "name": "stdout",
     "output_type": "stream",
     "text": [
      "True\n",
      "True\n",
      "False\n",
      "True\n",
      "True\n",
      "False\n",
      "False\n",
      "True\n",
      "True\n",
      "True\n"
     ]
    }
   ],
   "source": [
    "print(0.1 == 0.1)\n",
    "print(0.1 * 2 == 0.2)\n",
    "print(0.1 * 3 == 0.3)\n",
    "print(0.1 * 4 == 0.4)\n",
    "print(0.1 * 5 == 0.5)\n",
    "print(0.1 * 6 == 0.6)\n",
    "print(0.1 * 7 == 0.7)\n",
    "print(0.1 * 8 == 0.8)\n",
    "print(0.1 * 9 == 0.9)\n",
    "print(0.1 * 10 == 1)"
   ]
  },
  {
   "cell_type": "markdown",
   "metadata": {},
   "source": [
    "### 問題２\n",
    "なぜ、True以外の出力がなされるのか？原因を予想してみよう。"
   ]
  },
  {
   "cell_type": "markdown",
   "metadata": {},
   "source": [
    "(解答例)  \n",
    "0.1は10進法では有限小数だが、2進法では無限小数となるため、有限桁の計算しか行えないコンピュータ上での計算では途中で近似が入ってしまうから。"
   ]
  },
  {
   "cell_type": "markdown",
   "metadata": {},
   "source": [
    "### 問題３\n",
    "これを踏まえて(実用的な意味で)2つの実数x,yが等しいかどうかを判定する関数equal(x,y)を作ろう。"
   ]
  },
  {
   "cell_type": "code",
   "execution_count": 1,
   "metadata": {},
   "outputs": [],
   "source": [
    "#解答例\n",
    "def equal(x,y):\n",
    "    if(abs(x-y)<10**-12):\n",
    "        return True\n",
    "    else:\n",
    "        return False"
   ]
  },
  {
   "cell_type": "code",
   "execution_count": 2,
   "metadata": {},
   "outputs": [
    {
     "data": {
      "text/plain": [
       "True"
      ]
     },
     "execution_count": 2,
     "metadata": {},
     "output_type": "execute_result"
    }
   ],
   "source": [
    "equal(0.1 + 0.1 + 0.1 , 0.3)"
   ]
  },
  {
   "cell_type": "markdown",
   "metadata": {},
   "source": [
    "必要に応じて、equalの定義を変える必要がある。\n",
    "例えばxとyがともに非常に小さい値の時は、xとyの比率を見るなどのことが必要になるだろう。"
   ]
  }
 ],
 "metadata": {
  "kernelspec": {
   "display_name": "Python 3",
   "language": "python",
   "name": "python3"
  },
  "language_info": {
   "codemirror_mode": {
    "name": "ipython",
    "version": 3
   },
   "file_extension": ".py",
   "mimetype": "text/x-python",
   "name": "python",
   "nbconvert_exporter": "python",
   "pygments_lexer": "ipython3",
   "version": "3.8.5"
  }
 },
 "nbformat": 4,
 "nbformat_minor": 4
}
