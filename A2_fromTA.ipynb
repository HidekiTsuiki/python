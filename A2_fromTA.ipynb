{
 "cells": [
  {
   "cell_type": "markdown",
   "metadata": {},
   "source": [
    "# 第２回TAからの練習問題  （解答例）\n",
    "テーマ１. **数学力とプログラミング力をうまく組み合わせて、知りたい値を計算によって求める。**  \n",
    "テーマ２. **Pythonの計算速度の目安を知る。**"
   ]
  },
  {
   "cell_type": "markdown",
   "metadata": {},
   "source": [
    "### 問題１  \n",
    "数列 $a_{n} = 2^{n}$について考える。  $a_{1},a_{2},a_{3},\\ldots,a_{2022}$の2022個の数のうち、最高位の数字が４であるものの個数が知りたい。  \n",
    "$a_{1},a_{2},a_{3},\\ldots,a_{k}$までの$k$個の数のうち、最高位の数字が4であるものの個数を返す関数number_of_top4($k$)を作り、number_of_top4(2022)を計算してみよう。  \n",
    "方法はたくさん考えられるので、そのうち1つ以上の方法でプログラムを書いてみよう。  \n",
    "以下の(参考)を参考にしてもよい。"
   ]
  },
  {
   "cell_type": "code",
   "execution_count": 1,
   "metadata": {},
   "outputs": [],
   "source": [
    "#解答例1\n",
    "#実際に計算→型を文字列に変えて１文字目の文字を確認する。\n",
    "def number_of_top4_v1(k):\n",
    "    count = 0\n",
    "    for i in range(1,k+1):\n",
    "        x = 2**i\n",
    "        x = str(x)\n",
    "        if(x[0]=='4'):\n",
    "            count += 1\n",
    "    return count"
   ]
  },
  {
   "cell_type": "code",
   "execution_count": 2,
   "metadata": {},
   "outputs": [
    {
     "data": {
      "text/plain": [
       "197"
      ]
     },
     "execution_count": 2,
     "metadata": {},
     "output_type": "execute_result"
    }
   ],
   "source": [
    "number_of_top4_v1(2022)"
   ]
  },
  {
   "cell_type": "code",
   "execution_count": 3,
   "metadata": {},
   "outputs": [],
   "source": [
    "#解答例2\n",
    "#対数になおして調べる\n",
    "import math\n",
    "def number_of_top4_v2(k):\n",
    "    count=0\n",
    "    for i in range(1,k+1):\n",
    "        x = i * math.log10(2)\n",
    "        x = x - int(x)\n",
    "        if(math.log10(4)-10**(-13) < x < math.log10(5)-10**(-13)):\n",
    "            count += 1\n",
    "    return count"
   ]
  },
  {
   "cell_type": "code",
   "execution_count": 4,
   "metadata": {},
   "outputs": [
    {
     "data": {
      "text/plain": [
       "197"
      ]
     },
     "execution_count": 4,
     "metadata": {},
     "output_type": "execute_result"
    }
   ],
   "source": [
    "number_of_top4_v2(2022)"
   ]
  },
  {
   "cell_type": "code",
   "execution_count": 5,
   "metadata": {},
   "outputs": [],
   "source": [
    "#解答例3\n",
    "#実際に計算→1桁の数になるまで10で割っていく。\n",
    "def number_of_top4_v3(k):\n",
    "    count = 0\n",
    "    for i in range(1,k+1):\n",
    "        x=1\n",
    "        for _ in range(i):\n",
    "            x = x * 2\n",
    "            while(x>10):\n",
    "                x=x / 10\n",
    "        x = int(x)\n",
    "        if(x==4):\n",
    "            count +=1\n",
    "    return count"
   ]
  },
  {
   "cell_type": "code",
   "execution_count": 6,
   "metadata": {},
   "outputs": [
    {
     "data": {
      "text/plain": [
       "197"
      ]
     },
     "execution_count": 6,
     "metadata": {},
     "output_type": "execute_result"
    }
   ],
   "source": [
    "number_of_top4_v3(2022)"
   ]
  },
  {
   "cell_type": "markdown",
   "metadata": {},
   "source": [
    "### 問題２（応用）\n",
    "$a_{1},a_{2},a_{3},\\ldots,a_{10^{12}}(=a_{1000000000000})$までの$10^{12}$（1兆）個の数のうち、最高位の数字が4であるものの個数を求めよう。  兆\n",
    "ただし、計算に用いた値の有効数字は気にしなくてよい。(float型の有効数字は15桁ほどで12～13桁なら正確に表示できている。)  \n",
    "さて、先ほど作ったnumber_of_top4(10**12)で求められるだろうか？"
   ]
  },
  {
   "cell_type": "markdown",
   "metadata": {},
   "source": [
    "数学力や発想力などを駆使して、問題2の解答が求められるように関数number_of_top4を改良しよう。  \n",
    "$a_{1},a_{2},a_{3},\\ldots,a_{10^{12}}(=a_{1000000000000})$までの$10^{12}$個の数のうち、最高位の数字が4であるものの個数を求めよう。  "
   ]
  },
  {
   "cell_type": "code",
   "execution_count": 11,
   "metadata": {},
   "outputs": [],
   "source": [
    "def top(k):\n",
    "    if (k==1):\n",
    "        return 2\n",
    "    elif (k==2):\n",
    "        return 4\n",
    "    elif (k==3):\n",
    "        return 8\n",
    "    elif (k*math.log10(2) - int(k*math.log10(2)) < math.log10(2) ):\n",
    "        return 1\n",
    "    elif (k*math.log10(2) - int(k*math.log10(2)) < math.log10(4) ):\n",
    "         return 2\n",
    "    elif (k*math.log10(2) - int(k*math.log10(2)) < math.log10(5) ):\n",
    "         return 4\n",
    "    elif (k*math.log10(2) - int(k*math.log10(2)) < math.log10(8) ):\n",
    "         return 5\n",
    "    else:\n",
    "         return 8"
   ]
  },
  {
   "cell_type": "code",
   "execution_count": 12,
   "metadata": {},
   "outputs": [],
   "source": [
    "def number_of_top4_fast(k):\n",
    "    a=0\n",
    "    if(top(k)==2):\n",
    "        a=1\n",
    "    elif(top(k)==4):\n",
    "        a=2\n",
    "    elif(top(k)==5):\n",
    "        a=2\n",
    "    elif(top(k)==8):\n",
    "        a=3\n",
    "    \n",
    "    answer = k - a - 3*int(k*math.log10(2))\n",
    "    if( (top(k)==4) | (top(k)==8) ):\n",
    "        answer +=1\n",
    "    return answer"
   ]
  },
  {
   "cell_type": "code",
   "execution_count": 13,
   "metadata": {},
   "outputs": [
    {
     "name": "stdout",
     "output_type": "stream",
     "text": [
      "96910013009\n"
     ]
    }
   ],
   "source": [
    "print(number_of_top4_fast(10**12))"
   ]
  },
  {
   "cell_type": "markdown",
   "metadata": {},
   "source": [
    "問題1の答え　197個  \n",
    "問題2の答え　96910013009個（969億1001万3009個）"
   ]
  },
  {
   "cell_type": "markdown",
   "metadata": {},
   "source": [
    "念のため、number_of_top4_v2(k)とnumber_of_top4_fast(k)の出力に違いがないことを確認しておこう。"
   ]
  },
  {
   "cell_type": "code",
   "execution_count": 15,
   "metadata": {},
   "outputs": [
    {
     "name": "stdout",
     "output_type": "stream",
     "text": [
      "実行終了\n"
     ]
    }
   ],
   "source": [
    "for i in range(10**4):\n",
    "    if(number_of_top4_v2(i) != number_of_top4_fast(i)):\n",
    "        print(i)\n",
    "print(\"実行終了\")"
   ]
  },
  {
   "cell_type": "markdown",
   "metadata": {},
   "source": [
    "以下、number_of_top4_fastの計算の方法の説明を簡単に行う。  \n",
    "ここでは、$a_{1},a_{2},a_{3},\\ldots,a_{2022}$の2022個の数のうち、最高位の数字が4であるものの個数を求める。\n",
    "これを一般化することで、number_of_top4_fastになる。\n",
    "\n",
    "まず、$2^{2022}$の最高位の数と桁数を求める。$\\log_{10}2^{2022}=2022×\\log_{10}2=608.68\\cdots$であり、$\\log_{10}4=0.602,\\log_{10}5=0.699$であることをふまえると、桁数は609で最高位の数は4であるとわかる。下の図を参考にすると、$2^{2020}$は桁数が609で最高位の数は1であるとわかる。\n",
    "最高位の数が4を経由して1桁上がる回数をa,最高位の数が4を経由せずに1桁上がる回数をbとおく。\n",
    "桁数を考えると、$a_{2020}$までで608回桁が上がるので$a+b=608\\cdots…$①が成立する。\n",
    "2をかけた回数を考えると$4a+3b=2020\\cdots$②が成立する。\n",
    "①、②より連立方程式を解いて$a=196,b=412$となる。よって、$a_{2020}$までで最高位が4の数は196個、それに$a_{2022}$の分を足して求める個数は197個とわかる。$a_{1兆}$の時も同様に計算すればよい。"
   ]
  },
  {
   "cell_type": "markdown",
   "metadata": {},
   "source": [
    "![最高位の遷移の様子](A2figure.png)"
   ]
  },
  {
   "cell_type": "code",
   "execution_count": 8,
   "metadata": {},
   "outputs": [
    {
     "data": {
      "text/plain": [
       "608.68265123257"
      ]
     },
     "execution_count": 8,
     "metadata": {},
     "output_type": "execute_result"
    }
   ],
   "source": [
    "2022*math.log10(2)"
   ]
  }
 ],
 "metadata": {
  "kernelspec": {
   "display_name": "Python 3",
   "language": "python",
   "name": "python3"
  },
  "language_info": {
   "codemirror_mode": {
    "name": "ipython",
    "version": 3
   },
   "file_extension": ".py",
   "mimetype": "text/x-python",
   "name": "python",
   "nbconvert_exporter": "python",
   "pygments_lexer": "ipython3",
   "version": "3.8.5"
  }
 },
 "nbformat": 4,
 "nbformat_minor": 4
}
