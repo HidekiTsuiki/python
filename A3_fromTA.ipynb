{
 "cells": [
  {
   "cell_type": "markdown",
   "metadata": {},
   "source": [
    "# 第３回TAからの練習問題（解答例）\n",
    "テーマ１. **数学力とプログラミング力をうまく組み合わせて、知りたい値を計算によって求める。**  \n",
    "テーマ２. **シミュレーションを行い、シミュレーションから何かがわかる！という体験をする。**"
   ]
  },
  {
   "cell_type": "markdown",
   "metadata": {},
   "source": [
    "##### サイコロをN回振った時、「事象：その中で同じ目が連続して3回以上出る」が起きる確率p(N)について考える。\n",
    "\n",
    "サイコロを何回振った時に、この事象が起きる確率が$\\frac{1}{2}$になるのかを求めたい。（p(N)≒$\\frac{1}{2}$となるNの値を求めたい。）  \n",
    "これを次の方法１．方法２．によって求める。\n",
    "可能ならば2つの方法で求めて、結果を比較しよう。  \n",
    "難しい場合はどちらか一方の方法を選んで求めてみよう。"
   ]
  },
  {
   "cell_type": "markdown",
   "metadata": {},
   "source": [
    "### 方法１　厳密にp(N)を求める。\n",
    "\n",
    "全部の場合が$6^{n}$通りで、そのうち条件を満たしている場合が……としていく方法では大変なことになってしまう。  \n",
    "ここでは、漸化式を活用して求めよう。まず、漸化式を作るステップだが、p(N)とp(N+1)との関係式は単純には作れないように思う。事象がまだ生じていない場合に対して「現在どのような状態なのか？」についての場合分けをすることにより連立漸化式を作ることができる。  \n",
    "次に、漸化式を解くステップに入る。これは一般項が求められるタイプの漸化式なので一般項を求めても構わない。\n",
    "ただ、Pythonでのプログラムという観点では一般項を求める必要はない。漸化式をもとにfor文などを使い、実際にp(N)を順に計算していくことができる。"
   ]
  },
  {
   "cell_type": "markdown",
   "metadata": {},
   "source": [
    "### (解答例)\n",
    "サイコロをn回振った段階で、\n",
    "事象がまだ発生していないかつ直近2回の出目が異なる確率を$a_{n}$,\n",
    "事象がまだ発生していないかつ直近2回の出目が等しい確率を$b_{n}$,\n",
    "事象が既に発生している確率を$c_{n}$とおく。\n",
    "すると、(1)～(4)の関係式が成立する。  \n",
    "$a_{n+1}=\\frac{5}{6}a_{n}+\\frac{5}{6}b_{n}\\cdots(1)$  \n",
    "$b_{n+1}=\\frac{1}{6}a_{n}\\cdots(2)$  \n",
    "$c_{n+1}=c_{n}+\\frac{1}{6}b_{n}\\cdots(3)$  \n",
    "$a_{n}+b_{n}+c_{n}=1\\cdots(4)$  \n",
    "このうちの3つと初期条件$(a_{1}=1,b_{1}=0,c_{1}=0)$を用いると、漸化式をもとに順次計算していくことができる。  \n",
    "\n",
    "ちなみに漸化式を解いて一般項を求めると以下のようになるので、これを用いて$c_{n}$を計算する事も可能である。　　\n",
    "$$c_{n}=1 -\\left(\\frac{\\sqrt{5}+3}{5}\\right)\\times\\left(\\frac{5+3\\sqrt{5}}{12}\\right)^{n} + \\left(\\frac{\\sqrt{5}-3}{5}\\right)\\times\\left(\\frac{5-3\\sqrt{5}}{12}\\right)^{n}$$ \n"
   ]
  },
  {
   "cell_type": "code",
   "execution_count": 6,
   "metadata": {},
   "outputs": [],
   "source": [
    "#方法１の解答例\n",
    "def p1(N):\n",
    "    an,bn,cn = 1,0,0\n",
    "    for _ in range(N-1):\n",
    "        an, bn, cn = 5*an/6 + 5*bn/6, an/6, cn + bn/6\n",
    "        #an:これまでで事象が起きてないかつ、直近2回の出目が異なる確率\n",
    "        #bn:これまでで事象が起きてないかつ、直近2回の出目が等しい確率\n",
    "        #cn:事象が既に起きている確率\n",
    "    return cn"
   ]
  },
  {
   "cell_type": "code",
   "execution_count": 7,
   "metadata": {},
   "outputs": [
    {
     "data": {
      "text/plain": [
       "0.49961274408471545"
      ]
     },
     "execution_count": 7,
     "metadata": {},
     "output_type": "execute_result"
    }
   ],
   "source": [
    "p1(30)"
   ]
  },
  {
   "cell_type": "code",
   "execution_count": 8,
   "metadata": {},
   "outputs": [],
   "source": [
    "import math\n",
    "def p2(N):\n",
    "    #連立漸化式を解いた場合\n",
    "    return 1 - ((math.sqrt(5)+3)/5)*(((5+3*math.sqrt(5))/12)**(N)) + ((math.sqrt(5)-3)/5)*(((5-3*math.sqrt(5))/12)**(N))"
   ]
  },
  {
   "cell_type": "code",
   "execution_count": 9,
   "metadata": {},
   "outputs": [
    {
     "data": {
      "text/plain": [
       "0.4996127440847157"
      ]
     },
     "execution_count": 9,
     "metadata": {},
     "output_type": "execute_result"
    }
   ],
   "source": [
    "p2(30)"
   ]
  },
  {
   "cell_type": "markdown",
   "metadata": {},
   "source": [
    "解答例では確率に対して漸化式を作っているが、場合の数について漸化式を作っても求めることができる。本質的にはほとんど同様である。"
   ]
  },
  {
   "cell_type": "markdown",
   "metadata": {},
   "source": [
    "### （補足）\n",
    "実は、事象が既に発生している確率$c_{n}$だけを用いて漸化式を作ることもできる。  \n",
    "n回目終了時点で事象が発生している場合は、  \n",
    "①n-1回目終了時点で、既に事象が発生している。  \n",
    "②n-3回目終了時点で事象が発生しておらず、かつ、n-3回目とn-2回目の出目が異なり、かつn-2,n-1,n回目が全て同一の出目である。  \n",
    "という2パターンに分類できる。これには、重複や漏れがない。(慎重に丁寧に考えてみてください。)  \n",
    "そのため、n≧4において、漸化式$c_{n}=c_{n-1}+\\frac{5}{216}(1-c_{n-3})$が成立する。\n",
    "この漸化式をもとに$c_{n}$を求めることができる。"
   ]
  },
  {
   "cell_type": "code",
   "execution_count": 7,
   "metadata": {},
   "outputs": [],
   "source": [
    "#方法1の解答例その2\n",
    "memo = dict()\n",
    "memo[0] = 0\n",
    "memo[1] = 0\n",
    "memo[2] = 0\n",
    "memo[3] = 1/36\n",
    "\n",
    "def p3(N):\n",
    "    if(N in memo):\n",
    "        return memo[N]\n",
    "    memo[N] = p3(N-1) + (5/216)*(1-p3(N-3))\n",
    "    return memo[N]"
   ]
  },
  {
   "cell_type": "code",
   "execution_count": 8,
   "metadata": {},
   "outputs": [
    {
     "data": {
      "text/plain": [
       "0.49961274408471545"
      ]
     },
     "execution_count": 8,
     "metadata": {},
     "output_type": "execute_result"
    }
   ],
   "source": [
    "p3(30)"
   ]
  },
  {
   "cell_type": "markdown",
   "metadata": {},
   "source": [
    "### 方法２　実際にサイコロを振ってその結果を観察する。\n",
    "現実世界ではまず不可能なこともコンピュータ上ではできる場合がある。\n",
    "コンピュータでの計算が高速なことを活かして\n",
    "実際にサイコロをたくさん振って結果を確認することができる。（シミュレーション）\n",
    "\n",
    "１から６までの乱数を用意し、乱数をN回出力する。\n",
    "この1回に関して事象（同じ目が連続して3回以上出た）が起きたのか確認する。\n",
    "これを10万回繰り返し、事象が起きた回数÷10万をp(N)とせよ。\n",
    "\n",
    "p(N)の値は厳密な値ではないし、しかも毎計算ごとに変化するが、p(N)=0.5の近辺では、(99%以上の確率で)多くとも0.5%くらいの絶対誤差で押さえられるので、Nの値は方法1と全く同じになるはずである。\n",
    "\n",
    "注意$\\cdots$方法2において、サイコロを3回振ることを(N-2)回繰り返すというプログラムになってしまわないように注意しよう。"
   ]
  },
  {
   "cell_type": "code",
   "execution_count": 10,
   "metadata": {},
   "outputs": [],
   "source": [
    "#方法２の解答例\n",
    "import random\n",
    "\n",
    "def q(N):\n",
    "    count = 0\n",
    "    rand = [0] * N\n",
    "    for _ in range(100000):\n",
    "        for i in range(N):\n",
    "            rand[i] = random.randint(1,6)\n",
    "        for j in range(N-2):\n",
    "            if( (rand[j] == rand[j+1]) & (rand[j+1] == rand[j+2]) ):\n",
    "                count += 1\n",
    "                break\n",
    "                \n",
    "    return count/100000"
   ]
  },
  {
   "cell_type": "code",
   "execution_count": 11,
   "metadata": {},
   "outputs": [
    {
     "data": {
      "text/plain": [
       "0.49863"
      ]
     },
     "execution_count": 11,
     "metadata": {},
     "output_type": "execute_result"
    }
   ],
   "source": [
    "q(30)"
   ]
  },
  {
   "cell_type": "markdown",
   "metadata": {},
   "source": [
    "上のq(N)に30を代入すると、およそ0.5になる。  \n",
    "(ちなみに統計学の知識を活用すると、10万回試行した場合、99%の確率で0.4955～0.5037の範囲に入ることが分かる。)  \n",
    "29や31を代入すると0.5からは少し離れた値になるはずである。  \n",
    "(例えば29の場合は99%の確率で0.483～0.492の範囲に入るので、解答の値を間違えることはまずない。)  \n",
    "以上より、答えは**３０回**とわかる。"
   ]
  }
 ],
 "metadata": {
  "kernelspec": {
   "display_name": "Python 3",
   "language": "python",
   "name": "python3"
  },
  "language_info": {
   "codemirror_mode": {
    "name": "ipython",
    "version": 3
   },
   "file_extension": ".py",
   "mimetype": "text/x-python",
   "name": "python",
   "nbconvert_exporter": "python",
   "pygments_lexer": "ipython3",
   "version": "3.8.5"
  }
 },
 "nbformat": 4,
 "nbformat_minor": 4
}
