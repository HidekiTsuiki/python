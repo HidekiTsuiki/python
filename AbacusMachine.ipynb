{
 "cells": [
  {
   "cell_type": "markdown",
   "metadata": {},
   "source": [
    "# Abacus Machine"
   ]
  },
  {
   "cell_type": "code",
   "execution_count": null,
   "metadata": {},
   "outputs": [],
   "source": [
    "Abacus Machine は、フローチャートとして記されるが、next, enext という2 種類の有向辺による\n",
    "有向グラフとして表現できる。"
   ]
  },
  {
   "cell_type": "code",
   "execution_count": 19,
   "metadata": {},
   "outputs": [],
   "source": [
    "def univ(p,d):\n",
    "    pc = 0\n",
    "    while(p[pc][0]>0):\n",
    "        op = p[pc][0]\n",
    "        box = p[pc][1]\n",
    "        next = p[pc][2]\n",
    "        enext = p[pc][3]\n",
    "        if(op == 1):\n",
    "            d[box] = d[box] + 1\n",
    "            pc = next\n",
    "        else:\n",
    "            if(d[box]> 0):\n",
    "                d[box] = d[box]-1\n",
    "                pc = next\n",
    "            else:\n",
    "                pc = enext\n",
    "    return d[0]\n",
    "\n",
    "#\n",
    "# end = 0\n",
    "# plus = 1\n",
    "# minus = 2\n",
    "# "
   ]
  },
  {
   "cell_type": "code",
   "execution_count": 21,
   "metadata": {},
   "outputs": [
    {
     "data": {
      "text/plain": [
       "5"
      ]
     },
     "execution_count": 21,
     "metadata": {},
     "output_type": "execute_result"
    }
   ],
   "source": [
    "## Example 1\n",
    "program = [[2,1,1,2],[1,0,0,-1],[0,-1,-1,-1]]\n",
    "# \n",
    "# 0: minus 1 1 2\n",
    "# 1: plus 0 0\n",
    "# 2: end    \n",
    "# \n",
    "data = [3,2,0,0,0]\n",
    "univ(program,data)"
   ]
  },
  {
   "cell_type": "code",
   "execution_count": 25,
   "metadata": {},
   "outputs": [
    {
     "data": {
      "text/plain": [
       "6"
      ]
     },
     "execution_count": 25,
     "metadata": {},
     "output_type": "execute_result"
    }
   ],
   "source": [
    "# 練習問題40\n",
    "\n",
    "def bsearch (p, f, b):\n",
    "    \"For monotonic f, binary search least n such that p <= f(n)  up to b\"\n",
    "    if (f(b) < p):\n",
    "        return b   # this means that no such n exists\n",
    "    return bsearchrange (p, f, 0, b)\n",
    "\n",
    "def bsearchrange (p, f, a, b):\n",
    "    if(b <= a+1):\n",
    "        return b\n",
    "    c = (a+b)//2\n",
    "    if (f(c) < p):\n",
    "        return (bsearchrange (p, f, c, b))\n",
    "    else:\n",
    "        return (bsearchrange (p, f, a, c))\n",
    "    \n",
    "bsearch (36, lambda n:n*n, 100)    \n"
   ]
  },
  {
   "cell_type": "code",
   "execution_count": 26,
   "metadata": {},
   "outputs": [],
   "source": [
    "#練習問題50 \n",
    "import math\n",
    "def pairnum(x, y):\n",
    "    return (x + y)* (x + y + 1)//2 + y\n",
    "\n",
    "def numpair(z):\n",
    "    kk = bsearch(z, lambda i:pairnum(i, 0)-1, z+1) - 1\n",
    "\n",
    "    r = pairnum(kk, 0)\n",
    "    y = z - r\n",
    "    x = (kk) - y\n",
    "    return (x, y)"
   ]
  },
  {
   "cell_type": "code",
   "execution_count": 27,
   "metadata": {},
   "outputs": [
    {
     "name": "stdout",
     "output_type": "stream",
     "text": [
      "1539\n"
     ]
    },
    {
     "data": {
      "text/plain": [
       "[1, 2, 3]"
      ]
     },
     "execution_count": 27,
     "metadata": {},
     "output_type": "execute_result"
    }
   ],
   "source": [
    "# 練習問題60\n",
    "\n",
    "def listnum(u):  #u:list\n",
    "    if (u==[]):\n",
    "        return 0\n",
    "    else:\n",
    "        return pairnum(u[0], listnum(u[1:]))+ 1\n",
    "\n",
    "def numlist(n):\n",
    "    if(n == 0):\n",
    "        return []\n",
    "    else:\n",
    "        (a, b) = numpair(n - 1)\n",
    "        return([a] + numlist(b))\n",
    "\n",
    "    \n",
    "k = listnum([1,2,3])\n",
    "#k = listnum([1,1,1,1,1,1,1,1,1,1,1,1,1])\n",
    "print(k)\n",
    "numlist(k)\n"
   ]
  },
  {
   "cell_type": "code",
   "execution_count": 37,
   "metadata": {},
   "outputs": [],
   "source": [
    "def listnumrec(u):\n",
    "    if(type(u) == list):\n",
    "        return (listnum(list(map(listnumrec, u))))\n",
    "    else: \n",
    "        return u\n",
    "    "
   ]
  },
  {
   "cell_type": "code",
   "execution_count": 38,
   "metadata": {},
   "outputs": [
    {
     "data": {
      "text/plain": [
       "1368690"
      ]
     },
     "execution_count": 38,
     "metadata": {},
     "output_type": "execute_result"
    }
   ],
   "source": [
    "listnumrec([[3,2,3],2])"
   ]
  },
  {
   "cell_type": "code",
   "execution_count": 39,
   "metadata": {},
   "outputs": [
    {
     "data": {
      "text/plain": [
       "1376124315"
      ]
     },
     "execution_count": 39,
     "metadata": {},
     "output_type": "execute_result"
    }
   ],
   "source": [
    "listnumrec(program)"
   ]
  },
  {
   "cell_type": "code",
   "execution_count": null,
   "metadata": {},
   "outputs": [],
   "source": []
  }
 ],
 "metadata": {
  "kernelspec": {
   "display_name": "Python 3",
   "language": "python",
   "name": "python3"
  },
  "language_info": {
   "codemirror_mode": {
    "name": "ipython",
    "version": 3
   },
   "file_extension": ".py",
   "mimetype": "text/x-python",
   "name": "python",
   "nbconvert_exporter": "python",
   "pygments_lexer": "ipython3",
   "version": "3.6.4"
  }
 },
 "nbformat": 4,
 "nbformat_minor": 2
}
