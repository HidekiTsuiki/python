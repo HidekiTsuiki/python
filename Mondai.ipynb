{
 "cells": [
  {
   "cell_type": "markdown",
   "metadata": {},
   "source": [
    "## リストの2つの部分へのきれいな分割\n",
    "\n",
    "[1,2,3,4] というリストは，[1,4] と [2,3] という2つの部分に分けて，それぞれの和を等しくできる。[1,2,3,4,5,6,7,8] というリストを2つの部分に分けて，それぞれの和だけでなく，2乗の和も等しくできるだろうか。\n",
    "\n",
    "[1,2,3,...,2^(n+1)] を2つの部分に分けて，和，2乗和，..., n 乗和を等しくする方法があるのだが，n = 1,2,3 くらいまではしらみつぶしで調べられても，そこから先は計算機の能力を超える。3 までで法則性を想像して，それが本当に成り立つかどうか，もっと大きな n まで調べよう。コンピュータでどこまで確かめられるだろうか。\n",
    "\n",
    "解説：この分割法は，Thue-Morse 列と呼ばれているものである。\n",
    "Thue-Morse 列がこの性質を満たすことの証明を自分で行うか，net の上で探そう。\n",
    "Thue-Morse 列の性質はいろんな性質をもっている。n が小さい時に確認したり，自分で証明したりしよう。"
   ]
  },
  {
   "cell_type": "code",
   "execution_count": 3,
   "metadata": {},
   "outputs": [],
   "source": [
    "def combinations(a, num):  # a: list, num: number\n",
    "    if (num == 0):\n",
    "        return [()]\n",
    "    if (num == len(a)):\n",
    "        return [tuple(a)]\n",
    "    return (combinations(a[1:], num) + \n",
    "        [(a[0], *b) for b in combinations(a[1:], num-1)])\n",
    "    \n",
    "combinations([1,2,3,4,5,6,7,8], 4);"
   ]
  },
  {
   "cell_type": "code",
   "execution_count": 5,
   "metadata": {},
   "outputs": [],
   "source": [
    "a = [1,2,3,4,5,6,7,8]\n",
    "b = [1,4,6,7]\n",
    "def setminus(a, b):\n",
    "    return [i for i in a if not(i in b)]\n",
    "\n"
   ]
  },
  {
   "cell_type": "code",
   "execution_count": 15,
   "metadata": {},
   "outputs": [
    {
     "name": "stdout",
     "output_type": "stream",
     "text": [
      "(2, 3, 5, 8, 9, 12, 14, 15)\n",
      "(1, 4, 6, 7, 10, 11, 13, 16)\n"
     ]
    }
   ],
   "source": [
    "for b in combinations(range(1,17), 8):\n",
    "    c = setminus(range(1,17), b)\n",
    "    if (sum(b) == sum(c) and \n",
    "    (sum([i*i for i in b]) == sum([i*i for i in c])) and\n",
    "     sum([i*i*i for i in b]) == sum([i*i*i for i in c])):\n",
    "        print(b)\n"
   ]
  },
  {
   "cell_type": "code",
   "execution_count": 16,
   "metadata": {},
   "outputs": [],
   "source": [
    "def ThueMorse(n):\n",
    "    if (n==1):\n",
    "        return ([1])\n",
    "    prev=ThueMorse(n-1)\n",
    "    inv = setminus(range(1,2**(n-1)+1), prev)\n",
    "    return (prev+[i + 2**(n-1) for i in  inv])"
   ]
  },
  {
   "cell_type": "code",
   "execution_count": 17,
   "metadata": {},
   "outputs": [
    {
     "data": {
      "text/plain": [
       "[1, 4, 6, 7, 10, 11, 13, 16]"
      ]
     },
     "execution_count": 17,
     "metadata": {},
     "output_type": "execute_result"
    }
   ],
   "source": [
    "ThueMorse(4)"
   ]
  },
  {
   "cell_type": "code",
   "execution_count": 18,
   "metadata": {},
   "outputs": [
    {
     "data": {
      "text/plain": [
       "True"
      ]
     },
     "execution_count": 18,
     "metadata": {},
     "output_type": "execute_result"
    }
   ],
   "source": [
    "def CheckProuhetTarryEscott(n):\n",
    "    b = ThueMorse(n)\n",
    "    c = setminus(range(1, 2**n+1), b)\n",
    "#    print(b, c)\n",
    "    for m in range(1,n):\n",
    "        if(sum([i**m for i in b]) != sum([i**m for i in c])):\n",
    "            return False\n",
    "    return True\n",
    "\n",
    "CheckProuhetTarryEscott(15)\n",
    "\n",
    "    "
   ]
  },
  {
   "cell_type": "code",
   "execution_count": 1,
   "metadata": {},
   "outputs": [],
   "source": [
    "## タイル張り"
   ]
  },
  {
   "cell_type": "code",
   "execution_count": 25,
   "metadata": {},
   "outputs": [
    {
     "data": {
      "text/plain": [
       "5"
      ]
     },
     "execution_count": 25,
     "metadata": {},
     "output_type": "execute_result"
    }
   ],
   "source": [
    "import numpy as np\n",
    "x =np.array([[-1, 1, 2,2],\n",
    "          [1,1,3,2],\n",
    "          [4,3,3,5],\n",
    "          [4,4,5,5]])\n",
    "np.max(x)"
   ]
  },
  {
   "cell_type": "markdown",
   "metadata": {},
   "source": [
    "## タイリング\n",
    "\n",
    "$2 \\times 2$ の正方形から1つ小さな正方形を除いた，大きさ3のブロックを考える。\n",
    "このブロックを$2^n \\times 2^n$ の正方形にひき詰めようとしても，無理である。（なぜか？）\n",
    "\n",
    "$2^n \\times 2^n$ の正方形から 1 つ任意の単位正方形を除いた，$2^n \\times 2^n - 1$  の\n",
    "大きさの領域なら，数だけをみたら，敷き詰められる可能性がある。（なぜか？）\n",
    "\n",
    "実際に，任意の n >1 において，また，任意の1つの単位正方形の選び方において，敷き詰めが可能である。\n",
    "そのことは，次のようにして数学的帰納法で証明できる。まず，n = 2 では可能である。\n",
    "n で可能な時，$2^{n+1} \\times 2^{n+1}$ の正方形から1つの単位正方形を除いた図形が\n",
    "与えられたとする。これを，4 つの$2^n \\times 2^n$ の正方形成分の集まりと見た時，その一つだけに，\n",
    "一つの単位正方形がぬけている。このぬけている成分のところに欠けた部分がくるように，ど真ん中に一つブロックを\n",
    "を配置する。すると，4つの$2^n \\times 2^n$成分は，それぞれが1つづつぬけた状態になる。よって，\n",
    "帰納法の仮定により，これらはブロックで敷き詰められる。このようにして，全体がブロックで敷き詰められる。\n",
    "\n",
    "さて，この証明に従った形で，ブロックの敷き詰めを行おう。敷き詰めには，int の ndarray を用いて，\n",
    "抜けた部分は -1 で，各ブロックは同じ数を用いて表そう。例えば，次は一つの敷き詰めである。0 は，まだ置かれていないことを表すのにとっておこう。\n"
   ]
  },
  {
   "cell_type": "code",
   "execution_count": 2,
   "metadata": {},
   "outputs": [
    {
     "name": "stdout",
     "output_type": "stream",
     "text": [
      "[[-1  1  2  2]\n",
      " [ 1  1  3  2]\n",
      " [ 4  3  3  5]\n",
      " [ 4  4  5  5]]\n",
      "5\n"
     ]
    }
   ],
   "source": [
    "import numpy as np\n",
    "x =np.array([[-1, 1, 2,2],\n",
    "          [1,1,3,2],\n",
    "          [4,3,3,5],\n",
    "          [4,4,5,5]])\n",
    "print(x)\n",
    "print(np.max(x))"
   ]
  },
  {
   "cell_type": "markdown",
   "metadata": {},
   "source": [
    "**練習問題** 上の問題で，1つは敷き詰めがあることが分かったが，それぞれの n と単位ブロックの位置に対して，何種類の敷き詰めがあるだろうか。再帰的な手続きは，このようなしらみつぶし的な探索に有効である。数え上げの方法を考えよう。"
   ]
  },
  {
   "cell_type": "code",
   "execution_count": null,
   "metadata": {},
   "outputs": [],
   "source": [
    "$f_a(x) = ax(1-x)$"
   ]
  }
 ],
 "metadata": {
  "kernelspec": {
   "display_name": "Python 3",
   "language": "python",
   "name": "python3"
  },
  "language_info": {
   "codemirror_mode": {
    "name": "ipython",
    "version": 3
   },
   "file_extension": ".py",
   "mimetype": "text/x-python",
   "name": "python",
   "nbconvert_exporter": "python",
   "pygments_lexer": "ipython3",
   "version": "3.6.4"
  }
 },
 "nbformat": 4,
 "nbformat_minor": 2
}
