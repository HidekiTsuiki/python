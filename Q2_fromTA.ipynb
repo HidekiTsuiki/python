{
 "cells": [
  {
   "cell_type": "markdown",
   "metadata": {},
   "source": [
    "# 第２回TAからの練習問題  （10/25）\n",
    "テーマ１. **数学の力とプログラミングの力をうまく組み合わせて、知りたい値を計算によって求める。**  \n",
    "テーマ２. **Pythonの計算速度の目安を知る。**"
   ]
  },
  {
   "cell_type": "markdown",
   "metadata": {},
   "source": [
    "### 問題１  \n",
    "数列 $a_{n} = 2^{n}$について考える。  $a_{1},a_{2},a_{3},\\ldots,a_{2022}$の2022個の数のうち、最高位の数字が４であるものの個数が知りたい。  \n",
    "$a_{1},a_{2},a_{3},\\ldots,a_{k}$までの$k$個の数のうち、最高位の数字が4であるものの個数を返す関数number_of_top4($k$)を作り、number_of_top4(2022)を計算してみよう。  \n",
    "方法はたくさん考えられるので、そのうち1つ以上の方法でプログラムを書いてみよう。  \n",
    "以下の(参考)を参考にしてもよい。\n",
    "\n",
    "複数のプログラムが作れた人は、どのプログラムが一番速いのかを予想をしてみて、実際に確認しよう。"
   ]
  },
  {
   "cell_type": "markdown",
   "metadata": {},
   "source": [
    "##### （参考）小数部分を求める方法  \n",
    "実数xに対してxの小数部分を取得する方法は数多く考えられるが、例えば以下の方法がある。"
   ]
  },
  {
   "cell_type": "code",
   "execution_count": 56,
   "metadata": {},
   "outputs": [
    {
     "data": {
      "text/plain": [
       "0.45600000000000307"
      ]
     },
     "execution_count": 56,
     "metadata": {},
     "output_type": "execute_result"
    }
   ],
   "source": [
    "#例\n",
    "x = 123.456\n",
    "x - int(x)"
   ]
  },
  {
   "cell_type": "markdown",
   "metadata": {},
   "source": [
    "##### （参考）対数を計算する方法  \n",
    "import mathをしたうえで、math.log(x,y)でyを底とした時のxの対数の値が求められる。  \n",
    "底が2,10,eの場合は、log(x,y)よりも高速で正確な値が出るため下の関数たちを使うとよい。  \n",
    "底が2の場合はmath.log2(x)、  \n",
    "底が10の場合はmath.log10(x)、  \n",
    "底がe(自然対数)の場合はmath.log(x)で求められる。  "
   ]
  },
  {
   "cell_type": "code",
   "execution_count": 1,
   "metadata": {},
   "outputs": [
    {
     "name": "stdout",
     "output_type": "stream",
     "text": [
      "2.0\n",
      "3.0\n",
      "2.0\n",
      "2.0\n"
     ]
    }
   ],
   "source": [
    "#例\n",
    "import math\n",
    "print(math.log(9,3))\n",
    "print(math.log2(8))\n",
    "print(math.log10(100))\n",
    "print(math.log(math.e**2))"
   ]
  },
  {
   "cell_type": "markdown",
   "metadata": {},
   "source": [
    "##### （参考）整数を文字列とみなす方法  \n",
    "xがint型の時、str(x)とすることでint型のxが文字列扱いになる。"
   ]
  },
  {
   "cell_type": "code",
   "execution_count": 1,
   "metadata": {},
   "outputs": [
    {
     "name": "stdout",
     "output_type": "stream",
     "text": [
      "4 3 5\n"
     ]
    }
   ],
   "source": [
    "#例\n",
    "x = 345\n",
    "x = str(x)\n",
    "print(x[1],x[0],x[2])"
   ]
  },
  {
   "cell_type": "code",
   "execution_count": 59,
   "metadata": {},
   "outputs": [],
   "source": [
    "# def number_of_top4(k):"
   ]
  },
  {
   "cell_type": "markdown",
   "metadata": {},
   "source": [
    "### 問題２（応用）\n",
    "$a_{1},a_{2},a_{3},\\ldots,a_{10^{12}}(=a_{1000000000000}=a_{1兆})$までの$10^{12}$（1兆）個の数のうち、最高位の数字が4であるものの個数を求めよう。  \n",
    "ただし、計算に用いた値の有効数字は気にしなくてよい。  \n",
    "(float型の有効数字は15桁ほどで12～13桁なら正確に表示できている。)  \n",
    "さて、先ほど作ったnumber_of_top4(10**12)で求められるだろうか？"
   ]
  },
  {
   "cell_type": "markdown",
   "metadata": {},
   "source": [
    "##### （重要）プログラムの速度  \n",
    "コンピュータは高速で計算を実行してくれるが、どれほど高速なのだろうか？  その目安を知っておくことは重要である。  \n",
    "プログラムの速度は、使用する言語やPCの能力、使用環境(VScodeかPycharmか等)などにより大きく異なるので、\n",
    "各自のPCで10秒でできる計算はどの程度か確認してみよう。  \n",
    "Pythonであれば1秒で10の7乗ステップというイメージをTAは抱いている。"
   ]
  },
  {
   "cell_type": "code",
   "execution_count": 2,
   "metadata": {},
   "outputs": [
    {
     "name": "stdout",
     "output_type": "stream",
     "text": [
      "10000000\n",
      "Wall time: 612 ms\n"
     ]
    }
   ],
   "source": [
    "%%time\n",
    "a=0\n",
    "for _ in range(10**7):\n",
    "    a = a+1\n",
    "print(a)"
   ]
  },
  {
   "cell_type": "markdown",
   "metadata": {},
   "source": [
    "数学力や発想力などを駆使して、問題2の解答が求められるように関数number_of_top4を改良しよう。  \n",
    "$a_{1},a_{2},a_{3},\\ldots,a_{10^{12}}(=a_{1000000000000})$までの$10^{12}$個の数のうち、最高位の数字が4であるものの個数を求めよう。  \n",
    "\n",
    "ヒントは、以下のhint(x)のxに問題1の答えを入力して実行すると現れる。"
   ]
  },
  {
   "cell_type": "code",
   "execution_count": 4,
   "metadata": {},
   "outputs": [],
   "source": [
    "#このセルはそのままで\n",
    "angou=\"計最か成を見数が絵の数移動位かし\"\\\n",
    "+\"この変化色分変て遷気つめ子ね各書読消あ\"\\\n",
    "+\"備み様高いてんにようぎ図の答え探しにいく。\"\n",
    "\n",
    "def hint(x):\n",
    "    for i in range(19):\n",
    "        print(angou[pow(x,i,53)],end=\"\")"
   ]
  },
  {
   "cell_type": "code",
   "execution_count": 5,
   "metadata": {},
   "outputs": [
    {
     "ename": "SyntaxError",
     "evalue": "unexpected EOF while parsing (<ipython-input-5-ddf9d6f9261d>, line 1)",
     "output_type": "error",
     "traceback": [
      "\u001b[1;36m  File \u001b[1;32m\"<ipython-input-5-ddf9d6f9261d>\"\u001b[1;36m, line \u001b[1;32m1\u001b[0m\n\u001b[1;33m    hint(#ここに問題1の答えを入れて実行するとヒントが現れる)\u001b[0m\n\u001b[1;37m                                    ^\u001b[0m\n\u001b[1;31mSyntaxError\u001b[0m\u001b[1;31m:\u001b[0m unexpected EOF while parsing\n"
     ]
    }
   ],
   "source": [
    "hint(#ここに問題1の答えを入れて実行するとヒントが現れる)"
   ]
  }
 ],
 "metadata": {
  "kernelspec": {
   "display_name": "Python 3",
   "language": "python",
   "name": "python3"
  },
  "language_info": {
   "codemirror_mode": {
    "name": "ipython",
    "version": 3
   },
   "file_extension": ".py",
   "mimetype": "text/x-python",
   "name": "python",
   "nbconvert_exporter": "python",
   "pygments_lexer": "ipython3",
   "version": "3.8.5"
  }
 },
 "nbformat": 4,
 "nbformat_minor": 4
}
