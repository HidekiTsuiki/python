{
 "cells": [
  {
   "cell_type": "markdown",
   "metadata": {},
   "source": [
    " 練習問題1\n",
    "\n",
    "サイコロをn 回振った時、どこかで同じ目が3回以上続けて出るという事象が起こる確率\n",
    "について考える。その確率がおよそ50%となるのはサイコロを何回振った時か？"
   ]
  },
  {
   "cell_type": "code",
   "execution_count": 2,
   "metadata": {},
   "outputs": [
    {
     "name": "stdout",
     "output_type": "stream",
     "text": [
      "0.0\n",
      "0.027777777777777776\n",
      "30 0.49961274408471545\n",
      "31 0.5117803302100081\n"
     ]
    }
   ],
   "source": [
    "def p(n):      #サイコロをn回振った時事象が起きる確率。\n",
    "    a=1        #〇回目まで振った時この事象が起きてない、かつ、現在2連続で同じ目が出ているところではない確率。\n",
    "    b=0        #〇回目まで振った時この事象が起きてない、かつ、現在2連続で同じ目が出ているところである確率。\n",
    "    c=0        #〇回目まで振った時、既にこの事象が起きている確率。\n",
    "    for _ in range(n-1):\n",
    "        aa = a  #とりあえず文字を用意して値を格納しておく。\n",
    "        bb = b\n",
    "        cc = c\n",
    "        a = 5*aa/6 + 5*bb/6  #漸化式を作ってfor文で回す。\n",
    "        b = aa/6\n",
    "        c = cc + bb/6\n",
    "    return c\n",
    "\n",
    "print(p(2)) #念のため添え字が合っているかの確認\n",
    "print(p(3))\n",
    "i = 0\n",
    "while (p(i)<0.5):\n",
    "    i=i+1\n",
    "\n",
    "print(i-1,p(i-1)) #0.5を超える1つ前\n",
    "print (i,p(i))    #0.5を超えた時"
   ]
  },
  {
   "cell_type": "markdown",
   "metadata": {},
   "source": [
    "練習問題２\n",
    "\n",
    "(1)"
   ]
  },
  {
   "cell_type": "code",
   "execution_count": 13,
   "metadata": {},
   "outputs": [
    {
     "name": "stdout",
     "output_type": "stream",
     "text": [
      "True\n",
      "False\n",
      "True\n"
     ]
    }
   ],
   "source": [
    "print(0.2 == 0.1 + 0.1)\n",
    "print(0.3 == 0.1 + 0.1 + 0.1)\n",
    "print(0.4 == 0.1 + 0.1 + 0.1 + 0.1)"
   ]
  },
  {
   "cell_type": "markdown",
   "metadata": {},
   "source": [
    "(2)\n",
    "以上の結果から、2 つの実数が同じ値かどうかを判定する際に気を付けるべきことを考えよう。\n",
    "\n",
    "どのようにして同じ値かを判定すればよいのかも考えよう。"
   ]
  },
  {
   "cell_type": "code",
   "execution_count": 15,
   "metadata": {},
   "outputs": [
    {
     "name": "stdout",
     "output_type": "stream",
     "text": [
      "True\n"
     ]
    }
   ],
   "source": [
    "a=0.1+0.1+0.1\n",
    "b=0.3\n",
    "\n",
    "print (abs(a-b)<10**-8) #２つの数の差が十分小さいかで判断すればよい"
   ]
  },
  {
   "cell_type": "markdown",
   "metadata": {},
   "source": [
    "(3)\n",
    "\n",
    "以降は、データの分析・考察が好きな方向けの問題です。\n",
    "\n",
    "以下のプログラムで、n÷10 と0.1×n が同じ値とみなされないようなnを表示できる。\n",
    "そのようなn の共通点や規則性はあるだろうか？"
   ]
  },
  {
   "cell_type": "code",
   "execution_count": 17,
   "metadata": {},
   "outputs": [
    {
     "name": "stdout",
     "output_type": "stream",
     "text": [
      "3\n",
      "6\n",
      "7\n",
      "12\n",
      "14\n",
      "17\n",
      "19\n",
      "23\n",
      "24\n",
      "28\n",
      "29\n",
      "33\n",
      "34\n",
      "38\n",
      "39\n",
      "41\n",
      "46\n",
      "48\n",
      "51\n",
      "53\n",
      "56\n",
      "58\n",
      "61\n",
      "63\n",
      "66\n",
      "68\n",
      "71\n",
      "73\n",
      "76\n",
      "78\n",
      "82\n",
      "87\n",
      "92\n",
      "96\n",
      "97\n"
     ]
    }
   ],
   "source": [
    "a = 100\n",
    "for n in range(a):\n",
    "    if(n/10 != 0.1*n):\n",
    "        print(n)"
   ]
  },
  {
   "cell_type": "code",
   "execution_count": 11,
   "metadata": {},
   "outputs": [
    {
     "name": "stdout",
     "output_type": "stream",
     "text": [
      "0.10000000000000000555111512312578270211815834045410\n",
      "0.20000000000000001110223024625156540423631668090820\n",
      "0.29999999999999998889776975374843459576368331909180\n",
      "0.40000000000000002220446049250313080847263336181641\n",
      "0.50000000000000000000000000000000000000000000000000\n",
      "0.59999999999999997779553950749686919152736663818359\n",
      "0.69999999999999995559107901499373838305473327636719\n"
     ]
    }
   ],
   "source": [
    "print(f'{0.1:.50f}')\n",
    "print(f'{0.2:.50f}')\n",
    "print(f'{0.3:.50f}')\n",
    "print(f'{0.4:.50f}')\n",
    "print(f'{0.5:.50f}')\n",
    "print(f'{0.6:.50f}')\n",
    "print(f'{0.7:.50f}')"
   ]
  },
  {
   "cell_type": "code",
   "execution_count": 10,
   "metadata": {},
   "outputs": [
    {
     "name": "stdout",
     "output_type": "stream",
     "text": [
      "0.10000000000000000555111512312578270211815834045410\n",
      "0.20000000000000001110223024625156540423631668090820\n",
      "0.30000000000000004440892098500626161694526672363281\n",
      "0.40000000000000002220446049250313080847263336181641\n",
      "0.50000000000000000000000000000000000000000000000000\n",
      "0.59999999999999997779553950749686919152736663818359\n",
      "0.69999999999999995559107901499373838305473327636719\n"
     ]
    }
   ],
   "source": [
    "print(f'{0.1:.50f}')\n",
    "print(f'{0.1+0.1:.50f}')\n",
    "print(f'{0.1+0.1+0.1:.50f}')\n",
    "print(f'{0.1+0.1+0.1+0.1:.50f}')\n",
    "print(f'{0.1+0.1+0.1+0.1+0.1:.50f}')\n",
    "print(f'{0.1+0.1+0.1+0.1+0.1+0.1:.50f}')\n",
    "print(f'{0.1+0.1+0.1+0.1+0.1+0.1+0.1:.50f}')"
   ]
  },
  {
   "cell_type": "markdown",
   "metadata": {},
   "source": [
    "10を100に変えたプログラムが以下である。"
   ]
  },
  {
   "cell_type": "code",
   "execution_count": 18,
   "metadata": {},
   "outputs": [
    {
     "name": "stdout",
     "output_type": "stream",
     "text": [
      "35\n",
      "41\n",
      "47\n",
      "57\n",
      "69\n",
      "70\n",
      "82\n",
      "83\n",
      "94\n",
      "95\n"
     ]
    }
   ],
   "source": [
    "a = 100\n",
    "for n in range(a):\n",
    "    if(n/100 != 0.01*n):\n",
    "        print(n)"
   ]
  },
  {
   "cell_type": "markdown",
   "metadata": {},
   "source": [
    "(4)\n",
    "\n",
    "以下のプログラムで、0 から99 までのうち、n÷10 と0.1×n が同じ値とみなされないようなn の割合が\n",
    "表示される。a を大きくしていくと、その割合はどう変化していくだろうか？"
   ]
  },
  {
   "cell_type": "code",
   "execution_count": 19,
   "metadata": {},
   "outputs": [
    {
     "name": "stdout",
     "output_type": "stream",
     "text": [
      "0.35\n"
     ]
    }
   ],
   "source": [
    "k = 0\n",
    "a = 100\n",
    "for n in range(a):\n",
    "    if(n/10 != 0.1*n):\n",
    "         k = k+1\n",
    "print(k/a)"
   ]
  }
 ],
 "metadata": {
  "kernelspec": {
   "display_name": "Python 3 (ipykernel)",
   "language": "python",
   "name": "python3"
  },
  "language_info": {
   "codemirror_mode": {
    "name": "ipython",
    "version": 3
   },
   "file_extension": ".py",
   "mimetype": "text/x-python",
   "name": "python",
   "nbconvert_exporter": "python",
   "pygments_lexer": "ipython3",
   "version": "3.8.5"
  }
 },
 "nbformat": 4,
 "nbformat_minor": 4
}
