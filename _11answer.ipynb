{
 "cells": [
  {
   "cell_type": "code",
   "execution_count": 16,
   "metadata": {},
   "outputs": [],
   "source": [
    "import math\n",
    "'''Xj + c sqrt(2 log n / nj)  for c = 100'''\n",
    "\n",
    "class UcbStrategy:\n",
    "    def __init__(self,cc = 0.16):\n",
    "        self.totalnum = 1\n",
    "        self.expectedValues = [0]*MultiArmedBandit.NUM\n",
    "        self.numtosses = [0]*MultiArmedBandit.NUM\n",
    "        self.c = cc;  #c == 14 is the best in my experiment!!, \n",
    "                        #with the average 0.869\n",
    "\n",
    "    def learn(self,i, result):\n",
    "        self.totalnum += 1\n",
    "        self.numtosses[i] += 1;\n",
    "        if (result == 1):\n",
    "            self.expectedValues[i] += 1;\n",
    "\n",
    "    def choice(self):\n",
    "        ind = 0;\n",
    "        maxv = 0;\n",
    "        for i in range(MultiArmedBandit.NUM):\n",
    "            k =self.expectedValues[i]/(self.numtosses[i]+0.01) + \\\n",
    "            self.c * math.sqrt(2 * math.log(self.totalnum) / (self.numtosses[i]+0.01))\n",
    "            if (k > maxv):\n",
    "                maxv = k\n",
    "                ind = i\n",
    "        return ind;\n",
    "\n",
    "    def reset(self):\n",
    "        self.totalnum = 1;\n",
    "        self.expectedValues = [0] * MultiArmedBandit.NUM\n",
    "        self.numtosses = [0] * MultiArmedBandit.NUM\n"
   ]
  },
  {
   "cell_type": "code",
   "execution_count": 242,
   "metadata": {},
   "outputs": [],
   "source": [
    "class ThompsonStrategy:\n",
    "    def __init__(self):\n",
    "        self.total = [0]*10\n",
    "        self.atari = [0]*10\n",
    "        \n",
    "    def learn(self, k, result):\n",
    "        self.total[k] += 1\n",
    "        self.atari[k] += result        \n",
    "\n",
    "    def choice(self):\n",
    "        betas = [np.random.beta(self.atari[k]+1,self.total[k]-self.atari[k]+1) for k in range(10)]\n",
    "        return betas.index(max(betas))\n",
    "\n",
    "    def reset(self):\n",
    "        self.total = [0]*10\n",
    "        self.atari = [0]*10        \n",
    "        "
   ]
  }
 ],
 "metadata": {
  "kernelspec": {
   "display_name": "Python 3",
   "language": "python",
   "name": "python3"
  },
  "language_info": {
   "codemirror_mode": {
    "name": "ipython",
    "version": 3
   },
   "file_extension": ".py",
   "mimetype": "text/x-python",
   "name": "python",
   "nbconvert_exporter": "python",
   "pygments_lexer": "ipython3",
   "version": "3.7.11"
  }
 },
 "nbformat": 4,
 "nbformat_minor": 4
}
