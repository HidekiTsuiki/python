{
 "cells": [
  {
   "cell_type": "markdown",
   "metadata": {},
   "source": [
    "## リスト"
   ]
  },
  {
   "cell_type": "code",
   "execution_count": 1,
   "metadata": {},
   "outputs": [],
   "source": [
    "mon = [0, 31, 28, 31, 30, 31, 30, 31, 31, 30, 31, 30, 31]"
   ]
  },
  {
   "cell_type": "code",
   "execution_count": 2,
   "metadata": {},
   "outputs": [
    {
     "name": "stdout",
     "output_type": "stream",
     "text": [
      "13\n",
      "365\n",
      "31\n",
      "183 182\n"
     ]
    }
   ],
   "source": [
    "print (len(mon))\n",
    "print (sum(mon))\n",
    "print (mon[1])\n",
    "zenki = mon[4:10]\n",
    "kouki = mon[10:] + mon[:4]\n",
    "print(sum(zenki), sum(kouki))"
   ]
  },
  {
   "cell_type": "markdown",
   "metadata": {},
   "source": [
    "## 繰り返し"
   ]
  },
  {
   "cell_type": "code",
   "execution_count": 3,
   "metadata": {},
   "outputs": [
    {
     "name": "stdout",
     "output_type": "stream",
     "text": [
      " 1 月:   31日\n",
      " 2 月:   28日\n",
      " 3 月:   31日\n",
      " 4 月:   30日\n",
      " 5 月:   31日\n",
      " 6 月:   30日\n",
      " 7 月:   31日\n",
      " 8 月:   31日\n",
      " 9 月:   30日\n",
      "10 月:   31日\n",
      "11 月:   30日\n",
      "12 月:   31日\n"
     ]
    }
   ],
   "source": [
    "for i in [1,2,3,4,5,6,7,8,9,10,11,12]:\n",
    "    print(\"{:2} 月: {:4}日\".format(i, mon[i]))"
   ]
  },
  {
   "cell_type": "code",
   "execution_count": 16,
   "metadata": {},
   "outputs": [
    {
     "name": "stdout",
     "output_type": "stream",
     "text": [
      "月     日数    積算日数\n",
      "  1 月:   31日    0日\n",
      "  2 月:   28日   31日\n",
      "  3 月:   31日   59日\n",
      "  4 月:   30日   90日\n",
      "  5 月:   31日  120日\n",
      "  6 月:   30日  151日\n",
      "  7 月:   31日  181日\n",
      "  8 月:   31日  212日\n",
      "  9 月:   30日  243日\n",
      " 10 月:   31日  273日\n",
      " 11 月:   30日  304日\n",
      " 12 月:   31日  334日\n"
     ]
    }
   ],
   "source": [
    "print(\"月     日数    積算日数\")\n",
    "for i in [1,2,3,4,5,6,7,8,9,10,11,12]:\n",
    "    print(f\" {i:2} 月: {mon[i]:4}日 {sum(mon[1:i]):4}日\")\n"
   ]
  },
  {
   "cell_type": "markdown",
   "metadata": {},
   "source": [
    "## range "
   ]
  },
  {
   "cell_type": "code",
   "execution_count": 12,
   "metadata": {},
   "outputs": [
    {
     "name": "stdout",
     "output_type": "stream",
     "text": [
      "1\n",
      "4\n",
      "9\n",
      "16\n",
      "25\n",
      "36\n"
     ]
    }
   ],
   "source": [
    "for n in range(6):\n",
    "    print(sum(range(1,(2*n+1)+1,2)))\n",
    "    "
   ]
  },
  {
   "cell_type": "markdown",
   "metadata": {},
   "source": [
    "\n",
    "$$\\sum_{i=0}^{n}{(2i+1)}= 2(\\sum_{i=0}^{n}{i}) + \\sum_{i=0}^{n}{1} = 2\\frac{n(n+1)}{2}+(n+1) = (n+1)^2$$"
   ]
  },
  {
   "cell_type": "markdown",
   "metadata": {},
   "source": [
    "# 繰り返しの中での変数の利用"
   ]
  },
  {
   "cell_type": "code",
   "execution_count": 13,
   "metadata": {},
   "outputs": [
    {
     "name": "stdout",
     "output_type": "stream",
     "text": [
      "i=  0, total= 0\n",
      "i=  1, total= 1\n",
      "i=  2, total= 3\n",
      "i=  3, total= 6\n",
      "i=  4, total=10\n",
      "i=  5, total=15\n",
      "i=  6, total=21\n",
      "i=  7, total=28\n",
      "i=  8, total=36\n",
      "i=  9, total=45\n",
      "i= 10, total=55\n"
     ]
    }
   ],
   "source": [
    "total = 0\n",
    "for i in range(11):\n",
    "    total = total + i\n",
    "    print(\"i= {:2}, total={:2}\".format(i,total))"
   ]
  },
  {
   "cell_type": "code",
   "execution_count": 14,
   "metadata": {},
   "outputs": [
    {
     "name": "stdout",
     "output_type": "stream",
     "text": [
      "    1    2    3    4    5    6    7    8    9\n",
      "    2    4    6    8   10   12   14   16   18\n",
      "    3    6    9   12   15   18   21   24   27\n",
      "    4    8   12   16   20   24   28   32   36\n",
      "    5   10   15   20   25   30   35   40   45\n",
      "    6   12   18   24   30   36   42   48   54\n",
      "    7   14   21   28   35   42   49   56   63\n",
      "    8   16   24   32   40   48   56   64   72\n",
      "    9   18   27   36   45   54   63   72   81\n"
     ]
    }
   ],
   "source": [
    "for i in range(1,10):\n",
    "    for j in range(1,10):\n",
    "        print(\"{:5}\".format(i*j), end=\"\")\n",
    "    print(\"\")\n"
   ]
  },
  {
   "cell_type": "markdown",
   "metadata": {},
   "source": [
    "# 練習問題"
   ]
  },
  {
   "cell_type": "code",
   "execution_count": 15,
   "metadata": {},
   "outputs": [],
   "source": [
    "def fact (n):\n",
    "    \"\"\" n の階乗を計算する\"\"\"\n",
    "    x = 1\n",
    "    for i in range(1,n+1):\n",
    "        x = x * i\n",
    "    return x"
   ]
  },
  {
   "cell_type": "code",
   "execution_count": 16,
   "metadata": {},
   "outputs": [
    {
     "name": "stdout",
     "output_type": "stream",
     "text": [
      "i= 0, y=0.03306600\n",
      "i= 1, y=0.10678862\n",
      "i= 2, y=0.31858526\n",
      "i= 3, y=0.72507623\n",
      "i= 4, y=0.66579791\n",
      "i= 5, y=0.74318692\n",
      "i= 6, y=0.63747281\n",
      "i= 7, y=0.77187810\n",
      "i= 8, y=0.58811488\n",
      "i= 9, y=0.80906746\n",
      "i=10, y=0.51595419\n",
      "i=11, y=0.83414985\n",
      "i=12, y=0.46206855\n",
      "i=13, y=0.83019443\n",
      "i=14, y=0.47084528\n",
      "i=15, y=0.83216101\n",
      "i=16, y=0.46649468\n",
      "i=17, y=0.83125049\n",
      "i=18, y=0.46851219\n",
      "i=19, y=0.83168845\n",
      "i=20, y=0.46754246\n",
      "i=21, y=0.83148134\n",
      "i=22, y=0.46800121\n",
      "i=23, y=0.83158010\n",
      "i=24, y=0.46778249\n",
      "i=25, y=0.83153319\n",
      "i=26, y=0.46788639\n",
      "i=27, y=0.83155551\n",
      "i=28, y=0.46783695\n",
      "i=29, y=0.83154490\n",
      "i=30, y=0.46786046\n",
      "i=31, y=0.83154995\n",
      "i=32, y=0.46784927\n",
      "i=33, y=0.83154755\n",
      "i=34, y=0.46785459\n",
      "i=35, y=0.83154869\n",
      "i=36, y=0.46785206\n",
      "i=37, y=0.83154814\n",
      "i=38, y=0.46785327\n",
      "i=39, y=0.83154840\n",
      "i=40, y=0.46785269\n",
      "i=41, y=0.83154828\n",
      "i=42, y=0.46785297\n",
      "i=43, y=0.83154834\n",
      "i=44, y=0.46785284\n",
      "i=45, y=0.83154831\n",
      "i=46, y=0.46785290\n",
      "i=47, y=0.83154832\n",
      "i=48, y=0.46785287\n",
      "i=49, y=0.83154832\n",
      "i=50, y=0.46785288\n",
      "i=51, y=0.83154832\n",
      "i=52, y=0.46785288\n",
      "i=53, y=0.83154832\n",
      "i=54, y=0.46785288\n",
      "i=55, y=0.83154832\n",
      "i=56, y=0.46785288\n",
      "i=57, y=0.83154832\n",
      "i=58, y=0.46785288\n",
      "i=59, y=0.83154832\n",
      "i=60, y=0.46785288\n",
      "i=61, y=0.83154832\n",
      "i=62, y=0.46785288\n",
      "i=63, y=0.83154832\n",
      "i=64, y=0.46785288\n",
      "i=65, y=0.83154832\n",
      "i=66, y=0.46785288\n",
      "i=67, y=0.83154832\n",
      "i=68, y=0.46785288\n",
      "i=69, y=0.83154832\n",
      "i=70, y=0.46785288\n",
      "i=71, y=0.83154832\n",
      "i=72, y=0.46785288\n",
      "i=73, y=0.83154832\n",
      "i=74, y=0.46785288\n",
      "i=75, y=0.83154832\n",
      "i=76, y=0.46785288\n",
      "i=77, y=0.83154832\n",
      "i=78, y=0.46785288\n",
      "i=79, y=0.83154832\n",
      "i=80, y=0.46785288\n",
      "i=81, y=0.83154832\n",
      "i=82, y=0.46785288\n",
      "i=83, y=0.83154832\n",
      "i=84, y=0.46785288\n",
      "i=85, y=0.83154832\n",
      "i=86, y=0.46785288\n",
      "i=87, y=0.83154832\n",
      "i=88, y=0.46785288\n",
      "i=89, y=0.83154832\n",
      "i=90, y=0.46785288\n",
      "i=91, y=0.83154832\n",
      "i=92, y=0.46785288\n",
      "i=93, y=0.83154832\n",
      "i=94, y=0.46785288\n",
      "i=95, y=0.83154832\n",
      "i=96, y=0.46785288\n",
      "i=97, y=0.83154832\n",
      "i=98, y=0.46785288\n",
      "i=99, y=0.83154832\n"
     ]
    }
   ],
   "source": [
    "def logistic(a):\n",
    "    y = 0.01\n",
    "    for i in range(100):\n",
    "        y=a*y*(1-y)\n",
    "        print(\"i={:2}, y={:10.8f}\".format(i,y))\n",
    "\n",
    "logistic(3.34)        "
   ]
  },
  {
   "cell_type": "code",
   "execution_count": 17,
   "metadata": {},
   "outputs": [],
   "source": [
    "def e(n):\n",
    "    \"\"\" e の値の近似値を計算する\"\"\"\n",
    "    x = 0\n",
    "    for i in range(0,n+1):\n",
    "        x = x + 1/fact(i)\n",
    "    return x"
   ]
  },
  {
   "cell_type": "code",
   "execution_count": 18,
   "metadata": {},
   "outputs": [
    {
     "name": "stdout",
     "output_type": "stream",
     "text": [
      "1 2.0\n",
      "2 2.5\n",
      "3 2.6666666666666665\n",
      "4 2.708333333333333\n",
      "5 2.7166666666666663\n",
      "6 2.7180555555555554\n",
      "7 2.7182539682539684\n",
      "8 2.71827876984127\n",
      "9 2.7182815255731922\n",
      "10 2.7182818011463845\n",
      "11 2.718281826198493\n",
      "12 2.7182818282861687\n",
      "13 2.7182818284467594\n",
      "14 2.71828182845823\n",
      "15 2.718281828458995\n",
      "16 2.718281828459043\n",
      "17 2.7182818284590455\n",
      "18 2.7182818284590455\n",
      "19 2.7182818284590455\n"
     ]
    }
   ],
   "source": [
    "for x in range(1,20):\n",
    "    print(x, e(x))\n",
    "\n",
    "\n",
    "    "
   ]
  },
  {
   "cell_type": "code",
   "execution_count": 19,
   "metadata": {},
   "outputs": [],
   "source": [
    "def exp(x) :\n",
    "    \"\"\" テイラー展開により，e(x) を計算する。\"\"\"\n",
    "    z = 0\n",
    "    max = 10\n",
    "    for i in range(max):\n",
    "        z += (x**i)/fact(i)        \n",
    "    return z"
   ]
  },
  {
   "cell_type": "code",
   "execution_count": 20,
   "metadata": {},
   "outputs": [
    {
     "name": "stdout",
     "output_type": "stream",
     "text": [
      "1.3498588075743303\n",
      "2.718281828459045\n"
     ]
    },
    {
     "data": {
      "text/plain": [
       "1.349858807576003"
      ]
     },
     "execution_count": 20,
     "metadata": {},
     "output_type": "execute_result"
    }
   ],
   "source": [
    "print(exp(0.3))\n",
    "import math\n",
    "print(math.e)\n",
    "math.e**0.3"
   ]
  },
  {
   "cell_type": "code",
   "execution_count": 21,
   "metadata": {},
   "outputs": [
    {
     "data": {
      "text/plain": [
       "3.1414926535900345"
      ]
     },
     "execution_count": 21,
     "metadata": {},
     "output_type": "execute_result"
    }
   ],
   "source": [
    "def pi1(n):\n",
    "    \"\"\" 円周率の計算。i 回目の繰り返しで、プラスとマイナスの項を求めている。\"\"\"\n",
    "    x = 0\n",
    "    for i in range(0, n):\n",
    "        x = x + 1/(2*(2 * i)+1) - 1/(2*(2*i+1)+1)\n",
    "    return(x*4)\n",
    "\n",
    "\n",
    "def pi2(n):\n",
    "    \"\"\" 円周率の計算。i 回目の繰り返しで、(-1)のi 乗をかけて符号を変える。\"\"\"\n",
    "    x = 0\n",
    "    for i in range(0, n):\n",
    "        x = x + ((-1)**i)/(2*i+1)\n",
    "    return(x*4)\n",
    "\n",
    "\n",
    "def pi3(n):\n",
    "    \"\"\" 円周率の計算。inv の値が毎回変化するように、繰り返しの中で計算する。\"\"\"\n",
    "    x = 0\n",
    "    inv = 1\n",
    "    for i in range(0, n):\n",
    "        x = x + inv/(2*i+1)\n",
    "        inv = inv * (-1)\n",
    "    return(x*4)\n",
    "\n",
    "pi3(10000)\n",
    "                                 \n",
    "                                     "
   ]
  },
  {
   "cell_type": "code",
   "execution_count": 22,
   "metadata": {},
   "outputs": [
    {
     "data": {
      "text/plain": [
       "3.141592653589794"
      ]
     },
     "execution_count": 22,
     "metadata": {},
     "output_type": "execute_result"
    }
   ],
   "source": [
    "# ガウス＝ルジャンドルのアルゴリズム\n",
    "import math\n",
    "\n",
    "def pi4(n):\n",
    "    a = 1\n",
    "    b = 1/math.sqrt(2)\n",
    "    t = 1/4\n",
    "    p = 1\n",
    "    for _ in range(n):\n",
    "        ap = a\n",
    "        a = (a + b)/2\n",
    "        b = math.sqrt(ap * b)\n",
    "        t = t - p*((ap - a)**2)\n",
    "        p = 2 * p\n",
    "    return (a + b)**2/(4*t)\n",
    "\n",
    "pi4(10)"
   ]
  },
  {
   "cell_type": "code",
   "execution_count": 23,
   "metadata": {},
   "outputs": [
    {
     "name": "stdout",
     "output_type": "stream",
     "text": [
      "Help on built-in function sqrt in module math:\n",
      "\n",
      "sqrt(x, /)\n",
      "    Return the square root of x.\n",
      "\n"
     ]
    }
   ],
   "source": [
    "import math\n",
    "help(math.sqrt)"
   ]
  },
  {
   "cell_type": "markdown",
   "metadata": {},
   "source": [
    "メモ"
   ]
  },
  {
   "cell_type": "markdown",
   "metadata": {},
   "source": [
    "<div>\n",
    "<details>\n",
    "<summary> 解答 </summary>\n",
    "<pre>\n",
    "これが解答です。\n",
    "</pre>\n",
    "</details>\n",
    "</div>"
   ]
  },
  {
   "cell_type": "markdown",
   "metadata": {},
   "source": [
    "<details>\n",
    "   <summary> 解答　</summary>\n",
    "    <pre>\n",
    "    実はこうすればいいです。\n",
    "    こうやって，解答を問題に埋め込むことも考えましたが，別ファイルにしておきます。\n",
    "    \n"
   ]
  },
  {
   "cell_type": "code",
   "execution_count": null,
   "metadata": {
    "jupyter": {
     "source_hidden": true
    }
   },
   "outputs": [],
   "source": []
  }
 ],
 "metadata": {
  "kernelspec": {
   "display_name": "Python 3",
   "language": "python",
   "name": "python3"
  },
  "language_info": {
   "codemirror_mode": {
    "name": "ipython",
    "version": 3
   },
   "file_extension": ".py",
   "mimetype": "text/x-python",
   "name": "python",
   "nbconvert_exporter": "python",
   "pygments_lexer": "ipython3",
   "version": "3.7.11"
  }
 },
 "nbformat": 4,
 "nbformat_minor": 4
}
