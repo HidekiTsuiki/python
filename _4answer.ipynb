{
 "cells": [
  {
   "cell_type": "code",
   "execution_count": 24,
   "metadata": {},
   "outputs": [
    {
     "name": "stdout",
     "output_type": "stream",
     "text": [
      "5 90 2 3\n",
      "[5, 3, 0, 1, 3]\n"
     ]
    }
   ],
   "source": [
    "# 練習問題1\n",
    "def mymax(u):\n",
    "    m = u[0]\n",
    "    for a in u:\n",
    "        if (a > m):\n",
    "            m = a\n",
    "    return m\n",
    "\n",
    "def prod(u):\n",
    "    p = 1\n",
    "    for a in u:\n",
    "        p = p * a\n",
    "    return p\n",
    "\n",
    "def count(u, a):\n",
    "    num = 0\n",
    "    for b in u:\n",
    "        if(b == a):\n",
    "            num += 1\n",
    "    return num\n",
    "\n",
    "def index(u, a):\n",
    "    for n in range(len(u)):\n",
    "        if(u[n] == a):\n",
    "            return n\n",
    "\n",
    "def ezero(u):\n",
    "    for n in range(len(u)):\n",
    "        if(u[n]%2 == 0):\n",
    "            u[n] = 0\n",
    "\n",
    "print(\n",
    "    mymax ([5,3,2,1,3]),\n",
    "    prod  ([5,3,2,1,3]),\n",
    "    count ([5,3,2,1,3],3),\n",
    "    index ([5,3,2,1,3],1)        \n",
    ")\n",
    "\n",
    "u = [5,3,2,1,3]\n",
    "ezero(u)\n",
    "print(u) \n",
    "    "
   ]
  },
  {
   "cell_type": "code",
   "execution_count": 43,
   "metadata": {},
   "outputs": [
    {
     "name": "stdout",
     "output_type": "stream",
     "text": [
      "[11, 11, 15, 6, 7, 12, 13, 7, 12, 6]\n"
     ]
    }
   ],
   "source": [
    "# 練習問題3\n",
    "import random\n",
    "NUM = 10\n",
    "freq = [0]*NUM\n",
    "for i in range(100):\n",
    "    freq[random.randrange(NUM)] += 1\n",
    "print(freq)    "
   ]
  },
  {
   "cell_type": "code",
   "execution_count": 44,
   "metadata": {},
   "outputs": [],
   "source": [
    "# 練習問題5\n",
    "\n",
    "#大きさ 100 のリストu（内容は-1）を作っておき、\n",
    "#k が f^n(0) = a として現れたら、u[k] に n を\n",
    "#記憶していけばよい。"
   ]
  },
  {
   "cell_type": "code",
   "execution_count": 26,
   "metadata": {},
   "outputs": [],
   "source": [
    "# 練習問題8\n",
    "\n",
    "#400年でカレンダーがどれだけずれるかと、\n",
    "#400年分の各月の13日の曜日を調べれば、分かるはずである。"
   ]
  },
  {
   "cell_type": "code",
   "execution_count": 27,
   "metadata": {},
   "outputs": [],
   "source": [
    "# 練習問題9\n",
    "#大きさ 1000 のリストで、表を1, 裏を -1 で表現するのがいいだろう。\n",
    "# それだと、ひっくり返すのは -1 を掛けるだけで済む。\n"
   ]
  },
  {
   "cell_type": "code",
   "execution_count": 28,
   "metadata": {},
   "outputs": [
    {
     "name": "stdout",
     "output_type": "stream",
     "text": [
      "\n",
      "triple の結果:[1, 8, 27, 64, 125]\n",
      "more3 の結果:[3, 4, 5]\n",
      "intersectionの結果:[2, 4]\n",
      "difference の結果: [6, 8, 10]\n",
      "reverse の結果: [4, 3, 2, 1, 0]\n",
      "reverse1 の結果: [4, 3, 2, 1, 0]\n",
      "\n"
     ]
    }
   ],
   "source": [
    "# ** 練習問題10 ** \n",
    "\n",
    "def triple(u):\n",
    "    ret = []\n",
    "    for a in u:\n",
    "        ret.append(a*a*a)\n",
    "    return(ret) \n",
    "\n",
    "def more3(u):\n",
    "    ret = []\n",
    "    for a in u:\n",
    "        if(a >= 3 ):\n",
    "            ret.append(a)\n",
    "    return(ret) \n",
    "\n",
    "def intersection(u,v):\n",
    "    ret = []\n",
    "    for a in u:\n",
    "        if(a in v):\n",
    "            ret.append(a)\n",
    "    return(ret)\n",
    "\n",
    "def difference(u,v):\n",
    "    ret = []\n",
    "    for a in u:\n",
    "        if(not(a in v)):\n",
    "            ret.append(a)\n",
    "    return(ret)\n",
    "\n",
    "def reverse(u):\n",
    "    ret = []\n",
    "    for a in u:\n",
    "        ret.insert(0,a)\n",
    "    return(ret)\n",
    "\n",
    "# 次のような書き方も考えられます。\n",
    "def reverse1(u):\n",
    "    n = len(u)\n",
    "    ret = []\n",
    "    for i in range(n):\n",
    "        ret.append(u[n-1-i])\n",
    "    return(ret) \n",
    "\n",
    "\n",
    "# ''' と ''' で囲んでも文字列が作れます。\n",
    "#''' を用いると文字列に改行を含むことができます。\n",
    "# それと、f による format を組み合わせて書いています。\n",
    "\n",
    "print(f'''\n",
    "triple の結果:{triple([1,2,3,4,5])}\n",
    "more3 の結果:{more3([1,2,3,4,5])}\n",
    "intersectionの結果:{intersection([2,4,6,8,10],[1,2,3,4,5])}\n",
    "difference の結果: {difference([2,4,6,8,10], [1,2,3,4,5])}\n",
    "reverse の結果: {reverse(range(5))}\n",
    "reverse1 の結果: {reverse1(range(5))}\n",
    "'''\n",
    ")\n"
   ]
  },
  {
   "cell_type": "code",
   "execution_count": 29,
   "metadata": {},
   "outputs": [
    {
     "data": {
      "text/plain": [
       "[0, 2, 4]"
      ]
     },
     "execution_count": 29,
     "metadata": {},
     "output_type": "execute_result"
    }
   ],
   "source": [
    "intersection(range(0,10,2),range(5))"
   ]
  },
  {
   "cell_type": "markdown",
   "metadata": {},
   "source": [
    "# map と filter"
   ]
  },
  {
   "cell_type": "code",
   "execution_count": 30,
   "metadata": {},
   "outputs": [
    {
     "name": "stdout",
     "output_type": "stream",
     "text": [
      "\n",
      "[0, 1, 4, 9, 16]\n",
      "[3, 4]\n",
      "[0, 2, 4]\n",
      "[1, 3]\n",
      "\n"
     ]
    }
   ],
   "source": [
    "# 練習問題20\n",
    "u = range(5)\n",
    "v = range(0,10,2)\n",
    "print(\n",
    "    f'''\n",
    "{list(map(lambda x: x*x, u))}\n",
    "{list(filter(lambda x: x >= 3, u))}\n",
    "{list(filter(lambda x: x in v, u))}\n",
    "{list(filter(lambda x: not(x in v), u))}\n",
    "''')\n"
   ]
  },
  {
   "cell_type": "code",
   "execution_count": 31,
   "metadata": {},
   "outputs": [
    {
     "name": "stdout",
     "output_type": "stream",
     "text": [
      "[0, 1, 4, 9, 16, 25, 36, 49, 64, 81]\n",
      "[25, 36, 49, 64, 81]\n"
     ]
    }
   ],
   "source": [
    "# 練習問題30\n",
    "def mymap(f, s):\n",
    "    r = []\n",
    "    for i in s:\n",
    "        r.append(f(i))\n",
    "    return r\n",
    "\n",
    "def myfilter(f, s):\n",
    "    r = []\n",
    "    for i in s:\n",
    "        if(f(i)):\n",
    "            r.append(i)\n",
    "    return r\n",
    "\n",
    "u = mymap(lambda x:x*x, range(10))\n",
    "print(u)\n",
    "v =myfilter(lambda x: x > 20, u)\n",
    "print(v)"
   ]
  },
  {
   "cell_type": "code",
   "execution_count": 32,
   "metadata": {},
   "outputs": [
    {
     "name": "stdout",
     "output_type": "stream",
     "text": [
      "\n",
      "[0, 1, 4, 9, 16]\n",
      "[3, 4]\n",
      "[0, 2, 4]\n",
      "[1, 3]\n",
      "\n"
     ]
    }
   ],
   "source": [
    "# 練習問題40\n",
    "u = range(5)\n",
    "v = range(0,10,2)\n",
    "print(f\"\"\"\n",
    "{[x*x for x in u]}\n",
    "{[x for x in u if x >= 3]}\n",
    "{[x for x in u if x in v]}\n",
    "{[x for x in u if not(x in v)]}\n",
    "\"\"\")"
   ]
  },
  {
   "cell_type": "markdown",
   "metadata": {},
   "source": [
    "# 練習問題"
   ]
  },
  {
   "cell_type": "code",
   "execution_count": 33,
   "metadata": {},
   "outputs": [
    {
     "data": {
      "text/plain": [
       "[[1, 2],\n",
       " [1, 3],\n",
       " [1, 2, 4],\n",
       " [1, 5],\n",
       " [1, 2, 3, 6],\n",
       " [1, 7],\n",
       " [1, 2, 4, 8],\n",
       " [1, 3, 9],\n",
       " [1, 2, 5, 10],\n",
       " [1, 11],\n",
       " [1, 2, 3, 4, 6, 12],\n",
       " [1, 13],\n",
       " [1, 2, 7, 14],\n",
       " [1, 3, 5, 15],\n",
       " [1, 2, 4, 8, 16],\n",
       " [1, 17],\n",
       " [1, 2, 3, 6, 9, 18],\n",
       " [1, 19],\n",
       " [1, 2, 4, 5, 10, 20],\n",
       " [1, 3, 7, 21],\n",
       " [1, 2, 11, 22],\n",
       " [1, 23],\n",
       " [1, 2, 3, 4, 6, 8, 12, 24],\n",
       " [1, 5, 25],\n",
       " [1, 2, 13, 26],\n",
       " [1, 3, 9, 27],\n",
       " [1, 2, 4, 7, 14, 28],\n",
       " [1, 29],\n",
       " [1, 2, 3, 5, 6, 10, 15, 30],\n",
       " [1, 31],\n",
       " [1, 2, 4, 8, 16, 32],\n",
       " [1, 3, 11, 33],\n",
       " [1, 2, 17, 34],\n",
       " [1, 5, 7, 35],\n",
       " [1, 2, 3, 4, 6, 9, 12, 18, 36],\n",
       " [1, 37],\n",
       " [1, 2, 19, 38],\n",
       " [1, 3, 13, 39],\n",
       " [1, 2, 4, 5, 8, 10, 20, 40],\n",
       " [1, 41],\n",
       " [1, 2, 3, 6, 7, 14, 21, 42],\n",
       " [1, 43],\n",
       " [1, 2, 4, 11, 22, 44],\n",
       " [1, 3, 5, 9, 15, 45],\n",
       " [1, 2, 23, 46],\n",
       " [1, 47],\n",
       " [1, 2, 3, 4, 6, 8, 12, 16, 24, 48],\n",
       " [1, 7, 49],\n",
       " [1, 2, 5, 10, 25, 50],\n",
       " [1, 3, 17, 51],\n",
       " [1, 2, 4, 13, 26, 52],\n",
       " [1, 53],\n",
       " [1, 2, 3, 6, 9, 18, 27, 54],\n",
       " [1, 5, 11, 55],\n",
       " [1, 2, 4, 7, 8, 14, 28, 56],\n",
       " [1, 3, 19, 57],\n",
       " [1, 2, 29, 58],\n",
       " [1, 59],\n",
       " [1, 2, 3, 4, 5, 6, 10, 12, 15, 20, 30, 60],\n",
       " [1, 61],\n",
       " [1, 2, 31, 62],\n",
       " [1, 3, 7, 9, 21, 63],\n",
       " [1, 2, 4, 8, 16, 32, 64],\n",
       " [1, 5, 13, 65],\n",
       " [1, 2, 3, 6, 11, 22, 33, 66],\n",
       " [1, 67],\n",
       " [1, 2, 4, 17, 34, 68],\n",
       " [1, 3, 23, 69],\n",
       " [1, 2, 5, 7, 10, 14, 35, 70],\n",
       " [1, 71],\n",
       " [1, 2, 3, 4, 6, 8, 9, 12, 18, 24, 36, 72],\n",
       " [1, 73],\n",
       " [1, 2, 37, 74],\n",
       " [1, 3, 5, 15, 25, 75],\n",
       " [1, 2, 4, 19, 38, 76],\n",
       " [1, 7, 11, 77],\n",
       " [1, 2, 3, 6, 13, 26, 39, 78],\n",
       " [1, 79],\n",
       " [1, 2, 4, 5, 8, 10, 16, 20, 40, 80],\n",
       " [1, 3, 9, 27, 81],\n",
       " [1, 2, 41, 82],\n",
       " [1, 83],\n",
       " [1, 2, 3, 4, 6, 7, 12, 14, 21, 28, 42, 84],\n",
       " [1, 5, 17, 85],\n",
       " [1, 2, 43, 86],\n",
       " [1, 3, 29, 87],\n",
       " [1, 2, 4, 8, 11, 22, 44, 88],\n",
       " [1, 89],\n",
       " [1, 2, 3, 5, 6, 9, 10, 15, 18, 30, 45, 90],\n",
       " [1, 7, 13, 91],\n",
       " [1, 2, 4, 23, 46, 92],\n",
       " [1, 3, 31, 93],\n",
       " [1, 2, 47, 94],\n",
       " [1, 5, 19, 95],\n",
       " [1, 2, 3, 4, 6, 8, 12, 16, 24, 32, 48, 96],\n",
       " [1, 97],\n",
       " [1, 2, 7, 14, 49, 98],\n",
       " [1, 3, 9, 11, 33, 99]]"
      ]
     },
     "execution_count": 33,
     "metadata": {},
     "output_type": "execute_result"
    }
   ],
   "source": [
    "# 練習問題60\n",
    "\n",
    "# いろんな書き方があります。もし，内胞表記を用いたら，次のようになります。\n",
    "def divs(x):\n",
    "    return [i for i in range(1,x+1) if x % i == 0 ]\n",
    "\n",
    "#list(map(lambda x:(divs(x)), range(2,100)))\n",
    "[divs(x) for x in range(2,100)]"
   ]
  },
  {
   "cell_type": "code",
   "execution_count": 34,
   "metadata": {},
   "outputs": [
    {
     "name": "stdout",
     "output_type": "stream",
     "text": [
      "[2, 2, 3, 2, 4, 2, 4, 3, 4, 2, 6, 2, 4, 4, 5, 2, 6, 2, 6, 4, 4, 2, 8, 3, 4, 4, 6, 2, 8, 2, 6, 4, 4, 4, 9, 2, 4, 4, 8, 2, 8, 2, 6, 6, 4, 2, 10, 3, 6, 4, 6, 2, 8, 4, 8, 4, 4, 2, 12, 2, 4, 6, 7, 4, 8, 2, 6, 4, 8, 2, 12, 2, 4, 6, 6, 4, 8, 2, 10, 5, 4, 2, 12, 4, 4, 4, 8, 2, 12, 4, 6, 4, 4, 4, 12, 2, 6, 6]\n"
     ]
    },
    {
     "ename": "ModuleNotFoundError",
     "evalue": "No module named 'matplotlib'",
     "output_type": "error",
     "traceback": [
      "\u001b[0;31m---------------------------------------------------------------------------\u001b[0m",
      "\u001b[0;31mModuleNotFoundError\u001b[0m                       Traceback (most recent call last)",
      "Cell \u001b[0;32mIn [34], line 10\u001b[0m\n\u001b[1;32m      7\u001b[0m \u001b[38;5;28;01mfor\u001b[39;00m i \u001b[38;5;129;01min\u001b[39;00m b:\n\u001b[1;32m      8\u001b[0m     c[i]\u001b[38;5;241m+\u001b[39m\u001b[38;5;241m=\u001b[39m \u001b[38;5;241m1\u001b[39m\n\u001b[0;32m---> 10\u001b[0m get_ipython()\u001b[38;5;241m.\u001b[39mrun_line_magic(\u001b[38;5;124m'\u001b[39m\u001b[38;5;124mmatplotlib\u001b[39m\u001b[38;5;124m'\u001b[39m, \u001b[38;5;124m'\u001b[39m\u001b[38;5;124minline\u001b[39m\u001b[38;5;124m'\u001b[39m)\n\u001b[1;32m     11\u001b[0m \u001b[38;5;28;01mimport\u001b[39;00m \u001b[38;5;21;01mmatplotlib\u001b[39;00m\u001b[38;5;21;01m.\u001b[39;00m\u001b[38;5;21;01mpyplot\u001b[39;00m \u001b[38;5;28;01mas\u001b[39;00m \u001b[38;5;21;01mplt\u001b[39;00m\n\u001b[1;32m     12\u001b[0m plt\u001b[38;5;241m.\u001b[39mplot(c)\n",
      "File \u001b[0;32m~/Library/Python/3.10/lib/python/site-packages/IPython/core/interactiveshell.py:2309\u001b[0m, in \u001b[0;36mInteractiveShell.run_line_magic\u001b[0;34m(self, magic_name, line, _stack_depth)\u001b[0m\n\u001b[1;32m   2307\u001b[0m     kwargs[\u001b[39m'\u001b[39m\u001b[39mlocal_ns\u001b[39m\u001b[39m'\u001b[39m] \u001b[39m=\u001b[39m \u001b[39mself\u001b[39m\u001b[39m.\u001b[39mget_local_scope(stack_depth)\n\u001b[1;32m   2308\u001b[0m \u001b[39mwith\u001b[39;00m \u001b[39mself\u001b[39m\u001b[39m.\u001b[39mbuiltin_trap:\n\u001b[0;32m-> 2309\u001b[0m     result \u001b[39m=\u001b[39m fn(\u001b[39m*\u001b[39;49margs, \u001b[39m*\u001b[39;49m\u001b[39m*\u001b[39;49mkwargs)\n\u001b[1;32m   2310\u001b[0m \u001b[39mreturn\u001b[39;00m result\n",
      "File \u001b[0;32m~/Library/Python/3.10/lib/python/site-packages/IPython/core/magics/pylab.py:99\u001b[0m, in \u001b[0;36mPylabMagics.matplotlib\u001b[0;34m(self, line)\u001b[0m\n\u001b[1;32m     97\u001b[0m     \u001b[39mprint\u001b[39m(\u001b[39m\"\u001b[39m\u001b[39mAvailable matplotlib backends: \u001b[39m\u001b[39m%s\u001b[39;00m\u001b[39m\"\u001b[39m \u001b[39m%\u001b[39m backends_list)\n\u001b[1;32m     98\u001b[0m \u001b[39melse\u001b[39;00m:\n\u001b[0;32m---> 99\u001b[0m     gui, backend \u001b[39m=\u001b[39m \u001b[39mself\u001b[39;49m\u001b[39m.\u001b[39;49mshell\u001b[39m.\u001b[39;49menable_matplotlib(args\u001b[39m.\u001b[39;49mgui\u001b[39m.\u001b[39;49mlower() \u001b[39mif\u001b[39;49;00m \u001b[39misinstance\u001b[39;49m(args\u001b[39m.\u001b[39;49mgui, \u001b[39mstr\u001b[39;49m) \u001b[39melse\u001b[39;49;00m args\u001b[39m.\u001b[39;49mgui)\n\u001b[1;32m    100\u001b[0m     \u001b[39mself\u001b[39m\u001b[39m.\u001b[39m_show_matplotlib_backend(args\u001b[39m.\u001b[39mgui, backend)\n",
      "File \u001b[0;32m~/Library/Python/3.10/lib/python/site-packages/IPython/core/interactiveshell.py:3458\u001b[0m, in \u001b[0;36mInteractiveShell.enable_matplotlib\u001b[0;34m(self, gui)\u001b[0m\n\u001b[1;32m   3437\u001b[0m \u001b[39mdef\u001b[39;00m \u001b[39menable_matplotlib\u001b[39m(\u001b[39mself\u001b[39m, gui\u001b[39m=\u001b[39m\u001b[39mNone\u001b[39;00m):\n\u001b[1;32m   3438\u001b[0m     \u001b[39m\"\"\"Enable interactive matplotlib and inline figure support.\u001b[39;00m\n\u001b[1;32m   3439\u001b[0m \n\u001b[1;32m   3440\u001b[0m \u001b[39m    This takes the following steps:\u001b[39;00m\n\u001b[0;32m   (...)\u001b[0m\n\u001b[1;32m   3456\u001b[0m \u001b[39m        display figures inline.\u001b[39;00m\n\u001b[1;32m   3457\u001b[0m \u001b[39m    \"\"\"\u001b[39;00m\n\u001b[0;32m-> 3458\u001b[0m     \u001b[39mfrom\u001b[39;00m \u001b[39mmatplotlib_inline\u001b[39;00m\u001b[39m.\u001b[39;00m\u001b[39mbackend_inline\u001b[39;00m \u001b[39mimport\u001b[39;00m configure_inline_support\n\u001b[1;32m   3460\u001b[0m     \u001b[39mfrom\u001b[39;00m \u001b[39mIPython\u001b[39;00m\u001b[39m.\u001b[39;00m\u001b[39mcore\u001b[39;00m \u001b[39mimport\u001b[39;00m pylabtools \u001b[39mas\u001b[39;00m pt\n\u001b[1;32m   3461\u001b[0m     gui, backend \u001b[39m=\u001b[39m pt\u001b[39m.\u001b[39mfind_gui_and_backend(gui, \u001b[39mself\u001b[39m\u001b[39m.\u001b[39mpylab_gui_select)\n",
      "File \u001b[0;32m~/Library/Python/3.10/lib/python/site-packages/matplotlib_inline/__init__.py:1\u001b[0m\n\u001b[0;32m----> 1\u001b[0m \u001b[39mfrom\u001b[39;00m \u001b[39m.\u001b[39;00m \u001b[39mimport\u001b[39;00m backend_inline, config  \u001b[39m# noqa\u001b[39;00m\n\u001b[1;32m      2\u001b[0m __version__ \u001b[39m=\u001b[39m \u001b[39m\"\u001b[39m\u001b[39m0.1.6\u001b[39m\u001b[39m\"\u001b[39m\n",
      "File \u001b[0;32m~/Library/Python/3.10/lib/python/site-packages/matplotlib_inline/backend_inline.py:6\u001b[0m\n\u001b[1;32m      1\u001b[0m \u001b[39m\"\"\"A matplotlib backend for publishing figures via display_data\"\"\"\u001b[39;00m\n\u001b[1;32m      3\u001b[0m \u001b[39m# Copyright (c) IPython Development Team.\u001b[39;00m\n\u001b[1;32m      4\u001b[0m \u001b[39m# Distributed under the terms of the BSD 3-Clause License.\u001b[39;00m\n\u001b[0;32m----> 6\u001b[0m \u001b[39mimport\u001b[39;00m \u001b[39mmatplotlib\u001b[39;00m\n\u001b[1;32m      7\u001b[0m \u001b[39mfrom\u001b[39;00m \u001b[39mmatplotlib\u001b[39;00m \u001b[39mimport\u001b[39;00m colors\n\u001b[1;32m      8\u001b[0m \u001b[39mfrom\u001b[39;00m \u001b[39mmatplotlib\u001b[39;00m\u001b[39m.\u001b[39;00m\u001b[39mbackends\u001b[39;00m \u001b[39mimport\u001b[39;00m backend_agg\n",
      "\u001b[0;31mModuleNotFoundError\u001b[0m: No module named 'matplotlib'"
     ]
    }
   ],
   "source": [
    "# 練習問題65\n",
    "b = [len(divs(x)) for x in range(2,100)]\n",
    "print(b)\n",
    "\n",
    "size = max(b)+1\n",
    "c = [0]*size\n",
    "for i in b:\n",
    "    c[i]+= 1\n",
    "    \n",
    "%matplotlib inline\n",
    "import matplotlib.pyplot as plt\n",
    "plt.plot(c)\n",
    "#plt.scatter(range(size), c)\n",
    "\n",
    "# 考察：\n",
    "# 2 のところが素数の個数に相当している。\n",
    "# 奇数のところは、二乗数だけなので、少ない。\n",
    "# 範囲を無限大にすると、0, 1 以外での値は無限大になるはず。\n",
    "# 範囲がある程度以上大きいところでは、4つ因数をもつ数が一番多そうだが、\n",
    "# それは、証明できることだろうか。"
   ]
  },
  {
   "cell_type": "code",
   "execution_count": null,
   "metadata": {},
   "outputs": [
    {
     "data": {
      "image/png": "[encoded data removed]",
      "text/plain": [
       "<Figure size 432x288 with 1 Axes>"
      ]
     },
     "metadata": {
      "needs_background": "light"
     },
     "output_type": "display_data"
    }
   ],
   "source": [
    "#別解：ライブラリ関数 collections.Counter を使ってしまおう。これは\n",
    "# 次回学ぶ、辞書オブジェクトを返す。\n",
    "import collections\n",
    "m = max(b)\n",
    "u = collections.Counter(b)\n",
    "%matplotlib inline\n",
    "import matplotlib.pyplot as plt\n",
    "for i in range(m+1):\n",
    "    plt.scatter(i, u[i])\n",
    "# plt.scatter(*zip(*u.items()))  \n",
    "# これはちょっと難しい。tuple, zip を習ってから考えてほしい。"
   ]
  },
  {
   "cell_type": "code",
   "execution_count": null,
   "metadata": {},
   "outputs": [
    {
     "data": {
      "text/plain": [
       "[6, 28, 496]"
      ]
     },
     "execution_count": 25,
     "metadata": {},
     "output_type": "execute_result"
    }
   ],
   "source": [
    "# 練習問題70\n",
    "def complete(i):\n",
    "    return (sum(divs(i)[:-1]) == i) # 最後の要素をぬく\n",
    "\n",
    "[i for i in range(1,1000) if complete(i)]"
   ]
  },
  {
   "cell_type": "code",
   "execution_count": null,
   "metadata": {},
   "outputs": [],
   "source": [
    "# 練習問題80\n",
    "%matplotlib inline\n",
    "import matplotlib.pyplot as plt\n",
    "\n",
    "def isprime(x):\n",
    "    return (len(divs(x)) == 2)\n",
    "\n",
    "primes = [i for i in range(2,10000) if isprime(i)]"
   ]
  },
  {
   "cell_type": "code",
   "execution_count": null,
   "metadata": {},
   "outputs": [
    {
     "data": {
      "text/plain": [
       "<matplotlib.collections.PathCollection at 0x7fcf61bb3670>"
      ]
     },
     "execution_count": 29,
     "metadata": {},
     "output_type": "execute_result"
    },
    {
     "data": {
      "image/png": "[encoded data removed]",
      "text/plain": [
       "<Figure size 432x288 with 1 Axes>"
      ]
     },
     "metadata": {
      "needs_background": "light"
     },
     "output_type": "display_data"
    }
   ],
   "source": [
    "plt.scatter(range(len(primes)),primes, s=0.01)"
   ]
  },
  {
   "cell_type": "code",
   "execution_count": null,
   "metadata": {},
   "outputs": [
    {
     "data": {
      "text/plain": [
       "<matplotlib.collections.PathCollection at 0x7fcf61dc4b20>"
      ]
     },
     "execution_count": 32,
     "metadata": {},
     "output_type": "execute_result"
    },
    {
     "data": {
      "image/png": "[encoded data removed]",
      "text/plain": [
       "<Figure size 432x288 with 1 Axes>"
      ]
     },
     "metadata": {
      "needs_background": "light"
     },
     "output_type": "display_data"
    }
   ],
   "source": [
    "#\n",
    "lessprimes = [len ([i for i in primes if i < k]) for k in range(10000)]\n",
    "plt.scatter(range(len(lessprimes)),lessprimes, s=0.01)\n",
    "\n",
    "# 素直に読めば，上記のようになるが，上のグラフの x, y を入れ替えると，\n",
    "# この意味になる。よって、次でもいいはず。\n",
    "plt.scatter(primes, range(len(primes)), s=0.01)"
   ]
  },
  {
   "cell_type": "code",
   "execution_count": null,
   "metadata": {},
   "outputs": [
    {
     "data": {
      "text/plain": [
       "2700"
      ]
     },
     "execution_count": 77,
     "metadata": {},
     "output_type": "execute_result"
    }
   ],
   "source": [
    "#練習問題 90\n",
    "\n",
    "def factorize(x):\n",
    "    ret = []\n",
    "    for p in primes:\n",
    "        c = 0\n",
    "        while(x % p == 0):\n",
    "            c += 1\n",
    "            x = x / p\n",
    "        ret.append(c)\n",
    "        if (x == 1):\n",
    "            return ret\n",
    "\n",
    "import math\n",
    "def defactrize(li):\n",
    "    return math.prod(map(lambda z : z[0] ** z[1], \n",
    "        zip(primes, li)))\n",
    "# zip は来週，習います\n"
   ]
  },
  {
   "cell_type": "code",
   "execution_count": null,
   "metadata": {},
   "outputs": [
    {
     "name": "stdout",
     "output_type": "stream",
     "text": [
      "78498\n",
      "[999863, 999883, 999907, 999917, 999931, 999953, 999959, 999961, 999979, 999983]\n"
     ]
    }
   ],
   "source": [
    "# 練習問題50\n",
    "import math\n",
    "MAX = 1000000\n",
    "x = list(range(MAX))\n",
    "x[1] = 0\n",
    "k = 0\n",
    "while(k < math.sqrt(MAX)):\n",
    "    if (x[k] != 0):\n",
    "        j = 2* k\n",
    "        while(j < MAX):\n",
    "            x[j] = 0\n",
    "            j = j + k\n",
    "    k += 1\n",
    "primes = [k for k in range(MAX) if x[k] != 0]\n",
    "print(len(primes))\n",
    "print(primes[len(primes)-10:])\n",
    "\n",
    "    \n"
   ]
  },
  {
   "cell_type": "code",
   "execution_count": null,
   "metadata": {},
   "outputs": [],
   "source": []
  },
  {
   "cell_type": "code",
   "execution_count": null,
   "metadata": {},
   "outputs": [],
   "source": [
    "import math"
   ]
  },
  {
   "cell_type": "code",
   "execution_count": null,
   "metadata": {},
   "outputs": [],
   "source": []
  }
 ],
 "metadata": {
  "kernelspec": {
   "display_name": "Python 3.10.7 64-bit",
   "language": "python",
   "name": "python3"
  },
  "language_info": {
   "codemirror_mode": {
    "name": "ipython",
    "version": 3
   },
   "file_extension": ".py",
   "mimetype": "text/x-python",
   "name": "python",
   "nbconvert_exporter": "python",
   "pygments_lexer": "ipython3",
   "version": "3.10.7"
  },
  "vscode": {
   "interpreter": {
    "hash": "44a9cdcbdccbf05a880e90d2e6fe72470baab4d1b82472d890be0596ed887a6b"
   }
  }
 },
 "nbformat": 4,
 "nbformat_minor": 4
}
