{
 "cells": [
  {
   "cell_type": "code",
   "execution_count": 4,
   "metadata": {},
   "outputs": [
    {
     "name": "stdout",
     "output_type": "stream",
     "text": [
      "p\n",
      "py\n",
      "pyt\n",
      "pyth\n",
      "pytho\n",
      "python\n",
      "python \n",
      "python p\n",
      "python py\n",
      "python pyt\n",
      "python pyth\n",
      "python pytho\n",
      "python python\n"
     ]
    }
   ],
   "source": [
    "# 練習問題3\n",
    "u = \"python python\"\n",
    "for i in range(1,len(u)+1):\n",
    "    print(u[0:i])\n",
    "    "
   ]
  },
  {
   "cell_type": "code",
   "execution_count": null,
   "metadata": {},
   "outputs": [],
   "source": [
    "# 練習問題 6"
   ]
  },
  {
   "cell_type": "code",
   "execution_count": 7,
   "metadata": {},
   "outputs": [
    {
     "name": "stdout",
     "output_type": "stream",
     "text": [
      "python python\n",
      " ython python\n",
      "  thon python\n",
      "   hon python\n",
      "    on python\n",
      "     n python\n",
      "       python\n",
      "       python\n",
      "        ython\n",
      "         thon\n",
      "          hon\n",
      "           on\n",
      "            n\n",
      "             \n"
     ]
    }
   ],
   "source": [
    "u = \"python python\"\n",
    "v = \" \"* len(u)\n",
    "for i in range(len(u)+1):\n",
    "    print(v[0:i], end=\"\")\n",
    "    print(u[i:])\n",
    "    "
   ]
  },
  {
   "cell_type": "code",
   "execution_count": 12,
   "metadata": {},
   "outputs": [
    {
     "name": "stdout",
     "output_type": "stream",
     "text": [
      "1\n",
      "1\n",
      "2\n",
      "3\n",
      "5\n",
      "8\n",
      "13\n",
      "21\n",
      "34\n",
      "55\n"
     ]
    }
   ],
   "source": [
    "def fib(n):\n",
    "    x,y = 1,1\n",
    "    for i in range(n):\n",
    "        print(x)\n",
    "        x,y = y, x+y\n",
    "fib(10)"
   ]
  },
  {
   "cell_type": "code",
   "execution_count": 17,
   "metadata": {},
   "outputs": [
    {
     "data": {
      "text/plain": [
       "[2, 3, 3, 3, 4, 4, 10]"
      ]
     },
     "execution_count": 17,
     "metadata": {},
     "output_type": "execute_result"
    }
   ],
   "source": [
    "# 練習問題10\n",
    "\n",
    "def findmax(x, n):   # 長さ n の範囲内の max の index を探す \n",
    "    u = 0  # max の index\n",
    "    for i in range(1,n):\n",
    "        if(x[u] < x[i]):\n",
    "            u = i\n",
    "    return(u) \n",
    "\n",
    "def sort1(x):\n",
    "    n = len(x)\n",
    "    while(n > 0):\n",
    "        u = findmax(x, n)\n",
    "        x[u], x[n-1] = x[n-1], x[u]\n",
    "        n = n - 1\n",
    "        \n",
    "#または，次のようにも書ける        \n",
    "def sort(x):\n",
    "    for n in range(len(x), 0, -1):\n",
    "        u = findmax(x, n)\n",
    "        x[u], x[n-1] = x[n-1], x[u]        \n",
    "\n",
    "        \n",
    "x = [10,4,2,3,4,3,3]\n",
    "sort(x)\n",
    "x\n"
   ]
  },
  {
   "cell_type": "code",
   "execution_count": 27,
   "metadata": {},
   "outputs": [
    {
     "data": {
      "text/plain": [
       "[6, 7, 8, 9, 10]"
      ]
     },
     "execution_count": 27,
     "metadata": {},
     "output_type": "execute_result"
    }
   ],
   "source": [
    "def bsort(x):\n",
    "    for n in range(len(x)-1,0,-1):\n",
    "        for i in range(n):\n",
    "            if(x[i] > x[i+1]):\n",
    "                x[i], x[i+1] = x[i+1], x[i]\n",
    "\n",
    "#x = [10,4,2,3,4,3,3]\n",
    "x = [10,9,8,7,6]\n",
    "bsort(x)\n",
    "x               \n",
    "                "
   ]
  },
  {
   "cell_type": "code",
   "execution_count": 75,
   "metadata": {},
   "outputs": [
    {
     "name": "stdout",
     "output_type": "stream",
     "text": [
      "[2, 0, 1]\n",
      "[(2, 2), (5, 1)]\n",
      "2700\n"
     ]
    }
   ],
   "source": [
    "# 練習問題 30\n",
    "\n",
    "primes = [2,3,5,7,11,13,17,19]\n",
    "\n",
    "def factorize(x):\n",
    "    ret = []\n",
    "    for p in primes:\n",
    "        i = 0\n",
    "        while(x % p == 0):\n",
    "            i = i+1\n",
    "            x = x / p\n",
    "        ret.append(i)\n",
    "        if(x == 1):\n",
    "            break\n",
    "    return ret\n",
    "\n",
    "\n",
    "def factorize2(x):\n",
    "    return [(i,j) for (i,j) in zip(primes, factorize(x)) if j > 0]\n",
    "    \n",
    "def prod(x):\n",
    "    z = 1\n",
    "    for i in x:\n",
    "        z = z * i\n",
    "    return z\n",
    "\n",
    "def defactorize(li):\n",
    "    return prod ([x**y for (x, y) in zip(primes, li)])\n",
    "\n",
    "print(factorize(20))\n",
    "print(factorize2(20))\n",
    "print(defactorize([2,3,2]))\n"
   ]
  },
  {
   "cell_type": "code",
   "execution_count": 29,
   "metadata": {},
   "outputs": [
    {
     "name": "stdout",
     "output_type": "stream",
     "text": [
      "[3, 4, 3, 12, 5, 1, 2, 3]\n",
      "[3, 1, -1, 9, -7, -4, 1, 1]\n",
      "[3, 4, 3, 12, 5, 1, 2, 3]\n"
     ]
    }
   ],
   "source": [
    "# 練習問題40\n",
    "\n",
    "def diff(x):\n",
    "    return [a - b for a, b in zip(x, [0]+x)]\n",
    "\n",
    "def rdiff(x):\n",
    "    ret = []\n",
    "    sum = 0\n",
    "    for u in x:\n",
    "        sum += u\n",
    "        ret.append(sum)\n",
    "    return ret\n",
    "\n",
    "u = [3,4,3,12,5,1,2,3]\n",
    "v = diff(u)\n",
    "w = rdiff(v)\n",
    "print(u)\n",
    "print(v)\n",
    "print(w)\n",
    "\n",
    "\n",
    "    \n",
    "    "
   ]
  },
  {
   "cell_type": "code",
   "execution_count": 77,
   "metadata": {},
   "outputs": [
    {
     "name": "stdout",
     "output_type": "stream",
     "text": [
      "{'python': 1, 'is': 1, 'a': 1, 'good': 1, 'programming': 2, 'language': 1, \"let's\": 1, 'enjoy': 1}\n"
     ]
    }
   ],
   "source": [
    "# 練習問題30\n",
    "\n",
    "import re\n",
    "def countwords(d, s):\n",
    "#    words = s.split()\n",
    "    words = re.split('[,.\\n ]', s)\n",
    "    for ww in words:\n",
    "        if (ww == \"\"):\n",
    "            continue\n",
    "        w = ww.lower()\n",
    "        if (ww in d):\n",
    "            d.update({w:d.get(w)+1})\n",
    "        else:\n",
    "            d.update({w:1})\n",
    "    return d\n",
    " \n",
    "d = dict()\n",
    "countwords(d, '''\n",
    "Python is a good programming language.\n",
    "Let's enjoy Python programming.\n",
    "''')\n",
    "print(d)\n"
   ]
  },
  {
   "cell_type": "code",
   "execution_count": 85,
   "metadata": {},
   "outputs": [
    {
     "data": {
      "text/plain": [
       "[('and', 192),\n",
       " ('of', 149),\n",
       " ('to', 127),\n",
       " ('is', 88),\n",
       " ('are', 57),\n",
       " ('2', 45),\n",
       " ('that', 40),\n",
       " ('be', 40),\n",
       " ('3', 39),\n",
       " ('in', 37),\n",
       " ('by', 35),\n",
       " ('a', 34),\n",
       " ('which', 34),\n",
       " ('or', 33),\n",
       " ('used', 30),\n",
       " ('code', 29),\n",
       " ('has', 28),\n",
       " ('0', 25),\n",
       " ('was', 23),\n",
       " ('can', 23),\n",
       " ('on', 22),\n",
       " ('also', 20),\n",
       " ('from', 20),\n",
       " ('use', 19),\n",
       " ('such', 19),\n",
       " ('than', 19),\n",
       " ('statement', 18),\n",
       " ('syntax', 16),\n",
       " ('division', 16),\n",
       " ('==', 16),\n",
       " ('standard', 15),\n",
       " ('x', 15),\n",
       " ('expressions', 14),\n",
       " ('object', 14),\n",
       " ('operator', 14),\n",
       " ('with', 13),\n",
       " ('written', 13),\n",
       " ('uses', 13),\n",
       " ('e', 12),\n",
       " ('5', 12),\n",
       " ('at', 12),\n",
       " ('=', 12),\n",
       " ('example', 12),\n",
       " ('types', 12),\n",
       " ('library', 11),\n",
       " ('7', 11),\n",
       " ('block', 11),\n",
       " ('g', 11),\n",
       " ('expression', 11),\n",
       " ('number', 11),\n",
       " ('including', 10),\n",
       " ('like', 10),\n",
       " ('but', 10),\n",
       " ('implementation', 10),\n",
       " ('software', 10),\n",
       " ('modules', 10),\n",
       " ('into', 10),\n",
       " ('released', 9),\n",
       " ('design', 9),\n",
       " ('features', 9),\n",
       " ('support', 9),\n",
       " ('name', 9),\n",
       " ('variable', 9),\n",
       " ('similar', 9),\n",
       " ('value', 9),\n",
       " ('if', 9),\n",
       " ('often', 8),\n",
       " ('as', 8),\n",
       " ('interpreter', 8),\n",
       " ('functions', 8),\n",
       " ('have', 8),\n",
       " ('type', 8),\n",
       " ('same', 8),\n",
       " ('function', 8),\n",
       " ('compiles', 8),\n",
       " ('philosophy', 7),\n",
       " ('multiple', 7),\n",
       " ('1', 7),\n",
       " ('will', 7),\n",
       " ('implementations', 7),\n",
       " ('releases', 7),\n",
       " ('include', 7),\n",
       " ('all', 7),\n",
       " ('applications', 7),\n",
       " ('while', 7),\n",
       " ('where', 7),\n",
       " ('indentation', 7),\n",
       " ('programs', 7),\n",
       " ('contain', 7),\n",
       " ('objects', 7),\n",
       " ('part', 7),\n",
       " ('b', 7),\n",
       " ('operators', 7),\n",
       " ('5)', 7),\n",
       " ('been', 7),\n",
       " ('first', 6),\n",
       " ('typed', 6),\n",
       " ('run', 6),\n",
       " ('release', 6),\n",
       " ('2018', 6)]"
      ]
     },
     "execution_count": 85,
     "metadata": {},
     "output_type": "execute_result"
    }
   ],
   "source": [
    "# 練習問題40\n",
    "\n",
    "data = open(\"wikipedia.txt\", \"r\")\n",
    "d = dict()\n",
    "for l in data:\n",
    "    countwords(d,l)\n",
    "\n",
    "result = sorted(d.items(), key=(lambda x:x[1]), reverse=True)\n",
    "result[:100]\n"
   ]
  },
  {
   "cell_type": "code",
   "execution_count": 92,
   "metadata": {},
   "outputs": [
    {
     "data": {
      "text/plain": [
       "[('and', 192),\n",
       " ('of', 149),\n",
       " ('to', 127),\n",
       " ('is', 88),\n",
       " ('are', 57),\n",
       " ('2', 45),\n",
       " ('be', 40),\n",
       " ('that', 40),\n",
       " ('3', 39),\n",
       " ('in', 37),\n",
       " ('by', 35),\n",
       " ('a', 34),\n",
       " ('which', 34),\n",
       " ('or', 33),\n",
       " ('used', 30),\n",
       " ('code', 29),\n",
       " ('has', 28),\n",
       " ('0', 25),\n",
       " ('can', 23),\n",
       " ('was', 23),\n",
       " ('on', 22),\n",
       " ('also', 20),\n",
       " ('from', 20),\n",
       " ('such', 19),\n",
       " ('than', 19),\n",
       " ('use', 19),\n",
       " ('statement', 18),\n",
       " ('==', 16),\n",
       " ('division', 16),\n",
       " ('syntax', 16),\n",
       " ('standard', 15),\n",
       " ('x', 15),\n",
       " ('expressions', 14),\n",
       " ('object', 14),\n",
       " ('operator', 14),\n",
       " ('uses', 13),\n",
       " ('with', 13),\n",
       " ('written', 13),\n",
       " ('5', 12),\n",
       " ('=', 12),\n",
       " ('at', 12),\n",
       " ('e', 12),\n",
       " ('example', 12),\n",
       " ('types', 12),\n",
       " ('7', 11),\n",
       " ('block', 11),\n",
       " ('expression', 11),\n",
       " ('g', 11),\n",
       " ('library', 11),\n",
       " ('number', 11),\n",
       " ('but', 10),\n",
       " ('implementation', 10),\n",
       " ('including', 10),\n",
       " ('into', 10),\n",
       " ('like', 10),\n",
       " ('modules', 10),\n",
       " ('software', 10),\n",
       " ('design', 9),\n",
       " ('features', 9),\n",
       " ('if', 9),\n",
       " ('name', 9),\n",
       " ('released', 9),\n",
       " ('similar', 9),\n",
       " ('support', 9),\n",
       " ('value', 9),\n",
       " ('variable', 9),\n",
       " ('as', 8),\n",
       " ('compiles', 8),\n",
       " ('function', 8),\n",
       " ('functions', 8),\n",
       " ('have', 8),\n",
       " ('interpreter', 8),\n",
       " ('often', 8),\n",
       " ('same', 8),\n",
       " ('type', 8),\n",
       " ('1', 7),\n",
       " ('5)', 7),\n",
       " ('all', 7),\n",
       " ('applications', 7),\n",
       " ('b', 7),\n",
       " ('been', 7),\n",
       " ('contain', 7),\n",
       " ('implementations', 7),\n",
       " ('include', 7),\n",
       " ('indentation', 7),\n",
       " ('multiple', 7),\n",
       " ('objects', 7),\n",
       " ('operators', 7),\n",
       " ('part', 7),\n",
       " ('philosophy', 7),\n",
       " ('programs', 7),\n",
       " ('releases', 7),\n",
       " ('where', 7),\n",
       " ('while', 7),\n",
       " ('will', 7),\n",
       " ('+', 6),\n",
       " ('2018', 6),\n",
       " ('allows', 6),\n",
       " ('available', 6),\n",
       " ('classes', 6)]"
      ]
     },
     "execution_count": 92,
     "metadata": {},
     "output_type": "execute_result"
    }
   ],
   "source": [
    "result = sorted(d.items(), key=(lambda x:(-x[1],x[0]))) \n",
    "result[:100]"
   ]
  },
  {
   "cell_type": "code",
   "execution_count": 79,
   "metadata": {},
   "outputs": [
    {
     "data": {
      "text/plain": [
       "list"
      ]
     },
     "execution_count": 79,
     "metadata": {},
     "output_type": "execute_result"
    }
   ],
   "source": []
  },
  {
   "cell_type": "code",
   "execution_count": null,
   "metadata": {},
   "outputs": [],
   "source": []
  }
 ],
 "metadata": {
  "kernelspec": {
   "display_name": "Python 3",
   "language": "python",
   "name": "python3"
  },
  "language_info": {
   "codemirror_mode": {
    "name": "ipython",
    "version": 3
   },
   "file_extension": ".py",
   "mimetype": "text/x-python",
   "name": "python",
   "nbconvert_exporter": "python",
   "pygments_lexer": "ipython3",
   "version": "3.6.4"
  }
 },
 "nbformat": 4,
 "nbformat_minor": 2
}
