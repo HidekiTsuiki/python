{
 "cells": [
  {
   "cell_type": "code",
   "execution_count": 10,
   "metadata": {},
   "outputs": [
    {
     "data": {
      "text/plain": [
       "8"
      ]
     },
     "execution_count": 10,
     "metadata": {},
     "output_type": "execute_result"
    }
   ],
   "source": [
    "# 練習問題2\n",
    "\n",
    "memo = 10000*[-1]\n",
    "memo[0] = memo[1] = 1\n",
    "\n",
    "def fib(n):\n",
    "    if(memo[n] != -1):\n",
    "        return memo[n]\n",
    "    memo[n] = fib(n-1)+fib(n-2)\n",
    "    return memo[n]\n",
    "\n",
    "fib(5)\n",
    "        "
   ]
  },
  {
   "cell_type": "code",
   "execution_count": 2,
   "metadata": {},
   "outputs": [
    {
     "data": {
      "text/plain": [
       "[2, 3, 5, 11]"
      ]
     },
     "execution_count": 2,
     "metadata": {},
     "output_type": "execute_result"
    }
   ],
   "source": [
    "#練習問題 5\n",
    "def factorize(n, k=2):\n",
    "    if(n == k):\n",
    "        return([k])\n",
    "    if(n % k == 0):\n",
    "        return [k]+factorize(n//k, k)\n",
    "    else:\n",
    "        return (factorize(n,k+1))\n",
    "\n",
    "factorize(330)                "
   ]
  },
  {
   "cell_type": "code",
   "execution_count": 14,
   "metadata": {},
   "outputs": [
    {
     "name": "stdout",
     "output_type": "stream",
     "text": [
      "1 を A から C に移動\n",
      "2 を A から B に移動\n",
      "1 を C から B に移動\n",
      "3 を A から C に移動\n",
      "1 を B から A に移動\n",
      "2 を B から C に移動\n",
      "1 を A から C に移動\n",
      "4 を A から B に移動\n",
      "1 を C から B に移動\n",
      "2 を C から A に移動\n",
      "1 を B から A に移動\n",
      "3 を C から B に移動\n",
      "1 を A から C に移動\n",
      "2 を A から B に移動\n",
      "1 を C から B に移動\n"
     ]
    }
   ],
   "source": [
    "# 練習問題 7\n",
    "def hanoi(n, x, y, z):\n",
    "    ''' n 段の円盤を x から y に z を用いて移動'''\n",
    "    if(n == 1):\n",
    "        print(f\"{n} を {x} から {y} に移動\")\n",
    "    else:\n",
    "        hanoi(n-1, x, z, y)\n",
    "        print(f\"{n} を {x} から {y} に移動\")\n",
    "        hanoi(n-1, z, y, x)\n",
    "\n",
    "hanoi(4, 'A', 'B', 'C' )        \n",
    "        "
   ]
  },
  {
   "cell_type": "code",
   "execution_count": 57,
   "metadata": {},
   "outputs": [
    {
     "name": "stdout",
     "output_type": "stream",
     "text": [
      "184756\n",
      "CPU times: user 70.5 ms, sys: 2.66 ms, total: 73.1 ms\n",
      "Wall time: 71.9 ms\n"
     ]
    }
   ],
   "source": [
    "# 練習問題10\n",
    "\n",
    "def combination(n,k):\n",
    "    if(n == 1 or k == 0 or n == k):\n",
    "        return 1\n",
    "    return(combination(n-1, k-1) + combination(n-1, k))\n",
    "\n",
    "%time print(combination(20,10))"
   ]
  },
  {
   "cell_type": "code",
   "execution_count": 62,
   "metadata": {},
   "outputs": [
    {
     "name": "stdout",
     "output_type": "stream",
     "text": [
      "4998813702034726525205100\n",
      "CPU times: user 1.77 ms, sys: 83 µs, total: 1.85 ms\n",
      "Wall time: 1.87 ms\n"
     ]
    }
   ],
   "source": [
    "# dynamic programming\n",
    "def combination2(n,k):\n",
    "    c = []\n",
    "    for i in range(n+1):\n",
    "        c.append((i+1) * [0])\n",
    "    c[1][1] = 1\n",
    "    for nn in range(1,n+1):\n",
    "        c[nn][0] = 1\n",
    "        c[nn][nn] = 1\n",
    "    \n",
    "    for nn in range(1,n+1):\n",
    "        for kk in range(1,nn):\n",
    "            c[nn][kk] = c[nn-1][kk-1] + c[nn-1][kk]\n",
    "    return(c[n][k])\n",
    "\n",
    "%time print(combination2(100,72))"
   ]
  },
  {
   "cell_type": "code",
   "execution_count": 61,
   "metadata": {},
   "outputs": [
    {
     "name": "stdout",
     "output_type": "stream",
     "text": [
      "4998813702034726525205100\n",
      "CPU times: user 1.75 ms, sys: 182 µs, total: 1.94 ms\n",
      "Wall time: 1.87 ms\n"
     ]
    }
   ],
   "source": [
    "# メモ再帰\n",
    "def combination3(n,k):\n",
    "    c = dict()  # 辞書だと、大きさを考える必要がなくて便利\n",
    "    for i in range(n+1):\n",
    "        c[(i,0)] = 1\n",
    "        c[(i,i)] = 1\n",
    "    def comb(n,k):\n",
    "        if (n,k) in c:\n",
    "            return c[(n,k)]\n",
    "        c[(n,k)] = comb(n-1, k-1) + comb(n-1, k)\n",
    "        return c[(n, k)]\n",
    "    return comb(n,k)\n",
    "\n",
    "%time print(combination3(100,72))"
   ]
  },
  {
   "cell_type": "code",
   "execution_count": 60,
   "metadata": {},
   "outputs": [
    {
     "data": {
      "text/plain": [
       "[[3, 4], [4, 2], [3, 2], [4, 1], [3, 1], [2, 1]]"
      ]
     },
     "execution_count": 60,
     "metadata": {},
     "output_type": "execute_result"
    }
   ],
   "source": [
    "def combinations(s, k):\n",
    "    if(len(s) <= k):\n",
    "        return ([s])\n",
    "    if(k == 0):\n",
    "        return ([[]])\n",
    "    u = []\n",
    "    a = s[0]\n",
    "    rest = s[1:]\n",
    "    return (combinations(rest, k) + \n",
    "            list(map(lambda r:r+[a], combinations(rest, k-1))))\n",
    "combinations([1,2,3,4],2)"
   ]
  },
  {
   "cell_type": "code",
   "execution_count": 71,
   "metadata": {},
   "outputs": [
    {
     "name": "stdout",
     "output_type": "stream",
     "text": [
      "2\n",
      "2\n"
     ]
    }
   ],
   "source": [
    "c = 1\n",
    "def bar():\n",
    "    global c\n",
    "    c = 2\n",
    "    print(c)\n",
    "bar()\n",
    "print(c)\n",
    "\n"
   ]
  },
  {
   "cell_type": "code",
   "execution_count": 4,
   "metadata": {},
   "outputs": [
    {
     "data": {
      "text/plain": [
       "[[3, 2, 1], [2, 3, 1], [3, 1, 2], [1, 3, 2], [2, 1, 3], [1, 2, 3]]"
      ]
     },
     "execution_count": 4,
     "metadata": {},
     "output_type": "execute_result"
    }
   ],
   "source": [
    "#練習問題20\n",
    "\n",
    "def permutations(s):\n",
    "    if(len(s) <= 1):\n",
    "        return ([s])\n",
    "    u = []\n",
    "    for i in s:\n",
    "        for a in permutations(delete(s, i)):\n",
    "            u.append(a + [i])\n",
    "    return u\n",
    "\n",
    "def delete(s,i):\n",
    "    return ([a for a in s if (a != i)])\n",
    "\n",
    "permutations([1,2,3])\n"
   ]
  },
  {
   "cell_type": "code",
   "execution_count": 5,
   "metadata": {},
   "outputs": [
    {
     "data": {
      "text/plain": [
       "[1, 2, 3, 4, 4, 5, 6, 7]"
      ]
     },
     "execution_count": 5,
     "metadata": {},
     "output_type": "execute_result"
    }
   ],
   "source": [
    "def msort(li):\n",
    "    l = len(li)\n",
    "    if(l <= 1):\n",
    "        return(li)\n",
    "    zenhan = li[:l//2]\n",
    "    kouhan = li[l//2:]\n",
    "    msort(zenhan)\n",
    "    msort(kouhan)\n",
    "    i,j,k = 0,0,0\n",
    "    while(k < l):\n",
    "        if(i >= l//2):\n",
    "            li[k] = kouhan[j]\n",
    "            j += 1\n",
    "            k += 1\n",
    "        elif (j >= l - l//2):\n",
    "            li[k] = zenhan[i]\n",
    "            i += 1\n",
    "            k += 1\n",
    "        elif(zenhan[i] < kouhan[j]):\n",
    "            li[k] = zenhan[i]\n",
    "            i += 1\n",
    "            k += 1\n",
    "        else:\n",
    "            li[k] = kouhan[j]\n",
    "            j += 1\n",
    "            k += 1\n",
    "\n",
    "li = [7,2,4,3,6,4,5,1]\n",
    "msort(li)\n",
    "li\n",
    "\n",
    "    "
   ]
  },
  {
   "cell_type": "code",
   "execution_count": 6,
   "metadata": {},
   "outputs": [
    {
     "data": {
      "text/plain": [
       "[1, 2, 3, 4, 4, 5, 6, 7]"
      ]
     },
     "execution_count": 6,
     "metadata": {},
     "output_type": "execute_result"
    }
   ],
   "source": [
    "#練習問題25\n",
    "#マージが面倒だが，最大の要素より大きな要素を後ろに加えておくと，長さの判断を省略できる\n",
    "\n",
    "def msort(li):\n",
    "\n",
    "    l = len(li)\n",
    "    if(l <= 1):\n",
    "        return(li)\n",
    "    zenhan = li[:l//2]\n",
    "    kouhan = li[l//2:]\n",
    "    msort(zenhan)\n",
    "    msort(kouhan)\n",
    "\n",
    "    g = max(li) + 1\n",
    "    zenhan.append(g)\n",
    "    kouhan.append(g)\n",
    "    i,j,k = 0,0,0\n",
    "    while(k < l):\n",
    "        if(zenhan[i] < kouhan[j]):\n",
    "            li[k] = zenhan[i]\n",
    "            i += 1\n",
    "            k += 1\n",
    "        else:\n",
    "            li[k] = kouhan[j]\n",
    "            j += 1\n",
    "            k += 1\n",
    "\n",
    "li = [7,2,4,3,6,4,5,1]\n",
    "msort(li)\n",
    "li\n",
    "    "
   ]
  },
  {
   "cell_type": "code",
   "execution_count": 7,
   "metadata": {},
   "outputs": [
    {
     "data": {
      "text/plain": [
       "[1, 2, 2, 3, 3, 3, 3, 4, 4, 4, 5, 10, 32, 56, 67]"
      ]
     },
     "execution_count": 7,
     "metadata": {},
     "output_type": "execute_result"
    }
   ],
   "source": [
    "#練習問題30\n",
    "\n",
    "def qsort(x):\n",
    "    if (len(x) <= 1):\n",
    "        return x\n",
    "    a = x[0]\n",
    "    return (qsort([u for u in x[1:] if (u < a)]) \n",
    "           + [a] \n",
    "           + qsort([u for u in x[1:] if (u >= a)]))\n",
    "    \n",
    "qsort([4,32,2, 10,4,5,3,4,3,3,2,56,3,67,1])"
   ]
  },
  {
   "cell_type": "code",
   "execution_count": 8,
   "metadata": {},
   "outputs": [
    {
     "data": {
      "text/plain": [
       "6"
      ]
     },
     "execution_count": 8,
     "metadata": {},
     "output_type": "execute_result"
    }
   ],
   "source": [
    "# 練習問題40\n",
    "\n",
    "def bsearch (p, f, b):\n",
    "    \"For monotonic f, binary search least n such that p <= f(n)  up to b\"\n",
    "    if (f(b) < p):\n",
    "        return b   # this means that no such n exists\n",
    "    return bsearchrange (p, f, 0, b)\n",
    "\n",
    "def bsearchrange (p, f, a, b):\n",
    "    if(b <= a+1):\n",
    "        return b\n",
    "    c = (a+b)//2\n",
    "    if (f(c) < p):\n",
    "        return (bsearchrange (p, f, c, b))\n",
    "    else:\n",
    "        return (bsearchrange (p, f, a, c))\n",
    "    \n",
    "bsearch (36, lambda n:n*n, 100)    \n"
   ]
  },
  {
   "cell_type": "code",
   "execution_count": 9,
   "metadata": {},
   "outputs": [],
   "source": [
    "#練習問題50 \n",
    "import math\n",
    "def pairnum(x, y):\n",
    "    return (x + y)* (x + y + 1)//2 + y\n",
    "\n",
    "def numpair(z):\n",
    "    kk = bsearch(z, lambda i:pairnum(i, 0)-1, z+1) - 1\n",
    "\n",
    "    r = pairnum(kk, 0)\n",
    "    y = z - r\n",
    "    x = (kk) - y\n",
    "    return (x, y)\n",
    "\n",
    "\n",
    "# [pairnum(*numpair(i))==i for i in range(100)]\n"
   ]
  },
  {
   "cell_type": "code",
   "execution_count": 13,
   "metadata": {},
   "outputs": [
    {
     "name": "stdout",
     "output_type": "stream",
     "text": [
      "874538376759138486454178497825532354953648621875082185205840868160180339334616959588272652219445069654438126182000716298005851532359753808756928792168069596388392648048964630461765678020229007340516362066403599448264137784280063200590754787911100928322763302149568724974512426997756726577303448559116770167032248891284812364283450252490454408674725867174082742792809825759075330672763633849607411952818076372318608391706327020237473270980572197127112426789159299275083349927639232883051013062086915699838948695079704151219456801801793019581017484616378767106442475476206436696588648504949786306837592030392327629455450409065006312505800484525605531472892978339418615476850512345030042510881820112914520751911756495463708614742984530092675404019618111361078469499662220976387538805152\n",
      "[1, 1, 1, 1, 1, 2, 1, 3, 1, 1, 1, 1]\n"
     ]
    }
   ],
   "source": [
    "# 練習問題60\n",
    "\n",
    "def listnum(u):  #u:list\n",
    "    if (u==[]):\n",
    "        return 0\n",
    "    else:\n",
    "        return pairnum(u[0], listnum(u[1:]))+ 1\n",
    "\n",
    "def numlist(n):\n",
    "    if(n == 0):\n",
    "        return []\n",
    "    else:\n",
    "        (a, b) = numpair(n - 1)\n",
    "        return([a] + numlist(b))\n",
    "\n",
    "    \n",
    "k = listnum([1,2,3])\n",
    "k = listnum([1,1,1,1,1,2,1,3,1,1,1,1])\n",
    "print(k)\n",
    "print(numlist(k))\n"
   ]
  },
  {
   "cell_type": "markdown",
   "metadata": {},
   "source": [
    "ところで、このプログラムでは、ここら辺が限界で、もっと大きなリストをエンコードしようとしても、bsearchのところでの再帰呼び出しが深くなりすぎて、エラーを生じてしまう。\n",
    "numpair に関しては、次が知られている。\n",
    "```\n",
    "# (wikipedia 「対関数」参照)\n",
    "import math\n",
    "def numpair(z):\n",
    "    w = (int)((math.sqrt(8*z+1)-1)//2)\n",
    "    t = (w*w+w)//2\n",
    "    y = z-t\n",
    "    x = w-y\n",
    "    return(x,y)\n",
    "```\n",
    "これで行えば2分探索の必要はなくなるが、今度は、math.sqrt が, 浮動小数点で扱えるより大きな引数が与えられてエラーをいう。(その前に、大きな数を浮動小数点にした時に誤差が生じる。）それを防ぐには、整数範囲内でのルート計算を行わないといけない。それは、ニュートン法でできる。\n",
    "\n",
    "ニュートン法を整数範囲内のルート計算に書き直し、それを用いて、さらに長いリストのエンコードを行おう。\n"
   ]
  },
  {
   "cell_type": "code",
   "execution_count": null,
   "metadata": {},
   "outputs": [],
   "source": []
  },
  {
   "cell_type": "code",
   "execution_count": null,
   "metadata": {},
   "outputs": [],
   "source": []
  }
 ],
 "metadata": {
  "kernelspec": {
   "display_name": "Python 3",
   "language": "python",
   "name": "python3"
  },
  "language_info": {
   "codemirror_mode": {
    "name": "ipython",
    "version": 3
   },
   "file_extension": ".py",
   "mimetype": "text/x-python",
   "name": "python",
   "nbconvert_exporter": "python",
   "pygments_lexer": "ipython3",
   "version": "3.7.11"
  }
 },
 "nbformat": 4,
 "nbformat_minor": 4
}
