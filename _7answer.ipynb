{
 "cells": [
  {
   "cell_type": "code",
   "execution_count": 1,
   "metadata": {},
   "outputs": [
    {
     "ename": "NameError",
     "evalue": "name 'np' is not defined",
     "output_type": "error",
     "traceback": [
      "\u001b[0;31m---------------------------------------------------------------------------\u001b[0m",
      "\u001b[0;31mNameError\u001b[0m                                 Traceback (most recent call last)",
      "\u001b[0;32m/var/folders/s1/nr2mj2351891wp97qz7215lc0000gn/T/ipykernel_52379/2798493554.py\u001b[0m in \u001b[0;36m<module>\u001b[0;34m\u001b[0m\n\u001b[1;32m     14\u001b[0m     \u001b[0;32mreturn\u001b[0m \u001b[0mz\u001b[0m\u001b[0;34m\u001b[0m\u001b[0;34m\u001b[0m\u001b[0m\n\u001b[1;32m     15\u001b[0m \u001b[0;34m\u001b[0m\u001b[0m\n\u001b[0;32m---> 16\u001b[0;31m \u001b[0mx\u001b[0m \u001b[0;34m=\u001b[0m \u001b[0mnp\u001b[0m\u001b[0;34m.\u001b[0m\u001b[0mrandom\u001b[0m\u001b[0;34m.\u001b[0m\u001b[0mrandom\u001b[0m\u001b[0;34m(\u001b[0m\u001b[0;34m[\u001b[0m\u001b[0;36m3\u001b[0m\u001b[0;34m,\u001b[0m\u001b[0;36m4\u001b[0m\u001b[0;34m]\u001b[0m\u001b[0;34m)\u001b[0m\u001b[0;34m\u001b[0m\u001b[0;34m\u001b[0m\u001b[0m\n\u001b[0m\u001b[1;32m     17\u001b[0m \u001b[0my\u001b[0m \u001b[0;34m=\u001b[0m \u001b[0mnp\u001b[0m\u001b[0;34m.\u001b[0m\u001b[0mrandom\u001b[0m\u001b[0;34m.\u001b[0m\u001b[0mrandom\u001b[0m\u001b[0;34m(\u001b[0m\u001b[0;34m[\u001b[0m\u001b[0;36m4\u001b[0m\u001b[0;34m,\u001b[0m\u001b[0;36m5\u001b[0m\u001b[0;34m]\u001b[0m\u001b[0;34m)\u001b[0m\u001b[0;34m\u001b[0m\u001b[0;34m\u001b[0m\u001b[0m\n\u001b[1;32m     18\u001b[0m \u001b[0mprint\u001b[0m\u001b[0;34m(\u001b[0m\u001b[0mprod\u001b[0m\u001b[0;34m(\u001b[0m\u001b[0mx\u001b[0m\u001b[0;34m,\u001b[0m\u001b[0my\u001b[0m\u001b[0;34m)\u001b[0m\u001b[0;34m)\u001b[0m\u001b[0;34m\u001b[0m\u001b[0;34m\u001b[0m\u001b[0m\n",
      "\u001b[0;31mNameError\u001b[0m: name 'np' is not defined"
     ]
    }
   ],
   "source": [
    "def prod(x, y):\n",
    "    '''行列 x, y の積を計算して返す'''\n",
    "    (n1,m1) = x.shape\n",
    "    (n2,m2) = y.shape\n",
    "    if(m1 != n2):\n",
    "        return None\n",
    "    z = np.zeros(shape=(n1, m2))\n",
    "    for i in range(n1):\n",
    "        for j in range(m2):\n",
    "            u = 0\n",
    "            for k in range(m1):\n",
    "                u += x[i,k] * y[k,j]\n",
    "            z[i,j] = u\n",
    "    return z\n",
    "\n",
    "x = np.random.random([3,4])            \n",
    "y = np.random.random([4,5])\n",
    "print(prod(x,y))\n",
    "print(x@y)\n"
   ]
  },
  {
   "cell_type": "code",
   "execution_count": 3,
   "metadata": {},
   "outputs": [],
   "source": [
    "import numpy as np\n",
    "a = np.reshape(range(11,20),(3,3))"
   ]
  },
  {
   "cell_type": "code",
   "execution_count": 4,
   "metadata": {},
   "outputs": [
    {
     "data": {
      "text/plain": [
       "-5.8972434778618435e-15"
      ]
     },
     "execution_count": 4,
     "metadata": {},
     "output_type": "execute_result"
    }
   ],
   "source": [
    "np.linalg.det(a)"
   ]
  },
  {
   "cell_type": "code",
   "execution_count": 9,
   "metadata": {},
   "outputs": [],
   "source": [
    "# 練習問題 30\n",
    "def mydet (a):\n",
    "    n,m = a.shape\n",
    "    if(n==1 or m == 1):\n",
    "        return(a[0][0])\n",
    "    u = a[:,1:]\n",
    "    return (sum ([((-1)**k)*a[k,0]*mydet(np.delete(u,k,0)) \n",
    "                  for k in range(n)]))       "
   ]
  },
  {
   "cell_type": "code",
   "execution_count": 14,
   "metadata": {},
   "outputs": [
    {
     "name": "stdout",
     "output_type": "stream",
     "text": [
      "0.0018072161079971637\n",
      "CPU times: user 4.11 s, sys: 33.6 ms, total: 4.14 s\n",
      "Wall time: 4.12 s\n",
      "0.0018072161079971658\n",
      "CPU times: user 61 µs, sys: 3 µs, total: 64 µs\n",
      "Wall time: 66 µs\n"
     ]
    }
   ],
   "source": [
    "# こうやって組んだのは，非常に遅い。ライブラリは C で組んであるので比べ物にならないくらい早い。\n",
    "# python　は，ちょっとしたプログラムを試しに作る以外では，重要な処理はライブラリとして\n",
    "# C 言語など組み，それを呼び出す形で処理を書くフロントエンドとしての利用が期待されている。\n",
    "\n",
    "u=np.random.random([9,9])\n",
    "%time print(mydet(u))\n",
    "%time print(np.linalg.det(u))"
   ]
  },
  {
   "cell_type": "code",
   "execution_count": null,
   "metadata": {},
   "outputs": [],
   "source": []
  }
 ],
 "metadata": {
  "kernelspec": {
   "display_name": "Python 3.8.12",
   "language": "python",
   "name": "python3"
  },
  "language_info": {
   "codemirror_mode": {
    "name": "ipython",
    "version": 3
   },
   "file_extension": ".py",
   "mimetype": "text/x-python",
   "name": "python",
   "nbconvert_exporter": "python",
   "pygments_lexer": "ipython3",
   "version": "3.8.12"
  },
  "vscode": {
   "interpreter": {
    "hash": "47d84ca93b507e41a4afb9ff6f89a9563e5e77c88ddfb43ca0f3894d519d995e"
   }
  }
 },
 "nbformat": 4,
 "nbformat_minor": 2
}
