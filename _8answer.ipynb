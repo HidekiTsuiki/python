{
 "cells": [
  {
   "cell_type": "code",
   "execution_count": 15,
   "metadata": {},
   "outputs": [
    {
     "data": {
      "application/vnd.jupyter.widget-view+json": {
       "model_id": "cb60a1aad99e432ea58877089d52403e",
       "version_major": 2,
       "version_minor": 0
      },
      "text/plain": [
       "interactive(children=(IntSlider(value=10, description='i', max=20), Output()), _dom_classes=('widget-interact'…"
      ]
     },
     "metadata": {},
     "output_type": "display_data"
    }
   ],
   "source": [
    "# 練習問題10\n",
    "\n",
    "%matplotlib inline\n",
    "from ipywidgets import interactive\n",
    "import numpy as np\n",
    "import matplotlib.pyplot as plt\n",
    "import math\n",
    "\n",
    "def sin(x):\n",
    "    return math.sin(x)\n",
    "\n",
    "def d0sin(n):\n",
    "    if(n % 2 == 0):\n",
    "        return 0\n",
    "    return (-1)**(n // 2)\n",
    "\n",
    "def taylorsin(n,x):\n",
    "    return sum([d0sin(i)*(x**i)/math.factorial(i) for i in range(n)])\n",
    "\n",
    "def taylorsingraph(i):\n",
    "    x = np.linspace(-10, 10, 1000)\n",
    "    plt.axis([-10,10,-2,2.0])\n",
    "    y = [sin(z) for z in x]\n",
    "    plt.plot(x, y)\n",
    "    y = [taylorsin(i, z) for z in x] \n",
    "    plt.plot(x, y)\n",
    "    plt.show()\n",
    "\n",
    "interactive(taylorsingraph, i=(0,20,1))\n",
    "#    taylorsingraph(3)"
   ]
  },
  {
   "cell_type": "code",
   "execution_count": 12,
   "metadata": {},
   "outputs": [
    {
     "data": {
      "application/vnd.jupyter.widget-view+json": {
       "model_id": "8745555dc05747f7bceed0849eb71aec",
       "version_major": 2,
       "version_minor": 0
      },
      "text/plain": [
       "interactive(children=(Dropdown(description='fname', options=('sin', 'logp1'), value='sin'), IntSlider(value=10…"
      ]
     },
     "metadata": {},
     "output_type": "display_data"
    }
   ],
   "source": [
    "def logp1(x):\n",
    "    return math.log(x+1)\n",
    "\n",
    "def d0logp1(n):\n",
    "    if(n == 0): \n",
    "        return 0\n",
    "    return math.factorial(n-1)*((-1)**(n+1))\n",
    "\n",
    "def taylor(fun,n,x):\n",
    "    return sum([fun(i)*(x**i)/math.factorial(i) for i in range(n)])\n",
    "\n",
    "funs = dict()\n",
    "funs['sin'] = (sin, d0sin, -10, 10, -2, 2)\n",
    "funs['logp1'] = (logp1, d0logp1, -0.9, 10, -2, 2)\n",
    "\n",
    "def taylorgraph(fname,i):\n",
    "    (f, df, min, max, ymin, ymax) = funs[fname]\n",
    "    x = np.linspace(min, max, 1000)\n",
    "    plt.axis([min,max,ymin,ymax])\n",
    "    y = [f(z) for z in x]\n",
    "    plt.plot(x, y)\n",
    "    y = [taylor(df, i, z) for z in x] \n",
    "    plt.plot(x, y, label=fname+\" \" + str(i))\n",
    "    plt.legend(loc='lower right')\n",
    "    plt.show()\n",
    "\n",
    "interactive(taylorgraph, fname=(['sin', 'logp1']), i=(0,20,1))\n"
   ]
  },
  {
   "cell_type": "code",
   "execution_count": 20,
   "metadata": {},
   "outputs": [
    {
     "data": {
      "application/vnd.jupyter.widget-view+json": {
       "model_id": "7bcfd5704dec4aa8934109f6848746fb",
       "version_major": 2,
       "version_minor": 0
      },
      "text/plain": [
       "interactive(children=(IntSlider(value=10, description='i', max=20), FloatSlider(value=-0.08318530717958605, de…"
      ]
     },
     "metadata": {},
     "output_type": "display_data"
    }
   ],
   "source": [
    "# 練習問題21\n",
    "# sin(x-a) に対して行う。a の値を動かせるようにする。\n",
    "\n",
    "%matplotlib inline\n",
    "import numpy as np\n",
    "import matplotlib.pyplot as plt\n",
    "import math\n",
    "\n",
    "a = 0\n",
    "def sin(x):\n",
    "    return math.sin(x+a)\n",
    "\n",
    "def d0sin(n):\n",
    "    if(n % 2 == 0):\n",
    "        return (-1)**(n//2)*math.sin(a)\n",
    "    return (-1)**(n//2)*math.cos(a)\n",
    "\n",
    "def taylorsin(n,x):\n",
    "    return sum([d0sin(i)*(x**i)/math.factorial(i) for i in range(n)])\n",
    "\n",
    "def taylorsingraph(i,a1):\n",
    "    global a;\n",
    "    a = a1;\n",
    "    x = np.linspace(-10, 10, 1000)\n",
    "    fig = plt.figure()\n",
    "    ax = fig.add_subplot(1,1,1)\n",
    "    ax.grid()\n",
    "    ax.axis([-10,10,-5,5.0])\n",
    "    y = [sin(z) for z in x]\n",
    "    ax.plot(x, y, label=f\"sin(x-{a})\")\n",
    "    y = [taylorsin(i, z) for z in x] \n",
    "    ax.plot(x, y)\n",
    "    ax.legend(loc='upper left')\n",
    "    for d in ['bottom', 'left']:\n",
    "        ax.spines[d].set_position(('data', 0));\n",
    "    plt.show();\n",
    "\n",
    "interactive(taylorsingraph, i=(0,20,1), a1=(-2*math.pi, 2*math.pi, 0.1))\n"
   ]
  },
  {
   "cell_type": "code",
   "execution_count": 16,
   "metadata": {},
   "outputs": [
    {
     "data": {
      "image/png": "[encoded data removed]",
      "text/plain": [
       "<Figure size 432x288 with 1 Axes>"
      ]
     },
     "metadata": {
      "needs_background": "light"
     },
     "output_type": "display_data"
    }
   ],
   "source": [
    "# 練習問題30\n",
    "%matplotlib inline\n",
    "import matplotlib.pyplot as plt\n",
    "import math\n",
    "\n",
    "def oscillation():\n",
    "    t = 0\n",
    "    x = 1\n",
    "    y = 0\n",
    "    delta = 0.1 # この値を変えてみよう\n",
    "    timeline = []\n",
    "    ix = []\n",
    "    iy = []\n",
    "    for n in range(100):\n",
    "        ix.append(x)\n",
    "        iy.append(y)\n",
    "        timeline.append(t)\n",
    "        x, y = x + y * delta, y - x * delta\n",
    "        t = t + delta\n",
    "    plt.plot(timeline, ix)\n",
    "\n",
    "    y = [math.cos(t) for t in timeline]\n",
    "    plt.plot(timeline, y)\n",
    "    plt.show\n",
    "    \n",
    "oscillation()    "
   ]
  },
  {
   "cell_type": "code",
   "execution_count": 3,
   "metadata": {},
   "outputs": [],
   "source": [
    "# 練習問題40\n",
    "%matplotlib tk\n",
    "import matplotlib.pyplot as plt\n",
    "import math\n",
    "from mpl_toolkits.mplot3d import Axes3D\n",
    "\n",
    "def Lorenz():\n",
    "    fig = plt.figure()\n",
    "    ax = fig.add_subplot(1,1,1, projection='3d')\n",
    "    \n",
    "    p, r, b = 10, 28, 8/3\n",
    "    x, y, z, t = 1, 1, 1, 0 \n",
    "    delta = 0.01\n",
    "    ix, iy, iz = [], [], []\n",
    "\n",
    "    for n in range(4000):\n",
    "        ix.append(x)\n",
    "        iy.append(y)\n",
    "        iz.append(z)\n",
    "        x, y, z = x + (-p*x + p*y) * delta, \\\n",
    "                  y + (-x*z + r*x -y) * delta, \\\n",
    "                  z + (x*y - b*z) * delta\n",
    "    ax.plot(ix, iy, iz)\n",
    "    plt.show()\n",
    "    \n",
    "    \n",
    "Lorenz()\n"
   ]
  },
  {
   "cell_type": "code",
   "execution_count": 2,
   "metadata": {},
   "outputs": [],
   "source": [
    "# ルンゲクッタ法，\n",
    "def rk(f, t, y, h):\n",
    "    '''ルンゲクッタ法。f に微分方程式，y に現在値，h に時間の差分を与える。\n",
    "    h 時間後の y の新しい値を返す。 y は，ndarray のベクトル値でも可'''\n",
    "    k1 = f(t, y)\n",
    "    k2 = f(t + h/2, y + k1*h/2)\n",
    "    k3 = f(t + h/2, y + k2*h/2)\n",
    "    k4 = f(t+h, y + k3*h)\n",
    "    newy = y + (k1 + 2*k2 + 2*k3 + k4)*h/6\n",
    "    newt = t + h\n",
    "#    newy = y + f(t,y)*h\n",
    "    return newy"
   ]
  },
  {
   "cell_type": "code",
   "execution_count": 3,
   "metadata": {},
   "outputs": [],
   "source": [
    "# 練習問題40\n",
    "%matplotlib tk\n",
    "import matplotlib.pyplot as plt\n",
    "import numpy as np\n",
    "import math\n",
    "from mpl_toolkits.mplot3d import Axes3D\n",
    "'''ルンゲクッタ法で，ローレンツ・アトラクタを描画'''\n",
    "ax = plt.subplot(111, projection='3d')\n",
    "\n",
    "p, r, b = 10, 28, 8/3\n",
    "t = 0\n",
    "v = np.array([1,1,1])\n",
    "delta = 0.01\n",
    "def lor(t, v):\n",
    "    '''微分方程式。v には，ndarray を与え，ndarray を返す'''\n",
    "    (x,y,z) = (v[0], v[1], v[2])\n",
    "    return(np.array([(-p*x + p*y), \\\n",
    "              (-x*z + r*x -y), \\\n",
    "              (x*y - b*z)]))\n",
    "\n",
    "ix, iy, iz = [], [], []\n",
    "\n",
    "for n in range(5000):\n",
    "    ix.append(v[0])\n",
    "    iy.append(v[1])\n",
    "    iz.append(v[2])\n",
    "    v = rk(lor, t, v, delta) \n",
    "    t = t + delta\n",
    "\n",
    "ax.plot(ix, iy, iz)\n",
    "\n",
    "plt.show()"
   ]
  },
  {
   "cell_type": "code",
   "execution_count": null,
   "metadata": {},
   "outputs": [],
   "source": []
  },
  {
   "cell_type": "code",
   "execution_count": null,
   "metadata": {},
   "outputs": [],
   "source": []
  }
 ],
 "metadata": {
  "kernelspec": {
   "display_name": "Python 3 (ipykernel)",
   "language": "python",
   "name": "python3"
  },
  "language_info": {
   "codemirror_mode": {
    "name": "ipython",
    "version": 3
   },
   "file_extension": ".py",
   "mimetype": "text/x-python",
   "name": "python",
   "nbconvert_exporter": "python",
   "pygments_lexer": "ipython3",
   "version": "3.9.7"
  }
 },
 "nbformat": 4,
 "nbformat_minor": 4
}
