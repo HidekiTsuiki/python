{
 "cells": [
  {
   "cell_type": "code",
   "execution_count": 17,
   "metadata": {},
   "outputs": [
    {
     "name": "stdout",
     "output_type": "stream",
     "text": [
      "<function Taylor.graph at 0x12e64d900>\n"
     ]
    },
    {
     "data": {
      "application/vnd.jupyter.widget-view+json": {
       "model_id": "e033695b97794bbfba2db67ccd454aea",
       "version_major": 2,
       "version_minor": 0
      },
      "text/plain": [
       "interactive(children=(IntSlider(value=5, description='n', max=10), FloatSlider(value=-0.08318530717958605, des…"
      ]
     },
     "metadata": {},
     "output_type": "display_data"
    }
   ],
   "source": [
    "#練習問題1\n",
    "%matplotlib inline\n",
    "import numpy as np\n",
    "import matplotlib.pyplot as plt\n",
    "import math\n",
    "\n",
    "from ipywidgets import interact\n",
    "\n",
    "class Taylor:\n",
    "    def __init__(self, aa, bb):\n",
    "        self.a = aa;\n",
    "        self.b = bb;\n",
    "        self.area = [-10,10,-2*aa,2*aa]\n",
    "    def fun(self, x):\n",
    "        return self.a * math.sin(x - self.b)\n",
    "\n",
    "    def d0(self, n):\n",
    "        if(n % 4 == 0):\n",
    "            return self.a * math.sin(0-self.b);\n",
    "        if(n % 4 == 1):\n",
    "            return self.a * math.cos(0-self.b);\n",
    "        elif (n % 4 == 2):\n",
    "            return -self.a * math.sin(0-self.b);\n",
    "        elif (n % 4 == 3):\n",
    "            return -self.a * math.cos(0-self.b);\n",
    "\n",
    "\n",
    "    def taylor(self, n,x):\n",
    "        return sum([self.d0(i)*(x**i)/math.factorial(i) for i in range(n)])\n",
    "\n",
    "    def graph(self, n,bb):\n",
    "        self.b = bb\n",
    "        x = np.linspace(-10, 10, 1000)\n",
    "        plt.axis(self.area)\n",
    "        y = [self.fun(z) for z in x]\n",
    "        plt.plot(x, y)\n",
    "        for i in range(n):\n",
    "            y = [self.taylor(i, z) for z in x] \n",
    "            plt.plot(x, y)\n",
    "        plt.show()\n",
    "    def start(self):\n",
    "        interact(self.graph, n=(0,10,1), bb=(-math.pi*2, math.pi*2, 0.1))\n",
    "\n",
    "taylorsin = Taylor(2, 50);\n",
    "print(Taylor.graph)\n",
    "taylorsin.start()\n",
    "#taylorsin.graph(10, 200)"
   ]
  },
  {
   "cell_type": "code",
   "execution_count": 18,
   "metadata": {},
   "outputs": [
    {
     "data": {
      "application/vnd.jupyter.widget-view+json": {
       "model_id": "fe23d203e8004350b6351776ee7f0b12",
       "version_major": 2,
       "version_minor": 0
      },
      "text/plain": [
       "interactive(children=(IntSlider(value=15, description='i', max=30), Output()), _dom_classes=('widget-interact'…"
      ]
     },
     "metadata": {},
     "output_type": "display_data"
    },
    {
     "data": {
      "text/plain": [
       "<function ipywidgets.widgets.interaction._InteractFactory.__call__.<locals>.<lambda>(*args, **kwargs)>"
      ]
     },
     "execution_count": 18,
     "metadata": {},
     "output_type": "execute_result"
    }
   ],
   "source": [
    "#練習問題2\n",
    "%matplotlib inline\n",
    "import numpy as np\n",
    "import matplotlib.pyplot as plt\n",
    "import math\n",
    "\n",
    "class Taylor:\n",
    "\n",
    "    def taylor(self, n,x):\n",
    "        return sum([self.d0(i)*(x**i)/math.factorial(i) for i in range(n)])\n",
    "\n",
    "    def graph(self, i):\n",
    "        x = np.linspace(self.area[0], self.area[1], 1000)\n",
    "        plt.axis(self.area)\n",
    "        y = [self.fun(z) for z in x]\n",
    "        plt.plot(x, y)\n",
    "\n",
    "#        for i in range(n):\n",
    "        y = [self.taylor(i, z) for z in x] \n",
    "        plt.plot(x, y)\n",
    "        plt.show()\n",
    "\n",
    "class Sin(Taylor):\n",
    "    def __init__(self, aa, bb):\n",
    "        self.a = aa;\n",
    "        self.b = bb;\n",
    "        self.area = [-10,10,-2*aa,2*aa]\n",
    "    def fun(self, x):\n",
    "        return self.a * math.sin(x - self.b)\n",
    "\n",
    "    def d0(self, n):\n",
    "        if(n % 4 == 0):\n",
    "            return self.a * math.sin(0-self.b);\n",
    "        if(n % 4 == 1):\n",
    "            return self.a * math.cos(0-self.b);\n",
    "        elif (n % 4 == 2):\n",
    "            return -self.a * math.sin(0-self.b);\n",
    "        elif (n % 4 == 3):\n",
    "            return -self.a * math.cos(0-self.b);\n",
    "\n",
    "\n",
    "taylorsin = Sin(2,50);\n",
    "#taylorsin.graph(10)\n",
    "interact(taylorsin.graph, i=(0, 30, 1))    "
   ]
  },
  {
   "cell_type": "code",
   "execution_count": 19,
   "metadata": {},
   "outputs": [
    {
     "data": {
      "application/vnd.jupyter.widget-view+json": {
       "model_id": "05ec100e4df64111b8e8c5490f0331f0",
       "version_major": 2,
       "version_minor": 0
      },
      "text/plain": [
       "interactive(children=(IntSlider(value=15, description='i', max=30), Output()), _dom_classes=('widget-interact'…"
      ]
     },
     "metadata": {},
     "output_type": "display_data"
    },
    {
     "data": {
      "text/plain": [
       "<function ipywidgets.widgets.interaction._InteractFactory.__call__.<locals>.<lambda>(*args, **kwargs)>"
      ]
     },
     "execution_count": 19,
     "metadata": {},
     "output_type": "execute_result"
    }
   ],
   "source": [
    "class Log(Taylor):\n",
    "    area = [-0.9,10,-2,2]\n",
    "    def fun(self, x):\n",
    "        return math.log(x+1)\n",
    "\n",
    "    def d0(self, n):\n",
    "        if(n == 0): \n",
    "            return 0\n",
    "        return math.factorial(n-1)*((-1)**(n+1))\n",
    "\n",
    "taylorlog = Log();\n",
    "interact(taylorlog.graph, i = (0,30))"
   ]
  },
  {
   "cell_type": "code",
   "execution_count": null,
   "metadata": {},
   "outputs": [],
   "source": []
  },
  {
   "cell_type": "code",
   "execution_count": null,
   "metadata": {},
   "outputs": [],
   "source": []
  },
  {
   "cell_type": "code",
   "execution_count": null,
   "metadata": {},
   "outputs": [],
   "source": []
  },
  {
   "cell_type": "code",
   "execution_count": null,
   "metadata": {},
   "outputs": [],
   "source": []
  }
 ],
 "metadata": {
  "kernelspec": {
   "display_name": "Python 3 (ipykernel)",
   "language": "python",
   "name": "python3"
  },
  "language_info": {
   "codemirror_mode": {
    "name": "ipython",
    "version": 3
   },
   "file_extension": ".py",
   "mimetype": "text/x-python",
   "name": "python",
   "nbconvert_exporter": "python",
   "pygments_lexer": "ipython3",
   "version": "3.10.7"
  }
 },
 "nbformat": 4,
 "nbformat_minor": 4
}
