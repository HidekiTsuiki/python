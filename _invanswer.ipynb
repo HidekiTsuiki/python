{
 "cells": [
  {
   "cell_type": "code",
   "execution_count": null,
   "metadata": {},
   "outputs": [],
   "source": []
  },
  {
   "cell_type": "code",
   "execution_count": 5,
   "metadata": {},
   "outputs": [],
   "source": [
    "# 練習問題 50\n",
    "\n",
    "def p(n,a,b):\n",
    "    e = np.identity(n)\n",
    "    q = list(range(n))\n",
    "    q[a]=b\n",
    "    q[b]=a\n",
    "    r = e[q,:]\n",
    "    return(r)\n",
    "\n",
    "def q(n,a,r):\n",
    "    e = np.identity(n)\n",
    "    e[a,a] = r\n",
    "    return(e)\n",
    "\n",
    "def r(n,a,b,r):\n",
    "    e = np.identity(n)\n",
    "    e[b,a] = r\n",
    "    return(e)   \n"
   ]
  },
  {
   "cell_type": "code",
   "execution_count": 6,
   "metadata": {},
   "outputs": [
    {
     "name": "stdout",
     "output_type": "stream",
     "text": [
      "[[0.434 0.011 0.557 0.603 0.214 0.995 0.484 0.489 0.749]\n",
      " [0.06  0.693 0.516 0.053 0.001 0.733 0.334 0.083 0.987]\n",
      " [0.544 0.625 0.962 0.536 0.981 0.971 0.43  0.719 0.496]\n",
      " [0.998 0.007 0.353 0.975 0.198 0.946 0.723 0.838 0.966]\n",
      " [0.386 0.757 0.863 0.351 0.01  0.71  0.018 0.602 0.652]\n",
      " [0.194 0.027 0.09  0.653 0.891 0.197 0.821 0.28  0.132]\n",
      " [0.324 0.723 0.105 0.713 0.907 0.66  0.327 0.517 0.861]\n",
      " [0.066 0.616 0.221 0.599 0.813 0.532 0.898 0.068 0.67 ]\n",
      " [0.49  0.495 0.147 0.777 0.901 0.669 0.67  0.599 0.918]]\n",
      "[[  48.692 -109.27    -2.893  -52.123   33.512 -136.098 -125.291   93.179\n",
      "   179.477]\n",
      " [ -50.694  105.076    4.895   53.53   -33.443  128.646  121.585  -87.307\n",
      "  -175.682]\n",
      " [  86.372 -183.543   -8.047  -92.562   59.928 -224.753 -211.821  154.216\n",
      "   304.551]\n",
      " [  53.229 -113.292   -6.073  -55.69    37.128 -136.905 -126.525   95.335\n",
      "   182.706]\n",
      " [  41.631  -88.761   -3.117  -44.989   27.692 -109.245 -101.978   74.314\n",
      "   147.971]\n",
      " [ -86.573  186.473    9.092   94.042  -61.318  228.035  215.822 -156.137\n",
      "  -311.495]\n",
      " [ -63.054  134.095    5.755   67.015  -42.803  164.649  151.748 -112.076\n",
      "  -220.205]\n",
      " [-104.583  225.273    8.772  110.975  -70.738  278.039  256.868 -191.775\n",
      "  -369.161]\n",
      " [  78.926 -166.632   -8.156  -84.757   54.011 -205.335 -193.158  139.687\n",
      "   279.882]]\n",
      "[[ 1. -0. -0. -0.  0. -0. -0.  0.  0.]\n",
      " [ 0.  1. -0. -0.  0. -0. -0.  0.  0.]\n",
      " [ 0. -0.  1. -0.  0. -0. -0.  0.  0.]\n",
      " [-0.  0.  0.  1. -0.  0.  0. -0. -0.]\n",
      " [ 0. -0. -0. -0.  1. -0. -0.  0.  0.]\n",
      " [ 0. -0. -0. -0.  0.  1. -0.  0.  0.]\n",
      " [ 0. -0. -0. -0.  0. -0.  1.  0.  0.]\n",
      " [ 0. -0. -0. -0.  0. -0. -0.  1.  0.]\n",
      " [-0.  0.  0.  0. -0.  0.  0. -0.  1.]]\n"
     ]
    }
   ],
   "source": [
    "import numpy as np\n",
    "def inv(x):\n",
    "    n,_ = x.shape\n",
    "    e = np.identity(n)\n",
    "    for i in range(n):\n",
    "        u = np.argmax(map(abs,x[i:,i]))\n",
    "        if(abs(x[i,u+i]) <0.001):\n",
    "            return(None)\n",
    "        v = p(n,i,u+i);      x = v@x; e = v@e\n",
    "        v = q(n,i,1/x[i,i]); x = v@x; e = v@e\n",
    "        for j in range(0,n):\n",
    "            if(i != j):\n",
    "                v = r(n,i,j,-x[j,i]); x = v@x; e = v@e\n",
    "    return(e)\n",
    "x=np.random.random([9,9])\n",
    "np.set_printoptions(precision=3, suppress=True)\n",
    "print(x)\n",
    "y = inv(x)\n",
    "print(y)\n",
    "print(x@y)"
   ]
  },
  {
   "cell_type": "code",
   "execution_count": null,
   "metadata": {},
   "outputs": [],
   "source": []
  }
 ],
 "metadata": {
  "kernelspec": {
   "display_name": "Python 3.10.7 64-bit",
   "language": "python",
   "name": "python3"
  },
  "language_info": {
   "codemirror_mode": {
    "name": "ipython",
    "version": 3
   },
   "file_extension": ".py",
   "mimetype": "text/x-python",
   "name": "python",
   "nbconvert_exporter": "python",
   "pygments_lexer": "ipython3",
   "version": "3.10.7"
  },
  "vscode": {
   "interpreter": {
    "hash": "aee8b7b246df8f9039afb4144a1f6fd8d2ca17a180786b69acc140d282b71a49"
   }
  }
 },
 "nbformat": 4,
 "nbformat_minor": 2
}
