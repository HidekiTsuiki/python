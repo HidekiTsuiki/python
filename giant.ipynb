{
 "cells": [
  {
   "cell_type": "code",
   "execution_count": null,
   "metadata": {},
   "outputs": [],
   "source": [
    "def repeating (f, x, n):\n",
    "    if(n == 1):\n",
    "        return f(x)\n",
    "    else:\n",
    "        return f (repeating (f, x, (n-1)))\n",
    "\n",
    "\n",
    "huge 0 x = 1\n",
    "huge k 0 = 1\n",
    "huge 1 x = 2^x\n",
    "huge k x = repeating (huge (k - 1)) x x\n",
    "giant x = huge x x \n",
    "\n",
    "ack (n, m) = if n==0 then m+1\n",
    "            else if m==0 then ack (n-1, 1)\n",
    "            else ack (n-1, ack (n, m-1))\n",
    " "
   ]
  }
 ],
 "metadata": {
  "language_info": {
   "name": "python"
  },
  "orig_nbformat": 4
 },
 "nbformat": 4,
 "nbformat_minor": 2
}
