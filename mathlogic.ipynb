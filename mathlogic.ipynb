{
 "cells": [
  {
   "cell_type": "markdown",
   "metadata": {},
   "source": [
    "# ユニバーサル Abacus マシン"
   ]
  },
  {
   "cell_type": "markdown",
   "metadata": {},
   "source": [
    "数理論理学 B （立木担当）のレポート課題です。\n",
    "\n",
    "このファイル(mathlogic.ipynb)をダウンロードするには，上部の Raw というボタンを押して，このファイルのソースをブラウザーで表示される状態にして，ブラウザの機能でファイルに保存してください。\n",
    "\n",
    "メディアセンタのパソコンには，github および anaconda （python に，）がインストールされています。これは，他にも使う機会があると思うので，これを機会に自分のパソコンにインストールすることをおすすめします。大学での jupyter notebook (あるいは，jupyter lab)の起動方法は，このフォルダの README.md を見てください。(このページの上部の python というところをクリックしたら見れます)\n",
    "\n",
    "Google アカウントを持っている人は，\n",
    "<a href=\"https://colab.research.google.com/notebooks/welcome.ipynb?hl=ja\">\n",
    "Google Colaboratory </a>を用いると，anaconda などを自分のコンピュータに\n",
    "インストールをせずに Jupyter Notebook で書かれた Python プログラムを動作できます。\n",
    "上でリンクされている Coogle Colaboratory のページの \"GitHub でのノートブックの保存と読み込み\" のリンクの先に，Github で公開された\n",
    "ページを Google Colaboratory で開く方法が載っています。具体的には，\n",
    "<a href=\"https://colab.research.google.com/github/Hidekitsuiki/python/blob/master/mathlogic.ipynb\">このリンク</a>\n",
    "によって，この課題ページを Google Colaboratory で実行できます。\n",
    "ただし，Google Colaboratory の方が再帰呼び出しの深さの制限がきついので，動かせる Abacus マシンプログラムのサイズは\n",
    "より小さくなります。Google colaboratory の利用は，個人の責任で行なってください。\n",
    "\n",
    "この notebook ファイルの最後の練習問題１，２を行ってください。\n",
    "練習問題 3 は，自分で考えるだけで十分で，提出する必要はありません。"
   ]
  },
  {
   "cell_type": "markdown",
   "metadata": {},
   "source": [
    "この notebook の最後にセルを追加して，プログラムを書いて実行したり，説明の文章をMarkdown で書いたりしてください。そして，できた notebook の名前を，\"自分の名前.ipynb\"　に変えて，PandA の第2回という課題に添付として提出してください。絵も同時に PandA に提出してください。絵の読み込み方によっては，絵のファイルも添付として提出する必要があります。注意してください。\n",
    "\n",
    "この課題を行うのに，python のプログラムを理解する必要はありません。ただ，Jupyter Notebook の利用には慣れている必要があります。必要に応じて，このフォルダにある Pythonのオンラインテキスト，特に，1Jupyter.ipynb を参照してください。\n",
    "\n",
    "準備のところのプログラムは，理解する必要はありません。Ctrl-return によりプログラムを実行しながら読み進めてください。"
   ]
  },
  {
   "cell_type": "markdown",
   "metadata": {},
   "source": [
    "Jupyter Notebook には，プログラムを組み込んだテキストを作ることができます。プログラムの書かれたところ（セル）を実行するには，Ctrl-return （あるいは，Shift-return）を押します。下のセルをいろいろ書き換えて実行してみてください。"
   ]
  },
  {
   "cell_type": "code",
   "execution_count": 22,
   "metadata": {},
   "outputs": [
    {
     "data": {
      "text/plain": [
       "5"
      ]
     },
     "execution_count": 22,
     "metadata": {},
     "output_type": "execute_result"
    }
   ],
   "source": [
    "2+3"
   ]
  },
  {
   "cell_type": "markdown",
   "metadata": {},
   "source": [
    "## (準備)2分探索による逆関数\n",
    "\n",
    "自然数上の単調関数 $f$ を計算するプログラムに対し，b 以下の範囲で，p <= f(n) となる最小の n を求める関数です。\n",
    "2分探索を行っています。これは，下で numpair 関数のプログラムを書くのに用います。"
   ]
  },
  {
   "cell_type": "code",
   "execution_count": 21,
   "metadata": {},
   "outputs": [
    {
     "data": {
      "text/plain": [
       "4"
      ]
     },
     "execution_count": 21,
     "metadata": {},
     "output_type": "execute_result"
    }
   ],
   "source": [
    "def bsearch(p, f, b):\n",
    "    a = 0;\n",
    "    if(f(b) < p):\n",
    "        return b;\n",
    "    while(b - a >= 2):\n",
    "        c = (a + b)//2;\n",
    "#        print(a, b, c);\n",
    "        if(f(c) < p):\n",
    "            a = c;\n",
    "        else:\n",
    "            b = c;\n",
    "    return b\n",
    "\n",
    "bsearch(10, lambda x: x*x, 100 )\n",
    "\n"
   ]
  },
  {
   "cell_type": "markdown",
   "metadata": {},
   "source": [
    "## (準備)ペアのコーディング\n",
    "\n",
    "ここでは，0 以上の数を自然数ということにします。自然数全体の集合$\\mathbb N$ と，そのペア全体の集合$\\mathbb N \\times \\mathbb N$ は1対1対応をつけることができます(カントールの対関数)。ペア全体に\n",
    "三角形に番号をつける，つまり (0,0), (1,0), (0,1), (2.0), (1,1), (0,2), (3.0), ... と番号をつけていきます。\n",
    "この1対1対応を作る $\\mathbb N \\times \\mathbb N \\to\\mathbb N$の関数 pairnum(x, y) と，その逆関数 numpair(z)\n",
    "$\\mathbb N \\to\\mathbb N \\times\\mathbb N$ のプログラムです。numpair は，bsearch を用いて実現されており，タプルを返しています。\n"
   ]
  },
  {
   "cell_type": "code",
   "execution_count": 3,
   "metadata": {},
   "outputs": [],
   "source": [
    "\n",
    "import math\n",
    "def pairnum(x, y):\n",
    "    return (x + y)* (x + y + 1)//2 + y\n",
    "\n",
    "def numpair(z):\n",
    "    kk = bsearch(z, lambda i:pairnum(i, 0)-1, z+1) - 1\n",
    "\n",
    "    r = pairnum(kk, 0)\n",
    "    y = z - r\n",
    "    x = (kk) - y\n",
    "    return (x, y)\n",
    "\n",
    "\n",
    "#[pairnum(*numpair(i))==i for i in range(100)]\n"
   ]
  },
  {
   "cell_type": "markdown",
   "metadata": {},
   "source": [
    "## (準備)リストのコーディング\n",
    "\n",
    "自然数の集合$\\mathbb N$ と，自然数の有限列(すなわちリスト)全体の集合$\\mathbb N^*$ との間で，次のようにして，\n",
    "1対1対応をつけることができます。\n",
    "$$\n",
    "\\text{listnum}(u) = \\left\\{\\begin{array}{ll} 0 & (u = []) \\\\ \\text{pairnum}(u[0], \\text{listnum}(u[1:])+1 & (otherwise)\\end{array}\\right.\n",
    "$$\n",
    "この対応とその逆対応( numlist(z) ) のプログラムです。ここでは，再帰を用いています。 Abacus マシンにコンパイルするためには，再帰を用いずにプログラムを書く必要がありますが，それについては，授業中に配布したプリントを参照してください。\n"
   ]
  },
  {
   "cell_type": "code",
   "execution_count": 6,
   "metadata": {},
   "outputs": [
    {
     "name": "stdout",
     "output_type": "stream",
     "text": [
      "7772119436583268850852732677068728635694501927374922303028511913269349767568429886628551735058022189004921338686539272759911058889972643186429320360023802459503861953098676625117094945445788490145772694967437124698939619114630680988976069698388133163492508347115757641501264371366208903492850670868584279359211714814171613697839252238176725914485803296216341919256901879969340234824319962645911695768455376150810651783414811190218207878695149714576232102684586768674346926262783672688272894761628304065136631698525048454486498602699654673765802519341706193912255290249321463413332624417048055477193076612494189194995826758615330486154806756034034028589823513250314801850141042361118696867741239543453636160596385090919251546538114192644210901958360147712889809229728192253211805319101575813545648994573779986016577241716926443673297906617989360309784201172007921734204765169666909375971227140955525067515077624277546982546765300542577964028126467550338914055625488799071147232244092486365002351677475871605742702832473367176243021509289782323186016767888406736287676852277506402\n",
      "[1, 1, 1, 1, 1, 1, 1, 1, 1, 1, 1, 2]\n"
     ]
    }
   ],
   "source": [
    "# 練習問題60\n",
    "\n",
    "def listnum(u):  #u:list\n",
    "    if (u==[]):\n",
    "        return 0\n",
    "    else:\n",
    "        return pairnum(u[0], listnum(u[1:]))+ 1\n",
    "\n",
    "def numlist(n):\n",
    "    if(n == 0):\n",
    "        return []\n",
    "    else:\n",
    "        (a, b) = numpair(n - 1)\n",
    "        return([a] + numlist(b))\n",
    "\n",
    "    \n",
    "#k = listnum([1,2,3])\n",
    "k = listnum([1,1,1,1,1,1,1,1,1,1,1,2])\n",
    "print(k)\n",
    "print(numlist(k))\n"
   ]
  },
  {
   "cell_type": "markdown",
   "metadata": {},
   "source": [
    "ところで、このプログラムでは、ここら辺が限界で、もっと大きなリストをエンコードしようとしても、bsearchのところでの再帰呼び出しが深くなりすぎて、エラーを生じてしまいます。\n",
    "numpair に関しては、次が知られています。\n",
    "```\n",
    "# (wikipedia 「対関数」参照)\n",
    "import math\n",
    "def numpair(z):\n",
    "    w = (int)((math.sqrt(8*z+1)-1)//2)\n",
    "    t = (w*w+w)//2\n",
    "    y = z-t\n",
    "    x = w-y\n",
    "    return(x,y)\n",
    "```\n",
    "これで行えば、今度は、math.sqrt が, 浮動小数点で扱えるより大きな引数が与えられてエラーが発生します。(その前に、大きな数を浮動小数点にした時に誤差が生じる。）それを防ぐには、整数範囲内でのルート計算を行わないといけなくなります。それは、例えば，ニュートン法でできるはずですが...\n",
    "\n"
   ]
  },
  {
   "cell_type": "markdown",
   "metadata": {},
   "source": [
    "## (準備)コード化されたリストへのアクセス\n",
    "\n",
    "nth : 数 x でコード化されたリストの k 番目の要素を取り出す関数，\n",
    "\n",
    "replace : 数 x でコード化されたリストの k 番目の要素を n に置き換えたリストのコードを返す関数"
   ]
  },
  {
   "cell_type": "code",
   "execution_count": 9,
   "metadata": {},
   "outputs": [
    {
     "name": "stdout",
     "output_type": "stream",
     "text": [
      "10\n",
      "[1, 2, 3, 10, 8]\n",
      "0\n",
      "[1, 2, 3, 4, 5, 0, 0, 0, 0, 8]\n"
     ]
    }
   ],
   "source": [
    "def nth(x, k):\n",
    "    if(x == 0):\n",
    "        return 0  # 長さを超えたアクセスは 0 を返す\n",
    "    (a, y) = numpair(x-1)\n",
    "    if(k == 0):\n",
    "        return a\n",
    "    else: \n",
    "        return nth(y, k-1)\n",
    "\n",
    "def replace(x, k, n):   # x[k] = n\n",
    "    if(x == 0):\n",
    "        if (k == 0): \n",
    "            a = n\n",
    "            rest = 0\n",
    "        else:\n",
    "            a = 0\n",
    "            rest = replace(0, k-1, n)\n",
    "        return pairnum(a, rest) + 1\n",
    "    (a, y) = numpair(x-1)\n",
    "    if(k == 0):\n",
    "        return pairnum(n, y)+ 1\n",
    "    else:\n",
    "        return pairnum(a, replace(y, k-1, n))+ 1\n",
    "\n",
    "z = listnum([1,2,3,10,5])    \n",
    "print(nth(z, 3))\n",
    "u = replace(z, 4, 8)     \n",
    "print(numlist(u))\n",
    "\n",
    "z = listnum([1,2,3,4,5])\n",
    "print(nth(z, 10))\n",
    "u = replace(z, 9, 8)\n",
    "print(numlist(u))\n",
    "        "
   ]
  },
  {
   "cell_type": "markdown",
   "metadata": {},
   "source": [
    "# ユニバーサル Abacus マシン(その1)\n",
    "\n",
    "授業プリントと同じプログラムを python で書いたものです。\n",
    "プリントでは p, d として自然数を与えているが，ここでは python のリストで与えています。よって，リストの長さより先にアクセスできないので，データ d としては，プログラム中に現れる箱の番号を全て含むように，十分長く 0 を後ろにつけたものを与える必要があります。\n"
   ]
  },
  {
   "cell_type": "code",
   "execution_count": 11,
   "metadata": {},
   "outputs": [],
   "source": [
    "def univ(p, d):\n",
    "    pc = 0\n",
    "    while(p[pc][0] > 0):\n",
    "        op = p[pc][0]\n",
    "        box = p[pc][1]\n",
    "        next = p[pc][2]\n",
    "        if(op == 1):\n",
    "            d[box] += 1\n",
    "            pc = next\n",
    "        else:\n",
    "            enext = p[pc][3]\n",
    "            if(d[box] > 0):\n",
    "                d[box] -= 1\n",
    "                pc = next\n",
    "            else:\n",
    "                pc = enext\n",
    "    return(d[0])"
   ]
  },
  {
   "cell_type": "markdown",
   "metadata": {},
   "source": [
    "# 様々な関数の Abacus マシンでのコード"
   ]
  },
  {
   "cell_type": "markdown",
   "metadata": {},
   "source": [
    "例１：何もしないでいきなり終了する. どの k に対しても f(x1,...,xk) = 0 を意味する。\n"
   ]
  },
  {
   "cell_type": "code",
   "execution_count": 12,
   "metadata": {},
   "outputs": [
    {
     "data": {
      "text/plain": [
       "0"
      ]
     },
     "execution_count": 12,
     "metadata": {},
     "output_type": "execute_result"
    }
   ],
   "source": [
    "m = [[0]]\n",
    "d = [0,1,6,4,3]   # 引数としては，任意のリスト。d[0] は返値，d[1,...,k] が引数\n",
    "univ(m,d)"
   ]
  },
  {
   "cell_type": "markdown",
   "metadata": {},
   "source": [
    "例２：箱1 の内容を箱0 にコピーする。箱1は空にする。 f (x) = x を意味する。"
   ]
  },
  {
   "cell_type": "code",
   "execution_count": 13,
   "metadata": {},
   "outputs": [
    {
     "data": {
      "text/plain": [
       "7"
      ]
     },
     "execution_count": 13,
     "metadata": {},
     "output_type": "execute_result"
    }
   ],
   "source": [
    "d = [0, 7]\n",
    "m = [[2,1,1,2],\n",
    " [1,0,0],\n",
    " [0]\n",
    "]  \n",
    "univ(m, d)"
   ]
  },
  {
   "cell_type": "markdown",
   "metadata": {},
   "source": [
    "例３：箱 0 の内容を B[1] + B[2] にする。箱 1, 2 は終了時に空になる。\n",
    "f(x, y) = x+y を意味する。\n",
    "\n",
    "![足し算](plus_machine.jpg)"
   ]
  },
  {
   "cell_type": "code",
   "execution_count": 14,
   "metadata": {},
   "outputs": [
    {
     "data": {
      "text/plain": [
       "15"
      ]
     },
     "execution_count": 14,
     "metadata": {},
     "output_type": "execute_result"
    }
   ],
   "source": [
    "d = [0, 5, 10]\n",
    "m = [[2,1,1,2],\n",
    " [1,0,0],\n",
    " [2,2,3,4],\n",
    " [1,0,2],\n",
    " [0]\n",
    "]  \n",
    "univ(m, d)"
   ]
  },
  {
   "cell_type": "markdown",
   "metadata": {},
   "source": [
    "# ユニバーサル Abacus マシン(その2)\n",
    "\n",
    "nth, replace を用いて，上の univ のプログラムにおいて，プログラム p とデータ d を，リストではなく数を引数とするように書きかえたもの。"
   ]
  },
  {
   "cell_type": "code",
   "execution_count": 15,
   "metadata": {},
   "outputs": [],
   "source": [
    "def univm(p, d):  \n",
    "    ''' p, d は，リストを数で表した数が与えられる '''\n",
    "\n",
    "    pc = 0\n",
    "    while(nth(nth(p, pc), 0) > 0):\n",
    "        print(pc, numlist(d))  # デバッグのためのプリント\n",
    "        op = nth(nth(p, pc), 0)\n",
    "        box = nth(nth(p, pc), 1)\n",
    "        next = nth(nth(p, pc), 2)\n",
    "        if(op == 1):\n",
    "            d = replace(d, box, nth(d, box)+1)\n",
    "            pc = next\n",
    "        else:\n",
    "            enext = nth(nth(p, pc), 3)\n",
    "            if(nth(d,box) > 0):\n",
    "                if(nth(d, box) > 0):\n",
    "                    d = replace(d, box, nth(d, box) - 1)\n",
    "                pc = next\n",
    "            else:\n",
    "                pc = enext\n",
    "    return(nth(d,0))"
   ]
  },
  {
   "cell_type": "markdown",
   "metadata": {},
   "source": [
    "例３にプログラムにおいて，データ d のリストを listnum によって一つの数として表現したもの dd は，次のようにして得られる。"
   ]
  },
  {
   "cell_type": "code",
   "execution_count": 17,
   "metadata": {},
   "outputs": [
    {
     "name": "stdout",
     "output_type": "stream",
     "text": [
      "3828\n"
     ]
    }
   ],
   "source": [
    "d = [0,5,3]\n",
    "dd = listnum(d)\n",
    "print(dd)"
   ]
  },
  {
   "cell_type": "markdown",
   "metadata": {},
   "source": [
    "mm : プログラム m の，コード（という数）"
   ]
  },
  {
   "cell_type": "markdown",
   "metadata": {},
   "source": [
    "また，リスト m に対して，m の要素それぞれに f を適用してできたリストは，\n",
    "```\n",
    "list (map (f, m))\n",
    "```\n",
    "で得られる。よって，m の各要素に listnum を適用て得られるリストは，次のようにして計算できる。"
   ]
  },
  {
   "cell_type": "code",
   "execution_count": 18,
   "metadata": {},
   "outputs": [
    {
     "name": "stdout",
     "output_type": "stream",
     "text": [
      "[32638, 14, 26364689, 152, 1]\n"
     ]
    }
   ],
   "source": [
    "m = [[2,1,1,2],\n",
    " [1,0,0],\n",
    " [2,2,3,4],\n",
    " [1,0,2],\n",
    " [0]\n",
    "]  \n",
    "m0 = list (map(listnum, m))\n",
    "print(m0)"
   ]
  },
  {
   "cell_type": "markdown",
   "metadata": {},
   "source": [
    "このリストに対して，もう一度 listnum を適用することにより，\n",
    "プログラム m のコードとなる数が得られる。"
   ]
  },
  {
   "cell_type": "code",
   "execution_count": 19,
   "metadata": {},
   "outputs": [
    {
     "name": "stdout",
     "output_type": "stream",
     "text": [
      "1830392212574384253594576266619768224916214664365824640643\n"
     ]
    }
   ],
   "source": [
    "mm = listnum (m0)\n",
    "print(mm)\n"
   ]
  },
  {
   "cell_type": "markdown",
   "metadata": {},
   "source": [
    "mm と dd を引数にして univm を呼び出すと，5 + 3 が計算される。"
   ]
  },
  {
   "cell_type": "code",
   "execution_count": 20,
   "metadata": {},
   "outputs": [
    {
     "name": "stdout",
     "output_type": "stream",
     "text": [
      "0 [0, 5, 3]\n",
      "1 [0, 4, 3]\n",
      "0 [1, 4, 3]\n",
      "1 [1, 3, 3]\n",
      "0 [2, 3, 3]\n",
      "1 [2, 2, 3]\n",
      "0 [3, 2, 3]\n",
      "1 [3, 1, 3]\n",
      "0 [4, 1, 3]\n",
      "1 [4, 0, 3]\n",
      "0 [5, 0, 3]\n",
      "2 [5, 0, 3]\n",
      "3 [5, 0, 2]\n",
      "2 [6, 0, 2]\n",
      "3 [6, 0, 1]\n",
      "2 [7, 0, 1]\n",
      "3 [7, 0, 0]\n",
      "2 [8, 0, 0]\n"
     ]
    },
    {
     "data": {
      "text/plain": [
       "8"
      ]
     },
     "execution_count": 20,
     "metadata": {},
     "output_type": "execute_result"
    }
   ],
   "source": [
    "univm(mm, dd)"
   ]
  },
  {
   "cell_type": "markdown",
   "metadata": {},
   "source": [
    "**練習問題1** この下に，次のセルを作成しながら，引き算のプログラムに対して例３と同様のことを行おう。\n",
    "\n",
    "1. 引き算のプログラムを，Abacus マシンで作成しよう。 (つまり，マシンが停止した時\n",
    "に，B[0] の値が B[1] - B[2] となっているマシン。最終的に，B[1], B[2] の値は変化していてもよい。）\n",
    "ただし，ここでの引き算は，x < y の時， x - y = 0 とした引き算である。\n",
    "その絵を何らかのツールで描いたり，あるいは写真にとって，.jpg ファイルにして取り込むなどして，この notebook に取り込もう。\n",
    "\n",
    "2. そのプログラムを，リスト表現になおし，listnum を用いて，そのマシンコードとなる数を求めよう。\n",
    "\n",
    "3. 適当な引数 (例えば，上と同じ，5, 3 でもよい)　に対して univ, および, univm で動作させ，結果が正しいことを確認しよう。"
   ]
  },
  {
   "cell_type": "markdown",
   "metadata": {},
   "source": [
    "**練習問題2** 適当な関数を考えて，それに対して，練習問題1と同様のことを行おう。"
   ]
  },
  {
   "cell_type": "markdown",
   "metadata": {},
   "source": [
    "**練習問題3** この univm では，大きなプログラムを実行することは不可能である。大きなプログラムを実行するには，pair, list 関数を用いるのではなく，Abacus マシンをコード化する方法を変える必要があろう。どのように定義するのがいいだろうか。"
   ]
  },
  {
   "cell_type": "markdown",
   "metadata": {},
   "source": [
    "---\n",
    "---\n",
    "---\n",
    "\n",
    "# ここより下で，練習問題を解いて，提出してください。"
   ]
  },
  {
   "cell_type": "code",
   "execution_count": null,
   "metadata": {},
   "outputs": [],
   "source": []
  }
 ],
 "metadata": {
  "kernelspec": {
   "display_name": "Python 3",
   "language": "python",
   "name": "python3"
  },
  "language_info": {
   "codemirror_mode": {
    "name": "ipython",
    "version": 3
   },
   "file_extension": ".py",
   "mimetype": "text/x-python",
   "name": "python",
   "nbconvert_exporter": "python",
   "pygments_lexer": "ipython3",
   "version": "3.7.11"
  }
 },
 "nbformat": 4,
 "nbformat_minor": 4
}
