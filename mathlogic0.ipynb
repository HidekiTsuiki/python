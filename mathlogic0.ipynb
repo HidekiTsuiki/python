{
 "cells": [
  {
   "cell_type": "markdown",
   "metadata": {},
   "source": [
    "# While 言語のプログラム"
   ]
  },
  {
   "cell_type": "code",
   "execution_count": 188,
   "metadata": {},
   "outputs": [
    {
     "data": {
      "text/plain": [
       "2"
      ]
     },
     "execution_count": 188,
     "metadata": {},
     "output_type": "execute_result"
    }
   ],
   "source": [
    "def div(x,y):\n",
    "    i = 0;\n",
    "    if(y > 0):\n",
    "        while(y < x or y == x):\n",
    "            x = x - y;\n",
    "            i = i + 1;\n",
    "    return i;\n",
    "\n",
    "div(8,3)  \n",
    "  "
   ]
  },
  {
   "cell_type": "code",
   "execution_count": 189,
   "metadata": {},
   "outputs": [
    {
     "data": {
      "text/plain": [
       "2"
      ]
     },
     "execution_count": 189,
     "metadata": {},
     "output_type": "execute_result"
    }
   ],
   "source": [
    "from re import S\n",
    "\n",
    "\n",
    "def sqrt(x):\n",
    "    i = 0;\n",
    "    while(i * i <= x ):\n",
    "        i = i + 1;\n",
    "    i = i - 1;\n",
    "    return i;\n",
    "\n",
    "sqrt(8)  "
   ]
  },
  {
   "cell_type": "code",
   "execution_count": 190,
   "metadata": {},
   "outputs": [
    {
     "data": {
      "text/plain": [
       "94"
      ]
     },
     "execution_count": 190,
     "metadata": {},
     "output_type": "execute_result"
    }
   ],
   "source": [
    "def pair(p,q):\n",
    "    r = (p + q) * (p + q + 1)//2 + q;\n",
    "    return r;\n",
    "\n",
    "pair(10,3)    "
   ]
  },
  {
   "cell_type": "code",
   "execution_count": 203,
   "metadata": {},
   "outputs": [
    {
     "data": {
      "text/plain": [
       "100"
      ]
     },
     "execution_count": 203,
     "metadata": {},
     "output_type": "execute_result"
    }
   ],
   "source": [
    "def first(r):\n",
    "    s = 0;\n",
    "    while(s * (s + 1)//2 <= r):\n",
    "        s = s + 1\n",
    "    s = s - 1\n",
    "    q = r - s * (s + 1)//2;\n",
    "    p = s - q;\n",
    "    return(p)\n",
    "\n",
    "def second(r):\n",
    "    s = 0;\n",
    "    while(s * (s + 1)//2 <= r):\n",
    "        s = s + 1\n",
    "    s = s - 1\n",
    "    q = r - s * (s + 1)//2;\n",
    "    p = s - q;\n",
    "    return(q)   \n",
    "\n",
    "pair(first(100),second(100))    \n"
   ]
  },
  {
   "cell_type": "code",
   "execution_count": 204,
   "metadata": {},
   "outputs": [],
   "source": [
    "def list(p):\n",
    "    if(p == []):\n",
    "        return 0\n",
    "    return pair(p[0], list(p[1:]))+ 1\n",
    "\n",
    "def firstd(x):\n",
    "    if(x == 0):\n",
    "        return 0;\n",
    "    return first(x-1)\n",
    "\n",
    "def secondd(x):\n",
    "    if(x == 0):\n",
    "        return 0\n",
    "    return second(x-1)\n",
    "\n",
    "def nth(x,k):\n",
    "    while(k > 0):\n",
    "        x = secondd(x)\n",
    "        k = k - 1;\n",
    "    a = firstd(x);\n",
    "    return(a)\n",
    "\n",
    "def replace(x,k,a):\n",
    "    kk = k;\n",
    "    u = 0;\n",
    "    while(k > 0):\n",
    "        u = pair(firstd(x),u) + 1;\n",
    "        x = secondd(x);\n",
    "        k = k - 1\n",
    "    zz = secondd(x);\n",
    "    x = pair(a,zz) + 1;\n",
    "    while(kk > 0):\n",
    "        x = pair(firstd(u),x) + 1;\n",
    "        u = secondd(u);\n",
    "        kk = kk - 1;\n",
    "    return(x);\n",
    "\n",
    "x = list([1,1])\n",
    "nth(x, 0)\n",
    "y = list([5,2])\n"
   ]
  },
  {
   "cell_type": "code",
   "execution_count": 213,
   "metadata": {},
   "outputs": [
    {
     "name": "stdout",
     "output_type": "stream",
     "text": [
      "752041152\n"
     ]
    },
    {
     "data": {
      "text/plain": [
       "[1, 1, 0, 6, 0]"
      ]
     },
     "execution_count": 213,
     "metadata": {},
     "output_type": "execute_result"
    }
   ],
   "source": [
    "y = replace(x, 3, 6)\n",
    "print(y)\n",
    "[nth(y,i) for i in range(5)]\n"
   ]
  },
  {
   "cell_type": "code",
   "execution_count": null,
   "metadata": {},
   "outputs": [],
   "source": []
  }
 ],
 "metadata": {
  "kernelspec": {
   "display_name": "Python 3.9.12 ('base')",
   "language": "python",
   "name": "python3"
  },
  "language_info": {
   "codemirror_mode": {
    "name": "ipython",
    "version": 3
   },
   "file_extension": ".py",
   "mimetype": "text/x-python",
   "name": "python",
   "nbconvert_exporter": "python",
   "pygments_lexer": "ipython3",
   "version": "3.9.12"
  },
  "orig_nbformat": 4,
  "vscode": {
   "interpreter": {
    "hash": "47d84ca93b507e41a4afb9ff6f89a9563e5e77c88ddfb43ca0f3894d519d995e"
   }
  }
 },
 "nbformat": 4,
 "nbformat_minor": 2
}
