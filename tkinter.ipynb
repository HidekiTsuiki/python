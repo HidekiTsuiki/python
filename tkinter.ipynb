{
 "cells": [
  {
   "cell_type": "code",
   "execution_count": 1,
   "metadata": {},
   "outputs": [],
   "source": [
    "%matplotlib inline\n",
    "# codeing=utf-8\n",
    "import tkinter as tk\n",
    " \n",
    "def click(event):\n",
    "    # クリックされた場所に描画する\n",
    "    canvas.create_oval(event.x-20, event.y-20, event.x+20, event.y+20, fill=\"red\", width=0)\n",
    " \n",
    "#ウィンドウを作る\n",
    "root = tk.Tk()\n",
    "root.geometry(\"600x400\")\n",
    " \n",
    "#Canvasを作る\n",
    "canvas = tk.Canvas(root, width=600, height=400, bg=\"white\")\n",
    "canvas.place(x=0, y=0)\n",
    " \n",
    "#イベントを設定する\n",
    "canvas.bind(\"<Button-1>\", click)\n",
    "root.mainloop()\n",
    " \n",
    " "
   ]
  },
  {
   "cell_type": "code",
   "execution_count": 3,
   "metadata": {},
   "outputs": [],
   "source": [
    "import tkinter as tk"
   ]
  },
  {
   "cell_type": "code",
   "execution_count": null,
   "metadata": {},
   "outputs": [],
   "source": [
    "root = tk.Tk()\n",
    "root.mainloop()"
   ]
  },
  {
   "cell_type": "code",
   "execution_count": null,
   "metadata": {},
   "outputs": [],
   "source": []
  }
 ],
 "metadata": {
  "kernelspec": {
   "display_name": "Python 3 (ipykernel)",
   "language": "python",
   "name": "python3"
  },
  "language_info": {
   "codemirror_mode": {
    "name": "ipython",
    "version": 3
   },
   "file_extension": ".py",
   "mimetype": "text/x-python",
   "name": "python",
   "nbconvert_exporter": "python",
   "pygments_lexer": "ipython3",
   "version": "3.8.5"
  }
 },
 "nbformat": 4,
 "nbformat_minor": 2
}
