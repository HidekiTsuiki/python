{
 "cells": [
  {
   "cell_type": "markdown",
   "metadata": {},
   "source": [
    "# Chue-Moorse Sequence\n",
    "\n",
    "[1,2,3,4] を2つに分割して、それぞれの和が等しくなるようにする方法は？\n",
    "明らかに、[1,4] と [2,3] だけだ。\n",
    "\n",
    "それでは、[1,2,3,4,5,6,7,8] を2 つの同じ大きさの集合に分割して、それぞれの和も、それぞれの要素の2乗の和も等しくする方法はあるだろうか？\n",
    "\n",
    "プログラムを組んで、調べてみよう。まず、4つづつに分割する方法は、$_8C_4$ ある。\n",
    "それを全てあげよう。集合をリストで表現している。\n",
    "\n",
    "**練習問題* ** combinations(a, num) という、リスト a の表す集合から num 個要素を取り出した集合をすべてあげる関数を作ろう。同様の関数は、itertools パッケージに、combinations というメソッドがあるので、実用的には、自分で作らずにライブラリを使うこと。　\n",
    "\n",
    "ヒント：再帰呼び出しで書ける。再帰的構造を整理して考えよう。\n"
   ]
  },
  {
   "cell_type": "code",
   "execution_count": 2,
   "metadata": {},
   "outputs": [
    {
     "data": {
      "text/plain": [
       "[(5, 6, 7, 8),\n",
       " (4, 6, 7, 8),\n",
       " (4, 5, 7, 8),\n",
       " (4, 5, 6, 8),\n",
       " (4, 5, 6, 7),\n",
       " (3, 6, 7, 8),\n",
       " (3, 5, 7, 8),\n",
       " (3, 5, 6, 8),\n",
       " (3, 5, 6, 7),\n",
       " (3, 4, 7, 8),\n",
       " (3, 4, 6, 8),\n",
       " (3, 4, 6, 7),\n",
       " (3, 4, 5, 8),\n",
       " (3, 4, 5, 7),\n",
       " (3, 4, 5, 6),\n",
       " (2, 6, 7, 8),\n",
       " (2, 5, 7, 8),\n",
       " (2, 5, 6, 8),\n",
       " (2, 5, 6, 7),\n",
       " (2, 4, 7, 8),\n",
       " (2, 4, 6, 8),\n",
       " (2, 4, 6, 7),\n",
       " (2, 4, 5, 8),\n",
       " (2, 4, 5, 7),\n",
       " (2, 4, 5, 6),\n",
       " (2, 3, 7, 8),\n",
       " (2, 3, 6, 8),\n",
       " (2, 3, 6, 7),\n",
       " (2, 3, 5, 8),\n",
       " (2, 3, 5, 7),\n",
       " (2, 3, 5, 6),\n",
       " (2, 3, 4, 8),\n",
       " (2, 3, 4, 7),\n",
       " (2, 3, 4, 6),\n",
       " (2, 3, 4, 5),\n",
       " (1, 6, 7, 8),\n",
       " (1, 5, 7, 8),\n",
       " (1, 5, 6, 8),\n",
       " (1, 5, 6, 7),\n",
       " (1, 4, 7, 8),\n",
       " (1, 4, 6, 8),\n",
       " (1, 4, 6, 7),\n",
       " (1, 4, 5, 8),\n",
       " (1, 4, 5, 7),\n",
       " (1, 4, 5, 6),\n",
       " (1, 3, 7, 8),\n",
       " (1, 3, 6, 8),\n",
       " (1, 3, 6, 7),\n",
       " (1, 3, 5, 8),\n",
       " (1, 3, 5, 7),\n",
       " (1, 3, 5, 6),\n",
       " (1, 3, 4, 8),\n",
       " (1, 3, 4, 7),\n",
       " (1, 3, 4, 6),\n",
       " (1, 3, 4, 5),\n",
       " (1, 2, 7, 8),\n",
       " (1, 2, 6, 8),\n",
       " (1, 2, 6, 7),\n",
       " (1, 2, 5, 8),\n",
       " (1, 2, 5, 7),\n",
       " (1, 2, 5, 6),\n",
       " (1, 2, 4, 8),\n",
       " (1, 2, 4, 7),\n",
       " (1, 2, 4, 6),\n",
       " (1, 2, 4, 5),\n",
       " (1, 2, 3, 8),\n",
       " (1, 2, 3, 7),\n",
       " (1, 2, 3, 6),\n",
       " (1, 2, 3, 5),\n",
       " (1, 2, 3, 4)]"
      ]
     },
     "execution_count": 2,
     "metadata": {},
     "output_type": "execute_result"
    }
   ],
   "source": [
    "def combinations(a, num):  # a: list, num: number\n",
    "    if (num == 0):\n",
    "        return [()]\n",
    "    if (num == len(a)):\n",
    "        return [tuple(a)]\n",
    "    return (combinations(a[1:], num) + \n",
    "        [(a[0], *b) for b in combinations(a[1:], num-1)])\n",
    "    \n",
    "combinations([1,2,3,4,5,6,7,8], 4)"
   ]
  },
  {
   "cell_type": "markdown",
   "metadata": {},
   "source": [
    "2つのリスト a と b の差分を表現する方法を考えよう。"
   ]
  },
  {
   "cell_type": "code",
   "execution_count": 62,
   "metadata": {},
   "outputs": [],
   "source": [
    "a = [1,2,3,4,5,6,7,8]\n",
    "b = [1,4,6,7]\n",
    "def setminus(a, b):\n",
    "    return [i for i in a if not(i in b)]\n",
    "\n"
   ]
  },
  {
   "cell_type": "markdown",
   "metadata": {},
   "source": [
    "二つのリスト b, c について、和が等しく、2乗和も等しいものだけを抽出する。"
   ]
  },
  {
   "cell_type": "code",
   "execution_count": 63,
   "metadata": {},
   "outputs": [
    {
     "name": "stdout",
     "output_type": "stream",
     "text": [
      "(2, 3, 5, 8)\n",
      "(1, 4, 6, 7)\n"
     ]
    }
   ],
   "source": [
    "for b in divisions([1,2,3,4,5,6,7,8], 4):\n",
    "    c = setminus([1,2,3,4,5,6,7,8], b)\n",
    "    if (sum(b) == sum(c)) and (sum([i*i for i in b]) == sum([i*i for i in c])):\n",
    "        print(b)\n"
   ]
  },
  {
   "cell_type": "code",
   "execution_count": 64,
   "metadata": {},
   "outputs": [],
   "source": [
    "a,b = (1,2)"
   ]
  },
  {
   "cell_type": "code",
   "execution_count": 90,
   "metadata": {},
   "outputs": [],
   "source": [
    "def ThueMorse(n):\n",
    "    if (n==1):\n",
    "        return ([1])\n",
    "    prev=ThueMorse(n-1)\n",
    "    inv = setminus(range(1,2**(n-1)+1), prev)\n",
    "    return (prev+[i + 2**(n-1) for i in  inv])"
   ]
  },
  {
   "cell_type": "code",
   "execution_count": 91,
   "metadata": {},
   "outputs": [
    {
     "data": {
      "text/plain": [
       "[1, 4, 6, 7, 10, 11, 13, 16]"
      ]
     },
     "execution_count": 91,
     "metadata": {},
     "output_type": "execute_result"
    }
   ],
   "source": [
    "ThueMorse(4)"
   ]
  },
  {
   "cell_type": "code",
   "execution_count": 98,
   "metadata": {},
   "outputs": [
    {
     "data": {
      "text/plain": [
       "True"
      ]
     },
     "execution_count": 98,
     "metadata": {},
     "output_type": "execute_result"
    }
   ],
   "source": [
    "def CheckProuhetTarryEscott(n):\n",
    "    b = ThueMorse(n)\n",
    "    c = setminus(range(1, 2**n+1), b)\n",
    "#    print(b, c)\n",
    "    for m in range(1,n):\n",
    "        if(sum([i**m for i in b]) != sum([i**m for i in c])):\n",
    "            return False\n",
    "    return True\n",
    "\n",
    "CheckProuhetTarryEscott(15)\n",
    "\n",
    "    "
   ]
  },
  {
   "cell_type": "code",
   "execution_count": null,
   "metadata": {},
   "outputs": [],
   "source": []
  }
 ],
 "metadata": {
  "kernelspec": {
   "display_name": "Python 3",
   "language": "python",
   "name": "python3"
  },
  "language_info": {
   "codemirror_mode": {
    "name": "ipython",
    "version": 3
   },
   "file_extension": ".py",
   "mimetype": "text/x-python",
   "name": "python",
   "nbconvert_exporter": "python",
   "pygments_lexer": "ipython3",
   "version": "3.6.4"
  }
 },
 "nbformat": 4,
 "nbformat_minor": 2
}
